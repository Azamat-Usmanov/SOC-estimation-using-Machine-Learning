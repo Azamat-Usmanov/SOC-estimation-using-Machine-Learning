{
 "cells": [
  {
   "cell_type": "code",
   "execution_count": 1,
   "metadata": {},
   "outputs": [],
   "source": [
    "import os\n",
    "import scipy.io\n",
    "import pandas as pd\n",
    "import numpy as np\n",
    "\n",
    "data_path = '../../datasets/Panasonic_dataset'"
   ]
  },
  {
   "cell_type": "code",
   "execution_count": 2,
   "metadata": {},
   "outputs": [],
   "source": [
    "def poptime(row):\n",
    "   return row[0][0]\n",
    "\n",
    "def convert_mat2csv(mat_file):\n",
    "    mat_columns = ['TimeStamp', 'Voltage', 'Current', 'Ah', 'Wh', 'Power', 'Battery_Temp_degC', 'Time', 'Chamber_Temp_degC']\n",
    "    mat_load = scipy.io.loadmat(mat_file)\n",
    "    mat = mat_load['meas']\n",
    "    # print(mat.dtype)\n",
    "    data = []\n",
    "    for column in mat_columns:\n",
    "        df = pd.DataFrame(mat[column][0,0])\n",
    "        df.rename(columns={0:column}, inplace=True)\n",
    "        data.append(df)\n",
    "    df = pd.concat(data, axis=1) \n",
    "    df['TimeStamp'] = df.apply(poptime, axis=1)\n",
    "    df.set_index('TimeStamp', inplace=True)\n",
    "    df.to_csv(os.path.splitext(mat_file)[0]+'.csv')"
   ]
  },
  {
   "cell_type": "code",
   "execution_count": 4,
   "metadata": {},
   "outputs": [
    {
     "name": "stdout",
     "output_type": "stream",
     "text": [
      "../../datasets/Panasonic_dataset/Panasonic_data/0degC/06-01-17_10.36 0degC_NN_Pan18650PF.mat\n"
     ]
    },
    {
     "name": "stderr",
     "output_type": "stream",
     "text": [
      "/var/folders/6g/_8jwr6410mj3v82r2qt782v40000gn/T/ipykernel_40767/3262518337.py:2: FutureWarning: Series.__getitem__ treating keys as positions is deprecated. In a future version, integer keys will always be treated as labels (consistent with DataFrame behavior). To access a value by position, use `ser.iloc[pos]`\n",
      "  return row[0][0]\n"
     ]
    },
    {
     "name": "stdout",
     "output_type": "stream",
     "text": [
      "../../datasets/Panasonic_dataset/Panasonic_data/0degC/05-30-17_20.16 0degC_Cycle_2_Pan18650PF.mat\n"
     ]
    },
    {
     "name": "stderr",
     "output_type": "stream",
     "text": [
      "/var/folders/6g/_8jwr6410mj3v82r2qt782v40000gn/T/ipykernel_40767/3262518337.py:2: FutureWarning: Series.__getitem__ treating keys as positions is deprecated. In a future version, integer keys will always be treated as labels (consistent with DataFrame behavior). To access a value by position, use `ser.iloc[pos]`\n",
      "  return row[0][0]\n"
     ]
    },
    {
     "name": "stdout",
     "output_type": "stream",
     "text": [
      "../../datasets/Panasonic_dataset/Panasonic_data/0degC/06-01-17_10.36 0degC_LA92_NN_Pan18650PF.mat\n"
     ]
    },
    {
     "name": "stderr",
     "output_type": "stream",
     "text": [
      "/var/folders/6g/_8jwr6410mj3v82r2qt782v40000gn/T/ipykernel_40767/3262518337.py:2: FutureWarning: Series.__getitem__ treating keys as positions is deprecated. In a future version, integer keys will always be treated as labels (consistent with DataFrame behavior). To access a value by position, use `ser.iloc[pos]`\n",
      "  return row[0][0]\n"
     ]
    },
    {
     "name": "stdout",
     "output_type": "stream",
     "text": [
      "../../datasets/Panasonic_dataset/Panasonic_data/0degC/05-30-17_12.56 0degC_Cycle_1_Pan18650PF.mat\n"
     ]
    },
    {
     "name": "stderr",
     "output_type": "stream",
     "text": [
      "/var/folders/6g/_8jwr6410mj3v82r2qt782v40000gn/T/ipykernel_40767/3262518337.py:2: FutureWarning: Series.__getitem__ treating keys as positions is deprecated. In a future version, integer keys will always be treated as labels (consistent with DataFrame behavior). To access a value by position, use `ser.iloc[pos]`\n",
      "  return row[0][0]\n"
     ]
    },
    {
     "name": "stdout",
     "output_type": "stream",
     "text": [
      "../../datasets/Panasonic_dataset/Panasonic_data/0degC/06-02-17_17.14 0degC_UDDS_Pan18650PF.mat\n"
     ]
    },
    {
     "name": "stderr",
     "output_type": "stream",
     "text": [
      "/var/folders/6g/_8jwr6410mj3v82r2qt782v40000gn/T/ipykernel_40767/3262518337.py:2: FutureWarning: Series.__getitem__ treating keys as positions is deprecated. In a future version, integer keys will always be treated as labels (consistent with DataFrame behavior). To access a value by position, use `ser.iloc[pos]`\n",
      "  return row[0][0]\n"
     ]
    },
    {
     "name": "stdout",
     "output_type": "stream",
     "text": [
      "../../datasets/Panasonic_dataset/Panasonic_data/0degC/06-01-17_15.36 0degC_Cycle_3_Pan18650PF.mat\n"
     ]
    },
    {
     "name": "stderr",
     "output_type": "stream",
     "text": [
      "/var/folders/6g/_8jwr6410mj3v82r2qt782v40000gn/T/ipykernel_40767/3262518337.py:2: FutureWarning: Series.__getitem__ treating keys as positions is deprecated. In a future version, integer keys will always be treated as labels (consistent with DataFrame behavior). To access a value by position, use `ser.iloc[pos]`\n",
      "  return row[0][0]\n"
     ]
    },
    {
     "name": "stdout",
     "output_type": "stream",
     "text": [
      "../../datasets/Panasonic_dataset/Panasonic_data/0degC/06-01-17_10.36 0degC_LA92_Pan18650PF.mat\n"
     ]
    },
    {
     "name": "stderr",
     "output_type": "stream",
     "text": [
      "/var/folders/6g/_8jwr6410mj3v82r2qt782v40000gn/T/ipykernel_40767/3262518337.py:2: FutureWarning: Series.__getitem__ treating keys as positions is deprecated. In a future version, integer keys will always be treated as labels (consistent with DataFrame behavior). To access a value by position, use `ser.iloc[pos]`\n",
      "  return row[0][0]\n"
     ]
    },
    {
     "name": "stdout",
     "output_type": "stream",
     "text": [
      "../../datasets/Panasonic_dataset/Panasonic_data/0degC/06-01-17_22.03 0degC_Cycle_4_Pan18650PF.mat\n"
     ]
    },
    {
     "name": "stderr",
     "output_type": "stream",
     "text": [
      "/var/folders/6g/_8jwr6410mj3v82r2qt782v40000gn/T/ipykernel_40767/3262518337.py:2: FutureWarning: Series.__getitem__ treating keys as positions is deprecated. In a future version, integer keys will always be treated as labels (consistent with DataFrame behavior). To access a value by position, use `ser.iloc[pos]`\n",
      "  return row[0][0]\n"
     ]
    },
    {
     "name": "stdout",
     "output_type": "stream",
     "text": [
      "../../datasets/Panasonic_dataset/Panasonic_data/0degC/06-02-17_10.43 0degC_HWFET_Pan18650PF.mat\n"
     ]
    },
    {
     "name": "stderr",
     "output_type": "stream",
     "text": [
      "/var/folders/6g/_8jwr6410mj3v82r2qt782v40000gn/T/ipykernel_40767/3262518337.py:2: FutureWarning: Series.__getitem__ treating keys as positions is deprecated. In a future version, integer keys will always be treated as labels (consistent with DataFrame behavior). To access a value by position, use `ser.iloc[pos]`\n",
      "  return row[0][0]\n"
     ]
    },
    {
     "name": "stdout",
     "output_type": "stream",
     "text": [
      "../../datasets/Panasonic_dataset/Panasonic_data/0degC/06-02-17_04.58 0degC_US06_Pan18650PF.mat\n"
     ]
    },
    {
     "name": "stderr",
     "output_type": "stream",
     "text": [
      "/var/folders/6g/_8jwr6410mj3v82r2qt782v40000gn/T/ipykernel_40767/3262518337.py:2: FutureWarning: Series.__getitem__ treating keys as positions is deprecated. In a future version, integer keys will always be treated as labels (consistent with DataFrame behavior). To access a value by position, use `ser.iloc[pos]`\n",
      "  return row[0][0]\n"
     ]
    },
    {
     "name": "stdout",
     "output_type": "stream",
     "text": [
      "../../datasets/Panasonic_dataset/Panasonic_data/n20degC/06-23-17_23.35 n20degC_HWFET_UDDS_LA92_NN_Pan18650PF.mat\n"
     ]
    },
    {
     "name": "stderr",
     "output_type": "stream",
     "text": [
      "/var/folders/6g/_8jwr6410mj3v82r2qt782v40000gn/T/ipykernel_40767/3262518337.py:2: FutureWarning: Series.__getitem__ treating keys as positions is deprecated. In a future version, integer keys will always be treated as labels (consistent with DataFrame behavior). To access a value by position, use `ser.iloc[pos]`\n",
      "  return row[0][0]\n"
     ]
    },
    {
     "name": "stdout",
     "output_type": "stream",
     "text": [
      "../../datasets/Panasonic_dataset/Panasonic_data/n20degC/06-24-17_11.58 n20degC_Cycle_2_Pan18650PF.mat\n"
     ]
    },
    {
     "name": "stderr",
     "output_type": "stream",
     "text": [
      "/var/folders/6g/_8jwr6410mj3v82r2qt782v40000gn/T/ipykernel_40767/3262518337.py:2: FutureWarning: Series.__getitem__ treating keys as positions is deprecated. In a future version, integer keys will always be treated as labels (consistent with DataFrame behavior). To access a value by position, use `ser.iloc[pos]`\n",
      "  return row[0][0]\n"
     ]
    },
    {
     "name": "stdout",
     "output_type": "stream",
     "text": [
      "../../datasets/Panasonic_dataset/Panasonic_data/n20degC/06-24-17_19.29 n20degC_Cycle_3_Pan18650PF.mat\n"
     ]
    },
    {
     "name": "stderr",
     "output_type": "stream",
     "text": [
      "/var/folders/6g/_8jwr6410mj3v82r2qt782v40000gn/T/ipykernel_40767/3262518337.py:2: FutureWarning: Series.__getitem__ treating keys as positions is deprecated. In a future version, integer keys will always be treated as labels (consistent with DataFrame behavior). To access a value by position, use `ser.iloc[pos]`\n",
      "  return row[0][0]\n"
     ]
    },
    {
     "name": "stdout",
     "output_type": "stream",
     "text": [
      "../../datasets/Panasonic_dataset/Panasonic_data/n20degC/06-24-17_04.29 n20degC_Cycle_1_Pan18650PF.mat\n"
     ]
    },
    {
     "name": "stderr",
     "output_type": "stream",
     "text": [
      "/var/folders/6g/_8jwr6410mj3v82r2qt782v40000gn/T/ipykernel_40767/3262518337.py:2: FutureWarning: Series.__getitem__ treating keys as positions is deprecated. In a future version, integer keys will always be treated as labels (consistent with DataFrame behavior). To access a value by position, use `ser.iloc[pos]`\n",
      "  return row[0][0]\n"
     ]
    },
    {
     "name": "stdout",
     "output_type": "stream",
     "text": [
      "../../datasets/Panasonic_dataset/Panasonic_data/n20degC/06-23-17_23.35 n20degC_HWFET_Pan18650PF.mat\n"
     ]
    },
    {
     "name": "stderr",
     "output_type": "stream",
     "text": [
      "/var/folders/6g/_8jwr6410mj3v82r2qt782v40000gn/T/ipykernel_40767/3262518337.py:2: FutureWarning: Series.__getitem__ treating keys as positions is deprecated. In a future version, integer keys will always be treated as labels (consistent with DataFrame behavior). To access a value by position, use `ser.iloc[pos]`\n",
      "  return row[0][0]\n"
     ]
    },
    {
     "name": "stdout",
     "output_type": "stream",
     "text": [
      "../../datasets/Panasonic_dataset/Panasonic_data/n20degC/06-25-17_03.01 n20degC_Cycle_4_Pan18650PF.mat\n"
     ]
    },
    {
     "name": "stderr",
     "output_type": "stream",
     "text": [
      "/var/folders/6g/_8jwr6410mj3v82r2qt782v40000gn/T/ipykernel_40767/3262518337.py:2: FutureWarning: Series.__getitem__ treating keys as positions is deprecated. In a future version, integer keys will always be treated as labels (consistent with DataFrame behavior). To access a value by position, use `ser.iloc[pos]`\n",
      "  return row[0][0]\n"
     ]
    },
    {
     "name": "stdout",
     "output_type": "stream",
     "text": [
      "../../datasets/Panasonic_dataset/Panasonic_data/n20degC/06-23-17_23.35 n20degC_NN_Pan18650PF.mat\n"
     ]
    },
    {
     "name": "stderr",
     "output_type": "stream",
     "text": [
      "/var/folders/6g/_8jwr6410mj3v82r2qt782v40000gn/T/ipykernel_40767/3262518337.py:2: FutureWarning: Series.__getitem__ treating keys as positions is deprecated. In a future version, integer keys will always be treated as labels (consistent with DataFrame behavior). To access a value by position, use `ser.iloc[pos]`\n",
      "  return row[0][0]\n"
     ]
    },
    {
     "name": "stdout",
     "output_type": "stream",
     "text": [
      "../../datasets/Panasonic_dataset/Panasonic_data/n20degC/06-23-17_23.35 n20degC_LA92_Pan18650PF.mat\n"
     ]
    },
    {
     "name": "stderr",
     "output_type": "stream",
     "text": [
      "/var/folders/6g/_8jwr6410mj3v82r2qt782v40000gn/T/ipykernel_40767/3262518337.py:2: FutureWarning: Series.__getitem__ treating keys as positions is deprecated. In a future version, integer keys will always be treated as labels (consistent with DataFrame behavior). To access a value by position, use `ser.iloc[pos]`\n",
      "  return row[0][0]\n"
     ]
    },
    {
     "name": "stdout",
     "output_type": "stream",
     "text": [
      "../../datasets/Panasonic_dataset/Panasonic_data/n20degC/06-23-17_23.35 n20degC_UDDS_Pan18650PF.mat\n"
     ]
    },
    {
     "name": "stderr",
     "output_type": "stream",
     "text": [
      "/var/folders/6g/_8jwr6410mj3v82r2qt782v40000gn/T/ipykernel_40767/3262518337.py:2: FutureWarning: Series.__getitem__ treating keys as positions is deprecated. In a future version, integer keys will always be treated as labels (consistent with DataFrame behavior). To access a value by position, use `ser.iloc[pos]`\n",
      "  return row[0][0]\n"
     ]
    },
    {
     "name": "stdout",
     "output_type": "stream",
     "text": [
      "../../datasets/Panasonic_dataset/Panasonic_data/n20degC/06-25-17_10.31 n20degC_US06_Pan18650PF.mat\n"
     ]
    },
    {
     "name": "stderr",
     "output_type": "stream",
     "text": [
      "/var/folders/6g/_8jwr6410mj3v82r2qt782v40000gn/T/ipykernel_40767/3262518337.py:2: FutureWarning: Series.__getitem__ treating keys as positions is deprecated. In a future version, integer keys will always be treated as labels (consistent with DataFrame behavior). To access a value by position, use `ser.iloc[pos]`\n",
      "  return row[0][0]\n"
     ]
    },
    {
     "name": "stdout",
     "output_type": "stream",
     "text": [
      "../../datasets/Panasonic_dataset/Panasonic_data/25degC/03-20-17_05.56 25degC_HWFTa_Pan18650PF.mat\n"
     ]
    },
    {
     "name": "stderr",
     "output_type": "stream",
     "text": [
      "/var/folders/6g/_8jwr6410mj3v82r2qt782v40000gn/T/ipykernel_40767/3262518337.py:2: FutureWarning: Series.__getitem__ treating keys as positions is deprecated. In a future version, integer keys will always be treated as labels (consistent with DataFrame behavior). To access a value by position, use `ser.iloc[pos]`\n",
      "  return row[0][0]\n"
     ]
    },
    {
     "name": "stdout",
     "output_type": "stream",
     "text": [
      "../../datasets/Panasonic_dataset/Panasonic_data/25degC/03-19-17_14.31 25degC_Cycle_4_Pan18650PF.mat\n"
     ]
    },
    {
     "name": "stderr",
     "output_type": "stream",
     "text": [
      "/var/folders/6g/_8jwr6410mj3v82r2qt782v40000gn/T/ipykernel_40767/3262518337.py:2: FutureWarning: Series.__getitem__ treating keys as positions is deprecated. In a future version, integer keys will always be treated as labels (consistent with DataFrame behavior). To access a value by position, use `ser.iloc[pos]`\n",
      "  return row[0][0]\n"
     ]
    },
    {
     "name": "stdout",
     "output_type": "stream",
     "text": [
      "../../datasets/Panasonic_dataset/Panasonic_data/25degC/03-21-17_16.27 25degC_NN_Pan18650PF.mat\n"
     ]
    },
    {
     "name": "stderr",
     "output_type": "stream",
     "text": [
      "/var/folders/6g/_8jwr6410mj3v82r2qt782v40000gn/T/ipykernel_40767/3262518337.py:2: FutureWarning: Series.__getitem__ treating keys as positions is deprecated. In a future version, integer keys will always be treated as labels (consistent with DataFrame behavior). To access a value by position, use `ser.iloc[pos]`\n",
      "  return row[0][0]\n"
     ]
    },
    {
     "name": "stdout",
     "output_type": "stream",
     "text": [
      "../../datasets/Panasonic_dataset/Panasonic_data/25degC/03-21-17_00.29 25degC_UDDS_Pan18650PF.mat\n"
     ]
    },
    {
     "name": "stderr",
     "output_type": "stream",
     "text": [
      "/var/folders/6g/_8jwr6410mj3v82r2qt782v40000gn/T/ipykernel_40767/3262518337.py:2: FutureWarning: Series.__getitem__ treating keys as positions is deprecated. In a future version, integer keys will always be treated as labels (consistent with DataFrame behavior). To access a value by position, use `ser.iloc[pos]`\n",
      "  return row[0][0]\n"
     ]
    },
    {
     "name": "stdout",
     "output_type": "stream",
     "text": [
      "../../datasets/Panasonic_dataset/Panasonic_data/25degC/03-20-17_19.27 25degC_HWFTb_Pan18650PF.mat\n"
     ]
    },
    {
     "name": "stderr",
     "output_type": "stream",
     "text": [
      "/var/folders/6g/_8jwr6410mj3v82r2qt782v40000gn/T/ipykernel_40767/3262518337.py:2: FutureWarning: Series.__getitem__ treating keys as positions is deprecated. In a future version, integer keys will always be treated as labels (consistent with DataFrame behavior). To access a value by position, use `ser.iloc[pos]`\n",
      "  return row[0][0]\n"
     ]
    },
    {
     "name": "stdout",
     "output_type": "stream",
     "text": [
      "../../datasets/Panasonic_dataset/Panasonic_data/25degC/03-21-17_09.38 25degC_LA92_Pan18650PF.mat\n"
     ]
    },
    {
     "name": "stderr",
     "output_type": "stream",
     "text": [
      "/var/folders/6g/_8jwr6410mj3v82r2qt782v40000gn/T/ipykernel_40767/3262518337.py:2: FutureWarning: Series.__getitem__ treating keys as positions is deprecated. In a future version, integer keys will always be treated as labels (consistent with DataFrame behavior). To access a value by position, use `ser.iloc[pos]`\n",
      "  return row[0][0]\n"
     ]
    },
    {
     "name": "stdout",
     "output_type": "stream",
     "text": [
      "../../datasets/Panasonic_dataset/Panasonic_data/25degC/03-19-17_09.07 25degC_Cycle_3_Pan18650PF.mat\n"
     ]
    },
    {
     "name": "stderr",
     "output_type": "stream",
     "text": [
      "/var/folders/6g/_8jwr6410mj3v82r2qt782v40000gn/T/ipykernel_40767/3262518337.py:2: FutureWarning: Series.__getitem__ treating keys as positions is deprecated. In a future version, integer keys will always be treated as labels (consistent with DataFrame behavior). To access a value by position, use `ser.iloc[pos]`\n",
      "  return row[0][0]\n"
     ]
    },
    {
     "name": "stdout",
     "output_type": "stream",
     "text": [
      "../../datasets/Panasonic_dataset/Panasonic_data/25degC/03-19-17_03.25 25degC_Cycle_2_Pan18650PF.mat\n"
     ]
    },
    {
     "name": "stderr",
     "output_type": "stream",
     "text": [
      "/var/folders/6g/_8jwr6410mj3v82r2qt782v40000gn/T/ipykernel_40767/3262518337.py:2: FutureWarning: Series.__getitem__ treating keys as positions is deprecated. In a future version, integer keys will always be treated as labels (consistent with DataFrame behavior). To access a value by position, use `ser.iloc[pos]`\n",
      "  return row[0][0]\n"
     ]
    },
    {
     "name": "stdout",
     "output_type": "stream",
     "text": [
      "../../datasets/Panasonic_dataset/Panasonic_data/25degC/03-20-17_01.43 25degC_US06_Pan18650PF.mat\n"
     ]
    },
    {
     "name": "stderr",
     "output_type": "stream",
     "text": [
      "/var/folders/6g/_8jwr6410mj3v82r2qt782v40000gn/T/ipykernel_40767/3262518337.py:2: FutureWarning: Series.__getitem__ treating keys as positions is deprecated. In a future version, integer keys will always be treated as labels (consistent with DataFrame behavior). To access a value by position, use `ser.iloc[pos]`\n",
      "  return row[0][0]\n"
     ]
    },
    {
     "name": "stdout",
     "output_type": "stream",
     "text": [
      "../../datasets/Panasonic_dataset/Panasonic_data/25degC/05-08-17_13.26 C20 OCV Test_C20_25dC.mat\n",
      "../../datasets/Panasonic_dataset/Panasonic_data/25degC/03-18-17_02.17 25degC_Cycle_1_Pan18650PF.mat\n"
     ]
    },
    {
     "name": "stderr",
     "output_type": "stream",
     "text": [
      "/var/folders/6g/_8jwr6410mj3v82r2qt782v40000gn/T/ipykernel_40767/3262518337.py:2: FutureWarning: Series.__getitem__ treating keys as positions is deprecated. In a future version, integer keys will always be treated as labels (consistent with DataFrame behavior). To access a value by position, use `ser.iloc[pos]`\n",
      "  return row[0][0]\n",
      "/var/folders/6g/_8jwr6410mj3v82r2qt782v40000gn/T/ipykernel_40767/3262518337.py:2: FutureWarning: Series.__getitem__ treating keys as positions is deprecated. In a future version, integer keys will always be treated as labels (consistent with DataFrame behavior). To access a value by position, use `ser.iloc[pos]`\n",
      "  return row[0][0]\n"
     ]
    },
    {
     "name": "stdout",
     "output_type": "stream",
     "text": [
      "../../datasets/Panasonic_dataset/Panasonic_data/10degC/03-28-17_18.18 10degC_Cycle_2_Pan18650PF.mat\n"
     ]
    },
    {
     "name": "stderr",
     "output_type": "stream",
     "text": [
      "/var/folders/6g/_8jwr6410mj3v82r2qt782v40000gn/T/ipykernel_40767/3262518337.py:2: FutureWarning: Series.__getitem__ treating keys as positions is deprecated. In a future version, integer keys will always be treated as labels (consistent with DataFrame behavior). To access a value by position, use `ser.iloc[pos]`\n",
      "  return row[0][0]\n"
     ]
    },
    {
     "name": "stdout",
     "output_type": "stream",
     "text": [
      "../../datasets/Panasonic_dataset/Panasonic_data/10degC/03-27-17_09.06 10degC_UDDS_Pan18650PF.mat\n"
     ]
    },
    {
     "name": "stderr",
     "output_type": "stream",
     "text": [
      "/var/folders/6g/_8jwr6410mj3v82r2qt782v40000gn/T/ipykernel_40767/3262518337.py:2: FutureWarning: Series.__getitem__ treating keys as positions is deprecated. In a future version, integer keys will always be treated as labels (consistent with DataFrame behavior). To access a value by position, use `ser.iloc[pos]`\n",
      "  return row[0][0]\n"
     ]
    },
    {
     "name": "stdout",
     "output_type": "stream",
     "text": [
      "../../datasets/Panasonic_dataset/Panasonic_data/10degC/03-27-17_09.06 10degC_LA92_Pan18650PF.mat\n"
     ]
    },
    {
     "name": "stderr",
     "output_type": "stream",
     "text": [
      "/var/folders/6g/_8jwr6410mj3v82r2qt782v40000gn/T/ipykernel_40767/3262518337.py:2: FutureWarning: Series.__getitem__ treating keys as positions is deprecated. In a future version, integer keys will always be treated as labels (consistent with DataFrame behavior). To access a value by position, use `ser.iloc[pos]`\n",
      "  return row[0][0]\n"
     ]
    },
    {
     "name": "stdout",
     "output_type": "stream",
     "text": [
      "../../datasets/Panasonic_dataset/Panasonic_data/10degC/03-27-17_09.06 10degC_US06_HWFET_UDDS_LA92_NN_Pan18650PF.mat\n"
     ]
    },
    {
     "name": "stderr",
     "output_type": "stream",
     "text": [
      "/var/folders/6g/_8jwr6410mj3v82r2qt782v40000gn/T/ipykernel_40767/3262518337.py:2: FutureWarning: Series.__getitem__ treating keys as positions is deprecated. In a future version, integer keys will always be treated as labels (consistent with DataFrame behavior). To access a value by position, use `ser.iloc[pos]`\n",
      "  return row[0][0]\n"
     ]
    },
    {
     "name": "stdout",
     "output_type": "stream",
     "text": [
      "../../datasets/Panasonic_dataset/Panasonic_data/10degC/04-05-17_17.04 10degC_Cycle_3_Pan18650PF.mat\n"
     ]
    },
    {
     "name": "stderr",
     "output_type": "stream",
     "text": [
      "/var/folders/6g/_8jwr6410mj3v82r2qt782v40000gn/T/ipykernel_40767/3262518337.py:2: FutureWarning: Series.__getitem__ treating keys as positions is deprecated. In a future version, integer keys will always be treated as labels (consistent with DataFrame behavior). To access a value by position, use `ser.iloc[pos]`\n",
      "  return row[0][0]\n"
     ]
    },
    {
     "name": "stdout",
     "output_type": "stream",
     "text": [
      "../../datasets/Panasonic_dataset/Panasonic_data/10degC/03-28-17_12.51 10degC_Cycle_1_Pan18650PF.mat\n"
     ]
    },
    {
     "name": "stderr",
     "output_type": "stream",
     "text": [
      "/var/folders/6g/_8jwr6410mj3v82r2qt782v40000gn/T/ipykernel_40767/3262518337.py:2: FutureWarning: Series.__getitem__ treating keys as positions is deprecated. In a future version, integer keys will always be treated as labels (consistent with DataFrame behavior). To access a value by position, use `ser.iloc[pos]`\n",
      "  return row[0][0]\n"
     ]
    },
    {
     "name": "stdout",
     "output_type": "stream",
     "text": [
      "../../datasets/Panasonic_dataset/Panasonic_data/10degC/04-05-17_22.50 10degC_Cycle_4_Pan18650PF.mat\n"
     ]
    },
    {
     "name": "stderr",
     "output_type": "stream",
     "text": [
      "/var/folders/6g/_8jwr6410mj3v82r2qt782v40000gn/T/ipykernel_40767/3262518337.py:2: FutureWarning: Series.__getitem__ treating keys as positions is deprecated. In a future version, integer keys will always be treated as labels (consistent with DataFrame behavior). To access a value by position, use `ser.iloc[pos]`\n",
      "  return row[0][0]\n"
     ]
    },
    {
     "name": "stdout",
     "output_type": "stream",
     "text": [
      "../../datasets/Panasonic_dataset/Panasonic_data/10degC/03-27-17_09.06 10degC_HWFET_Pan18650PF.mat\n"
     ]
    },
    {
     "name": "stderr",
     "output_type": "stream",
     "text": [
      "/var/folders/6g/_8jwr6410mj3v82r2qt782v40000gn/T/ipykernel_40767/3262518337.py:2: FutureWarning: Series.__getitem__ treating keys as positions is deprecated. In a future version, integer keys will always be treated as labels (consistent with DataFrame behavior). To access a value by position, use `ser.iloc[pos]`\n",
      "  return row[0][0]\n"
     ]
    },
    {
     "name": "stdout",
     "output_type": "stream",
     "text": [
      "../../datasets/Panasonic_dataset/Panasonic_data/10degC/03-27-17_09.06 10degC_US06_Pan18650PF.mat\n"
     ]
    },
    {
     "name": "stderr",
     "output_type": "stream",
     "text": [
      "/var/folders/6g/_8jwr6410mj3v82r2qt782v40000gn/T/ipykernel_40767/3262518337.py:2: FutureWarning: Series.__getitem__ treating keys as positions is deprecated. In a future version, integer keys will always be treated as labels (consistent with DataFrame behavior). To access a value by position, use `ser.iloc[pos]`\n",
      "  return row[0][0]\n"
     ]
    },
    {
     "name": "stdout",
     "output_type": "stream",
     "text": [
      "../../datasets/Panasonic_dataset/Panasonic_data/10degC/03-27-17_09.06 10degC_NN_Pan18650PF.mat\n"
     ]
    },
    {
     "name": "stderr",
     "output_type": "stream",
     "text": [
      "/var/folders/6g/_8jwr6410mj3v82r2qt782v40000gn/T/ipykernel_40767/3262518337.py:2: FutureWarning: Series.__getitem__ treating keys as positions is deprecated. In a future version, integer keys will always be treated as labels (consistent with DataFrame behavior). To access a value by position, use `ser.iloc[pos]`\n",
      "  return row[0][0]\n"
     ]
    },
    {
     "name": "stdout",
     "output_type": "stream",
     "text": [
      "../../datasets/Panasonic_dataset/Panasonic_data/n10degC/06-10-17_18.35 n10degC_Cycle_2_Pan18650PF.mat\n"
     ]
    },
    {
     "name": "stderr",
     "output_type": "stream",
     "text": [
      "/var/folders/6g/_8jwr6410mj3v82r2qt782v40000gn/T/ipykernel_40767/3262518337.py:2: FutureWarning: Series.__getitem__ treating keys as positions is deprecated. In a future version, integer keys will always be treated as labels (consistent with DataFrame behavior). To access a value by position, use `ser.iloc[pos]`\n",
      "  return row[0][0]\n"
     ]
    },
    {
     "name": "stdout",
     "output_type": "stream",
     "text": [
      "../../datasets/Panasonic_dataset/Panasonic_data/n10degC/06-10-17_11.25 n10degC_Cycle_1_Pan18650PF.mat\n"
     ]
    },
    {
     "name": "stderr",
     "output_type": "stream",
     "text": [
      "/var/folders/6g/_8jwr6410mj3v82r2qt782v40000gn/T/ipykernel_40767/3262518337.py:2: FutureWarning: Series.__getitem__ treating keys as positions is deprecated. In a future version, integer keys will always be treated as labels (consistent with DataFrame behavior). To access a value by position, use `ser.iloc[pos]`\n",
      "  return row[0][0]\n"
     ]
    },
    {
     "name": "stdout",
     "output_type": "stream",
     "text": [
      "../../datasets/Panasonic_dataset/Panasonic_data/n10degC/06-07-17_08.39 n10degC_US06_HWFET_UDDS_LA92_Pan18650PF.mat\n"
     ]
    },
    {
     "name": "stderr",
     "output_type": "stream",
     "text": [
      "/var/folders/6g/_8jwr6410mj3v82r2qt782v40000gn/T/ipykernel_40767/3262518337.py:2: FutureWarning: Series.__getitem__ treating keys as positions is deprecated. In a future version, integer keys will always be treated as labels (consistent with DataFrame behavior). To access a value by position, use `ser.iloc[pos]`\n",
      "  return row[0][0]\n"
     ]
    },
    {
     "name": "stdout",
     "output_type": "stream",
     "text": [
      "../../datasets/Panasonic_dataset/Panasonic_data/n10degC/06-07-17_08.39 n10degC_US06_Pan18650PF.mat\n"
     ]
    },
    {
     "name": "stderr",
     "output_type": "stream",
     "text": [
      "/var/folders/6g/_8jwr6410mj3v82r2qt782v40000gn/T/ipykernel_40767/3262518337.py:2: FutureWarning: Series.__getitem__ treating keys as positions is deprecated. In a future version, integer keys will always be treated as labels (consistent with DataFrame behavior). To access a value by position, use `ser.iloc[pos]`\n",
      "  return row[0][0]\n"
     ]
    },
    {
     "name": "stdout",
     "output_type": "stream",
     "text": [
      "../../datasets/Panasonic_dataset/Panasonic_data/n10degC/06-11-17_08.42 n10degC_Cycle_4_Pan18650PF.mat\n"
     ]
    },
    {
     "name": "stderr",
     "output_type": "stream",
     "text": [
      "/var/folders/6g/_8jwr6410mj3v82r2qt782v40000gn/T/ipykernel_40767/3262518337.py:2: FutureWarning: Series.__getitem__ treating keys as positions is deprecated. In a future version, integer keys will always be treated as labels (consistent with DataFrame behavior). To access a value by position, use `ser.iloc[pos]`\n",
      "  return row[0][0]\n"
     ]
    },
    {
     "name": "stdout",
     "output_type": "stream",
     "text": [
      "../../datasets/Panasonic_dataset/Panasonic_data/n10degC/06-07-17_08.39 n10degC_HWFET_Pan18650PF.mat\n"
     ]
    },
    {
     "name": "stderr",
     "output_type": "stream",
     "text": [
      "/var/folders/6g/_8jwr6410mj3v82r2qt782v40000gn/T/ipykernel_40767/3262518337.py:2: FutureWarning: Series.__getitem__ treating keys as positions is deprecated. In a future version, integer keys will always be treated as labels (consistent with DataFrame behavior). To access a value by position, use `ser.iloc[pos]`\n",
      "  return row[0][0]\n"
     ]
    },
    {
     "name": "stdout",
     "output_type": "stream",
     "text": [
      "../../datasets/Panasonic_dataset/Panasonic_data/n10degC/06-07-17_08.39 n10degC_UDDS_Pan18650PF.mat\n"
     ]
    },
    {
     "name": "stderr",
     "output_type": "stream",
     "text": [
      "/var/folders/6g/_8jwr6410mj3v82r2qt782v40000gn/T/ipykernel_40767/3262518337.py:2: FutureWarning: Series.__getitem__ treating keys as positions is deprecated. In a future version, integer keys will always be treated as labels (consistent with DataFrame behavior). To access a value by position, use `ser.iloc[pos]`\n",
      "  return row[0][0]\n"
     ]
    },
    {
     "name": "stdout",
     "output_type": "stream",
     "text": [
      "../../datasets/Panasonic_dataset/Panasonic_data/n10degC/06-07-17_08.39 n10degC_LA92_Pan18650PF.mat\n"
     ]
    },
    {
     "name": "stderr",
     "output_type": "stream",
     "text": [
      "/var/folders/6g/_8jwr6410mj3v82r2qt782v40000gn/T/ipykernel_40767/3262518337.py:2: FutureWarning: Series.__getitem__ treating keys as positions is deprecated. In a future version, integer keys will always be treated as labels (consistent with DataFrame behavior). To access a value by position, use `ser.iloc[pos]`\n",
      "  return row[0][0]\n"
     ]
    },
    {
     "name": "stdout",
     "output_type": "stream",
     "text": [
      "../../datasets/Panasonic_dataset/Panasonic_data/n10degC/06-11-17_01.39 n10degC_Cycle_3_Pan18650PF.mat\n"
     ]
    },
    {
     "name": "stderr",
     "output_type": "stream",
     "text": [
      "/var/folders/6g/_8jwr6410mj3v82r2qt782v40000gn/T/ipykernel_40767/3262518337.py:2: FutureWarning: Series.__getitem__ treating keys as positions is deprecated. In a future version, integer keys will always be treated as labels (consistent with DataFrame behavior). To access a value by position, use `ser.iloc[pos]`\n",
      "  return row[0][0]\n"
     ]
    },
    {
     "name": "stdout",
     "output_type": "stream",
     "text": [
      "../../datasets/Panasonic_dataset/Panasonic_data/n10degC/06-14-17_13.12 n10degC_NN_Pan18650PF.mat\n"
     ]
    },
    {
     "name": "stderr",
     "output_type": "stream",
     "text": [
      "/var/folders/6g/_8jwr6410mj3v82r2qt782v40000gn/T/ipykernel_40767/3262518337.py:2: FutureWarning: Series.__getitem__ treating keys as positions is deprecated. In a future version, integer keys will always be treated as labels (consistent with DataFrame behavior). To access a value by position, use `ser.iloc[pos]`\n",
      "  return row[0][0]\n"
     ]
    },
    {
     "name": "stdout",
     "output_type": "stream",
     "text": [
      "51\n"
     ]
    }
   ],
   "source": [
    "# recursively get '.mat' files and convert them to csv\n",
    "# use cmd -> \"dir *.mat /s\" on the parent folder to get count of files and match with 'count'\n",
    "count = 0\n",
    "for folders in os.listdir(data_path):\n",
    "    level_1_d = os.path.join(data_path, folders)\n",
    "    sub_folders = os.listdir(level_1_d)           \n",
    "    for folder in sub_folders:\n",
    "        level_2_d = os.path.join(level_1_d, folder)\n",
    "        if os.path.isdir(level_2_d): \n",
    "            for file in os.listdir(level_2_d):\n",
    "                if file.endswith('.mat'):\n",
    "                    count = count + 1\n",
    "                    print(os.path.join(level_2_d, file))\n",
    "                    convert_mat2csv(os.path.join(level_2_d, file))\n",
    "        elif level_2_d.endswith('.mat'):\n",
    "            count = count + 1\n",
    "            print(level_2_d)\n",
    "            convert_mat2csv(level_2_d)\n",
    "print(count)"
   ]
  }
 ],
 "metadata": {
  "kernelspec": {
   "display_name": "Python 3",
   "language": "python",
   "name": "python3"
  },
  "language_info": {
   "codemirror_mode": {
    "name": "ipython",
    "version": 3
   },
   "file_extension": ".py",
   "mimetype": "text/x-python",
   "name": "python",
   "nbconvert_exporter": "python",
   "pygments_lexer": "ipython3",
   "version": "3.9.6"
  }
 },
 "nbformat": 4,
 "nbformat_minor": 2
}
