{
 "cells": [
  {
   "cell_type": "markdown",
   "metadata": {},
   "source": [
    "### Deep Neural Network for SOC Prediction with using LG 18650HG2 Li-ion Battery\n",
    "\n",
    "LG 18650HG2 Li-ion Battery DataSet - https://data.mendeley.com/datasets/cp3473x7xv/3"
   ]
  },
  {
   "cell_type": "code",
   "execution_count": 40,
   "metadata": {},
   "outputs": [],
   "source": [
    "import os\n",
    "import pandas as pd\n",
    "import numpy as np\n",
    "import torch\n",
    "import torch.nn as nn\n",
    "import torch.optim as optim\n",
    "from torch.utils.data import Dataset, DataLoader\n",
    "import matplotlib.pyplot as plt\n",
    "from sklearn.model_selection import train_test_split\n",
    "from sklearn.preprocessing import StandardScaler\n",
    "import optuna\n",
    "import time\n",
    "from optuna.visualization import plot_optimization_history\n",
    "from tqdm import tqdm\n",
    "from sklearn.metrics import mean_squared_error, mean_absolute_error"
   ]
  },
  {
   "cell_type": "code",
   "execution_count": 19,
   "metadata": {},
   "outputs": [],
   "source": [
    "PROCESSED_DATA_DIR = '../../datasets/LG_dataset/LG_HG2_processed'\n",
    "FEATURE_COLS = ['Voltage [V]', 'Current [A]', 'Temperature [degC]', 'Power [W]', 'Cumulative_Capacity_Ah']\n",
    "LABEL_COL = 'SOC [-]'\n",
    "BATCH_SIZE = 128\n",
    "device = torch.device(\"cuda:0\" if torch.cuda.is_available() else \"cpu\")"
   ]
  },
  {
   "cell_type": "code",
   "execution_count": 3,
   "metadata": {},
   "outputs": [],
   "source": [
    "# Function to load data\n",
    "def load_data(directory, temperatures):\n",
    "    frames = []    \n",
    "    for temp_folder in os.listdir(directory):\n",
    "        if temp_folder in temperatures:\n",
    "            temp_path = os.path.join(directory, temp_folder)\n",
    "            for file in os.listdir(temp_path):\n",
    "                if 'Charge' in file or 'Dis' in file:\n",
    "                    continue  # Skip constant charge and discharge files\n",
    "                if file.endswith('.csv'):\n",
    "                    df = pd.read_csv(os.path.join(temp_path, file))\n",
    "                    df['SourceFile'] = file\n",
    "\n",
    "                    # Calculate power\n",
    "                    df['Power [W]'] = df['Voltage [V]'] * df['Current [A]']\n",
    "                    \n",
    "                    frames.append(df)\n",
    "    return pd.concat(frames, ignore_index=True)"
   ]
  },
  {
   "cell_type": "code",
   "execution_count": 49,
   "metadata": {},
   "outputs": [],
   "source": [
    "# Create Dataset\n",
    "class BatteryDatasetDNN(Dataset):\n",
    "    def __init__(self, data_tensor, labels_tensor, filenames=None, times=None):\n",
    "        self.features = data_tensor\n",
    "        self.labels = labels_tensor\n",
    "        self.filenames = filenames \n",
    "        self.times = times \n",
    "\n",
    "    def __len__(self):\n",
    "        return len(self.features)\n",
    "\n",
    "    def __getitem__(self, idx):\n",
    "        feature = self.features[idx]\n",
    "        label = self.labels[idx]\n",
    "        filename = self.filenames[idx]\n",
    "        time = self.times[idx]  \n",
    "        return feature, label, filename, time\n",
    "    \n",
    "    def get_unique_filenames(self):\n",
    "        return set(self.filenames)\n",
    "    \n",
    "    def get_times(self):\n",
    "        return self.times"
   ]
  },
  {
   "cell_type": "code",
   "execution_count": 6,
   "metadata": {},
   "outputs": [],
   "source": [
    "# DNN Model\n",
    "class SoCDNN(nn.Module):\n",
    "    def __init__(self, input_size, hidden_size, num_layers, dropout = 0.1):\n",
    "        super(SoCDNN, self).__init__()\n",
    "\n",
    "        self.hidden_layers = nn.ModuleList()\n",
    "        self.batch_norm_layers = nn.ModuleList()\n",
    "\n",
    "        # First layer\n",
    "        self.hidden_layers.append(nn.Linear(input_size, hidden_size))\n",
    "        self.batch_norm_layers.append(nn.BatchNorm1d(hidden_size))\n",
    "\n",
    "        # Dynamically add hidden layers\n",
    "        for i in range(1, num_layers):\n",
    "            layer_size = hidden_size // (2 ** i)\n",
    "            self.hidden_layers.append(nn.Linear(hidden_size // (2 ** (i - 1)), layer_size))\n",
    "            self.batch_norm_layers.append(nn.BatchNorm1d(layer_size))\n",
    "\n",
    "        # Output layer\n",
    "        self.output_layer = nn.Linear(hidden_size // (2 ** (num_layers - 1)), 1)\n",
    "\n",
    "        # Activation and Dropout against Regularization\n",
    "        self.relu = nn.ReLU()\n",
    "        self.dropout = nn.Dropout(dropout)\n",
    "\n",
    "    def forward(self, x):\n",
    "        for hidden_layer, batch_norm_layer in zip(self.hidden_layers, self.batch_norm_layers):\n",
    "            x = self.relu(batch_norm_layer(hidden_layer(x)))\n",
    "            x = self.dropout(x)\n",
    "\n",
    "        x = self.output_layer(x)\n",
    "        return x\n"
   ]
  },
  {
   "cell_type": "code",
   "execution_count": 41,
   "metadata": {},
   "outputs": [],
   "source": [
    "# Training loop with validation\n",
    "def train_and_validate(model, criterion, optimizer, train_loader, val_loader, epochs, device, patience=5, min_delta=0.0001):\n",
    "    history = {'train_loss': [], 'val_loss': []}\n",
    "\n",
    "    best_val_loss = float('inf')\n",
    "    epochs_no_improve = 0\n",
    "    \n",
    "    for epoch in range(epochs):\n",
    "        model.train()\n",
    "        train_loss = 0.0\n",
    "        epoch_start_time = time.time()\n",
    "        for _, (sequences, labels, _, _) in enumerate(tqdm(train_loader, desc=f'Epoch: {epoch}/{epochs}')):  \n",
    "            sequences, labels = sequences.to(device), labels.to(device)\n",
    "            labels = labels.unsqueeze(1) \n",
    "            optimizer.zero_grad()\n",
    "            outputs = model(sequences)\n",
    "            loss = criterion(outputs, labels)\n",
    "            loss.backward()\n",
    "            optimizer.step()\n",
    "            train_loss += loss.item()\n",
    "        \n",
    "        epoch_end_time = time.time()\n",
    "        epoch_time = epoch_end_time - epoch_start_time\n",
    "        train_loss /= len(train_loader)\n",
    "        history['train_loss'].append(train_loss)\n",
    "\n",
    "        model.eval()\n",
    "        val_loss = 0.0\n",
    "        with torch.no_grad():\n",
    "            for sequences, labels, _, _ in val_loader:  \n",
    "                sequences, labels = sequences.to(device), labels.to(device)\n",
    "                labels = labels.unsqueeze(1)  \n",
    "                outputs = model(sequences)\n",
    "                loss = criterion(outputs, labels)\n",
    "                val_loss += loss.item()\n",
    "\n",
    "        val_loss /= len(val_loader)\n",
    "        history['val_loss'].append(val_loss)\n",
    "\n",
    "        # Early stopping logic\n",
    "        if val_loss < best_val_loss - min_delta:\n",
    "            best_val_loss = val_loss\n",
    "            epochs_no_improve = 0\n",
    "        else:\n",
    "            epochs_no_improve += 1\n",
    "\n",
    "        print(f'Epoch {epoch + 1}/{epochs}, Train Loss: {train_loss}, Validation Loss: {val_loss}')\n",
    "        print(f'Time taken for epoch: {epoch_time:.8f} seconds')\n",
    "\n",
    "        if epochs_no_improve >= patience:\n",
    "            print('Early stopping triggered')\n",
    "            #break\n",
    "\n",
    "    return history"
   ]
  },
  {
   "cell_type": "code",
   "execution_count": 11,
   "metadata": {},
   "outputs": [],
   "source": [
    "temperatures_to_process = [folder for folder in os.listdir(PROCESSED_DATA_DIR) if 'degC' in folder]"
   ]
  },
  {
   "cell_type": "code",
   "execution_count": 17,
   "metadata": {},
   "outputs": [
    {
     "data": {
      "text/html": [
       "<div>\n",
       "<style scoped>\n",
       "    .dataframe tbody tr th:only-of-type {\n",
       "        vertical-align: middle;\n",
       "    }\n",
       "\n",
       "    .dataframe tbody tr th {\n",
       "        vertical-align: top;\n",
       "    }\n",
       "\n",
       "    .dataframe thead th {\n",
       "        text-align: right;\n",
       "    }\n",
       "</style>\n",
       "<table border=\"1\" class=\"dataframe\">\n",
       "  <thead>\n",
       "    <tr style=\"text-align: right;\">\n",
       "      <th></th>\n",
       "      <th>Timestamp</th>\n",
       "      <th>Time [min]</th>\n",
       "      <th>Time [s]</th>\n",
       "      <th>Voltage [V]</th>\n",
       "      <th>Current [A]</th>\n",
       "      <th>Temperature [degC]</th>\n",
       "      <th>Capacity [Ah]</th>\n",
       "      <th>Time_diff</th>\n",
       "      <th>Cumulative_Capacity_Ah</th>\n",
       "      <th>SOC [-]</th>\n",
       "      <th>Rounded_Time</th>\n",
       "      <th>SourceFile</th>\n",
       "      <th>Power [W]</th>\n",
       "    </tr>\n",
       "  </thead>\n",
       "  <tbody>\n",
       "    <tr>\n",
       "      <th>0</th>\n",
       "      <td>2018-11-08 09:53:14</td>\n",
       "      <td>0.000000</td>\n",
       "      <td>0.000</td>\n",
       "      <td>4.18936</td>\n",
       "      <td>-0.05108</td>\n",
       "      <td>23.34519</td>\n",
       "      <td>0.00000</td>\n",
       "      <td>0.000000</td>\n",
       "      <td>0.000000</td>\n",
       "      <td>1.005569</td>\n",
       "      <td>0</td>\n",
       "      <td>562_Mixed6_processed.csv</td>\n",
       "      <td>-0.213993</td>\n",
       "    </tr>\n",
       "    <tr>\n",
       "      <th>1</th>\n",
       "      <td>2018-11-08 09:53:14</td>\n",
       "      <td>0.010033</td>\n",
       "      <td>0.602</td>\n",
       "      <td>4.18784</td>\n",
       "      <td>-0.09450</td>\n",
       "      <td>23.34519</td>\n",
       "      <td>-0.00001</td>\n",
       "      <td>0.000029</td>\n",
       "      <td>-0.000015</td>\n",
       "      <td>0.999995</td>\n",
       "      <td>1</td>\n",
       "      <td>562_Mixed6_processed.csv</td>\n",
       "      <td>-0.395751</td>\n",
       "    </tr>\n",
       "    <tr>\n",
       "      <th>2</th>\n",
       "      <td>2018-11-08 09:53:15</td>\n",
       "      <td>0.025017</td>\n",
       "      <td>1.501</td>\n",
       "      <td>4.18767</td>\n",
       "      <td>-0.09450</td>\n",
       "      <td>23.34519</td>\n",
       "      <td>-0.00004</td>\n",
       "      <td>0.000028</td>\n",
       "      <td>-0.000039</td>\n",
       "      <td>0.999987</td>\n",
       "      <td>2</td>\n",
       "      <td>562_Mixed6_processed.csv</td>\n",
       "      <td>-0.395735</td>\n",
       "    </tr>\n",
       "    <tr>\n",
       "      <th>3</th>\n",
       "      <td>2018-11-08 09:53:16</td>\n",
       "      <td>0.041700</td>\n",
       "      <td>2.502</td>\n",
       "      <td>4.18750</td>\n",
       "      <td>-0.09450</td>\n",
       "      <td>23.34519</td>\n",
       "      <td>-0.00006</td>\n",
       "      <td>0.000028</td>\n",
       "      <td>-0.000065</td>\n",
       "      <td>0.999977</td>\n",
       "      <td>3</td>\n",
       "      <td>562_Mixed6_processed.csv</td>\n",
       "      <td>-0.395719</td>\n",
       "    </tr>\n",
       "    <tr>\n",
       "      <th>4</th>\n",
       "      <td>2018-11-08 09:53:17</td>\n",
       "      <td>0.059983</td>\n",
       "      <td>3.599</td>\n",
       "      <td>4.18734</td>\n",
       "      <td>-0.09195</td>\n",
       "      <td>23.34519</td>\n",
       "      <td>-0.00009</td>\n",
       "      <td>0.000028</td>\n",
       "      <td>-0.000093</td>\n",
       "      <td>0.999966</td>\n",
       "      <td>4</td>\n",
       "      <td>562_Mixed6_processed.csv</td>\n",
       "      <td>-0.385026</td>\n",
       "    </tr>\n",
       "    <tr>\n",
       "      <th>...</th>\n",
       "      <td>...</td>\n",
       "      <td>...</td>\n",
       "      <td>...</td>\n",
       "      <td>...</td>\n",
       "      <td>...</td>\n",
       "      <td>...</td>\n",
       "      <td>...</td>\n",
       "      <td>...</td>\n",
       "      <td>...</td>\n",
       "      <td>...</td>\n",
       "      <td>...</td>\n",
       "      <td>...</td>\n",
       "      <td>...</td>\n",
       "    </tr>\n",
       "    <tr>\n",
       "      <th>532257</th>\n",
       "      <td>2018-12-18 18:24:55</td>\n",
       "      <td>112.126150</td>\n",
       "      <td>6727.569</td>\n",
       "      <td>3.48709</td>\n",
       "      <td>0.00000</td>\n",
       "      <td>-9.77974</td>\n",
       "      <td>-2.10860</td>\n",
       "      <td>0.000027</td>\n",
       "      <td>-2.112200</td>\n",
       "      <td>0.170802</td>\n",
       "      <td>6728</td>\n",
       "      <td>604_Mixed8_processed.csv</td>\n",
       "      <td>0.000000</td>\n",
       "    </tr>\n",
       "    <tr>\n",
       "      <th>532258</th>\n",
       "      <td>2018-12-18 18:24:56</td>\n",
       "      <td>112.142883</td>\n",
       "      <td>6728.573</td>\n",
       "      <td>3.48726</td>\n",
       "      <td>0.00000</td>\n",
       "      <td>-9.77974</td>\n",
       "      <td>-2.10860</td>\n",
       "      <td>0.000028</td>\n",
       "      <td>-2.112200</td>\n",
       "      <td>0.170802</td>\n",
       "      <td>6729</td>\n",
       "      <td>604_Mixed8_processed.csv</td>\n",
       "      <td>0.000000</td>\n",
       "    </tr>\n",
       "    <tr>\n",
       "      <th>532259</th>\n",
       "      <td>2018-12-18 18:24:57</td>\n",
       "      <td>112.159483</td>\n",
       "      <td>6729.569</td>\n",
       "      <td>3.48726</td>\n",
       "      <td>0.00000</td>\n",
       "      <td>-9.77974</td>\n",
       "      <td>-2.10860</td>\n",
       "      <td>0.000027</td>\n",
       "      <td>-2.112200</td>\n",
       "      <td>0.170802</td>\n",
       "      <td>6730</td>\n",
       "      <td>604_Mixed8_processed.csv</td>\n",
       "      <td>0.000000</td>\n",
       "    </tr>\n",
       "    <tr>\n",
       "      <th>532260</th>\n",
       "      <td>2018-12-18 18:24:58</td>\n",
       "      <td>112.176183</td>\n",
       "      <td>6730.571</td>\n",
       "      <td>3.48726</td>\n",
       "      <td>0.00000</td>\n",
       "      <td>-9.77974</td>\n",
       "      <td>-2.10860</td>\n",
       "      <td>0.000029</td>\n",
       "      <td>-2.112200</td>\n",
       "      <td>0.170802</td>\n",
       "      <td>6731</td>\n",
       "      <td>604_Mixed8_processed.csv</td>\n",
       "      <td>0.000000</td>\n",
       "    </tr>\n",
       "    <tr>\n",
       "      <th>532261</th>\n",
       "      <td>2018-12-18 18:24:59</td>\n",
       "      <td>112.192867</td>\n",
       "      <td>6731.572</td>\n",
       "      <td>3.48726</td>\n",
       "      <td>0.00000</td>\n",
       "      <td>-9.77974</td>\n",
       "      <td>-2.10860</td>\n",
       "      <td>0.000029</td>\n",
       "      <td>-2.112200</td>\n",
       "      <td>0.170802</td>\n",
       "      <td>6732</td>\n",
       "      <td>604_Mixed8_processed.csv</td>\n",
       "      <td>0.000000</td>\n",
       "    </tr>\n",
       "  </tbody>\n",
       "</table>\n",
       "<p>532262 rows × 13 columns</p>\n",
       "</div>"
      ],
      "text/plain": [
       "                  Timestamp  Time [min]  Time [s]  Voltage [V]  Current [A]  \\\n",
       "0       2018-11-08 09:53:14    0.000000     0.000      4.18936     -0.05108   \n",
       "1       2018-11-08 09:53:14    0.010033     0.602      4.18784     -0.09450   \n",
       "2       2018-11-08 09:53:15    0.025017     1.501      4.18767     -0.09450   \n",
       "3       2018-11-08 09:53:16    0.041700     2.502      4.18750     -0.09450   \n",
       "4       2018-11-08 09:53:17    0.059983     3.599      4.18734     -0.09195   \n",
       "...                     ...         ...       ...          ...          ...   \n",
       "532257  2018-12-18 18:24:55  112.126150  6727.569      3.48709      0.00000   \n",
       "532258  2018-12-18 18:24:56  112.142883  6728.573      3.48726      0.00000   \n",
       "532259  2018-12-18 18:24:57  112.159483  6729.569      3.48726      0.00000   \n",
       "532260  2018-12-18 18:24:58  112.176183  6730.571      3.48726      0.00000   \n",
       "532261  2018-12-18 18:24:59  112.192867  6731.572      3.48726      0.00000   \n",
       "\n",
       "        Temperature [degC]  Capacity [Ah]  Time_diff  Cumulative_Capacity_Ah  \\\n",
       "0                 23.34519        0.00000   0.000000                0.000000   \n",
       "1                 23.34519       -0.00001   0.000029               -0.000015   \n",
       "2                 23.34519       -0.00004   0.000028               -0.000039   \n",
       "3                 23.34519       -0.00006   0.000028               -0.000065   \n",
       "4                 23.34519       -0.00009   0.000028               -0.000093   \n",
       "...                    ...            ...        ...                     ...   \n",
       "532257            -9.77974       -2.10860   0.000027               -2.112200   \n",
       "532258            -9.77974       -2.10860   0.000028               -2.112200   \n",
       "532259            -9.77974       -2.10860   0.000027               -2.112200   \n",
       "532260            -9.77974       -2.10860   0.000029               -2.112200   \n",
       "532261            -9.77974       -2.10860   0.000029               -2.112200   \n",
       "\n",
       "         SOC [-]  Rounded_Time                SourceFile  Power [W]  \n",
       "0       1.005569             0  562_Mixed6_processed.csv  -0.213993  \n",
       "1       0.999995             1  562_Mixed6_processed.csv  -0.395751  \n",
       "2       0.999987             2  562_Mixed6_processed.csv  -0.395735  \n",
       "3       0.999977             3  562_Mixed6_processed.csv  -0.395719  \n",
       "4       0.999966             4  562_Mixed6_processed.csv  -0.385026  \n",
       "...          ...           ...                       ...        ...  \n",
       "532257  0.170802          6728  604_Mixed8_processed.csv   0.000000  \n",
       "532258  0.170802          6729  604_Mixed8_processed.csv   0.000000  \n",
       "532259  0.170802          6730  604_Mixed8_processed.csv   0.000000  \n",
       "532260  0.170802          6731  604_Mixed8_processed.csv   0.000000  \n",
       "532261  0.170802          6732  604_Mixed8_processed.csv   0.000000  \n",
       "\n",
       "[532262 rows x 13 columns]"
      ]
     },
     "execution_count": 17,
     "metadata": {},
     "output_type": "execute_result"
    }
   ],
   "source": [
    "data = load_data(PROCESSED_DATA_DIR, temperatures_to_process)\n",
    "data"
   ]
  },
  {
   "cell_type": "code",
   "execution_count": 18,
   "metadata": {},
   "outputs": [
    {
     "data": {
      "text/html": [
       "<div>\n",
       "<style scoped>\n",
       "    .dataframe tbody tr th:only-of-type {\n",
       "        vertical-align: middle;\n",
       "    }\n",
       "\n",
       "    .dataframe tbody tr th {\n",
       "        vertical-align: top;\n",
       "    }\n",
       "\n",
       "    .dataframe thead th {\n",
       "        text-align: right;\n",
       "    }\n",
       "</style>\n",
       "<table border=\"1\" class=\"dataframe\">\n",
       "  <thead>\n",
       "    <tr style=\"text-align: right;\">\n",
       "      <th></th>\n",
       "      <th>Timestamp</th>\n",
       "      <th>Time [min]</th>\n",
       "      <th>Time [s]</th>\n",
       "      <th>Voltage [V]</th>\n",
       "      <th>Current [A]</th>\n",
       "      <th>Temperature [degC]</th>\n",
       "      <th>Capacity [Ah]</th>\n",
       "      <th>Time_diff</th>\n",
       "      <th>Cumulative_Capacity_Ah</th>\n",
       "      <th>SOC [-]</th>\n",
       "      <th>Rounded_Time</th>\n",
       "      <th>SourceFile</th>\n",
       "      <th>Power [W]</th>\n",
       "    </tr>\n",
       "  </thead>\n",
       "  <tbody>\n",
       "    <tr>\n",
       "      <th>0</th>\n",
       "      <td>2018-11-08 09:53:14</td>\n",
       "      <td>0.000000</td>\n",
       "      <td>0.000</td>\n",
       "      <td>1.693907</td>\n",
       "      <td>0.421254</td>\n",
       "      <td>0.821057</td>\n",
       "      <td>0.00000</td>\n",
       "      <td>0.000000</td>\n",
       "      <td>1.531129</td>\n",
       "      <td>1.005569</td>\n",
       "      <td>0</td>\n",
       "      <td>562_Mixed6_processed.csv</td>\n",
       "      <td>0.410519</td>\n",
       "    </tr>\n",
       "    <tr>\n",
       "      <th>1</th>\n",
       "      <td>2018-11-08 09:53:14</td>\n",
       "      <td>0.010033</td>\n",
       "      <td>0.602</td>\n",
       "      <td>1.688779</td>\n",
       "      <td>0.402139</td>\n",
       "      <td>0.821057</td>\n",
       "      <td>-0.00001</td>\n",
       "      <td>0.000029</td>\n",
       "      <td>1.531109</td>\n",
       "      <td>0.999995</td>\n",
       "      <td>1</td>\n",
       "      <td>562_Mixed6_processed.csv</td>\n",
       "      <td>0.387702</td>\n",
       "    </tr>\n",
       "    <tr>\n",
       "      <th>2</th>\n",
       "      <td>2018-11-08 09:53:15</td>\n",
       "      <td>0.025017</td>\n",
       "      <td>1.501</td>\n",
       "      <td>1.688205</td>\n",
       "      <td>0.402139</td>\n",
       "      <td>0.821057</td>\n",
       "      <td>-0.00004</td>\n",
       "      <td>0.000028</td>\n",
       "      <td>1.531078</td>\n",
       "      <td>0.999987</td>\n",
       "      <td>2</td>\n",
       "      <td>562_Mixed6_processed.csv</td>\n",
       "      <td>0.387704</td>\n",
       "    </tr>\n",
       "    <tr>\n",
       "      <th>3</th>\n",
       "      <td>2018-11-08 09:53:16</td>\n",
       "      <td>0.041700</td>\n",
       "      <td>2.502</td>\n",
       "      <td>1.687632</td>\n",
       "      <td>0.402139</td>\n",
       "      <td>0.821057</td>\n",
       "      <td>-0.00006</td>\n",
       "      <td>0.000028</td>\n",
       "      <td>1.531044</td>\n",
       "      <td>0.999977</td>\n",
       "      <td>3</td>\n",
       "      <td>562_Mixed6_processed.csv</td>\n",
       "      <td>0.387707</td>\n",
       "    </tr>\n",
       "    <tr>\n",
       "      <th>4</th>\n",
       "      <td>2018-11-08 09:53:17</td>\n",
       "      <td>0.059983</td>\n",
       "      <td>3.599</td>\n",
       "      <td>1.687092</td>\n",
       "      <td>0.403262</td>\n",
       "      <td>0.821057</td>\n",
       "      <td>-0.00009</td>\n",
       "      <td>0.000028</td>\n",
       "      <td>1.531006</td>\n",
       "      <td>0.999966</td>\n",
       "      <td>4</td>\n",
       "      <td>562_Mixed6_processed.csv</td>\n",
       "      <td>0.389049</td>\n",
       "    </tr>\n",
       "    <tr>\n",
       "      <th>...</th>\n",
       "      <td>...</td>\n",
       "      <td>...</td>\n",
       "      <td>...</td>\n",
       "      <td>...</td>\n",
       "      <td>...</td>\n",
       "      <td>...</td>\n",
       "      <td>...</td>\n",
       "      <td>...</td>\n",
       "      <td>...</td>\n",
       "      <td>...</td>\n",
       "      <td>...</td>\n",
       "      <td>...</td>\n",
       "      <td>...</td>\n",
       "    </tr>\n",
       "    <tr>\n",
       "      <th>532257</th>\n",
       "      <td>2018-12-18 18:24:55</td>\n",
       "      <td>112.126150</td>\n",
       "      <td>6727.569</td>\n",
       "      <td>-0.675525</td>\n",
       "      <td>0.443741</td>\n",
       "      <td>-0.992532</td>\n",
       "      <td>-2.10860</td>\n",
       "      <td>0.000027</td>\n",
       "      <td>-1.259410</td>\n",
       "      <td>0.170802</td>\n",
       "      <td>6728</td>\n",
       "      <td>604_Mixed8_processed.csv</td>\n",
       "      <td>0.437382</td>\n",
       "    </tr>\n",
       "    <tr>\n",
       "      <th>532258</th>\n",
       "      <td>2018-12-18 18:24:56</td>\n",
       "      <td>112.142883</td>\n",
       "      <td>6728.573</td>\n",
       "      <td>-0.674951</td>\n",
       "      <td>0.443741</td>\n",
       "      <td>-0.992532</td>\n",
       "      <td>-2.10860</td>\n",
       "      <td>0.000028</td>\n",
       "      <td>-1.259410</td>\n",
       "      <td>0.170802</td>\n",
       "      <td>6729</td>\n",
       "      <td>604_Mixed8_processed.csv</td>\n",
       "      <td>0.437382</td>\n",
       "    </tr>\n",
       "    <tr>\n",
       "      <th>532259</th>\n",
       "      <td>2018-12-18 18:24:57</td>\n",
       "      <td>112.159483</td>\n",
       "      <td>6729.569</td>\n",
       "      <td>-0.674951</td>\n",
       "      <td>0.443741</td>\n",
       "      <td>-0.992532</td>\n",
       "      <td>-2.10860</td>\n",
       "      <td>0.000027</td>\n",
       "      <td>-1.259410</td>\n",
       "      <td>0.170802</td>\n",
       "      <td>6730</td>\n",
       "      <td>604_Mixed8_processed.csv</td>\n",
       "      <td>0.437382</td>\n",
       "    </tr>\n",
       "    <tr>\n",
       "      <th>532260</th>\n",
       "      <td>2018-12-18 18:24:58</td>\n",
       "      <td>112.176183</td>\n",
       "      <td>6730.571</td>\n",
       "      <td>-0.674951</td>\n",
       "      <td>0.443741</td>\n",
       "      <td>-0.992532</td>\n",
       "      <td>-2.10860</td>\n",
       "      <td>0.000029</td>\n",
       "      <td>-1.259410</td>\n",
       "      <td>0.170802</td>\n",
       "      <td>6731</td>\n",
       "      <td>604_Mixed8_processed.csv</td>\n",
       "      <td>0.437382</td>\n",
       "    </tr>\n",
       "    <tr>\n",
       "      <th>532261</th>\n",
       "      <td>2018-12-18 18:24:59</td>\n",
       "      <td>112.192867</td>\n",
       "      <td>6731.572</td>\n",
       "      <td>-0.674951</td>\n",
       "      <td>0.443741</td>\n",
       "      <td>-0.992532</td>\n",
       "      <td>-2.10860</td>\n",
       "      <td>0.000029</td>\n",
       "      <td>-1.259410</td>\n",
       "      <td>0.170802</td>\n",
       "      <td>6732</td>\n",
       "      <td>604_Mixed8_processed.csv</td>\n",
       "      <td>0.437382</td>\n",
       "    </tr>\n",
       "  </tbody>\n",
       "</table>\n",
       "<p>532262 rows × 13 columns</p>\n",
       "</div>"
      ],
      "text/plain": [
       "                  Timestamp  Time [min]  Time [s]  Voltage [V]  Current [A]  \\\n",
       "0       2018-11-08 09:53:14    0.000000     0.000     1.693907     0.421254   \n",
       "1       2018-11-08 09:53:14    0.010033     0.602     1.688779     0.402139   \n",
       "2       2018-11-08 09:53:15    0.025017     1.501     1.688205     0.402139   \n",
       "3       2018-11-08 09:53:16    0.041700     2.502     1.687632     0.402139   \n",
       "4       2018-11-08 09:53:17    0.059983     3.599     1.687092     0.403262   \n",
       "...                     ...         ...       ...          ...          ...   \n",
       "532257  2018-12-18 18:24:55  112.126150  6727.569    -0.675525     0.443741   \n",
       "532258  2018-12-18 18:24:56  112.142883  6728.573    -0.674951     0.443741   \n",
       "532259  2018-12-18 18:24:57  112.159483  6729.569    -0.674951     0.443741   \n",
       "532260  2018-12-18 18:24:58  112.176183  6730.571    -0.674951     0.443741   \n",
       "532261  2018-12-18 18:24:59  112.192867  6731.572    -0.674951     0.443741   \n",
       "\n",
       "        Temperature [degC]  Capacity [Ah]  Time_diff  Cumulative_Capacity_Ah  \\\n",
       "0                 0.821057        0.00000   0.000000                1.531129   \n",
       "1                 0.821057       -0.00001   0.000029                1.531109   \n",
       "2                 0.821057       -0.00004   0.000028                1.531078   \n",
       "3                 0.821057       -0.00006   0.000028                1.531044   \n",
       "4                 0.821057       -0.00009   0.000028                1.531006   \n",
       "...                    ...            ...        ...                     ...   \n",
       "532257           -0.992532       -2.10860   0.000027               -1.259410   \n",
       "532258           -0.992532       -2.10860   0.000028               -1.259410   \n",
       "532259           -0.992532       -2.10860   0.000027               -1.259410   \n",
       "532260           -0.992532       -2.10860   0.000029               -1.259410   \n",
       "532261           -0.992532       -2.10860   0.000029               -1.259410   \n",
       "\n",
       "         SOC [-]  Rounded_Time                SourceFile  Power [W]  \n",
       "0       1.005569             0  562_Mixed6_processed.csv   0.410519  \n",
       "1       0.999995             1  562_Mixed6_processed.csv   0.387702  \n",
       "2       0.999987             2  562_Mixed6_processed.csv   0.387704  \n",
       "3       0.999977             3  562_Mixed6_processed.csv   0.387707  \n",
       "4       0.999966             4  562_Mixed6_processed.csv   0.389049  \n",
       "...          ...           ...                       ...        ...  \n",
       "532257  0.170802          6728  604_Mixed8_processed.csv   0.437382  \n",
       "532258  0.170802          6729  604_Mixed8_processed.csv   0.437382  \n",
       "532259  0.170802          6730  604_Mixed8_processed.csv   0.437382  \n",
       "532260  0.170802          6731  604_Mixed8_processed.csv   0.437382  \n",
       "532261  0.170802          6732  604_Mixed8_processed.csv   0.437382  \n",
       "\n",
       "[532262 rows x 13 columns]"
      ]
     },
     "execution_count": 18,
     "metadata": {},
     "output_type": "execute_result"
    }
   ],
   "source": [
    "scaler = StandardScaler()\n",
    "data[FEATURE_COLS] = scaler.fit_transform(data[FEATURE_COLS])\n",
    "data"
   ]
  },
  {
   "cell_type": "code",
   "execution_count": 25,
   "metadata": {},
   "outputs": [],
   "source": [
    "unique_files = np.array(list(set(data['SourceFile'])))\n",
    "train_files, temp_files = train_test_split(unique_files, test_size=0.2, random_state=52)\n",
    "val_files, test_files = train_test_split(temp_files, test_size=0.5, random_state=52)"
   ]
  },
  {
   "cell_type": "code",
   "execution_count": 26,
   "metadata": {},
   "outputs": [],
   "source": [
    "def filter_data_by_filenames(df, filenames):\n",
    "    return df[df['SourceFile'].isin(filenames)]\n",
    "\n",
    "# Filter data for each set\n",
    "train_data = filter_data_by_filenames(data, train_files)\n",
    "val_data = filter_data_by_filenames(data, val_files)\n",
    "test_data = filter_data_by_filenames(data, test_files)"
   ]
  },
  {
   "cell_type": "code",
   "execution_count": 30,
   "metadata": {},
   "outputs": [],
   "source": [
    "# Convert to tensors\n",
    "train_tensor = torch.tensor(train_data[FEATURE_COLS].values, dtype=torch.float32).to(device)\n",
    "train_labels = torch.tensor(train_data[LABEL_COL].values, dtype=torch.float32).to(device)\n",
    "\n",
    "val_tensor = torch.tensor(val_data[FEATURE_COLS].values, dtype=torch.float32).to(device)\n",
    "val_labels = torch.tensor(val_data[LABEL_COL].values, dtype=torch.float32).to(device)\n",
    "\n",
    "test_tensor = torch.tensor(test_data[FEATURE_COLS].values, dtype=torch.float32).to(device)\n",
    "test_labels = torch.tensor(test_data[LABEL_COL].values, dtype=torch.float32).to(device)"
   ]
  },
  {
   "cell_type": "code",
   "execution_count": 50,
   "metadata": {},
   "outputs": [],
   "source": [
    "# Convert filtered data to tensors and create dataset instances\n",
    "train_dataset = BatteryDatasetDNN(\n",
    "    torch.tensor(train_data[FEATURE_COLS].values, dtype=torch.float32).to(device),\n",
    "    torch.tensor(train_data[LABEL_COL].values, dtype=torch.float32).to(device),\n",
    "    train_data['SourceFile'].values,\n",
    "    train_data['Time [s]'].values  \n",
    ")\n",
    "\n",
    "val_dataset = BatteryDatasetDNN(\n",
    "    torch.tensor(val_data[FEATURE_COLS].values, dtype=torch.float32).to(device),\n",
    "    torch.tensor(val_data[LABEL_COL].values, dtype=torch.float32).to(device),\n",
    "    val_data['SourceFile'].values,\n",
    "    val_data['Time [s]'].values  \n",
    ")\n",
    "\n",
    "test_dataset = BatteryDatasetDNN(\n",
    "    torch.tensor(test_data[FEATURE_COLS].values, dtype=torch.float32).to(device),\n",
    "    torch.tensor(test_data[LABEL_COL].values, dtype=torch.float32).to(device),\n",
    "    test_data['SourceFile'].values,\n",
    "    test_data['Time [s]'].values  \n",
    ")"
   ]
  },
  {
   "cell_type": "code",
   "execution_count": 32,
   "metadata": {},
   "outputs": [],
   "source": [
    "# Create data loaders\n",
    "train_loader = DataLoader(train_dataset, batch_size=BATCH_SIZE, shuffle=True) \n",
    "val_loader = DataLoader(val_dataset, batch_size=BATCH_SIZE, shuffle=False)\n",
    "test_loader = DataLoader(test_dataset, batch_size=BATCH_SIZE, shuffle=False)"
   ]
  },
  {
   "cell_type": "code",
   "execution_count": 33,
   "metadata": {},
   "outputs": [
    {
     "name": "stdout",
     "output_type": "stream",
     "text": [
      "Training files: {'571_Mixed8_processed.csv', '604_Mixed8_processed.csv', '552_Mixed5_processed.csv', '611_PausCycl_processed.csv', '551_Cap_1C_processed.csv', '590_Mixed8_processed.csv', '610_Mixed2_processed.csv', '576_UDDS_processed.csv', '589_Mixed1_processed.csv', '567_Mixed2_processed.csv', '575_HPPC_processed.csv', '590_Mixed7_processed.csv', '610_HWFET_processed.csv', '571_Mixed6_processed.csv', '571_Cap_1C_processed.csv', '604_PausCycl_processed.csv', '604_Mixed6_processed.csv', '551_US06_processed.csv', '562_Mixed7_processed.csv', '596_Cap_1C_processed.csv', '607_HPPC_processed.csv', '556_US06_processed.csv', '552_Mixed7_processed.csv', '601_Mixed1_processed.csv', '604_Mixed3_processed.csv', '611_Mixed6_processed.csv', '601_Mixed2_processed.csv', '593_HPPC_processed.csv', '571_Mixed5_processed.csv', '556_LA92_processed.csv', '589_HWFET_processed.csv', '611_Mixed7_processed.csv', '571_Mixed7_processed.csv', '562_PausCycl_processed.csv', '611_Mixed8_processed.csv', '610_LA92_processed.csv', '549_HPPC_processed.csv', '552_Cap_1C_processed.csv', '602_Cap_1C_processed.csv', '602_Mixed5_processed.csv', '552_PausCycl_processed.csv', '552_Mixed6_processed.csv', '590_Mixed4_processed.csv', '551_LA92_processed.csv', '556_HWFET_processed.csv', '596_LA92_processed.csv', '556_Mixed1_processed.csv', '585_HPPC_processed.csv', '596_UDDS_processed.csv', '610_Cap_1C_processed.csv', '551_Mixed1_processed.csv', '604_Mixed7_processed.csv', '601_US06_processed.csv', '589_LA92_processed.csv', '602_Mixed4_processed.csv', '556_UDDS_processed.csv', '576_Cap_1C_processed.csv', '557_Cap_1C_processed.csv', '555_HPPC_processed.csv', '562_Mixed6_processed.csv', '571_PausCycl_processed.csv', '596_HWFET_processed.csv', '567_US06_processed.csv', '551_UDDS_processed.csv', '552_Mixed3_processed.csv', '567_Mixed1_processed.csv', '589_Cap_1C_processed.csv', '556_Mixed2_processed.csv', '589_US06_processed.csv', '590_Mixed6_processed.csv', '562_Mixed8_processed.csv', '610_US06_processed.csv'}\n",
      "\n",
      "Validation files: {'571_Mixed4_processed.csv', '552_Mixed4_processed.csv', '557_Mixed3_processed.csv', '611_Mixed5_processed.csv', '610_Mixed1_processed.csv', '551_Mixed2_processed.csv', '611_Mixed4_processed.csv', '562_Mixed5_processed.csv', '589_Mixed2_processed.csv'}\n",
      "\n",
      "Testing files: {'562_Mixed4_processed.csv', '589_UDDS_processed.csv', '611_Cap_1C_processed.csv', '611_Mixed3_processed.csv', '590_Mixed5_processed.csv', '610_UDDS_processed.csv', '552_Mixed8_processed.csv', '576_HWFET_processed.csv', '590_PausCycl_processed.csv'}\n"
     ]
    }
   ],
   "source": [
    "# Print file names used in training, validation, and testing\n",
    "train_files = train_dataset.get_unique_filenames()\n",
    "val_files = val_dataset.get_unique_filenames()\n",
    "test_files = test_dataset.get_unique_filenames()\n",
    "\n",
    "train_files_sorted = sorted(train_files)\n",
    "val_files_sorted = sorted(val_files)\n",
    "test_files_sorted = sorted(test_files)\n",
    "\n",
    "print(\"Training files:\", train_files)\n",
    "print(\"\\nValidation files:\", val_files)\n",
    "print(\"\\nTesting files:\", test_files)"
   ]
  },
  {
   "cell_type": "code",
   "execution_count": 34,
   "metadata": {},
   "outputs": [
    {
     "name": "stdout",
     "output_type": "stream",
     "text": [
      "Train features shape: torch.Size([428714, 5])\n",
      "Test features shape: torch.Size([51159, 5])\n",
      "Train labels shape: torch.Size([428714])\n",
      "Test labels shape: torch.Size([51159])\n"
     ]
    }
   ],
   "source": [
    "print(\"Train features shape:\", train_tensor.shape)\n",
    "print(\"Test features shape:\", test_tensor .shape)\n",
    "print(\"Train labels shape:\", train_labels.shape)\n",
    "print(\"Test labels shape:\", test_labels.shape)"
   ]
  },
  {
   "cell_type": "markdown",
   "metadata": {},
   "source": [
    "## Hyperparameter tuning"
   ]
  },
  {
   "cell_type": "code",
   "execution_count": 35,
   "metadata": {},
   "outputs": [],
   "source": [
    "EPOCHS = 10\n",
    "def objective(trial):\n",
    "    # Hyperparameters to tune\n",
    "    learning_rate = trial.suggest_float('learning_rate', 1e-5, 1e-1, log=True)\n",
    "    hidden_size = trial.suggest_categorical('hidden_size', [16, 32, 64, 128, 256])\n",
    "    num_layers = trial.suggest_int('num_layers', 1, 4)\n",
    "    dropout_rate = trial.suggest_float('dropout_rate', 0.1, 0.5)\n",
    "\n",
    "    # Model, criterion, optimizer\n",
    "    model = SoCDNN(input_size=len(FEATURE_COLS), hidden_size=hidden_size, num_layers=num_layers, dropout=dropout_rate).to(device)\n",
    "    optimizer = optim.Adam(model.parameters(), lr=learning_rate, weight_decay=0.01)\n",
    "    criterion = nn.MSELoss()\n",
    "\n",
    "    # Train and validate the model\n",
    "    history = train_and_validate(model, criterion, optimizer, train_loader, val_loader, EPOCHS, device)\n",
    "\n",
    "    # Minimize the last validation loss\n",
    "    return history['val_loss'][-1]"
   ]
  },
  {
   "cell_type": "code",
   "execution_count": 37,
   "metadata": {},
   "outputs": [
    {
     "name": "stderr",
     "output_type": "stream",
     "text": [
      "[I 2025-07-31 02:03:43,212] A new study created in memory with name: no-name-0e1c149c-5bad-49c8-b29e-5cfc8ecc85c5\n"
     ]
    },
    {
     "name": "stdout",
     "output_type": "stream",
     "text": [
      "Epoch 1/10, Train Loss: 0.552569653676517, Validation Loss: 0.40709959215870717\n",
      "Time taken for epoch: 5.89416409 seconds\n",
      "Epoch 2/10, Train Loss: 0.2850483434413796, Validation Loss: 0.21080995665454283\n",
      "Time taken for epoch: 5.94137216 seconds\n",
      "Epoch 3/10, Train Loss: 0.14258644320626757, Validation Loss: 0.09474071431450727\n",
      "Time taken for epoch: 5.87443495 seconds\n",
      "Epoch 4/10, Train Loss: 0.0722172497963505, Validation Loss: 0.02847316652371707\n",
      "Time taken for epoch: 6.01033401 seconds\n",
      "Epoch 5/10, Train Loss: 0.04597630193206801, Validation Loss: 0.011898759735969638\n",
      "Time taken for epoch: 5.93726397 seconds\n",
      "Epoch 6/10, Train Loss: 0.035626123392426254, Validation Loss: 0.00928381674298069\n",
      "Time taken for epoch: 5.89879608 seconds\n",
      "Epoch 7/10, Train Loss: 0.0296171941916778, Validation Loss: 0.006136502421754924\n",
      "Time taken for epoch: 6.52018285 seconds\n",
      "Epoch 8/10, Train Loss: 0.025119011288147364, Validation Loss: 0.004916062895662014\n",
      "Time taken for epoch: 6.34201765 seconds\n",
      "Epoch 9/10, Train Loss: 0.021756101049927635, Validation Loss: 0.005472017155208472\n",
      "Time taken for epoch: 6.48423004 seconds\n"
     ]
    },
    {
     "name": "stderr",
     "output_type": "stream",
     "text": [
      "[I 2025-07-31 02:04:48,425] Trial 0 finished with value: 0.005423351812736455 and parameters: {'learning_rate': 1.2134238849578614e-05, 'hidden_size': 32, 'num_layers': 3, 'dropout_rate': 0.1775031944298925}. Best is trial 0 with value: 0.005423351812736455.\n"
     ]
    },
    {
     "name": "stdout",
     "output_type": "stream",
     "text": [
      "Epoch 10/10, Train Loss: 0.019189808117086763, Validation Loss: 0.005423351812736455\n",
      "Time taken for epoch: 6.18677711 seconds\n",
      "Epoch 1/10, Train Loss: 0.006784048840097749, Validation Loss: 0.0016366788297135627\n",
      "Time taken for epoch: 5.34630895 seconds\n",
      "Epoch 2/10, Train Loss: 0.004008835892735133, Validation Loss: 0.0006848443637287213\n",
      "Time taken for epoch: 5.33714414 seconds\n",
      "Epoch 3/10, Train Loss: 0.003968608128045922, Validation Loss: 0.0019270589437549394\n",
      "Time taken for epoch: 5.21671200 seconds\n",
      "Epoch 4/10, Train Loss: 0.00403127741579439, Validation Loss: 0.0021515408129568533\n",
      "Time taken for epoch: 4.99520707 seconds\n",
      "Epoch 5/10, Train Loss: 0.003985719566907623, Validation Loss: 0.004287796644922953\n",
      "Time taken for epoch: 5.15435815 seconds\n",
      "Epoch 6/10, Train Loss: 0.003984099249737754, Validation Loss: 0.0011306688006221166\n",
      "Time taken for epoch: 5.48734689 seconds\n",
      "Epoch 7/10, Train Loss: 0.003996171695771001, Validation Loss: 0.00474176621837836\n",
      "Time taken for epoch: 5.35704398 seconds\n",
      "Early stopping triggered\n",
      "Epoch 8/10, Train Loss: 0.004057757058980138, Validation Loss: 0.0008391345408975811\n",
      "Time taken for epoch: 5.30565310 seconds\n",
      "Early stopping triggered\n",
      "Epoch 9/10, Train Loss: 0.004031756124563459, Validation Loss: 0.0015399673323971488\n",
      "Time taken for epoch: 5.18636298 seconds\n",
      "Early stopping triggered\n"
     ]
    },
    {
     "name": "stderr",
     "output_type": "stream",
     "text": [
      "[I 2025-07-31 02:05:44,159] Trial 1 finished with value: 0.000951375566295965 and parameters: {'learning_rate': 0.0029829205432656512, 'hidden_size': 32, 'num_layers': 2, 'dropout_rate': 0.1178970545432422}. Best is trial 1 with value: 0.000951375566295965.\n"
     ]
    },
    {
     "name": "stdout",
     "output_type": "stream",
     "text": [
      "Epoch 10/10, Train Loss: 0.00399542353946521, Validation Loss: 0.000951375566295965\n",
      "Time taken for epoch: 5.52983618 seconds\n",
      "Early stopping triggered\n",
      "Epoch 1/10, Train Loss: 0.06305459467721963, Validation Loss: 0.011830770254874085\n",
      "Time taken for epoch: 5.06686306 seconds\n",
      "Epoch 2/10, Train Loss: 0.020762411923106038, Validation Loss: 0.006829379542605461\n",
      "Time taken for epoch: 4.93774009 seconds\n",
      "Epoch 3/10, Train Loss: 0.013278255729115944, Validation Loss: 0.005230027985884945\n",
      "Time taken for epoch: 4.98697090 seconds\n",
      "Epoch 4/10, Train Loss: 0.00953927923424809, Validation Loss: 0.004600961777173214\n",
      "Time taken for epoch: 5.19649839 seconds\n",
      "Epoch 5/10, Train Loss: 0.007083885282305862, Validation Loss: 0.003602997292586135\n",
      "Time taken for epoch: 5.06775284 seconds\n",
      "Epoch 6/10, Train Loss: 0.005300668293624115, Validation Loss: 0.002686451705626607\n",
      "Time taken for epoch: 5.23645782 seconds\n",
      "Epoch 7/10, Train Loss: 0.004058430324475378, Validation Loss: 0.0019897750276158615\n",
      "Time taken for epoch: 5.03215313 seconds\n",
      "Epoch 8/10, Train Loss: 0.003094377342486448, Validation Loss: 0.0014731056489343318\n",
      "Time taken for epoch: 5.15223098 seconds\n",
      "Epoch 9/10, Train Loss: 0.002509890108998281, Validation Loss: 0.0013847012822473393\n",
      "Time taken for epoch: 5.18266892 seconds\n"
     ]
    },
    {
     "name": "stderr",
     "output_type": "stream",
     "text": [
      "[I 2025-07-31 02:06:38,116] Trial 2 finished with value: 0.0006770203665227444 and parameters: {'learning_rate': 2.701060252058222e-05, 'hidden_size': 256, 'num_layers': 1, 'dropout_rate': 0.11595065817250463}. Best is trial 2 with value: 0.0006770203665227444.\n"
     ]
    },
    {
     "name": "stdout",
     "output_type": "stream",
     "text": [
      "Epoch 10/10, Train Loss: 0.0019714722608619216, Validation Loss: 0.0006770203665227444\n",
      "Time taken for epoch: 5.22286105 seconds\n",
      "Epoch 1/10, Train Loss: 0.007195391566284112, Validation Loss: 0.0020976210205134985\n",
      "Time taken for epoch: 4.47138190 seconds\n",
      "Epoch 2/10, Train Loss: 0.0070469055037055885, Validation Loss: 0.006076117612411043\n",
      "Time taken for epoch: 4.29123926 seconds\n",
      "Epoch 3/10, Train Loss: 0.00723852315584003, Validation Loss: 0.005683396928610064\n",
      "Time taken for epoch: 4.21917105 seconds\n",
      "Epoch 4/10, Train Loss: 0.007403003119502161, Validation Loss: 0.0033562886496195173\n",
      "Time taken for epoch: 4.49196386 seconds\n",
      "Epoch 5/10, Train Loss: 0.007438995793406198, Validation Loss: 0.0009486144142944639\n",
      "Time taken for epoch: 4.28651786 seconds\n",
      "Epoch 6/10, Train Loss: 0.007478751890125004, Validation Loss: 0.007455994813178067\n",
      "Time taken for epoch: 4.50720596 seconds\n",
      "Epoch 7/10, Train Loss: 0.007511128001679569, Validation Loss: 0.0031986872386790687\n",
      "Time taken for epoch: 4.32681179 seconds\n",
      "Epoch 8/10, Train Loss: 0.007449525687148544, Validation Loss: 0.003757934496867919\n",
      "Time taken for epoch: 4.42842603 seconds\n",
      "Epoch 9/10, Train Loss: 0.008020879613902809, Validation Loss: 0.005523191465185735\n",
      "Time taken for epoch: 4.50402474 seconds\n"
     ]
    },
    {
     "name": "stderr",
     "output_type": "stream",
     "text": [
      "[I 2025-07-31 02:07:24,839] Trial 3 finished with value: 0.005034158680694129 and parameters: {'learning_rate': 0.038029054870166, 'hidden_size': 32, 'num_layers': 1, 'dropout_rate': 0.28303883943087893}. Best is trial 2 with value: 0.0006770203665227444.\n"
     ]
    },
    {
     "name": "stdout",
     "output_type": "stream",
     "text": [
      "Epoch 10/10, Train Loss: 0.007913702690014755, Validation Loss: 0.005034158680694129\n",
      "Time taken for epoch: 4.51960802 seconds\n",
      "Early stopping triggered\n",
      "Epoch 1/10, Train Loss: 0.008198537288525544, Validation Loss: 0.0009022976833410034\n",
      "Time taken for epoch: 8.21904778 seconds\n",
      "Epoch 2/10, Train Loss: 0.005578233976917925, Validation Loss: 0.0010447302247146625\n",
      "Time taken for epoch: 7.93833089 seconds\n",
      "Epoch 3/10, Train Loss: 0.0056186386557129115, Validation Loss: 0.0013415354958008876\n",
      "Time taken for epoch: 8.06430793 seconds\n",
      "Epoch 4/10, Train Loss: 0.005600013537471419, Validation Loss: 0.0008932966641322498\n",
      "Time taken for epoch: 8.25380492 seconds\n",
      "Epoch 5/10, Train Loss: 0.00566537260543555, Validation Loss: 0.0014059361892893832\n",
      "Time taken for epoch: 7.88327789 seconds\n",
      "Epoch 6/10, Train Loss: 0.005608684721527927, Validation Loss: 0.002241080239837618\n",
      "Time taken for epoch: 8.15880823 seconds\n",
      "Early stopping triggered\n",
      "Epoch 7/10, Train Loss: 0.00562903544594492, Validation Loss: 0.000897130322176292\n",
      "Time taken for epoch: 7.96973300 seconds\n",
      "Early stopping triggered\n",
      "Epoch 8/10, Train Loss: 0.005622185521703491, Validation Loss: 0.0005143675926471797\n",
      "Time taken for epoch: 8.02874708 seconds\n",
      "Epoch 9/10, Train Loss: 0.0055974398881419385, Validation Loss: 0.0013152233036818162\n",
      "Time taken for epoch: 7.70219207 seconds\n"
     ]
    },
    {
     "name": "stderr",
     "output_type": "stream",
     "text": [
      "[I 2025-07-31 02:08:48,386] Trial 4 finished with value: 0.0016799560517694505 and parameters: {'learning_rate': 0.0012725693738550392, 'hidden_size': 128, 'num_layers': 3, 'dropout_rate': 0.32188677756142564}. Best is trial 2 with value: 0.0006770203665227444.\n"
     ]
    },
    {
     "name": "stdout",
     "output_type": "stream",
     "text": [
      "Epoch 10/10, Train Loss: 0.005662180696085874, Validation Loss: 0.0016799560517694505\n",
      "Time taken for epoch: 7.79067802 seconds\n",
      "Epoch 1/10, Train Loss: 0.06858851125602847, Validation Loss: 0.002196388443757669\n",
      "Time taken for epoch: 4.41406989 seconds\n",
      "Epoch 2/10, Train Loss: 0.005030634793306965, Validation Loss: 0.000642952357508498\n",
      "Time taken for epoch: 4.60672379 seconds\n",
      "Epoch 3/10, Train Loss: 0.00374542411538397, Validation Loss: 0.0007492251440224642\n",
      "Time taken for epoch: 4.17361927 seconds\n",
      "Epoch 4/10, Train Loss: 0.00380489063574307, Validation Loss: 0.0007865340357952278\n",
      "Time taken for epoch: 4.09869432 seconds\n",
      "Epoch 5/10, Train Loss: 0.0038140769783101642, Validation Loss: 0.0007900512082215289\n",
      "Time taken for epoch: 4.20980215 seconds\n",
      "Epoch 6/10, Train Loss: 0.003863033553335204, Validation Loss: 0.0006670821644170579\n",
      "Time taken for epoch: 4.48642182 seconds\n",
      "Epoch 7/10, Train Loss: 0.003876855000436528, Validation Loss: 0.0007691633811726583\n",
      "Time taken for epoch: 4.30938411 seconds\n",
      "Early stopping triggered\n",
      "Epoch 8/10, Train Loss: 0.003888121957703035, Validation Loss: 0.0007536949346883109\n",
      "Time taken for epoch: 4.56950092 seconds\n",
      "Early stopping triggered\n",
      "Epoch 9/10, Train Loss: 0.0038719935318691405, Validation Loss: 0.0007350933018072715\n",
      "Time taken for epoch: 5.04112411 seconds\n",
      "Early stopping triggered\n"
     ]
    },
    {
     "name": "stderr",
     "output_type": "stream",
     "text": [
      "[I 2025-07-31 02:09:36,271] Trial 5 finished with value: 0.0007585368893266948 and parameters: {'learning_rate': 0.00023430628713949004, 'hidden_size': 16, 'num_layers': 1, 'dropout_rate': 0.17639535252548014}. Best is trial 2 with value: 0.0006770203665227444.\n"
     ]
    },
    {
     "name": "stdout",
     "output_type": "stream",
     "text": [
      "Epoch 10/10, Train Loss: 0.003871788048227109, Validation Loss: 0.0007585368893266948\n",
      "Time taken for epoch: 5.19913507 seconds\n",
      "Early stopping triggered\n",
      "Epoch 1/10, Train Loss: 0.07887192074709864, Validation Loss: 0.0667292608804329\n",
      "Time taken for epoch: 8.93107891 seconds\n",
      "Epoch 2/10, Train Loss: 0.07068323377909055, Validation Loss: 0.06413835503854211\n",
      "Time taken for epoch: 9.12572813 seconds\n",
      "Epoch 3/10, Train Loss: 0.0706389511899272, Validation Loss: 0.06329826347993686\n",
      "Time taken for epoch: 9.10600495 seconds\n",
      "Epoch 4/10, Train Loss: 0.07474118733027978, Validation Loss: 0.07814501732221554\n",
      "Time taken for epoch: 9.06753683 seconds\n",
      "Epoch 5/10, Train Loss: 0.08422176056611004, Validation Loss: 0.07692706978353205\n",
      "Time taken for epoch: 9.66348696 seconds\n",
      "Epoch 6/10, Train Loss: 0.08418851326539445, Validation Loss: 0.07752742327807914\n",
      "Time taken for epoch: 8.35402584 seconds\n",
      "Epoch 7/10, Train Loss: 0.08425256225377765, Validation Loss: 0.07676523024777164\n",
      "Time taken for epoch: 8.79960513 seconds\n",
      "Epoch 8/10, Train Loss: 0.08421708545800466, Validation Loss: 0.07687333389682485\n",
      "Time taken for epoch: 9.95089102 seconds\n",
      "Early stopping triggered\n",
      "Epoch 9/10, Train Loss: 0.08422176947344595, Validation Loss: 0.07742552476635932\n",
      "Time taken for epoch: 8.77169514 seconds\n",
      "Early stopping triggered\n"
     ]
    },
    {
     "name": "stderr",
     "output_type": "stream",
     "text": [
      "[I 2025-07-31 02:11:11,061] Trial 6 finished with value: 0.07839135896679514 and parameters: {'learning_rate': 0.01585366718139898, 'hidden_size': 16, 'num_layers': 4, 'dropout_rate': 0.47283376174323244}. Best is trial 2 with value: 0.0006770203665227444.\n"
     ]
    },
    {
     "name": "stdout",
     "output_type": "stream",
     "text": [
      "Epoch 10/10, Train Loss: 0.08422066597128983, Validation Loss: 0.07839135896679514\n",
      "Time taken for epoch: 9.20135188 seconds\n",
      "Early stopping triggered\n",
      "Epoch 1/10, Train Loss: 0.015535203317013472, Validation Loss: 0.0011319588309644554\n",
      "Time taken for epoch: 7.27531528 seconds\n",
      "Epoch 2/10, Train Loss: 0.007864293125249557, Validation Loss: 0.0009559279048155199\n",
      "Time taken for epoch: 8.07716680 seconds\n",
      "Epoch 3/10, Train Loss: 0.007884322972273204, Validation Loss: 0.002377547089613555\n",
      "Time taken for epoch: 8.24192715 seconds\n",
      "Epoch 4/10, Train Loss: 0.007915986626506296, Validation Loss: 0.0010066974227012863\n",
      "Time taken for epoch: 8.43309307 seconds\n",
      "Epoch 5/10, Train Loss: 0.00788201014830995, Validation Loss: 0.0019081760215421358\n",
      "Time taken for epoch: 7.97276211 seconds\n",
      "Epoch 6/10, Train Loss: 0.00793019809913057, Validation Loss: 0.0019212195723930675\n",
      "Time taken for epoch: 8.18396688 seconds\n",
      "Epoch 7/10, Train Loss: 0.007922537294980972, Validation Loss: 0.0014784523812467363\n",
      "Time taken for epoch: 7.66607404 seconds\n",
      "Early stopping triggered\n",
      "Epoch 8/10, Train Loss: 0.007901789148463243, Validation Loss: 0.0014724369030178455\n",
      "Time taken for epoch: 8.05218101 seconds\n",
      "Early stopping triggered\n",
      "Epoch 9/10, Train Loss: 0.007932225905998206, Validation Loss: 0.0010096348907248883\n",
      "Time taken for epoch: 8.52926302 seconds\n",
      "Early stopping triggered\n"
     ]
    },
    {
     "name": "stderr",
     "output_type": "stream",
     "text": [
      "[I 2025-07-31 02:12:35,268] Trial 7 finished with value: 0.0012832527516729343 and parameters: {'learning_rate': 0.0004953108314230988, 'hidden_size': 64, 'num_layers': 3, 'dropout_rate': 0.3192697563646647}. Best is trial 2 with value: 0.0006770203665227444.\n"
     ]
    },
    {
     "name": "stdout",
     "output_type": "stream",
     "text": [
      "Epoch 10/10, Train Loss: 0.007945015372208028, Validation Loss: 0.0012832527516729343\n",
      "Time taken for epoch: 8.09880900 seconds\n",
      "Early stopping triggered\n",
      "Epoch 1/10, Train Loss: 0.009236778845948014, Validation Loss: 0.0005383003262132555\n",
      "Time taken for epoch: 4.77329016 seconds\n",
      "Epoch 2/10, Train Loss: 0.0033046202097477308, Validation Loss: 0.0007151532936009561\n",
      "Time taken for epoch: 5.50927401 seconds\n",
      "Epoch 3/10, Train Loss: 0.003280423750697788, Validation Loss: 0.0005872744512799261\n",
      "Time taken for epoch: 5.31996107 seconds\n",
      "Epoch 4/10, Train Loss: 0.0033091516558901033, Validation Loss: 0.0008191449175353579\n",
      "Time taken for epoch: 4.79878783 seconds\n",
      "Epoch 5/10, Train Loss: 0.00331461134154711, Validation Loss: 0.001204177228276133\n",
      "Time taken for epoch: 4.65063500 seconds\n",
      "Epoch 6/10, Train Loss: 0.0032836466910553847, Validation Loss: 0.0005283463189609792\n",
      "Time taken for epoch: 4.39401507 seconds\n",
      "Early stopping triggered\n",
      "Epoch 7/10, Train Loss: 0.0033091266276731863, Validation Loss: 0.0005675415745982474\n",
      "Time taken for epoch: 4.65563416 seconds\n",
      "Early stopping triggered\n",
      "Epoch 8/10, Train Loss: 0.003283069062554069, Validation Loss: 0.0012879058539899079\n",
      "Time taken for epoch: 4.72950292 seconds\n",
      "Early stopping triggered\n",
      "Epoch 9/10, Train Loss: 0.0032644665840345977, Validation Loss: 0.000987152382868971\n",
      "Time taken for epoch: 5.02548885 seconds\n",
      "Early stopping triggered\n"
     ]
    },
    {
     "name": "stderr",
     "output_type": "stream",
     "text": [
      "[I 2025-07-31 02:13:27,157] Trial 8 finished with value: 0.0009186563312471485 and parameters: {'learning_rate': 0.0011775673502570012, 'hidden_size': 16, 'num_layers': 1, 'dropout_rate': 0.1284036956128829}. Best is trial 2 with value: 0.0006770203665227444.\n"
     ]
    },
    {
     "name": "stdout",
     "output_type": "stream",
     "text": [
      "Epoch 10/10, Train Loss: 0.003320464378174172, Validation Loss: 0.0009186563312471485\n",
      "Time taken for epoch: 4.95396996 seconds\n",
      "Early stopping triggered\n",
      "Epoch 1/10, Train Loss: 0.06488658447736012, Validation Loss: 0.0033760409618258653\n",
      "Time taken for epoch: 7.93460083 seconds\n",
      "Epoch 2/10, Train Loss: 0.010378338634453492, Validation Loss: 0.0016465409438454134\n",
      "Time taken for epoch: 8.14992189 seconds\n",
      "Epoch 3/10, Train Loss: 0.004691446116611139, Validation Loss: 0.0004632961865644382\n",
      "Time taken for epoch: 7.84351683 seconds\n",
      "Epoch 4/10, Train Loss: 0.003493584967565848, Validation Loss: 0.0005593963142673158\n",
      "Time taken for epoch: 7.85538507 seconds\n",
      "Epoch 5/10, Train Loss: 0.003011517341825555, Validation Loss: 0.0005508597832278899\n",
      "Time taken for epoch: 7.80462098 seconds\n",
      "Epoch 6/10, Train Loss: 0.0026761904969088623, Validation Loss: 0.000253834475462299\n",
      "Time taken for epoch: 8.34464812 seconds\n",
      "Epoch 7/10, Train Loss: 0.0024254575592757605, Validation Loss: 0.00036609177690952323\n",
      "Time taken for epoch: 7.36308599 seconds\n",
      "Epoch 8/10, Train Loss: 0.002463530584467825, Validation Loss: 0.0003128481347512595\n",
      "Time taken for epoch: 7.65393996 seconds\n",
      "Epoch 9/10, Train Loss: 0.0024591501454697615, Validation Loss: 0.00023107663399048582\n",
      "Time taken for epoch: 7.79406691 seconds\n"
     ]
    },
    {
     "name": "stderr",
     "output_type": "stream",
     "text": [
      "[I 2025-07-31 02:14:48,795] Trial 9 finished with value: 0.0003084866943536867 and parameters: {'learning_rate': 4.9759535984065307e-05, 'hidden_size': 128, 'num_layers': 2, 'dropout_rate': 0.26751264808600395}. Best is trial 9 with value: 0.0003084866943536867.\n"
     ]
    },
    {
     "name": "stdout",
     "output_type": "stream",
     "text": [
      "Epoch 10/10, Train Loss: 0.00242797276092026, Validation Loss: 0.0003084866943536867\n",
      "Time taken for epoch: 6.98163295 seconds\n",
      "Epoch 1/10, Train Loss: 0.052660394303167046, Validation Loss: 0.0044992402670109965\n",
      "Time taken for epoch: 7.14950681 seconds\n",
      "Epoch 2/10, Train Loss: 0.006485560532770495, Validation Loss: 0.0006496172276168115\n",
      "Time taken for epoch: 7.76002598 seconds\n",
      "Epoch 3/10, Train Loss: 0.004349536238474522, Validation Loss: 0.0006018439028616185\n",
      "Time taken for epoch: 7.15553308 seconds\n",
      "Epoch 4/10, Train Loss: 0.003928631681656993, Validation Loss: 0.0004271883146117261\n",
      "Time taken for epoch: 6.58527279 seconds\n",
      "Epoch 5/10, Train Loss: 0.003925872718560885, Validation Loss: 0.0004498671063956641\n",
      "Time taken for epoch: 6.53900409 seconds\n",
      "Epoch 6/10, Train Loss: 0.003940562713654962, Validation Loss: 0.0004216108945872581\n",
      "Time taken for epoch: 6.50332689 seconds\n",
      "Epoch 7/10, Train Loss: 0.003940497368935551, Validation Loss: 0.0007172688016691786\n",
      "Time taken for epoch: 7.38009381 seconds\n",
      "Epoch 8/10, Train Loss: 0.003993534805850863, Validation Loss: 0.000562375541916503\n",
      "Time taken for epoch: 7.46725917 seconds\n",
      "Epoch 9/10, Train Loss: 0.0039483028456374115, Validation Loss: 0.00037966291706382203\n",
      "Time taken for epoch: 7.51236701 seconds\n",
      "Early stopping triggered\n"
     ]
    },
    {
     "name": "stderr",
     "output_type": "stream",
     "text": [
      "[I 2025-07-31 02:16:04,189] Trial 10 finished with value: 0.0005837270135205517 and parameters: {'learning_rate': 0.00010707384387512222, 'hidden_size': 128, 'num_layers': 2, 'dropout_rate': 0.42902055828933755}. Best is trial 9 with value: 0.0003084866943536867.\n"
     ]
    },
    {
     "name": "stdout",
     "output_type": "stream",
     "text": [
      "Epoch 10/10, Train Loss: 0.003934970452318162, Validation Loss: 0.0005837270135205517\n",
      "Time taken for epoch: 7.58104014 seconds\n",
      "Early stopping triggered\n",
      "Epoch 1/10, Train Loss: 0.06944307288877777, Validation Loss: 0.009562363847047858\n",
      "Time taken for epoch: 7.70450783 seconds\n",
      "Epoch 2/10, Train Loss: 0.009742457627930414, Validation Loss: 0.002150069150369435\n",
      "Time taken for epoch: 7.89112711 seconds\n",
      "Epoch 3/10, Train Loss: 0.005810310009158035, Validation Loss: 0.0007041336512867663\n",
      "Time taken for epoch: 8.14545035 seconds\n",
      "Epoch 4/10, Train Loss: 0.0048334669847903185, Validation Loss: 0.0005918300679384424\n",
      "Time taken for epoch: 7.51626992 seconds\n",
      "Epoch 5/10, Train Loss: 0.004506239990856665, Validation Loss: 0.0010329136762762393\n",
      "Time taken for epoch: 8.33575892 seconds\n",
      "Epoch 6/10, Train Loss: 0.004558137346948705, Validation Loss: 0.000696613085758544\n",
      "Time taken for epoch: 7.27183318 seconds\n",
      "Epoch 7/10, Train Loss: 0.004537419218208585, Validation Loss: 0.0005704563055435135\n",
      "Time taken for epoch: 6.98135686 seconds\n",
      "Epoch 8/10, Train Loss: 0.004573523646095462, Validation Loss: 0.0006396478863160976\n",
      "Time taken for epoch: 7.62180686 seconds\n",
      "Epoch 9/10, Train Loss: 0.004567399624762917, Validation Loss: 0.0006897937716957597\n",
      "Time taken for epoch: 6.93411088 seconds\n",
      "Early stopping triggered\n"
     ]
    },
    {
     "name": "stderr",
     "output_type": "stream",
     "text": [
      "[I 2025-07-31 02:17:22,986] Trial 11 finished with value: 0.0003419821040723968 and parameters: {'learning_rate': 8.13621667492758e-05, 'hidden_size': 128, 'num_layers': 2, 'dropout_rate': 0.4702589232035154}. Best is trial 9 with value: 0.0003084866943536867.\n"
     ]
    },
    {
     "name": "stdout",
     "output_type": "stream",
     "text": [
      "Epoch 10/10, Train Loss: 0.004585415745195724, Validation Loss: 0.0003419821040723968\n",
      "Time taken for epoch: 6.74125504 seconds\n",
      "Epoch 1/10, Train Loss: 0.09419784047043146, Validation Loss: 0.009914812799145627\n",
      "Time taken for epoch: 6.98403668 seconds\n",
      "Epoch 2/10, Train Loss: 0.014523175040593566, Validation Loss: 0.003793354693652041\n",
      "Time taken for epoch: 6.98021126 seconds\n",
      "Epoch 3/10, Train Loss: 0.007250501810322835, Validation Loss: 0.001668621691963536\n",
      "Time taken for epoch: 7.88548112 seconds\n",
      "Epoch 4/10, Train Loss: 0.005446446097956331, Validation Loss: 0.0011622829556411421\n",
      "Time taken for epoch: 7.59636140 seconds\n",
      "Epoch 5/10, Train Loss: 0.00463320812224341, Validation Loss: 0.0016395770622391578\n",
      "Time taken for epoch: 7.33315301 seconds\n",
      "Epoch 6/10, Train Loss: 0.004073724957711216, Validation Loss: 0.0005757368260191936\n",
      "Time taken for epoch: 7.15126920 seconds\n",
      "Epoch 7/10, Train Loss: 0.003909084575612154, Validation Loss: 0.0005771390065024484\n",
      "Time taken for epoch: 7.18051410 seconds\n",
      "Epoch 8/10, Train Loss: 0.003974550759329447, Validation Loss: 0.0005112752996146622\n",
      "Time taken for epoch: 7.51418114 seconds\n",
      "Epoch 9/10, Train Loss: 0.003994795018980808, Validation Loss: 0.00047167723611085243\n",
      "Time taken for epoch: 7.95772195 seconds\n"
     ]
    },
    {
     "name": "stderr",
     "output_type": "stream",
     "text": [
      "[I 2025-07-31 02:18:40,280] Trial 12 finished with value: 0.0004846753376047517 and parameters: {'learning_rate': 5.772993892053643e-05, 'hidden_size': 128, 'num_layers': 2, 'dropout_rate': 0.39673133374780883}. Best is trial 9 with value: 0.0003084866943536867.\n"
     ]
    },
    {
     "name": "stdout",
     "output_type": "stream",
     "text": [
      "Epoch 10/10, Train Loss: 0.003993458020389636, Validation Loss: 0.0004846753376047517\n",
      "Time taken for epoch: 6.96283317 seconds\n",
      "Epoch 1/10, Train Loss: 0.03203298086411695, Validation Loss: 0.0028398257137646063\n",
      "Time taken for epoch: 7.80694628 seconds\n",
      "Epoch 2/10, Train Loss: 0.005019511845477147, Validation Loss: 0.0012731121877947186\n",
      "Time taken for epoch: 7.39944983 seconds\n",
      "Epoch 3/10, Train Loss: 0.0033289556595177128, Validation Loss: 0.00037425531061937987\n",
      "Time taken for epoch: 7.61438990 seconds\n",
      "Epoch 4/10, Train Loss: 0.0026102592393325, Validation Loss: 0.0002778378601631841\n",
      "Time taken for epoch: 7.90531492 seconds\n",
      "Epoch 5/10, Train Loss: 0.0024535684732706355, Validation Loss: 0.0003665934525928406\n",
      "Time taken for epoch: 7.44607520 seconds\n",
      "Epoch 6/10, Train Loss: 0.002406104321021642, Validation Loss: 0.0002696042405968205\n",
      "Time taken for epoch: 7.87587309 seconds\n",
      "Epoch 7/10, Train Loss: 0.002406784709883548, Validation Loss: 0.00022710985678613946\n",
      "Time taken for epoch: 7.51331306 seconds\n",
      "Epoch 8/10, Train Loss: 0.002397294594009699, Validation Loss: 0.0002781681200477298\n",
      "Time taken for epoch: 7.39406586 seconds\n",
      "Epoch 9/10, Train Loss: 0.0023794738855907943, Validation Loss: 0.0002444602858096315\n",
      "Time taken for epoch: 7.71960926 seconds\n"
     ]
    },
    {
     "name": "stderr",
     "output_type": "stream",
     "text": [
      "[I 2025-07-31 02:20:00,534] Trial 13 finished with value: 0.0003414370647974243 and parameters: {'learning_rate': 9.417807520671815e-05, 'hidden_size': 128, 'num_layers': 2, 'dropout_rate': 0.251248596662357}. Best is trial 9 with value: 0.0003084866943536867.\n"
     ]
    },
    {
     "name": "stdout",
     "output_type": "stream",
     "text": [
      "Epoch 10/10, Train Loss: 0.002404487852021051, Validation Loss: 0.0003414370647974243\n",
      "Time taken for epoch: 7.71209693 seconds\n",
      "Epoch 1/10, Train Loss: 0.7232149768765292, Validation Loss: 0.40107788886965773\n",
      "Time taken for epoch: 11.65312910 seconds\n",
      "Epoch 2/10, Train Loss: 0.25339439616496884, Validation Loss: 0.131364712428029\n",
      "Time taken for epoch: 10.81760716 seconds\n",
      "Epoch 3/10, Train Loss: 0.08983087579928227, Validation Loss: 0.026295776110960217\n",
      "Time taken for epoch: 11.17984986 seconds\n",
      "Epoch 4/10, Train Loss: 0.04924921143077203, Validation Loss: 0.008640947515041483\n",
      "Time taken for epoch: 10.05824494 seconds\n",
      "Epoch 5/10, Train Loss: 0.033752969991582546, Validation Loss: 0.005735332404060622\n",
      "Time taken for epoch: 11.82100821 seconds\n",
      "Epoch 6/10, Train Loss: 0.024384100950364748, Validation Loss: 0.00286777412638628\n",
      "Time taken for epoch: 12.39240026 seconds\n",
      "Epoch 7/10, Train Loss: 0.0189336316017851, Validation Loss: 0.0030326841951691455\n",
      "Time taken for epoch: 11.82824993 seconds\n",
      "Epoch 8/10, Train Loss: 0.015635176616818156, Validation Loss: 0.0021000400387315384\n",
      "Time taken for epoch: 10.31176114 seconds\n",
      "Epoch 9/10, Train Loss: 0.013078015200209929, Validation Loss: 0.002355798282933836\n",
      "Time taken for epoch: 10.53136206 seconds\n"
     ]
    },
    {
     "name": "stderr",
     "output_type": "stream",
     "text": [
      "[I 2025-07-31 02:21:55,623] Trial 14 finished with value: 0.0008644905818394963 and parameters: {'learning_rate': 1.2876037099816239e-05, 'hidden_size': 128, 'num_layers': 4, 'dropout_rate': 0.25081125536025173}. Best is trial 9 with value: 0.0003084866943536867.\n"
     ]
    },
    {
     "name": "stdout",
     "output_type": "stream",
     "text": [
      "Epoch 10/10, Train Loss: 0.011194346562278138, Validation Loss: 0.0008644905818394963\n",
      "Time taken for epoch: 10.02504110 seconds\n",
      "Epoch 1/10, Train Loss: 0.010621738348872081, Validation Loss: 0.0008751591917549589\n",
      "Time taken for epoch: 9.05742693 seconds\n",
      "Epoch 2/10, Train Loss: 0.0020880058652429437, Validation Loss: 0.0004754691350327204\n",
      "Time taken for epoch: 8.85835004 seconds\n",
      "Epoch 3/10, Train Loss: 0.0017792483033619321, Validation Loss: 0.0005212226470370652\n",
      "Time taken for epoch: 8.70087194 seconds\n",
      "Epoch 4/10, Train Loss: 0.001778610467062846, Validation Loss: 0.0002566039445431526\n",
      "Time taken for epoch: 8.81169677 seconds\n",
      "Epoch 5/10, Train Loss: 0.00176815455769008, Validation Loss: 0.0015741945446166028\n",
      "Time taken for epoch: 8.62530994 seconds\n",
      "Epoch 6/10, Train Loss: 0.0018185043996269466, Validation Loss: 0.00020891789000282787\n",
      "Time taken for epoch: 9.25023413 seconds\n",
      "Epoch 7/10, Train Loss: 0.0017622949472114221, Validation Loss: 0.0004521885013639487\n",
      "Time taken for epoch: 9.09992409 seconds\n",
      "Epoch 8/10, Train Loss: 0.001789828977380782, Validation Loss: 0.0004884038828045161\n",
      "Time taken for epoch: 9.45063305 seconds\n",
      "Epoch 9/10, Train Loss: 0.0017861847000008922, Validation Loss: 0.0005327824489241476\n",
      "Time taken for epoch: 8.67749977 seconds\n",
      "Early stopping triggered\n"
     ]
    },
    {
     "name": "stderr",
     "output_type": "stream",
     "text": [
      "[I 2025-07-31 02:23:29,270] Trial 15 finished with value: 0.00033352979043015915 and parameters: {'learning_rate': 0.0002517024614693027, 'hidden_size': 256, 'num_layers': 2, 'dropout_rate': 0.24749926014501572}. Best is trial 9 with value: 0.0003084866943536867.\n"
     ]
    },
    {
     "name": "stdout",
     "output_type": "stream",
     "text": [
      "Epoch 10/10, Train Loss: 0.0017642359575256706, Validation Loss: 0.00033352979043015915\n",
      "Time taken for epoch: 8.92193699 seconds\n",
      "Early stopping triggered\n",
      "Epoch 1/10, Train Loss: 0.0073099185356091875, Validation Loss: 0.0029381164259553415\n",
      "Time taken for epoch: 12.97151995 seconds\n",
      "Epoch 2/10, Train Loss: 0.007510837701969405, Validation Loss: 0.0008140581248559412\n",
      "Time taken for epoch: 12.10532999 seconds\n",
      "Epoch 3/10, Train Loss: 0.007678539014504805, Validation Loss: 0.004274782162700631\n",
      "Time taken for epoch: 10.41029572 seconds\n",
      "Epoch 4/10, Train Loss: 0.007684444802354521, Validation Loss: 0.0018146463884414188\n",
      "Time taken for epoch: 10.42262316 seconds\n",
      "Epoch 5/10, Train Loss: 0.007696296083462883, Validation Loss: 0.005106457145688104\n",
      "Time taken for epoch: 11.72417402 seconds\n",
      "Epoch 6/10, Train Loss: 0.007782466295800769, Validation Loss: 0.004316601498166852\n",
      "Time taken for epoch: 10.86536908 seconds\n",
      "Epoch 7/10, Train Loss: 0.007846167489830682, Validation Loss: 0.0022728619227941303\n",
      "Time taken for epoch: 10.48722410 seconds\n",
      "Early stopping triggered\n",
      "Epoch 8/10, Train Loss: 0.007887016540504437, Validation Loss: 0.0021794219414626175\n",
      "Time taken for epoch: 10.44995618 seconds\n",
      "Early stopping triggered\n",
      "Epoch 9/10, Train Loss: 0.007859821661458865, Validation Loss: 0.001492438452648302\n",
      "Time taken for epoch: 10.32218528 seconds\n",
      "Early stopping triggered\n"
     ]
    },
    {
     "name": "stderr",
     "output_type": "stream",
     "text": [
      "[I 2025-07-31 02:25:24,452] Trial 16 finished with value: 0.00689052059561374 and parameters: {'learning_rate': 0.00447423328214022, 'hidden_size': 256, 'num_layers': 3, 'dropout_rate': 0.3647540171569293}. Best is trial 9 with value: 0.0003084866943536867.\n"
     ]
    },
    {
     "name": "stdout",
     "output_type": "stream",
     "text": [
      "Epoch 10/10, Train Loss: 0.008000611954215748, Validation Loss: 0.00689052059561374\n",
      "Time taken for epoch: 10.90756011 seconds\n",
      "Early stopping triggered\n",
      "Epoch 1/10, Train Loss: 0.01042428991090117, Validation Loss: 0.00037509891716021364\n",
      "Time taken for epoch: 9.26958585 seconds\n",
      "Epoch 2/10, Train Loss: 0.002016573826723329, Validation Loss: 0.00028859709518295546\n",
      "Time taken for epoch: 8.72862720 seconds\n",
      "Epoch 3/10, Train Loss: 0.0017206667369030026, Validation Loss: 0.0008848785020645887\n",
      "Time taken for epoch: 8.69653463 seconds\n",
      "Epoch 4/10, Train Loss: 0.0017627464478606107, Validation Loss: 0.00036826908198923865\n",
      "Time taken for epoch: 8.70553613 seconds\n",
      "Epoch 5/10, Train Loss: 0.0017008369834224846, Validation Loss: 0.00025383415928422994\n",
      "Time taken for epoch: 8.65718031 seconds\n",
      "Epoch 6/10, Train Loss: 0.0017539626870603203, Validation Loss: 0.000568842615250449\n",
      "Time taken for epoch: 8.77454019 seconds\n",
      "Epoch 7/10, Train Loss: 0.0017267315477000743, Validation Loss: 0.00040690014402626707\n",
      "Time taken for epoch: 8.67247581 seconds\n",
      "Epoch 8/10, Train Loss: 0.0016846510255535535, Validation Loss: 0.0004896368236309283\n",
      "Time taken for epoch: 8.69961405 seconds\n",
      "Epoch 9/10, Train Loss: 0.0017412672532242793, Validation Loss: 0.0006271813714003584\n",
      "Time taken for epoch: 8.64415717 seconds\n"
     ]
    },
    {
     "name": "stderr",
     "output_type": "stream",
     "text": [
      "[I 2025-07-31 02:26:56,198] Trial 17 finished with value: 0.000425742522934171 and parameters: {'learning_rate': 0.00030237242010045916, 'hidden_size': 256, 'num_layers': 2, 'dropout_rate': 0.22159571620727989}. Best is trial 9 with value: 0.0003084866943536867.\n"
     ]
    },
    {
     "name": "stdout",
     "output_type": "stream",
     "text": [
      "Epoch 10/10, Train Loss: 0.0017611183599158843, Validation Loss: 0.000425742522934171\n",
      "Time taken for epoch: 8.69950223 seconds\n",
      "Early stopping triggered\n",
      "Epoch 1/10, Train Loss: 0.05122159224142557, Validation Loss: 0.0061846826179118315\n",
      "Time taken for epoch: 7.84534121 seconds\n",
      "Epoch 2/10, Train Loss: 0.01685918243921626, Validation Loss: 0.0031311879303713083\n",
      "Time taken for epoch: 7.83142614 seconds\n",
      "Epoch 3/10, Train Loss: 0.009610842314840698, Validation Loss: 0.0011303484653558925\n",
      "Time taken for epoch: 7.82876897 seconds\n",
      "Epoch 4/10, Train Loss: 0.00704905632125742, Validation Loss: 0.0010280643747591967\n",
      "Time taken for epoch: 7.80603385 seconds\n",
      "Epoch 5/10, Train Loss: 0.005896968352191372, Validation Loss: 0.0010143933834880466\n",
      "Time taken for epoch: 7.78354216 seconds\n",
      "Epoch 6/10, Train Loss: 0.005260911708516973, Validation Loss: 0.0007537704198744994\n",
      "Time taken for epoch: 7.83088684 seconds\n",
      "Epoch 7/10, Train Loss: 0.004983345650331076, Validation Loss: 0.001330682859437308\n",
      "Time taken for epoch: 8.12919784 seconds\n",
      "Epoch 8/10, Train Loss: 0.004815544821043957, Validation Loss: 0.0010437717556564994\n",
      "Time taken for epoch: 8.19206405 seconds\n",
      "Epoch 9/10, Train Loss: 0.00462571349272977, Validation Loss: 0.0008778547057018596\n",
      "Time taken for epoch: 8.12420917 seconds\n"
     ]
    },
    {
     "name": "stderr",
     "output_type": "stream",
     "text": [
      "[I 2025-07-31 02:28:19,240] Trial 18 finished with value: 0.0016177065294425298 and parameters: {'learning_rate': 2.8598880665823306e-05, 'hidden_size': 64, 'num_layers': 3, 'dropout_rate': 0.19063654288375717}. Best is trial 9 with value: 0.0003084866943536867.\n"
     ]
    },
    {
     "name": "stdout",
     "output_type": "stream",
     "text": [
      "Epoch 10/10, Train Loss: 0.004530627293053514, Validation Loss: 0.0016177065294425298\n",
      "Time taken for epoch: 7.94320893 seconds\n",
      "Epoch 1/10, Train Loss: 0.010623375630603909, Validation Loss: 0.0007405105681200661\n",
      "Time taken for epoch: 5.83360219 seconds\n",
      "Epoch 2/10, Train Loss: 0.0017636532603707443, Validation Loss: 0.00048214498298554046\n",
      "Time taken for epoch: 5.71002698 seconds\n",
      "Epoch 3/10, Train Loss: 0.0017250966615696896, Validation Loss: 0.0006080580719472482\n",
      "Time taken for epoch: 6.17830706 seconds\n",
      "Epoch 4/10, Train Loss: 0.0017858495832413935, Validation Loss: 0.0005562175074440502\n",
      "Time taken for epoch: 6.08942723 seconds\n",
      "Epoch 5/10, Train Loss: 0.0017543107323841985, Validation Loss: 0.000397997454767909\n",
      "Time taken for epoch: 5.89715815 seconds\n",
      "Epoch 6/10, Train Loss: 0.00176560463679176, Validation Loss: 0.0004874494921424582\n",
      "Time taken for epoch: 6.07018185 seconds\n",
      "Epoch 7/10, Train Loss: 0.0018180287612511762, Validation Loss: 0.0003702923573154926\n",
      "Time taken for epoch: 6.14296913 seconds\n",
      "Epoch 8/10, Train Loss: 0.001836922157819925, Validation Loss: 0.0004640059369546357\n",
      "Time taken for epoch: 6.08145308 seconds\n",
      "Epoch 9/10, Train Loss: 0.001799872139044829, Validation Loss: 0.0005798555592461037\n",
      "Time taken for epoch: 6.18827391 seconds\n"
     ]
    },
    {
     "name": "stderr",
     "output_type": "stream",
     "text": [
      "[I 2025-07-31 02:29:23,518] Trial 19 finished with value: 0.00037743504741567406 and parameters: {'learning_rate': 0.000532640610570233, 'hidden_size': 256, 'num_layers': 1, 'dropout_rate': 0.35412433009144406}. Best is trial 9 with value: 0.0003084866943536867.\n"
     ]
    },
    {
     "name": "stdout",
     "output_type": "stream",
     "text": [
      "Epoch 10/10, Train Loss: 0.001790592717684444, Validation Loss: 0.00037743504741567406\n",
      "Time taken for epoch: 6.44067001 seconds\n",
      "Best hyperparameters: {'learning_rate': 4.9759535984065307e-05, 'hidden_size': 128, 'num_layers': 2, 'dropout_rate': 0.26751264808600395}\n"
     ]
    },
    {
     "data": {
      "application/vnd.plotly.v1+json": {
       "config": {
        "plotlyServerURL": "https://plot.ly"
       },
       "data": [
        {
         "mode": "markers",
         "name": "Objective Value",
         "type": "scatter",
         "x": [
          0,
          1,
          2,
          3,
          4,
          5,
          6,
          7,
          8,
          9,
          10,
          11,
          12,
          13,
          14,
          15,
          16,
          17,
          18,
          19
         ],
         "y": [
          0.005423351812736455,
          0.000951375566295965,
          0.0006770203665227444,
          0.005034158680694129,
          0.0016799560517694505,
          0.0007585368893266948,
          0.07839135896679514,
          0.0012832527516729343,
          0.0009186563312471485,
          0.0003084866943536867,
          0.0005837270135205517,
          0.0003419821040723968,
          0.0004846753376047517,
          0.0003414370647974243,
          0.0008644905818394963,
          0.00033352979043015915,
          0.00689052059561374,
          0.000425742522934171,
          0.0016177065294425298,
          0.00037743504741567406
         ]
        },
        {
         "mode": "lines",
         "name": "Best Value",
         "type": "scatter",
         "x": [
          0,
          1,
          2,
          3,
          4,
          5,
          6,
          7,
          8,
          9,
          10,
          11,
          12,
          13,
          14,
          15,
          16,
          17,
          18,
          19
         ],
         "y": [
          0.005423351812736455,
          0.000951375566295965,
          0.0006770203665227444,
          0.0006770203665227444,
          0.0006770203665227444,
          0.0006770203665227444,
          0.0006770203665227444,
          0.0006770203665227444,
          0.0006770203665227444,
          0.0003084866943536867,
          0.0003084866943536867,
          0.0003084866943536867,
          0.0003084866943536867,
          0.0003084866943536867,
          0.0003084866943536867,
          0.0003084866943536867,
          0.0003084866943536867,
          0.0003084866943536867,
          0.0003084866943536867,
          0.0003084866943536867
         ]
        },
        {
         "marker": {
          "color": "#cccccc"
         },
         "mode": "markers",
         "name": "Infeasible Trial",
         "showlegend": false,
         "type": "scatter",
         "x": [],
         "y": []
        }
       ],
       "layout": {
        "template": {
         "data": {
          "bar": [
           {
            "error_x": {
             "color": "#2a3f5f"
            },
            "error_y": {
             "color": "#2a3f5f"
            },
            "marker": {
             "line": {
              "color": "#E5ECF6",
              "width": 0.5
             },
             "pattern": {
              "fillmode": "overlay",
              "size": 10,
              "solidity": 0.2
             }
            },
            "type": "bar"
           }
          ],
          "barpolar": [
           {
            "marker": {
             "line": {
              "color": "#E5ECF6",
              "width": 0.5
             },
             "pattern": {
              "fillmode": "overlay",
              "size": 10,
              "solidity": 0.2
             }
            },
            "type": "barpolar"
           }
          ],
          "carpet": [
           {
            "aaxis": {
             "endlinecolor": "#2a3f5f",
             "gridcolor": "white",
             "linecolor": "white",
             "minorgridcolor": "white",
             "startlinecolor": "#2a3f5f"
            },
            "baxis": {
             "endlinecolor": "#2a3f5f",
             "gridcolor": "white",
             "linecolor": "white",
             "minorgridcolor": "white",
             "startlinecolor": "#2a3f5f"
            },
            "type": "carpet"
           }
          ],
          "choropleth": [
           {
            "colorbar": {
             "outlinewidth": 0,
             "ticks": ""
            },
            "type": "choropleth"
           }
          ],
          "contour": [
           {
            "colorbar": {
             "outlinewidth": 0,
             "ticks": ""
            },
            "colorscale": [
             [
              0,
              "#0d0887"
             ],
             [
              0.1111111111111111,
              "#46039f"
             ],
             [
              0.2222222222222222,
              "#7201a8"
             ],
             [
              0.3333333333333333,
              "#9c179e"
             ],
             [
              0.4444444444444444,
              "#bd3786"
             ],
             [
              0.5555555555555556,
              "#d8576b"
             ],
             [
              0.6666666666666666,
              "#ed7953"
             ],
             [
              0.7777777777777778,
              "#fb9f3a"
             ],
             [
              0.8888888888888888,
              "#fdca26"
             ],
             [
              1,
              "#f0f921"
             ]
            ],
            "type": "contour"
           }
          ],
          "contourcarpet": [
           {
            "colorbar": {
             "outlinewidth": 0,
             "ticks": ""
            },
            "type": "contourcarpet"
           }
          ],
          "heatmap": [
           {
            "colorbar": {
             "outlinewidth": 0,
             "ticks": ""
            },
            "colorscale": [
             [
              0,
              "#0d0887"
             ],
             [
              0.1111111111111111,
              "#46039f"
             ],
             [
              0.2222222222222222,
              "#7201a8"
             ],
             [
              0.3333333333333333,
              "#9c179e"
             ],
             [
              0.4444444444444444,
              "#bd3786"
             ],
             [
              0.5555555555555556,
              "#d8576b"
             ],
             [
              0.6666666666666666,
              "#ed7953"
             ],
             [
              0.7777777777777778,
              "#fb9f3a"
             ],
             [
              0.8888888888888888,
              "#fdca26"
             ],
             [
              1,
              "#f0f921"
             ]
            ],
            "type": "heatmap"
           }
          ],
          "histogram": [
           {
            "marker": {
             "pattern": {
              "fillmode": "overlay",
              "size": 10,
              "solidity": 0.2
             }
            },
            "type": "histogram"
           }
          ],
          "histogram2d": [
           {
            "colorbar": {
             "outlinewidth": 0,
             "ticks": ""
            },
            "colorscale": [
             [
              0,
              "#0d0887"
             ],
             [
              0.1111111111111111,
              "#46039f"
             ],
             [
              0.2222222222222222,
              "#7201a8"
             ],
             [
              0.3333333333333333,
              "#9c179e"
             ],
             [
              0.4444444444444444,
              "#bd3786"
             ],
             [
              0.5555555555555556,
              "#d8576b"
             ],
             [
              0.6666666666666666,
              "#ed7953"
             ],
             [
              0.7777777777777778,
              "#fb9f3a"
             ],
             [
              0.8888888888888888,
              "#fdca26"
             ],
             [
              1,
              "#f0f921"
             ]
            ],
            "type": "histogram2d"
           }
          ],
          "histogram2dcontour": [
           {
            "colorbar": {
             "outlinewidth": 0,
             "ticks": ""
            },
            "colorscale": [
             [
              0,
              "#0d0887"
             ],
             [
              0.1111111111111111,
              "#46039f"
             ],
             [
              0.2222222222222222,
              "#7201a8"
             ],
             [
              0.3333333333333333,
              "#9c179e"
             ],
             [
              0.4444444444444444,
              "#bd3786"
             ],
             [
              0.5555555555555556,
              "#d8576b"
             ],
             [
              0.6666666666666666,
              "#ed7953"
             ],
             [
              0.7777777777777778,
              "#fb9f3a"
             ],
             [
              0.8888888888888888,
              "#fdca26"
             ],
             [
              1,
              "#f0f921"
             ]
            ],
            "type": "histogram2dcontour"
           }
          ],
          "mesh3d": [
           {
            "colorbar": {
             "outlinewidth": 0,
             "ticks": ""
            },
            "type": "mesh3d"
           }
          ],
          "parcoords": [
           {
            "line": {
             "colorbar": {
              "outlinewidth": 0,
              "ticks": ""
             }
            },
            "type": "parcoords"
           }
          ],
          "pie": [
           {
            "automargin": true,
            "type": "pie"
           }
          ],
          "scatter": [
           {
            "fillpattern": {
             "fillmode": "overlay",
             "size": 10,
             "solidity": 0.2
            },
            "type": "scatter"
           }
          ],
          "scatter3d": [
           {
            "line": {
             "colorbar": {
              "outlinewidth": 0,
              "ticks": ""
             }
            },
            "marker": {
             "colorbar": {
              "outlinewidth": 0,
              "ticks": ""
             }
            },
            "type": "scatter3d"
           }
          ],
          "scattercarpet": [
           {
            "marker": {
             "colorbar": {
              "outlinewidth": 0,
              "ticks": ""
             }
            },
            "type": "scattercarpet"
           }
          ],
          "scattergeo": [
           {
            "marker": {
             "colorbar": {
              "outlinewidth": 0,
              "ticks": ""
             }
            },
            "type": "scattergeo"
           }
          ],
          "scattergl": [
           {
            "marker": {
             "colorbar": {
              "outlinewidth": 0,
              "ticks": ""
             }
            },
            "type": "scattergl"
           }
          ],
          "scattermap": [
           {
            "marker": {
             "colorbar": {
              "outlinewidth": 0,
              "ticks": ""
             }
            },
            "type": "scattermap"
           }
          ],
          "scattermapbox": [
           {
            "marker": {
             "colorbar": {
              "outlinewidth": 0,
              "ticks": ""
             }
            },
            "type": "scattermapbox"
           }
          ],
          "scatterpolar": [
           {
            "marker": {
             "colorbar": {
              "outlinewidth": 0,
              "ticks": ""
             }
            },
            "type": "scatterpolar"
           }
          ],
          "scatterpolargl": [
           {
            "marker": {
             "colorbar": {
              "outlinewidth": 0,
              "ticks": ""
             }
            },
            "type": "scatterpolargl"
           }
          ],
          "scatterternary": [
           {
            "marker": {
             "colorbar": {
              "outlinewidth": 0,
              "ticks": ""
             }
            },
            "type": "scatterternary"
           }
          ],
          "surface": [
           {
            "colorbar": {
             "outlinewidth": 0,
             "ticks": ""
            },
            "colorscale": [
             [
              0,
              "#0d0887"
             ],
             [
              0.1111111111111111,
              "#46039f"
             ],
             [
              0.2222222222222222,
              "#7201a8"
             ],
             [
              0.3333333333333333,
              "#9c179e"
             ],
             [
              0.4444444444444444,
              "#bd3786"
             ],
             [
              0.5555555555555556,
              "#d8576b"
             ],
             [
              0.6666666666666666,
              "#ed7953"
             ],
             [
              0.7777777777777778,
              "#fb9f3a"
             ],
             [
              0.8888888888888888,
              "#fdca26"
             ],
             [
              1,
              "#f0f921"
             ]
            ],
            "type": "surface"
           }
          ],
          "table": [
           {
            "cells": {
             "fill": {
              "color": "#EBF0F8"
             },
             "line": {
              "color": "white"
             }
            },
            "header": {
             "fill": {
              "color": "#C8D4E3"
             },
             "line": {
              "color": "white"
             }
            },
            "type": "table"
           }
          ]
         },
         "layout": {
          "annotationdefaults": {
           "arrowcolor": "#2a3f5f",
           "arrowhead": 0,
           "arrowwidth": 1
          },
          "autotypenumbers": "strict",
          "coloraxis": {
           "colorbar": {
            "outlinewidth": 0,
            "ticks": ""
           }
          },
          "colorscale": {
           "diverging": [
            [
             0,
             "#8e0152"
            ],
            [
             0.1,
             "#c51b7d"
            ],
            [
             0.2,
             "#de77ae"
            ],
            [
             0.3,
             "#f1b6da"
            ],
            [
             0.4,
             "#fde0ef"
            ],
            [
             0.5,
             "#f7f7f7"
            ],
            [
             0.6,
             "#e6f5d0"
            ],
            [
             0.7,
             "#b8e186"
            ],
            [
             0.8,
             "#7fbc41"
            ],
            [
             0.9,
             "#4d9221"
            ],
            [
             1,
             "#276419"
            ]
           ],
           "sequential": [
            [
             0,
             "#0d0887"
            ],
            [
             0.1111111111111111,
             "#46039f"
            ],
            [
             0.2222222222222222,
             "#7201a8"
            ],
            [
             0.3333333333333333,
             "#9c179e"
            ],
            [
             0.4444444444444444,
             "#bd3786"
            ],
            [
             0.5555555555555556,
             "#d8576b"
            ],
            [
             0.6666666666666666,
             "#ed7953"
            ],
            [
             0.7777777777777778,
             "#fb9f3a"
            ],
            [
             0.8888888888888888,
             "#fdca26"
            ],
            [
             1,
             "#f0f921"
            ]
           ],
           "sequentialminus": [
            [
             0,
             "#0d0887"
            ],
            [
             0.1111111111111111,
             "#46039f"
            ],
            [
             0.2222222222222222,
             "#7201a8"
            ],
            [
             0.3333333333333333,
             "#9c179e"
            ],
            [
             0.4444444444444444,
             "#bd3786"
            ],
            [
             0.5555555555555556,
             "#d8576b"
            ],
            [
             0.6666666666666666,
             "#ed7953"
            ],
            [
             0.7777777777777778,
             "#fb9f3a"
            ],
            [
             0.8888888888888888,
             "#fdca26"
            ],
            [
             1,
             "#f0f921"
            ]
           ]
          },
          "colorway": [
           "#636efa",
           "#EF553B",
           "#00cc96",
           "#ab63fa",
           "#FFA15A",
           "#19d3f3",
           "#FF6692",
           "#B6E880",
           "#FF97FF",
           "#FECB52"
          ],
          "font": {
           "color": "#2a3f5f"
          },
          "geo": {
           "bgcolor": "white",
           "lakecolor": "white",
           "landcolor": "#E5ECF6",
           "showlakes": true,
           "showland": true,
           "subunitcolor": "white"
          },
          "hoverlabel": {
           "align": "left"
          },
          "hovermode": "closest",
          "mapbox": {
           "style": "light"
          },
          "paper_bgcolor": "white",
          "plot_bgcolor": "#E5ECF6",
          "polar": {
           "angularaxis": {
            "gridcolor": "white",
            "linecolor": "white",
            "ticks": ""
           },
           "bgcolor": "#E5ECF6",
           "radialaxis": {
            "gridcolor": "white",
            "linecolor": "white",
            "ticks": ""
           }
          },
          "scene": {
           "xaxis": {
            "backgroundcolor": "#E5ECF6",
            "gridcolor": "white",
            "gridwidth": 2,
            "linecolor": "white",
            "showbackground": true,
            "ticks": "",
            "zerolinecolor": "white"
           },
           "yaxis": {
            "backgroundcolor": "#E5ECF6",
            "gridcolor": "white",
            "gridwidth": 2,
            "linecolor": "white",
            "showbackground": true,
            "ticks": "",
            "zerolinecolor": "white"
           },
           "zaxis": {
            "backgroundcolor": "#E5ECF6",
            "gridcolor": "white",
            "gridwidth": 2,
            "linecolor": "white",
            "showbackground": true,
            "ticks": "",
            "zerolinecolor": "white"
           }
          },
          "shapedefaults": {
           "line": {
            "color": "#2a3f5f"
           }
          },
          "ternary": {
           "aaxis": {
            "gridcolor": "white",
            "linecolor": "white",
            "ticks": ""
           },
           "baxis": {
            "gridcolor": "white",
            "linecolor": "white",
            "ticks": ""
           },
           "bgcolor": "#E5ECF6",
           "caxis": {
            "gridcolor": "white",
            "linecolor": "white",
            "ticks": ""
           }
          },
          "title": {
           "x": 0.05
          },
          "xaxis": {
           "automargin": true,
           "gridcolor": "white",
           "linecolor": "white",
           "ticks": "",
           "title": {
            "standoff": 15
           },
           "zerolinecolor": "white",
           "zerolinewidth": 2
          },
          "yaxis": {
           "automargin": true,
           "gridcolor": "white",
           "linecolor": "white",
           "ticks": "",
           "title": {
            "standoff": 15
           },
           "zerolinecolor": "white",
           "zerolinewidth": 2
          }
         }
        },
        "title": {
         "text": "Optimization History Plot"
        },
        "xaxis": {
         "title": {
          "text": "Trial"
         }
        },
        "yaxis": {
         "title": {
          "text": "Objective Value"
         }
        }
       }
      }
     },
     "metadata": {},
     "output_type": "display_data"
    }
   ],
   "source": [
    "# Create study object and perform optimization\n",
    "study = optuna.create_study(direction='minimize')\n",
    "study.optimize(objective, n_trials=20)  \n",
    "\n",
    "# Best hyperparameters\n",
    "best_hyperparams = study.best_trial.params\n",
    "print('Best hyperparameters:', best_hyperparams)\n",
    "\n",
    "# Plot optimization history\n",
    "optimization_history = plot_optimization_history(study)\n",
    "optimization_history.show()"
   ]
  },
  {
   "cell_type": "markdown",
   "metadata": {},
   "source": [
    "### Best hyperparameters: {'learning_rate': 4.9759535984065307e-05, 'hidden_size': 128, 'num_layers': 2, 'dropout_rate': 0.26751264808600395}"
   ]
  },
  {
   "cell_type": "markdown",
   "metadata": {},
   "source": [
    "### Training and Validation"
   ]
  },
  {
   "cell_type": "code",
   "execution_count": 42,
   "metadata": {},
   "outputs": [
    {
     "name": "stdout",
     "output_type": "stream",
     "text": [
      "SoCDNN(\n",
      "  (hidden_layers): ModuleList(\n",
      "    (0): Linear(in_features=5, out_features=128, bias=True)\n",
      "    (1): Linear(in_features=128, out_features=64, bias=True)\n",
      "  )\n",
      "  (batch_norm_layers): ModuleList(\n",
      "    (0): BatchNorm1d(128, eps=1e-05, momentum=0.1, affine=True, track_running_stats=True)\n",
      "    (1): BatchNorm1d(64, eps=1e-05, momentum=0.1, affine=True, track_running_stats=True)\n",
      "  )\n",
      "  (output_layer): Linear(in_features=64, out_features=1, bias=True)\n",
      "  (relu): ReLU()\n",
      "  (dropout): Dropout(p=0.26751264808600395, inplace=False)\n",
      ")\n",
      "Trainable parameters: 9473\n"
     ]
    }
   ],
   "source": [
    "hidden_size = best_hyperparams['hidden_size']\n",
    "num_layers = best_hyperparams['num_layers']\n",
    "dropout = best_hyperparams['dropout_rate']\n",
    "lr = best_hyperparams['learning_rate']\n",
    "\n",
    "# Train the final model with the best hyperparameters\n",
    "model = SoCDNN(input_size=len(FEATURE_COLS), hidden_size=hidden_size, num_layers=num_layers, dropout=dropout).to(device)\n",
    "optimizer = optim.Adam(model.parameters(), lr=lr, weight_decay=0.01)\n",
    "criterion = nn.MSELoss()\n",
    "\n",
    "print(model)\n",
    "total_params = sum(p.numel() for p in model.parameters())\n",
    "print(f\"Trainable parameters: {total_params}\")"
   ]
  },
  {
   "cell_type": "code",
   "execution_count": 43,
   "metadata": {},
   "outputs": [
    {
     "name": "stderr",
     "output_type": "stream",
     "text": [
      "Epoch: 0/50: 100%|██████████| 3350/3350 [00:07<00:00, 457.10it/s]\n"
     ]
    },
    {
     "name": "stdout",
     "output_type": "stream",
     "text": [
      "Epoch 1/50, Train Loss: 0.05566898736324328, Validation Loss: 0.00355991826205138\n",
      "Time taken for epoch: 7.36067986 seconds\n"
     ]
    },
    {
     "name": "stderr",
     "output_type": "stream",
     "text": [
      "Epoch: 1/50: 100%|██████████| 3350/3350 [00:07<00:00, 447.16it/s]\n"
     ]
    },
    {
     "name": "stdout",
     "output_type": "stream",
     "text": [
      "Epoch 2/50, Train Loss: 0.009683777784178062, Validation Loss: 0.002408207137669495\n",
      "Time taken for epoch: 7.49394202 seconds\n"
     ]
    },
    {
     "name": "stderr",
     "output_type": "stream",
     "text": [
      "Epoch: 2/50: 100%|██████████| 3350/3350 [00:07<00:00, 465.31it/s]\n"
     ]
    },
    {
     "name": "stdout",
     "output_type": "stream",
     "text": [
      "Epoch 3/50, Train Loss: 0.00515167064457409, Validation Loss: 0.0003515833045728469\n",
      "Time taken for epoch: 7.20167613 seconds\n"
     ]
    },
    {
     "name": "stderr",
     "output_type": "stream",
     "text": [
      "Epoch: 3/50: 100%|██████████| 3350/3350 [00:07<00:00, 473.53it/s]\n"
     ]
    },
    {
     "name": "stdout",
     "output_type": "stream",
     "text": [
      "Epoch 4/50, Train Loss: 0.0038805991681223153, Validation Loss: 0.0004056332360788452\n",
      "Time taken for epoch: 7.07631707 seconds\n"
     ]
    },
    {
     "name": "stderr",
     "output_type": "stream",
     "text": [
      "Epoch: 4/50: 100%|██████████| 3350/3350 [00:07<00:00, 472.90it/s]\n"
     ]
    },
    {
     "name": "stdout",
     "output_type": "stream",
     "text": [
      "Epoch 5/50, Train Loss: 0.0033599497236436538, Validation Loss: 0.0006363684010131911\n",
      "Time taken for epoch: 7.08595204 seconds\n"
     ]
    },
    {
     "name": "stderr",
     "output_type": "stream",
     "text": [
      "Epoch: 5/50: 100%|██████████| 3350/3350 [00:07<00:00, 461.95it/s]\n"
     ]
    },
    {
     "name": "stdout",
     "output_type": "stream",
     "text": [
      "Epoch 6/50, Train Loss: 0.0029525351657101245, Validation Loss: 0.0005526367979319819\n",
      "Time taken for epoch: 7.25419593 seconds\n"
     ]
    },
    {
     "name": "stderr",
     "output_type": "stream",
     "text": [
      "Epoch: 6/50: 100%|██████████| 3350/3350 [00:07<00:00, 466.15it/s]\n"
     ]
    },
    {
     "name": "stdout",
     "output_type": "stream",
     "text": [
      "Epoch 7/50, Train Loss: 0.002579491730230346, Validation Loss: 0.00031832587373175123\n",
      "Time taken for epoch: 7.18860173 seconds\n"
     ]
    },
    {
     "name": "stderr",
     "output_type": "stream",
     "text": [
      "Epoch: 7/50: 100%|██████████| 3350/3350 [00:07<00:00, 431.95it/s]\n"
     ]
    },
    {
     "name": "stdout",
     "output_type": "stream",
     "text": [
      "Epoch 8/50, Train Loss: 0.0025379997269778663, Validation Loss: 0.0002640995561256986\n",
      "Time taken for epoch: 7.75753713 seconds\n",
      "Early stopping triggered\n"
     ]
    },
    {
     "name": "stderr",
     "output_type": "stream",
     "text": [
      "Epoch: 8/50: 100%|██████████| 3350/3350 [00:07<00:00, 445.50it/s]\n"
     ]
    },
    {
     "name": "stdout",
     "output_type": "stream",
     "text": [
      "Epoch 9/50, Train Loss: 0.0025123566279618707, Validation Loss: 0.0003775783067672686\n",
      "Time taken for epoch: 7.52205491 seconds\n",
      "Early stopping triggered\n"
     ]
    },
    {
     "name": "stderr",
     "output_type": "stream",
     "text": [
      "Epoch: 9/50: 100%|██████████| 3350/3350 [00:07<00:00, 444.17it/s]\n"
     ]
    },
    {
     "name": "stdout",
     "output_type": "stream",
     "text": [
      "Epoch 10/50, Train Loss: 0.0025066140083832415, Validation Loss: 0.0004780749815151509\n",
      "Time taken for epoch: 7.54415011 seconds\n",
      "Early stopping triggered\n"
     ]
    },
    {
     "name": "stderr",
     "output_type": "stream",
     "text": [
      "Epoch: 10/50: 100%|██████████| 3350/3350 [00:07<00:00, 444.17it/s]\n"
     ]
    },
    {
     "name": "stdout",
     "output_type": "stream",
     "text": [
      "Epoch 11/50, Train Loss: 0.0025350041620071924, Validation Loss: 0.00019831677248395487\n",
      "Time taken for epoch: 7.54405189 seconds\n"
     ]
    },
    {
     "name": "stderr",
     "output_type": "stream",
     "text": [
      "Epoch: 11/50: 100%|██████████| 3350/3350 [00:07<00:00, 426.57it/s]\n"
     ]
    },
    {
     "name": "stdout",
     "output_type": "stream",
     "text": [
      "Epoch 12/50, Train Loss: 0.002512727221161294, Validation Loss: 0.00027157610653928926\n",
      "Time taken for epoch: 7.85551691 seconds\n"
     ]
    },
    {
     "name": "stderr",
     "output_type": "stream",
     "text": [
      "Epoch: 12/50: 100%|██████████| 3350/3350 [00:07<00:00, 421.52it/s]\n"
     ]
    },
    {
     "name": "stdout",
     "output_type": "stream",
     "text": [
      "Epoch 13/50, Train Loss: 0.002528277577540434, Validation Loss: 0.00035456570997711225\n",
      "Time taken for epoch: 7.94960213 seconds\n"
     ]
    },
    {
     "name": "stderr",
     "output_type": "stream",
     "text": [
      "Epoch: 13/50: 100%|██████████| 3350/3350 [00:07<00:00, 427.55it/s]\n"
     ]
    },
    {
     "name": "stdout",
     "output_type": "stream",
     "text": [
      "Epoch 14/50, Train Loss: 0.0025101194044213687, Validation Loss: 0.00021832287796726398\n",
      "Time taken for epoch: 7.83710432 seconds\n"
     ]
    },
    {
     "name": "stderr",
     "output_type": "stream",
     "text": [
      "Epoch: 14/50: 100%|██████████| 3350/3350 [00:08<00:00, 412.98it/s]\n"
     ]
    },
    {
     "name": "stdout",
     "output_type": "stream",
     "text": [
      "Epoch 15/50, Train Loss: 0.0025095107216290685, Validation Loss: 0.00035591253404408153\n",
      "Time taken for epoch: 8.11369181 seconds\n"
     ]
    },
    {
     "name": "stderr",
     "output_type": "stream",
     "text": [
      "Epoch: 15/50: 100%|██████████| 3350/3350 [00:07<00:00, 425.04it/s]\n"
     ]
    },
    {
     "name": "stdout",
     "output_type": "stream",
     "text": [
      "Epoch 16/50, Train Loss: 0.002532441957137867, Validation Loss: 0.0002575293611747944\n",
      "Time taken for epoch: 7.88356042 seconds\n",
      "Early stopping triggered\n"
     ]
    },
    {
     "name": "stderr",
     "output_type": "stream",
     "text": [
      "Epoch: 16/50: 100%|██████████| 3350/3350 [00:07<00:00, 423.79it/s]\n"
     ]
    },
    {
     "name": "stdout",
     "output_type": "stream",
     "text": [
      "Epoch 17/50, Train Loss: 0.002511463753163203, Validation Loss: 0.0001746885186283945\n",
      "Time taken for epoch: 7.90696096 seconds\n",
      "Early stopping triggered\n"
     ]
    },
    {
     "name": "stderr",
     "output_type": "stream",
     "text": [
      "Epoch: 17/50: 100%|██████████| 3350/3350 [00:07<00:00, 425.41it/s]\n"
     ]
    },
    {
     "name": "stdout",
     "output_type": "stream",
     "text": [
      "Epoch 18/50, Train Loss: 0.002511277834210656, Validation Loss: 0.0004637120396945808\n",
      "Time taken for epoch: 7.87676811 seconds\n",
      "Early stopping triggered\n"
     ]
    },
    {
     "name": "stderr",
     "output_type": "stream",
     "text": [
      "Epoch: 18/50: 100%|██████████| 3350/3350 [00:07<00:00, 422.13it/s]\n"
     ]
    },
    {
     "name": "stdout",
     "output_type": "stream",
     "text": [
      "Epoch 19/50, Train Loss: 0.0025091619583527875, Validation Loss: 0.00032438235949296254\n",
      "Time taken for epoch: 7.93821907 seconds\n",
      "Early stopping triggered\n"
     ]
    },
    {
     "name": "stderr",
     "output_type": "stream",
     "text": [
      "Epoch: 19/50: 100%|██████████| 3350/3350 [00:07<00:00, 421.28it/s]\n"
     ]
    },
    {
     "name": "stdout",
     "output_type": "stream",
     "text": [
      "Epoch 20/50, Train Loss: 0.002515850579956852, Validation Loss: 0.0003715383502338216\n",
      "Time taken for epoch: 7.95414782 seconds\n",
      "Early stopping triggered\n"
     ]
    },
    {
     "name": "stderr",
     "output_type": "stream",
     "text": [
      "Epoch: 20/50: 100%|██████████| 3350/3350 [00:07<00:00, 420.53it/s]\n"
     ]
    },
    {
     "name": "stdout",
     "output_type": "stream",
     "text": [
      "Epoch 21/50, Train Loss: 0.0025164739024102576, Validation Loss: 0.0002761694721956626\n",
      "Time taken for epoch: 7.96848416 seconds\n",
      "Early stopping triggered\n"
     ]
    },
    {
     "name": "stderr",
     "output_type": "stream",
     "text": [
      "Epoch: 21/50: 100%|██████████| 3350/3350 [00:08<00:00, 417.38it/s]\n"
     ]
    },
    {
     "name": "stdout",
     "output_type": "stream",
     "text": [
      "Epoch 22/50, Train Loss: 0.0025085589424846, Validation Loss: 0.00023044345395935192\n",
      "Time taken for epoch: 8.02819204 seconds\n",
      "Early stopping triggered\n"
     ]
    },
    {
     "name": "stderr",
     "output_type": "stream",
     "text": [
      "Epoch: 22/50: 100%|██████████| 3350/3350 [00:08<00:00, 411.07it/s]\n"
     ]
    },
    {
     "name": "stdout",
     "output_type": "stream",
     "text": [
      "Epoch 23/50, Train Loss: 0.002505391694765204, Validation Loss: 0.00031683950610178127\n",
      "Time taken for epoch: 8.15155888 seconds\n",
      "Early stopping triggered\n"
     ]
    },
    {
     "name": "stderr",
     "output_type": "stream",
     "text": [
      "Epoch: 23/50: 100%|██████████| 3350/3350 [00:08<00:00, 394.52it/s]\n"
     ]
    },
    {
     "name": "stdout",
     "output_type": "stream",
     "text": [
      "Epoch 24/50, Train Loss: 0.0024917863205478376, Validation Loss: 0.0003481420593434505\n",
      "Time taken for epoch: 8.49319577 seconds\n",
      "Early stopping triggered\n"
     ]
    },
    {
     "name": "stderr",
     "output_type": "stream",
     "text": [
      "Epoch: 24/50: 100%|██████████| 3350/3350 [00:08<00:00, 377.12it/s]\n"
     ]
    },
    {
     "name": "stdout",
     "output_type": "stream",
     "text": [
      "Epoch 25/50, Train Loss: 0.00251324885469208, Validation Loss: 0.0003187025324203804\n",
      "Time taken for epoch: 8.88571072 seconds\n",
      "Early stopping triggered\n"
     ]
    },
    {
     "name": "stderr",
     "output_type": "stream",
     "text": [
      "Epoch: 25/50: 100%|██████████| 3350/3350 [00:09<00:00, 365.01it/s]\n"
     ]
    },
    {
     "name": "stdout",
     "output_type": "stream",
     "text": [
      "Epoch 26/50, Train Loss: 0.0025128567947505683, Validation Loss: 0.0002993573432045286\n",
      "Time taken for epoch: 9.18024325 seconds\n",
      "Early stopping triggered\n"
     ]
    },
    {
     "name": "stderr",
     "output_type": "stream",
     "text": [
      "Epoch: 26/50: 100%|██████████| 3350/3350 [00:09<00:00, 355.08it/s]\n"
     ]
    },
    {
     "name": "stdout",
     "output_type": "stream",
     "text": [
      "Epoch 27/50, Train Loss: 0.0025157746072135756, Validation Loss: 0.0003931807830440448\n",
      "Time taken for epoch: 9.43644619 seconds\n",
      "Early stopping triggered\n"
     ]
    },
    {
     "name": "stderr",
     "output_type": "stream",
     "text": [
      "Epoch: 27/50: 100%|██████████| 3350/3350 [00:09<00:00, 350.97it/s]\n"
     ]
    },
    {
     "name": "stdout",
     "output_type": "stream",
     "text": [
      "Epoch 28/50, Train Loss: 0.0024900427005434436, Validation Loss: 0.0003759420239643098\n",
      "Time taken for epoch: 9.54739094 seconds\n",
      "Early stopping triggered\n"
     ]
    },
    {
     "name": "stderr",
     "output_type": "stream",
     "text": [
      "Epoch: 28/50: 100%|██████████| 3350/3350 [00:09<00:00, 345.80it/s]\n"
     ]
    },
    {
     "name": "stdout",
     "output_type": "stream",
     "text": [
      "Epoch 29/50, Train Loss: 0.002515175955634175, Validation Loss: 0.0002516224666559227\n",
      "Time taken for epoch: 9.68985915 seconds\n",
      "Early stopping triggered\n"
     ]
    },
    {
     "name": "stderr",
     "output_type": "stream",
     "text": [
      "Epoch: 29/50: 100%|██████████| 3350/3350 [00:09<00:00, 347.73it/s]\n"
     ]
    },
    {
     "name": "stdout",
     "output_type": "stream",
     "text": [
      "Epoch 30/50, Train Loss: 0.002496610613776121, Validation Loss: 0.0004998847029903934\n",
      "Time taken for epoch: 9.63639498 seconds\n",
      "Early stopping triggered\n"
     ]
    },
    {
     "name": "stderr",
     "output_type": "stream",
     "text": [
      "Epoch: 30/50: 100%|██████████| 3350/3350 [00:09<00:00, 351.09it/s]\n"
     ]
    },
    {
     "name": "stdout",
     "output_type": "stream",
     "text": [
      "Epoch 31/50, Train Loss: 0.002509015379438816, Validation Loss: 0.00041516174355404184\n",
      "Time taken for epoch: 9.54407811 seconds\n",
      "Early stopping triggered\n"
     ]
    },
    {
     "name": "stderr",
     "output_type": "stream",
     "text": [
      "Epoch: 31/50: 100%|██████████| 3350/3350 [00:09<00:00, 348.97it/s]\n"
     ]
    },
    {
     "name": "stdout",
     "output_type": "stream",
     "text": [
      "Epoch 32/50, Train Loss: 0.002498776477817168, Validation Loss: 0.0002441674213897142\n",
      "Time taken for epoch: 9.60214186 seconds\n",
      "Early stopping triggered\n"
     ]
    },
    {
     "name": "stderr",
     "output_type": "stream",
     "text": [
      "Epoch: 32/50: 100%|██████████| 3350/3350 [00:09<00:00, 346.85it/s]\n"
     ]
    },
    {
     "name": "stdout",
     "output_type": "stream",
     "text": [
      "Epoch 33/50, Train Loss: 0.0024979457781135815, Validation Loss: 0.0003650213386739635\n",
      "Time taken for epoch: 9.66055608 seconds\n",
      "Early stopping triggered\n"
     ]
    },
    {
     "name": "stderr",
     "output_type": "stream",
     "text": [
      "Epoch: 33/50: 100%|██████████| 3350/3350 [00:09<00:00, 355.41it/s]\n"
     ]
    },
    {
     "name": "stdout",
     "output_type": "stream",
     "text": [
      "Epoch 34/50, Train Loss: 0.0025010420331981645, Validation Loss: 0.00035631969439413276\n",
      "Time taken for epoch: 9.42833304 seconds\n",
      "Early stopping triggered\n"
     ]
    },
    {
     "name": "stderr",
     "output_type": "stream",
     "text": [
      "Epoch: 34/50: 100%|██████████| 3350/3350 [00:09<00:00, 353.78it/s]\n"
     ]
    },
    {
     "name": "stdout",
     "output_type": "stream",
     "text": [
      "Epoch 35/50, Train Loss: 0.0025079325150781824, Validation Loss: 0.00020829006204715967\n",
      "Time taken for epoch: 9.47136307 seconds\n",
      "Early stopping triggered\n"
     ]
    },
    {
     "name": "stderr",
     "output_type": "stream",
     "text": [
      "Epoch: 35/50: 100%|██████████| 3350/3350 [00:09<00:00, 361.78it/s]\n"
     ]
    },
    {
     "name": "stdout",
     "output_type": "stream",
     "text": [
      "Epoch 36/50, Train Loss: 0.0025003307923299276, Validation Loss: 0.00041400339862015823\n",
      "Time taken for epoch: 9.26236868 seconds\n",
      "Early stopping triggered\n"
     ]
    },
    {
     "name": "stderr",
     "output_type": "stream",
     "text": [
      "Epoch: 36/50: 100%|██████████| 3350/3350 [00:09<00:00, 361.58it/s]\n"
     ]
    },
    {
     "name": "stdout",
     "output_type": "stream",
     "text": [
      "Epoch 37/50, Train Loss: 0.002503353855868023, Validation Loss: 0.00033113501204896727\n",
      "Time taken for epoch: 9.26716590 seconds\n",
      "Early stopping triggered\n"
     ]
    },
    {
     "name": "stderr",
     "output_type": "stream",
     "text": [
      "Epoch: 37/50: 100%|██████████| 3350/3350 [00:09<00:00, 362.09it/s]\n"
     ]
    },
    {
     "name": "stdout",
     "output_type": "stream",
     "text": [
      "Epoch 38/50, Train Loss: 0.002506567847588336, Validation Loss: 0.00024347800943127278\n",
      "Time taken for epoch: 9.25409007 seconds\n",
      "Early stopping triggered\n"
     ]
    },
    {
     "name": "stderr",
     "output_type": "stream",
     "text": [
      "Epoch: 38/50: 100%|██████████| 3350/3350 [00:09<00:00, 365.79it/s]\n"
     ]
    },
    {
     "name": "stdout",
     "output_type": "stream",
     "text": [
      "Epoch 39/50, Train Loss: 0.0024851517305959627, Validation Loss: 0.00039260991986785006\n",
      "Time taken for epoch: 9.16042113 seconds\n",
      "Early stopping triggered\n"
     ]
    },
    {
     "name": "stderr",
     "output_type": "stream",
     "text": [
      "Epoch: 39/50: 100%|██████████| 3350/3350 [00:09<00:00, 362.95it/s]\n"
     ]
    },
    {
     "name": "stdout",
     "output_type": "stream",
     "text": [
      "Epoch 40/50, Train Loss: 0.002501979998500545, Validation Loss: 0.0002976504973458959\n",
      "Time taken for epoch: 9.23219800 seconds\n",
      "Early stopping triggered\n"
     ]
    },
    {
     "name": "stderr",
     "output_type": "stream",
     "text": [
      "Epoch: 40/50: 100%|██████████| 3350/3350 [00:09<00:00, 358.84it/s]\n"
     ]
    },
    {
     "name": "stdout",
     "output_type": "stream",
     "text": [
      "Epoch 41/50, Train Loss: 0.002507618463167281, Validation Loss: 0.00036776332216540715\n",
      "Time taken for epoch: 9.33797717 seconds\n",
      "Early stopping triggered\n"
     ]
    },
    {
     "name": "stderr",
     "output_type": "stream",
     "text": [
      "Epoch: 41/50: 100%|██████████| 3350/3350 [00:09<00:00, 364.13it/s]\n"
     ]
    },
    {
     "name": "stdout",
     "output_type": "stream",
     "text": [
      "Epoch 42/50, Train Loss: 0.0025090624837885932, Validation Loss: 0.0006398347474603769\n",
      "Time taken for epoch: 9.20258594 seconds\n",
      "Early stopping triggered\n"
     ]
    },
    {
     "name": "stderr",
     "output_type": "stream",
     "text": [
      "Epoch: 42/50: 100%|██████████| 3350/3350 [00:09<00:00, 363.64it/s]\n"
     ]
    },
    {
     "name": "stdout",
     "output_type": "stream",
     "text": [
      "Epoch 43/50, Train Loss: 0.002476936636332756, Validation Loss: 0.00024123496146569046\n",
      "Time taken for epoch: 9.21485305 seconds\n",
      "Early stopping triggered\n"
     ]
    },
    {
     "name": "stderr",
     "output_type": "stream",
     "text": [
      "Epoch: 43/50: 100%|██████████| 3350/3350 [00:09<00:00, 358.30it/s]\n"
     ]
    },
    {
     "name": "stdout",
     "output_type": "stream",
     "text": [
      "Epoch 44/50, Train Loss: 0.002495841784941366, Validation Loss: 0.0003374600339209725\n",
      "Time taken for epoch: 9.35228610 seconds\n",
      "Early stopping triggered\n"
     ]
    },
    {
     "name": "stderr",
     "output_type": "stream",
     "text": [
      "Epoch: 44/50: 100%|██████████| 3350/3350 [00:09<00:00, 353.04it/s]\n"
     ]
    },
    {
     "name": "stdout",
     "output_type": "stream",
     "text": [
      "Epoch 45/50, Train Loss: 0.002518942545466959, Validation Loss: 0.00022120966159685316\n",
      "Time taken for epoch: 9.49119091 seconds\n",
      "Early stopping triggered\n"
     ]
    },
    {
     "name": "stderr",
     "output_type": "stream",
     "text": [
      "Epoch: 45/50: 100%|██████████| 3350/3350 [00:09<00:00, 356.37it/s]\n"
     ]
    },
    {
     "name": "stdout",
     "output_type": "stream",
     "text": [
      "Epoch 46/50, Train Loss: 0.0025109480944489923, Validation Loss: 0.0005963560817146971\n",
      "Time taken for epoch: 9.40284324 seconds\n",
      "Early stopping triggered\n"
     ]
    },
    {
     "name": "stderr",
     "output_type": "stream",
     "text": [
      "Epoch: 46/50: 100%|██████████| 3350/3350 [00:09<00:00, 358.63it/s]\n"
     ]
    },
    {
     "name": "stdout",
     "output_type": "stream",
     "text": [
      "Epoch 47/50, Train Loss: 0.0025044932618820625, Validation Loss: 0.0002006336979412126\n",
      "Time taken for epoch: 9.34342813 seconds\n",
      "Early stopping triggered\n"
     ]
    },
    {
     "name": "stderr",
     "output_type": "stream",
     "text": [
      "Epoch: 47/50: 100%|██████████| 3350/3350 [00:10<00:00, 332.15it/s]\n"
     ]
    },
    {
     "name": "stdout",
     "output_type": "stream",
     "text": [
      "Epoch 48/50, Train Loss: 0.0024951254581657254, Validation Loss: 0.00035152528608932697\n",
      "Time taken for epoch: 10.08824515 seconds\n",
      "Early stopping triggered\n"
     ]
    },
    {
     "name": "stderr",
     "output_type": "stream",
     "text": [
      "Epoch: 48/50: 100%|██████████| 3350/3350 [00:10<00:00, 321.10it/s]\n"
     ]
    },
    {
     "name": "stdout",
     "output_type": "stream",
     "text": [
      "Epoch 49/50, Train Loss: 0.002491689146141897, Validation Loss: 0.0006558055257980369\n",
      "Time taken for epoch: 10.43516183 seconds\n",
      "Early stopping triggered\n"
     ]
    },
    {
     "name": "stderr",
     "output_type": "stream",
     "text": [
      "Epoch: 49/50: 100%|██████████| 3350/3350 [00:09<00:00, 341.05it/s]\n"
     ]
    },
    {
     "name": "stdout",
     "output_type": "stream",
     "text": [
      "Epoch 50/50, Train Loss: 0.002512961104894474, Validation Loss: 0.0002522384352142503\n",
      "Time taken for epoch: 9.82470512 seconds\n",
      "Early stopping triggered\n"
     ]
    },
    {
     "data": {
      "image/png": "[encoded data removed]",
      "text/plain": [
       "<Figure size 1000x500 with 1 Axes>"
      ]
     },
     "metadata": {},
     "output_type": "display_data"
    }
   ],
   "source": [
    "EPOCHS = 50\n",
    "history = train_and_validate(model, criterion, optimizer, train_loader, val_loader, EPOCHS, device)\n",
    "\n",
    "# Plot training history\n",
    "plt.figure(figsize=(10, 5))\n",
    "plt.plot(history['train_loss'], label='Train Loss')\n",
    "plt.plot(history['val_loss'], label='Validation Loss')\n",
    "plt.xlabel('Epoch')\n",
    "plt.ylabel('Loss')\n",
    "plt.title('Training and Validation Loss Over Epochs')\n",
    "plt.legend()\n",
    "plt.grid(True)\n",
    "plt.show()\n",
    "\n",
    "# Save the model\n",
    "model_path = \"soc_fcn_model.pth\"\n",
    "torch.save({'model_state_dict': model.state_dict(), 'input_size': len(FEATURE_COLS)}, model_path)"
   ]
  },
  {
   "cell_type": "markdown",
   "metadata": {},
   "source": [
    "### Testing"
   ]
  },
  {
   "cell_type": "code",
   "execution_count": 44,
   "metadata": {},
   "outputs": [],
   "source": [
    "model_path = \"soc_fcn_model.pth\"\n",
    "\n",
    "def load_model(model_path, input_size):\n",
    "    model = SoCDNN(input_size=len(FEATURE_COLS), hidden_size=hidden_size, num_layers=num_layers, dropout=dropout).to(device)\n",
    "    model.load_state_dict(torch.load(model_path, map_location=device)['model_state_dict'])\n",
    "    model.to(device)\n",
    "    model.eval()\n",
    "    return model\n",
    "\n",
    "loaded_model = load_model(model_path, len(FEATURE_COLS))"
   ]
  },
  {
   "cell_type": "code",
   "execution_count": 45,
   "metadata": {},
   "outputs": [],
   "source": [
    "def test_model(model, test_loader, device):\n",
    "    model.eval()\n",
    "    test_predictions = []\n",
    "    test_labels = []\n",
    "\n",
    "    with torch.no_grad():\n",
    "        for inputs, labels, _, _ in test_loader: \n",
    "            inputs, labels = inputs.to(device), labels.to(device)\n",
    "            outputs = model(inputs)\n",
    "            test_predictions.extend(outputs.cpu().view(-1).tolist())\n",
    "            test_labels.extend(labels.cpu().view(-1).tolist())\n",
    "\n",
    "    return test_predictions, test_labels\n",
    "\n",
    "# Evaluate the model\n",
    "test_predictions, test_labels = test_model(loaded_model, test_loader, device)\n",
    "\n",
    "# Convert predictions and labels to numpy arrays for error calculation\n",
    "test_predictions_np = np.array(test_predictions)\n",
    "test_labels_np = np.array(test_labels)"
   ]
  },
  {
   "cell_type": "code",
   "execution_count": 46,
   "metadata": {},
   "outputs": [
    {
     "name": "stdout",
     "output_type": "stream",
     "text": [
      "Test MSE: 0.000251\n",
      "Test MAE: 0.010731\n",
      "Test StdDev: 0.015694\n"
     ]
    }
   ],
   "source": [
    "# Calculate metrics MAE, MSE, STD\n",
    "mse = mean_squared_error(test_labels_np, test_predictions_np)\n",
    "mae = mean_absolute_error(test_labels_np, test_predictions_np)\n",
    "stddev = np.std(test_labels_np - test_predictions_np)\n",
    "\n",
    "print(f\"Test MSE: {mse:.6f}\")\n",
    "print(f\"Test MAE: {mae:.6f}\")\n",
    "print(f\"Test StdDev: {stddev:.6f}\")"
   ]
  },
  {
   "cell_type": "code",
   "execution_count": 47,
   "metadata": {},
   "outputs": [
    {
     "data": {
      "image/png": "[encoded data removed]",
      "text/plain": [
       "<Figure size 800x800 with 1 Axes>"
      ]
     },
     "metadata": {},
     "output_type": "display_data"
    }
   ],
   "source": [
    "plt.figure(figsize=(8, 8))\n",
    "plt.scatter(test_labels, test_predictions, alpha=0.5)\n",
    "plt.xlabel('True Values [SOC]')\n",
    "plt.ylabel('Predictions [SOC]')\n",
    "plt.axis('equal')\n",
    "plt.axis('square')\n",
    "plt.xlim([0, 1])\n",
    "plt.ylim([0, 1])\n",
    "plt.plot([0, 1], [0, 1], color='red') \n",
    "plt.title('Predicted SOC vs True SOC')\n",
    "plt.show()"
   ]
  },
  {
   "cell_type": "markdown",
   "metadata": {},
   "source": [
    "### Qualitative Comparison"
   ]
  },
  {
   "cell_type": "code",
   "execution_count": 48,
   "metadata": {},
   "outputs": [
    {
     "data": {
      "image/png": "[encoded data removed]",
      "text/plain": [
       "<Figure size 1200x600 with 1 Axes>"
      ]
     },
     "metadata": {},
     "output_type": "display_data"
    },
    {
     "data": {
      "image/png": "[encoded data removed]",
      "text/plain": [
       "<Figure size 1200x600 with 1 Axes>"
      ]
     },
     "metadata": {},
     "output_type": "display_data"
    },
    {
     "data": {
      "image/png": "[encoded data removed]",
      "text/plain": [
       "<Figure size 1200x600 with 1 Axes>"
      ]
     },
     "metadata": {},
     "output_type": "display_data"
    },
    {
     "data": {
      "image/png": "[encoded data removed]",
      "text/plain": [
       "<Figure size 1200x600 with 1 Axes>"
      ]
     },
     "metadata": {},
     "output_type": "display_data"
    },
    {
     "data": {
      "image/png": "[encoded data removed]",
      "text/plain": [
       "<Figure size 1200x600 with 1 Axes>"
      ]
     },
     "metadata": {},
     "output_type": "display_data"
    },
    {
     "data": {
      "image/png": "[encoded data removed]",
      "text/plain": [
       "<Figure size 1200x600 with 1 Axes>"
      ]
     },
     "metadata": {},
     "output_type": "display_data"
    },
    {
     "data": {
      "image/png": "[encoded data removed]",
      "text/plain": [
       "<Figure size 1200x600 with 1 Axes>"
      ]
     },
     "metadata": {},
     "output_type": "display_data"
    },
    {
     "data": {
      "image/png": "[encoded data removed]",
      "text/plain": [
       "<Figure size 1200x600 with 1 Axes>"
      ]
     },
     "metadata": {},
     "output_type": "display_data"
    },
    {
     "data": {
      "image/png": "[encoded data removed]",
      "text/plain": [
       "<Figure size 1200x600 with 1 Axes>"
      ]
     },
     "metadata": {},
     "output_type": "display_data"
    }
   ],
   "source": [
    "def test_model(model, test_loader, device):\n",
    "    model.eval()\n",
    "    test_results = {}\n",
    "\n",
    "    with torch.no_grad():\n",
    "        for inputs, labels, filenames, times in test_loader: \n",
    "            inputs, labels = inputs.to(device), labels.to(device)\n",
    "            outputs = model(inputs)\n",
    "            predictions = outputs.cpu().view(-1).numpy()\n",
    "            labels = labels.cpu().view(-1).numpy()\n",
    "\n",
    "            for filename, time, pred, label in zip(filenames, times, predictions, labels):\n",
    "                if filename not in test_results:\n",
    "                    test_results[filename] = {'times': [], 'predictions': [], 'labels': []}\n",
    "                test_results[filename]['times'].append(time)\n",
    "                test_results[filename]['predictions'].append(pred)\n",
    "                test_results[filename]['labels'].append(label)\n",
    "\n",
    "    return test_results\n",
    "\n",
    "def plot_soc_over_time(test_results):\n",
    "    for filename, data in test_results.items():\n",
    "        times = data['times']\n",
    "        predictions = data['predictions']\n",
    "        labels = data['labels']\n",
    "\n",
    "        plt.figure(figsize=(12, 6))\n",
    "        plt.plot(times, labels, label='True SOC', color='blue')\n",
    "        plt.plot(times, predictions, label='Predicted SOC', color='red')\n",
    "        plt.title(f'Test File: {filename}')\n",
    "        plt.xlabel('Time [s]')\n",
    "        plt.ylabel('SOC')\n",
    "        plt.legend()\n",
    "        plt.show()\n",
    "\n",
    "# Evaluate the model on the test set\n",
    "test_results = test_model(loaded_model, test_loader, device)\n",
    "\n",
    "# Plot the SOC over time for each test file\n",
    "plot_soc_over_time(test_results)"
   ]
  }
 ],
 "metadata": {
  "kernelspec": {
   "display_name": "Python 3",
   "language": "python",
   "name": "python3"
  },
  "language_info": {
   "codemirror_mode": {
    "name": "ipython",
    "version": 3
   },
   "file_extension": ".py",
   "mimetype": "text/x-python",
   "name": "python",
   "nbconvert_exporter": "python",
   "pygments_lexer": "ipython3",
   "version": "3.9.6"
  }
 },
 "nbformat": 4,
 "nbformat_minor": 2
}
