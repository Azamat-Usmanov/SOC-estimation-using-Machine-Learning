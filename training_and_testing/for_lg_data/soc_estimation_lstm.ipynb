{
 "cells": [
  {
   "cell_type": "markdown",
   "metadata": {},
   "source": [
    "### LSTM (Long-short time memory) model for SOC prediction with using LG 18650HG2 Li-ion Battery "
   ]
  },
  {
   "cell_type": "code",
   "execution_count": 21,
   "metadata": {},
   "outputs": [],
   "source": [
    "import os\n",
    "import pandas as pd\n",
    "import numpy as np\n",
    "import torch\n",
    "import torch.nn as nn\n",
    "import torch.optim as optim\n",
    "from torch.utils.data import Dataset, DataLoader\n",
    "import matplotlib.pyplot as plt\n",
    "from sklearn.model_selection import train_test_split\n",
    "from sklearn.preprocessing import StandardScaler\n",
    "import optuna\n",
    "import time\n",
    "from optuna.visualization import plot_optimization_history\n",
    "from tqdm import tqdm\n",
    "from sklearn.metrics import mean_squared_error, mean_absolute_error"
   ]
  },
  {
   "cell_type": "code",
   "execution_count": 2,
   "metadata": {},
   "outputs": [],
   "source": [
    "PROCESSED_DATA_DIR = '../../datasets/LG_dataset/LG_HG2_processed'\n",
    "FEATURE_COLS = ['Voltage [V]', 'Current [A]', 'Temperature [degC]', 'Power [W]', 'Cumulative_Capacity_Ah']\n",
    "LABEL_COL = 'SOC [-]'\n",
    "BATCH_SIZE = 128\n",
    "SEQUENCE_LENGTH = 20  \n",
    "device = torch.device(\"cuda:0\" if torch.cuda.is_available() else \"cpu\")"
   ]
  },
  {
   "cell_type": "code",
   "execution_count": 3,
   "metadata": {},
   "outputs": [
    {
     "data": {
      "text/plain": [
       "device(type='cuda', index=0)"
      ]
     },
     "execution_count": 3,
     "metadata": {},
     "output_type": "execute_result"
    }
   ],
   "source": [
    "device"
   ]
  },
  {
   "cell_type": "code",
   "execution_count": 4,
   "metadata": {},
   "outputs": [],
   "source": [
    "# Function to load data\n",
    "def load_data(directory, temperatures):\n",
    "    frames = []    \n",
    "    for temp_folder in os.listdir(directory):\n",
    "        if temp_folder in temperatures:\n",
    "            temp_path = os.path.join(directory, temp_folder)\n",
    "            for file in os.listdir(temp_path):\n",
    "                if 'Charge' in file or 'Dis' in file:\n",
    "                    continue  # Skip constant charge and discharge files\n",
    "                if file.endswith('.csv'):\n",
    "                    df = pd.read_csv(os.path.join(temp_path, file))\n",
    "                    df['SourceFile'] = file\n",
    "\n",
    "                    # Calculate power\n",
    "                    df['Power [W]'] = df['Voltage [V]'] * df['Current [A]']\n",
    "                    \n",
    "                    frames.append(df)\n",
    "    return pd.concat(frames, ignore_index=True)"
   ]
  },
  {
   "cell_type": "code",
   "execution_count": 5,
   "metadata": {},
   "outputs": [],
   "source": [
    "# Custom dataset class for LSTM\n",
    "class BatteryDatasetLSTM(Dataset):\n",
    "    def __init__(self, data_tensor, labels_tensor, sequence_length=50, filenames=None, times=None):\n",
    "        self.sequence_length = sequence_length\n",
    "        self.features = data_tensor\n",
    "        self.labels = labels_tensor\n",
    "        self.filenames = filenames \n",
    "        self.times = times \n",
    "\n",
    "    def __len__(self):\n",
    "        return len(self.features) - self.sequence_length\n",
    "\n",
    "    def __getitem__(self, idx):\n",
    "        idx_end = idx + self.sequence_length\n",
    "        sequence = self.features[idx:idx_end]\n",
    "        label = self.labels[idx_end - 1]\n",
    "        filename = self.filenames[idx_end - 1]\n",
    "        time = self.times[idx_end - 1]  \n",
    "\n",
    "        sequence = sequence.clone().detach()\n",
    "        label = label.clone().detach()\n",
    "\n",
    "        return sequence, label, filename, time\n",
    "    \n",
    "    def get_unique_filenames(self):\n",
    "        return set(self.filenames)\n",
    "    \n",
    "    def get_times(self):\n",
    "        return self.times"
   ]
  },
  {
   "cell_type": "code",
   "execution_count": 6,
   "metadata": {},
   "outputs": [],
   "source": [
    "# SoCLSTM Model\n",
    "class SoCLSTM(nn.Module):\n",
    "    def __init__(self, input_size, hidden_size, num_layers):\n",
    "        super(SoCLSTM, self).__init__()\n",
    "        self.hidden_size = hidden_size\n",
    "        self.num_layers = num_layers\n",
    "        self.lstm = nn.LSTM(input_size, hidden_size, num_layers, batch_first=True)\n",
    "        self.fc = nn.Linear(hidden_size, 1)\n",
    "\n",
    "    def forward(self, x):\n",
    "        h0 = torch.zeros(self.num_layers, x.size(0), self.hidden_size, dtype=x.dtype, device=x.device)\n",
    "        c0 = torch.zeros(self.num_layers, x.size(0), self.hidden_size, dtype=x.dtype, device=x.device)\n",
    "        out, _ = self.lstm(x, (h0, c0))\n",
    "        out = self.fc(out[:, -1, :])\n",
    "        return out"
   ]
  },
  {
   "cell_type": "code",
   "execution_count": 7,
   "metadata": {},
   "outputs": [],
   "source": [
    "# Training loop with validation\n",
    "def train_and_validate(model, criterion, optimizer, train_loader, val_loader, epochs, device, patience=5, min_delta=0.0001, flag=False):\n",
    "    history = {'train_loss': [], 'val_loss': []}\n",
    "\n",
    "    best_val_loss = float('inf')\n",
    "    epochs_no_improve = 0\n",
    "    \n",
    "    for epoch in range(epochs):\n",
    "        model.train()\n",
    "        train_loss = 0.0\n",
    "        epoch_start_time = time.time()\n",
    "        for _, (sequences, labels, _, _) in enumerate(tqdm(train_loader, desc=f'Epoch: {epoch}/{epochs}')):  \n",
    "            sequences, labels = sequences.to(device), labels.to(device)\n",
    "            labels = labels.unsqueeze(1) \n",
    "            optimizer.zero_grad()\n",
    "            outputs = model(sequences)\n",
    "            loss = criterion(outputs, labels)\n",
    "            loss.backward()\n",
    "            optimizer.step()\n",
    "            train_loss += loss.item()\n",
    "        \n",
    "        epoch_end_time = time.time()\n",
    "        epoch_time = epoch_end_time - epoch_start_time\n",
    "        train_loss /= len(train_loader)\n",
    "        history['train_loss'].append(train_loss)\n",
    "\n",
    "        model.eval()\n",
    "        val_loss = 0.0\n",
    "        with torch.no_grad():\n",
    "            for sequences, labels, _, _ in val_loader:  \n",
    "                sequences, labels = sequences.to(device), labels.to(device)\n",
    "                labels = labels.unsqueeze(1)  \n",
    "                outputs = model(sequences)\n",
    "                loss = criterion(outputs, labels)\n",
    "                val_loss += loss.item()\n",
    "\n",
    "        val_loss /= len(val_loader)\n",
    "        history['val_loss'].append(val_loss)\n",
    "\n",
    "        # Early stopping logic\n",
    "        if val_loss < best_val_loss - min_delta:\n",
    "            best_val_loss = val_loss\n",
    "            epochs_no_improve = 0\n",
    "        else:\n",
    "            epochs_no_improve += 1\n",
    "\n",
    "        print(f'Epoch {epoch + 1}/{epochs}, Train Loss: {train_loss}, Validation Loss: {val_loss}')\n",
    "        print(f'Time taken for epoch: {epoch_time:.8f} seconds')\n",
    "        \n",
    "        if flag:\n",
    "            model_path = \"soc_lstm_model.pth\"\n",
    "            torch.save({'model_state_dict': model.state_dict(), 'input_size': len(FEATURE_COLS)}, model_path)\n",
    "        if epochs_no_improve >= patience:\n",
    "            print('Early stopping triggered')\n",
    "            #break\n",
    "\n",
    "    return history"
   ]
  },
  {
   "cell_type": "code",
   "execution_count": 8,
   "metadata": {},
   "outputs": [],
   "source": [
    "temperatures_to_process = [folder for folder in os.listdir(PROCESSED_DATA_DIR) if 'degC' in folder]"
   ]
  },
  {
   "cell_type": "code",
   "execution_count": 9,
   "metadata": {},
   "outputs": [
    {
     "data": {
      "text/html": [
       "<div>\n",
       "<style scoped>\n",
       "    .dataframe tbody tr th:only-of-type {\n",
       "        vertical-align: middle;\n",
       "    }\n",
       "\n",
       "    .dataframe tbody tr th {\n",
       "        vertical-align: top;\n",
       "    }\n",
       "\n",
       "    .dataframe thead th {\n",
       "        text-align: right;\n",
       "    }\n",
       "</style>\n",
       "<table border=\"1\" class=\"dataframe\">\n",
       "  <thead>\n",
       "    <tr style=\"text-align: right;\">\n",
       "      <th></th>\n",
       "      <th>Timestamp</th>\n",
       "      <th>Time [min]</th>\n",
       "      <th>Time [s]</th>\n",
       "      <th>Voltage [V]</th>\n",
       "      <th>Current [A]</th>\n",
       "      <th>Temperature [degC]</th>\n",
       "      <th>Capacity [Ah]</th>\n",
       "      <th>Time_diff</th>\n",
       "      <th>Cumulative_Capacity_Ah</th>\n",
       "      <th>SOC [-]</th>\n",
       "      <th>Rounded_Time</th>\n",
       "      <th>SourceFile</th>\n",
       "      <th>Power [W]</th>\n",
       "    </tr>\n",
       "  </thead>\n",
       "  <tbody>\n",
       "    <tr>\n",
       "      <th>0</th>\n",
       "      <td>2018-11-26 22:46:24</td>\n",
       "      <td>0.000000</td>\n",
       "      <td>0.000</td>\n",
       "      <td>4.18799</td>\n",
       "      <td>0.0</td>\n",
       "      <td>-0.63095</td>\n",
       "      <td>0.0000</td>\n",
       "      <td>0.000000</td>\n",
       "      <td>0.000000</td>\n",
       "      <td>1.005034</td>\n",
       "      <td>0</td>\n",
       "      <td>585_HPPC_processed.csv</td>\n",
       "      <td>0.0</td>\n",
       "    </tr>\n",
       "    <tr>\n",
       "      <th>1</th>\n",
       "      <td>2018-11-26 22:46:25</td>\n",
       "      <td>0.009967</td>\n",
       "      <td>0.598</td>\n",
       "      <td>4.18799</td>\n",
       "      <td>0.0</td>\n",
       "      <td>-0.63095</td>\n",
       "      <td>0.0000</td>\n",
       "      <td>0.000028</td>\n",
       "      <td>0.000000</td>\n",
       "      <td>1.005034</td>\n",
       "      <td>1</td>\n",
       "      <td>585_HPPC_processed.csv</td>\n",
       "      <td>0.0</td>\n",
       "    </tr>\n",
       "    <tr>\n",
       "      <th>2</th>\n",
       "      <td>2018-11-26 22:46:26</td>\n",
       "      <td>0.026650</td>\n",
       "      <td>1.599</td>\n",
       "      <td>4.18799</td>\n",
       "      <td>0.0</td>\n",
       "      <td>-0.63095</td>\n",
       "      <td>0.0000</td>\n",
       "      <td>0.000028</td>\n",
       "      <td>0.000000</td>\n",
       "      <td>1.005034</td>\n",
       "      <td>2</td>\n",
       "      <td>585_HPPC_processed.csv</td>\n",
       "      <td>0.0</td>\n",
       "    </tr>\n",
       "    <tr>\n",
       "      <th>3</th>\n",
       "      <td>2018-11-26 22:46:27</td>\n",
       "      <td>0.043350</td>\n",
       "      <td>2.601</td>\n",
       "      <td>4.18799</td>\n",
       "      <td>0.0</td>\n",
       "      <td>-0.63095</td>\n",
       "      <td>0.0000</td>\n",
       "      <td>0.000028</td>\n",
       "      <td>0.000000</td>\n",
       "      <td>1.005034</td>\n",
       "      <td>3</td>\n",
       "      <td>585_HPPC_processed.csv</td>\n",
       "      <td>0.0</td>\n",
       "    </tr>\n",
       "    <tr>\n",
       "      <th>4</th>\n",
       "      <td>2018-11-26 22:46:28</td>\n",
       "      <td>0.058350</td>\n",
       "      <td>3.501</td>\n",
       "      <td>4.18799</td>\n",
       "      <td>0.0</td>\n",
       "      <td>-0.63095</td>\n",
       "      <td>0.0000</td>\n",
       "      <td>0.000028</td>\n",
       "      <td>0.000000</td>\n",
       "      <td>1.005034</td>\n",
       "      <td>4</td>\n",
       "      <td>585_HPPC_processed.csv</td>\n",
       "      <td>0.0</td>\n",
       "    </tr>\n",
       "    <tr>\n",
       "      <th>...</th>\n",
       "      <td>...</td>\n",
       "      <td>...</td>\n",
       "      <td>...</td>\n",
       "      <td>...</td>\n",
       "      <td>...</td>\n",
       "      <td>...</td>\n",
       "      <td>...</td>\n",
       "      <td>...</td>\n",
       "      <td>...</td>\n",
       "      <td>...</td>\n",
       "      <td>...</td>\n",
       "      <td>...</td>\n",
       "      <td>...</td>\n",
       "    </tr>\n",
       "    <tr>\n",
       "      <th>532257</th>\n",
       "      <td>2018-12-26 22:37:45</td>\n",
       "      <td>27.609450</td>\n",
       "      <td>1656.567</td>\n",
       "      <td>4.06038</td>\n",
       "      <td>0.0</td>\n",
       "      <td>-19.87496</td>\n",
       "      <td>-0.2426</td>\n",
       "      <td>0.000028</td>\n",
       "      <td>-0.243146</td>\n",
       "      <td>0.902752</td>\n",
       "      <td>1657</td>\n",
       "      <td>611_PausCycl_processed.csv</td>\n",
       "      <td>0.0</td>\n",
       "    </tr>\n",
       "    <tr>\n",
       "      <th>532258</th>\n",
       "      <td>2018-12-26 22:37:46</td>\n",
       "      <td>27.626117</td>\n",
       "      <td>1657.567</td>\n",
       "      <td>4.06038</td>\n",
       "      <td>0.0</td>\n",
       "      <td>-19.87496</td>\n",
       "      <td>-0.2426</td>\n",
       "      <td>0.000028</td>\n",
       "      <td>-0.243146</td>\n",
       "      <td>0.902752</td>\n",
       "      <td>1658</td>\n",
       "      <td>611_PausCycl_processed.csv</td>\n",
       "      <td>0.0</td>\n",
       "    </tr>\n",
       "    <tr>\n",
       "      <th>532259</th>\n",
       "      <td>2018-12-26 22:37:47</td>\n",
       "      <td>27.642800</td>\n",
       "      <td>1658.568</td>\n",
       "      <td>4.06038</td>\n",
       "      <td>0.0</td>\n",
       "      <td>-19.87496</td>\n",
       "      <td>-0.2426</td>\n",
       "      <td>0.000028</td>\n",
       "      <td>-0.243146</td>\n",
       "      <td>0.902752</td>\n",
       "      <td>1659</td>\n",
       "      <td>611_PausCycl_processed.csv</td>\n",
       "      <td>0.0</td>\n",
       "    </tr>\n",
       "    <tr>\n",
       "      <th>532260</th>\n",
       "      <td>2018-12-26 22:37:48</td>\n",
       "      <td>27.659433</td>\n",
       "      <td>1659.566</td>\n",
       "      <td>4.06038</td>\n",
       "      <td>0.0</td>\n",
       "      <td>-19.87496</td>\n",
       "      <td>-0.2426</td>\n",
       "      <td>0.000027</td>\n",
       "      <td>-0.243146</td>\n",
       "      <td>0.902752</td>\n",
       "      <td>1660</td>\n",
       "      <td>611_PausCycl_processed.csv</td>\n",
       "      <td>0.0</td>\n",
       "    </tr>\n",
       "    <tr>\n",
       "      <th>532261</th>\n",
       "      <td>2018-12-26 22:37:49</td>\n",
       "      <td>27.676083</td>\n",
       "      <td>1660.565</td>\n",
       "      <td>4.06038</td>\n",
       "      <td>0.0</td>\n",
       "      <td>-19.87496</td>\n",
       "      <td>-0.2426</td>\n",
       "      <td>0.000027</td>\n",
       "      <td>-0.243146</td>\n",
       "      <td>0.902752</td>\n",
       "      <td>1661</td>\n",
       "      <td>611_PausCycl_processed.csv</td>\n",
       "      <td>0.0</td>\n",
       "    </tr>\n",
       "  </tbody>\n",
       "</table>\n",
       "<p>532262 rows × 13 columns</p>\n",
       "</div>"
      ],
      "text/plain": [
       "                  Timestamp  Time [min]  Time [s]  Voltage [V]  Current [A]  \\\n",
       "0       2018-11-26 22:46:24    0.000000     0.000      4.18799          0.0   \n",
       "1       2018-11-26 22:46:25    0.009967     0.598      4.18799          0.0   \n",
       "2       2018-11-26 22:46:26    0.026650     1.599      4.18799          0.0   \n",
       "3       2018-11-26 22:46:27    0.043350     2.601      4.18799          0.0   \n",
       "4       2018-11-26 22:46:28    0.058350     3.501      4.18799          0.0   \n",
       "...                     ...         ...       ...          ...          ...   \n",
       "532257  2018-12-26 22:37:45   27.609450  1656.567      4.06038          0.0   \n",
       "532258  2018-12-26 22:37:46   27.626117  1657.567      4.06038          0.0   \n",
       "532259  2018-12-26 22:37:47   27.642800  1658.568      4.06038          0.0   \n",
       "532260  2018-12-26 22:37:48   27.659433  1659.566      4.06038          0.0   \n",
       "532261  2018-12-26 22:37:49   27.676083  1660.565      4.06038          0.0   \n",
       "\n",
       "        Temperature [degC]  Capacity [Ah]  Time_diff  Cumulative_Capacity_Ah  \\\n",
       "0                 -0.63095         0.0000   0.000000                0.000000   \n",
       "1                 -0.63095         0.0000   0.000028                0.000000   \n",
       "2                 -0.63095         0.0000   0.000028                0.000000   \n",
       "3                 -0.63095         0.0000   0.000028                0.000000   \n",
       "4                 -0.63095         0.0000   0.000028                0.000000   \n",
       "...                    ...            ...        ...                     ...   \n",
       "532257           -19.87496        -0.2426   0.000028               -0.243146   \n",
       "532258           -19.87496        -0.2426   0.000028               -0.243146   \n",
       "532259           -19.87496        -0.2426   0.000028               -0.243146   \n",
       "532260           -19.87496        -0.2426   0.000027               -0.243146   \n",
       "532261           -19.87496        -0.2426   0.000027               -0.243146   \n",
       "\n",
       "         SOC [-]  Rounded_Time                  SourceFile  Power [W]  \n",
       "0       1.005034             0      585_HPPC_processed.csv        0.0  \n",
       "1       1.005034             1      585_HPPC_processed.csv        0.0  \n",
       "2       1.005034             2      585_HPPC_processed.csv        0.0  \n",
       "3       1.005034             3      585_HPPC_processed.csv        0.0  \n",
       "4       1.005034             4      585_HPPC_processed.csv        0.0  \n",
       "...          ...           ...                         ...        ...  \n",
       "532257  0.902752          1657  611_PausCycl_processed.csv        0.0  \n",
       "532258  0.902752          1658  611_PausCycl_processed.csv        0.0  \n",
       "532259  0.902752          1659  611_PausCycl_processed.csv        0.0  \n",
       "532260  0.902752          1660  611_PausCycl_processed.csv        0.0  \n",
       "532261  0.902752          1661  611_PausCycl_processed.csv        0.0  \n",
       "\n",
       "[532262 rows x 13 columns]"
      ]
     },
     "execution_count": 9,
     "metadata": {},
     "output_type": "execute_result"
    }
   ],
   "source": [
    "data = load_data(PROCESSED_DATA_DIR, temperatures_to_process)\n",
    "data"
   ]
  },
  {
   "cell_type": "code",
   "execution_count": 10,
   "metadata": {},
   "outputs": [
    {
     "data": {
      "text/html": [
       "<div>\n",
       "<style scoped>\n",
       "    .dataframe tbody tr th:only-of-type {\n",
       "        vertical-align: middle;\n",
       "    }\n",
       "\n",
       "    .dataframe tbody tr th {\n",
       "        vertical-align: top;\n",
       "    }\n",
       "\n",
       "    .dataframe thead th {\n",
       "        text-align: right;\n",
       "    }\n",
       "</style>\n",
       "<table border=\"1\" class=\"dataframe\">\n",
       "  <thead>\n",
       "    <tr style=\"text-align: right;\">\n",
       "      <th></th>\n",
       "      <th>Timestamp</th>\n",
       "      <th>Time [min]</th>\n",
       "      <th>Time [s]</th>\n",
       "      <th>Voltage [V]</th>\n",
       "      <th>Current [A]</th>\n",
       "      <th>Temperature [degC]</th>\n",
       "      <th>Capacity [Ah]</th>\n",
       "      <th>Time_diff</th>\n",
       "      <th>Cumulative_Capacity_Ah</th>\n",
       "      <th>SOC [-]</th>\n",
       "      <th>Rounded_Time</th>\n",
       "      <th>SourceFile</th>\n",
       "      <th>Power [W]</th>\n",
       "    </tr>\n",
       "  </thead>\n",
       "  <tbody>\n",
       "    <tr>\n",
       "      <th>0</th>\n",
       "      <td>2018-11-26 22:46:24</td>\n",
       "      <td>0.000000</td>\n",
       "      <td>0.000</td>\n",
       "      <td>1.689285</td>\n",
       "      <td>0.443741</td>\n",
       "      <td>-0.491636</td>\n",
       "      <td>0.0000</td>\n",
       "      <td>0.000000</td>\n",
       "      <td>1.531129</td>\n",
       "      <td>1.005034</td>\n",
       "      <td>0</td>\n",
       "      <td>585_HPPC_processed.csv</td>\n",
       "      <td>0.437382</td>\n",
       "    </tr>\n",
       "    <tr>\n",
       "      <th>1</th>\n",
       "      <td>2018-11-26 22:46:25</td>\n",
       "      <td>0.009967</td>\n",
       "      <td>0.598</td>\n",
       "      <td>1.689285</td>\n",
       "      <td>0.443741</td>\n",
       "      <td>-0.491636</td>\n",
       "      <td>0.0000</td>\n",
       "      <td>0.000028</td>\n",
       "      <td>1.531129</td>\n",
       "      <td>1.005034</td>\n",
       "      <td>1</td>\n",
       "      <td>585_HPPC_processed.csv</td>\n",
       "      <td>0.437382</td>\n",
       "    </tr>\n",
       "    <tr>\n",
       "      <th>2</th>\n",
       "      <td>2018-11-26 22:46:26</td>\n",
       "      <td>0.026650</td>\n",
       "      <td>1.599</td>\n",
       "      <td>1.689285</td>\n",
       "      <td>0.443741</td>\n",
       "      <td>-0.491636</td>\n",
       "      <td>0.0000</td>\n",
       "      <td>0.000028</td>\n",
       "      <td>1.531129</td>\n",
       "      <td>1.005034</td>\n",
       "      <td>2</td>\n",
       "      <td>585_HPPC_processed.csv</td>\n",
       "      <td>0.437382</td>\n",
       "    </tr>\n",
       "    <tr>\n",
       "      <th>3</th>\n",
       "      <td>2018-11-26 22:46:27</td>\n",
       "      <td>0.043350</td>\n",
       "      <td>2.601</td>\n",
       "      <td>1.689285</td>\n",
       "      <td>0.443741</td>\n",
       "      <td>-0.491636</td>\n",
       "      <td>0.0000</td>\n",
       "      <td>0.000028</td>\n",
       "      <td>1.531129</td>\n",
       "      <td>1.005034</td>\n",
       "      <td>3</td>\n",
       "      <td>585_HPPC_processed.csv</td>\n",
       "      <td>0.437382</td>\n",
       "    </tr>\n",
       "    <tr>\n",
       "      <th>4</th>\n",
       "      <td>2018-11-26 22:46:28</td>\n",
       "      <td>0.058350</td>\n",
       "      <td>3.501</td>\n",
       "      <td>1.689285</td>\n",
       "      <td>0.443741</td>\n",
       "      <td>-0.491636</td>\n",
       "      <td>0.0000</td>\n",
       "      <td>0.000028</td>\n",
       "      <td>1.531129</td>\n",
       "      <td>1.005034</td>\n",
       "      <td>4</td>\n",
       "      <td>585_HPPC_processed.csv</td>\n",
       "      <td>0.437382</td>\n",
       "    </tr>\n",
       "    <tr>\n",
       "      <th>...</th>\n",
       "      <td>...</td>\n",
       "      <td>...</td>\n",
       "      <td>...</td>\n",
       "      <td>...</td>\n",
       "      <td>...</td>\n",
       "      <td>...</td>\n",
       "      <td>...</td>\n",
       "      <td>...</td>\n",
       "      <td>...</td>\n",
       "      <td>...</td>\n",
       "      <td>...</td>\n",
       "      <td>...</td>\n",
       "      <td>...</td>\n",
       "    </tr>\n",
       "    <tr>\n",
       "      <th>532257</th>\n",
       "      <td>2018-12-26 22:37:45</td>\n",
       "      <td>27.609450</td>\n",
       "      <td>1656.567</td>\n",
       "      <td>1.258734</td>\n",
       "      <td>0.443741</td>\n",
       "      <td>-1.545244</td>\n",
       "      <td>-0.2426</td>\n",
       "      <td>0.000028</td>\n",
       "      <td>1.209896</td>\n",
       "      <td>0.902752</td>\n",
       "      <td>1657</td>\n",
       "      <td>611_PausCycl_processed.csv</td>\n",
       "      <td>0.437382</td>\n",
       "    </tr>\n",
       "    <tr>\n",
       "      <th>532258</th>\n",
       "      <td>2018-12-26 22:37:46</td>\n",
       "      <td>27.626117</td>\n",
       "      <td>1657.567</td>\n",
       "      <td>1.258734</td>\n",
       "      <td>0.443741</td>\n",
       "      <td>-1.545244</td>\n",
       "      <td>-0.2426</td>\n",
       "      <td>0.000028</td>\n",
       "      <td>1.209896</td>\n",
       "      <td>0.902752</td>\n",
       "      <td>1658</td>\n",
       "      <td>611_PausCycl_processed.csv</td>\n",
       "      <td>0.437382</td>\n",
       "    </tr>\n",
       "    <tr>\n",
       "      <th>532259</th>\n",
       "      <td>2018-12-26 22:37:47</td>\n",
       "      <td>27.642800</td>\n",
       "      <td>1658.568</td>\n",
       "      <td>1.258734</td>\n",
       "      <td>0.443741</td>\n",
       "      <td>-1.545244</td>\n",
       "      <td>-0.2426</td>\n",
       "      <td>0.000028</td>\n",
       "      <td>1.209896</td>\n",
       "      <td>0.902752</td>\n",
       "      <td>1659</td>\n",
       "      <td>611_PausCycl_processed.csv</td>\n",
       "      <td>0.437382</td>\n",
       "    </tr>\n",
       "    <tr>\n",
       "      <th>532260</th>\n",
       "      <td>2018-12-26 22:37:48</td>\n",
       "      <td>27.659433</td>\n",
       "      <td>1659.566</td>\n",
       "      <td>1.258734</td>\n",
       "      <td>0.443741</td>\n",
       "      <td>-1.545244</td>\n",
       "      <td>-0.2426</td>\n",
       "      <td>0.000027</td>\n",
       "      <td>1.209896</td>\n",
       "      <td>0.902752</td>\n",
       "      <td>1660</td>\n",
       "      <td>611_PausCycl_processed.csv</td>\n",
       "      <td>0.437382</td>\n",
       "    </tr>\n",
       "    <tr>\n",
       "      <th>532261</th>\n",
       "      <td>2018-12-26 22:37:49</td>\n",
       "      <td>27.676083</td>\n",
       "      <td>1660.565</td>\n",
       "      <td>1.258734</td>\n",
       "      <td>0.443741</td>\n",
       "      <td>-1.545244</td>\n",
       "      <td>-0.2426</td>\n",
       "      <td>0.000027</td>\n",
       "      <td>1.209896</td>\n",
       "      <td>0.902752</td>\n",
       "      <td>1661</td>\n",
       "      <td>611_PausCycl_processed.csv</td>\n",
       "      <td>0.437382</td>\n",
       "    </tr>\n",
       "  </tbody>\n",
       "</table>\n",
       "<p>532262 rows × 13 columns</p>\n",
       "</div>"
      ],
      "text/plain": [
       "                  Timestamp  Time [min]  Time [s]  Voltage [V]  Current [A]  \\\n",
       "0       2018-11-26 22:46:24    0.000000     0.000     1.689285     0.443741   \n",
       "1       2018-11-26 22:46:25    0.009967     0.598     1.689285     0.443741   \n",
       "2       2018-11-26 22:46:26    0.026650     1.599     1.689285     0.443741   \n",
       "3       2018-11-26 22:46:27    0.043350     2.601     1.689285     0.443741   \n",
       "4       2018-11-26 22:46:28    0.058350     3.501     1.689285     0.443741   \n",
       "...                     ...         ...       ...          ...          ...   \n",
       "532257  2018-12-26 22:37:45   27.609450  1656.567     1.258734     0.443741   \n",
       "532258  2018-12-26 22:37:46   27.626117  1657.567     1.258734     0.443741   \n",
       "532259  2018-12-26 22:37:47   27.642800  1658.568     1.258734     0.443741   \n",
       "532260  2018-12-26 22:37:48   27.659433  1659.566     1.258734     0.443741   \n",
       "532261  2018-12-26 22:37:49   27.676083  1660.565     1.258734     0.443741   \n",
       "\n",
       "        Temperature [degC]  Capacity [Ah]  Time_diff  Cumulative_Capacity_Ah  \\\n",
       "0                -0.491636         0.0000   0.000000                1.531129   \n",
       "1                -0.491636         0.0000   0.000028                1.531129   \n",
       "2                -0.491636         0.0000   0.000028                1.531129   \n",
       "3                -0.491636         0.0000   0.000028                1.531129   \n",
       "4                -0.491636         0.0000   0.000028                1.531129   \n",
       "...                    ...            ...        ...                     ...   \n",
       "532257           -1.545244        -0.2426   0.000028                1.209896   \n",
       "532258           -1.545244        -0.2426   0.000028                1.209896   \n",
       "532259           -1.545244        -0.2426   0.000028                1.209896   \n",
       "532260           -1.545244        -0.2426   0.000027                1.209896   \n",
       "532261           -1.545244        -0.2426   0.000027                1.209896   \n",
       "\n",
       "         SOC [-]  Rounded_Time                  SourceFile  Power [W]  \n",
       "0       1.005034             0      585_HPPC_processed.csv   0.437382  \n",
       "1       1.005034             1      585_HPPC_processed.csv   0.437382  \n",
       "2       1.005034             2      585_HPPC_processed.csv   0.437382  \n",
       "3       1.005034             3      585_HPPC_processed.csv   0.437382  \n",
       "4       1.005034             4      585_HPPC_processed.csv   0.437382  \n",
       "...          ...           ...                         ...        ...  \n",
       "532257  0.902752          1657  611_PausCycl_processed.csv   0.437382  \n",
       "532258  0.902752          1658  611_PausCycl_processed.csv   0.437382  \n",
       "532259  0.902752          1659  611_PausCycl_processed.csv   0.437382  \n",
       "532260  0.902752          1660  611_PausCycl_processed.csv   0.437382  \n",
       "532261  0.902752          1661  611_PausCycl_processed.csv   0.437382  \n",
       "\n",
       "[532262 rows x 13 columns]"
      ]
     },
     "execution_count": 10,
     "metadata": {},
     "output_type": "execute_result"
    }
   ],
   "source": [
    "scaler = StandardScaler()\n",
    "data[FEATURE_COLS] = scaler.fit_transform(data[FEATURE_COLS])\n",
    "data"
   ]
  },
  {
   "cell_type": "code",
   "execution_count": 11,
   "metadata": {},
   "outputs": [],
   "source": [
    "unique_files = np.array(list(set(data['SourceFile'])))\n",
    "train_files, temp_files = train_test_split(unique_files, test_size=0.2, random_state=52)\n",
    "val_files, test_files = train_test_split(temp_files, test_size=0.5, random_state=52)"
   ]
  },
  {
   "cell_type": "code",
   "execution_count": 12,
   "metadata": {},
   "outputs": [],
   "source": [
    "def filter_data_by_filenames(df, filenames):\n",
    "    return df[df['SourceFile'].isin(filenames)]\n",
    "\n",
    "# Filter data for each set\n",
    "train_data = filter_data_by_filenames(data, train_files)\n",
    "val_data = filter_data_by_filenames(data, val_files)\n",
    "test_data = filter_data_by_filenames(data, test_files)"
   ]
  },
  {
   "cell_type": "code",
   "execution_count": 13,
   "metadata": {},
   "outputs": [],
   "source": [
    "# Convert to tensors\n",
    "train_tensor = torch.tensor(train_data[FEATURE_COLS].values, dtype=torch.float32).to(device)\n",
    "train_labels = torch.tensor(train_data[LABEL_COL].values, dtype=torch.float32).to(device)\n",
    "\n",
    "val_tensor = torch.tensor(val_data[FEATURE_COLS].values, dtype=torch.float32).to(device)\n",
    "val_labels = torch.tensor(val_data[LABEL_COL].values, dtype=torch.float32).to(device)\n",
    "\n",
    "test_tensor = torch.tensor(test_data[FEATURE_COLS].values, dtype=torch.float32).to(device)\n",
    "test_labels = torch.tensor(test_data[LABEL_COL].values, dtype=torch.float32).to(device)"
   ]
  },
  {
   "cell_type": "code",
   "execution_count": 14,
   "metadata": {},
   "outputs": [],
   "source": [
    "# Convert filtered data to tensors and create dataset instances\n",
    "train_dataset = BatteryDatasetLSTM(\n",
    "    torch.tensor(train_data[FEATURE_COLS].values, dtype=torch.float32).to(device),\n",
    "    torch.tensor(train_data[LABEL_COL].values, dtype=torch.float32).to(device),\n",
    "    SEQUENCE_LENGTH,\n",
    "    train_data['SourceFile'].values,\n",
    "    train_data['Time [s]'].values  \n",
    ")\n",
    "\n",
    "val_dataset = BatteryDatasetLSTM(\n",
    "    torch.tensor(val_data[FEATURE_COLS].values, dtype=torch.float32).to(device),\n",
    "    torch.tensor(val_data[LABEL_COL].values, dtype=torch.float32).to(device),\n",
    "    SEQUENCE_LENGTH,\n",
    "    val_data['SourceFile'].values,\n",
    "    val_data['Time [s]'].values  \n",
    ")\n",
    "\n",
    "test_dataset = BatteryDatasetLSTM(\n",
    "    torch.tensor(test_data[FEATURE_COLS].values, dtype=torch.float32).to(device),\n",
    "    torch.tensor(test_data[LABEL_COL].values, dtype=torch.float32).to(device),\n",
    "    SEQUENCE_LENGTH,\n",
    "    test_data['SourceFile'].values,\n",
    "    test_data['Time [s]'].values  \n",
    ")"
   ]
  },
  {
   "cell_type": "code",
   "execution_count": 15,
   "metadata": {},
   "outputs": [],
   "source": [
    "# Create data loaders\n",
    "train_loader = DataLoader(train_dataset, batch_size=BATCH_SIZE, shuffle=True) \n",
    "val_loader = DataLoader(val_dataset, batch_size=BATCH_SIZE, shuffle=False)\n",
    "test_loader = DataLoader(test_dataset, batch_size=BATCH_SIZE, shuffle=False)"
   ]
  },
  {
   "cell_type": "code",
   "execution_count": 16,
   "metadata": {},
   "outputs": [
    {
     "name": "stdout",
     "output_type": "stream",
     "text": [
      "Training files: {'571_Mixed7_processed.csv', '551_Mixed2_processed.csv', '589_HWFET_processed.csv', '557_Mixed3_processed.csv', '610_Cap_1C_processed.csv', '590_Mixed6_processed.csv', '604_Mixed3_processed.csv', '601_US06_processed.csv', '562_Mixed8_processed.csv', '611_Mixed6_processed.csv', '576_UDDS_processed.csv', '590_PausCycl_processed.csv', '575_HPPC_processed.csv', '556_HWFET_processed.csv', '596_Cap_1C_processed.csv', '604_Mixed8_processed.csv', '611_Mixed5_processed.csv', '552_Mixed5_processed.csv', '551_LA92_processed.csv', '610_Mixed2_processed.csv', '601_Mixed1_processed.csv', '552_Mixed3_processed.csv', '562_Mixed5_processed.csv', '601_Mixed2_processed.csv', '596_UDDS_processed.csv', '611_Cap_1C_processed.csv', '556_US06_processed.csv', '590_Mixed7_processed.csv', '611_Mixed7_processed.csv', '602_Mixed4_processed.csv', '571_PausCycl_processed.csv', '552_Mixed4_processed.csv', '571_Mixed4_processed.csv', '610_Mixed1_processed.csv', '590_Mixed8_processed.csv', '556_Mixed2_processed.csv', '567_Mixed2_processed.csv', '576_HWFET_processed.csv', '589_LA92_processed.csv', '610_UDDS_processed.csv', '576_Cap_1C_processed.csv', '562_Mixed7_processed.csv', '556_UDDS_processed.csv', '596_LA92_processed.csv', '602_Cap_1C_processed.csv', '610_LA92_processed.csv', '552_Mixed6_processed.csv', '571_Mixed6_processed.csv', '604_PausCycl_processed.csv', '589_Cap_1C_processed.csv', '551_US06_processed.csv', '567_US06_processed.csv', '596_HWFET_processed.csv', '551_UDDS_processed.csv', '551_Mixed1_processed.csv', '589_US06_processed.csv', '571_Mixed8_processed.csv', '552_Mixed8_processed.csv', '611_Mixed3_processed.csv', '590_Mixed4_processed.csv', '589_Mixed2_processed.csv', '604_Mixed7_processed.csv', '571_Cap_1C_processed.csv', '552_Cap_1C_processed.csv', '562_PausCycl_processed.csv', '562_Mixed4_processed.csv', '556_LA92_processed.csv', '611_Mixed4_processed.csv', '589_Mixed1_processed.csv', '604_Mixed6_processed.csv', '571_Mixed5_processed.csv', '562_Mixed6_processed.csv'}\n",
      "\n",
      "Validation files: {'555_HPPC_processed.csv', '557_Cap_1C_processed.csv', '602_Mixed5_processed.csv', '607_HPPC_processed.csv', '549_HPPC_processed.csv', '551_Cap_1C_processed.csv', '556_Mixed1_processed.csv', '593_HPPC_processed.csv', '585_HPPC_processed.csv'}\n",
      "\n",
      "Testing files: {'611_Mixed8_processed.csv', '552_Mixed7_processed.csv', '590_Mixed5_processed.csv', '610_US06_processed.csv', '589_UDDS_processed.csv', '610_HWFET_processed.csv', '552_PausCycl_processed.csv', '611_PausCycl_processed.csv', '567_Mixed1_processed.csv'}\n"
     ]
    }
   ],
   "source": [
    "# Print file names used in training, validation, and testing\n",
    "train_files = train_dataset.get_unique_filenames()\n",
    "val_files = val_dataset.get_unique_filenames()\n",
    "test_files = test_dataset.get_unique_filenames()\n",
    "\n",
    "train_files_sorted = sorted(train_files)\n",
    "val_files_sorted = sorted(val_files)\n",
    "test_files_sorted = sorted(test_files)\n",
    "\n",
    "print(\"Training files:\", train_files)\n",
    "print(\"\\nValidation files:\", val_files)\n",
    "print(\"\\nTesting files:\", test_files)"
   ]
  },
  {
   "cell_type": "code",
   "execution_count": 17,
   "metadata": {},
   "outputs": [
    {
     "name": "stdout",
     "output_type": "stream",
     "text": [
      "Train features shape: torch.Size([404215, 5])\n",
      "Test features shape: torch.Size([53848, 5])\n",
      "Train labels shape: torch.Size([404215])\n",
      "Test labels shape: torch.Size([53848])\n"
     ]
    }
   ],
   "source": [
    "print(\"Train features shape:\", train_tensor.shape)\n",
    "print(\"Test features shape:\", test_tensor .shape)\n",
    "print(\"Train labels shape:\", train_labels.shape)\n",
    "print(\"Test labels shape:\", test_labels.shape)"
   ]
  },
  {
   "cell_type": "markdown",
   "metadata": {},
   "source": [
    "## Hyperparameter tuning"
   ]
  },
  {
   "cell_type": "code",
   "execution_count": 18,
   "metadata": {},
   "outputs": [],
   "source": [
    "# Define Optuna objective function\n",
    "EPOCHS = 10\n",
    "def objective(trial):\n",
    "    # Suggest hyperparameters\n",
    "    hidden_size = trial.suggest_int('hidden_size', 16, 128)\n",
    "    num_layers = trial.suggest_int('num_layers', 1, 5)\n",
    "    learning_rate = trial.suggest_float('learning_rate', 1e-5, 1e-1, log=True)\n",
    "\n",
    "    # Instantiate model with suggested hyperparameters\n",
    "    model = SoCLSTM(input_size=len(FEATURE_COLS), hidden_size=hidden_size, num_layers=num_layers).type(torch.float32).to(device)\n",
    "\n",
    "    # Define your loss function and optimizer with suggested hyperparameters\n",
    "    criterion = nn.MSELoss()\n",
    "    optimizer = optim.Adam(model.parameters(), lr=learning_rate)\n",
    "\n",
    "    # Call your train and validate function\n",
    "    history = train_and_validate(model, criterion, optimizer, train_loader, val_loader, EPOCHS, device)\n",
    "\n",
    "    # Extract last validation loss\n",
    "    last_val_loss = history['val_loss'][-1]\n",
    "    return last_val_loss\n"
   ]
  },
  {
   "cell_type": "code",
   "execution_count": null,
   "metadata": {},
   "outputs": [
    {
     "name": "stderr",
     "output_type": "stream",
     "text": [
      "[I 2025-07-31 14:37:56,607] A new study created in memory with name: no-name-c5d003f0-65ec-4d31-beb9-a63251c0e6ca\n",
      "Epoch: 0/10: 100%|██████████| 3158/3158 [00:51<00:00, 61.35it/s]\n"
     ]
    },
    {
     "name": "stdout",
     "output_type": "stream",
     "text": [
      "Epoch 1/10, Train Loss: 0.05869616228970846, Validation Loss: 0.0016234839162891524\n",
      "Time taken for epoch: 51.48207521 seconds\n"
     ]
    },
    {
     "name": "stderr",
     "output_type": "stream",
     "text": [
      "Epoch: 1/10: 100%|██████████| 3158/3158 [00:50<00:00, 61.98it/s]\n"
     ]
    },
    {
     "name": "stdout",
     "output_type": "stream",
     "text": [
      "Epoch 2/10, Train Loss: 0.0010858685327467662, Validation Loss: 0.0006344279579814362\n",
      "Time taken for epoch: 50.95431447 seconds\n"
     ]
    },
    {
     "name": "stderr",
     "output_type": "stream",
     "text": [
      "Epoch: 2/10: 100%|██████████| 3158/3158 [00:51<00:00, 60.79it/s]\n"
     ]
    },
    {
     "name": "stdout",
     "output_type": "stream",
     "text": [
      "Epoch 3/10, Train Loss: 0.000706997661311488, Validation Loss: 0.0003867543142208347\n",
      "Time taken for epoch: 51.94973564 seconds\n"
     ]
    },
    {
     "name": "stderr",
     "output_type": "stream",
     "text": [
      "Epoch: 3/10: 100%|██████████| 3158/3158 [00:52<00:00, 59.68it/s]\n"
     ]
    },
    {
     "name": "stdout",
     "output_type": "stream",
     "text": [
      "Epoch 4/10, Train Loss: 0.0004757822160741591, Validation Loss: 0.00027260806767408306\n",
      "Time taken for epoch: 52.91809511 seconds\n"
     ]
    },
    {
     "name": "stderr",
     "output_type": "stream",
     "text": [
      "Epoch: 4/10: 100%|██████████| 3158/3158 [00:51<00:00, 61.35it/s]\n"
     ]
    },
    {
     "name": "stdout",
     "output_type": "stream",
     "text": [
      "Epoch 5/10, Train Loss: 0.0003626041380000664, Validation Loss: 0.00022390568160755863\n",
      "Time taken for epoch: 51.47634315 seconds\n"
     ]
    },
    {
     "name": "stderr",
     "output_type": "stream",
     "text": [
      "Epoch: 5/10: 100%|██████████| 3158/3158 [00:51<00:00, 61.63it/s]\n"
     ]
    },
    {
     "name": "stdout",
     "output_type": "stream",
     "text": [
      "Epoch 6/10, Train Loss: 0.00028205464504872305, Validation Loss: 0.00018653772718658454\n",
      "Time taken for epoch: 51.24669671 seconds\n"
     ]
    },
    {
     "name": "stderr",
     "output_type": "stream",
     "text": [
      "Epoch: 6/10: 100%|██████████| 3158/3158 [00:51<00:00, 61.24it/s]\n"
     ]
    },
    {
     "name": "stdout",
     "output_type": "stream",
     "text": [
      "Epoch 7/10, Train Loss: 0.00022074418844058666, Validation Loss: 0.0001693407622703482\n",
      "Time taken for epoch: 51.56915522 seconds\n"
     ]
    },
    {
     "name": "stderr",
     "output_type": "stream",
     "text": [
      "Epoch: 7/10: 100%|██████████| 3158/3158 [00:52<00:00, 59.85it/s]\n"
     ]
    },
    {
     "name": "stdout",
     "output_type": "stream",
     "text": [
      "Epoch 8/10, Train Loss: 0.00017371789259878323, Validation Loss: 0.00015543946782718669\n",
      "Time taken for epoch: 52.77159119 seconds\n"
     ]
    },
    {
     "name": "stderr",
     "output_type": "stream",
     "text": [
      "Epoch: 8/10: 100%|██████████| 3158/3158 [00:51<00:00, 61.89it/s]\n"
     ]
    },
    {
     "name": "stdout",
     "output_type": "stream",
     "text": [
      "Epoch 9/10, Train Loss: 0.00013725948965276997, Validation Loss: 0.00013932497372689802\n",
      "Time taken for epoch: 51.03294182 seconds\n"
     ]
    },
    {
     "name": "stderr",
     "output_type": "stream",
     "text": [
      "Epoch: 9/10: 100%|██████████| 3158/3158 [00:55<00:00, 57.17it/s]\n",
      "[I 2025-07-31 14:48:00,602] Trial 0 finished with value: 0.00012035071847377732 and parameters: {'hidden_size': 40, 'num_layers': 5, 'learning_rate': 1.758091942592937e-05}. Best is trial 0 with value: 0.00012035071847377732.\n"
     ]
    },
    {
     "name": "stdout",
     "output_type": "stream",
     "text": [
      "Epoch 10/10, Train Loss: 0.00010879845061523654, Validation Loss: 0.00012035071847377732\n",
      "Time taken for epoch: 55.24377465 seconds\n"
     ]
    },
    {
     "name": "stderr",
     "output_type": "stream",
     "text": [
      "Epoch: 0/10: 100%|██████████| 3158/3158 [01:05<00:00, 48.27it/s]\n"
     ]
    },
    {
     "name": "stdout",
     "output_type": "stream",
     "text": [
      "Epoch 1/10, Train Loss: 0.0005581296564824589, Validation Loss: 0.0001409679076086322\n",
      "Time taken for epoch: 65.42258120 seconds\n"
     ]
    },
    {
     "name": "stderr",
     "output_type": "stream",
     "text": [
      "Epoch: 1/10: 100%|██████████| 3158/3158 [01:05<00:00, 48.29it/s]\n"
     ]
    },
    {
     "name": "stdout",
     "output_type": "stream",
     "text": [
      "Epoch 2/10, Train Loss: 3.856304804920356e-05, Validation Loss: 3.824964993962757e-05\n",
      "Time taken for epoch: 65.39959002 seconds\n"
     ]
    },
    {
     "name": "stderr",
     "output_type": "stream",
     "text": [
      "Epoch: 2/10: 100%|██████████| 3158/3158 [01:05<00:00, 47.87it/s]\n"
     ]
    },
    {
     "name": "stdout",
     "output_type": "stream",
     "text": [
      "Epoch 3/10, Train Loss: 2.781185776429987e-05, Validation Loss: 4.904268387336244e-05\n",
      "Time taken for epoch: 65.97510386 seconds\n"
     ]
    },
    {
     "name": "stderr",
     "output_type": "stream",
     "text": [
      "Epoch: 3/10: 100%|██████████| 3158/3158 [01:05<00:00, 47.88it/s]\n"
     ]
    },
    {
     "name": "stdout",
     "output_type": "stream",
     "text": [
      "Epoch 4/10, Train Loss: 2.1196763816842944e-05, Validation Loss: 5.2473791041967184e-05\n",
      "Time taken for epoch: 65.96318579 seconds\n"
     ]
    },
    {
     "name": "stderr",
     "output_type": "stream",
     "text": [
      "Epoch: 4/10: 100%|██████████| 3158/3158 [01:05<00:00, 48.36it/s]\n"
     ]
    },
    {
     "name": "stdout",
     "output_type": "stream",
     "text": [
      "Epoch 5/10, Train Loss: 1.9550150597375656e-05, Validation Loss: 5.709477276192769e-05\n",
      "Time taken for epoch: 65.29947138 seconds\n"
     ]
    },
    {
     "name": "stderr",
     "output_type": "stream",
     "text": [
      "Epoch: 5/10: 100%|██████████| 3158/3158 [01:03<00:00, 49.88it/s]\n"
     ]
    },
    {
     "name": "stdout",
     "output_type": "stream",
     "text": [
      "Epoch 6/10, Train Loss: 1.6268822516174115e-05, Validation Loss: 7.4266125607177e-05\n",
      "Time taken for epoch: 63.31825185 seconds\n"
     ]
    },
    {
     "name": "stderr",
     "output_type": "stream",
     "text": [
      "Epoch: 6/10: 100%|██████████| 3158/3158 [01:03<00:00, 49.87it/s]\n"
     ]
    },
    {
     "name": "stdout",
     "output_type": "stream",
     "text": [
      "Epoch 7/10, Train Loss: 1.4650925017003408e-05, Validation Loss: 9.150423403567141e-05\n",
      "Time taken for epoch: 63.32771754 seconds\n",
      "Early stopping triggered\n"
     ]
    },
    {
     "name": "stderr",
     "output_type": "stream",
     "text": [
      "Epoch: 7/10: 100%|██████████| 3158/3158 [01:05<00:00, 48.41it/s]\n"
     ]
    },
    {
     "name": "stdout",
     "output_type": "stream",
     "text": [
      "Epoch 8/10, Train Loss: 1.3791762466763286e-05, Validation Loss: 8.036495975839326e-05\n",
      "Time taken for epoch: 65.24288225 seconds\n",
      "Early stopping triggered\n"
     ]
    },
    {
     "name": "stderr",
     "output_type": "stream",
     "text": [
      "Epoch: 8/10: 100%|██████████| 3158/3158 [01:06<00:00, 47.22it/s]\n"
     ]
    },
    {
     "name": "stdout",
     "output_type": "stream",
     "text": [
      "Epoch 9/10, Train Loss: 1.222023104500058e-05, Validation Loss: 7.744923586466796e-05\n",
      "Time taken for epoch: 66.87918329 seconds\n",
      "Early stopping triggered\n"
     ]
    },
    {
     "name": "stderr",
     "output_type": "stream",
     "text": [
      "Epoch: 9/10: 100%|██████████| 3158/3158 [01:07<00:00, 46.73it/s]\n",
      "[I 2025-07-31 15:00:30,978] Trial 1 finished with value: 5.685595746340636e-05 and parameters: {'hidden_size': 101, 'num_layers': 5, 'learning_rate': 0.005193556823056898}. Best is trial 1 with value: 5.685595746340636e-05.\n"
     ]
    },
    {
     "name": "stdout",
     "output_type": "stream",
     "text": [
      "Epoch 10/10, Train Loss: 1.397505981570123e-05, Validation Loss: 5.685595746340636e-05\n",
      "Time taken for epoch: 67.57903337 seconds\n",
      "Early stopping triggered\n"
     ]
    },
    {
     "name": "stderr",
     "output_type": "stream",
     "text": [
      "Epoch: 0/10: 100%|██████████| 3158/3158 [00:55<00:00, 56.95it/s]\n"
     ]
    },
    {
     "name": "stdout",
     "output_type": "stream",
     "text": [
      "Epoch 1/10, Train Loss: 0.0006371181766799728, Validation Loss: 3.989984038544547e-05\n",
      "Time taken for epoch: 55.44935489 seconds\n"
     ]
    },
    {
     "name": "stderr",
     "output_type": "stream",
     "text": [
      "Epoch: 1/10: 100%|██████████| 3158/3158 [00:56<00:00, 56.18it/s]\n"
     ]
    },
    {
     "name": "stdout",
     "output_type": "stream",
     "text": [
      "Epoch 2/10, Train Loss: 2.334757419617414e-05, Validation Loss: 5.394328179771349e-05\n",
      "Time taken for epoch: 56.21049356 seconds\n"
     ]
    },
    {
     "name": "stderr",
     "output_type": "stream",
     "text": [
      "Epoch: 2/10: 100%|██████████| 3158/3158 [00:55<00:00, 56.91it/s]\n"
     ]
    },
    {
     "name": "stdout",
     "output_type": "stream",
     "text": [
      "Epoch 3/10, Train Loss: 1.952452241056965e-05, Validation Loss: 4.920092042089334e-05\n",
      "Time taken for epoch: 55.49349976 seconds\n"
     ]
    },
    {
     "name": "stderr",
     "output_type": "stream",
     "text": [
      "Epoch: 3/10: 100%|██████████| 3158/3158 [00:56<00:00, 55.48it/s]\n"
     ]
    },
    {
     "name": "stdout",
     "output_type": "stream",
     "text": [
      "Epoch 4/10, Train Loss: 1.6433772267488883e-05, Validation Loss: 5.439532675460402e-05\n",
      "Time taken for epoch: 56.92112088 seconds\n"
     ]
    },
    {
     "name": "stderr",
     "output_type": "stream",
     "text": [
      "Epoch: 4/10: 100%|██████████| 3158/3158 [00:55<00:00, 56.56it/s]\n"
     ]
    },
    {
     "name": "stdout",
     "output_type": "stream",
     "text": [
      "Epoch 5/10, Train Loss: 1.4366404677855595e-05, Validation Loss: 4.7110566087357086e-05\n",
      "Time taken for epoch: 55.83513975 seconds\n"
     ]
    },
    {
     "name": "stderr",
     "output_type": "stream",
     "text": [
      "Epoch: 5/10: 100%|██████████| 3158/3158 [00:56<00:00, 55.78it/s]\n"
     ]
    },
    {
     "name": "stdout",
     "output_type": "stream",
     "text": [
      "Epoch 6/10, Train Loss: 1.3208943779647254e-05, Validation Loss: 5.2421152669821045e-05\n",
      "Time taken for epoch: 56.61866808 seconds\n",
      "Early stopping triggered\n"
     ]
    },
    {
     "name": "stderr",
     "output_type": "stream",
     "text": [
      "Epoch: 6/10: 100%|██████████| 3158/3158 [00:56<00:00, 55.61it/s]\n"
     ]
    },
    {
     "name": "stdout",
     "output_type": "stream",
     "text": [
      "Epoch 7/10, Train Loss: 1.2484581980006475e-05, Validation Loss: 6.086136576495949e-05\n",
      "Time taken for epoch: 56.79158545 seconds\n",
      "Early stopping triggered\n"
     ]
    },
    {
     "name": "stderr",
     "output_type": "stream",
     "text": [
      "Epoch: 7/10: 100%|██████████| 3158/3158 [00:55<00:00, 57.26it/s]\n"
     ]
    },
    {
     "name": "stdout",
     "output_type": "stream",
     "text": [
      "Epoch 8/10, Train Loss: 1.1436445461727374e-05, Validation Loss: 5.343744788530265e-05\n",
      "Time taken for epoch: 55.15430212 seconds\n",
      "Early stopping triggered\n"
     ]
    },
    {
     "name": "stderr",
     "output_type": "stream",
     "text": [
      "Epoch: 8/10: 100%|██████████| 3158/3158 [00:56<00:00, 56.02it/s]\n"
     ]
    },
    {
     "name": "stdout",
     "output_type": "stream",
     "text": [
      "Epoch 9/10, Train Loss: 1.078917318007323e-05, Validation Loss: 4.219519973087939e-05\n",
      "Time taken for epoch: 56.37124991 seconds\n",
      "Early stopping triggered\n"
     ]
    },
    {
     "name": "stderr",
     "output_type": "stream",
     "text": [
      "Epoch: 9/10: 100%|██████████| 3158/3158 [00:54<00:00, 57.62it/s]\n",
      "[I 2025-07-31 15:11:16,046] Trial 2 finished with value: 6.715817374609425e-05 and parameters: {'hidden_size': 83, 'num_layers': 4, 'learning_rate': 0.0016357564027850875}. Best is trial 1 with value: 5.685595746340636e-05.\n"
     ]
    },
    {
     "name": "stdout",
     "output_type": "stream",
     "text": [
      "Epoch 10/10, Train Loss: 1.0563328503606264e-05, Validation Loss: 6.715817374609425e-05\n",
      "Time taken for epoch: 54.80733275 seconds\n",
      "Early stopping triggered\n"
     ]
    },
    {
     "name": "stderr",
     "output_type": "stream",
     "text": [
      "Epoch: 0/10: 100%|██████████| 3158/3158 [00:53<00:00, 58.73it/s]\n"
     ]
    },
    {
     "name": "stdout",
     "output_type": "stream",
     "text": [
      "Epoch 1/10, Train Loss: 0.0008055169023567938, Validation Loss: 6.465681378633229e-05\n",
      "Time taken for epoch: 53.77469611 seconds\n"
     ]
    },
    {
     "name": "stderr",
     "output_type": "stream",
     "text": [
      "Epoch: 1/10: 100%|██████████| 3158/3158 [00:52<00:00, 59.84it/s]\n"
     ]
    },
    {
     "name": "stdout",
     "output_type": "stream",
     "text": [
      "Epoch 2/10, Train Loss: 1.9797602822169664e-05, Validation Loss: 0.00011631981204135253\n",
      "Time taken for epoch: 52.77387595 seconds\n"
     ]
    },
    {
     "name": "stderr",
     "output_type": "stream",
     "text": [
      "Epoch: 2/10: 100%|██████████| 3158/3158 [00:52<00:00, 59.82it/s]\n"
     ]
    },
    {
     "name": "stdout",
     "output_type": "stream",
     "text": [
      "Epoch 3/10, Train Loss: 1.8000318420978526e-05, Validation Loss: 6.827615767669015e-05\n",
      "Time taken for epoch: 52.78916693 seconds\n"
     ]
    },
    {
     "name": "stderr",
     "output_type": "stream",
     "text": [
      "Epoch: 3/10: 100%|██████████| 3158/3158 [00:55<00:00, 57.38it/s]\n"
     ]
    },
    {
     "name": "stdout",
     "output_type": "stream",
     "text": [
      "Epoch 4/10, Train Loss: 1.5817270515803955e-05, Validation Loss: 3.899500641483141e-05\n",
      "Time taken for epoch: 55.03744292 seconds\n"
     ]
    },
    {
     "name": "stderr",
     "output_type": "stream",
     "text": [
      "Epoch: 4/10: 100%|██████████| 3158/3158 [00:54<00:00, 57.85it/s]\n"
     ]
    },
    {
     "name": "stdout",
     "output_type": "stream",
     "text": [
      "Epoch 5/10, Train Loss: 1.3650141828743123e-05, Validation Loss: 5.498183250364411e-05\n",
      "Time taken for epoch: 54.59405398 seconds\n"
     ]
    },
    {
     "name": "stderr",
     "output_type": "stream",
     "text": [
      "Epoch: 5/10: 100%|██████████| 3158/3158 [00:52<00:00, 59.90it/s]\n"
     ]
    },
    {
     "name": "stdout",
     "output_type": "stream",
     "text": [
      "Epoch 6/10, Train Loss: 1.2808513224324553e-05, Validation Loss: 4.464060071749998e-05\n",
      "Time taken for epoch: 52.72308278 seconds\n",
      "Early stopping triggered\n"
     ]
    },
    {
     "name": "stderr",
     "output_type": "stream",
     "text": [
      "Epoch: 6/10: 100%|██████████| 3158/3158 [00:51<00:00, 60.75it/s]\n"
     ]
    },
    {
     "name": "stdout",
     "output_type": "stream",
     "text": [
      "Epoch 7/10, Train Loss: 1.2135338242182896e-05, Validation Loss: 4.4503844418793844e-05\n",
      "Time taken for epoch: 51.98229766 seconds\n",
      "Early stopping triggered\n"
     ]
    },
    {
     "name": "stderr",
     "output_type": "stream",
     "text": [
      "Epoch: 7/10: 100%|██████████| 3158/3158 [00:52<00:00, 60.49it/s]\n"
     ]
    },
    {
     "name": "stdout",
     "output_type": "stream",
     "text": [
      "Epoch 8/10, Train Loss: 1.1258506387433064e-05, Validation Loss: 5.83912577213942e-05\n",
      "Time taken for epoch: 52.20737791 seconds\n",
      "Early stopping triggered\n"
     ]
    },
    {
     "name": "stderr",
     "output_type": "stream",
     "text": [
      "Epoch: 8/10: 100%|██████████| 3158/3158 [00:52<00:00, 60.53it/s]\n"
     ]
    },
    {
     "name": "stdout",
     "output_type": "stream",
     "text": [
      "Epoch 9/10, Train Loss: 1.1316549659411163e-05, Validation Loss: 4.2233661769298316e-05\n",
      "Time taken for epoch: 52.17145610 seconds\n",
      "Early stopping triggered\n"
     ]
    },
    {
     "name": "stderr",
     "output_type": "stream",
     "text": [
      "Epoch: 9/10: 100%|██████████| 3158/3158 [00:51<00:00, 60.82it/s]\n",
      "[I 2025-07-31 15:21:24,508] Trial 3 finished with value: 4.928670486502393e-05 and parameters: {'hidden_size': 63, 'num_layers': 3, 'learning_rate': 0.0015430906914921348}. Best is trial 3 with value: 4.928670486502393e-05.\n"
     ]
    },
    {
     "name": "stdout",
     "output_type": "stream",
     "text": [
      "Epoch 10/10, Train Loss: 1.0614258198198084e-05, Validation Loss: 4.928670486502393e-05\n",
      "Time taken for epoch: 51.92573786 seconds\n",
      "Early stopping triggered\n"
     ]
    },
    {
     "name": "stderr",
     "output_type": "stream",
     "text": [
      "Epoch: 0/10: 100%|██████████| 3158/3158 [00:56<00:00, 56.36it/s]\n"
     ]
    },
    {
     "name": "stdout",
     "output_type": "stream",
     "text": [
      "Epoch 1/10, Train Loss: 0.0013216935144624584, Validation Loss: 5.033491820943852e-05\n",
      "Time taken for epoch: 56.03166127 seconds\n"
     ]
    },
    {
     "name": "stderr",
     "output_type": "stream",
     "text": [
      "Epoch: 1/10: 100%|██████████| 3158/3158 [00:56<00:00, 55.42it/s]\n"
     ]
    },
    {
     "name": "stdout",
     "output_type": "stream",
     "text": [
      "Epoch 2/10, Train Loss: 1.8754704874213993e-05, Validation Loss: 7.013294326206592e-05\n",
      "Time taken for epoch: 56.98484206 seconds\n"
     ]
    },
    {
     "name": "stderr",
     "output_type": "stream",
     "text": [
      "Epoch: 2/10: 100%|██████████| 3158/3158 [00:58<00:00, 54.44it/s]\n"
     ]
    },
    {
     "name": "stdout",
     "output_type": "stream",
     "text": [
      "Epoch 3/10, Train Loss: 1.5208969693972752e-05, Validation Loss: 4.762306355582353e-05\n",
      "Time taken for epoch: 58.00833583 seconds\n"
     ]
    },
    {
     "name": "stderr",
     "output_type": "stream",
     "text": [
      "Epoch: 3/10: 100%|██████████| 3158/3158 [00:56<00:00, 55.58it/s]\n"
     ]
    },
    {
     "name": "stdout",
     "output_type": "stream",
     "text": [
      "Epoch 4/10, Train Loss: 1.3586734861944806e-05, Validation Loss: 4.731804660669094e-05\n",
      "Time taken for epoch: 56.82316971 seconds\n"
     ]
    },
    {
     "name": "stderr",
     "output_type": "stream",
     "text": [
      "Epoch: 4/10: 100%|██████████| 3158/3158 [00:57<00:00, 55.37it/s]\n"
     ]
    },
    {
     "name": "stdout",
     "output_type": "stream",
     "text": [
      "Epoch 5/10, Train Loss: 1.2729650794735294e-05, Validation Loss: 4.549489432950695e-05\n",
      "Time taken for epoch: 57.03401303 seconds\n"
     ]
    },
    {
     "name": "stderr",
     "output_type": "stream",
     "text": [
      "Epoch: 5/10: 100%|██████████| 3158/3158 [00:58<00:00, 53.96it/s]\n"
     ]
    },
    {
     "name": "stdout",
     "output_type": "stream",
     "text": [
      "Epoch 6/10, Train Loss: 1.1883381182564106e-05, Validation Loss: 4.272141490180216e-05\n",
      "Time taken for epoch: 58.52184939 seconds\n",
      "Early stopping triggered\n"
     ]
    },
    {
     "name": "stderr",
     "output_type": "stream",
     "text": [
      "Epoch: 6/10: 100%|██████████| 3158/3158 [00:56<00:00, 56.12it/s]\n"
     ]
    },
    {
     "name": "stdout",
     "output_type": "stream",
     "text": [
      "Epoch 7/10, Train Loss: 1.1498843149684064e-05, Validation Loss: 5.72880106798185e-05\n",
      "Time taken for epoch: 56.27942204 seconds\n",
      "Early stopping triggered\n"
     ]
    },
    {
     "name": "stderr",
     "output_type": "stream",
     "text": [
      "Epoch: 7/10: 100%|██████████| 3158/3158 [00:56<00:00, 55.47it/s]\n"
     ]
    },
    {
     "name": "stdout",
     "output_type": "stream",
     "text": [
      "Epoch 8/10, Train Loss: 1.0970390202007416e-05, Validation Loss: 5.046122521951862e-05\n",
      "Time taken for epoch: 56.93460035 seconds\n",
      "Early stopping triggered\n"
     ]
    },
    {
     "name": "stderr",
     "output_type": "stream",
     "text": [
      "Epoch: 8/10: 100%|██████████| 3158/3158 [00:56<00:00, 55.76it/s]\n"
     ]
    },
    {
     "name": "stdout",
     "output_type": "stream",
     "text": [
      "Epoch 9/10, Train Loss: 1.0744057008518807e-05, Validation Loss: 4.4736027609293026e-05\n",
      "Time taken for epoch: 56.63617897 seconds\n",
      "Early stopping triggered\n"
     ]
    },
    {
     "name": "stderr",
     "output_type": "stream",
     "text": [
      "Epoch: 9/10: 100%|██████████| 3158/3158 [00:55<00:00, 56.49it/s]\n",
      "[I 2025-07-31 15:32:23,843] Trial 4 finished with value: 3.620212527322295e-05 and parameters: {'hidden_size': 105, 'num_layers': 3, 'learning_rate': 0.00043744795844566733}. Best is trial 4 with value: 3.620212527322295e-05.\n"
     ]
    },
    {
     "name": "stdout",
     "output_type": "stream",
     "text": [
      "Epoch 10/10, Train Loss: 1.0327542070858931e-05, Validation Loss: 3.620212527322295e-05\n",
      "Time taken for epoch: 55.90460753 seconds\n",
      "Early stopping triggered\n"
     ]
    },
    {
     "name": "stderr",
     "output_type": "stream",
     "text": [
      "Epoch: 0/10: 100%|██████████| 3158/3158 [00:49<00:00, 63.24it/s]\n"
     ]
    },
    {
     "name": "stdout",
     "output_type": "stream",
     "text": [
      "Epoch 1/10, Train Loss: 0.0011773557003587766, Validation Loss: 5.068898601529611e-05\n",
      "Time taken for epoch: 49.94262314 seconds\n"
     ]
    },
    {
     "name": "stderr",
     "output_type": "stream",
     "text": [
      "Epoch: 1/10: 100%|██████████| 3158/3158 [00:51<00:00, 61.79it/s]\n"
     ]
    },
    {
     "name": "stdout",
     "output_type": "stream",
     "text": [
      "Epoch 2/10, Train Loss: 2.185786379811348e-05, Validation Loss: 3.936983740498656e-05\n",
      "Time taken for epoch: 51.10872221 seconds\n"
     ]
    },
    {
     "name": "stderr",
     "output_type": "stream",
     "text": [
      "Epoch: 2/10: 100%|██████████| 3158/3158 [00:50<00:00, 62.08it/s]\n"
     ]
    },
    {
     "name": "stdout",
     "output_type": "stream",
     "text": [
      "Epoch 3/10, Train Loss: 1.810804648081976e-05, Validation Loss: 4.78029850361525e-05\n",
      "Time taken for epoch: 50.87264681 seconds\n"
     ]
    },
    {
     "name": "stderr",
     "output_type": "stream",
     "text": [
      "Epoch: 3/10: 100%|██████████| 3158/3158 [00:50<00:00, 62.03it/s]\n"
     ]
    },
    {
     "name": "stdout",
     "output_type": "stream",
     "text": [
      "Epoch 4/10, Train Loss: 1.5180376556454944e-05, Validation Loss: 4.133164864393608e-05\n",
      "Time taken for epoch: 50.91025877 seconds\n"
     ]
    },
    {
     "name": "stderr",
     "output_type": "stream",
     "text": [
      "Epoch: 4/10: 100%|██████████| 3158/3158 [00:50<00:00, 62.21it/s]\n"
     ]
    },
    {
     "name": "stdout",
     "output_type": "stream",
     "text": [
      "Epoch 5/10, Train Loss: 1.4032504779556137e-05, Validation Loss: 4.6511556028199384e-05\n",
      "Time taken for epoch: 50.76426864 seconds\n"
     ]
    },
    {
     "name": "stderr",
     "output_type": "stream",
     "text": [
      "Epoch: 5/10: 100%|██████████| 3158/3158 [00:50<00:00, 62.30it/s]\n"
     ]
    },
    {
     "name": "stdout",
     "output_type": "stream",
     "text": [
      "Epoch 6/10, Train Loss: 1.3333260155041697e-05, Validation Loss: 6.756322534535042e-05\n",
      "Time taken for epoch: 50.68885303 seconds\n",
      "Early stopping triggered\n"
     ]
    },
    {
     "name": "stderr",
     "output_type": "stream",
     "text": [
      "Epoch: 6/10: 100%|██████████| 3158/3158 [00:50<00:00, 62.53it/s]\n"
     ]
    },
    {
     "name": "stdout",
     "output_type": "stream",
     "text": [
      "Epoch 7/10, Train Loss: 1.2005214373617408e-05, Validation Loss: 5.279594826125201e-05\n",
      "Time taken for epoch: 50.50233221 seconds\n",
      "Early stopping triggered\n"
     ]
    },
    {
     "name": "stderr",
     "output_type": "stream",
     "text": [
      "Epoch: 7/10: 100%|██████████| 3158/3158 [00:49<00:00, 63.98it/s]\n"
     ]
    },
    {
     "name": "stdout",
     "output_type": "stream",
     "text": [
      "Epoch 8/10, Train Loss: 1.1309022398230184e-05, Validation Loss: 3.827818941551356e-05\n",
      "Time taken for epoch: 49.36531973 seconds\n",
      "Early stopping triggered\n"
     ]
    },
    {
     "name": "stderr",
     "output_type": "stream",
     "text": [
      "Epoch: 8/10: 100%|██████████| 3158/3158 [00:50<00:00, 62.19it/s]\n"
     ]
    },
    {
     "name": "stdout",
     "output_type": "stream",
     "text": [
      "Epoch 9/10, Train Loss: 1.1078912668391028e-05, Validation Loss: 4.090049780552902e-05\n",
      "Time taken for epoch: 50.77975130 seconds\n",
      "Early stopping triggered\n"
     ]
    },
    {
     "name": "stderr",
     "output_type": "stream",
     "text": [
      "Epoch: 9/10: 100%|██████████| 3158/3158 [00:50<00:00, 62.48it/s]\n",
      "[I 2025-07-31 15:42:12,348] Trial 5 finished with value: 5.273121217987723e-05 and parameters: {'hidden_size': 64, 'num_layers': 4, 'learning_rate': 0.0010021567025071643}. Best is trial 4 with value: 3.620212527322295e-05.\n"
     ]
    },
    {
     "name": "stdout",
     "output_type": "stream",
     "text": [
      "Epoch 10/10, Train Loss: 1.0282506404849458e-05, Validation Loss: 5.273121217987723e-05\n",
      "Time taken for epoch: 50.54761744 seconds\n",
      "Early stopping triggered\n"
     ]
    },
    {
     "name": "stderr",
     "output_type": "stream",
     "text": [
      "Epoch: 0/10: 100%|██████████| 3158/3158 [00:52<00:00, 60.51it/s]\n"
     ]
    },
    {
     "name": "stdout",
     "output_type": "stream",
     "text": [
      "Epoch 1/10, Train Loss: 0.0043780707082152455, Validation Loss: 0.00026319347378524427\n",
      "Time taken for epoch: 52.19430995 seconds\n"
     ]
    },
    {
     "name": "stderr",
     "output_type": "stream",
     "text": [
      "Epoch: 1/10: 100%|██████████| 3158/3158 [00:51<00:00, 60.75it/s]\n"
     ]
    },
    {
     "name": "stdout",
     "output_type": "stream",
     "text": [
      "Epoch 2/10, Train Loss: 0.0001558958383571433, Validation Loss: 0.0001160228254975507\n",
      "Time taken for epoch: 51.98660994 seconds\n"
     ]
    },
    {
     "name": "stderr",
     "output_type": "stream",
     "text": [
      "Epoch: 2/10: 100%|██████████| 3158/3158 [00:52<00:00, 60.37it/s]\n"
     ]
    },
    {
     "name": "stdout",
     "output_type": "stream",
     "text": [
      "Epoch 3/10, Train Loss: 2.9244475531583545e-05, Validation Loss: 6.826129973740742e-05\n",
      "Time taken for epoch: 52.31095076 seconds\n"
     ]
    },
    {
     "name": "stderr",
     "output_type": "stream",
     "text": [
      "Epoch: 3/10: 100%|██████████| 3158/3158 [00:52<00:00, 60.12it/s]\n"
     ]
    },
    {
     "name": "stdout",
     "output_type": "stream",
     "text": [
      "Epoch 4/10, Train Loss: 1.4882669204868668e-05, Validation Loss: 6.50888466024017e-05\n",
      "Time taken for epoch: 52.52812362 seconds\n"
     ]
    },
    {
     "name": "stderr",
     "output_type": "stream",
     "text": [
      "Epoch: 4/10: 100%|██████████| 3158/3158 [00:52<00:00, 60.62it/s]\n"
     ]
    },
    {
     "name": "stdout",
     "output_type": "stream",
     "text": [
      "Epoch 5/10, Train Loss: 1.3052855233555874e-05, Validation Loss: 7.093638264391616e-05\n",
      "Time taken for epoch: 52.09309387 seconds\n"
     ]
    },
    {
     "name": "stderr",
     "output_type": "stream",
     "text": [
      "Epoch: 5/10: 100%|██████████| 3158/3158 [00:52<00:00, 60.64it/s]\n"
     ]
    },
    {
     "name": "stdout",
     "output_type": "stream",
     "text": [
      "Epoch 6/10, Train Loss: 1.2148507625673587e-05, Validation Loss: 4.9001827508744525e-05\n",
      "Time taken for epoch: 52.08051944 seconds\n"
     ]
    },
    {
     "name": "stderr",
     "output_type": "stream",
     "text": [
      "Epoch: 6/10: 100%|██████████| 3158/3158 [00:52<00:00, 60.26it/s]\n"
     ]
    },
    {
     "name": "stdout",
     "output_type": "stream",
     "text": [
      "Epoch 7/10, Train Loss: 1.1355483297300774e-05, Validation Loss: 4.9808668625017266e-05\n",
      "Time taken for epoch: 52.40804982 seconds\n",
      "Early stopping triggered\n"
     ]
    },
    {
     "name": "stderr",
     "output_type": "stream",
     "text": [
      "Epoch: 7/10: 100%|██████████| 3158/3158 [00:52<00:00, 60.46it/s]\n"
     ]
    },
    {
     "name": "stdout",
     "output_type": "stream",
     "text": [
      "Epoch 8/10, Train Loss: 1.1042124802964093e-05, Validation Loss: 5.036638897524489e-05\n",
      "Time taken for epoch: 52.23280692 seconds\n",
      "Early stopping triggered\n"
     ]
    },
    {
     "name": "stderr",
     "output_type": "stream",
     "text": [
      "Epoch: 8/10: 100%|██████████| 3158/3158 [00:52<00:00, 60.56it/s]\n"
     ]
    },
    {
     "name": "stdout",
     "output_type": "stream",
     "text": [
      "Epoch 9/10, Train Loss: 1.061264397002116e-05, Validation Loss: 4.516230993163067e-05\n",
      "Time taken for epoch: 52.14882064 seconds\n",
      "Early stopping triggered\n"
     ]
    },
    {
     "name": "stderr",
     "output_type": "stream",
     "text": [
      "Epoch: 9/10: 100%|██████████| 3158/3158 [00:52<00:00, 60.37it/s]\n",
      "[I 2025-07-31 15:52:13,725] Trial 6 finished with value: 4.804195071046304e-05 and parameters: {'hidden_size': 62, 'num_layers': 5, 'learning_rate': 0.00012759343625403632}. Best is trial 4 with value: 3.620212527322295e-05.\n"
     ]
    },
    {
     "name": "stdout",
     "output_type": "stream",
     "text": [
      "Epoch 10/10, Train Loss: 1.0319627078161928e-05, Validation Loss: 4.804195071046304e-05\n",
      "Time taken for epoch: 52.31671882 seconds\n",
      "Early stopping triggered\n"
     ]
    },
    {
     "name": "stderr",
     "output_type": "stream",
     "text": [
      "Epoch: 0/10: 100%|██████████| 3158/3158 [00:52<00:00, 60.35it/s]\n"
     ]
    },
    {
     "name": "stdout",
     "output_type": "stream",
     "text": [
      "Epoch 1/10, Train Loss: 0.0018179012081402637, Validation Loss: 5.8626563705811085e-05\n",
      "Time taken for epoch: 52.32608390 seconds\n"
     ]
    },
    {
     "name": "stderr",
     "output_type": "stream",
     "text": [
      "Epoch: 1/10: 100%|██████████| 3158/3158 [00:51<00:00, 61.52it/s]\n"
     ]
    },
    {
     "name": "stdout",
     "output_type": "stream",
     "text": [
      "Epoch 2/10, Train Loss: 3.5369914374537735e-05, Validation Loss: 5.539347942552853e-05\n",
      "Time taken for epoch: 51.33558083 seconds\n"
     ]
    },
    {
     "name": "stderr",
     "output_type": "stream",
     "text": [
      "Epoch: 2/10: 100%|██████████| 3158/3158 [00:51<00:00, 61.68it/s]\n"
     ]
    },
    {
     "name": "stdout",
     "output_type": "stream",
     "text": [
      "Epoch 3/10, Train Loss: 3.209845370375264e-05, Validation Loss: 4.262272313519331e-05\n",
      "Time taken for epoch: 51.20219350 seconds\n"
     ]
    },
    {
     "name": "stderr",
     "output_type": "stream",
     "text": [
      "Epoch: 3/10: 100%|██████████| 3158/3158 [00:51<00:00, 61.59it/s]\n"
     ]
    },
    {
     "name": "stdout",
     "output_type": "stream",
     "text": [
      "Epoch 4/10, Train Loss: 2.3500888481964194e-05, Validation Loss: 5.175842851553247e-05\n",
      "Time taken for epoch: 51.27469802 seconds\n"
     ]
    },
    {
     "name": "stderr",
     "output_type": "stream",
     "text": [
      "Epoch: 4/10: 100%|██████████| 3158/3158 [00:52<00:00, 60.36it/s]\n"
     ]
    },
    {
     "name": "stdout",
     "output_type": "stream",
     "text": [
      "Epoch 5/10, Train Loss: 1.8683674754519047e-05, Validation Loss: 6.32963365464777e-05\n",
      "Time taken for epoch: 52.32085657 seconds\n"
     ]
    },
    {
     "name": "stderr",
     "output_type": "stream",
     "text": [
      "Epoch: 5/10: 100%|██████████| 3158/3158 [00:52<00:00, 60.36it/s]\n"
     ]
    },
    {
     "name": "stdout",
     "output_type": "stream",
     "text": [
      "Epoch 6/10, Train Loss: 1.6410339069106394e-05, Validation Loss: 5.8971807796481814e-05\n",
      "Time taken for epoch: 52.32596517 seconds\n",
      "Early stopping triggered\n"
     ]
    },
    {
     "name": "stderr",
     "output_type": "stream",
     "text": [
      "Epoch: 6/10: 100%|██████████| 3158/3158 [00:52<00:00, 60.56it/s]\n"
     ]
    },
    {
     "name": "stdout",
     "output_type": "stream",
     "text": [
      "Epoch 7/10, Train Loss: 1.696015447227179e-05, Validation Loss: 0.0001233919646297392\n",
      "Time taken for epoch: 52.14913249 seconds\n",
      "Early stopping triggered\n"
     ]
    },
    {
     "name": "stderr",
     "output_type": "stream",
     "text": [
      "Epoch: 7/10: 100%|██████████| 3158/3158 [00:51<00:00, 61.43it/s]\n"
     ]
    },
    {
     "name": "stdout",
     "output_type": "stream",
     "text": [
      "Epoch 8/10, Train Loss: 1.3837219167548306e-05, Validation Loss: 8.973943971698445e-05\n",
      "Time taken for epoch: 51.41379857 seconds\n",
      "Early stopping triggered\n"
     ]
    },
    {
     "name": "stderr",
     "output_type": "stream",
     "text": [
      "Epoch: 8/10: 100%|██████████| 3158/3158 [00:51<00:00, 60.86it/s]\n"
     ]
    },
    {
     "name": "stdout",
     "output_type": "stream",
     "text": [
      "Epoch 9/10, Train Loss: 1.2356211116759122e-05, Validation Loss: 3.8954042993296904e-05\n",
      "Time taken for epoch: 51.89019942 seconds\n",
      "Early stopping triggered\n"
     ]
    },
    {
     "name": "stderr",
     "output_type": "stream",
     "text": [
      "Epoch: 9/10: 100%|██████████| 3158/3158 [00:51<00:00, 61.60it/s]\n",
      "[I 2025-07-31 16:02:06,254] Trial 7 finished with value: 3.903444745169548e-05 and parameters: {'hidden_size': 71, 'num_layers': 2, 'learning_rate': 0.019904374669532397}. Best is trial 4 with value: 3.620212527322295e-05.\n"
     ]
    },
    {
     "name": "stdout",
     "output_type": "stream",
     "text": [
      "Epoch 10/10, Train Loss: 1.2676299426861473e-05, Validation Loss: 3.903444745169548e-05\n",
      "Time taken for epoch: 51.26597786 seconds\n",
      "Early stopping triggered\n"
     ]
    },
    {
     "name": "stderr",
     "output_type": "stream",
     "text": [
      "Epoch: 0/10: 100%|██████████| 3158/3158 [00:54<00:00, 57.53it/s]\n"
     ]
    },
    {
     "name": "stdout",
     "output_type": "stream",
     "text": [
      "Epoch 1/10, Train Loss: 0.0012601365108333615, Validation Loss: 4.884590010686686e-05\n",
      "Time taken for epoch: 54.90030289 seconds\n"
     ]
    },
    {
     "name": "stderr",
     "output_type": "stream",
     "text": [
      "Epoch: 1/10: 100%|██████████| 3158/3158 [00:55<00:00, 56.46it/s]\n"
     ]
    },
    {
     "name": "stdout",
     "output_type": "stream",
     "text": [
      "Epoch 2/10, Train Loss: 3.9320516585297335e-05, Validation Loss: 0.00013301168312925942\n",
      "Time taken for epoch: 55.93837166 seconds\n"
     ]
    },
    {
     "name": "stderr",
     "output_type": "stream",
     "text": [
      "Epoch: 2/10: 100%|██████████| 3158/3158 [00:56<00:00, 56.13it/s]\n"
     ]
    },
    {
     "name": "stdout",
     "output_type": "stream",
     "text": [
      "Epoch 3/10, Train Loss: 3.612653230931163e-05, Validation Loss: 0.00015396928542386822\n",
      "Time taken for epoch: 56.26381993 seconds\n"
     ]
    },
    {
     "name": "stderr",
     "output_type": "stream",
     "text": [
      "Epoch: 3/10: 100%|██████████| 3158/3158 [00:55<00:00, 56.96it/s]\n"
     ]
    },
    {
     "name": "stdout",
     "output_type": "stream",
     "text": [
      "Epoch 4/10, Train Loss: 2.8112438880970186e-05, Validation Loss: 8.084440278639067e-05\n",
      "Time taken for epoch: 55.44529724 seconds\n"
     ]
    },
    {
     "name": "stderr",
     "output_type": "stream",
     "text": [
      "Epoch: 4/10: 100%|██████████| 3158/3158 [00:56<00:00, 56.31it/s]\n"
     ]
    },
    {
     "name": "stdout",
     "output_type": "stream",
     "text": [
      "Epoch 5/10, Train Loss: 2.4038694408196583e-05, Validation Loss: 0.00010169850664153473\n",
      "Time taken for epoch: 56.08003402 seconds\n"
     ]
    },
    {
     "name": "stderr",
     "output_type": "stream",
     "text": [
      "Epoch: 5/10: 100%|██████████| 3158/3158 [00:55<00:00, 56.59it/s]\n"
     ]
    },
    {
     "name": "stdout",
     "output_type": "stream",
     "text": [
      "Epoch 6/10, Train Loss: 1.9406934427659425e-05, Validation Loss: 8.377238150664578e-05\n",
      "Time taken for epoch: 55.80833602 seconds\n",
      "Early stopping triggered\n"
     ]
    },
    {
     "name": "stderr",
     "output_type": "stream",
     "text": [
      "Epoch: 6/10: 100%|██████████| 3158/3158 [00:55<00:00, 56.70it/s]\n"
     ]
    },
    {
     "name": "stdout",
     "output_type": "stream",
     "text": [
      "Epoch 7/10, Train Loss: 1.688816412935369e-05, Validation Loss: 5.348270797739061e-05\n",
      "Time taken for epoch: 55.70032024 seconds\n",
      "Early stopping triggered\n"
     ]
    },
    {
     "name": "stderr",
     "output_type": "stream",
     "text": [
      "Epoch: 7/10: 100%|██████████| 3158/3158 [00:56<00:00, 55.98it/s]\n"
     ]
    },
    {
     "name": "stdout",
     "output_type": "stream",
     "text": [
      "Epoch 8/10, Train Loss: 1.631746583605271e-05, Validation Loss: 7.533615286989509e-05\n",
      "Time taken for epoch: 56.41002560 seconds\n",
      "Early stopping triggered\n"
     ]
    },
    {
     "name": "stderr",
     "output_type": "stream",
     "text": [
      "Epoch: 8/10: 100%|██████████| 3158/3158 [00:56<00:00, 56.20it/s]\n"
     ]
    },
    {
     "name": "stdout",
     "output_type": "stream",
     "text": [
      "Epoch 9/10, Train Loss: 1.44210741073822e-05, Validation Loss: 5.701382581379169e-05\n",
      "Time taken for epoch: 56.19603705 seconds\n",
      "Early stopping triggered\n"
     ]
    },
    {
     "name": "stderr",
     "output_type": "stream",
     "text": [
      "Epoch: 9/10: 100%|██████████| 3158/3158 [00:55<00:00, 56.47it/s]\n",
      "[I 2025-07-31 16:12:49,447] Trial 8 finished with value: 7.120989973678684e-05 and parameters: {'hidden_size': 72, 'num_layers': 5, 'learning_rate': 0.00837781748543315}. Best is trial 4 with value: 3.620212527322295e-05.\n"
     ]
    },
    {
     "name": "stdout",
     "output_type": "stream",
     "text": [
      "Epoch 10/10, Train Loss: 1.3686299177824147e-05, Validation Loss: 7.120989973678684e-05\n",
      "Time taken for epoch: 55.92632627 seconds\n",
      "Early stopping triggered\n"
     ]
    },
    {
     "name": "stderr",
     "output_type": "stream",
     "text": [
      "Epoch: 0/10: 100%|██████████| 3158/3158 [00:48<00:00, 65.19it/s]\n"
     ]
    },
    {
     "name": "stdout",
     "output_type": "stream",
     "text": [
      "Epoch 1/10, Train Loss: 0.037806506818478, Validation Loss: 0.0009181964727270582\n",
      "Time taken for epoch: 48.44635153 seconds\n"
     ]
    },
    {
     "name": "stderr",
     "output_type": "stream",
     "text": [
      "Epoch: 1/10: 100%|██████████| 3158/3158 [00:47<00:00, 66.29it/s]\n"
     ]
    },
    {
     "name": "stdout",
     "output_type": "stream",
     "text": [
      "Epoch 2/10, Train Loss: 0.0007509603292223504, Validation Loss: 0.0004680174935877066\n",
      "Time taken for epoch: 47.63886094 seconds\n"
     ]
    },
    {
     "name": "stderr",
     "output_type": "stream",
     "text": [
      "Epoch: 2/10: 100%|██████████| 3158/3158 [00:48<00:00, 65.57it/s]\n"
     ]
    },
    {
     "name": "stdout",
     "output_type": "stream",
     "text": [
      "Epoch 3/10, Train Loss: 0.000479440900087427, Validation Loss: 0.00026569720787593024\n",
      "Time taken for epoch: 48.16330409 seconds\n"
     ]
    },
    {
     "name": "stderr",
     "output_type": "stream",
     "text": [
      "Epoch: 3/10: 100%|██████████| 3158/3158 [00:47<00:00, 66.89it/s]\n"
     ]
    },
    {
     "name": "stdout",
     "output_type": "stream",
     "text": [
      "Epoch 4/10, Train Loss: 0.0002977693301683177, Validation Loss: 0.0001734815732358529\n",
      "Time taken for epoch: 47.21191835 seconds\n"
     ]
    },
    {
     "name": "stderr",
     "output_type": "stream",
     "text": [
      "Epoch: 4/10: 100%|██████████| 3158/3158 [00:47<00:00, 66.81it/s]\n"
     ]
    },
    {
     "name": "stdout",
     "output_type": "stream",
     "text": [
      "Epoch 5/10, Train Loss: 0.00019448901864563365, Validation Loss: 0.00014019510374598196\n",
      "Time taken for epoch: 47.26860762 seconds\n"
     ]
    },
    {
     "name": "stderr",
     "output_type": "stream",
     "text": [
      "Epoch: 5/10: 100%|██████████| 3158/3158 [00:48<00:00, 64.67it/s]\n"
     ]
    },
    {
     "name": "stdout",
     "output_type": "stream",
     "text": [
      "Epoch 6/10, Train Loss: 0.00012914931699807133, Validation Loss: 0.00011114823015109511\n",
      "Time taken for epoch: 48.83494473 seconds\n"
     ]
    },
    {
     "name": "stderr",
     "output_type": "stream",
     "text": [
      "Epoch: 6/10: 100%|██████████| 3158/3158 [00:48<00:00, 65.20it/s]\n"
     ]
    },
    {
     "name": "stdout",
     "output_type": "stream",
     "text": [
      "Epoch 7/10, Train Loss: 8.215252882685199e-05, Validation Loss: 8.827628908089157e-05\n",
      "Time taken for epoch: 48.44221926 seconds\n"
     ]
    },
    {
     "name": "stderr",
     "output_type": "stream",
     "text": [
      "Epoch: 7/10: 100%|██████████| 3158/3158 [00:47<00:00, 65.87it/s]\n"
     ]
    },
    {
     "name": "stdout",
     "output_type": "stream",
     "text": [
      "Epoch 8/10, Train Loss: 5.125689774793568e-05, Validation Loss: 6.957002833533564e-05\n",
      "Time taken for epoch: 47.94436717 seconds\n"
     ]
    },
    {
     "name": "stderr",
     "output_type": "stream",
     "text": [
      "Epoch: 8/10: 100%|██████████| 3158/3158 [00:47<00:00, 66.16it/s]\n"
     ]
    },
    {
     "name": "stdout",
     "output_type": "stream",
     "text": [
      "Epoch 9/10, Train Loss: 3.299192100981379e-05, Validation Loss: 6.662204536277379e-05\n",
      "Time taken for epoch: 47.73647928 seconds\n"
     ]
    },
    {
     "name": "stderr",
     "output_type": "stream",
     "text": [
      "Epoch: 9/10: 100%|██████████| 3158/3158 [00:48<00:00, 65.21it/s]\n",
      "[I 2025-07-31 16:21:58,873] Trial 9 finished with value: 6.003767383201217e-05 and parameters: {'hidden_size': 24, 'num_layers': 4, 'learning_rate': 3.583461641953618e-05}. Best is trial 4 with value: 3.620212527322295e-05.\n"
     ]
    },
    {
     "name": "stdout",
     "output_type": "stream",
     "text": [
      "Epoch 10/10, Train Loss: 2.2439643630170258e-05, Validation Loss: 6.003767383201217e-05\n",
      "Time taken for epoch: 48.42677379 seconds\n",
      "Early stopping triggered\n",
      "Best trial: FrozenTrial(number=4, state=TrialState.COMPLETE, values=[3.620212527322295e-05], datetime_start=datetime.datetime(2025, 7, 31, 15, 21, 24, 509927), datetime_complete=datetime.datetime(2025, 7, 31, 15, 32, 23, 843578), params={'hidden_size': 105, 'num_layers': 3, 'learning_rate': 0.00043744795844566733}, user_attrs={}, system_attrs={}, intermediate_values={}, distributions={'hidden_size': IntDistribution(high=128, log=False, low=16, step=1), 'num_layers': IntDistribution(high=5, log=False, low=1, step=1), 'learning_rate': FloatDistribution(high=0.1, log=True, low=1e-05, step=None)}, trial_id=4, value=None)\n",
      "Best hyperparameters: {'hidden_size': 105, 'num_layers': 3, 'learning_rate': 0.00043744795844566733}\n"
     ]
    },
    {
     "ename": "ImportError",
     "evalue": "Tried to import 'plotly' but failed. Please make sure that the package is installed correctly to use this feature. Actual error: No module named 'plotly'.",
     "output_type": "error",
     "traceback": [
      "\u001b[1;31m---------------------------------------------------------------------------\u001b[0m",
      "\u001b[1;31mModuleNotFoundError\u001b[0m                       Traceback (most recent call last)",
      "File \u001b[1;32mc:\\Users\\bunae\\AppData\\Local\\Programs\\Python\\Python39\\lib\\site-packages\\optuna\\visualization\\_plotly_imports.py:7\u001b[0m\n\u001b[0;32m      6\u001b[0m \u001b[38;5;28;01mwith\u001b[39;00m try_import() \u001b[38;5;28;01mas\u001b[39;00m _imports:\n\u001b[1;32m----> 7\u001b[0m     \u001b[38;5;28;01mimport\u001b[39;00m\u001b[38;5;250m \u001b[39m\u001b[38;5;21;01mplotly\u001b[39;00m\n\u001b[0;32m      8\u001b[0m     \u001b[38;5;28;01mfrom\u001b[39;00m\u001b[38;5;250m \u001b[39m\u001b[38;5;21;01mplotly\u001b[39;00m\u001b[38;5;250m \u001b[39m\u001b[38;5;28;01mimport\u001b[39;00m __version__ \u001b[38;5;28;01mas\u001b[39;00m plotly_version\n",
      "\u001b[1;31mModuleNotFoundError\u001b[0m: No module named 'plotly'",
      "\nThe above exception was the direct cause of the following exception:\n",
      "\u001b[1;31mImportError\u001b[0m                               Traceback (most recent call last)",
      "Cell \u001b[1;32mIn[19], line 13\u001b[0m\n\u001b[0;32m     10\u001b[0m \u001b[38;5;28mprint\u001b[39m(\u001b[38;5;124m'\u001b[39m\u001b[38;5;124mBest hyperparameters:\u001b[39m\u001b[38;5;124m'\u001b[39m, best_hyperparams)\n\u001b[0;32m     12\u001b[0m \u001b[38;5;66;03m# Plot optimization history\u001b[39;00m\n\u001b[1;32m---> 13\u001b[0m optimization_history \u001b[38;5;241m=\u001b[39m \u001b[43mplot_optimization_history\u001b[49m\u001b[43m(\u001b[49m\u001b[43mstudy\u001b[49m\u001b[43m)\u001b[49m\n\u001b[0;32m     14\u001b[0m optimization_history\u001b[38;5;241m.\u001b[39mshow()\n",
      "File \u001b[1;32mc:\\Users\\bunae\\AppData\\Local\\Programs\\Python\\Python39\\lib\\site-packages\\optuna\\visualization\\_optimization_history.py:200\u001b[0m, in \u001b[0;36mplot_optimization_history\u001b[1;34m(study, target, target_name, error_bar)\u001b[0m\n\u001b[0;32m    172\u001b[0m \u001b[38;5;28;01mdef\u001b[39;00m\u001b[38;5;250m \u001b[39m\u001b[38;5;21mplot_optimization_history\u001b[39m(\n\u001b[0;32m    173\u001b[0m     study: Study \u001b[38;5;241m|\u001b[39m Sequence[Study],\n\u001b[0;32m    174\u001b[0m     \u001b[38;5;241m*\u001b[39m,\n\u001b[1;32m   (...)\u001b[0m\n\u001b[0;32m    177\u001b[0m     error_bar: \u001b[38;5;28mbool\u001b[39m \u001b[38;5;241m=\u001b[39m \u001b[38;5;28;01mFalse\u001b[39;00m,\n\u001b[0;32m    178\u001b[0m ) \u001b[38;5;241m-\u001b[39m\u001b[38;5;241m>\u001b[39m \u001b[38;5;124m\"\u001b[39m\u001b[38;5;124mgo.Figure\u001b[39m\u001b[38;5;124m\"\u001b[39m:\n\u001b[0;32m    179\u001b[0m \u001b[38;5;250m    \u001b[39m\u001b[38;5;124;03m\"\"\"Plot optimization history of all trials in a study.\u001b[39;00m\n\u001b[0;32m    180\u001b[0m \n\u001b[0;32m    181\u001b[0m \u001b[38;5;124;03m    Args:\u001b[39;00m\n\u001b[1;32m   (...)\u001b[0m\n\u001b[0;32m    197\u001b[0m \u001b[38;5;124;03m        A :class:`plotly.graph_objects.Figure` object.\u001b[39;00m\n\u001b[0;32m    198\u001b[0m \u001b[38;5;124;03m    \"\"\"\u001b[39;00m\n\u001b[1;32m--> 200\u001b[0m     \u001b[43m_imports\u001b[49m\u001b[38;5;241;43m.\u001b[39;49m\u001b[43mcheck\u001b[49m\u001b[43m(\u001b[49m\u001b[43m)\u001b[49m\n\u001b[0;32m    202\u001b[0m     info_list \u001b[38;5;241m=\u001b[39m _get_optimization_history_info_list(study, target, target_name, error_bar)\n\u001b[0;32m    203\u001b[0m     \u001b[38;5;28;01mreturn\u001b[39;00m _get_optimization_history_plot(info_list, target_name)\n",
      "File \u001b[1;32mc:\\Users\\bunae\\AppData\\Local\\Programs\\Python\\Python39\\lib\\site-packages\\optuna\\_imports.py:94\u001b[0m, in \u001b[0;36m_DeferredImportExceptionContextManager.check\u001b[1;34m(self)\u001b[0m\n\u001b[0;32m     92\u001b[0m \u001b[38;5;28;01mif\u001b[39;00m \u001b[38;5;28mself\u001b[39m\u001b[38;5;241m.\u001b[39m_deferred \u001b[38;5;129;01mis\u001b[39;00m \u001b[38;5;129;01mnot\u001b[39;00m \u001b[38;5;28;01mNone\u001b[39;00m:\n\u001b[0;32m     93\u001b[0m     exc_value, message \u001b[38;5;241m=\u001b[39m \u001b[38;5;28mself\u001b[39m\u001b[38;5;241m.\u001b[39m_deferred\n\u001b[1;32m---> 94\u001b[0m     \u001b[38;5;28;01mraise\u001b[39;00m \u001b[38;5;167;01mImportError\u001b[39;00m(message) \u001b[38;5;28;01mfrom\u001b[39;00m\u001b[38;5;250m \u001b[39m\u001b[38;5;21;01mexc_value\u001b[39;00m\n",
      "\u001b[1;31mImportError\u001b[0m: Tried to import 'plotly' but failed. Please make sure that the package is installed correctly to use this feature. Actual error: No module named 'plotly'."
     ]
    }
   ],
   "source": [
    "# Optuna study\n",
    "study = optuna.create_study(direction='minimize')\n",
    "study.optimize(objective, n_trials=10)\n",
    "\n",
    "# Extract best trial\n",
    "best_trial = study.best_trial\n",
    "print(f\"Best trial: {best_trial}\")\n",
    "\n",
    "best_hyperparams = study.best_trial.params\n",
    "print('Best hyperparameters:', best_hyperparams)"
   ]
  },
  {
   "cell_type": "code",
   "execution_count": 24,
   "metadata": {},
   "outputs": [
    {
     "ename": "ImportError",
     "evalue": "Tried to import 'plotly' but failed. Please make sure that the package is installed correctly to use this feature. Actual error: No module named 'plotly'.",
     "output_type": "error",
     "traceback": [
      "\u001b[1;31m---------------------------------------------------------------------------\u001b[0m",
      "\u001b[1;31mModuleNotFoundError\u001b[0m                       Traceback (most recent call last)",
      "File \u001b[1;32mc:\\Users\\bunae\\AppData\\Local\\Programs\\Python\\Python39\\lib\\site-packages\\optuna\\visualization\\_plotly_imports.py:7\u001b[0m\n\u001b[0;32m      6\u001b[0m \u001b[38;5;28;01mwith\u001b[39;00m try_import() \u001b[38;5;28;01mas\u001b[39;00m _imports:\n\u001b[1;32m----> 7\u001b[0m     \u001b[38;5;28;01mimport\u001b[39;00m\u001b[38;5;250m \u001b[39m\u001b[38;5;21;01mplotly\u001b[39;00m\n\u001b[0;32m      8\u001b[0m     \u001b[38;5;28;01mfrom\u001b[39;00m\u001b[38;5;250m \u001b[39m\u001b[38;5;21;01mplotly\u001b[39;00m\u001b[38;5;250m \u001b[39m\u001b[38;5;28;01mimport\u001b[39;00m __version__ \u001b[38;5;28;01mas\u001b[39;00m plotly_version\n",
      "\u001b[1;31mModuleNotFoundError\u001b[0m: No module named 'plotly'",
      "\nThe above exception was the direct cause of the following exception:\n",
      "\u001b[1;31mImportError\u001b[0m                               Traceback (most recent call last)",
      "Cell \u001b[1;32mIn[24], line 2\u001b[0m\n\u001b[0;32m      1\u001b[0m \u001b[38;5;66;03m# Plot optimization history\u001b[39;00m\n\u001b[1;32m----> 2\u001b[0m optimization_history \u001b[38;5;241m=\u001b[39m \u001b[43mplot_optimization_history\u001b[49m\u001b[43m(\u001b[49m\u001b[43mstudy\u001b[49m\u001b[43m)\u001b[49m\n\u001b[0;32m      3\u001b[0m optimization_history\u001b[38;5;241m.\u001b[39mshow()\n",
      "File \u001b[1;32mc:\\Users\\bunae\\AppData\\Local\\Programs\\Python\\Python39\\lib\\site-packages\\optuna\\visualization\\_optimization_history.py:200\u001b[0m, in \u001b[0;36mplot_optimization_history\u001b[1;34m(study, target, target_name, error_bar)\u001b[0m\n\u001b[0;32m    172\u001b[0m \u001b[38;5;28;01mdef\u001b[39;00m\u001b[38;5;250m \u001b[39m\u001b[38;5;21mplot_optimization_history\u001b[39m(\n\u001b[0;32m    173\u001b[0m     study: Study \u001b[38;5;241m|\u001b[39m Sequence[Study],\n\u001b[0;32m    174\u001b[0m     \u001b[38;5;241m*\u001b[39m,\n\u001b[1;32m   (...)\u001b[0m\n\u001b[0;32m    177\u001b[0m     error_bar: \u001b[38;5;28mbool\u001b[39m \u001b[38;5;241m=\u001b[39m \u001b[38;5;28;01mFalse\u001b[39;00m,\n\u001b[0;32m    178\u001b[0m ) \u001b[38;5;241m-\u001b[39m\u001b[38;5;241m>\u001b[39m \u001b[38;5;124m\"\u001b[39m\u001b[38;5;124mgo.Figure\u001b[39m\u001b[38;5;124m\"\u001b[39m:\n\u001b[0;32m    179\u001b[0m \u001b[38;5;250m    \u001b[39m\u001b[38;5;124;03m\"\"\"Plot optimization history of all trials in a study.\u001b[39;00m\n\u001b[0;32m    180\u001b[0m \n\u001b[0;32m    181\u001b[0m \u001b[38;5;124;03m    Args:\u001b[39;00m\n\u001b[1;32m   (...)\u001b[0m\n\u001b[0;32m    197\u001b[0m \u001b[38;5;124;03m        A :class:`plotly.graph_objects.Figure` object.\u001b[39;00m\n\u001b[0;32m    198\u001b[0m \u001b[38;5;124;03m    \"\"\"\u001b[39;00m\n\u001b[1;32m--> 200\u001b[0m     \u001b[43m_imports\u001b[49m\u001b[38;5;241;43m.\u001b[39;49m\u001b[43mcheck\u001b[49m\u001b[43m(\u001b[49m\u001b[43m)\u001b[49m\n\u001b[0;32m    202\u001b[0m     info_list \u001b[38;5;241m=\u001b[39m _get_optimization_history_info_list(study, target, target_name, error_bar)\n\u001b[0;32m    203\u001b[0m     \u001b[38;5;28;01mreturn\u001b[39;00m _get_optimization_history_plot(info_list, target_name)\n",
      "File \u001b[1;32mc:\\Users\\bunae\\AppData\\Local\\Programs\\Python\\Python39\\lib\\site-packages\\optuna\\_imports.py:94\u001b[0m, in \u001b[0;36m_DeferredImportExceptionContextManager.check\u001b[1;34m(self)\u001b[0m\n\u001b[0;32m     92\u001b[0m \u001b[38;5;28;01mif\u001b[39;00m \u001b[38;5;28mself\u001b[39m\u001b[38;5;241m.\u001b[39m_deferred \u001b[38;5;129;01mis\u001b[39;00m \u001b[38;5;129;01mnot\u001b[39;00m \u001b[38;5;28;01mNone\u001b[39;00m:\n\u001b[0;32m     93\u001b[0m     exc_value, message \u001b[38;5;241m=\u001b[39m \u001b[38;5;28mself\u001b[39m\u001b[38;5;241m.\u001b[39m_deferred\n\u001b[1;32m---> 94\u001b[0m     \u001b[38;5;28;01mraise\u001b[39;00m \u001b[38;5;167;01mImportError\u001b[39;00m(message) \u001b[38;5;28;01mfrom\u001b[39;00m\u001b[38;5;250m \u001b[39m\u001b[38;5;21;01mexc_value\u001b[39;00m\n",
      "\u001b[1;31mImportError\u001b[0m: Tried to import 'plotly' but failed. Please make sure that the package is installed correctly to use this feature. Actual error: No module named 'plotly'."
     ]
    }
   ],
   "source": [
    "# Plot optimization history\n",
    "optimization_history = plot_optimization_history(study)\n",
    "optimization_history.show()"
   ]
  },
  {
   "cell_type": "markdown",
   "metadata": {},
   "source": [
    "## Best hyperparameters: {'hidden_size': 105, 'num_layers': 3, 'learning_rate': 0.00043744795844566733}"
   ]
  },
  {
   "cell_type": "code",
   "execution_count": 25,
   "metadata": {},
   "outputs": [
    {
     "name": "stdout",
     "output_type": "stream",
     "text": [
      "SoCLSTM(\n",
      "  (lstm): LSTM(5, 105, num_layers=3, batch_first=True)\n",
      "  (fc): Linear(in_features=105, out_features=1, bias=True)\n",
      ")\n",
      "Trainable parameters: 225226\n"
     ]
    }
   ],
   "source": [
    "# Initialize the model, loss function, and optimizer\n",
    "hidden_size = best_hyperparams['hidden_size']\n",
    "num_layers = best_hyperparams['num_layers']\n",
    "lr = best_hyperparams['learning_rate']\n",
    "\n",
    "EPOCHS = 20\n",
    "\n",
    "model = SoCLSTM(input_size=len(FEATURE_COLS), hidden_size=hidden_size, num_layers=num_layers)\n",
    "model.to(device).type(torch.float32)\n",
    "optimizer = optim.Adam(model.parameters(), lr=lr)\n",
    "criterion = nn.MSELoss()\n",
    "\n",
    "print(model)\n",
    "total_params = sum(p.numel() for p in model.parameters())\n",
    "print(f\"Trainable parameters: {total_params}\")"
   ]
  },
  {
   "cell_type": "code",
   "execution_count": 26,
   "metadata": {},
   "outputs": [
    {
     "name": "stderr",
     "output_type": "stream",
     "text": [
      "Epoch: 0/20: 100%|██████████| 3158/3158 [00:56<00:00, 55.54it/s]\n"
     ]
    },
    {
     "name": "stdout",
     "output_type": "stream",
     "text": [
      "Epoch 1/20, Train Loss: 0.0021532778606210717, Validation Loss: 0.00010243697282954719\n",
      "Time taken for epoch: 56.86326623 seconds\n"
     ]
    },
    {
     "name": "stderr",
     "output_type": "stream",
     "text": [
      "Epoch: 1/20: 100%|██████████| 3158/3158 [00:56<00:00, 55.45it/s]\n"
     ]
    },
    {
     "name": "stdout",
     "output_type": "stream",
     "text": [
      "Epoch 2/20, Train Loss: 2.0582527794442314e-05, Validation Loss: 4.318657842607757e-05\n",
      "Time taken for epoch: 56.95501518 seconds\n"
     ]
    },
    {
     "name": "stderr",
     "output_type": "stream",
     "text": [
      "Epoch: 2/20: 100%|██████████| 3158/3158 [00:57<00:00, 55.37it/s]\n"
     ]
    },
    {
     "name": "stdout",
     "output_type": "stream",
     "text": [
      "Epoch 3/20, Train Loss: 1.6216693413708453e-05, Validation Loss: 4.149215212196834e-05\n",
      "Time taken for epoch: 57.03364182 seconds\n"
     ]
    },
    {
     "name": "stderr",
     "output_type": "stream",
     "text": [
      "Epoch: 3/20: 100%|██████████| 3158/3158 [00:57<00:00, 55.03it/s]\n"
     ]
    },
    {
     "name": "stdout",
     "output_type": "stream",
     "text": [
      "Epoch 4/20, Train Loss: 1.420450021323931e-05, Validation Loss: 5.0803344513927e-05\n",
      "Time taken for epoch: 57.38859344 seconds\n"
     ]
    },
    {
     "name": "stderr",
     "output_type": "stream",
     "text": [
      "Epoch: 4/20: 100%|██████████| 3158/3158 [00:57<00:00, 55.07it/s]\n"
     ]
    },
    {
     "name": "stdout",
     "output_type": "stream",
     "text": [
      "Epoch 5/20, Train Loss: 1.2948570270962106e-05, Validation Loss: 4.580548468237346e-05\n",
      "Time taken for epoch: 57.34544325 seconds\n"
     ]
    },
    {
     "name": "stderr",
     "output_type": "stream",
     "text": [
      "Epoch: 5/20: 100%|██████████| 3158/3158 [00:56<00:00, 55.79it/s]\n"
     ]
    },
    {
     "name": "stdout",
     "output_type": "stream",
     "text": [
      "Epoch 6/20, Train Loss: 1.2136933481057957e-05, Validation Loss: 4.205636290639678e-05\n",
      "Time taken for epoch: 56.60525203 seconds\n",
      "Early stopping triggered\n"
     ]
    },
    {
     "name": "stderr",
     "output_type": "stream",
     "text": [
      "Epoch: 6/20: 100%|██████████| 3158/3158 [00:56<00:00, 55.79it/s]\n"
     ]
    },
    {
     "name": "stdout",
     "output_type": "stream",
     "text": [
      "Epoch 7/20, Train Loss: 1.1473694575894728e-05, Validation Loss: 4.248413338326431e-05\n",
      "Time taken for epoch: 56.61094403 seconds\n",
      "Early stopping triggered\n"
     ]
    },
    {
     "name": "stderr",
     "output_type": "stream",
     "text": [
      "Epoch: 7/20: 100%|██████████| 3158/3158 [00:59<00:00, 53.24it/s]\n"
     ]
    },
    {
     "name": "stdout",
     "output_type": "stream",
     "text": [
      "Epoch 8/20, Train Loss: 1.1310988598696715e-05, Validation Loss: 5.515092327839931e-05\n",
      "Time taken for epoch: 59.32408428 seconds\n",
      "Early stopping triggered\n"
     ]
    },
    {
     "name": "stderr",
     "output_type": "stream",
     "text": [
      "Epoch: 8/20: 100%|██████████| 3158/3158 [00:56<00:00, 55.95it/s]\n"
     ]
    },
    {
     "name": "stdout",
     "output_type": "stream",
     "text": [
      "Epoch 9/20, Train Loss: 1.0745775759971136e-05, Validation Loss: 3.901975327420996e-05\n",
      "Time taken for epoch: 56.44778085 seconds\n",
      "Early stopping triggered\n"
     ]
    },
    {
     "name": "stderr",
     "output_type": "stream",
     "text": [
      "Epoch: 9/20: 100%|██████████| 3158/3158 [00:59<00:00, 53.42it/s]\n"
     ]
    },
    {
     "name": "stdout",
     "output_type": "stream",
     "text": [
      "Epoch 10/20, Train Loss: 1.0327473933923528e-05, Validation Loss: 5.796728545487597e-05\n",
      "Time taken for epoch: 59.12289238 seconds\n",
      "Early stopping triggered\n"
     ]
    },
    {
     "name": "stderr",
     "output_type": "stream",
     "text": [
      "Epoch: 10/20: 100%|██████████| 3158/3158 [00:57<00:00, 55.07it/s]\n"
     ]
    },
    {
     "name": "stdout",
     "output_type": "stream",
     "text": [
      "Epoch 11/20, Train Loss: 1.0028768417374001e-05, Validation Loss: 5.057293437351924e-05\n",
      "Time taken for epoch: 57.34423375 seconds\n",
      "Early stopping triggered\n"
     ]
    },
    {
     "name": "stderr",
     "output_type": "stream",
     "text": [
      "Epoch: 11/20: 100%|██████████| 3158/3158 [00:59<00:00, 53.52it/s]\n"
     ]
    },
    {
     "name": "stdout",
     "output_type": "stream",
     "text": [
      "Epoch 12/20, Train Loss: 9.893698449791001e-06, Validation Loss: 4.377244645465731e-05\n",
      "Time taken for epoch: 59.00558901 seconds\n",
      "Early stopping triggered\n"
     ]
    },
    {
     "name": "stderr",
     "output_type": "stream",
     "text": [
      "Epoch: 12/20: 100%|██████████| 3158/3158 [00:58<00:00, 53.75it/s]\n"
     ]
    },
    {
     "name": "stdout",
     "output_type": "stream",
     "text": [
      "Epoch 13/20, Train Loss: 9.644272872843578e-06, Validation Loss: 4.600222730080018e-05\n",
      "Time taken for epoch: 58.75276995 seconds\n",
      "Early stopping triggered\n"
     ]
    },
    {
     "name": "stderr",
     "output_type": "stream",
     "text": [
      "Epoch: 13/20: 100%|██████████| 3158/3158 [00:57<00:00, 54.76it/s]\n"
     ]
    },
    {
     "name": "stdout",
     "output_type": "stream",
     "text": [
      "Epoch 14/20, Train Loss: 9.433061957560225e-06, Validation Loss: 4.622544274218595e-05\n",
      "Time taken for epoch: 57.66858649 seconds\n",
      "Early stopping triggered\n"
     ]
    },
    {
     "name": "stderr",
     "output_type": "stream",
     "text": [
      "Epoch: 14/20: 100%|██████████| 3158/3158 [00:56<00:00, 55.87it/s]\n"
     ]
    },
    {
     "name": "stdout",
     "output_type": "stream",
     "text": [
      "Epoch 15/20, Train Loss: 9.2574348894291e-06, Validation Loss: 4.5746804689734536e-05\n",
      "Time taken for epoch: 56.52732038 seconds\n",
      "Early stopping triggered\n"
     ]
    },
    {
     "name": "stderr",
     "output_type": "stream",
     "text": [
      "Epoch: 15/20: 100%|██████████| 3158/3158 [00:58<00:00, 54.27it/s]\n"
     ]
    },
    {
     "name": "stdout",
     "output_type": "stream",
     "text": [
      "Epoch 16/20, Train Loss: 8.799582621837778e-06, Validation Loss: 6.136510967411711e-05\n",
      "Time taken for epoch: 58.19190955 seconds\n",
      "Early stopping triggered\n"
     ]
    },
    {
     "name": "stderr",
     "output_type": "stream",
     "text": [
      "Epoch: 16/20: 100%|██████████| 3158/3158 [00:58<00:00, 53.99it/s]\n"
     ]
    },
    {
     "name": "stdout",
     "output_type": "stream",
     "text": [
      "Epoch 17/20, Train Loss: 8.675479857747476e-06, Validation Loss: 4.037354145538442e-05\n",
      "Time taken for epoch: 58.49704313 seconds\n",
      "Early stopping triggered\n"
     ]
    },
    {
     "name": "stderr",
     "output_type": "stream",
     "text": [
      "Epoch: 17/20: 100%|██████████| 3158/3158 [00:56<00:00, 55.98it/s]\n"
     ]
    },
    {
     "name": "stdout",
     "output_type": "stream",
     "text": [
      "Epoch 18/20, Train Loss: 8.526287848125297e-06, Validation Loss: 4.559980087225931e-05\n",
      "Time taken for epoch: 56.41667199 seconds\n",
      "Early stopping triggered\n"
     ]
    },
    {
     "name": "stderr",
     "output_type": "stream",
     "text": [
      "Epoch: 18/20: 100%|██████████| 3158/3158 [00:59<00:00, 53.02it/s]\n"
     ]
    },
    {
     "name": "stdout",
     "output_type": "stream",
     "text": [
      "Epoch 19/20, Train Loss: 8.258291526956041e-06, Validation Loss: 5.7183570039882076e-05\n",
      "Time taken for epoch: 59.56887078 seconds\n",
      "Early stopping triggered\n"
     ]
    },
    {
     "name": "stderr",
     "output_type": "stream",
     "text": [
      "Epoch: 19/20: 100%|██████████| 3158/3158 [00:56<00:00, 56.18it/s]\n"
     ]
    },
    {
     "name": "stdout",
     "output_type": "stream",
     "text": [
      "Epoch 20/20, Train Loss: 8.189675761745919e-06, Validation Loss: 4.997230419196361e-05\n",
      "Time taken for epoch: 56.21071529 seconds\n",
      "Early stopping triggered\n"
     ]
    },
    {
     "data": {
      "image/png": "[encoded data removed]",
      "text/plain": [
       "<Figure size 1000x500 with 1 Axes>"
      ]
     },
     "metadata": {},
     "output_type": "display_data"
    }
   ],
   "source": [
    "# Train and validate the model\n",
    "history = train_and_validate(model, criterion, optimizer, train_loader, val_loader, EPOCHS, device, flag=True)\n",
    "\n",
    "# Plot training history\n",
    "plt.figure(figsize=(10, 5))\n",
    "plt.plot(history['train_loss'], label='Train Loss')\n",
    "plt.plot(history['val_loss'], label='Validation Loss')\n",
    "plt.xlabel('Epoch')\n",
    "plt.ylabel('Loss')\n",
    "plt.title('Training and Validation Loss Over Epochs')\n",
    "plt.legend()\n",
    "plt.grid(True)\n",
    "plt.show()\n",
    "\n",
    "# Save the model\n",
    "model_path = \"soc_lstm_model.pth\"\n",
    "torch.save({'model_state_dict': model.state_dict(), 'input_size': len(FEATURE_COLS)}, model_path)"
   ]
  },
  {
   "cell_type": "code",
   "execution_count": 27,
   "metadata": {},
   "outputs": [],
   "source": [
    "model_path = \"soc_lstm_model.pth\"\n",
    "    \n",
    "def load_lstm_model(model_path, input_size, hidden_size, num_layers):\n",
    "    model = SoCLSTM(input_size=len(FEATURE_COLS), hidden_size=hidden_size, num_layers=num_layers).to(device).type(torch.float32)\n",
    "    model.load_state_dict(torch.load(model_path, map_location=device)['model_state_dict'])\n",
    "    model.to(device)\n",
    "    model.eval()\n",
    "    return model\n",
    "\n",
    "loaded_model = load_lstm_model(model_path, input_size=len(FEATURE_COLS), hidden_size=hidden_size, num_layers=num_layers)"
   ]
  },
  {
   "cell_type": "code",
   "execution_count": 28,
   "metadata": {},
   "outputs": [],
   "source": [
    "def test_model(model, test_loader, device):\n",
    "    model.eval()\n",
    "    test_predictions = []\n",
    "    test_labels = []\n",
    "\n",
    "    with torch.no_grad():\n",
    "        for inputs, labels, _, _ in test_loader: \n",
    "            outputs = model(inputs)\n",
    "            test_predictions.extend(outputs.cpu().view(-1).tolist())\n",
    "            test_labels.extend(labels.cpu().view(-1).tolist())\n",
    "\n",
    "    return test_predictions, test_labels\n",
    "\n",
    "# Evaluate the model\n",
    "test_predictions, test_labels = test_model(loaded_model, test_loader, device)\n",
    "\n",
    "# Convert predictions and labels to numpy arrays for error calculation\n",
    "test_predictions_np = np.array(test_predictions)\n",
    "test_labels_np = np.array(test_labels)"
   ]
  },
  {
   "cell_type": "code",
   "execution_count": 29,
   "metadata": {},
   "outputs": [
    {
     "name": "stdout",
     "output_type": "stream",
     "text": [
      "Test MSE: 0.000012\n",
      "Test MAE: 0.002431\n",
      "Test StdDev: 0.003205\n"
     ]
    }
   ],
   "source": [
    "# Calculate metrics MAE, MSE, STD\n",
    "mse = mean_squared_error(test_labels_np, test_predictions_np)\n",
    "mae = mean_absolute_error(test_labels_np, test_predictions_np)\n",
    "stddev = np.std(test_labels_np - test_predictions_np)\n",
    "\n",
    "print(f\"Test MSE: {mse:.6f}\")\n",
    "print(f\"Test MAE: {mae:.6f}\")\n",
    "print(f\"Test StdDev: {stddev:.6f}\")"
   ]
  },
  {
   "cell_type": "code",
   "execution_count": 30,
   "metadata": {},
   "outputs": [
    {
     "data": {
      "image/png": "[encoded data removed]",
      "text/plain": [
       "<Figure size 800x800 with 1 Axes>"
      ]
     },
     "metadata": {},
     "output_type": "display_data"
    }
   ],
   "source": [
    "plt.figure(figsize=(8, 8))\n",
    "plt.scatter(test_labels, test_predictions, alpha=0.5)\n",
    "plt.xlabel('True Values [SOC]')\n",
    "plt.ylabel('Predictions [SOC]')\n",
    "plt.axis('equal')\n",
    "plt.axis('square')\n",
    "plt.xlim([0, 1])\n",
    "plt.ylim([0, 1])\n",
    "plt.plot([0, 1], [0, 1], color='red') \n",
    "plt.title('Predicted SOC vs True SOC')\n",
    "plt.show()"
   ]
  },
  {
   "cell_type": "code",
   "execution_count": 31,
   "metadata": {},
   "outputs": [
    {
     "data": {
      "image/png": "[encoded data removed]",
      "text/plain": [
       "<Figure size 1200x600 with 1 Axes>"
      ]
     },
     "metadata": {},
     "output_type": "display_data"
    },
    {
     "data": {
      "image/png": "[encoded data removed]",
      "text/plain": [
       "<Figure size 1200x600 with 1 Axes>"
      ]
     },
     "metadata": {},
     "output_type": "display_data"
    },
    {
     "data": {
      "image/png": "[encoded data removed]",
      "text/plain": [
       "<Figure size 1200x600 with 1 Axes>"
      ]
     },
     "metadata": {},
     "output_type": "display_data"
    },
    {
     "data": {
      "image/png": "[encoded data removed]",
      "text/plain": [
       "<Figure size 1200x600 with 1 Axes>"
      ]
     },
     "metadata": {},
     "output_type": "display_data"
    },
    {
     "data": {
      "image/png": "[encoded data removed]",
      "text/plain": [
       "<Figure size 1200x600 with 1 Axes>"
      ]
     },
     "metadata": {},
     "output_type": "display_data"
    },
    {
     "data": {
      "image/png": "[encoded data removed]",
      "text/plain": [
       "<Figure size 1200x600 with 1 Axes>"
      ]
     },
     "metadata": {},
     "output_type": "display_data"
    },
    {
     "data": {
      "image/png": "[encoded data removed]",
      "text/plain": [
       "<Figure size 1200x600 with 1 Axes>"
      ]
     },
     "metadata": {},
     "output_type": "display_data"
    },
    {
     "data": {
      "image/png": "[encoded data removed]",
      "text/plain": [
       "<Figure size 1200x600 with 1 Axes>"
      ]
     },
     "metadata": {},
     "output_type": "display_data"
    },
    {
     "data": {
      "image/png": "[encoded data removed]",
      "text/plain": [
       "<Figure size 1200x600 with 1 Axes>"
      ]
     },
     "metadata": {},
     "output_type": "display_data"
    }
   ],
   "source": [
    "def test_model(model, test_loader, device):\n",
    "    model.eval()\n",
    "    test_results = {}\n",
    "\n",
    "    with torch.no_grad():\n",
    "        for inputs, labels, filenames, times in test_loader: \n",
    "            inputs, labels = inputs.to(device), labels.to(device)\n",
    "            outputs = model(inputs)\n",
    "            predictions = outputs.cpu().view(-1).numpy()\n",
    "            labels = labels.cpu().view(-1).numpy()\n",
    "\n",
    "            for filename, time, pred, label in zip(filenames, times, predictions, labels):\n",
    "                if filename not in test_results:\n",
    "                    test_results[filename] = {'times': [], 'predictions': [], 'labels': []}\n",
    "                test_results[filename]['times'].append(time)\n",
    "                test_results[filename]['predictions'].append(pred)\n",
    "                test_results[filename]['labels'].append(label)\n",
    "\n",
    "    return test_results\n",
    "\n",
    "def plot_soc_over_time(test_results):\n",
    "    for filename, data in test_results.items():\n",
    "        times = data['times']\n",
    "        predictions = data['predictions']\n",
    "        labels = data['labels']\n",
    "\n",
    "        plt.figure(figsize=(12, 6))\n",
    "        plt.plot(times, labels, label='True SOC', color='blue')\n",
    "        plt.plot(times, predictions, label='Predicted SOC', color='red')\n",
    "        plt.title(f'Test File: {filename}')\n",
    "        plt.xlabel('Time [s]')\n",
    "        plt.ylabel('SOC')\n",
    "        plt.legend()\n",
    "        plt.show()\n",
    "\n",
    "# Evaluate the model on the test set\n",
    "test_results = test_model(loaded_model, test_loader, device)\n",
    "\n",
    "# Plot the SOC over time for each test file\n",
    "plot_soc_over_time(test_results)"
   ]
  }
 ],
 "metadata": {
  "kernelspec": {
   "display_name": "Python 3",
   "language": "python",
   "name": "python3"
  },
  "language_info": {
   "codemirror_mode": {
    "name": "ipython",
    "version": 3
   },
   "file_extension": ".py",
   "mimetype": "text/x-python",
   "name": "python",
   "nbconvert_exporter": "python",
   "pygments_lexer": "ipython3",
   "version": "3.9.13"
  }
 },
 "nbformat": 4,
 "nbformat_minor": 2
}
