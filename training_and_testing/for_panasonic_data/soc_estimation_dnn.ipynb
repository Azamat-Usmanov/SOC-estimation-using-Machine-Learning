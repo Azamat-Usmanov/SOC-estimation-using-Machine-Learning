{
 "cells": [
  {
   "cell_type": "markdown",
   "metadata": {},
   "source": [
    "### Deep Neural Network for SOC Prediction with using Panasonic 18650PF Li-ion Battery\n",
    "\n",
    "Panasonic 18650PF Li-ion Battery DataSet - https://data.mendeley.com/datasets/wykht8y7tg/1"
   ]
  },
  {
   "cell_type": "code",
   "execution_count": 1,
   "metadata": {},
   "outputs": [],
   "source": [
    "import os\n",
    "import pandas as pd\n",
    "import numpy as np\n",
    "import torch\n",
    "import torch.nn as nn\n",
    "import torch.optim as optim\n",
    "from torch.utils.data import Dataset, DataLoader\n",
    "import matplotlib.pyplot as plt\n",
    "from sklearn.model_selection import train_test_split\n",
    "from sklearn.preprocessing import StandardScaler\n",
    "import optuna\n",
    "import time\n",
    "from optuna.visualization import plot_optimization_history\n",
    "from tqdm import tqdm\n",
    "from sklearn.metrics import mean_squared_error, mean_absolute_error"
   ]
  },
  {
   "cell_type": "code",
   "execution_count": 19,
   "metadata": {},
   "outputs": [],
   "source": [
    "PROCESSED_DATA_DIR = '../../datasets/Panasonic_dataset/Panasonic_processed'\n",
    "FEATURE_COLS = ['Voltage [V]', 'Current [A]', 'Temperature [degC]', 'Power [W]', 'Cumulative_Capacity_Ah']\n",
    "LABEL_COL = 'SOC [-]'\n",
    "BATCH_SIZE = 1024\n",
    "device = torch.device(\"cuda:0\" if torch.cuda.is_available() else \"cpu\")"
   ]
  },
  {
   "cell_type": "code",
   "execution_count": 3,
   "metadata": {},
   "outputs": [],
   "source": [
    "# Function to load data\n",
    "def load_data(directory, temperatures):\n",
    "    frames = []    \n",
    "    for temp_folder in os.listdir(directory):\n",
    "        if temp_folder in temperatures:\n",
    "            temp_path = os.path.join(directory, temp_folder)\n",
    "            for file in os.listdir(temp_path):\n",
    "                if 'Charge' in file or 'Dis' in file:\n",
    "                    continue  # Skip constant charge and discharge files\n",
    "                if file.endswith('.csv'):\n",
    "                    df = pd.read_csv(os.path.join(temp_path, file))\n",
    "                    df['SourceFile'] = file\n",
    "\n",
    "                    # Calculate power\n",
    "                    df['Power [W]'] = df['Voltage [V]'] * df['Current [A]']\n",
    "                    \n",
    "                    frames.append(df)\n",
    "    return pd.concat(frames, ignore_index=True)"
   ]
  },
  {
   "cell_type": "code",
   "execution_count": 4,
   "metadata": {},
   "outputs": [],
   "source": [
    "# Create Dataset\n",
    "class BatteryDatasetDNN(Dataset):\n",
    "    def __init__(self, data_tensor, labels_tensor, filenames=None, times=None):\n",
    "        self.features = data_tensor\n",
    "        self.labels = labels_tensor\n",
    "        self.filenames = filenames \n",
    "        self.times = times \n",
    "\n",
    "    def __len__(self):\n",
    "        return len(self.features)\n",
    "\n",
    "    def __getitem__(self, idx):\n",
    "        feature = self.features[idx]\n",
    "        label = self.labels[idx]\n",
    "        filename = self.filenames[idx]\n",
    "        time = self.times[idx]  \n",
    "        return feature, label, filename, time\n",
    "    \n",
    "    def get_unique_filenames(self):\n",
    "        return set(self.filenames)\n",
    "    \n",
    "    def get_times(self):\n",
    "        return self.times"
   ]
  },
  {
   "cell_type": "code",
   "execution_count": 5,
   "metadata": {},
   "outputs": [],
   "source": [
    "# DNN Model\n",
    "class SoCDNN(nn.Module):\n",
    "    def __init__(self, input_size, hidden_size, num_layers, dropout = 0.1):\n",
    "        super(SoCDNN, self).__init__()\n",
    "\n",
    "        self.hidden_layers = nn.ModuleList()\n",
    "        self.batch_norm_layers = nn.ModuleList()\n",
    "\n",
    "        # First layer\n",
    "        self.hidden_layers.append(nn.Linear(input_size, hidden_size))\n",
    "        self.batch_norm_layers.append(nn.BatchNorm1d(hidden_size))\n",
    "\n",
    "        # Dynamically add hidden layers\n",
    "        for i in range(1, num_layers):\n",
    "            layer_size = hidden_size // (2 ** i)\n",
    "            self.hidden_layers.append(nn.Linear(hidden_size // (2 ** (i - 1)), layer_size))\n",
    "            self.batch_norm_layers.append(nn.BatchNorm1d(layer_size))\n",
    "\n",
    "        # Output layer\n",
    "        self.output_layer = nn.Linear(hidden_size // (2 ** (num_layers - 1)), 1)\n",
    "\n",
    "        # Activation and Dropout against Regularization\n",
    "        self.relu = nn.ReLU()\n",
    "        self.dropout = nn.Dropout(dropout)\n",
    "\n",
    "    def forward(self, x):\n",
    "        for hidden_layer, batch_norm_layer in zip(self.hidden_layers, self.batch_norm_layers):\n",
    "            x = self.relu(batch_norm_layer(hidden_layer(x)))\n",
    "            x = self.dropout(x)\n",
    "\n",
    "        x = self.output_layer(x)\n",
    "        return x\n"
   ]
  },
  {
   "cell_type": "code",
   "execution_count": 6,
   "metadata": {},
   "outputs": [],
   "source": [
    "# Training loop with validation\n",
    "def train_and_validate(model, criterion, optimizer, train_loader, val_loader, epochs, device, patience=5, min_delta=0.0001):\n",
    "    history = {'train_loss': [], 'val_loss': []}\n",
    "\n",
    "    best_val_loss = float('inf')\n",
    "    epochs_no_improve = 0\n",
    "    \n",
    "    for epoch in range(epochs):\n",
    "        model.train()\n",
    "        train_loss = 0.0\n",
    "        epoch_start_time = time.time()\n",
    "        for _, (sequences, labels, _, _) in enumerate(tqdm(train_loader, desc=f'Epoch: {epoch}/{epochs}')):  \n",
    "            sequences, labels = sequences.to(device), labels.to(device)\n",
    "            labels = labels.unsqueeze(1) \n",
    "            optimizer.zero_grad()\n",
    "            outputs = model(sequences)\n",
    "            loss = criterion(outputs, labels)\n",
    "            loss.backward()\n",
    "            optimizer.step()\n",
    "            train_loss += loss.item()\n",
    "        \n",
    "        epoch_end_time = time.time()\n",
    "        epoch_time = epoch_end_time - epoch_start_time\n",
    "        train_loss /= len(train_loader)\n",
    "        history['train_loss'].append(train_loss)\n",
    "\n",
    "        model.eval()\n",
    "        val_loss = 0.0\n",
    "        with torch.no_grad():\n",
    "            for sequences, labels, _, _ in val_loader:  \n",
    "                sequences, labels = sequences.to(device), labels.to(device)\n",
    "                labels = labels.unsqueeze(1)  \n",
    "                outputs = model(sequences)\n",
    "                loss = criterion(outputs, labels)\n",
    "                val_loss += loss.item()\n",
    "\n",
    "        val_loss /= len(val_loader)\n",
    "        history['val_loss'].append(val_loss)\n",
    "\n",
    "        # Early stopping logic\n",
    "        if val_loss < best_val_loss - min_delta:\n",
    "            best_val_loss = val_loss\n",
    "            epochs_no_improve = 0\n",
    "        else:\n",
    "            epochs_no_improve += 1\n",
    "\n",
    "        print(f'Epoch {epoch + 1}/{epochs}, Train Loss: {train_loss}, Validation Loss: {val_loss}')\n",
    "        print(f'Time taken for epoch: {epoch_time:.8f} seconds')\n",
    "\n",
    "        if epochs_no_improve >= patience:\n",
    "            print('Early stopping triggered')\n",
    "            #break\n",
    "\n",
    "    return history"
   ]
  },
  {
   "cell_type": "code",
   "execution_count": 7,
   "metadata": {},
   "outputs": [],
   "source": [
    "temperatures_to_process = [folder for folder in os.listdir(PROCESSED_DATA_DIR) if 'degC' in folder]"
   ]
  },
  {
   "cell_type": "code",
   "execution_count": 8,
   "metadata": {},
   "outputs": [
    {
     "data": {
      "text/html": [
       "<div>\n",
       "<style scoped>\n",
       "    .dataframe tbody tr th:only-of-type {\n",
       "        vertical-align: middle;\n",
       "    }\n",
       "\n",
       "    .dataframe tbody tr th {\n",
       "        vertical-align: top;\n",
       "    }\n",
       "\n",
       "    .dataframe thead th {\n",
       "        text-align: right;\n",
       "    }\n",
       "</style>\n",
       "<table border=\"1\" class=\"dataframe\">\n",
       "  <thead>\n",
       "    <tr style=\"text-align: right;\">\n",
       "      <th></th>\n",
       "      <th>Timestamp</th>\n",
       "      <th>Time [s]</th>\n",
       "      <th>Voltage [V]</th>\n",
       "      <th>Current [A]</th>\n",
       "      <th>Temperature [degC]</th>\n",
       "      <th>Capacity [Ah]</th>\n",
       "      <th>Time_diff</th>\n",
       "      <th>Cumulative_Capacity_Ah</th>\n",
       "      <th>SOC [-]</th>\n",
       "      <th>SourceFile</th>\n",
       "      <th>Power [W]</th>\n",
       "    </tr>\n",
       "  </thead>\n",
       "  <tbody>\n",
       "    <tr>\n",
       "      <th>0</th>\n",
       "      <td>2017-05-30 20:16:43</td>\n",
       "      <td>0.093995</td>\n",
       "      <td>4.01846</td>\n",
       "      <td>-2.74303</td>\n",
       "      <td>0.550856</td>\n",
       "      <td>-0.00008</td>\n",
       "      <td>0.000000</td>\n",
       "      <td>-0.000000</td>\n",
       "      <td>1.000000</td>\n",
       "      <td>05-30-17_20.16 0degC_Cycle_2_Pan18650PF_proces...</td>\n",
       "      <td>-11.022756</td>\n",
       "    </tr>\n",
       "    <tr>\n",
       "      <th>1</th>\n",
       "      <td>2017-05-30 20:16:43</td>\n",
       "      <td>0.198993</td>\n",
       "      <td>3.94576</td>\n",
       "      <td>-2.80427</td>\n",
       "      <td>0.347088</td>\n",
       "      <td>-0.00015</td>\n",
       "      <td>0.000029</td>\n",
       "      <td>-0.000082</td>\n",
       "      <td>0.999969</td>\n",
       "      <td>05-30-17_20.16 0degC_Cycle_2_Pan18650PF_proces...</td>\n",
       "      <td>-11.064976</td>\n",
       "    </tr>\n",
       "    <tr>\n",
       "      <th>2</th>\n",
       "      <td>2017-05-30 20:16:43</td>\n",
       "      <td>0.295995</td>\n",
       "      <td>3.90201</td>\n",
       "      <td>-2.85000</td>\n",
       "      <td>0.347088</td>\n",
       "      <td>-0.00024</td>\n",
       "      <td>0.000027</td>\n",
       "      <td>-0.000159</td>\n",
       "      <td>0.999939</td>\n",
       "      <td>05-30-17_20.16 0degC_Cycle_2_Pan18650PF_proces...</td>\n",
       "      <td>-11.120729</td>\n",
       "    </tr>\n",
       "    <tr>\n",
       "      <th>3</th>\n",
       "      <td>2017-05-30 20:16:43</td>\n",
       "      <td>0.398992</td>\n",
       "      <td>3.87370</td>\n",
       "      <td>-2.88430</td>\n",
       "      <td>0.347088</td>\n",
       "      <td>-0.00031</td>\n",
       "      <td>0.000029</td>\n",
       "      <td>-0.000241</td>\n",
       "      <td>0.999908</td>\n",
       "      <td>05-30-17_20.16 0degC_Cycle_2_Pan18650PF_proces...</td>\n",
       "      <td>-11.172913</td>\n",
       "    </tr>\n",
       "    <tr>\n",
       "      <th>4</th>\n",
       "      <td>2017-05-30 20:16:43</td>\n",
       "      <td>0.495994</td>\n",
       "      <td>3.85440</td>\n",
       "      <td>-2.90717</td>\n",
       "      <td>0.347088</td>\n",
       "      <td>-0.00040</td>\n",
       "      <td>0.000027</td>\n",
       "      <td>-0.000319</td>\n",
       "      <td>0.999878</td>\n",
       "      <td>05-30-17_20.16 0degC_Cycle_2_Pan18650PF_proces...</td>\n",
       "      <td>-11.205396</td>\n",
       "    </tr>\n",
       "    <tr>\n",
       "      <th>...</th>\n",
       "      <td>...</td>\n",
       "      <td>...</td>\n",
       "      <td>...</td>\n",
       "      <td>...</td>\n",
       "      <td>...</td>\n",
       "      <td>...</td>\n",
       "      <td>...</td>\n",
       "      <td>...</td>\n",
       "      <td>...</td>\n",
       "      <td>...</td>\n",
       "      <td>...</td>\n",
       "    </tr>\n",
       "    <tr>\n",
       "      <th>4979286</th>\n",
       "      <td>2017-06-14 08:01:15</td>\n",
       "      <td>586318.964002</td>\n",
       "      <td>3.80679</td>\n",
       "      <td>-0.07268</td>\n",
       "      <td>-9.940246</td>\n",
       "      <td>-0.89027</td>\n",
       "      <td>0.000026</td>\n",
       "      <td>0.871713</td>\n",
       "      <td>0.397199</td>\n",
       "      <td>06-07-17_08.39 n10degC_US06_HWFET_UDDS_LA92_Pa...</td>\n",
       "      <td>-0.276677</td>\n",
       "    </tr>\n",
       "    <tr>\n",
       "      <th>4979287</th>\n",
       "      <td>2017-06-14 08:01:15</td>\n",
       "      <td>586319.064997</td>\n",
       "      <td>3.80679</td>\n",
       "      <td>-0.07268</td>\n",
       "      <td>-9.940246</td>\n",
       "      <td>-0.89027</td>\n",
       "      <td>0.000028</td>\n",
       "      <td>0.871711</td>\n",
       "      <td>0.397198</td>\n",
       "      <td>06-07-17_08.39 n10degC_US06_HWFET_UDDS_LA92_Pa...</td>\n",
       "      <td>-0.276677</td>\n",
       "    </tr>\n",
       "    <tr>\n",
       "      <th>4979288</th>\n",
       "      <td>2017-06-14 08:01:15</td>\n",
       "      <td>586319.124995</td>\n",
       "      <td>3.80679</td>\n",
       "      <td>0.00000</td>\n",
       "      <td>-9.940246</td>\n",
       "      <td>-0.89028</td>\n",
       "      <td>0.000017</td>\n",
       "      <td>0.871711</td>\n",
       "      <td>0.397198</td>\n",
       "      <td>06-07-17_08.39 n10degC_US06_HWFET_UDDS_LA92_Pa...</td>\n",
       "      <td>0.000000</td>\n",
       "    </tr>\n",
       "    <tr>\n",
       "      <th>4979289</th>\n",
       "      <td>2017-06-14 08:01:15</td>\n",
       "      <td>586319.135999</td>\n",
       "      <td>3.80679</td>\n",
       "      <td>0.00000</td>\n",
       "      <td>-10.158136</td>\n",
       "      <td>-0.89028</td>\n",
       "      <td>0.000003</td>\n",
       "      <td>0.871711</td>\n",
       "      <td>0.397198</td>\n",
       "      <td>06-07-17_08.39 n10degC_US06_HWFET_UDDS_LA92_Pa...</td>\n",
       "      <td>0.000000</td>\n",
       "    </tr>\n",
       "    <tr>\n",
       "      <th>4979290</th>\n",
       "      <td>2017-06-14 08:01:15</td>\n",
       "      <td>586319.142003</td>\n",
       "      <td>3.80937</td>\n",
       "      <td>0.00000</td>\n",
       "      <td>-10.158136</td>\n",
       "      <td>-0.89028</td>\n",
       "      <td>0.000002</td>\n",
       "      <td>0.871711</td>\n",
       "      <td>0.397198</td>\n",
       "      <td>06-07-17_08.39 n10degC_US06_HWFET_UDDS_LA92_Pa...</td>\n",
       "      <td>0.000000</td>\n",
       "    </tr>\n",
       "  </tbody>\n",
       "</table>\n",
       "<p>4979291 rows × 11 columns</p>\n",
       "</div>"
      ],
      "text/plain": [
       "                   Timestamp       Time [s]  Voltage [V]  Current [A]  \\\n",
       "0        2017-05-30 20:16:43       0.093995      4.01846     -2.74303   \n",
       "1        2017-05-30 20:16:43       0.198993      3.94576     -2.80427   \n",
       "2        2017-05-30 20:16:43       0.295995      3.90201     -2.85000   \n",
       "3        2017-05-30 20:16:43       0.398992      3.87370     -2.88430   \n",
       "4        2017-05-30 20:16:43       0.495994      3.85440     -2.90717   \n",
       "...                      ...            ...          ...          ...   \n",
       "4979286  2017-06-14 08:01:15  586318.964002      3.80679     -0.07268   \n",
       "4979287  2017-06-14 08:01:15  586319.064997      3.80679     -0.07268   \n",
       "4979288  2017-06-14 08:01:15  586319.124995      3.80679      0.00000   \n",
       "4979289  2017-06-14 08:01:15  586319.135999      3.80679      0.00000   \n",
       "4979290  2017-06-14 08:01:15  586319.142003      3.80937      0.00000   \n",
       "\n",
       "         Temperature [degC]  Capacity [Ah]  Time_diff  Cumulative_Capacity_Ah  \\\n",
       "0                  0.550856       -0.00008   0.000000               -0.000000   \n",
       "1                  0.347088       -0.00015   0.000029               -0.000082   \n",
       "2                  0.347088       -0.00024   0.000027               -0.000159   \n",
       "3                  0.347088       -0.00031   0.000029               -0.000241   \n",
       "4                  0.347088       -0.00040   0.000027               -0.000319   \n",
       "...                     ...            ...        ...                     ...   \n",
       "4979286           -9.940246       -0.89027   0.000026                0.871713   \n",
       "4979287           -9.940246       -0.89027   0.000028                0.871711   \n",
       "4979288           -9.940246       -0.89028   0.000017                0.871711   \n",
       "4979289          -10.158136       -0.89028   0.000003                0.871711   \n",
       "4979290          -10.158136       -0.89028   0.000002                0.871711   \n",
       "\n",
       "          SOC [-]                                         SourceFile  \\\n",
       "0        1.000000  05-30-17_20.16 0degC_Cycle_2_Pan18650PF_proces...   \n",
       "1        0.999969  05-30-17_20.16 0degC_Cycle_2_Pan18650PF_proces...   \n",
       "2        0.999939  05-30-17_20.16 0degC_Cycle_2_Pan18650PF_proces...   \n",
       "3        0.999908  05-30-17_20.16 0degC_Cycle_2_Pan18650PF_proces...   \n",
       "4        0.999878  05-30-17_20.16 0degC_Cycle_2_Pan18650PF_proces...   \n",
       "...           ...                                                ...   \n",
       "4979286  0.397199  06-07-17_08.39 n10degC_US06_HWFET_UDDS_LA92_Pa...   \n",
       "4979287  0.397198  06-07-17_08.39 n10degC_US06_HWFET_UDDS_LA92_Pa...   \n",
       "4979288  0.397198  06-07-17_08.39 n10degC_US06_HWFET_UDDS_LA92_Pa...   \n",
       "4979289  0.397198  06-07-17_08.39 n10degC_US06_HWFET_UDDS_LA92_Pa...   \n",
       "4979290  0.397198  06-07-17_08.39 n10degC_US06_HWFET_UDDS_LA92_Pa...   \n",
       "\n",
       "         Power [W]  \n",
       "0       -11.022756  \n",
       "1       -11.064976  \n",
       "2       -11.120729  \n",
       "3       -11.172913  \n",
       "4       -11.205396  \n",
       "...            ...  \n",
       "4979286  -0.276677  \n",
       "4979287  -0.276677  \n",
       "4979288   0.000000  \n",
       "4979289   0.000000  \n",
       "4979290   0.000000  \n",
       "\n",
       "[4979291 rows x 11 columns]"
      ]
     },
     "execution_count": 8,
     "metadata": {},
     "output_type": "execute_result"
    }
   ],
   "source": [
    "data = load_data(PROCESSED_DATA_DIR, temperatures_to_process)\n",
    "data"
   ]
  },
  {
   "cell_type": "code",
   "execution_count": 9,
   "metadata": {},
   "outputs": [
    {
     "data": {
      "text/html": [
       "<div>\n",
       "<style scoped>\n",
       "    .dataframe tbody tr th:only-of-type {\n",
       "        vertical-align: middle;\n",
       "    }\n",
       "\n",
       "    .dataframe tbody tr th {\n",
       "        vertical-align: top;\n",
       "    }\n",
       "\n",
       "    .dataframe thead th {\n",
       "        text-align: right;\n",
       "    }\n",
       "</style>\n",
       "<table border=\"1\" class=\"dataframe\">\n",
       "  <thead>\n",
       "    <tr style=\"text-align: right;\">\n",
       "      <th></th>\n",
       "      <th>Timestamp</th>\n",
       "      <th>Time [s]</th>\n",
       "      <th>Voltage [V]</th>\n",
       "      <th>Current [A]</th>\n",
       "      <th>Temperature [degC]</th>\n",
       "      <th>Capacity [Ah]</th>\n",
       "      <th>Time_diff</th>\n",
       "      <th>Cumulative_Capacity_Ah</th>\n",
       "      <th>SOC [-]</th>\n",
       "      <th>SourceFile</th>\n",
       "      <th>Power [W]</th>\n",
       "    </tr>\n",
       "  </thead>\n",
       "  <tbody>\n",
       "    <tr>\n",
       "      <th>0</th>\n",
       "      <td>2017-05-30 20:16:43</td>\n",
       "      <td>0.093995</td>\n",
       "      <td>1.487775</td>\n",
       "      <td>-0.964299</td>\n",
       "      <td>-0.480867</td>\n",
       "      <td>-0.00008</td>\n",
       "      <td>0.000000</td>\n",
       "      <td>1.269774</td>\n",
       "      <td>1.000000</td>\n",
       "      <td>05-30-17_20.16 0degC_Cycle_2_Pan18650PF_proces...</td>\n",
       "      <td>-1.247924</td>\n",
       "    </tr>\n",
       "    <tr>\n",
       "      <th>1</th>\n",
       "      <td>2017-05-30 20:16:43</td>\n",
       "      <td>0.198993</td>\n",
       "      <td>1.229780</td>\n",
       "      <td>-0.997884</td>\n",
       "      <td>-0.495416</td>\n",
       "      <td>-0.00015</td>\n",
       "      <td>0.000029</td>\n",
       "      <td>1.269683</td>\n",
       "      <td>0.999969</td>\n",
       "      <td>05-30-17_20.16 0degC_Cycle_2_Pan18650PF_proces...</td>\n",
       "      <td>-1.254767</td>\n",
       "    </tr>\n",
       "    <tr>\n",
       "      <th>2</th>\n",
       "      <td>2017-05-30 20:16:43</td>\n",
       "      <td>0.295995</td>\n",
       "      <td>1.074522</td>\n",
       "      <td>-1.022964</td>\n",
       "      <td>-0.495416</td>\n",
       "      <td>-0.00024</td>\n",
       "      <td>0.000027</td>\n",
       "      <td>1.269597</td>\n",
       "      <td>0.999939</td>\n",
       "      <td>05-30-17_20.16 0degC_Cycle_2_Pan18650PF_proces...</td>\n",
       "      <td>-1.263804</td>\n",
       "    </tr>\n",
       "    <tr>\n",
       "      <th>3</th>\n",
       "      <td>2017-05-30 20:16:43</td>\n",
       "      <td>0.398992</td>\n",
       "      <td>0.974057</td>\n",
       "      <td>-1.041775</td>\n",
       "      <td>-0.495416</td>\n",
       "      <td>-0.00031</td>\n",
       "      <td>0.000029</td>\n",
       "      <td>1.269505</td>\n",
       "      <td>0.999908</td>\n",
       "      <td>05-30-17_20.16 0degC_Cycle_2_Pan18650PF_proces...</td>\n",
       "      <td>-1.272262</td>\n",
       "    </tr>\n",
       "    <tr>\n",
       "      <th>4</th>\n",
       "      <td>2017-05-30 20:16:43</td>\n",
       "      <td>0.495994</td>\n",
       "      <td>0.905566</td>\n",
       "      <td>-1.054317</td>\n",
       "      <td>-0.495416</td>\n",
       "      <td>-0.00040</td>\n",
       "      <td>0.000027</td>\n",
       "      <td>1.269417</td>\n",
       "      <td>0.999878</td>\n",
       "      <td>05-30-17_20.16 0degC_Cycle_2_Pan18650PF_proces...</td>\n",
       "      <td>-1.277527</td>\n",
       "    </tr>\n",
       "    <tr>\n",
       "      <th>...</th>\n",
       "      <td>...</td>\n",
       "      <td>...</td>\n",
       "      <td>...</td>\n",
       "      <td>...</td>\n",
       "      <td>...</td>\n",
       "      <td>...</td>\n",
       "      <td>...</td>\n",
       "      <td>...</td>\n",
       "      <td>...</td>\n",
       "      <td>...</td>\n",
       "      <td>...</td>\n",
       "    </tr>\n",
       "    <tr>\n",
       "      <th>4979286</th>\n",
       "      <td>2017-06-14 08:01:15</td>\n",
       "      <td>586318.964002</td>\n",
       "      <td>0.736610</td>\n",
       "      <td>0.500180</td>\n",
       "      <td>-1.229929</td>\n",
       "      <td>-0.89027</td>\n",
       "      <td>0.000026</td>\n",
       "      <td>2.245124</td>\n",
       "      <td>0.397199</td>\n",
       "      <td>06-07-17_08.39 n10degC_US06_HWFET_UDDS_LA92_Pa...</td>\n",
       "      <td>0.493877</td>\n",
       "    </tr>\n",
       "    <tr>\n",
       "      <th>4979287</th>\n",
       "      <td>2017-06-14 08:01:15</td>\n",
       "      <td>586319.064997</td>\n",
       "      <td>0.736610</td>\n",
       "      <td>0.500180</td>\n",
       "      <td>-1.229929</td>\n",
       "      <td>-0.89027</td>\n",
       "      <td>0.000028</td>\n",
       "      <td>2.245122</td>\n",
       "      <td>0.397198</td>\n",
       "      <td>06-07-17_08.39 n10degC_US06_HWFET_UDDS_LA92_Pa...</td>\n",
       "      <td>0.493877</td>\n",
       "    </tr>\n",
       "    <tr>\n",
       "      <th>4979288</th>\n",
       "      <td>2017-06-14 08:01:15</td>\n",
       "      <td>586319.124995</td>\n",
       "      <td>0.736610</td>\n",
       "      <td>0.540039</td>\n",
       "      <td>-1.229929</td>\n",
       "      <td>-0.89028</td>\n",
       "      <td>0.000017</td>\n",
       "      <td>2.245122</td>\n",
       "      <td>0.397198</td>\n",
       "      <td>06-07-17_08.39 n10degC_US06_HWFET_UDDS_LA92_Pa...</td>\n",
       "      <td>0.538723</td>\n",
       "    </tr>\n",
       "    <tr>\n",
       "      <th>4979289</th>\n",
       "      <td>2017-06-14 08:01:15</td>\n",
       "      <td>586319.135999</td>\n",
       "      <td>0.736610</td>\n",
       "      <td>0.540039</td>\n",
       "      <td>-1.245487</td>\n",
       "      <td>-0.89028</td>\n",
       "      <td>0.000003</td>\n",
       "      <td>2.245122</td>\n",
       "      <td>0.397198</td>\n",
       "      <td>06-07-17_08.39 n10degC_US06_HWFET_UDDS_LA92_Pa...</td>\n",
       "      <td>0.538723</td>\n",
       "    </tr>\n",
       "    <tr>\n",
       "      <th>4979290</th>\n",
       "      <td>2017-06-14 08:01:15</td>\n",
       "      <td>586319.142003</td>\n",
       "      <td>0.745765</td>\n",
       "      <td>0.540039</td>\n",
       "      <td>-1.245487</td>\n",
       "      <td>-0.89028</td>\n",
       "      <td>0.000002</td>\n",
       "      <td>2.245122</td>\n",
       "      <td>0.397198</td>\n",
       "      <td>06-07-17_08.39 n10degC_US06_HWFET_UDDS_LA92_Pa...</td>\n",
       "      <td>0.538723</td>\n",
       "    </tr>\n",
       "  </tbody>\n",
       "</table>\n",
       "<p>4979291 rows × 11 columns</p>\n",
       "</div>"
      ],
      "text/plain": [
       "                   Timestamp       Time [s]  Voltage [V]  Current [A]  \\\n",
       "0        2017-05-30 20:16:43       0.093995     1.487775    -0.964299   \n",
       "1        2017-05-30 20:16:43       0.198993     1.229780    -0.997884   \n",
       "2        2017-05-30 20:16:43       0.295995     1.074522    -1.022964   \n",
       "3        2017-05-30 20:16:43       0.398992     0.974057    -1.041775   \n",
       "4        2017-05-30 20:16:43       0.495994     0.905566    -1.054317   \n",
       "...                      ...            ...          ...          ...   \n",
       "4979286  2017-06-14 08:01:15  586318.964002     0.736610     0.500180   \n",
       "4979287  2017-06-14 08:01:15  586319.064997     0.736610     0.500180   \n",
       "4979288  2017-06-14 08:01:15  586319.124995     0.736610     0.540039   \n",
       "4979289  2017-06-14 08:01:15  586319.135999     0.736610     0.540039   \n",
       "4979290  2017-06-14 08:01:15  586319.142003     0.745765     0.540039   \n",
       "\n",
       "         Temperature [degC]  Capacity [Ah]  Time_diff  Cumulative_Capacity_Ah  \\\n",
       "0                 -0.480867       -0.00008   0.000000                1.269774   \n",
       "1                 -0.495416       -0.00015   0.000029                1.269683   \n",
       "2                 -0.495416       -0.00024   0.000027                1.269597   \n",
       "3                 -0.495416       -0.00031   0.000029                1.269505   \n",
       "4                 -0.495416       -0.00040   0.000027                1.269417   \n",
       "...                     ...            ...        ...                     ...   \n",
       "4979286           -1.229929       -0.89027   0.000026                2.245124   \n",
       "4979287           -1.229929       -0.89027   0.000028                2.245122   \n",
       "4979288           -1.229929       -0.89028   0.000017                2.245122   \n",
       "4979289           -1.245487       -0.89028   0.000003                2.245122   \n",
       "4979290           -1.245487       -0.89028   0.000002                2.245122   \n",
       "\n",
       "          SOC [-]                                         SourceFile  \\\n",
       "0        1.000000  05-30-17_20.16 0degC_Cycle_2_Pan18650PF_proces...   \n",
       "1        0.999969  05-30-17_20.16 0degC_Cycle_2_Pan18650PF_proces...   \n",
       "2        0.999939  05-30-17_20.16 0degC_Cycle_2_Pan18650PF_proces...   \n",
       "3        0.999908  05-30-17_20.16 0degC_Cycle_2_Pan18650PF_proces...   \n",
       "4        0.999878  05-30-17_20.16 0degC_Cycle_2_Pan18650PF_proces...   \n",
       "...           ...                                                ...   \n",
       "4979286  0.397199  06-07-17_08.39 n10degC_US06_HWFET_UDDS_LA92_Pa...   \n",
       "4979287  0.397198  06-07-17_08.39 n10degC_US06_HWFET_UDDS_LA92_Pa...   \n",
       "4979288  0.397198  06-07-17_08.39 n10degC_US06_HWFET_UDDS_LA92_Pa...   \n",
       "4979289  0.397198  06-07-17_08.39 n10degC_US06_HWFET_UDDS_LA92_Pa...   \n",
       "4979290  0.397198  06-07-17_08.39 n10degC_US06_HWFET_UDDS_LA92_Pa...   \n",
       "\n",
       "         Power [W]  \n",
       "0        -1.247924  \n",
       "1        -1.254767  \n",
       "2        -1.263804  \n",
       "3        -1.272262  \n",
       "4        -1.277527  \n",
       "...            ...  \n",
       "4979286   0.493877  \n",
       "4979287   0.493877  \n",
       "4979288   0.538723  \n",
       "4979289   0.538723  \n",
       "4979290   0.538723  \n",
       "\n",
       "[4979291 rows x 11 columns]"
      ]
     },
     "execution_count": 9,
     "metadata": {},
     "output_type": "execute_result"
    }
   ],
   "source": [
    "scaler = StandardScaler()\n",
    "data[FEATURE_COLS] = scaler.fit_transform(data[FEATURE_COLS])\n",
    "data"
   ]
  },
  {
   "cell_type": "code",
   "execution_count": 10,
   "metadata": {},
   "outputs": [],
   "source": [
    "unique_files = np.array(list(set(data['SourceFile'])))\n",
    "train_files, temp_files = train_test_split(unique_files, test_size=0.2, random_state=52)\n",
    "val_files, test_files = train_test_split(temp_files, test_size=0.5, random_state=52)"
   ]
  },
  {
   "cell_type": "code",
   "execution_count": 11,
   "metadata": {},
   "outputs": [],
   "source": [
    "def filter_data_by_filenames(df, filenames):\n",
    "    return df[df['SourceFile'].isin(filenames)]\n",
    "\n",
    "# Filter data for each set\n",
    "train_data = filter_data_by_filenames(data, train_files)\n",
    "val_data = filter_data_by_filenames(data, val_files)\n",
    "test_data = filter_data_by_filenames(data, test_files)"
   ]
  },
  {
   "cell_type": "code",
   "execution_count": 12,
   "metadata": {},
   "outputs": [],
   "source": [
    "# Convert to tensors\n",
    "train_tensor = torch.tensor(train_data[FEATURE_COLS].values, dtype=torch.float32).to(device)\n",
    "train_labels = torch.tensor(train_data[LABEL_COL].values, dtype=torch.float32).to(device)\n",
    "\n",
    "val_tensor = torch.tensor(val_data[FEATURE_COLS].values, dtype=torch.float32).to(device)\n",
    "val_labels = torch.tensor(val_data[LABEL_COL].values, dtype=torch.float32).to(device)\n",
    "\n",
    "test_tensor = torch.tensor(test_data[FEATURE_COLS].values, dtype=torch.float32).to(device)\n",
    "test_labels = torch.tensor(test_data[LABEL_COL].values, dtype=torch.float32).to(device)"
   ]
  },
  {
   "cell_type": "code",
   "execution_count": 13,
   "metadata": {},
   "outputs": [],
   "source": [
    "# Convert filtered data to tensors and create dataset instances\n",
    "train_dataset = BatteryDatasetDNN(\n",
    "    torch.tensor(train_data[FEATURE_COLS].values, dtype=torch.float32).to(device),\n",
    "    torch.tensor(train_data[LABEL_COL].values, dtype=torch.float32).to(device),\n",
    "    train_data['SourceFile'].values,\n",
    "    train_data['Time [s]'].values  \n",
    ")\n",
    "\n",
    "val_dataset = BatteryDatasetDNN(\n",
    "    torch.tensor(val_data[FEATURE_COLS].values, dtype=torch.float32).to(device),\n",
    "    torch.tensor(val_data[LABEL_COL].values, dtype=torch.float32).to(device),\n",
    "    val_data['SourceFile'].values,\n",
    "    val_data['Time [s]'].values  \n",
    ")\n",
    "\n",
    "test_dataset = BatteryDatasetDNN(\n",
    "    torch.tensor(test_data[FEATURE_COLS].values, dtype=torch.float32).to(device),\n",
    "    torch.tensor(test_data[LABEL_COL].values, dtype=torch.float32).to(device),\n",
    "    test_data['SourceFile'].values,\n",
    "    test_data['Time [s]'].values  \n",
    ")"
   ]
  },
  {
   "cell_type": "code",
   "execution_count": 20,
   "metadata": {},
   "outputs": [],
   "source": [
    "# Create data loaders\n",
    "train_loader = DataLoader(train_dataset, batch_size=BATCH_SIZE, shuffle=True) \n",
    "val_loader = DataLoader(val_dataset, batch_size=BATCH_SIZE, shuffle=False)\n",
    "test_loader = DataLoader(test_dataset, batch_size=BATCH_SIZE, shuffle=False)"
   ]
  },
  {
   "cell_type": "code",
   "execution_count": 15,
   "metadata": {},
   "outputs": [
    {
     "name": "stdout",
     "output_type": "stream",
     "text": [
      "Training files: {'03-27-17_09.06 10degC_LA92_Pan18650PF_processed.csv', '06-25-17_03.01 n20degC_Cycle_4_Pan18650PF_processed.csv', '06-07-17_08.39 n10degC_UDDS_Pan18650PF_processed.csv', '06-01-17_10.36 0degC_LA92_NN_Pan18650PF_processed.csv', '06-02-17_10.43 0degC_HWFET_Pan18650PF_processed.csv', '06-23-17_23.35 n20degC_NN_Pan18650PF_processed.csv', '03-27-17_09.06 10degC_HWFET_Pan18650PF_processed.csv', '06-23-17_23.35 n20degC_UDDS_Pan18650PF_processed.csv', '03-20-17_05.56 25degC_HWFTa_Pan18650PF_processed.csv', '06-07-17_08.39 n10degC_US06_Pan18650PF_processed.csv', '06-01-17_10.36 0degC_LA92_Pan18650PF_processed.csv', '03-27-17_09.06 10degC_UDDS_Pan18650PF_processed.csv', '03-18-17_02.17 25degC_Cycle_1_Pan18650PF_processed.csv', '03-21-17_16.27 25degC_NN_Pan18650PF_processed.csv', '03-20-17_19.27 25degC_HWFTb_Pan18650PF_processed.csv', '06-10-17_18.35 n10degC_Cycle_2_Pan18650PF_processed.csv', '06-23-17_23.35 n20degC_HWFET_Pan18650PF_processed.csv', '03-21-17_00.29 25degC_UDDS_Pan18650PF_processed.csv', '06-01-17_15.36 0degC_Cycle_3_Pan18650PF_processed.csv', '06-23-17_23.35 n20degC_HWFET_UDDS_LA92_NN_Pan18650PF_processed.csv', '06-24-17_11.58 n20degC_Cycle_2_Pan18650PF_processed.csv', '05-30-17_12.56 0degC_Cycle_1_Pan18650PF_processed.csv', '06-25-17_10.31 n20degC_US06_Pan18650PF_processed.csv', '06-11-17_08.42 n10degC_Cycle_4_Pan18650PF_processed.csv', '06-07-17_08.39 n10degC_LA92_Pan18650PF_processed.csv', '03-21-17_09.38 25degC_LA92_Pan18650PF_processed.csv', '06-02-17_17.14 0degC_UDDS_Pan18650PF_processed.csv', '03-19-17_09.07 25degC_Cycle_3_Pan18650PF_processed.csv', '03-20-17_01.43 25degC_US06_Pan18650PF_processed.csv', '03-28-17_12.51 10degC_Cycle_1_Pan18650PF_processed.csv', '05-08-17_13.26 C20 OCV Test_C20_25dC_processed.csv', '03-19-17_03.25 25degC_Cycle_2_Pan18650PF_processed.csv', '03-27-17_09.06 10degC_NN_Pan18650PF_processed.csv', '06-23-17_23.35 n20degC_LA92_Pan18650PF_processed.csv', '03-19-17_14.31 25degC_Cycle_4_Pan18650PF_processed.csv', '06-10-17_11.25 n10degC_Cycle_1_Pan18650PF_processed.csv', '04-05-17_17.04 10degC_Cycle_3_Pan18650PF_processed.csv', '03-27-17_09.06 10degC_US06_HWFET_UDDS_LA92_NN_Pan18650PF_processed.csv', '06-01-17_22.03 0degC_Cycle_4_Pan18650PF_processed.csv', '06-11-17_01.39 n10degC_Cycle_3_Pan18650PF_processed.csv'}\n",
      "\n",
      "Validation files: {'06-24-17_04.29 n20degC_Cycle_1_Pan18650PF_processed.csv', '05-30-17_20.16 0degC_Cycle_2_Pan18650PF_processed.csv', '04-05-17_22.50 10degC_Cycle_4_Pan18650PF_processed.csv', '06-07-17_08.39 n10degC_US06_HWFET_UDDS_LA92_Pan18650PF_processed.csv', '06-24-17_19.29 n20degC_Cycle_3_Pan18650PF_processed.csv'}\n",
      "\n",
      "Testing files: {'06-01-17_10.36 0degC_NN_Pan18650PF_processed.csv', '06-07-17_08.39 n10degC_HWFET_Pan18650PF_processed.csv', '06-14-17_13.12 n10degC_NN_Pan18650PF_processed.csv', '06-02-17_04.58 0degC_US06_Pan18650PF_processed.csv', '03-28-17_18.18 10degC_Cycle_2_Pan18650PF_processed.csv', '03-27-17_09.06 10degC_US06_Pan18650PF_processed.csv'}\n"
     ]
    }
   ],
   "source": [
    "# Print file names used in training, validation, and testing\n",
    "train_files = train_dataset.get_unique_filenames()\n",
    "val_files = val_dataset.get_unique_filenames()\n",
    "test_files = test_dataset.get_unique_filenames()\n",
    "\n",
    "train_files_sorted = sorted(train_files)\n",
    "val_files_sorted = sorted(val_files)\n",
    "test_files_sorted = sorted(test_files)\n",
    "\n",
    "print(\"Training files:\", train_files)\n",
    "print(\"\\nValidation files:\", val_files)\n",
    "print(\"\\nTesting files:\", test_files)"
   ]
  },
  {
   "cell_type": "code",
   "execution_count": 16,
   "metadata": {},
   "outputs": [
    {
     "name": "stdout",
     "output_type": "stream",
     "text": [
      "Train features shape: torch.Size([4080375, 5])\n",
      "Test features shape: torch.Size([326908, 5])\n",
      "Train labels shape: torch.Size([4080375])\n",
      "Test labels shape: torch.Size([326908])\n"
     ]
    }
   ],
   "source": [
    "print(\"Train features shape:\", train_tensor.shape)\n",
    "print(\"Test features shape:\", test_tensor .shape)\n",
    "print(\"Train labels shape:\", train_labels.shape)\n",
    "print(\"Test labels shape:\", test_labels.shape)"
   ]
  },
  {
   "cell_type": "markdown",
   "metadata": {},
   "source": [
    "## Hyperparameter tuning"
   ]
  },
  {
   "cell_type": "code",
   "execution_count": 21,
   "metadata": {},
   "outputs": [],
   "source": [
    "EPOCHS = 10\n",
    "def objective(trial):\n",
    "    # Hyperparameters to tune\n",
    "    learning_rate = trial.suggest_float('learning_rate', 1e-5, 1e-1, log=True)\n",
    "    hidden_size = trial.suggest_categorical('hidden_size', [16, 32, 64, 128, 256])\n",
    "    num_layers = trial.suggest_int('num_layers', 1, 4)\n",
    "    dropout_rate = trial.suggest_float('dropout_rate', 0.1, 0.5)\n",
    "\n",
    "    # Model, criterion, optimizer\n",
    "    model = SoCDNN(input_size=len(FEATURE_COLS), hidden_size=hidden_size, num_layers=num_layers, dropout=dropout_rate).to(device)\n",
    "    optimizer = optim.Adam(model.parameters(), lr=learning_rate, weight_decay=0.01)\n",
    "    criterion = nn.MSELoss()\n",
    "\n",
    "    # Train and validate the model\n",
    "    history = train_and_validate(model, criterion, optimizer, train_loader, val_loader, EPOCHS, device)\n",
    "\n",
    "    # Minimize the last validation loss\n",
    "    return history['val_loss'][-1]"
   ]
  },
  {
   "cell_type": "code",
   "execution_count": 22,
   "metadata": {},
   "outputs": [
    {
     "name": "stderr",
     "output_type": "stream",
     "text": [
      "[I 2025-08-01 03:55:21,782] A new study created in memory with name: no-name-cecda922-b65b-40ed-bf19-f62b2d7fe937\n",
      "Epoch: 0/10: 100%|██████████| 3985/3985 [00:26<00:00, 152.66it/s]\n"
     ]
    },
    {
     "name": "stdout",
     "output_type": "stream",
     "text": [
      "Epoch 1/10, Train Loss: 0.05737648874642783, Validation Loss: 0.419962201014189\n",
      "Time taken for epoch: 26.10643196 seconds\n"
     ]
    },
    {
     "name": "stderr",
     "output_type": "stream",
     "text": [
      "Epoch: 1/10: 100%|██████████| 3985/3985 [00:26<00:00, 149.40it/s]\n"
     ]
    },
    {
     "name": "stdout",
     "output_type": "stream",
     "text": [
      "Epoch 2/10, Train Loss: 0.005641715489024088, Validation Loss: 0.40944993988855727\n",
      "Time taken for epoch: 26.67460513 seconds\n"
     ]
    },
    {
     "name": "stderr",
     "output_type": "stream",
     "text": [
      "Epoch: 2/10: 100%|██████████| 3985/3985 [00:27<00:00, 144.84it/s]\n"
     ]
    },
    {
     "name": "stdout",
     "output_type": "stream",
     "text": [
      "Epoch 3/10, Train Loss: 0.004214111502531219, Validation Loss: 0.318347491703775\n",
      "Time taken for epoch: 27.51538396 seconds\n"
     ]
    },
    {
     "name": "stderr",
     "output_type": "stream",
     "text": [
      "Epoch: 3/10: 100%|██████████| 3985/3985 [00:27<00:00, 143.59it/s]\n"
     ]
    },
    {
     "name": "stdout",
     "output_type": "stream",
     "text": [
      "Epoch 4/10, Train Loss: 0.004308267335209954, Validation Loss: 0.3239740458207337\n",
      "Time taken for epoch: 27.75405622 seconds\n"
     ]
    },
    {
     "name": "stderr",
     "output_type": "stream",
     "text": [
      "Epoch: 4/10: 100%|██████████| 3985/3985 [00:28<00:00, 142.11it/s]\n"
     ]
    },
    {
     "name": "stdout",
     "output_type": "stream",
     "text": [
      "Epoch 5/10, Train Loss: 0.004309541741596392, Validation Loss: 0.32864011137856003\n",
      "Time taken for epoch: 28.04344606 seconds\n"
     ]
    },
    {
     "name": "stderr",
     "output_type": "stream",
     "text": [
      "Epoch: 5/10: 100%|██████████| 3985/3985 [00:28<00:00, 142.22it/s]\n"
     ]
    },
    {
     "name": "stdout",
     "output_type": "stream",
     "text": [
      "Epoch 6/10, Train Loss: 0.004319122397204116, Validation Loss: 0.3292663987526883\n",
      "Time taken for epoch: 28.02149487 seconds\n"
     ]
    },
    {
     "name": "stderr",
     "output_type": "stream",
     "text": [
      "Epoch: 6/10: 100%|██████████| 3985/3985 [00:28<00:00, 140.55it/s]\n"
     ]
    },
    {
     "name": "stdout",
     "output_type": "stream",
     "text": [
      "Epoch 7/10, Train Loss: 0.004318891751546053, Validation Loss: 0.3299033583611543\n",
      "Time taken for epoch: 28.35445619 seconds\n"
     ]
    },
    {
     "name": "stderr",
     "output_type": "stream",
     "text": [
      "Epoch: 7/10: 100%|██████████| 3985/3985 [00:28<00:00, 138.77it/s]\n"
     ]
    },
    {
     "name": "stdout",
     "output_type": "stream",
     "text": [
      "Epoch 8/10, Train Loss: 0.004322607591958574, Validation Loss: 0.3301696545653147\n",
      "Time taken for epoch: 28.71901321 seconds\n",
      "Early stopping triggered\n"
     ]
    },
    {
     "name": "stderr",
     "output_type": "stream",
     "text": [
      "Epoch: 8/10: 100%|██████████| 3985/3985 [00:28<00:00, 137.47it/s]\n"
     ]
    },
    {
     "name": "stdout",
     "output_type": "stream",
     "text": [
      "Epoch 9/10, Train Loss: 0.00431708429514698, Validation Loss: 0.32269838762744263\n",
      "Time taken for epoch: 28.98994517 seconds\n",
      "Early stopping triggered\n"
     ]
    },
    {
     "name": "stderr",
     "output_type": "stream",
     "text": [
      "Epoch: 9/10: 100%|██████████| 3985/3985 [00:29<00:00, 136.72it/s]\n",
      "[I 2025-08-01 04:00:30,332] Trial 0 finished with value: 0.3290756366506078 and parameters: {'learning_rate': 0.00013033634990185377, 'hidden_size': 64, 'num_layers': 1, 'dropout_rate': 0.2405012975785851}. Best is trial 0 with value: 0.3290756366506078.\n"
     ]
    },
    {
     "name": "stdout",
     "output_type": "stream",
     "text": [
      "Epoch 10/10, Train Loss: 0.00431965118235531, Validation Loss: 0.3290756366506078\n",
      "Time taken for epoch: 29.14970493 seconds\n",
      "Early stopping triggered\n"
     ]
    },
    {
     "name": "stderr",
     "output_type": "stream",
     "text": [
      "Epoch: 0/10: 100%|██████████| 3985/3985 [00:37<00:00, 107.37it/s]\n"
     ]
    },
    {
     "name": "stdout",
     "output_type": "stream",
     "text": [
      "Epoch 1/10, Train Loss: 0.30664243691202386, Validation Loss: 0.08051570186891975\n",
      "Time taken for epoch: 37.11754704 seconds\n"
     ]
    },
    {
     "name": "stderr",
     "output_type": "stream",
     "text": [
      "Epoch: 1/10: 100%|██████████| 3985/3985 [00:36<00:00, 108.11it/s]\n"
     ]
    },
    {
     "name": "stdout",
     "output_type": "stream",
     "text": [
      "Epoch 2/10, Train Loss: 0.05629842393941607, Validation Loss: 0.1154775452210378\n",
      "Time taken for epoch: 36.86159396 seconds\n"
     ]
    },
    {
     "name": "stderr",
     "output_type": "stream",
     "text": [
      "Epoch: 2/10: 100%|██████████| 3985/3985 [00:38<00:00, 102.65it/s]\n"
     ]
    },
    {
     "name": "stdout",
     "output_type": "stream",
     "text": [
      "Epoch 3/10, Train Loss: 0.023996899969212084, Validation Loss: 0.1662980750094426\n",
      "Time taken for epoch: 38.82105613 seconds\n"
     ]
    },
    {
     "name": "stderr",
     "output_type": "stream",
     "text": [
      "Epoch: 3/10: 100%|██████████| 3985/3985 [00:40<00:00, 98.52it/s] \n"
     ]
    },
    {
     "name": "stdout",
     "output_type": "stream",
     "text": [
      "Epoch 4/10, Train Loss: 0.015136367865047013, Validation Loss: 0.21010170238942774\n",
      "Time taken for epoch: 40.45065689 seconds\n"
     ]
    },
    {
     "name": "stderr",
     "output_type": "stream",
     "text": [
      "Epoch: 4/10: 100%|██████████| 3985/3985 [00:39<00:00, 99.99it/s] \n"
     ]
    },
    {
     "name": "stdout",
     "output_type": "stream",
     "text": [
      "Epoch 5/10, Train Loss: 0.010105237139358536, Validation Loss: 0.2132924772909487\n",
      "Time taken for epoch: 39.85547400 seconds\n"
     ]
    },
    {
     "name": "stderr",
     "output_type": "stream",
     "text": [
      "Epoch: 5/10: 100%|██████████| 3985/3985 [00:39<00:00, 101.88it/s]\n"
     ]
    },
    {
     "name": "stdout",
     "output_type": "stream",
     "text": [
      "Epoch 6/10, Train Loss: 0.008211162950904337, Validation Loss: 0.1972781654746959\n",
      "Time taken for epoch: 39.11651921 seconds\n",
      "Early stopping triggered\n"
     ]
    },
    {
     "name": "stderr",
     "output_type": "stream",
     "text": [
      "Epoch: 6/10: 100%|██████████| 3985/3985 [00:39<00:00, 101.98it/s]\n"
     ]
    },
    {
     "name": "stdout",
     "output_type": "stream",
     "text": [
      "Epoch 7/10, Train Loss: 0.007477018514524215, Validation Loss: 0.19911591174597026\n",
      "Time taken for epoch: 39.07687402 seconds\n",
      "Early stopping triggered\n"
     ]
    },
    {
     "name": "stderr",
     "output_type": "stream",
     "text": [
      "Epoch: 7/10: 100%|██████████| 3985/3985 [00:38<00:00, 102.61it/s]\n"
     ]
    },
    {
     "name": "stdout",
     "output_type": "stream",
     "text": [
      "Epoch 8/10, Train Loss: 0.0071639514032755995, Validation Loss: 0.20388120217870084\n",
      "Time taken for epoch: 38.83707690 seconds\n",
      "Early stopping triggered\n"
     ]
    },
    {
     "name": "stderr",
     "output_type": "stream",
     "text": [
      "Epoch: 8/10: 100%|██████████| 3985/3985 [00:38<00:00, 102.24it/s]\n"
     ]
    },
    {
     "name": "stdout",
     "output_type": "stream",
     "text": [
      "Epoch 9/10, Train Loss: 0.007042377500781974, Validation Loss: 0.20640201109305634\n",
      "Time taken for epoch: 38.97957563 seconds\n",
      "Early stopping triggered\n"
     ]
    },
    {
     "name": "stderr",
     "output_type": "stream",
     "text": [
      "Epoch: 9/10: 100%|██████████| 3985/3985 [00:38<00:00, 102.48it/s]\n",
      "[I 2025-08-01 04:07:31,496] Trial 1 finished with value: 0.21918709013724624 and parameters: {'learning_rate': 2.4317234258432755e-05, 'hidden_size': 64, 'num_layers': 4, 'dropout_rate': 0.16571164062609123}. Best is trial 1 with value: 0.21918709013724624.\n"
     ]
    },
    {
     "name": "stdout",
     "output_type": "stream",
     "text": [
      "Epoch 10/10, Train Loss: 0.006953236313683999, Validation Loss: 0.21918709013724624\n",
      "Time taken for epoch: 38.88755989 seconds\n",
      "Early stopping triggered\n"
     ]
    },
    {
     "name": "stderr",
     "output_type": "stream",
     "text": [
      "Epoch: 0/10: 100%|██████████| 3985/3985 [00:37<00:00, 105.07it/s]\n"
     ]
    },
    {
     "name": "stdout",
     "output_type": "stream",
     "text": [
      "Epoch 1/10, Train Loss: 0.45575434773075985, Validation Loss: 0.06740057240775267\n",
      "Time taken for epoch: 37.92692900 seconds\n"
     ]
    },
    {
     "name": "stderr",
     "output_type": "stream",
     "text": [
      "Epoch: 1/10: 100%|██████████| 3985/3985 [00:37<00:00, 106.74it/s]\n"
     ]
    },
    {
     "name": "stdout",
     "output_type": "stream",
     "text": [
      "Epoch 2/10, Train Loss: 0.06917052523816096, Validation Loss: 0.1019203839980707\n",
      "Time taken for epoch: 37.33401608 seconds\n"
     ]
    },
    {
     "name": "stderr",
     "output_type": "stream",
     "text": [
      "Epoch: 2/10: 100%|██████████| 3985/3985 [00:37<00:00, 105.95it/s]\n"
     ]
    },
    {
     "name": "stdout",
     "output_type": "stream",
     "text": [
      "Epoch 3/10, Train Loss: 0.03849527632287111, Validation Loss: 0.1107282109172719\n",
      "Time taken for epoch: 37.61504602 seconds\n"
     ]
    },
    {
     "name": "stderr",
     "output_type": "stream",
     "text": [
      "Epoch: 3/10: 100%|██████████| 3985/3985 [00:36<00:00, 107.77it/s]\n"
     ]
    },
    {
     "name": "stdout",
     "output_type": "stream",
     "text": [
      "Epoch 4/10, Train Loss: 0.03731858073786331, Validation Loss: 0.11459985531875844\n",
      "Time taken for epoch: 36.97898698 seconds\n"
     ]
    },
    {
     "name": "stderr",
     "output_type": "stream",
     "text": [
      "Epoch: 4/10: 100%|██████████| 3985/3985 [00:36<00:00, 107.76it/s]\n"
     ]
    },
    {
     "name": "stdout",
     "output_type": "stream",
     "text": [
      "Epoch 5/10, Train Loss: 0.03710342819382959, Validation Loss: 0.11948764227180779\n",
      "Time taken for epoch: 36.98078227 seconds\n"
     ]
    },
    {
     "name": "stderr",
     "output_type": "stream",
     "text": [
      "Epoch: 5/10: 100%|██████████| 3985/3985 [00:37<00:00, 106.88it/s]\n"
     ]
    },
    {
     "name": "stdout",
     "output_type": "stream",
     "text": [
      "Epoch 6/10, Train Loss: 0.03706488392480568, Validation Loss: 0.11755177333135003\n",
      "Time taken for epoch: 37.28507805 seconds\n",
      "Early stopping triggered\n"
     ]
    },
    {
     "name": "stderr",
     "output_type": "stream",
     "text": [
      "Epoch: 6/10: 100%|██████████| 3985/3985 [00:37<00:00, 106.88it/s]\n"
     ]
    },
    {
     "name": "stdout",
     "output_type": "stream",
     "text": [
      "Epoch 7/10, Train Loss: 0.03706065298687933, Validation Loss: 0.11683362216366852\n",
      "Time taken for epoch: 37.28668499 seconds\n",
      "Early stopping triggered\n"
     ]
    },
    {
     "name": "stderr",
     "output_type": "stream",
     "text": [
      "Epoch: 7/10: 100%|██████████| 3985/3985 [00:37<00:00, 107.00it/s]\n"
     ]
    },
    {
     "name": "stdout",
     "output_type": "stream",
     "text": [
      "Epoch 8/10, Train Loss: 0.03714413673171734, Validation Loss: 0.11874935976184964\n",
      "Time taken for epoch: 37.24564290 seconds\n",
      "Early stopping triggered\n"
     ]
    },
    {
     "name": "stderr",
     "output_type": "stream",
     "text": [
      "Epoch: 8/10: 100%|██████████| 3985/3985 [00:38<00:00, 104.36it/s]\n"
     ]
    },
    {
     "name": "stdout",
     "output_type": "stream",
     "text": [
      "Epoch 9/10, Train Loss: 0.037097383518159915, Validation Loss: 0.11254689345135055\n",
      "Time taken for epoch: 38.18689322 seconds\n",
      "Early stopping triggered\n"
     ]
    },
    {
     "name": "stderr",
     "output_type": "stream",
     "text": [
      "Epoch: 9/10: 100%|██████████| 3985/3985 [00:37<00:00, 105.28it/s]\n",
      "[I 2025-08-01 04:14:18,863] Trial 2 finished with value: 0.1146471808586346 and parameters: {'learning_rate': 0.00020838698490646261, 'hidden_size': 16, 'num_layers': 4, 'dropout_rate': 0.26829767971402096}. Best is trial 2 with value: 0.1146471808586346.\n"
     ]
    },
    {
     "name": "stdout",
     "output_type": "stream",
     "text": [
      "Epoch 10/10, Train Loss: 0.03710991315814752, Validation Loss: 0.1146471808586346\n",
      "Time taken for epoch: 37.85438490 seconds\n",
      "Early stopping triggered\n"
     ]
    },
    {
     "name": "stderr",
     "output_type": "stream",
     "text": [
      "Epoch: 0/10: 100%|██████████| 3985/3985 [00:31<00:00, 126.18it/s]\n"
     ]
    },
    {
     "name": "stdout",
     "output_type": "stream",
     "text": [
      "Epoch 1/10, Train Loss: 0.13761056213729653, Validation Loss: 0.19486393482987757\n",
      "Time taken for epoch: 31.58366489 seconds\n"
     ]
    },
    {
     "name": "stderr",
     "output_type": "stream",
     "text": [
      "Epoch: 1/10: 100%|██████████| 3985/3985 [00:31<00:00, 126.94it/s]\n"
     ]
    },
    {
     "name": "stdout",
     "output_type": "stream",
     "text": [
      "Epoch 2/10, Train Loss: 0.018098568631899327, Validation Loss: 0.20565421112751828\n",
      "Time taken for epoch: 31.39483905 seconds\n"
     ]
    },
    {
     "name": "stderr",
     "output_type": "stream",
     "text": [
      "Epoch: 2/10: 100%|██████████| 3985/3985 [00:30<00:00, 128.66it/s]\n"
     ]
    },
    {
     "name": "stdout",
     "output_type": "stream",
     "text": [
      "Epoch 3/10, Train Loss: 0.014283322232309145, Validation Loss: 0.19428480509367269\n",
      "Time taken for epoch: 30.97592974 seconds\n"
     ]
    },
    {
     "name": "stderr",
     "output_type": "stream",
     "text": [
      "Epoch: 3/10: 100%|██████████| 3985/3985 [00:30<00:00, 130.04it/s]\n"
     ]
    },
    {
     "name": "stdout",
     "output_type": "stream",
     "text": [
      "Epoch 4/10, Train Loss: 0.014236771032316995, Validation Loss: 0.19274419552191485\n",
      "Time taken for epoch: 30.64672494 seconds\n"
     ]
    },
    {
     "name": "stderr",
     "output_type": "stream",
     "text": [
      "Epoch: 4/10: 100%|██████████| 3985/3985 [00:30<00:00, 129.15it/s]\n"
     ]
    },
    {
     "name": "stdout",
     "output_type": "stream",
     "text": [
      "Epoch 5/10, Train Loss: 0.014243596215432083, Validation Loss: 0.1926522678296873\n",
      "Time taken for epoch: 30.85690498 seconds\n"
     ]
    },
    {
     "name": "stderr",
     "output_type": "stream",
     "text": [
      "Epoch: 5/10: 100%|██████████| 3985/3985 [00:30<00:00, 128.99it/s]\n"
     ]
    },
    {
     "name": "stdout",
     "output_type": "stream",
     "text": [
      "Epoch 6/10, Train Loss: 0.014253212574874068, Validation Loss: 0.19508033924555054\n",
      "Time taken for epoch: 30.89494610 seconds\n"
     ]
    },
    {
     "name": "stderr",
     "output_type": "stream",
     "text": [
      "Epoch: 6/10: 100%|██████████| 3985/3985 [00:30<00:00, 129.67it/s]\n"
     ]
    },
    {
     "name": "stdout",
     "output_type": "stream",
     "text": [
      "Epoch 7/10, Train Loss: 0.014241230814779642, Validation Loss: 0.19307208221657357\n",
      "Time taken for epoch: 30.73408103 seconds\n"
     ]
    },
    {
     "name": "stderr",
     "output_type": "stream",
     "text": [
      "Epoch: 7/10: 100%|██████████| 3985/3985 [00:30<00:00, 129.35it/s]\n"
     ]
    },
    {
     "name": "stdout",
     "output_type": "stream",
     "text": [
      "Epoch 8/10, Train Loss: 0.01424077959354953, Validation Loss: 0.18876951035930564\n",
      "Time taken for epoch: 30.81047297 seconds\n"
     ]
    },
    {
     "name": "stderr",
     "output_type": "stream",
     "text": [
      "Epoch: 8/10: 100%|██████████| 3985/3985 [00:31<00:00, 127.27it/s]\n"
     ]
    },
    {
     "name": "stdout",
     "output_type": "stream",
     "text": [
      "Epoch 9/10, Train Loss: 0.014247915458630588, Validation Loss: 0.19309078536915777\n",
      "Time taken for epoch: 31.31411886 seconds\n"
     ]
    },
    {
     "name": "stderr",
     "output_type": "stream",
     "text": [
      "Epoch: 9/10: 100%|██████████| 3985/3985 [00:30<00:00, 129.11it/s]\n",
      "[I 2025-08-01 04:20:01,046] Trial 3 finished with value: 0.19227300761798857 and parameters: {'learning_rate': 0.00012986725098703677, 'hidden_size': 16, 'num_layers': 1, 'dropout_rate': 0.461934457124216}. Best is trial 2 with value: 0.1146471808586346.\n"
     ]
    },
    {
     "name": "stdout",
     "output_type": "stream",
     "text": [
      "Epoch 10/10, Train Loss: 0.014236230802823938, Validation Loss: 0.19227300761798857\n",
      "Time taken for epoch: 30.86692715 seconds\n"
     ]
    },
    {
     "name": "stderr",
     "output_type": "stream",
     "text": [
      "Epoch: 0/10: 100%|██████████| 3985/3985 [00:31<00:00, 126.02it/s]\n"
     ]
    },
    {
     "name": "stdout",
     "output_type": "stream",
     "text": [
      "Epoch 1/10, Train Loss: 0.0233624076447362, Validation Loss: 0.2982442424044636\n",
      "Time taken for epoch: 31.62339139 seconds\n"
     ]
    },
    {
     "name": "stderr",
     "output_type": "stream",
     "text": [
      "Epoch: 1/10: 100%|██████████| 3985/3985 [00:31<00:00, 127.95it/s]\n"
     ]
    },
    {
     "name": "stdout",
     "output_type": "stream",
     "text": [
      "Epoch 2/10, Train Loss: 0.006380424998850191, Validation Loss: 0.29200800577430647\n",
      "Time taken for epoch: 31.14804983 seconds\n"
     ]
    },
    {
     "name": "stderr",
     "output_type": "stream",
     "text": [
      "Epoch: 2/10: 100%|██████████| 3985/3985 [00:31<00:00, 127.10it/s]\n"
     ]
    },
    {
     "name": "stdout",
     "output_type": "stream",
     "text": [
      "Epoch 3/10, Train Loss: 0.006337073130516739, Validation Loss: 0.2931194077302275\n",
      "Time taken for epoch: 31.35531378 seconds\n"
     ]
    },
    {
     "name": "stderr",
     "output_type": "stream",
     "text": [
      "Epoch: 3/10: 100%|██████████| 3985/3985 [00:31<00:00, 126.32it/s]\n"
     ]
    },
    {
     "name": "stdout",
     "output_type": "stream",
     "text": [
      "Epoch 4/10, Train Loss: 0.006332170755989204, Validation Loss: 0.29965646036992216\n",
      "Time taken for epoch: 31.54992485 seconds\n"
     ]
    },
    {
     "name": "stderr",
     "output_type": "stream",
     "text": [
      "Epoch: 4/10: 100%|██████████| 3985/3985 [00:31<00:00, 127.89it/s]\n"
     ]
    },
    {
     "name": "stdout",
     "output_type": "stream",
     "text": [
      "Epoch 5/10, Train Loss: 0.006324926109393238, Validation Loss: 0.3139384865278524\n",
      "Time taken for epoch: 31.16079116 seconds\n"
     ]
    },
    {
     "name": "stderr",
     "output_type": "stream",
     "text": [
      "Epoch: 5/10: 100%|██████████| 3985/3985 [00:31<00:00, 126.65it/s]\n"
     ]
    },
    {
     "name": "stdout",
     "output_type": "stream",
     "text": [
      "Epoch 6/10, Train Loss: 0.006331597424931404, Validation Loss: 0.29813865802734424\n",
      "Time taken for epoch: 31.46775985 seconds\n"
     ]
    },
    {
     "name": "stderr",
     "output_type": "stream",
     "text": [
      "Epoch: 6/10: 100%|██████████| 3985/3985 [00:31<00:00, 125.64it/s]\n"
     ]
    },
    {
     "name": "stdout",
     "output_type": "stream",
     "text": [
      "Epoch 7/10, Train Loss: 0.006341475206269524, Validation Loss: 0.3026775917826191\n",
      "Time taken for epoch: 31.71933007 seconds\n",
      "Early stopping triggered\n"
     ]
    },
    {
     "name": "stderr",
     "output_type": "stream",
     "text": [
      "Epoch: 7/10: 100%|██████████| 3985/3985 [00:32<00:00, 124.17it/s]\n"
     ]
    },
    {
     "name": "stdout",
     "output_type": "stream",
     "text": [
      "Epoch 8/10, Train Loss: 0.006343213048935347, Validation Loss: 0.28922018405831756\n",
      "Time taken for epoch: 32.09458685 seconds\n"
     ]
    },
    {
     "name": "stderr",
     "output_type": "stream",
     "text": [
      "Epoch: 8/10: 100%|██████████| 3985/3985 [00:33<00:00, 119.16it/s]\n"
     ]
    },
    {
     "name": "stdout",
     "output_type": "stream",
     "text": [
      "Epoch 9/10, Train Loss: 0.00634210893049967, Validation Loss: 0.31589217981982465\n",
      "Time taken for epoch: 33.44555616 seconds\n"
     ]
    },
    {
     "name": "stderr",
     "output_type": "stream",
     "text": [
      "Epoch: 9/10: 100%|██████████| 3985/3985 [00:31<00:00, 126.57it/s]\n",
      "[I 2025-08-01 04:25:49,691] Trial 4 finished with value: 0.2996275697004029 and parameters: {'learning_rate': 0.00033508688442819784, 'hidden_size': 32, 'num_layers': 1, 'dropout_rate': 0.2934227667571474}. Best is trial 2 with value: 0.1146471808586346.\n"
     ]
    },
    {
     "name": "stdout",
     "output_type": "stream",
     "text": [
      "Epoch 10/10, Train Loss: 0.006325598931643491, Validation Loss: 0.2996275697004029\n",
      "Time taken for epoch: 31.48723722 seconds\n"
     ]
    },
    {
     "name": "stderr",
     "output_type": "stream",
     "text": [
      "Epoch: 0/10: 100%|██████████| 3985/3985 [00:34<00:00, 116.24it/s]\n"
     ]
    },
    {
     "name": "stdout",
     "output_type": "stream",
     "text": [
      "Epoch 1/10, Train Loss: 0.1298670681228527, Validation Loss: 0.2446974670573401\n",
      "Time taken for epoch: 34.28562522 seconds\n"
     ]
    },
    {
     "name": "stderr",
     "output_type": "stream",
     "text": [
      "Epoch: 1/10: 100%|██████████| 3985/3985 [00:31<00:00, 124.71it/s]\n"
     ]
    },
    {
     "name": "stdout",
     "output_type": "stream",
     "text": [
      "Epoch 2/10, Train Loss: 0.04143343499839455, Validation Loss: 0.28328380837018374\n",
      "Time taken for epoch: 31.95494413 seconds\n"
     ]
    },
    {
     "name": "stderr",
     "output_type": "stream",
     "text": [
      "Epoch: 2/10: 100%|██████████| 3985/3985 [00:32<00:00, 122.53it/s]\n"
     ]
    },
    {
     "name": "stdout",
     "output_type": "stream",
     "text": [
      "Epoch 3/10, Train Loss: 0.020271987174935592, Validation Loss: 0.3178239627124838\n",
      "Time taken for epoch: 32.52433991 seconds\n"
     ]
    },
    {
     "name": "stderr",
     "output_type": "stream",
     "text": [
      "Epoch: 3/10: 100%|██████████| 3985/3985 [00:33<00:00, 117.63it/s]\n"
     ]
    },
    {
     "name": "stdout",
     "output_type": "stream",
     "text": [
      "Epoch 4/10, Train Loss: 0.012667779384211285, Validation Loss: 0.4152170008487628\n",
      "Time taken for epoch: 33.87991214 seconds\n"
     ]
    },
    {
     "name": "stderr",
     "output_type": "stream",
     "text": [
      "Epoch: 4/10: 100%|██████████| 3985/3985 [00:32<00:00, 122.54it/s]\n"
     ]
    },
    {
     "name": "stdout",
     "output_type": "stream",
     "text": [
      "Epoch 5/10, Train Loss: 0.007979276403200484, Validation Loss: 0.4722139113121903\n",
      "Time taken for epoch: 32.52154803 seconds\n"
     ]
    },
    {
     "name": "stderr",
     "output_type": "stream",
     "text": [
      "Epoch: 5/10: 100%|██████████| 3985/3985 [00:31<00:00, 127.89it/s]\n"
     ]
    },
    {
     "name": "stdout",
     "output_type": "stream",
     "text": [
      "Epoch 6/10, Train Loss: 0.005899793356586916, Validation Loss: 0.5034181063076927\n",
      "Time taken for epoch: 31.16178036 seconds\n",
      "Early stopping triggered\n"
     ]
    },
    {
     "name": "stderr",
     "output_type": "stream",
     "text": [
      "Epoch: 6/10: 100%|██████████| 3985/3985 [00:31<00:00, 128.49it/s]\n"
     ]
    },
    {
     "name": "stdout",
     "output_type": "stream",
     "text": [
      "Epoch 7/10, Train Loss: 0.00511062731989747, Validation Loss: 0.49145170936248184\n",
      "Time taken for epoch: 31.01525617 seconds\n",
      "Early stopping triggered\n"
     ]
    },
    {
     "name": "stderr",
     "output_type": "stream",
     "text": [
      "Epoch: 7/10: 100%|██████████| 3985/3985 [00:30<00:00, 129.94it/s]\n"
     ]
    },
    {
     "name": "stdout",
     "output_type": "stream",
     "text": [
      "Epoch 8/10, Train Loss: 0.004849362359095921, Validation Loss: 0.4740056302880947\n",
      "Time taken for epoch: 30.67059588 seconds\n",
      "Early stopping triggered\n"
     ]
    },
    {
     "name": "stderr",
     "output_type": "stream",
     "text": [
      "Epoch: 8/10: 100%|██████████| 3985/3985 [00:30<00:00, 129.92it/s]\n"
     ]
    },
    {
     "name": "stdout",
     "output_type": "stream",
     "text": [
      "Epoch 9/10, Train Loss: 0.004713329833019595, Validation Loss: 0.4450221115908848\n",
      "Time taken for epoch: 30.67442203 seconds\n",
      "Early stopping triggered\n"
     ]
    },
    {
     "name": "stderr",
     "output_type": "stream",
     "text": [
      "Epoch: 9/10: 100%|██████████| 3985/3985 [00:30<00:00, 128.79it/s]\n",
      "[I 2025-08-01 04:31:41,103] Trial 5 finished with value: 0.3690271635578175 and parameters: {'learning_rate': 2.333306742292134e-05, 'hidden_size': 64, 'num_layers': 1, 'dropout_rate': 0.297660772635648}. Best is trial 2 with value: 0.1146471808586346.\n"
     ]
    },
    {
     "name": "stdout",
     "output_type": "stream",
     "text": [
      "Epoch 10/10, Train Loss: 0.004656538185914757, Validation Loss: 0.3690271635578175\n",
      "Time taken for epoch: 30.94412899 seconds\n",
      "Early stopping triggered\n"
     ]
    },
    {
     "name": "stderr",
     "output_type": "stream",
     "text": [
      "Epoch: 0/10: 100%|██████████| 3985/3985 [00:30<00:00, 130.82it/s]\n"
     ]
    },
    {
     "name": "stdout",
     "output_type": "stream",
     "text": [
      "Epoch 1/10, Train Loss: 0.006442071283364685, Validation Loss: 0.2858930535985174\n",
      "Time taken for epoch: 30.46221590 seconds\n"
     ]
    },
    {
     "name": "stderr",
     "output_type": "stream",
     "text": [
      "Epoch: 1/10: 100%|██████████| 3985/3985 [00:31<00:00, 126.99it/s]\n"
     ]
    },
    {
     "name": "stdout",
     "output_type": "stream",
     "text": [
      "Epoch 2/10, Train Loss: 0.005589737724092143, Validation Loss: 0.2641806138097777\n",
      "Time taken for epoch: 31.38142085 seconds\n"
     ]
    },
    {
     "name": "stderr",
     "output_type": "stream",
     "text": [
      "Epoch: 2/10: 100%|██████████| 3985/3985 [00:30<00:00, 128.98it/s]\n"
     ]
    },
    {
     "name": "stdout",
     "output_type": "stream",
     "text": [
      "Epoch 3/10, Train Loss: 0.005579140584172688, Validation Loss: 0.2910530608059876\n",
      "Time taken for epoch: 30.89750600 seconds\n"
     ]
    },
    {
     "name": "stderr",
     "output_type": "stream",
     "text": [
      "Epoch: 3/10: 100%|██████████| 3985/3985 [00:30<00:00, 128.94it/s]\n"
     ]
    },
    {
     "name": "stdout",
     "output_type": "stream",
     "text": [
      "Epoch 4/10, Train Loss: 0.005575048639538372, Validation Loss: 0.27812374170006704\n",
      "Time taken for epoch: 30.90690207 seconds\n"
     ]
    },
    {
     "name": "stderr",
     "output_type": "stream",
     "text": [
      "Epoch: 4/10: 100%|██████████| 3985/3985 [00:31<00:00, 127.68it/s]\n"
     ]
    },
    {
     "name": "stdout",
     "output_type": "stream",
     "text": [
      "Epoch 5/10, Train Loss: 0.0055925500470504555, Validation Loss: 0.3401023506078401\n",
      "Time taken for epoch: 31.21364236 seconds\n"
     ]
    },
    {
     "name": "stderr",
     "output_type": "stream",
     "text": [
      "Epoch: 5/10: 100%|██████████| 3985/3985 [00:31<00:00, 128.15it/s]\n"
     ]
    },
    {
     "name": "stdout",
     "output_type": "stream",
     "text": [
      "Epoch 6/10, Train Loss: 0.005579430462472337, Validation Loss: 0.293770087120658\n",
      "Time taken for epoch: 31.09821677 seconds\n"
     ]
    },
    {
     "name": "stderr",
     "output_type": "stream",
     "text": [
      "Epoch: 6/10: 100%|██████████| 3985/3985 [00:31<00:00, 127.20it/s]\n"
     ]
    },
    {
     "name": "stdout",
     "output_type": "stream",
     "text": [
      "Epoch 7/10, Train Loss: 0.005576805361643565, Validation Loss: 0.2531773317664171\n",
      "Time taken for epoch: 31.33041096 seconds\n"
     ]
    },
    {
     "name": "stderr",
     "output_type": "stream",
     "text": [
      "Epoch: 7/10: 100%|██████████| 3985/3985 [00:31<00:00, 127.19it/s]\n"
     ]
    },
    {
     "name": "stdout",
     "output_type": "stream",
     "text": [
      "Epoch 8/10, Train Loss: 0.005576337405586781, Validation Loss: 0.2459716611742863\n",
      "Time taken for epoch: 31.33293486 seconds\n"
     ]
    },
    {
     "name": "stderr",
     "output_type": "stream",
     "text": [
      "Epoch: 8/10: 100%|██████████| 3985/3985 [00:31<00:00, 126.84it/s]\n"
     ]
    },
    {
     "name": "stdout",
     "output_type": "stream",
     "text": [
      "Epoch 9/10, Train Loss: 0.005587333059137035, Validation Loss: 0.34126946042952616\n",
      "Time taken for epoch: 31.41854906 seconds\n"
     ]
    },
    {
     "name": "stderr",
     "output_type": "stream",
     "text": [
      "Epoch: 9/10: 100%|██████████| 3985/3985 [00:31<00:00, 126.79it/s]\n",
      "[I 2025-08-01 04:37:24,355] Trial 6 finished with value: 0.3568505698406142 and parameters: {'learning_rate': 0.009975910744039257, 'hidden_size': 32, 'num_layers': 1, 'dropout_rate': 0.1828778247419206}. Best is trial 2 with value: 0.1146471808586346.\n"
     ]
    },
    {
     "name": "stdout",
     "output_type": "stream",
     "text": [
      "Epoch 10/10, Train Loss: 0.0055835422123764805, Validation Loss: 0.3568505698406142\n",
      "Time taken for epoch: 31.43236518 seconds\n"
     ]
    },
    {
     "name": "stderr",
     "output_type": "stream",
     "text": [
      "Epoch: 0/10: 100%|██████████| 3985/3985 [00:34<00:00, 115.50it/s]\n"
     ]
    },
    {
     "name": "stdout",
     "output_type": "stream",
     "text": [
      "Epoch 1/10, Train Loss: 0.016021381813560706, Validation Loss: 0.26242001923846064\n",
      "Time taken for epoch: 34.50358796 seconds\n"
     ]
    },
    {
     "name": "stderr",
     "output_type": "stream",
     "text": [
      "Epoch: 1/10: 100%|██████████| 3985/3985 [00:34<00:00, 116.71it/s]\n"
     ]
    },
    {
     "name": "stdout",
     "output_type": "stream",
     "text": [
      "Epoch 2/10, Train Loss: 0.012100024161208305, Validation Loss: 0.27458169464003335\n",
      "Time taken for epoch: 34.14734507 seconds\n"
     ]
    },
    {
     "name": "stderr",
     "output_type": "stream",
     "text": [
      "Epoch: 2/10: 100%|██████████| 3985/3985 [00:33<00:00, 117.34it/s]\n"
     ]
    },
    {
     "name": "stdout",
     "output_type": "stream",
     "text": [
      "Epoch 3/10, Train Loss: 0.01209241790741383, Validation Loss: 0.30930817255908105\n",
      "Time taken for epoch: 33.96285224 seconds\n"
     ]
    },
    {
     "name": "stderr",
     "output_type": "stream",
     "text": [
      "Epoch: 3/10: 100%|██████████| 3985/3985 [00:34<00:00, 116.79it/s]\n"
     ]
    },
    {
     "name": "stdout",
     "output_type": "stream",
     "text": [
      "Epoch 4/10, Train Loss: 0.012087260006951492, Validation Loss: 0.2599136126491642\n",
      "Time taken for epoch: 34.12291884 seconds\n"
     ]
    },
    {
     "name": "stderr",
     "output_type": "stream",
     "text": [
      "Epoch: 4/10: 100%|██████████| 3985/3985 [00:34<00:00, 116.30it/s]\n"
     ]
    },
    {
     "name": "stdout",
     "output_type": "stream",
     "text": [
      "Epoch 5/10, Train Loss: 0.012103903693482373, Validation Loss: 0.2585165621902382\n",
      "Time taken for epoch: 34.26594710 seconds\n"
     ]
    },
    {
     "name": "stderr",
     "output_type": "stream",
     "text": [
      "Epoch: 5/10: 100%|██████████| 3985/3985 [00:34<00:00, 116.24it/s]\n"
     ]
    },
    {
     "name": "stdout",
     "output_type": "stream",
     "text": [
      "Epoch 6/10, Train Loss: 0.012094008053887818, Validation Loss: 0.30631331948210383\n",
      "Time taken for epoch: 34.28444004 seconds\n"
     ]
    },
    {
     "name": "stderr",
     "output_type": "stream",
     "text": [
      "Epoch: 6/10: 100%|██████████| 3985/3985 [00:34<00:00, 115.19it/s]\n"
     ]
    },
    {
     "name": "stdout",
     "output_type": "stream",
     "text": [
      "Epoch 7/10, Train Loss: 0.012089551159576835, Validation Loss: 0.2932426837677226\n",
      "Time taken for epoch: 34.59757781 seconds\n"
     ]
    },
    {
     "name": "stderr",
     "output_type": "stream",
     "text": [
      "Epoch: 7/10: 100%|██████████| 3985/3985 [00:34<00:00, 115.60it/s]\n"
     ]
    },
    {
     "name": "stdout",
     "output_type": "stream",
     "text": [
      "Epoch 8/10, Train Loss: 0.01204447295900009, Validation Loss: 0.3007330013884087\n",
      "Time taken for epoch: 34.47548294 seconds\n"
     ]
    },
    {
     "name": "stderr",
     "output_type": "stream",
     "text": [
      "Epoch: 8/10: 100%|██████████| 3985/3985 [00:34<00:00, 116.11it/s]\n"
     ]
    },
    {
     "name": "stdout",
     "output_type": "stream",
     "text": [
      "Epoch 9/10, Train Loss: 0.012045619593771966, Validation Loss: 0.27811838263582744\n",
      "Time taken for epoch: 34.32245994 seconds\n"
     ]
    },
    {
     "name": "stderr",
     "output_type": "stream",
     "text": [
      "Epoch: 9/10: 100%|██████████| 3985/3985 [00:34<00:00, 115.09it/s]\n",
      "[I 2025-08-01 04:43:40,245] Trial 7 finished with value: 0.31520597075417467 and parameters: {'learning_rate': 0.0012742127742391717, 'hidden_size': 32, 'num_layers': 2, 'dropout_rate': 0.39241526969751084}. Best is trial 2 with value: 0.1146471808586346.\n"
     ]
    },
    {
     "name": "stdout",
     "output_type": "stream",
     "text": [
      "Epoch 10/10, Train Loss: 0.012043723592083607, Validation Loss: 0.31520597075417467\n",
      "Time taken for epoch: 34.62707567 seconds\n",
      "Early stopping triggered\n"
     ]
    },
    {
     "name": "stderr",
     "output_type": "stream",
     "text": [
      "Epoch: 0/10: 100%|██████████| 3985/3985 [00:38<00:00, 102.83it/s]\n"
     ]
    },
    {
     "name": "stdout",
     "output_type": "stream",
     "text": [
      "Epoch 1/10, Train Loss: 0.07628648140873186, Validation Loss: 0.0854734265710179\n",
      "Time taken for epoch: 38.75417519 seconds\n"
     ]
    },
    {
     "name": "stderr",
     "output_type": "stream",
     "text": [
      "Epoch: 1/10: 100%|██████████| 3985/3985 [00:39<00:00, 101.83it/s]\n"
     ]
    },
    {
     "name": "stdout",
     "output_type": "stream",
     "text": [
      "Epoch 2/10, Train Loss: 0.04420040856060599, Validation Loss: 0.16867823403645046\n",
      "Time taken for epoch: 39.13780594 seconds\n"
     ]
    },
    {
     "name": "stderr",
     "output_type": "stream",
     "text": [
      "Epoch: 2/10: 100%|██████████| 3985/3985 [00:38<00:00, 102.73it/s]\n"
     ]
    },
    {
     "name": "stdout",
     "output_type": "stream",
     "text": [
      "Epoch 3/10, Train Loss: 0.034749171033109, Validation Loss: 0.15332109726307427\n",
      "Time taken for epoch: 38.79343987 seconds\n"
     ]
    },
    {
     "name": "stderr",
     "output_type": "stream",
     "text": [
      "Epoch: 3/10: 100%|██████████| 3985/3985 [00:38<00:00, 103.20it/s]\n"
     ]
    },
    {
     "name": "stdout",
     "output_type": "stream",
     "text": [
      "Epoch 4/10, Train Loss: 0.029724543604303332, Validation Loss: 0.14005276457349272\n",
      "Time taken for epoch: 38.61673021 seconds\n"
     ]
    },
    {
     "name": "stderr",
     "output_type": "stream",
     "text": [
      "Epoch: 4/10: 100%|██████████| 3985/3985 [00:38<00:00, 103.12it/s]\n"
     ]
    },
    {
     "name": "stdout",
     "output_type": "stream",
     "text": [
      "Epoch 5/10, Train Loss: 0.026409264020107622, Validation Loss: 0.15950984633317958\n",
      "Time taken for epoch: 38.64613509 seconds\n"
     ]
    },
    {
     "name": "stderr",
     "output_type": "stream",
     "text": [
      "Epoch: 5/10: 100%|██████████| 3985/3985 [00:38<00:00, 102.84it/s]\n"
     ]
    },
    {
     "name": "stdout",
     "output_type": "stream",
     "text": [
      "Epoch 6/10, Train Loss: 0.02490056205395997, Validation Loss: 0.15519594353978156\n",
      "Time taken for epoch: 38.75087786 seconds\n",
      "Early stopping triggered\n"
     ]
    },
    {
     "name": "stderr",
     "output_type": "stream",
     "text": [
      "Epoch: 6/10: 100%|██████████| 3985/3985 [00:38<00:00, 102.74it/s]\n"
     ]
    },
    {
     "name": "stdout",
     "output_type": "stream",
     "text": [
      "Epoch 7/10, Train Loss: 0.024510607226673455, Validation Loss: 0.1640830897278569\n",
      "Time taken for epoch: 38.78948092 seconds\n",
      "Early stopping triggered\n"
     ]
    },
    {
     "name": "stderr",
     "output_type": "stream",
     "text": [
      "Epoch: 7/10: 100%|██████████| 3985/3985 [00:38<00:00, 102.80it/s]\n"
     ]
    },
    {
     "name": "stdout",
     "output_type": "stream",
     "text": [
      "Epoch 8/10, Train Loss: 0.023750336314440523, Validation Loss: 0.18087847999722304\n",
      "Time taken for epoch: 38.76810169 seconds\n",
      "Early stopping triggered\n"
     ]
    },
    {
     "name": "stderr",
     "output_type": "stream",
     "text": [
      "Epoch: 8/10: 100%|██████████| 3985/3985 [00:38<00:00, 102.40it/s]\n"
     ]
    },
    {
     "name": "stdout",
     "output_type": "stream",
     "text": [
      "Epoch 9/10, Train Loss: 0.022334929160222207, Validation Loss: 0.18170666548508255\n",
      "Time taken for epoch: 38.91825104 seconds\n",
      "Early stopping triggered\n"
     ]
    },
    {
     "name": "stderr",
     "output_type": "stream",
     "text": [
      "Epoch: 9/10: 100%|██████████| 3985/3985 [00:38<00:00, 102.53it/s]\n",
      "[I 2025-08-01 04:50:42,212] Trial 8 finished with value: 0.19251092155901528 and parameters: {'learning_rate': 2.1036652555215105e-05, 'hidden_size': 16, 'num_layers': 4, 'dropout_rate': 0.1416553102620461}. Best is trial 2 with value: 0.1146471808586346.\n"
     ]
    },
    {
     "name": "stdout",
     "output_type": "stream",
     "text": [
      "Epoch 10/10, Train Loss: 0.022034662601583575, Validation Loss: 0.19251092155901528\n",
      "Time taken for epoch: 38.86761689 seconds\n",
      "Early stopping triggered\n"
     ]
    },
    {
     "name": "stderr",
     "output_type": "stream",
     "text": [
      "Epoch: 0/10: 100%|██████████| 3985/3985 [00:43<00:00, 91.01it/s] \n"
     ]
    },
    {
     "name": "stdout",
     "output_type": "stream",
     "text": [
      "Epoch 1/10, Train Loss: 0.01855509606116408, Validation Loss: 0.21060540951640538\n",
      "Time taken for epoch: 43.78914618 seconds\n"
     ]
    },
    {
     "name": "stderr",
     "output_type": "stream",
     "text": [
      "Epoch: 1/10: 100%|██████████| 3985/3985 [00:43<00:00, 91.60it/s] \n"
     ]
    },
    {
     "name": "stdout",
     "output_type": "stream",
     "text": [
      "Epoch 2/10, Train Loss: 0.008273114660144824, Validation Loss: 0.25354765421867853\n",
      "Time taken for epoch: 43.50498891 seconds\n"
     ]
    },
    {
     "name": "stderr",
     "output_type": "stream",
     "text": [
      "Epoch: 2/10: 100%|██████████| 3985/3985 [00:43<00:00, 90.92it/s] \n"
     ]
    },
    {
     "name": "stdout",
     "output_type": "stream",
     "text": [
      "Epoch 3/10, Train Loss: 0.008300070677868731, Validation Loss: 0.2204334589249305\n",
      "Time taken for epoch: 43.83346391 seconds\n"
     ]
    },
    {
     "name": "stderr",
     "output_type": "stream",
     "text": [
      "Epoch: 3/10: 100%|██████████| 3985/3985 [00:43<00:00, 91.08it/s] \n"
     ]
    },
    {
     "name": "stdout",
     "output_type": "stream",
     "text": [
      "Epoch 4/10, Train Loss: 0.008313077551031127, Validation Loss: 0.22765254855634198\n",
      "Time taken for epoch: 43.75305796 seconds\n"
     ]
    },
    {
     "name": "stderr",
     "output_type": "stream",
     "text": [
      "Epoch: 4/10: 100%|██████████| 3985/3985 [00:44<00:00, 90.24it/s] \n"
     ]
    },
    {
     "name": "stdout",
     "output_type": "stream",
     "text": [
      "Epoch 5/10, Train Loss: 0.00831977655010361, Validation Loss: 0.2020571212462092\n",
      "Time taken for epoch: 44.16337085 seconds\n"
     ]
    },
    {
     "name": "stderr",
     "output_type": "stream",
     "text": [
      "Epoch: 5/10: 100%|██████████| 3985/3985 [00:43<00:00, 90.91it/s] \n"
     ]
    },
    {
     "name": "stdout",
     "output_type": "stream",
     "text": [
      "Epoch 6/10, Train Loss: 0.008325956566341063, Validation Loss: 0.20964085205933528\n",
      "Time taken for epoch: 43.83744526 seconds\n"
     ]
    },
    {
     "name": "stderr",
     "output_type": "stream",
     "text": [
      "Epoch: 6/10: 100%|██████████| 3985/3985 [00:43<00:00, 90.75it/s] \n"
     ]
    },
    {
     "name": "stdout",
     "output_type": "stream",
     "text": [
      "Epoch 7/10, Train Loss: 0.008328106330294007, Validation Loss: 0.21211228565619475\n",
      "Time taken for epoch: 43.91249824 seconds\n"
     ]
    },
    {
     "name": "stderr",
     "output_type": "stream",
     "text": [
      "Epoch: 7/10: 100%|██████████| 3985/3985 [00:43<00:00, 91.05it/s] \n"
     ]
    },
    {
     "name": "stdout",
     "output_type": "stream",
     "text": [
      "Epoch 8/10, Train Loss: 0.008305572213691518, Validation Loss: 0.22813950559256502\n",
      "Time taken for epoch: 43.77133608 seconds\n"
     ]
    },
    {
     "name": "stderr",
     "output_type": "stream",
     "text": [
      "Epoch: 8/10: 100%|██████████| 3985/3985 [00:43<00:00, 90.80it/s] \n"
     ]
    },
    {
     "name": "stdout",
     "output_type": "stream",
     "text": [
      "Epoch 9/10, Train Loss: 0.008321480734047095, Validation Loss: 0.20890514718984554\n",
      "Time taken for epoch: 43.88893080 seconds\n"
     ]
    },
    {
     "name": "stderr",
     "output_type": "stream",
     "text": [
      "Epoch: 9/10: 100%|██████████| 3985/3985 [00:44<00:00, 90.31it/s] \n",
      "[I 2025-08-01 04:58:37,052] Trial 9 finished with value: 0.2402279577963261 and parameters: {'learning_rate': 0.000888329977440117, 'hidden_size': 128, 'num_layers': 3, 'dropout_rate': 0.4508186582643213}. Best is trial 2 with value: 0.1146471808586346.\n"
     ]
    },
    {
     "name": "stdout",
     "output_type": "stream",
     "text": [
      "Epoch 10/10, Train Loss: 0.008325250665429359, Validation Loss: 0.2402279577963261\n",
      "Time taken for epoch: 44.12632799 seconds\n",
      "Early stopping triggered\n"
     ]
    },
    {
     "name": "stderr",
     "output_type": "stream",
     "text": [
      "Epoch: 0/10: 100%|██████████| 3985/3985 [00:55<00:00, 71.69it/s]\n"
     ]
    },
    {
     "name": "stdout",
     "output_type": "stream",
     "text": [
      "Epoch 1/10, Train Loss: 0.025852830385277456, Validation Loss: 0.059247074735626785\n",
      "Time taken for epoch: 55.58822775 seconds\n"
     ]
    },
    {
     "name": "stderr",
     "output_type": "stream",
     "text": [
      "Epoch: 1/10: 100%|██████████| 3985/3985 [00:55<00:00, 72.00it/s]\n"
     ]
    },
    {
     "name": "stdout",
     "output_type": "stream",
     "text": [
      "Epoch 2/10, Train Loss: 0.02705491616190826, Validation Loss: 0.10498408784877741\n",
      "Time taken for epoch: 55.34846783 seconds\n"
     ]
    },
    {
     "name": "stderr",
     "output_type": "stream",
     "text": [
      "Epoch: 2/10: 100%|██████████| 3985/3985 [00:55<00:00, 71.52it/s]\n"
     ]
    },
    {
     "name": "stdout",
     "output_type": "stream",
     "text": [
      "Epoch 3/10, Train Loss: 0.02675639761137394, Validation Loss: 0.0863771056587234\n",
      "Time taken for epoch: 55.71794987 seconds\n"
     ]
    },
    {
     "name": "stderr",
     "output_type": "stream",
     "text": [
      "Epoch: 3/10: 100%|██████████| 3985/3985 [00:55<00:00, 71.53it/s]\n"
     ]
    },
    {
     "name": "stdout",
     "output_type": "stream",
     "text": [
      "Epoch 4/10, Train Loss: 0.02668915489639437, Validation Loss: 0.10086754844026234\n",
      "Time taken for epoch: 55.71512794 seconds\n"
     ]
    },
    {
     "name": "stderr",
     "output_type": "stream",
     "text": [
      "Epoch: 4/10: 100%|██████████| 3985/3985 [00:57<00:00, 69.86it/s]\n"
     ]
    },
    {
     "name": "stdout",
     "output_type": "stream",
     "text": [
      "Epoch 5/10, Train Loss: 0.02619875456712476, Validation Loss: 0.12133636806205352\n",
      "Time taken for epoch: 57.04109693 seconds\n"
     ]
    },
    {
     "name": "stderr",
     "output_type": "stream",
     "text": [
      "Epoch: 5/10: 100%|██████████| 3985/3985 [00:56<00:00, 70.71it/s]\n"
     ]
    },
    {
     "name": "stdout",
     "output_type": "stream",
     "text": [
      "Epoch 6/10, Train Loss: 0.02622257345724136, Validation Loss: 0.13537641524989907\n",
      "Time taken for epoch: 56.35981011 seconds\n",
      "Early stopping triggered\n"
     ]
    },
    {
     "name": "stderr",
     "output_type": "stream",
     "text": [
      "Epoch: 6/10: 100%|██████████| 3985/3985 [00:56<00:00, 70.74it/s]\n"
     ]
    },
    {
     "name": "stdout",
     "output_type": "stream",
     "text": [
      "Epoch 7/10, Train Loss: 0.02605611855255316, Validation Loss: 0.205473489530769\n",
      "Time taken for epoch: 56.33537984 seconds\n",
      "Early stopping triggered\n"
     ]
    },
    {
     "name": "stderr",
     "output_type": "stream",
     "text": [
      "Epoch: 7/10: 100%|██████████| 3985/3985 [00:55<00:00, 71.26it/s]\n"
     ]
    },
    {
     "name": "stdout",
     "output_type": "stream",
     "text": [
      "Epoch 8/10, Train Loss: 0.025610766635092916, Validation Loss: 0.04917706430514206\n",
      "Time taken for epoch: 55.92249298 seconds\n"
     ]
    },
    {
     "name": "stderr",
     "output_type": "stream",
     "text": [
      "Epoch: 8/10: 100%|██████████| 3985/3985 [00:56<00:00, 71.09it/s]\n"
     ]
    },
    {
     "name": "stdout",
     "output_type": "stream",
     "text": [
      "Epoch 9/10, Train Loss: 0.02551582384027232, Validation Loss: 0.1108986273793627\n",
      "Time taken for epoch: 56.05931211 seconds\n"
     ]
    },
    {
     "name": "stderr",
     "output_type": "stream",
     "text": [
      "Epoch: 9/10: 100%|██████████| 3985/3985 [00:56<00:00, 71.02it/s]\n",
      "[I 2025-08-01 05:08:39,771] Trial 10 finished with value: 0.16873444748347544 and parameters: {'learning_rate': 0.0834660320429768, 'hidden_size': 256, 'num_layers': 3, 'dropout_rate': 0.3667283035209563}. Best is trial 2 with value: 0.1146471808586346.\n"
     ]
    },
    {
     "name": "stdout",
     "output_type": "stream",
     "text": [
      "Epoch 10/10, Train Loss: 0.025605205804520897, Validation Loss: 0.16873444748347544\n",
      "Time taken for epoch: 56.11121678 seconds\n"
     ]
    },
    {
     "name": "stderr",
     "output_type": "stream",
     "text": [
      "Epoch: 0/10: 100%|██████████| 3985/3985 [00:56<00:00, 71.05it/s]\n"
     ]
    },
    {
     "name": "stdout",
     "output_type": "stream",
     "text": [
      "Epoch 1/10, Train Loss: 0.026139639613862467, Validation Loss: 0.06739936719110405\n",
      "Time taken for epoch: 56.08838081 seconds\n"
     ]
    },
    {
     "name": "stderr",
     "output_type": "stream",
     "text": [
      "Epoch: 1/10: 100%|██████████| 3985/3985 [00:56<00:00, 71.15it/s]\n"
     ]
    },
    {
     "name": "stdout",
     "output_type": "stream",
     "text": [
      "Epoch 2/10, Train Loss: 0.028019356620094856, Validation Loss: 0.07404073891886943\n",
      "Time taken for epoch: 56.00775313 seconds\n"
     ]
    },
    {
     "name": "stderr",
     "output_type": "stream",
     "text": [
      "Epoch: 2/10: 100%|██████████| 3985/3985 [00:55<00:00, 71.30it/s]\n"
     ]
    },
    {
     "name": "stdout",
     "output_type": "stream",
     "text": [
      "Epoch 3/10, Train Loss: 0.027514658722947054, Validation Loss: 0.051300954852364196\n",
      "Time taken for epoch: 55.89604926 seconds\n"
     ]
    },
    {
     "name": "stderr",
     "output_type": "stream",
     "text": [
      "Epoch: 3/10: 100%|██████████| 3985/3985 [00:56<00:00, 70.52it/s]\n"
     ]
    },
    {
     "name": "stdout",
     "output_type": "stream",
     "text": [
      "Epoch 4/10, Train Loss: 0.02749596748645961, Validation Loss: 0.1830769943763033\n",
      "Time taken for epoch: 56.50996208 seconds\n"
     ]
    },
    {
     "name": "stderr",
     "output_type": "stream",
     "text": [
      "Epoch: 4/10: 100%|██████████| 3985/3985 [00:56<00:00, 70.53it/s]\n"
     ]
    },
    {
     "name": "stdout",
     "output_type": "stream",
     "text": [
      "Epoch 5/10, Train Loss: 0.026994621971507593, Validation Loss: 0.07873167655501453\n",
      "Time taken for epoch: 56.50505662 seconds\n"
     ]
    },
    {
     "name": "stderr",
     "output_type": "stream",
     "text": [
      "Epoch: 5/10: 100%|██████████| 3985/3985 [00:56<00:00, 71.08it/s]\n"
     ]
    },
    {
     "name": "stdout",
     "output_type": "stream",
     "text": [
      "Epoch 6/10, Train Loss: 0.026717820423310494, Validation Loss: 0.08896967651109047\n",
      "Time taken for epoch: 56.06383681 seconds\n"
     ]
    },
    {
     "name": "stderr",
     "output_type": "stream",
     "text": [
      "Epoch: 6/10: 100%|██████████| 3985/3985 [00:56<00:00, 71.09it/s]\n"
     ]
    },
    {
     "name": "stdout",
     "output_type": "stream",
     "text": [
      "Epoch 7/10, Train Loss: 0.02663928120393526, Validation Loss: 0.07216478820747806\n",
      "Time taken for epoch: 56.05520105 seconds\n"
     ]
    },
    {
     "name": "stderr",
     "output_type": "stream",
     "text": [
      "Epoch: 7/10: 100%|██████████| 3985/3985 [00:55<00:00, 71.38it/s]\n"
     ]
    },
    {
     "name": "stdout",
     "output_type": "stream",
     "text": [
      "Epoch 8/10, Train Loss: 0.02616338285324228, Validation Loss: 0.05208073721270485\n",
      "Time taken for epoch: 55.83186889 seconds\n",
      "Early stopping triggered\n"
     ]
    },
    {
     "name": "stderr",
     "output_type": "stream",
     "text": [
      "Epoch: 8/10: 100%|██████████| 3985/3985 [00:56<00:00, 70.50it/s]\n"
     ]
    },
    {
     "name": "stdout",
     "output_type": "stream",
     "text": [
      "Epoch 9/10, Train Loss: 0.0260329021405022, Validation Loss: 0.078591401622503\n",
      "Time taken for epoch: 56.52448082 seconds\n",
      "Early stopping triggered\n"
     ]
    },
    {
     "name": "stderr",
     "output_type": "stream",
     "text": [
      "Epoch: 9/10: 100%|██████████| 3985/3985 [00:56<00:00, 70.82it/s]\n",
      "[I 2025-08-01 05:18:43,962] Trial 11 finished with value: 0.054602924915263744 and parameters: {'learning_rate': 0.08824886102831243, 'hidden_size': 256, 'num_layers': 3, 'dropout_rate': 0.3585018865727707}. Best is trial 11 with value: 0.054602924915263744.\n"
     ]
    },
    {
     "name": "stdout",
     "output_type": "stream",
     "text": [
      "Epoch 10/10, Train Loss: 0.025842231871978552, Validation Loss: 0.054602924915263744\n",
      "Time taken for epoch: 56.26805019 seconds\n",
      "Early stopping triggered\n"
     ]
    },
    {
     "name": "stderr",
     "output_type": "stream",
     "text": [
      "Epoch: 0/10: 100%|██████████| 3985/3985 [00:56<00:00, 70.18it/s]\n"
     ]
    },
    {
     "name": "stdout",
     "output_type": "stream",
     "text": [
      "Epoch 1/10, Train Loss: 0.008179830286740658, Validation Loss: 0.1533312503473266\n",
      "Time taken for epoch: 56.78451085 seconds\n"
     ]
    },
    {
     "name": "stderr",
     "output_type": "stream",
     "text": [
      "Epoch: 1/10: 100%|██████████| 3985/3985 [00:55<00:00, 71.25it/s]\n"
     ]
    },
    {
     "name": "stdout",
     "output_type": "stream",
     "text": [
      "Epoch 2/10, Train Loss: 0.00828620247809284, Validation Loss: 0.3098531746478795\n",
      "Time taken for epoch: 55.93185115 seconds\n"
     ]
    },
    {
     "name": "stderr",
     "output_type": "stream",
     "text": [
      "Epoch: 2/10: 100%|██████████| 3985/3985 [00:55<00:00, 71.36it/s]\n"
     ]
    },
    {
     "name": "stdout",
     "output_type": "stream",
     "text": [
      "Epoch 3/10, Train Loss: 0.008467439021401043, Validation Loss: 0.13764452977352082\n",
      "Time taken for epoch: 55.84512496 seconds\n"
     ]
    },
    {
     "name": "stderr",
     "output_type": "stream",
     "text": [
      "Epoch: 3/10: 100%|██████████| 3985/3985 [00:56<00:00, 71.04it/s]\n"
     ]
    },
    {
     "name": "stdout",
     "output_type": "stream",
     "text": [
      "Epoch 4/10, Train Loss: 0.008514818211332655, Validation Loss: 0.17406364781485723\n",
      "Time taken for epoch: 56.10124087 seconds\n"
     ]
    },
    {
     "name": "stderr",
     "output_type": "stream",
     "text": [
      "Epoch: 4/10: 100%|██████████| 3985/3985 [00:56<00:00, 70.48it/s]\n"
     ]
    },
    {
     "name": "stdout",
     "output_type": "stream",
     "text": [
      "Epoch 5/10, Train Loss: 0.008549344848836755, Validation Loss: 0.15477484030535266\n",
      "Time taken for epoch: 56.54329705 seconds\n"
     ]
    },
    {
     "name": "stderr",
     "output_type": "stream",
     "text": [
      "Epoch: 5/10: 100%|██████████| 3985/3985 [00:55<00:00, 71.43it/s]\n"
     ]
    },
    {
     "name": "stdout",
     "output_type": "stream",
     "text": [
      "Epoch 6/10, Train Loss: 0.008535423964832254, Validation Loss: 0.1902898665512974\n",
      "Time taken for epoch: 55.78860998 seconds\n"
     ]
    },
    {
     "name": "stderr",
     "output_type": "stream",
     "text": [
      "Epoch: 6/10: 100%|██████████| 3985/3985 [00:56<00:00, 71.09it/s]\n"
     ]
    },
    {
     "name": "stdout",
     "output_type": "stream",
     "text": [
      "Epoch 7/10, Train Loss: 0.008674191657939886, Validation Loss: 0.2671483082480391\n",
      "Time taken for epoch: 56.05866289 seconds\n"
     ]
    },
    {
     "name": "stderr",
     "output_type": "stream",
     "text": [
      "Epoch: 7/10: 100%|██████████| 3985/3985 [00:56<00:00, 71.06it/s]\n"
     ]
    },
    {
     "name": "stdout",
     "output_type": "stream",
     "text": [
      "Epoch 8/10, Train Loss: 0.008559672799022165, Validation Loss: 0.27479909885207726\n",
      "Time taken for epoch: 56.08342886 seconds\n",
      "Early stopping triggered\n"
     ]
    },
    {
     "name": "stderr",
     "output_type": "stream",
     "text": [
      "Epoch: 8/10: 100%|██████████| 3985/3985 [00:56<00:00, 71.02it/s]\n"
     ]
    },
    {
     "name": "stdout",
     "output_type": "stream",
     "text": [
      "Epoch 9/10, Train Loss: 0.008768504831958632, Validation Loss: 0.1893977998931758\n",
      "Time taken for epoch: 56.11533284 seconds\n",
      "Early stopping triggered\n"
     ]
    },
    {
     "name": "stderr",
     "output_type": "stream",
     "text": [
      "Epoch: 9/10: 100%|██████████| 3985/3985 [00:56<00:00, 71.12it/s]\n",
      "[I 2025-08-01 05:28:47,658] Trial 12 finished with value: 0.14112094423017588 and parameters: {'learning_rate': 0.008376968971210638, 'hidden_size': 256, 'num_layers': 3, 'dropout_rate': 0.35346848104234196}. Best is trial 11 with value: 0.054602924915263744.\n"
     ]
    },
    {
     "name": "stdout",
     "output_type": "stream",
     "text": [
      "Epoch 10/10, Train Loss: 0.008811477364193989, Validation Loss: 0.14112094423017588\n",
      "Time taken for epoch: 56.03124905 seconds\n",
      "Early stopping triggered\n"
     ]
    },
    {
     "name": "stderr",
     "output_type": "stream",
     "text": [
      "Epoch: 0/10: 100%|██████████| 3985/3985 [00:40<00:00, 99.55it/s] \n"
     ]
    },
    {
     "name": "stdout",
     "output_type": "stream",
     "text": [
      "Epoch 1/10, Train Loss: 0.038564738480741136, Validation Loss: 0.0890019451554892\n",
      "Time taken for epoch: 40.03368497 seconds\n"
     ]
    },
    {
     "name": "stderr",
     "output_type": "stream",
     "text": [
      "Epoch: 1/10: 100%|██████████| 3985/3985 [00:40<00:00, 99.11it/s] \n"
     ]
    },
    {
     "name": "stdout",
     "output_type": "stream",
     "text": [
      "Epoch 2/10, Train Loss: 0.03843328300886875, Validation Loss: 0.0682401155054696\n",
      "Time taken for epoch: 40.21171498 seconds\n"
     ]
    },
    {
     "name": "stderr",
     "output_type": "stream",
     "text": [
      "Epoch: 2/10: 100%|██████████| 3985/3985 [00:40<00:00, 97.99it/s] \n"
     ]
    },
    {
     "name": "stdout",
     "output_type": "stream",
     "text": [
      "Epoch 3/10, Train Loss: 0.04065668207302297, Validation Loss: 0.07859980250856985\n",
      "Time taken for epoch: 40.67017674 seconds\n"
     ]
    },
    {
     "name": "stderr",
     "output_type": "stream",
     "text": [
      "Epoch: 3/10: 100%|██████████| 3985/3985 [00:40<00:00, 98.71it/s] \n"
     ]
    },
    {
     "name": "stdout",
     "output_type": "stream",
     "text": [
      "Epoch 4/10, Train Loss: 0.04094763789489547, Validation Loss: 0.07277354779835606\n",
      "Time taken for epoch: 40.37515116 seconds\n"
     ]
    },
    {
     "name": "stderr",
     "output_type": "stream",
     "text": [
      "Epoch: 4/10: 100%|██████████| 3985/3985 [00:40<00:00, 98.47it/s] \n"
     ]
    },
    {
     "name": "stdout",
     "output_type": "stream",
     "text": [
      "Epoch 5/10, Train Loss: 0.04106150351118862, Validation Loss: 0.09802257900150957\n",
      "Time taken for epoch: 40.47164989 seconds\n"
     ]
    },
    {
     "name": "stderr",
     "output_type": "stream",
     "text": [
      "Epoch: 5/10: 100%|██████████| 3985/3985 [00:40<00:00, 99.04it/s] \n"
     ]
    },
    {
     "name": "stdout",
     "output_type": "stream",
     "text": [
      "Epoch 6/10, Train Loss: 0.04287908371617384, Validation Loss: 0.08267374000174584\n",
      "Time taken for epoch: 40.23781085 seconds\n"
     ]
    },
    {
     "name": "stderr",
     "output_type": "stream",
     "text": [
      "Epoch: 6/10: 100%|██████████| 3985/3985 [00:40<00:00, 98.39it/s] \n"
     ]
    },
    {
     "name": "stdout",
     "output_type": "stream",
     "text": [
      "Epoch 7/10, Train Loss: 0.046230498898582745, Validation Loss: 0.0740307177284308\n",
      "Time taken for epoch: 40.50599813 seconds\n",
      "Early stopping triggered\n"
     ]
    },
    {
     "name": "stderr",
     "output_type": "stream",
     "text": [
      "Epoch: 7/10: 100%|██████████| 3985/3985 [00:40<00:00, 98.24it/s] \n"
     ]
    },
    {
     "name": "stdout",
     "output_type": "stream",
     "text": [
      "Epoch 8/10, Train Loss: 0.04615983904212003, Validation Loss: 0.0725988007890174\n",
      "Time taken for epoch: 40.56412697 seconds\n",
      "Early stopping triggered\n"
     ]
    },
    {
     "name": "stderr",
     "output_type": "stream",
     "text": [
      "Epoch: 8/10: 100%|██████████| 3985/3985 [00:40<00:00, 97.81it/s] \n"
     ]
    },
    {
     "name": "stdout",
     "output_type": "stream",
     "text": [
      "Epoch 9/10, Train Loss: 0.04663218537361888, Validation Loss: 0.08969492391160021\n",
      "Time taken for epoch: 40.74426699 seconds\n",
      "Early stopping triggered\n"
     ]
    },
    {
     "name": "stderr",
     "output_type": "stream",
     "text": [
      "Epoch: 9/10: 100%|██████████| 3985/3985 [00:40<00:00, 98.71it/s] \n",
      "[I 2025-08-01 05:36:08,038] Trial 13 finished with value: 0.061717891522680805 and parameters: {'learning_rate': 0.04998351500583418, 'hidden_size': 16, 'num_layers': 4, 'dropout_rate': 0.24587129490825121}. Best is trial 11 with value: 0.054602924915263744.\n"
     ]
    },
    {
     "name": "stdout",
     "output_type": "stream",
     "text": [
      "Epoch 10/10, Train Loss: 0.047974632667328515, Validation Loss: 0.061717891522680805\n",
      "Time taken for epoch: 40.37447691 seconds\n"
     ]
    },
    {
     "name": "stderr",
     "output_type": "stream",
     "text": [
      "Epoch: 0/10: 100%|██████████| 3985/3985 [00:51<00:00, 76.82it/s]\n"
     ]
    },
    {
     "name": "stdout",
     "output_type": "stream",
     "text": [
      "Epoch 1/10, Train Loss: 0.024201071182665516, Validation Loss: 0.09296426935136672\n",
      "Time taken for epoch: 51.87339211 seconds\n"
     ]
    },
    {
     "name": "stderr",
     "output_type": "stream",
     "text": [
      "Epoch: 1/10: 100%|██████████| 3985/3985 [00:51<00:00, 77.71it/s]\n"
     ]
    },
    {
     "name": "stdout",
     "output_type": "stream",
     "text": [
      "Epoch 2/10, Train Loss: 0.01754465086229024, Validation Loss: 0.11124030816620906\n",
      "Time taken for epoch: 51.27942228 seconds\n"
     ]
    },
    {
     "name": "stderr",
     "output_type": "stream",
     "text": [
      "Epoch: 2/10: 100%|██████████| 3985/3985 [00:51<00:00, 77.71it/s]\n"
     ]
    },
    {
     "name": "stdout",
     "output_type": "stream",
     "text": [
      "Epoch 3/10, Train Loss: 0.01781480128887382, Validation Loss: 0.22231069852505128\n",
      "Time taken for epoch: 51.28433990 seconds\n"
     ]
    },
    {
     "name": "stderr",
     "output_type": "stream",
     "text": [
      "Epoch: 3/10: 100%|██████████| 3985/3985 [00:51<00:00, 76.81it/s]\n"
     ]
    },
    {
     "name": "stdout",
     "output_type": "stream",
     "text": [
      "Epoch 4/10, Train Loss: 0.017847523802524454, Validation Loss: 0.16611307414892307\n",
      "Time taken for epoch: 51.88627791 seconds\n"
     ]
    },
    {
     "name": "stderr",
     "output_type": "stream",
     "text": [
      "Epoch: 4/10: 100%|██████████| 3985/3985 [00:51<00:00, 77.42it/s]\n"
     ]
    },
    {
     "name": "stdout",
     "output_type": "stream",
     "text": [
      "Epoch 5/10, Train Loss: 0.018169205268164873, Validation Loss: 0.06430188701508383\n",
      "Time taken for epoch: 51.47401786 seconds\n"
     ]
    },
    {
     "name": "stderr",
     "output_type": "stream",
     "text": [
      "Epoch: 5/10: 100%|██████████| 3985/3985 [00:51<00:00, 77.21it/s]\n"
     ]
    },
    {
     "name": "stdout",
     "output_type": "stream",
     "text": [
      "Epoch 6/10, Train Loss: 0.01801717404855726, Validation Loss: 0.0676403566772048\n",
      "Time taken for epoch: 51.61583304 seconds\n"
     ]
    },
    {
     "name": "stderr",
     "output_type": "stream",
     "text": [
      "Epoch: 6/10: 100%|██████████| 3985/3985 [00:51<00:00, 77.25it/s]\n"
     ]
    },
    {
     "name": "stdout",
     "output_type": "stream",
     "text": [
      "Epoch 7/10, Train Loss: 0.01820942587482099, Validation Loss: 0.2431937888283295\n",
      "Time taken for epoch: 51.58912706 seconds\n"
     ]
    },
    {
     "name": "stderr",
     "output_type": "stream",
     "text": [
      "Epoch: 7/10: 100%|██████████| 3985/3985 [00:51<00:00, 77.21it/s]\n"
     ]
    },
    {
     "name": "stdout",
     "output_type": "stream",
     "text": [
      "Epoch 8/10, Train Loss: 0.017903648121948522, Validation Loss: 0.10607044503378806\n",
      "Time taken for epoch: 51.61753297 seconds\n"
     ]
    },
    {
     "name": "stderr",
     "output_type": "stream",
     "text": [
      "Epoch: 8/10: 100%|██████████| 3985/3985 [00:51<00:00, 77.32it/s]\n"
     ]
    },
    {
     "name": "stdout",
     "output_type": "stream",
     "text": [
      "Epoch 9/10, Train Loss: 0.017862838679408116, Validation Loss: 1.0707464155017137\n",
      "Time taken for epoch: 51.53921199 seconds\n"
     ]
    },
    {
     "name": "stderr",
     "output_type": "stream",
     "text": [
      "Epoch: 9/10: 100%|██████████| 3985/3985 [00:51<00:00, 77.78it/s]\n",
      "[I 2025-08-01 05:45:24,439] Trial 14 finished with value: 0.07004901051551707 and parameters: {'learning_rate': 0.08090097196440446, 'hidden_size': 256, 'num_layers': 2, 'dropout_rate': 0.23317605777339376}. Best is trial 11 with value: 0.054602924915263744.\n"
     ]
    },
    {
     "name": "stdout",
     "output_type": "stream",
     "text": [
      "Epoch 10/10, Train Loss: 0.017577839903813907, Validation Loss: 0.07004901051551707\n",
      "Time taken for epoch: 51.23902798 seconds\n",
      "Early stopping triggered\n"
     ]
    },
    {
     "name": "stderr",
     "output_type": "stream",
     "text": [
      "Epoch: 0/10: 100%|██████████| 3985/3985 [00:47<00:00, 83.87it/s]\n"
     ]
    },
    {
     "name": "stdout",
     "output_type": "stream",
     "text": [
      "Epoch 1/10, Train Loss: 0.023301579791543025, Validation Loss: 0.11166855558556071\n",
      "Time taken for epoch: 47.51821303 seconds\n"
     ]
    },
    {
     "name": "stderr",
     "output_type": "stream",
     "text": [
      "Epoch: 1/10: 100%|██████████| 3985/3985 [00:47<00:00, 83.69it/s]\n"
     ]
    },
    {
     "name": "stdout",
     "output_type": "stream",
     "text": [
      "Epoch 2/10, Train Loss: 0.02339342289102945, Validation Loss: 0.11563909122929945\n",
      "Time taken for epoch: 47.62059379 seconds\n"
     ]
    },
    {
     "name": "stderr",
     "output_type": "stream",
     "text": [
      "Epoch: 2/10: 100%|██████████| 3985/3985 [00:47<00:00, 83.42it/s]\n"
     ]
    },
    {
     "name": "stdout",
     "output_type": "stream",
     "text": [
      "Epoch 3/10, Train Loss: 0.02271770036859973, Validation Loss: 0.12394078558889693\n",
      "Time taken for epoch: 47.77433705 seconds\n"
     ]
    },
    {
     "name": "stderr",
     "output_type": "stream",
     "text": [
      "Epoch: 3/10: 100%|██████████| 3985/3985 [00:47<00:00, 83.65it/s]\n"
     ]
    },
    {
     "name": "stdout",
     "output_type": "stream",
     "text": [
      "Epoch 4/10, Train Loss: 0.023100184100952322, Validation Loss: 0.07460661119584626\n",
      "Time taken for epoch: 47.64360905 seconds\n"
     ]
    },
    {
     "name": "stderr",
     "output_type": "stream",
     "text": [
      "Epoch: 4/10: 100%|██████████| 3985/3985 [00:47<00:00, 83.39it/s]\n"
     ]
    },
    {
     "name": "stdout",
     "output_type": "stream",
     "text": [
      "Epoch 5/10, Train Loss: 0.023126128547295573, Validation Loss: 0.09053724791126451\n",
      "Time taken for epoch: 47.79014230 seconds\n"
     ]
    },
    {
     "name": "stderr",
     "output_type": "stream",
     "text": [
      "Epoch: 5/10: 100%|██████████| 3985/3985 [00:47<00:00, 83.20it/s]\n"
     ]
    },
    {
     "name": "stdout",
     "output_type": "stream",
     "text": [
      "Epoch 6/10, Train Loss: 0.023362745953679383, Validation Loss: 0.09284617377927397\n",
      "Time taken for epoch: 47.89806199 seconds\n"
     ]
    },
    {
     "name": "stderr",
     "output_type": "stream",
     "text": [
      "Epoch: 6/10: 100%|██████████| 3985/3985 [00:47<00:00, 83.18it/s]\n"
     ]
    },
    {
     "name": "stdout",
     "output_type": "stream",
     "text": [
      "Epoch 7/10, Train Loss: 0.02342642950807865, Validation Loss: 0.11368279799581762\n",
      "Time taken for epoch: 47.90868521 seconds\n"
     ]
    },
    {
     "name": "stderr",
     "output_type": "stream",
     "text": [
      "Epoch: 7/10: 100%|██████████| 3985/3985 [00:47<00:00, 83.22it/s]\n"
     ]
    },
    {
     "name": "stdout",
     "output_type": "stream",
     "text": [
      "Epoch 8/10, Train Loss: 0.023938843654643938, Validation Loss: 0.11903858342160616\n",
      "Time taken for epoch: 47.88525796 seconds\n"
     ]
    },
    {
     "name": "stderr",
     "output_type": "stream",
     "text": [
      "Epoch: 8/10: 100%|██████████| 3985/3985 [00:48<00:00, 82.86it/s]\n"
     ]
    },
    {
     "name": "stdout",
     "output_type": "stream",
     "text": [
      "Epoch 9/10, Train Loss: 0.023436155335199427, Validation Loss: 0.09092139744177997\n",
      "Time taken for epoch: 48.09291577 seconds\n",
      "Early stopping triggered\n"
     ]
    },
    {
     "name": "stderr",
     "output_type": "stream",
     "text": [
      "Epoch: 9/10: 100%|██████████| 3985/3985 [00:47<00:00, 83.27it/s]\n",
      "[I 2025-08-01 05:54:01,497] Trial 15 finished with value: 0.09582868358391056 and parameters: {'learning_rate': 0.02082867531166326, 'hidden_size': 128, 'num_layers': 4, 'dropout_rate': 0.4082144470973025}. Best is trial 11 with value: 0.054602924915263744.\n"
     ]
    },
    {
     "name": "stdout",
     "output_type": "stream",
     "text": [
      "Epoch 10/10, Train Loss: 0.02333017300809716, Validation Loss: 0.09582868358391056\n",
      "Time taken for epoch: 47.85706973 seconds\n",
      "Early stopping triggered\n"
     ]
    },
    {
     "name": "stderr",
     "output_type": "stream",
     "text": [
      "Epoch: 0/10: 100%|██████████| 3985/3985 [00:57<00:00, 69.44it/s]\n"
     ]
    },
    {
     "name": "stdout",
     "output_type": "stream",
     "text": [
      "Epoch 1/10, Train Loss: 0.013452610990133047, Validation Loss: 0.16742429844353426\n",
      "Time taken for epoch: 57.38555193 seconds\n"
     ]
    },
    {
     "name": "stderr",
     "output_type": "stream",
     "text": [
      "Epoch: 1/10: 100%|██████████| 3985/3985 [00:56<00:00, 69.92it/s]\n"
     ]
    },
    {
     "name": "stdout",
     "output_type": "stream",
     "text": [
      "Epoch 2/10, Train Loss: 0.013339799098259159, Validation Loss: 0.10683392783441982\n",
      "Time taken for epoch: 56.99914908 seconds\n"
     ]
    },
    {
     "name": "stderr",
     "output_type": "stream",
     "text": [
      "Epoch: 2/10: 100%|██████████| 3985/3985 [00:56<00:00, 70.13it/s]\n"
     ]
    },
    {
     "name": "stdout",
     "output_type": "stream",
     "text": [
      "Epoch 3/10, Train Loss: 0.013660393353818053, Validation Loss: 0.16260054982545016\n",
      "Time taken for epoch: 56.82338786 seconds\n"
     ]
    },
    {
     "name": "stderr",
     "output_type": "stream",
     "text": [
      "Epoch: 3/10: 100%|██████████| 3985/3985 [00:56<00:00, 70.28it/s]\n"
     ]
    },
    {
     "name": "stdout",
     "output_type": "stream",
     "text": [
      "Epoch 4/10, Train Loss: 0.013952958613979997, Validation Loss: 0.06779785278144612\n",
      "Time taken for epoch: 56.70581913 seconds\n"
     ]
    },
    {
     "name": "stderr",
     "output_type": "stream",
     "text": [
      "Epoch: 4/10: 100%|██████████| 3985/3985 [00:57<00:00, 69.46it/s]\n"
     ]
    },
    {
     "name": "stdout",
     "output_type": "stream",
     "text": [
      "Epoch 5/10, Train Loss: 0.014161208709713581, Validation Loss: 0.22847876057630612\n",
      "Time taken for epoch: 57.37303305 seconds\n"
     ]
    },
    {
     "name": "stderr",
     "output_type": "stream",
     "text": [
      "Epoch: 5/10: 100%|██████████| 3985/3985 [00:57<00:00, 69.18it/s]\n"
     ]
    },
    {
     "name": "stdout",
     "output_type": "stream",
     "text": [
      "Epoch 6/10, Train Loss: 0.013913354722588993, Validation Loss: 0.07254711303194232\n",
      "Time taken for epoch: 57.60347891 seconds\n"
     ]
    },
    {
     "name": "stderr",
     "output_type": "stream",
     "text": [
      "Epoch: 6/10: 100%|██████████| 3985/3985 [00:57<00:00, 69.23it/s]\n"
     ]
    },
    {
     "name": "stdout",
     "output_type": "stream",
     "text": [
      "Epoch 7/10, Train Loss: 0.014164913553917498, Validation Loss: 0.12482575916792989\n",
      "Time taken for epoch: 57.56696010 seconds\n"
     ]
    },
    {
     "name": "stderr",
     "output_type": "stream",
     "text": [
      "Epoch: 7/10: 100%|██████████| 3985/3985 [00:57<00:00, 69.62it/s]\n"
     ]
    },
    {
     "name": "stdout",
     "output_type": "stream",
     "text": [
      "Epoch 8/10, Train Loss: 0.014130446443116874, Validation Loss: 0.1789000732460018\n",
      "Time taken for epoch: 57.24299884 seconds\n"
     ]
    },
    {
     "name": "stderr",
     "output_type": "stream",
     "text": [
      "Epoch: 8/10: 100%|██████████| 3985/3985 [00:57<00:00, 69.44it/s]\n"
     ]
    },
    {
     "name": "stdout",
     "output_type": "stream",
     "text": [
      "Epoch 9/10, Train Loss: 0.01422556076885915, Validation Loss: 0.09477992176346371\n",
      "Time taken for epoch: 57.38649106 seconds\n",
      "Early stopping triggered\n"
     ]
    },
    {
     "name": "stderr",
     "output_type": "stream",
     "text": [
      "Epoch: 9/10: 100%|██████████| 3985/3985 [00:57<00:00, 69.18it/s]\n",
      "[I 2025-08-01 06:04:16,832] Trial 16 finished with value: 0.1450503559408682 and parameters: {'learning_rate': 0.024774214791124172, 'hidden_size': 256, 'num_layers': 3, 'dropout_rate': 0.34063961477865146}. Best is trial 11 with value: 0.054602924915263744.\n"
     ]
    },
    {
     "name": "stdout",
     "output_type": "stream",
     "text": [
      "Epoch 10/10, Train Loss: 0.01400224334154853, Validation Loss: 0.1450503559408682\n",
      "Time taken for epoch: 57.60539889 seconds\n",
      "Early stopping triggered\n"
     ]
    },
    {
     "name": "stderr",
     "output_type": "stream",
     "text": [
      "Epoch: 0/10: 100%|██████████| 3985/3985 [00:36<00:00, 110.53it/s]\n"
     ]
    },
    {
     "name": "stdout",
     "output_type": "stream",
     "text": [
      "Epoch 1/10, Train Loss: 0.007380178594351787, Validation Loss: 0.34805571387576123\n",
      "Time taken for epoch: 36.05624104 seconds\n"
     ]
    },
    {
     "name": "stderr",
     "output_type": "stream",
     "text": [
      "Epoch: 1/10: 100%|██████████| 3985/3985 [00:36<00:00, 109.81it/s]\n"
     ]
    },
    {
     "name": "stdout",
     "output_type": "stream",
     "text": [
      "Epoch 2/10, Train Loss: 0.005962707857990467, Validation Loss: 0.2741419745163287\n",
      "Time taken for epoch: 36.29137993 seconds\n"
     ]
    },
    {
     "name": "stderr",
     "output_type": "stream",
     "text": [
      "Epoch: 2/10: 100%|██████████| 3985/3985 [00:36<00:00, 109.12it/s]\n"
     ]
    },
    {
     "name": "stdout",
     "output_type": "stream",
     "text": [
      "Epoch 3/10, Train Loss: 0.0059721008299556625, Validation Loss: 0.32057296509363087\n",
      "Time taken for epoch: 36.52003980 seconds\n"
     ]
    },
    {
     "name": "stderr",
     "output_type": "stream",
     "text": [
      "Epoch: 3/10: 100%|██████████| 3985/3985 [00:36<00:00, 109.55it/s]\n"
     ]
    },
    {
     "name": "stdout",
     "output_type": "stream",
     "text": [
      "Epoch 4/10, Train Loss: 0.006023251425493579, Validation Loss: 0.3143532485313299\n",
      "Time taken for epoch: 36.37670612 seconds\n"
     ]
    },
    {
     "name": "stderr",
     "output_type": "stream",
     "text": [
      "Epoch: 4/10: 100%|██████████| 3985/3985 [00:36<00:00, 109.37it/s]\n"
     ]
    },
    {
     "name": "stdout",
     "output_type": "stream",
     "text": [
      "Epoch 5/10, Train Loss: 0.006053252646599054, Validation Loss: 0.36753800666754904\n",
      "Time taken for epoch: 36.43675208 seconds\n"
     ]
    },
    {
     "name": "stderr",
     "output_type": "stream",
     "text": [
      "Epoch: 5/10: 100%|██████████| 3985/3985 [00:36<00:00, 109.72it/s]\n"
     ]
    },
    {
     "name": "stdout",
     "output_type": "stream",
     "text": [
      "Epoch 6/10, Train Loss: 0.006040739304289091, Validation Loss: 0.4324858518840537\n",
      "Time taken for epoch: 36.32058001 seconds\n"
     ]
    },
    {
     "name": "stderr",
     "output_type": "stream",
     "text": [
      "Epoch: 6/10: 100%|██████████| 3985/3985 [00:36<00:00, 109.76it/s]\n"
     ]
    },
    {
     "name": "stdout",
     "output_type": "stream",
     "text": [
      "Epoch 7/10, Train Loss: 0.0060477503028510135, Validation Loss: 0.3389374497579957\n",
      "Time taken for epoch: 36.30882382 seconds\n",
      "Early stopping triggered\n"
     ]
    },
    {
     "name": "stderr",
     "output_type": "stream",
     "text": [
      "Epoch: 7/10: 100%|██████████| 3985/3985 [00:36<00:00, 109.90it/s]\n"
     ]
    },
    {
     "name": "stdout",
     "output_type": "stream",
     "text": [
      "Epoch 8/10, Train Loss: 0.006038406162687497, Validation Loss: 0.33112981141062464\n",
      "Time taken for epoch: 36.26388788 seconds\n",
      "Early stopping triggered\n"
     ]
    },
    {
     "name": "stderr",
     "output_type": "stream",
     "text": [
      "Epoch: 8/10: 100%|██████████| 3985/3985 [00:36<00:00, 109.79it/s]\n"
     ]
    },
    {
     "name": "stdout",
     "output_type": "stream",
     "text": [
      "Epoch 9/10, Train Loss: 0.006058414647918909, Validation Loss: 0.3625568260305843\n",
      "Time taken for epoch: 36.29795313 seconds\n",
      "Early stopping triggered\n"
     ]
    },
    {
     "name": "stderr",
     "output_type": "stream",
     "text": [
      "Epoch: 9/10: 100%|██████████| 3985/3985 [00:36<00:00, 110.33it/s]\n",
      "[I 2025-08-01 06:10:55,555] Trial 17 finished with value: 0.32920696801209715 and parameters: {'learning_rate': 0.0033339716968508685, 'hidden_size': 16, 'num_layers': 2, 'dropout_rate': 0.10459058965596449}. Best is trial 11 with value: 0.054602924915263744.\n"
     ]
    },
    {
     "name": "stdout",
     "output_type": "stream",
     "text": [
      "Epoch 10/10, Train Loss: 0.006038407150800883, Validation Loss: 0.32920696801209715\n",
      "Time taken for epoch: 36.11963630 seconds\n",
      "Early stopping triggered\n"
     ]
    },
    {
     "name": "stderr",
     "output_type": "stream",
     "text": [
      "Epoch: 0/10: 100%|██████████| 3985/3985 [00:40<00:00, 97.78it/s] \n"
     ]
    },
    {
     "name": "stdout",
     "output_type": "stream",
     "text": [
      "Epoch 1/10, Train Loss: 0.06665246954077908, Validation Loss: 0.08237319944224389\n",
      "Time taken for epoch: 40.75554299 seconds\n"
     ]
    },
    {
     "name": "stderr",
     "output_type": "stream",
     "text": [
      "Epoch: 1/10: 100%|██████████| 3985/3985 [00:40<00:00, 97.59it/s] \n"
     ]
    },
    {
     "name": "stdout",
     "output_type": "stream",
     "text": [
      "Epoch 2/10, Train Loss: 0.06550377002324782, Validation Loss: 0.08079299687005508\n",
      "Time taken for epoch: 40.83441305 seconds\n"
     ]
    },
    {
     "name": "stderr",
     "output_type": "stream",
     "text": [
      "Epoch: 2/10: 100%|██████████| 3985/3985 [00:40<00:00, 97.63it/s] \n"
     ]
    },
    {
     "name": "stdout",
     "output_type": "stream",
     "text": [
      "Epoch 3/10, Train Loss: 0.0666127674178766, Validation Loss: 0.07288982988788437\n",
      "Time taken for epoch: 40.81789231 seconds\n"
     ]
    },
    {
     "name": "stderr",
     "output_type": "stream",
     "text": [
      "Epoch: 3/10: 100%|██████████| 3985/3985 [00:40<00:00, 97.65it/s] \n"
     ]
    },
    {
     "name": "stdout",
     "output_type": "stream",
     "text": [
      "Epoch 4/10, Train Loss: 0.0657723572193978, Validation Loss: 0.07443779749688109\n",
      "Time taken for epoch: 40.81099510 seconds\n"
     ]
    },
    {
     "name": "stderr",
     "output_type": "stream",
     "text": [
      "Epoch: 4/10: 100%|██████████| 3985/3985 [00:40<00:00, 97.53it/s] \n"
     ]
    },
    {
     "name": "stdout",
     "output_type": "stream",
     "text": [
      "Epoch 5/10, Train Loss: 0.06649708568470242, Validation Loss: 0.07626735248609236\n",
      "Time taken for epoch: 40.86174822 seconds\n"
     ]
    },
    {
     "name": "stderr",
     "output_type": "stream",
     "text": [
      "Epoch: 5/10: 100%|██████████| 3985/3985 [00:41<00:00, 97.06it/s] \n"
     ]
    },
    {
     "name": "stdout",
     "output_type": "stream",
     "text": [
      "Epoch 6/10, Train Loss: 0.06586991342876009, Validation Loss: 0.07278278067345702\n",
      "Time taken for epoch: 41.06028008 seconds\n"
     ]
    },
    {
     "name": "stderr",
     "output_type": "stream",
     "text": [
      "Epoch: 6/10: 100%|██████████| 3985/3985 [00:41<00:00, 97.07it/s] \n"
     ]
    },
    {
     "name": "stdout",
     "output_type": "stream",
     "text": [
      "Epoch 7/10, Train Loss: 0.06579930685656882, Validation Loss: 0.07703882623439985\n",
      "Time taken for epoch: 41.05464506 seconds\n"
     ]
    },
    {
     "name": "stderr",
     "output_type": "stream",
     "text": [
      "Epoch: 7/10: 100%|██████████| 3985/3985 [00:40<00:00, 98.20it/s] \n"
     ]
    },
    {
     "name": "stdout",
     "output_type": "stream",
     "text": [
      "Epoch 8/10, Train Loss: 0.0658672877207604, Validation Loss: 0.06672432676484565\n",
      "Time taken for epoch: 40.58451200 seconds\n"
     ]
    },
    {
     "name": "stderr",
     "output_type": "stream",
     "text": [
      "Epoch: 8/10: 100%|██████████| 3985/3985 [00:40<00:00, 97.70it/s] \n"
     ]
    },
    {
     "name": "stdout",
     "output_type": "stream",
     "text": [
      "Epoch 9/10, Train Loss: 0.06606058059365418, Validation Loss: 0.07880718846016194\n",
      "Time taken for epoch: 40.79200006 seconds\n"
     ]
    },
    {
     "name": "stderr",
     "output_type": "stream",
     "text": [
      "Epoch: 9/10: 100%|██████████| 3985/3985 [00:40<00:00, 97.48it/s] \n",
      "[I 2025-08-01 06:18:20,303] Trial 18 finished with value: 0.07219449386202859 and parameters: {'learning_rate': 0.036013334363399076, 'hidden_size': 16, 'num_layers': 4, 'dropout_rate': 0.49766017388095707}. Best is trial 11 with value: 0.054602924915263744.\n"
     ]
    },
    {
     "name": "stdout",
     "output_type": "stream",
     "text": [
      "Epoch 10/10, Train Loss: 0.0658451660037265, Validation Loss: 0.07219449386202859\n",
      "Time taken for epoch: 40.88371778 seconds\n"
     ]
    },
    {
     "name": "stderr",
     "output_type": "stream",
     "text": [
      "Epoch: 0/10: 100%|██████████| 3985/3985 [00:58<00:00, 68.35it/s]\n"
     ]
    },
    {
     "name": "stdout",
     "output_type": "stream",
     "text": [
      "Epoch 1/10, Train Loss: 0.005512099996047887, Validation Loss: 0.2745432873926934\n",
      "Time taken for epoch: 58.30632234 seconds\n"
     ]
    },
    {
     "name": "stderr",
     "output_type": "stream",
     "text": [
      "Epoch: 1/10: 100%|██████████| 3985/3985 [00:57<00:00, 69.57it/s]\n"
     ]
    },
    {
     "name": "stdout",
     "output_type": "stream",
     "text": [
      "Epoch 2/10, Train Loss: 0.005551647174626664, Validation Loss: 0.2085701394091289\n",
      "Time taken for epoch: 57.27936673 seconds\n"
     ]
    },
    {
     "name": "stderr",
     "output_type": "stream",
     "text": [
      "Epoch: 2/10: 100%|██████████| 3985/3985 [00:56<00:00, 70.02it/s]\n"
     ]
    },
    {
     "name": "stdout",
     "output_type": "stream",
     "text": [
      "Epoch 3/10, Train Loss: 0.005579162892795529, Validation Loss: 0.2710154969433277\n",
      "Time taken for epoch: 56.91261601 seconds\n"
     ]
    },
    {
     "name": "stderr",
     "output_type": "stream",
     "text": [
      "Epoch: 3/10: 100%|██████████| 3985/3985 [00:57<00:00, 69.39it/s]\n"
     ]
    },
    {
     "name": "stdout",
     "output_type": "stream",
     "text": [
      "Epoch 4/10, Train Loss: 0.005701709743542421, Validation Loss: 0.29787114982860324\n",
      "Time taken for epoch: 57.43530703 seconds\n"
     ]
    },
    {
     "name": "stderr",
     "output_type": "stream",
     "text": [
      "Epoch: 4/10: 100%|██████████| 3985/3985 [00:57<00:00, 69.37it/s]\n"
     ]
    },
    {
     "name": "stdout",
     "output_type": "stream",
     "text": [
      "Epoch 5/10, Train Loss: 0.005782383053307626, Validation Loss: 0.2216319645392425\n",
      "Time taken for epoch: 57.44940686 seconds\n"
     ]
    },
    {
     "name": "stderr",
     "output_type": "stream",
     "text": [
      "Epoch: 5/10: 100%|██████████| 3985/3985 [00:56<00:00, 69.96it/s]\n"
     ]
    },
    {
     "name": "stdout",
     "output_type": "stream",
     "text": [
      "Epoch 6/10, Train Loss: 0.0057846734126144024, Validation Loss: 0.215654489179625\n",
      "Time taken for epoch: 56.96278811 seconds\n"
     ]
    },
    {
     "name": "stderr",
     "output_type": "stream",
     "text": [
      "Epoch: 6/10: 100%|██████████| 3985/3985 [00:57<00:00, 69.80it/s]\n"
     ]
    },
    {
     "name": "stdout",
     "output_type": "stream",
     "text": [
      "Epoch 7/10, Train Loss: 0.0058213094839478004, Validation Loss: 0.21376875279469873\n",
      "Time taken for epoch: 57.09658289 seconds\n",
      "Early stopping triggered\n"
     ]
    },
    {
     "name": "stderr",
     "output_type": "stream",
     "text": [
      "Epoch: 7/10: 100%|██████████| 3985/3985 [00:57<00:00, 69.30it/s]\n"
     ]
    },
    {
     "name": "stdout",
     "output_type": "stream",
     "text": [
      "Epoch 8/10, Train Loss: 0.005809191473113511, Validation Loss: 0.2542360012480352\n",
      "Time taken for epoch: 57.50983715 seconds\n",
      "Early stopping triggered\n"
     ]
    },
    {
     "name": "stderr",
     "output_type": "stream",
     "text": [
      "Epoch: 8/10: 100%|██████████| 3985/3985 [00:57<00:00, 69.60it/s]\n"
     ]
    },
    {
     "name": "stdout",
     "output_type": "stream",
     "text": [
      "Epoch 9/10, Train Loss: 0.00588502105409595, Validation Loss: 0.2054618231072229\n",
      "Time taken for epoch: 57.25508785 seconds\n"
     ]
    },
    {
     "name": "stderr",
     "output_type": "stream",
     "text": [
      "Epoch: 9/10: 100%|██████████| 3985/3985 [00:56<00:00, 70.00it/s]\n",
      "[I 2025-08-01 06:28:36,303] Trial 19 finished with value: 0.2217891962532927 and parameters: {'learning_rate': 0.006760183110496172, 'hidden_size': 256, 'num_layers': 3, 'dropout_rate': 0.23145696054401968}. Best is trial 11 with value: 0.054602924915263744.\n"
     ]
    },
    {
     "name": "stdout",
     "output_type": "stream",
     "text": [
      "Epoch 10/10, Train Loss: 0.005897114529312966, Validation Loss: 0.2217891962532927\n",
      "Time taken for epoch: 56.93409181 seconds\n",
      "Best hyperparameters: {'learning_rate': 0.08824886102831243, 'hidden_size': 256, 'num_layers': 3, 'dropout_rate': 0.3585018865727707}\n"
     ]
    },
    {
     "data": {
      "application/vnd.plotly.v1+json": {
       "config": {
        "plotlyServerURL": "https://plot.ly"
       },
       "data": [
        {
         "mode": "markers",
         "name": "Objective Value",
         "type": "scatter",
         "x": [
          0,
          1,
          2,
          3,
          4,
          5,
          6,
          7,
          8,
          9,
          10,
          11,
          12,
          13,
          14,
          15,
          16,
          17,
          18,
          19
         ],
         "y": [
          0.3290756366506078,
          0.21918709013724624,
          0.1146471808586346,
          0.19227300761798857,
          0.2996275697004029,
          0.3690271635578175,
          0.3568505698406142,
          0.31520597075417467,
          0.19251092155901528,
          0.2402279577963261,
          0.16873444748347544,
          0.054602924915263744,
          0.14112094423017588,
          0.061717891522680805,
          0.07004901051551707,
          0.09582868358391056,
          0.1450503559408682,
          0.32920696801209715,
          0.07219449386202859,
          0.2217891962532927
         ]
        },
        {
         "mode": "lines",
         "name": "Best Value",
         "type": "scatter",
         "x": [
          0,
          1,
          2,
          3,
          4,
          5,
          6,
          7,
          8,
          9,
          10,
          11,
          12,
          13,
          14,
          15,
          16,
          17,
          18,
          19
         ],
         "y": [
          0.3290756366506078,
          0.21918709013724624,
          0.1146471808586346,
          0.1146471808586346,
          0.1146471808586346,
          0.1146471808586346,
          0.1146471808586346,
          0.1146471808586346,
          0.1146471808586346,
          0.1146471808586346,
          0.1146471808586346,
          0.054602924915263744,
          0.054602924915263744,
          0.054602924915263744,
          0.054602924915263744,
          0.054602924915263744,
          0.054602924915263744,
          0.054602924915263744,
          0.054602924915263744,
          0.054602924915263744
         ]
        },
        {
         "marker": {
          "color": "#cccccc"
         },
         "mode": "markers",
         "name": "Infeasible Trial",
         "showlegend": false,
         "type": "scatter",
         "x": [],
         "y": []
        }
       ],
       "layout": {
        "template": {
         "data": {
          "bar": [
           {
            "error_x": {
             "color": "#2a3f5f"
            },
            "error_y": {
             "color": "#2a3f5f"
            },
            "marker": {
             "line": {
              "color": "#E5ECF6",
              "width": 0.5
             },
             "pattern": {
              "fillmode": "overlay",
              "size": 10,
              "solidity": 0.2
             }
            },
            "type": "bar"
           }
          ],
          "barpolar": [
           {
            "marker": {
             "line": {
              "color": "#E5ECF6",
              "width": 0.5
             },
             "pattern": {
              "fillmode": "overlay",
              "size": 10,
              "solidity": 0.2
             }
            },
            "type": "barpolar"
           }
          ],
          "carpet": [
           {
            "aaxis": {
             "endlinecolor": "#2a3f5f",
             "gridcolor": "white",
             "linecolor": "white",
             "minorgridcolor": "white",
             "startlinecolor": "#2a3f5f"
            },
            "baxis": {
             "endlinecolor": "#2a3f5f",
             "gridcolor": "white",
             "linecolor": "white",
             "minorgridcolor": "white",
             "startlinecolor": "#2a3f5f"
            },
            "type": "carpet"
           }
          ],
          "choropleth": [
           {
            "colorbar": {
             "outlinewidth": 0,
             "ticks": ""
            },
            "type": "choropleth"
           }
          ],
          "contour": [
           {
            "colorbar": {
             "outlinewidth": 0,
             "ticks": ""
            },
            "colorscale": [
             [
              0,
              "#0d0887"
             ],
             [
              0.1111111111111111,
              "#46039f"
             ],
             [
              0.2222222222222222,
              "#7201a8"
             ],
             [
              0.3333333333333333,
              "#9c179e"
             ],
             [
              0.4444444444444444,
              "#bd3786"
             ],
             [
              0.5555555555555556,
              "#d8576b"
             ],
             [
              0.6666666666666666,
              "#ed7953"
             ],
             [
              0.7777777777777778,
              "#fb9f3a"
             ],
             [
              0.8888888888888888,
              "#fdca26"
             ],
             [
              1,
              "#f0f921"
             ]
            ],
            "type": "contour"
           }
          ],
          "contourcarpet": [
           {
            "colorbar": {
             "outlinewidth": 0,
             "ticks": ""
            },
            "type": "contourcarpet"
           }
          ],
          "heatmap": [
           {
            "colorbar": {
             "outlinewidth": 0,
             "ticks": ""
            },
            "colorscale": [
             [
              0,
              "#0d0887"
             ],
             [
              0.1111111111111111,
              "#46039f"
             ],
             [
              0.2222222222222222,
              "#7201a8"
             ],
             [
              0.3333333333333333,
              "#9c179e"
             ],
             [
              0.4444444444444444,
              "#bd3786"
             ],
             [
              0.5555555555555556,
              "#d8576b"
             ],
             [
              0.6666666666666666,
              "#ed7953"
             ],
             [
              0.7777777777777778,
              "#fb9f3a"
             ],
             [
              0.8888888888888888,
              "#fdca26"
             ],
             [
              1,
              "#f0f921"
             ]
            ],
            "type": "heatmap"
           }
          ],
          "histogram": [
           {
            "marker": {
             "pattern": {
              "fillmode": "overlay",
              "size": 10,
              "solidity": 0.2
             }
            },
            "type": "histogram"
           }
          ],
          "histogram2d": [
           {
            "colorbar": {
             "outlinewidth": 0,
             "ticks": ""
            },
            "colorscale": [
             [
              0,
              "#0d0887"
             ],
             [
              0.1111111111111111,
              "#46039f"
             ],
             [
              0.2222222222222222,
              "#7201a8"
             ],
             [
              0.3333333333333333,
              "#9c179e"
             ],
             [
              0.4444444444444444,
              "#bd3786"
             ],
             [
              0.5555555555555556,
              "#d8576b"
             ],
             [
              0.6666666666666666,
              "#ed7953"
             ],
             [
              0.7777777777777778,
              "#fb9f3a"
             ],
             [
              0.8888888888888888,
              "#fdca26"
             ],
             [
              1,
              "#f0f921"
             ]
            ],
            "type": "histogram2d"
           }
          ],
          "histogram2dcontour": [
           {
            "colorbar": {
             "outlinewidth": 0,
             "ticks": ""
            },
            "colorscale": [
             [
              0,
              "#0d0887"
             ],
             [
              0.1111111111111111,
              "#46039f"
             ],
             [
              0.2222222222222222,
              "#7201a8"
             ],
             [
              0.3333333333333333,
              "#9c179e"
             ],
             [
              0.4444444444444444,
              "#bd3786"
             ],
             [
              0.5555555555555556,
              "#d8576b"
             ],
             [
              0.6666666666666666,
              "#ed7953"
             ],
             [
              0.7777777777777778,
              "#fb9f3a"
             ],
             [
              0.8888888888888888,
              "#fdca26"
             ],
             [
              1,
              "#f0f921"
             ]
            ],
            "type": "histogram2dcontour"
           }
          ],
          "mesh3d": [
           {
            "colorbar": {
             "outlinewidth": 0,
             "ticks": ""
            },
            "type": "mesh3d"
           }
          ],
          "parcoords": [
           {
            "line": {
             "colorbar": {
              "outlinewidth": 0,
              "ticks": ""
             }
            },
            "type": "parcoords"
           }
          ],
          "pie": [
           {
            "automargin": true,
            "type": "pie"
           }
          ],
          "scatter": [
           {
            "fillpattern": {
             "fillmode": "overlay",
             "size": 10,
             "solidity": 0.2
            },
            "type": "scatter"
           }
          ],
          "scatter3d": [
           {
            "line": {
             "colorbar": {
              "outlinewidth": 0,
              "ticks": ""
             }
            },
            "marker": {
             "colorbar": {
              "outlinewidth": 0,
              "ticks": ""
             }
            },
            "type": "scatter3d"
           }
          ],
          "scattercarpet": [
           {
            "marker": {
             "colorbar": {
              "outlinewidth": 0,
              "ticks": ""
             }
            },
            "type": "scattercarpet"
           }
          ],
          "scattergeo": [
           {
            "marker": {
             "colorbar": {
              "outlinewidth": 0,
              "ticks": ""
             }
            },
            "type": "scattergeo"
           }
          ],
          "scattergl": [
           {
            "marker": {
             "colorbar": {
              "outlinewidth": 0,
              "ticks": ""
             }
            },
            "type": "scattergl"
           }
          ],
          "scattermap": [
           {
            "marker": {
             "colorbar": {
              "outlinewidth": 0,
              "ticks": ""
             }
            },
            "type": "scattermap"
           }
          ],
          "scattermapbox": [
           {
            "marker": {
             "colorbar": {
              "outlinewidth": 0,
              "ticks": ""
             }
            },
            "type": "scattermapbox"
           }
          ],
          "scatterpolar": [
           {
            "marker": {
             "colorbar": {
              "outlinewidth": 0,
              "ticks": ""
             }
            },
            "type": "scatterpolar"
           }
          ],
          "scatterpolargl": [
           {
            "marker": {
             "colorbar": {
              "outlinewidth": 0,
              "ticks": ""
             }
            },
            "type": "scatterpolargl"
           }
          ],
          "scatterternary": [
           {
            "marker": {
             "colorbar": {
              "outlinewidth": 0,
              "ticks": ""
             }
            },
            "type": "scatterternary"
           }
          ],
          "surface": [
           {
            "colorbar": {
             "outlinewidth": 0,
             "ticks": ""
            },
            "colorscale": [
             [
              0,
              "#0d0887"
             ],
             [
              0.1111111111111111,
              "#46039f"
             ],
             [
              0.2222222222222222,
              "#7201a8"
             ],
             [
              0.3333333333333333,
              "#9c179e"
             ],
             [
              0.4444444444444444,
              "#bd3786"
             ],
             [
              0.5555555555555556,
              "#d8576b"
             ],
             [
              0.6666666666666666,
              "#ed7953"
             ],
             [
              0.7777777777777778,
              "#fb9f3a"
             ],
             [
              0.8888888888888888,
              "#fdca26"
             ],
             [
              1,
              "#f0f921"
             ]
            ],
            "type": "surface"
           }
          ],
          "table": [
           {
            "cells": {
             "fill": {
              "color": "#EBF0F8"
             },
             "line": {
              "color": "white"
             }
            },
            "header": {
             "fill": {
              "color": "#C8D4E3"
             },
             "line": {
              "color": "white"
             }
            },
            "type": "table"
           }
          ]
         },
         "layout": {
          "annotationdefaults": {
           "arrowcolor": "#2a3f5f",
           "arrowhead": 0,
           "arrowwidth": 1
          },
          "autotypenumbers": "strict",
          "coloraxis": {
           "colorbar": {
            "outlinewidth": 0,
            "ticks": ""
           }
          },
          "colorscale": {
           "diverging": [
            [
             0,
             "#8e0152"
            ],
            [
             0.1,
             "#c51b7d"
            ],
            [
             0.2,
             "#de77ae"
            ],
            [
             0.3,
             "#f1b6da"
            ],
            [
             0.4,
             "#fde0ef"
            ],
            [
             0.5,
             "#f7f7f7"
            ],
            [
             0.6,
             "#e6f5d0"
            ],
            [
             0.7,
             "#b8e186"
            ],
            [
             0.8,
             "#7fbc41"
            ],
            [
             0.9,
             "#4d9221"
            ],
            [
             1,
             "#276419"
            ]
           ],
           "sequential": [
            [
             0,
             "#0d0887"
            ],
            [
             0.1111111111111111,
             "#46039f"
            ],
            [
             0.2222222222222222,
             "#7201a8"
            ],
            [
             0.3333333333333333,
             "#9c179e"
            ],
            [
             0.4444444444444444,
             "#bd3786"
            ],
            [
             0.5555555555555556,
             "#d8576b"
            ],
            [
             0.6666666666666666,
             "#ed7953"
            ],
            [
             0.7777777777777778,
             "#fb9f3a"
            ],
            [
             0.8888888888888888,
             "#fdca26"
            ],
            [
             1,
             "#f0f921"
            ]
           ],
           "sequentialminus": [
            [
             0,
             "#0d0887"
            ],
            [
             0.1111111111111111,
             "#46039f"
            ],
            [
             0.2222222222222222,
             "#7201a8"
            ],
            [
             0.3333333333333333,
             "#9c179e"
            ],
            [
             0.4444444444444444,
             "#bd3786"
            ],
            [
             0.5555555555555556,
             "#d8576b"
            ],
            [
             0.6666666666666666,
             "#ed7953"
            ],
            [
             0.7777777777777778,
             "#fb9f3a"
            ],
            [
             0.8888888888888888,
             "#fdca26"
            ],
            [
             1,
             "#f0f921"
            ]
           ]
          },
          "colorway": [
           "#636efa",
           "#EF553B",
           "#00cc96",
           "#ab63fa",
           "#FFA15A",
           "#19d3f3",
           "#FF6692",
           "#B6E880",
           "#FF97FF",
           "#FECB52"
          ],
          "font": {
           "color": "#2a3f5f"
          },
          "geo": {
           "bgcolor": "white",
           "lakecolor": "white",
           "landcolor": "#E5ECF6",
           "showlakes": true,
           "showland": true,
           "subunitcolor": "white"
          },
          "hoverlabel": {
           "align": "left"
          },
          "hovermode": "closest",
          "mapbox": {
           "style": "light"
          },
          "paper_bgcolor": "white",
          "plot_bgcolor": "#E5ECF6",
          "polar": {
           "angularaxis": {
            "gridcolor": "white",
            "linecolor": "white",
            "ticks": ""
           },
           "bgcolor": "#E5ECF6",
           "radialaxis": {
            "gridcolor": "white",
            "linecolor": "white",
            "ticks": ""
           }
          },
          "scene": {
           "xaxis": {
            "backgroundcolor": "#E5ECF6",
            "gridcolor": "white",
            "gridwidth": 2,
            "linecolor": "white",
            "showbackground": true,
            "ticks": "",
            "zerolinecolor": "white"
           },
           "yaxis": {
            "backgroundcolor": "#E5ECF6",
            "gridcolor": "white",
            "gridwidth": 2,
            "linecolor": "white",
            "showbackground": true,
            "ticks": "",
            "zerolinecolor": "white"
           },
           "zaxis": {
            "backgroundcolor": "#E5ECF6",
            "gridcolor": "white",
            "gridwidth": 2,
            "linecolor": "white",
            "showbackground": true,
            "ticks": "",
            "zerolinecolor": "white"
           }
          },
          "shapedefaults": {
           "line": {
            "color": "#2a3f5f"
           }
          },
          "ternary": {
           "aaxis": {
            "gridcolor": "white",
            "linecolor": "white",
            "ticks": ""
           },
           "baxis": {
            "gridcolor": "white",
            "linecolor": "white",
            "ticks": ""
           },
           "bgcolor": "#E5ECF6",
           "caxis": {
            "gridcolor": "white",
            "linecolor": "white",
            "ticks": ""
           }
          },
          "title": {
           "x": 0.05
          },
          "xaxis": {
           "automargin": true,
           "gridcolor": "white",
           "linecolor": "white",
           "ticks": "",
           "title": {
            "standoff": 15
           },
           "zerolinecolor": "white",
           "zerolinewidth": 2
          },
          "yaxis": {
           "automargin": true,
           "gridcolor": "white",
           "linecolor": "white",
           "ticks": "",
           "title": {
            "standoff": 15
           },
           "zerolinecolor": "white",
           "zerolinewidth": 2
          }
         }
        },
        "title": {
         "text": "Optimization History Plot"
        },
        "xaxis": {
         "title": {
          "text": "Trial"
         }
        },
        "yaxis": {
         "title": {
          "text": "Objective Value"
         }
        }
       }
      }
     },
     "metadata": {},
     "output_type": "display_data"
    }
   ],
   "source": [
    "# Create study object and perform optimization\n",
    "study = optuna.create_study(direction='minimize')\n",
    "study.optimize(objective, n_trials=20)  \n",
    "\n",
    "# Best hyperparameters\n",
    "best_hyperparams = study.best_trial.params\n",
    "print('Best hyperparameters:', best_hyperparams)\n",
    "\n",
    "# Plot optimization history\n",
    "optimization_history = plot_optimization_history(study)\n",
    "optimization_history.show()"
   ]
  },
  {
   "cell_type": "markdown",
   "metadata": {},
   "source": [
    "### Best hyperparameters: {'learning_rate': 0.08824886102831243, 'hidden_size': 256, 'num_layers': 3, 'dropout_rate': 0.3585018865727707}"
   ]
  },
  {
   "cell_type": "markdown",
   "metadata": {},
   "source": [
    "### Training and Validation"
   ]
  },
  {
   "cell_type": "code",
   "execution_count": 23,
   "metadata": {},
   "outputs": [
    {
     "name": "stdout",
     "output_type": "stream",
     "text": [
      "SoCDNN(\n",
      "  (hidden_layers): ModuleList(\n",
      "    (0): Linear(in_features=5, out_features=256, bias=True)\n",
      "    (1): Linear(in_features=256, out_features=128, bias=True)\n",
      "    (2): Linear(in_features=128, out_features=64, bias=True)\n",
      "  )\n",
      "  (batch_norm_layers): ModuleList(\n",
      "    (0): BatchNorm1d(256, eps=1e-05, momentum=0.1, affine=True, track_running_stats=True)\n",
      "    (1): BatchNorm1d(128, eps=1e-05, momentum=0.1, affine=True, track_running_stats=True)\n",
      "    (2): BatchNorm1d(64, eps=1e-05, momentum=0.1, affine=True, track_running_stats=True)\n",
      "  )\n",
      "  (output_layer): Linear(in_features=64, out_features=1, bias=True)\n",
      "  (relu): ReLU()\n",
      "  (dropout): Dropout(p=0.3585018865727707, inplace=False)\n",
      ")\n",
      "Trainable parameters: 43649\n"
     ]
    }
   ],
   "source": [
    "hidden_size = best_hyperparams['hidden_size']\n",
    "num_layers = best_hyperparams['num_layers']\n",
    "dropout = best_hyperparams['dropout_rate']\n",
    "lr = best_hyperparams['learning_rate']\n",
    "\n",
    "# Train the final model with the best hyperparameters\n",
    "model = SoCDNN(input_size=len(FEATURE_COLS), hidden_size=hidden_size, num_layers=num_layers, dropout=dropout).to(device)\n",
    "optimizer = optim.Adam(model.parameters(), lr=lr, weight_decay=0.01)\n",
    "criterion = nn.MSELoss()\n",
    "\n",
    "print(model)\n",
    "total_params = sum(p.numel() for p in model.parameters())\n",
    "print(f\"Trainable parameters: {total_params}\")"
   ]
  },
  {
   "cell_type": "code",
   "execution_count": 24,
   "metadata": {},
   "outputs": [
    {
     "name": "stderr",
     "output_type": "stream",
     "text": [
      "Epoch: 0/50: 100%|██████████| 3985/3985 [00:56<00:00, 70.55it/s]\n"
     ]
    },
    {
     "name": "stdout",
     "output_type": "stream",
     "text": [
      "Epoch 1/50, Train Loss: 0.02696431957400279, Validation Loss: 0.15978686657651706\n",
      "Time taken for epoch: 56.48434687 seconds\n"
     ]
    },
    {
     "name": "stderr",
     "output_type": "stream",
     "text": [
      "Epoch: 1/50: 100%|██████████| 3985/3985 [00:56<00:00, 71.01it/s]\n"
     ]
    },
    {
     "name": "stdout",
     "output_type": "stream",
     "text": [
      "Epoch 2/50, Train Loss: 0.027282754074749414, Validation Loss: 0.1004490816400231\n",
      "Time taken for epoch: 56.12385583 seconds\n"
     ]
    },
    {
     "name": "stderr",
     "output_type": "stream",
     "text": [
      "Epoch: 2/50: 100%|██████████| 3985/3985 [00:56<00:00, 70.30it/s]\n"
     ]
    },
    {
     "name": "stdout",
     "output_type": "stream",
     "text": [
      "Epoch 3/50, Train Loss: 0.02737669247054171, Validation Loss: 0.07936445935905638\n",
      "Time taken for epoch: 56.68626618 seconds\n"
     ]
    },
    {
     "name": "stderr",
     "output_type": "stream",
     "text": [
      "Epoch: 3/50: 100%|██████████| 3985/3985 [00:56<00:00, 70.53it/s]\n"
     ]
    },
    {
     "name": "stdout",
     "output_type": "stream",
     "text": [
      "Epoch 4/50, Train Loss: 0.02712986215836879, Validation Loss: 0.04348336465467621\n",
      "Time taken for epoch: 56.50159717 seconds\n"
     ]
    },
    {
     "name": "stderr",
     "output_type": "stream",
     "text": [
      "Epoch: 4/50: 100%|██████████| 3985/3985 [00:57<00:00, 69.06it/s]\n"
     ]
    },
    {
     "name": "stdout",
     "output_type": "stream",
     "text": [
      "Epoch 5/50, Train Loss: 0.02732808349544236, Validation Loss: 0.2759951331392068\n",
      "Time taken for epoch: 57.70701313 seconds\n"
     ]
    },
    {
     "name": "stderr",
     "output_type": "stream",
     "text": [
      "Epoch: 5/50: 100%|██████████| 3985/3985 [00:56<00:00, 70.49it/s]\n"
     ]
    },
    {
     "name": "stdout",
     "output_type": "stream",
     "text": [
      "Epoch 6/50, Train Loss: 0.026736310065503102, Validation Loss: 0.05686876375969442\n",
      "Time taken for epoch: 56.53953791 seconds\n"
     ]
    },
    {
     "name": "stderr",
     "output_type": "stream",
     "text": [
      "Epoch: 6/50: 100%|██████████| 3985/3985 [00:57<00:00, 69.02it/s]\n"
     ]
    },
    {
     "name": "stdout",
     "output_type": "stream",
     "text": [
      "Epoch 7/50, Train Loss: 0.026478338894087218, Validation Loss: 0.08256745250969655\n",
      "Time taken for epoch: 57.74070811 seconds\n"
     ]
    },
    {
     "name": "stderr",
     "output_type": "stream",
     "text": [
      "Epoch: 7/50: 100%|██████████| 3985/3985 [00:56<00:00, 70.16it/s]\n"
     ]
    },
    {
     "name": "stdout",
     "output_type": "stream",
     "text": [
      "Epoch 8/50, Train Loss: 0.02615441034549153, Validation Loss: 0.06937145840565921\n",
      "Time taken for epoch: 56.80421400 seconds\n"
     ]
    },
    {
     "name": "stderr",
     "output_type": "stream",
     "text": [
      "Epoch: 8/50: 100%|██████████| 3985/3985 [00:58<00:00, 68.70it/s]\n"
     ]
    },
    {
     "name": "stdout",
     "output_type": "stream",
     "text": [
      "Epoch 9/50, Train Loss: 0.026279832943432602, Validation Loss: 0.0933407660866217\n",
      "Time taken for epoch: 58.01028514 seconds\n",
      "Early stopping triggered\n"
     ]
    },
    {
     "name": "stderr",
     "output_type": "stream",
     "text": [
      "Epoch: 9/50: 100%|██████████| 3985/3985 [00:56<00:00, 70.02it/s]\n"
     ]
    },
    {
     "name": "stdout",
     "output_type": "stream",
     "text": [
      "Epoch 10/50, Train Loss: 0.025735230266655255, Validation Loss: 0.06407769855087316\n",
      "Time taken for epoch: 56.91339588 seconds\n",
      "Early stopping triggered\n"
     ]
    },
    {
     "name": "stderr",
     "output_type": "stream",
     "text": [
      "Epoch: 10/50: 100%|██████████| 3985/3985 [00:58<00:00, 68.54it/s]\n"
     ]
    },
    {
     "name": "stdout",
     "output_type": "stream",
     "text": [
      "Epoch 11/50, Train Loss: 0.025218874242254902, Validation Loss: 0.0958705848649852\n",
      "Time taken for epoch: 58.14317417 seconds\n",
      "Early stopping triggered\n"
     ]
    },
    {
     "name": "stderr",
     "output_type": "stream",
     "text": [
      "Epoch: 11/50: 100%|██████████| 3985/3985 [00:56<00:00, 70.49it/s]\n"
     ]
    },
    {
     "name": "stdout",
     "output_type": "stream",
     "text": [
      "Epoch 12/50, Train Loss: 0.025263157666870012, Validation Loss: 0.11701311723510231\n",
      "Time taken for epoch: 56.53645396 seconds\n",
      "Early stopping triggered\n"
     ]
    },
    {
     "name": "stderr",
     "output_type": "stream",
     "text": [
      "Epoch: 12/50: 100%|██████████| 3985/3985 [00:58<00:00, 68.12it/s]\n"
     ]
    },
    {
     "name": "stdout",
     "output_type": "stream",
     "text": [
      "Epoch 13/50, Train Loss: 0.02546308710703736, Validation Loss: 0.1799590538410709\n",
      "Time taken for epoch: 58.50525594 seconds\n",
      "Early stopping triggered\n"
     ]
    },
    {
     "name": "stderr",
     "output_type": "stream",
     "text": [
      "Epoch: 13/50: 100%|██████████| 3985/3985 [00:56<00:00, 70.63it/s]\n"
     ]
    },
    {
     "name": "stdout",
     "output_type": "stream",
     "text": [
      "Epoch 14/50, Train Loss: 0.025791339741241526, Validation Loss: 0.060712099686354645\n",
      "Time taken for epoch: 56.42560101 seconds\n",
      "Early stopping triggered\n"
     ]
    },
    {
     "name": "stderr",
     "output_type": "stream",
     "text": [
      "Epoch: 14/50: 100%|██████████| 3985/3985 [00:58<00:00, 68.43it/s]\n"
     ]
    },
    {
     "name": "stdout",
     "output_type": "stream",
     "text": [
      "Epoch 15/50, Train Loss: 0.025038861443605297, Validation Loss: 0.053167674355882065\n",
      "Time taken for epoch: 58.23941112 seconds\n",
      "Early stopping triggered\n"
     ]
    },
    {
     "name": "stderr",
     "output_type": "stream",
     "text": [
      "Epoch: 15/50: 100%|██████████| 3985/3985 [00:56<00:00, 70.07it/s]\n"
     ]
    },
    {
     "name": "stdout",
     "output_type": "stream",
     "text": [
      "Epoch 16/50, Train Loss: 0.024769991139882482, Validation Loss: 0.07032237179237606\n",
      "Time taken for epoch: 56.87121201 seconds\n",
      "Early stopping triggered\n"
     ]
    },
    {
     "name": "stderr",
     "output_type": "stream",
     "text": [
      "Epoch: 16/50: 100%|██████████| 3985/3985 [00:57<00:00, 69.08it/s]\n"
     ]
    },
    {
     "name": "stdout",
     "output_type": "stream",
     "text": [
      "Epoch 17/50, Train Loss: 0.02487585716501084, Validation Loss: 0.045664091875741455\n",
      "Time taken for epoch: 57.68711495 seconds\n",
      "Early stopping triggered\n"
     ]
    },
    {
     "name": "stderr",
     "output_type": "stream",
     "text": [
      "Epoch: 17/50: 100%|██████████| 3985/3985 [00:56<00:00, 70.09it/s]\n"
     ]
    },
    {
     "name": "stdout",
     "output_type": "stream",
     "text": [
      "Epoch 18/50, Train Loss: 0.02464315728208464, Validation Loss: 0.07925656006059423\n",
      "Time taken for epoch: 56.86007714 seconds\n",
      "Early stopping triggered\n"
     ]
    },
    {
     "name": "stderr",
     "output_type": "stream",
     "text": [
      "Epoch: 18/50: 100%|██████████| 3985/3985 [00:58<00:00, 68.26it/s]\n"
     ]
    },
    {
     "name": "stdout",
     "output_type": "stream",
     "text": [
      "Epoch 19/50, Train Loss: 0.024566293362448626, Validation Loss: 0.07403819014007647\n",
      "Time taken for epoch: 58.38514400 seconds\n",
      "Early stopping triggered\n"
     ]
    },
    {
     "name": "stderr",
     "output_type": "stream",
     "text": [
      "Epoch: 19/50: 100%|██████████| 3985/3985 [00:56<00:00, 70.01it/s]\n"
     ]
    },
    {
     "name": "stdout",
     "output_type": "stream",
     "text": [
      "Epoch 20/50, Train Loss: 0.024515862462380748, Validation Loss: 0.07779613728846263\n",
      "Time taken for epoch: 56.92494988 seconds\n",
      "Early stopping triggered\n"
     ]
    },
    {
     "name": "stderr",
     "output_type": "stream",
     "text": [
      "Epoch: 20/50: 100%|██████████| 3985/3985 [00:58<00:00, 68.33it/s]\n"
     ]
    },
    {
     "name": "stdout",
     "output_type": "stream",
     "text": [
      "Epoch 21/50, Train Loss: 0.02469384110248747, Validation Loss: 0.08248353172864048\n",
      "Time taken for epoch: 58.31814790 seconds\n",
      "Early stopping triggered\n"
     ]
    },
    {
     "name": "stderr",
     "output_type": "stream",
     "text": [
      "Epoch: 21/50: 100%|██████████| 3985/3985 [00:56<00:00, 70.20it/s]\n"
     ]
    },
    {
     "name": "stdout",
     "output_type": "stream",
     "text": [
      "Epoch 22/50, Train Loss: 0.024734220646761142, Validation Loss: 0.06452033575641149\n",
      "Time taken for epoch: 56.77268291 seconds\n",
      "Early stopping triggered\n"
     ]
    },
    {
     "name": "stderr",
     "output_type": "stream",
     "text": [
      "Epoch: 22/50: 100%|██████████| 3985/3985 [00:58<00:00, 67.62it/s]\n"
     ]
    },
    {
     "name": "stdout",
     "output_type": "stream",
     "text": [
      "Epoch 23/50, Train Loss: 0.024545178587643088, Validation Loss: 0.10421897451438758\n",
      "Time taken for epoch: 58.93113089 seconds\n",
      "Early stopping triggered\n"
     ]
    },
    {
     "name": "stderr",
     "output_type": "stream",
     "text": [
      "Epoch: 23/50: 100%|██████████| 3985/3985 [00:56<00:00, 70.33it/s]\n"
     ]
    },
    {
     "name": "stdout",
     "output_type": "stream",
     "text": [
      "Epoch 24/50, Train Loss: 0.024500907539685667, Validation Loss: 0.089673729226906\n",
      "Time taken for epoch: 56.66550779 seconds\n",
      "Early stopping triggered\n"
     ]
    },
    {
     "name": "stderr",
     "output_type": "stream",
     "text": [
      "Epoch: 24/50: 100%|██████████| 3985/3985 [00:57<00:00, 68.80it/s]\n"
     ]
    },
    {
     "name": "stdout",
     "output_type": "stream",
     "text": [
      "Epoch 25/50, Train Loss: 0.02471186518949577, Validation Loss: 0.06856447827648968\n",
      "Time taken for epoch: 57.92107511 seconds\n",
      "Early stopping triggered\n"
     ]
    },
    {
     "name": "stderr",
     "output_type": "stream",
     "text": [
      "Epoch: 25/50: 100%|██████████| 3985/3985 [00:56<00:00, 70.05it/s]\n"
     ]
    },
    {
     "name": "stdout",
     "output_type": "stream",
     "text": [
      "Epoch 26/50, Train Loss: 0.02454489302895075, Validation Loss: 0.7820900205932207\n",
      "Time taken for epoch: 56.89377522 seconds\n",
      "Early stopping triggered\n"
     ]
    },
    {
     "name": "stderr",
     "output_type": "stream",
     "text": [
      "Epoch: 26/50: 100%|██████████| 3985/3985 [00:57<00:00, 68.77it/s]\n"
     ]
    },
    {
     "name": "stdout",
     "output_type": "stream",
     "text": [
      "Epoch 27/50, Train Loss: 0.02466247148176134, Validation Loss: 0.08456480168061523\n",
      "Time taken for epoch: 57.94976497 seconds\n",
      "Early stopping triggered\n"
     ]
    },
    {
     "name": "stderr",
     "output_type": "stream",
     "text": [
      "Epoch: 27/50: 100%|██████████| 3985/3985 [00:56<00:00, 70.07it/s]\n"
     ]
    },
    {
     "name": "stdout",
     "output_type": "stream",
     "text": [
      "Epoch 28/50, Train Loss: 0.024479270440852328, Validation Loss: 0.15768153194593926\n",
      "Time taken for epoch: 56.87701988 seconds\n",
      "Early stopping triggered\n"
     ]
    },
    {
     "name": "stderr",
     "output_type": "stream",
     "text": [
      "Epoch: 28/50: 100%|██████████| 3985/3985 [00:57<00:00, 69.26it/s]\n"
     ]
    },
    {
     "name": "stdout",
     "output_type": "stream",
     "text": [
      "Epoch 29/50, Train Loss: 0.024477219658259913, Validation Loss: 0.2926998988567803\n",
      "Time taken for epoch: 57.53883219 seconds\n",
      "Early stopping triggered\n"
     ]
    },
    {
     "name": "stderr",
     "output_type": "stream",
     "text": [
      "Epoch: 29/50: 100%|██████████| 3985/3985 [00:56<00:00, 70.11it/s]\n"
     ]
    },
    {
     "name": "stdout",
     "output_type": "stream",
     "text": [
      "Epoch 30/50, Train Loss: 0.02468977710010117, Validation Loss: 0.3955584651887164\n",
      "Time taken for epoch: 56.84451699 seconds\n",
      "Early stopping triggered\n"
     ]
    },
    {
     "name": "stderr",
     "output_type": "stream",
     "text": [
      "Epoch: 30/50: 100%|██████████| 3985/3985 [00:57<00:00, 69.01it/s]\n"
     ]
    },
    {
     "name": "stdout",
     "output_type": "stream",
     "text": [
      "Epoch 31/50, Train Loss: 0.024624253876759684, Validation Loss: 0.08300628503109916\n",
      "Time taken for epoch: 57.74412990 seconds\n",
      "Early stopping triggered\n"
     ]
    },
    {
     "name": "stderr",
     "output_type": "stream",
     "text": [
      "Epoch: 31/50: 100%|██████████| 3985/3985 [00:56<00:00, 69.97it/s]\n"
     ]
    },
    {
     "name": "stdout",
     "output_type": "stream",
     "text": [
      "Epoch 32/50, Train Loss: 0.024465997651724174, Validation Loss: 0.08772242504154013\n",
      "Time taken for epoch: 56.95649219 seconds\n",
      "Early stopping triggered\n"
     ]
    },
    {
     "name": "stderr",
     "output_type": "stream",
     "text": [
      "Epoch: 32/50: 100%|██████████| 3985/3985 [00:56<00:00, 70.17it/s]\n"
     ]
    },
    {
     "name": "stdout",
     "output_type": "stream",
     "text": [
      "Epoch 33/50, Train Loss: 0.024860238632563515, Validation Loss: 0.12170933813056549\n",
      "Time taken for epoch: 56.79379129 seconds\n",
      "Early stopping triggered\n"
     ]
    },
    {
     "name": "stderr",
     "output_type": "stream",
     "text": [
      "Epoch: 33/50: 100%|██████████| 3985/3985 [00:57<00:00, 69.56it/s]\n"
     ]
    },
    {
     "name": "stdout",
     "output_type": "stream",
     "text": [
      "Epoch 34/50, Train Loss: 0.025215892195514632, Validation Loss: 0.0629397749358297\n",
      "Time taken for epoch: 57.28742790 seconds\n",
      "Early stopping triggered\n"
     ]
    },
    {
     "name": "stderr",
     "output_type": "stream",
     "text": [
      "Epoch: 34/50: 100%|██████████| 3985/3985 [00:57<00:00, 69.32it/s]\n"
     ]
    },
    {
     "name": "stdout",
     "output_type": "stream",
     "text": [
      "Epoch 35/50, Train Loss: 0.02491502246750493, Validation Loss: 0.08916812180887031\n",
      "Time taken for epoch: 57.48792887 seconds\n",
      "Early stopping triggered\n"
     ]
    },
    {
     "name": "stderr",
     "output_type": "stream",
     "text": [
      "Epoch: 35/50: 100%|██████████| 3985/3985 [00:56<00:00, 70.01it/s]\n"
     ]
    },
    {
     "name": "stdout",
     "output_type": "stream",
     "text": [
      "Epoch 36/50, Train Loss: 0.025242717612717052, Validation Loss: 0.3388366496987218\n",
      "Time taken for epoch: 56.92269421 seconds\n",
      "Early stopping triggered\n"
     ]
    },
    {
     "name": "stderr",
     "output_type": "stream",
     "text": [
      "Epoch: 36/50: 100%|██████████| 3985/3985 [00:56<00:00, 70.02it/s]\n"
     ]
    },
    {
     "name": "stdout",
     "output_type": "stream",
     "text": [
      "Epoch 37/50, Train Loss: 0.02470666022230421, Validation Loss: 0.10420385339955679\n",
      "Time taken for epoch: 56.91392612 seconds\n",
      "Early stopping triggered\n"
     ]
    },
    {
     "name": "stderr",
     "output_type": "stream",
     "text": [
      "Epoch: 37/50: 100%|██████████| 3985/3985 [00:57<00:00, 69.84it/s]\n"
     ]
    },
    {
     "name": "stdout",
     "output_type": "stream",
     "text": [
      "Epoch 38/50, Train Loss: 0.025118177665988804, Validation Loss: 0.06224323822251089\n",
      "Time taken for epoch: 57.05861378 seconds\n",
      "Early stopping triggered\n"
     ]
    },
    {
     "name": "stderr",
     "output_type": "stream",
     "text": [
      "Epoch: 38/50: 100%|██████████| 3985/3985 [00:57<00:00, 69.90it/s]\n"
     ]
    },
    {
     "name": "stdout",
     "output_type": "stream",
     "text": [
      "Epoch 39/50, Train Loss: 0.024974458990443305, Validation Loss: 0.06283916651390328\n",
      "Time taken for epoch: 57.01066089 seconds\n",
      "Early stopping triggered\n"
     ]
    },
    {
     "name": "stderr",
     "output_type": "stream",
     "text": [
      "Epoch: 39/50: 100%|██████████| 3985/3985 [00:56<00:00, 70.22it/s]\n"
     ]
    },
    {
     "name": "stdout",
     "output_type": "stream",
     "text": [
      "Epoch 40/50, Train Loss: 0.024626880483596656, Validation Loss: 0.07153529759322895\n",
      "Time taken for epoch: 56.75463223 seconds\n",
      "Early stopping triggered\n"
     ]
    },
    {
     "name": "stderr",
     "output_type": "stream",
     "text": [
      "Epoch: 40/50: 100%|██████████| 3985/3985 [00:57<00:00, 69.85it/s]\n"
     ]
    },
    {
     "name": "stdout",
     "output_type": "stream",
     "text": [
      "Epoch 41/50, Train Loss: 0.024533977586696558, Validation Loss: 0.0704516135630068\n",
      "Time taken for epoch: 57.05091691 seconds\n",
      "Early stopping triggered\n"
     ]
    },
    {
     "name": "stderr",
     "output_type": "stream",
     "text": [
      "Epoch: 41/50: 100%|██████████| 3985/3985 [00:56<00:00, 70.10it/s]\n"
     ]
    },
    {
     "name": "stdout",
     "output_type": "stream",
     "text": [
      "Epoch 42/50, Train Loss: 0.024680300441148738, Validation Loss: 0.4432761012880575\n",
      "Time taken for epoch: 56.84799790 seconds\n",
      "Early stopping triggered\n"
     ]
    },
    {
     "name": "stderr",
     "output_type": "stream",
     "text": [
      "Epoch: 42/50: 100%|██████████| 3985/3985 [00:56<00:00, 70.11it/s]\n"
     ]
    },
    {
     "name": "stdout",
     "output_type": "stream",
     "text": [
      "Epoch 43/50, Train Loss: 0.0249504089794838, Validation Loss: 0.07457444649310727\n",
      "Time taken for epoch: 56.84223080 seconds\n",
      "Early stopping triggered\n"
     ]
    },
    {
     "name": "stderr",
     "output_type": "stream",
     "text": [
      "Epoch: 43/50: 100%|██████████| 3985/3985 [00:56<00:00, 70.45it/s]\n"
     ]
    },
    {
     "name": "stdout",
     "output_type": "stream",
     "text": [
      "Epoch 44/50, Train Loss: 0.02471611741018789, Validation Loss: 0.06936418266541913\n",
      "Time taken for epoch: 56.56383109 seconds\n",
      "Early stopping triggered\n"
     ]
    },
    {
     "name": "stderr",
     "output_type": "stream",
     "text": [
      "Epoch: 44/50: 100%|██████████| 3985/3985 [00:56<00:00, 70.53it/s]\n"
     ]
    },
    {
     "name": "stdout",
     "output_type": "stream",
     "text": [
      "Epoch 45/50, Train Loss: 0.024402509374050904, Validation Loss: 0.04434104948638845\n",
      "Time taken for epoch: 56.50203133 seconds\n",
      "Early stopping triggered\n"
     ]
    },
    {
     "name": "stderr",
     "output_type": "stream",
     "text": [
      "Epoch: 45/50: 100%|██████████| 3985/3985 [00:56<00:00, 70.52it/s]\n"
     ]
    },
    {
     "name": "stdout",
     "output_type": "stream",
     "text": [
      "Epoch 46/50, Train Loss: 0.02447009340648445, Validation Loss: 0.40346276110666784\n",
      "Time taken for epoch: 56.51234412 seconds\n",
      "Early stopping triggered\n"
     ]
    },
    {
     "name": "stderr",
     "output_type": "stream",
     "text": [
      "Epoch: 46/50: 100%|██████████| 3985/3985 [00:56<00:00, 70.14it/s]\n"
     ]
    },
    {
     "name": "stdout",
     "output_type": "stream",
     "text": [
      "Epoch 47/50, Train Loss: 0.02509250958290049, Validation Loss: 0.05911044121632117\n",
      "Time taken for epoch: 56.81911397 seconds\n",
      "Early stopping triggered\n"
     ]
    },
    {
     "name": "stderr",
     "output_type": "stream",
     "text": [
      "Epoch: 47/50: 100%|██████████| 3985/3985 [00:56<00:00, 70.68it/s]\n"
     ]
    },
    {
     "name": "stdout",
     "output_type": "stream",
     "text": [
      "Epoch 48/50, Train Loss: 0.024659108717831196, Validation Loss: 0.07940226770471442\n",
      "Time taken for epoch: 56.38306308 seconds\n",
      "Early stopping triggered\n"
     ]
    },
    {
     "name": "stderr",
     "output_type": "stream",
     "text": [
      "Epoch: 48/50: 100%|██████████| 3985/3985 [00:56<00:00, 70.04it/s]\n"
     ]
    },
    {
     "name": "stdout",
     "output_type": "stream",
     "text": [
      "Epoch 49/50, Train Loss: 0.024843743248109985, Validation Loss: 0.07735468699142016\n",
      "Time taken for epoch: 56.89428401 seconds\n",
      "Early stopping triggered\n"
     ]
    },
    {
     "name": "stderr",
     "output_type": "stream",
     "text": [
      "Epoch: 49/50: 100%|██████████| 3985/3985 [00:56<00:00, 70.56it/s]\n"
     ]
    },
    {
     "name": "stdout",
     "output_type": "stream",
     "text": [
      "Epoch 50/50, Train Loss: 0.024704630450909978, Validation Loss: 0.09099107531621943\n",
      "Time taken for epoch: 56.48180079 seconds\n",
      "Early stopping triggered\n"
     ]
    },
    {
     "data": {
      "image/png": "[encoded data removed]",
      "text/plain": [
       "<Figure size 1000x500 with 1 Axes>"
      ]
     },
     "metadata": {},
     "output_type": "display_data"
    }
   ],
   "source": [
    "EPOCHS = 50\n",
    "history = train_and_validate(model, criterion, optimizer, train_loader, val_loader, EPOCHS, device)\n",
    "\n",
    "# Plot training history\n",
    "plt.figure(figsize=(10, 5))\n",
    "plt.plot(history['train_loss'], label='Train Loss')\n",
    "plt.plot(history['val_loss'], label='Validation Loss')\n",
    "plt.xlabel('Epoch')\n",
    "plt.ylabel('Loss')\n",
    "plt.title('Training and Validation Loss Over Epochs')\n",
    "plt.legend()\n",
    "plt.grid(True)\n",
    "plt.show()\n",
    "\n",
    "# Save the model\n",
    "model_path = \"soc_dnn_model.pth\"\n",
    "torch.save({'model_state_dict': model.state_dict(), 'input_size': len(FEATURE_COLS)}, model_path)"
   ]
  },
  {
   "cell_type": "markdown",
   "metadata": {},
   "source": [
    "### Testing"
   ]
  },
  {
   "cell_type": "code",
   "execution_count": 25,
   "metadata": {},
   "outputs": [],
   "source": [
    "model_path = \"soc_dnn_model.pth\"\n",
    "\n",
    "def load_model(model_path, input_size):\n",
    "    model = SoCDNN(input_size=len(FEATURE_COLS), hidden_size=hidden_size, num_layers=num_layers, dropout=dropout).to(device)\n",
    "    model.load_state_dict(torch.load(model_path, map_location=device)['model_state_dict'])\n",
    "    model.to(device)\n",
    "    model.eval()\n",
    "    return model\n",
    "\n",
    "loaded_model = load_model(model_path, len(FEATURE_COLS))"
   ]
  },
  {
   "cell_type": "code",
   "execution_count": 26,
   "metadata": {},
   "outputs": [],
   "source": [
    "def test_model(model, test_loader, device):\n",
    "    model.eval()\n",
    "    test_predictions = []\n",
    "    test_labels = []\n",
    "\n",
    "    with torch.no_grad():\n",
    "        for inputs, labels, _, _ in test_loader: \n",
    "            inputs, labels = inputs.to(device), labels.to(device)\n",
    "            outputs = model(inputs)\n",
    "            test_predictions.extend(outputs.cpu().view(-1).tolist())\n",
    "            test_labels.extend(labels.cpu().view(-1).tolist())\n",
    "\n",
    "    return test_predictions, test_labels\n",
    "\n",
    "# Evaluate the model\n",
    "test_predictions, test_labels = test_model(loaded_model, test_loader, device)\n",
    "\n",
    "# Convert predictions and labels to numpy arrays for error calculation\n",
    "test_predictions_np = np.array(test_predictions)\n",
    "test_labels_np = np.array(test_labels)"
   ]
  },
  {
   "cell_type": "code",
   "execution_count": 27,
   "metadata": {},
   "outputs": [
    {
     "name": "stdout",
     "output_type": "stream",
     "text": [
      "Test MSE: 0.037208\n",
      "Test MAE: 0.161848\n",
      "Test StdDev: 0.175049\n"
     ]
    }
   ],
   "source": [
    "# Calculate metrics MAE, MSE, STD\n",
    "mse = mean_squared_error(test_labels_np, test_predictions_np)\n",
    "mae = mean_absolute_error(test_labels_np, test_predictions_np)\n",
    "stddev = np.std(test_labels_np - test_predictions_np)\n",
    "\n",
    "print(f\"Test MSE: {mse:.6f}\")\n",
    "print(f\"Test MAE: {mae:.6f}\")\n",
    "print(f\"Test StdDev: {stddev:.6f}\")"
   ]
  },
  {
   "cell_type": "code",
   "execution_count": 28,
   "metadata": {},
   "outputs": [
    {
     "data": {
      "image/png": "[encoded data removed]",
      "text/plain": [
       "<Figure size 800x800 with 1 Axes>"
      ]
     },
     "metadata": {},
     "output_type": "display_data"
    }
   ],
   "source": [
    "plt.figure(figsize=(8, 8))\n",
    "plt.scatter(test_labels, test_predictions, alpha=0.5)\n",
    "plt.xlabel('True Values [SOC]')\n",
    "plt.ylabel('Predictions [SOC]')\n",
    "plt.axis('equal')\n",
    "plt.axis('square')\n",
    "plt.xlim([0, 1])\n",
    "plt.ylim([0, 1])\n",
    "plt.plot([0, 1], [0, 1], color='red') \n",
    "plt.title('Predicted SOC vs True SOC')\n",
    "plt.show()"
   ]
  },
  {
   "cell_type": "markdown",
   "metadata": {},
   "source": [
    "### Qualitative Comparison"
   ]
  },
  {
   "cell_type": "code",
   "execution_count": 29,
   "metadata": {},
   "outputs": [
    {
     "data": {
      "image/png": "[encoded data removed]",
      "text/plain": [
       "<Figure size 1200x600 with 1 Axes>"
      ]
     },
     "metadata": {},
     "output_type": "display_data"
    },
    {
     "data": {
      "image/png": "[encoded data removed]",
      "text/plain": [
       "<Figure size 1200x600 with 1 Axes>"
      ]
     },
     "metadata": {},
     "output_type": "display_data"
    },
    {
     "data": {
      "image/png": "[encoded data removed]",
      "text/plain": [
       "<Figure size 1200x600 with 1 Axes>"
      ]
     },
     "metadata": {},
     "output_type": "display_data"
    },
    {
     "data": {
      "image/png": "[encoded data removed]",
      "text/plain": [
       "<Figure size 1200x600 with 1 Axes>"
      ]
     },
     "metadata": {},
     "output_type": "display_data"
    },
    {
     "data": {
      "image/png": "[encoded data removed]",
      "text/plain": [
       "<Figure size 1200x600 with 1 Axes>"
      ]
     },
     "metadata": {},
     "output_type": "display_data"
    },
    {
     "data": {
      "image/png": "[encoded data removed]",
      "text/plain": [
       "<Figure size 1200x600 with 1 Axes>"
      ]
     },
     "metadata": {},
     "output_type": "display_data"
    }
   ],
   "source": [
    "def test_model(model, test_loader, device):\n",
    "    model.eval()\n",
    "    test_results = {}\n",
    "\n",
    "    with torch.no_grad():\n",
    "        for inputs, labels, filenames, times in test_loader: \n",
    "            inputs, labels = inputs.to(device), labels.to(device)\n",
    "            outputs = model(inputs)\n",
    "            predictions = outputs.cpu().view(-1).numpy()\n",
    "            labels = labels.cpu().view(-1).numpy()\n",
    "\n",
    "            for filename, time, pred, label in zip(filenames, times, predictions, labels):\n",
    "                if filename not in test_results:\n",
    "                    test_results[filename] = {'times': [], 'predictions': [], 'labels': []}\n",
    "                test_results[filename]['times'].append(time)\n",
    "                test_results[filename]['predictions'].append(pred)\n",
    "                test_results[filename]['labels'].append(label)\n",
    "\n",
    "    return test_results\n",
    "\n",
    "def plot_soc_over_time(test_results):\n",
    "    for filename, data in test_results.items():\n",
    "        times = data['times']\n",
    "        predictions = data['predictions']\n",
    "        labels = data['labels']\n",
    "\n",
    "        plt.figure(figsize=(12, 6))\n",
    "        plt.plot(times, labels, label='True SOC', color='blue')\n",
    "        plt.plot(times, predictions, label='Predicted SOC', color='red')\n",
    "        plt.title(f'Test File: {filename}')\n",
    "        plt.xlabel('Time [s]')\n",
    "        plt.ylabel('SOC')\n",
    "        plt.legend()\n",
    "        plt.show()\n",
    "\n",
    "# Evaluate the model on the test set\n",
    "test_results = test_model(loaded_model, test_loader, device)\n",
    "\n",
    "# Plot the SOC over time for each test file\n",
    "plot_soc_over_time(test_results)"
   ]
  }
 ],
 "metadata": {
  "kernelspec": {
   "display_name": "Python 3",
   "language": "python",
   "name": "python3"
  },
  "language_info": {
   "codemirror_mode": {
    "name": "ipython",
    "version": 3
   },
   "file_extension": ".py",
   "mimetype": "text/x-python",
   "name": "python",
   "nbconvert_exporter": "python",
   "pygments_lexer": "ipython3",
   "version": "3.9.6"
  }
 },
 "nbformat": 4,
 "nbformat_minor": 2
}
