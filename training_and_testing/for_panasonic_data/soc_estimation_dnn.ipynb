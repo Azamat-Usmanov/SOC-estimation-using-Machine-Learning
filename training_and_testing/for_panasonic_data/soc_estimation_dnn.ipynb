{
 "cells": [
  {
   "cell_type": "markdown",
   "metadata": {},
   "source": [
    "### Deep Neural Network for SOC Prediction with using Panasonic 18650PF Li-ion Battery\n",
    "\n",
    "Panasonic 18650PF Li-ion Battery DataSet - https://data.mendeley.com/datasets/wykht8y7tg/1"
   ]
  },
  {
   "cell_type": "code",
   "execution_count": 37,
   "metadata": {},
   "outputs": [],
   "source": [
    "import os\n",
    "import pandas as pd\n",
    "import numpy as np\n",
    "import torch\n",
    "import torch.nn as nn\n",
    "import torch.optim as optim\n",
    "from torch.utils.data import Dataset, DataLoader\n",
    "import matplotlib.pyplot as plt\n",
    "from sklearn.model_selection import train_test_split\n",
    "from sklearn.preprocessing import StandardScaler\n",
    "import optuna\n",
    "import time\n",
    "from optuna.visualization import plot_optimization_history\n",
    "from tqdm import tqdm\n",
    "from sklearn.metrics import mean_squared_error, mean_absolute_error"
   ]
  },
  {
   "cell_type": "code",
   "execution_count": 38,
   "metadata": {},
   "outputs": [],
   "source": [
    "PROCESSED_DATA_DIR = '../../datasets/Panasonic_dataset/Panasonic_processed'\n",
    "FEATURE_COLS = ['Voltage [V]', 'Current [A]', 'Temperature [degC]', 'Voltage Average', 'Current Average', 'Power [W]', 'Cumulative_Capacity_Ah']\n",
    "LABEL_COL = 'SOC [-]'\n",
    "BATCH_SIZE = 1024\n",
    "device = torch.device(\"cuda:0\" if torch.cuda.is_available() else \"cpu\")"
   ]
  },
  {
   "cell_type": "code",
   "execution_count": 39,
   "metadata": {},
   "outputs": [],
   "source": [
    "# Function to load data\n",
    "def load_data(directory, temperatures):\n",
    "    frames = []    \n",
    "    for temp_folder in os.listdir(directory):\n",
    "        if temp_folder in temperatures:\n",
    "            temp_path = os.path.join(directory, temp_folder)\n",
    "            for file in os.listdir(temp_path):\n",
    "                if 'Charge' in file or 'Dis' in file:\n",
    "                    continue  # Skip constant charge and discharge files\n",
    "                if file.endswith('.csv'):\n",
    "                    df = pd.read_csv(os.path.join(temp_path, file))\n",
    "                    df['SourceFile'] = file\n",
    "\n",
    "                    # Calculate power\n",
    "                    df['Power [W]'] = df['Voltage [V]'] * df['Current [A]']\n",
    "                    \n",
    "                    frames.append(df)\n",
    "    return pd.concat(frames, ignore_index=True)"
   ]
  },
  {
   "cell_type": "code",
   "execution_count": 40,
   "metadata": {},
   "outputs": [],
   "source": [
    "# Create Dataset\n",
    "class BatteryDatasetDNN(Dataset):\n",
    "    def __init__(self, data_tensor, labels_tensor, filenames=None, times=None):\n",
    "        self.features = data_tensor\n",
    "        self.labels = labels_tensor\n",
    "        self.filenames = filenames \n",
    "        self.times = times \n",
    "\n",
    "    def __len__(self):\n",
    "        return len(self.features)\n",
    "\n",
    "    def __getitem__(self, idx):\n",
    "        feature = self.features[idx]\n",
    "        label = self.labels[idx]\n",
    "        filename = self.filenames[idx]\n",
    "        time = self.times[idx]  \n",
    "        return feature, label, filename, time\n",
    "    \n",
    "    def get_unique_filenames(self):\n",
    "        return set(self.filenames)\n",
    "    \n",
    "    def get_times(self):\n",
    "        return self.times"
   ]
  },
  {
   "cell_type": "code",
   "execution_count": 41,
   "metadata": {},
   "outputs": [],
   "source": [
    "# DNN Model\n",
    "class SoCDNN(nn.Module):\n",
    "    def __init__(self, input_size, hidden_size, num_layers, dropout = 0.1):\n",
    "        super(SoCDNN, self).__init__()\n",
    "\n",
    "        self.hidden_layers = nn.ModuleList()\n",
    "        self.batch_norm_layers = nn.ModuleList()\n",
    "\n",
    "        # First layer\n",
    "        self.hidden_layers.append(nn.Linear(input_size, hidden_size))\n",
    "        self.batch_norm_layers.append(nn.BatchNorm1d(hidden_size))\n",
    "\n",
    "        # Dynamically add hidden layers\n",
    "        for i in range(1, num_layers):\n",
    "            layer_size = hidden_size // (2 ** i)\n",
    "            self.hidden_layers.append(nn.Linear(hidden_size // (2 ** (i - 1)), layer_size))\n",
    "            self.batch_norm_layers.append(nn.BatchNorm1d(layer_size))\n",
    "\n",
    "        # Output layer\n",
    "        self.output_layer = nn.Linear(hidden_size // (2 ** (num_layers - 1)), 1)\n",
    "\n",
    "        # Activation and Dropout against Regularization\n",
    "        self.relu = nn.ReLU()\n",
    "        self.dropout = nn.Dropout(dropout)\n",
    "\n",
    "    def forward(self, x):\n",
    "        for hidden_layer, batch_norm_layer in zip(self.hidden_layers, self.batch_norm_layers):\n",
    "            x = self.relu(batch_norm_layer(hidden_layer(x)))\n",
    "            x = self.dropout(x)\n",
    "\n",
    "        x = self.output_layer(x)\n",
    "        return x\n"
   ]
  },
  {
   "cell_type": "code",
   "execution_count": 42,
   "metadata": {},
   "outputs": [],
   "source": [
    "# Training loop with validation\n",
    "def train_and_validate(model, criterion, optimizer, train_loader, val_loader, epochs, device, patience=5, min_delta=0.0001):\n",
    "    history = {'train_loss': [], 'val_loss': []}\n",
    "\n",
    "    best_val_loss = float('inf')\n",
    "    epochs_no_improve = 0\n",
    "    \n",
    "    for epoch in range(epochs):\n",
    "        model.train()\n",
    "        train_loss = 0.0\n",
    "        epoch_start_time = time.time()\n",
    "        for _, (sequences, labels, _, _) in enumerate(tqdm(train_loader, desc=f'Epoch: {epoch}/{epochs}')):  \n",
    "            sequences, labels = sequences.to(device), labels.to(device)\n",
    "            labels = labels.unsqueeze(1) \n",
    "            optimizer.zero_grad()\n",
    "            outputs = model(sequences)\n",
    "            loss = criterion(outputs, labels)\n",
    "            loss.backward()\n",
    "            optimizer.step()\n",
    "            train_loss += loss.item()\n",
    "        \n",
    "        epoch_end_time = time.time()\n",
    "        epoch_time = epoch_end_time - epoch_start_time\n",
    "        train_loss /= len(train_loader)\n",
    "        history['train_loss'].append(train_loss)\n",
    "\n",
    "        model.eval()\n",
    "        val_loss = 0.0\n",
    "        with torch.no_grad():\n",
    "            for sequences, labels, _, _ in val_loader:  \n",
    "                sequences, labels = sequences.to(device), labels.to(device)\n",
    "                labels = labels.unsqueeze(1)  \n",
    "                outputs = model(sequences)\n",
    "                loss = criterion(outputs, labels)\n",
    "                val_loss += loss.item()\n",
    "\n",
    "        val_loss /= len(val_loader)\n",
    "        history['val_loss'].append(val_loss)\n",
    "\n",
    "        # Early stopping logic\n",
    "        if val_loss < best_val_loss - min_delta:\n",
    "            best_val_loss = val_loss\n",
    "            epochs_no_improve = 0\n",
    "        else:\n",
    "            epochs_no_improve += 1\n",
    "\n",
    "        print(f'Epoch {epoch + 1}/{epochs}, Train Loss: {train_loss}, Validation Loss: {val_loss}')\n",
    "        print(f'Time taken for epoch: {epoch_time:.8f} seconds')\n",
    "\n",
    "        if epochs_no_improve >= patience:\n",
    "            print('Early stopping triggered')\n",
    "            #break\n",
    "\n",
    "    return history"
   ]
  },
  {
   "cell_type": "code",
   "execution_count": 43,
   "metadata": {},
   "outputs": [],
   "source": [
    "temperatures_to_process = [folder for folder in os.listdir(PROCESSED_DATA_DIR) if 'degC' in folder]"
   ]
  },
  {
   "cell_type": "code",
   "execution_count": 44,
   "metadata": {},
   "outputs": [
    {
     "data": {
      "text/html": [
       "<div>\n",
       "<style scoped>\n",
       "    .dataframe tbody tr th:only-of-type {\n",
       "        vertical-align: middle;\n",
       "    }\n",
       "\n",
       "    .dataframe tbody tr th {\n",
       "        vertical-align: top;\n",
       "    }\n",
       "\n",
       "    .dataframe thead th {\n",
       "        text-align: right;\n",
       "    }\n",
       "</style>\n",
       "<table border=\"1\" class=\"dataframe\">\n",
       "  <thead>\n",
       "    <tr style=\"text-align: right;\">\n",
       "      <th></th>\n",
       "      <th>Timestamp</th>\n",
       "      <th>Time [s]</th>\n",
       "      <th>Voltage [V]</th>\n",
       "      <th>Current [A]</th>\n",
       "      <th>Temperature [degC]</th>\n",
       "      <th>Capacity [Ah]</th>\n",
       "      <th>Voltage Average</th>\n",
       "      <th>Current Average</th>\n",
       "      <th>Time_diff</th>\n",
       "      <th>Cumulative_Capacity_Ah</th>\n",
       "      <th>SOC [-]</th>\n",
       "      <th>SourceFile</th>\n",
       "      <th>Power [W]</th>\n",
       "    </tr>\n",
       "  </thead>\n",
       "  <tbody>\n",
       "    <tr>\n",
       "      <th>0</th>\n",
       "      <td>2017-05-30 20:17:33</td>\n",
       "      <td>50.000000</td>\n",
       "      <td>3.86277</td>\n",
       "      <td>-2.23754</td>\n",
       "      <td>0.754623</td>\n",
       "      <td>-0.02364</td>\n",
       "      <td>3.895890</td>\n",
       "      <td>-1.700817</td>\n",
       "      <td>0.000029</td>\n",
       "      <td>-0.023551</td>\n",
       "      <td>0.990977</td>\n",
       "      <td>05-30-17_20.16 0degC_Cycle_2_Pan18650PF_proces...</td>\n",
       "      <td>-8.643102</td>\n",
       "    </tr>\n",
       "    <tr>\n",
       "      <th>1</th>\n",
       "      <td>2017-05-30 20:17:33</td>\n",
       "      <td>50.097998</td>\n",
       "      <td>3.84797</td>\n",
       "      <td>-2.27755</td>\n",
       "      <td>0.754623</td>\n",
       "      <td>-0.02371</td>\n",
       "      <td>3.895549</td>\n",
       "      <td>-1.699886</td>\n",
       "      <td>0.000027</td>\n",
       "      <td>-0.023613</td>\n",
       "      <td>0.990953</td>\n",
       "      <td>05-30-17_20.16 0degC_Cycle_2_Pan18650PF_proces...</td>\n",
       "      <td>-8.763944</td>\n",
       "    </tr>\n",
       "    <tr>\n",
       "      <th>2</th>\n",
       "      <td>2017-05-30 20:17:33</td>\n",
       "      <td>50.198993</td>\n",
       "      <td>3.84025</td>\n",
       "      <td>-2.29470</td>\n",
       "      <td>0.754623</td>\n",
       "      <td>-0.02377</td>\n",
       "      <td>3.895338</td>\n",
       "      <td>-1.698867</td>\n",
       "      <td>0.000028</td>\n",
       "      <td>-0.023677</td>\n",
       "      <td>0.990929</td>\n",
       "      <td>05-30-17_20.16 0degC_Cycle_2_Pan18650PF_proces...</td>\n",
       "      <td>-8.812222</td>\n",
       "    </tr>\n",
       "    <tr>\n",
       "      <th>3</th>\n",
       "      <td>2017-05-30 20:17:33</td>\n",
       "      <td>50.296991</td>\n",
       "      <td>3.83575</td>\n",
       "      <td>-2.30205</td>\n",
       "      <td>0.754623</td>\n",
       "      <td>-0.02384</td>\n",
       "      <td>3.895206</td>\n",
       "      <td>-1.697771</td>\n",
       "      <td>0.000027</td>\n",
       "      <td>-0.023740</td>\n",
       "      <td>0.990905</td>\n",
       "      <td>05-30-17_20.16 0degC_Cycle_2_Pan18650PF_proces...</td>\n",
       "      <td>-8.830088</td>\n",
       "    </tr>\n",
       "    <tr>\n",
       "      <th>4</th>\n",
       "      <td>2017-05-30 20:17:33</td>\n",
       "      <td>50.398992</td>\n",
       "      <td>3.83317</td>\n",
       "      <td>-2.30613</td>\n",
       "      <td>0.754623</td>\n",
       "      <td>-0.02390</td>\n",
       "      <td>3.895125</td>\n",
       "      <td>-1.696615</td>\n",
       "      <td>0.000028</td>\n",
       "      <td>-0.023805</td>\n",
       "      <td>0.990880</td>\n",
       "      <td>05-30-17_20.16 0degC_Cycle_2_Pan18650PF_proces...</td>\n",
       "      <td>-8.839788</td>\n",
       "    </tr>\n",
       "    <tr>\n",
       "      <th>...</th>\n",
       "      <td>...</td>\n",
       "      <td>...</td>\n",
       "      <td>...</td>\n",
       "      <td>...</td>\n",
       "      <td>...</td>\n",
       "      <td>...</td>\n",
       "      <td>...</td>\n",
       "      <td>...</td>\n",
       "      <td>...</td>\n",
       "      <td>...</td>\n",
       "      <td>...</td>\n",
       "      <td>...</td>\n",
       "      <td>...</td>\n",
       "    </tr>\n",
       "    <tr>\n",
       "      <th>4953837</th>\n",
       "      <td>2017-06-14 08:01:15</td>\n",
       "      <td>586318.964002</td>\n",
       "      <td>3.80679</td>\n",
       "      <td>-0.07268</td>\n",
       "      <td>-9.940246</td>\n",
       "      <td>-0.89027</td>\n",
       "      <td>3.744033</td>\n",
       "      <td>-0.525554</td>\n",
       "      <td>0.000026</td>\n",
       "      <td>0.871713</td>\n",
       "      <td>0.397199</td>\n",
       "      <td>06-07-17_08.39 n10degC_US06_HWFET_UDDS_LA92_Pa...</td>\n",
       "      <td>-0.276677</td>\n",
       "    </tr>\n",
       "    <tr>\n",
       "      <th>4953838</th>\n",
       "      <td>2017-06-14 08:01:15</td>\n",
       "      <td>586319.064997</td>\n",
       "      <td>3.80679</td>\n",
       "      <td>-0.07268</td>\n",
       "      <td>-9.940246</td>\n",
       "      <td>-0.89027</td>\n",
       "      <td>3.743971</td>\n",
       "      <td>-0.525556</td>\n",
       "      <td>0.000028</td>\n",
       "      <td>0.871711</td>\n",
       "      <td>0.397198</td>\n",
       "      <td>06-07-17_08.39 n10degC_US06_HWFET_UDDS_LA92_Pa...</td>\n",
       "      <td>-0.276677</td>\n",
       "    </tr>\n",
       "    <tr>\n",
       "      <th>4953839</th>\n",
       "      <td>2017-06-14 08:01:15</td>\n",
       "      <td>586319.124995</td>\n",
       "      <td>3.80679</td>\n",
       "      <td>0.00000</td>\n",
       "      <td>-9.940246</td>\n",
       "      <td>-0.89028</td>\n",
       "      <td>3.743910</td>\n",
       "      <td>-0.525411</td>\n",
       "      <td>0.000017</td>\n",
       "      <td>0.871711</td>\n",
       "      <td>0.397198</td>\n",
       "      <td>06-07-17_08.39 n10degC_US06_HWFET_UDDS_LA92_Pa...</td>\n",
       "      <td>0.000000</td>\n",
       "    </tr>\n",
       "    <tr>\n",
       "      <th>4953840</th>\n",
       "      <td>2017-06-14 08:01:15</td>\n",
       "      <td>586319.135999</td>\n",
       "      <td>3.80679</td>\n",
       "      <td>0.00000</td>\n",
       "      <td>-10.158136</td>\n",
       "      <td>-0.89028</td>\n",
       "      <td>3.743848</td>\n",
       "      <td>-0.525267</td>\n",
       "      <td>0.000003</td>\n",
       "      <td>0.871711</td>\n",
       "      <td>0.397198</td>\n",
       "      <td>06-07-17_08.39 n10degC_US06_HWFET_UDDS_LA92_Pa...</td>\n",
       "      <td>0.000000</td>\n",
       "    </tr>\n",
       "    <tr>\n",
       "      <th>4953841</th>\n",
       "      <td>2017-06-14 08:01:15</td>\n",
       "      <td>586319.142003</td>\n",
       "      <td>3.80937</td>\n",
       "      <td>0.00000</td>\n",
       "      <td>-10.158136</td>\n",
       "      <td>-0.89028</td>\n",
       "      <td>3.743791</td>\n",
       "      <td>-0.525122</td>\n",
       "      <td>0.000002</td>\n",
       "      <td>0.871711</td>\n",
       "      <td>0.397198</td>\n",
       "      <td>06-07-17_08.39 n10degC_US06_HWFET_UDDS_LA92_Pa...</td>\n",
       "      <td>0.000000</td>\n",
       "    </tr>\n",
       "  </tbody>\n",
       "</table>\n",
       "<p>4953842 rows × 13 columns</p>\n",
       "</div>"
      ],
      "text/plain": [
       "                   Timestamp       Time [s]  Voltage [V]  Current [A]  \\\n",
       "0        2017-05-30 20:17:33      50.000000      3.86277     -2.23754   \n",
       "1        2017-05-30 20:17:33      50.097998      3.84797     -2.27755   \n",
       "2        2017-05-30 20:17:33      50.198993      3.84025     -2.29470   \n",
       "3        2017-05-30 20:17:33      50.296991      3.83575     -2.30205   \n",
       "4        2017-05-30 20:17:33      50.398992      3.83317     -2.30613   \n",
       "...                      ...            ...          ...          ...   \n",
       "4953837  2017-06-14 08:01:15  586318.964002      3.80679     -0.07268   \n",
       "4953838  2017-06-14 08:01:15  586319.064997      3.80679     -0.07268   \n",
       "4953839  2017-06-14 08:01:15  586319.124995      3.80679      0.00000   \n",
       "4953840  2017-06-14 08:01:15  586319.135999      3.80679      0.00000   \n",
       "4953841  2017-06-14 08:01:15  586319.142003      3.80937      0.00000   \n",
       "\n",
       "         Temperature [degC]  Capacity [Ah]  Voltage Average  Current Average  \\\n",
       "0                  0.754623       -0.02364         3.895890        -1.700817   \n",
       "1                  0.754623       -0.02371         3.895549        -1.699886   \n",
       "2                  0.754623       -0.02377         3.895338        -1.698867   \n",
       "3                  0.754623       -0.02384         3.895206        -1.697771   \n",
       "4                  0.754623       -0.02390         3.895125        -1.696615   \n",
       "...                     ...            ...              ...              ...   \n",
       "4953837           -9.940246       -0.89027         3.744033        -0.525554   \n",
       "4953838           -9.940246       -0.89027         3.743971        -0.525556   \n",
       "4953839           -9.940246       -0.89028         3.743910        -0.525411   \n",
       "4953840          -10.158136       -0.89028         3.743848        -0.525267   \n",
       "4953841          -10.158136       -0.89028         3.743791        -0.525122   \n",
       "\n",
       "         Time_diff  Cumulative_Capacity_Ah   SOC [-]  \\\n",
       "0         0.000029               -0.023551  0.990977   \n",
       "1         0.000027               -0.023613  0.990953   \n",
       "2         0.000028               -0.023677  0.990929   \n",
       "3         0.000027               -0.023740  0.990905   \n",
       "4         0.000028               -0.023805  0.990880   \n",
       "...            ...                     ...       ...   \n",
       "4953837   0.000026                0.871713  0.397199   \n",
       "4953838   0.000028                0.871711  0.397198   \n",
       "4953839   0.000017                0.871711  0.397198   \n",
       "4953840   0.000003                0.871711  0.397198   \n",
       "4953841   0.000002                0.871711  0.397198   \n",
       "\n",
       "                                                SourceFile  Power [W]  \n",
       "0        05-30-17_20.16 0degC_Cycle_2_Pan18650PF_proces...  -8.643102  \n",
       "1        05-30-17_20.16 0degC_Cycle_2_Pan18650PF_proces...  -8.763944  \n",
       "2        05-30-17_20.16 0degC_Cycle_2_Pan18650PF_proces...  -8.812222  \n",
       "3        05-30-17_20.16 0degC_Cycle_2_Pan18650PF_proces...  -8.830088  \n",
       "4        05-30-17_20.16 0degC_Cycle_2_Pan18650PF_proces...  -8.839788  \n",
       "...                                                    ...        ...  \n",
       "4953837  06-07-17_08.39 n10degC_US06_HWFET_UDDS_LA92_Pa...  -0.276677  \n",
       "4953838  06-07-17_08.39 n10degC_US06_HWFET_UDDS_LA92_Pa...  -0.276677  \n",
       "4953839  06-07-17_08.39 n10degC_US06_HWFET_UDDS_LA92_Pa...   0.000000  \n",
       "4953840  06-07-17_08.39 n10degC_US06_HWFET_UDDS_LA92_Pa...   0.000000  \n",
       "4953841  06-07-17_08.39 n10degC_US06_HWFET_UDDS_LA92_Pa...   0.000000  \n",
       "\n",
       "[4953842 rows x 13 columns]"
      ]
     },
     "execution_count": 44,
     "metadata": {},
     "output_type": "execute_result"
    }
   ],
   "source": [
    "data = load_data(PROCESSED_DATA_DIR, temperatures_to_process)\n",
    "data"
   ]
  },
  {
   "cell_type": "code",
   "execution_count": 45,
   "metadata": {},
   "outputs": [
    {
     "data": {
      "text/html": [
       "<div>\n",
       "<style scoped>\n",
       "    .dataframe tbody tr th:only-of-type {\n",
       "        vertical-align: middle;\n",
       "    }\n",
       "\n",
       "    .dataframe tbody tr th {\n",
       "        vertical-align: top;\n",
       "    }\n",
       "\n",
       "    .dataframe thead th {\n",
       "        text-align: right;\n",
       "    }\n",
       "</style>\n",
       "<table border=\"1\" class=\"dataframe\">\n",
       "  <thead>\n",
       "    <tr style=\"text-align: right;\">\n",
       "      <th></th>\n",
       "      <th>Timestamp</th>\n",
       "      <th>Time [s]</th>\n",
       "      <th>Voltage [V]</th>\n",
       "      <th>Current [A]</th>\n",
       "      <th>Temperature [degC]</th>\n",
       "      <th>Capacity [Ah]</th>\n",
       "      <th>Voltage Average</th>\n",
       "      <th>Current Average</th>\n",
       "      <th>Time_diff</th>\n",
       "      <th>Cumulative_Capacity_Ah</th>\n",
       "      <th>SOC [-]</th>\n",
       "      <th>SourceFile</th>\n",
       "      <th>Power [W]</th>\n",
       "    </tr>\n",
       "  </thead>\n",
       "  <tbody>\n",
       "    <tr>\n",
       "      <th>0</th>\n",
       "      <td>2017-05-30 20:17:33</td>\n",
       "      <td>50.000000</td>\n",
       "      <td>0.946053</td>\n",
       "      <td>-0.686221</td>\n",
       "      <td>-0.468729</td>\n",
       "      <td>-0.02364</td>\n",
       "      <td>1.141736</td>\n",
       "      <td>-0.783969</td>\n",
       "      <td>0.000029</td>\n",
       "      <td>1.252216</td>\n",
       "      <td>0.990977</td>\n",
       "      <td>05-30-17_20.16 0degC_Cycle_2_Pan18650PF_proces...</td>\n",
       "      <td>-0.861626</td>\n",
       "    </tr>\n",
       "    <tr>\n",
       "      <th>1</th>\n",
       "      <td>2017-05-30 20:17:33</td>\n",
       "      <td>50.097998</td>\n",
       "      <td>0.893321</td>\n",
       "      <td>-0.708138</td>\n",
       "      <td>-0.468729</td>\n",
       "      <td>-0.02371</td>\n",
       "      <td>1.140427</td>\n",
       "      <td>-0.782946</td>\n",
       "      <td>0.000027</td>\n",
       "      <td>1.252146</td>\n",
       "      <td>0.990953</td>\n",
       "      <td>05-30-17_20.16 0degC_Cycle_2_Pan18650PF_proces...</td>\n",
       "      <td>-0.881194</td>\n",
       "    </tr>\n",
       "    <tr>\n",
       "      <th>2</th>\n",
       "      <td>2017-05-30 20:17:33</td>\n",
       "      <td>50.198993</td>\n",
       "      <td>0.865814</td>\n",
       "      <td>-0.717532</td>\n",
       "      <td>-0.468729</td>\n",
       "      <td>-0.02377</td>\n",
       "      <td>1.139616</td>\n",
       "      <td>-0.781827</td>\n",
       "      <td>0.000028</td>\n",
       "      <td>1.252074</td>\n",
       "      <td>0.990929</td>\n",
       "      <td>05-30-17_20.16 0degC_Cycle_2_Pan18650PF_proces...</td>\n",
       "      <td>-0.889011</td>\n",
       "    </tr>\n",
       "    <tr>\n",
       "      <th>3</th>\n",
       "      <td>2017-05-30 20:17:33</td>\n",
       "      <td>50.296991</td>\n",
       "      <td>0.849781</td>\n",
       "      <td>-0.721558</td>\n",
       "      <td>-0.468729</td>\n",
       "      <td>-0.02384</td>\n",
       "      <td>1.139107</td>\n",
       "      <td>-0.780622</td>\n",
       "      <td>0.000027</td>\n",
       "      <td>1.252004</td>\n",
       "      <td>0.990905</td>\n",
       "      <td>05-30-17_20.16 0degC_Cycle_2_Pan18650PF_proces...</td>\n",
       "      <td>-0.891905</td>\n",
       "    </tr>\n",
       "    <tr>\n",
       "      <th>4</th>\n",
       "      <td>2017-05-30 20:17:33</td>\n",
       "      <td>50.398992</td>\n",
       "      <td>0.840588</td>\n",
       "      <td>-0.723793</td>\n",
       "      <td>-0.468729</td>\n",
       "      <td>-0.02390</td>\n",
       "      <td>1.138796</td>\n",
       "      <td>-0.779352</td>\n",
       "      <td>0.000028</td>\n",
       "      <td>1.251930</td>\n",
       "      <td>0.990880</td>\n",
       "      <td>05-30-17_20.16 0degC_Cycle_2_Pan18650PF_proces...</td>\n",
       "      <td>-0.893475</td>\n",
       "    </tr>\n",
       "    <tr>\n",
       "      <th>...</th>\n",
       "      <td>...</td>\n",
       "      <td>...</td>\n",
       "      <td>...</td>\n",
       "      <td>...</td>\n",
       "      <td>...</td>\n",
       "      <td>...</td>\n",
       "      <td>...</td>\n",
       "      <td>...</td>\n",
       "      <td>...</td>\n",
       "      <td>...</td>\n",
       "      <td>...</td>\n",
       "      <td>...</td>\n",
       "      <td>...</td>\n",
       "    </tr>\n",
       "    <tr>\n",
       "      <th>4953837</th>\n",
       "      <td>2017-06-14 08:01:15</td>\n",
       "      <td>586318.964002</td>\n",
       "      <td>0.746596</td>\n",
       "      <td>0.499659</td>\n",
       "      <td>-1.233183</td>\n",
       "      <td>-0.89027</td>\n",
       "      <td>0.558446</td>\n",
       "      <td>0.507342</td>\n",
       "      <td>0.000026</td>\n",
       "      <td>2.255737</td>\n",
       "      <td>0.397199</td>\n",
       "      <td>06-07-17_08.39 n10degC_US06_HWFET_UDDS_LA92_Pa...</td>\n",
       "      <td>0.493145</td>\n",
       "    </tr>\n",
       "    <tr>\n",
       "      <th>4953838</th>\n",
       "      <td>2017-06-14 08:01:15</td>\n",
       "      <td>586319.064997</td>\n",
       "      <td>0.746596</td>\n",
       "      <td>0.499659</td>\n",
       "      <td>-1.233183</td>\n",
       "      <td>-0.89027</td>\n",
       "      <td>0.558208</td>\n",
       "      <td>0.507340</td>\n",
       "      <td>0.000028</td>\n",
       "      <td>2.255735</td>\n",
       "      <td>0.397198</td>\n",
       "      <td>06-07-17_08.39 n10degC_US06_HWFET_UDDS_LA92_Pa...</td>\n",
       "      <td>0.493145</td>\n",
       "    </tr>\n",
       "    <tr>\n",
       "      <th>4953839</th>\n",
       "      <td>2017-06-14 08:01:15</td>\n",
       "      <td>586319.124995</td>\n",
       "      <td>0.746596</td>\n",
       "      <td>0.539472</td>\n",
       "      <td>-1.233183</td>\n",
       "      <td>-0.89028</td>\n",
       "      <td>0.557971</td>\n",
       "      <td>0.507500</td>\n",
       "      <td>0.000017</td>\n",
       "      <td>2.255735</td>\n",
       "      <td>0.397198</td>\n",
       "      <td>06-07-17_08.39 n10degC_US06_HWFET_UDDS_LA92_Pa...</td>\n",
       "      <td>0.537948</td>\n",
       "    </tr>\n",
       "    <tr>\n",
       "      <th>4953840</th>\n",
       "      <td>2017-06-14 08:01:15</td>\n",
       "      <td>586319.135999</td>\n",
       "      <td>0.746596</td>\n",
       "      <td>0.539472</td>\n",
       "      <td>-1.248758</td>\n",
       "      <td>-0.89028</td>\n",
       "      <td>0.557734</td>\n",
       "      <td>0.507658</td>\n",
       "      <td>0.000003</td>\n",
       "      <td>2.255735</td>\n",
       "      <td>0.397198</td>\n",
       "      <td>06-07-17_08.39 n10degC_US06_HWFET_UDDS_LA92_Pa...</td>\n",
       "      <td>0.537948</td>\n",
       "    </tr>\n",
       "    <tr>\n",
       "      <th>4953841</th>\n",
       "      <td>2017-06-14 08:01:15</td>\n",
       "      <td>586319.142003</td>\n",
       "      <td>0.755788</td>\n",
       "      <td>0.539472</td>\n",
       "      <td>-1.248758</td>\n",
       "      <td>-0.89028</td>\n",
       "      <td>0.557516</td>\n",
       "      <td>0.507818</td>\n",
       "      <td>0.000002</td>\n",
       "      <td>2.255735</td>\n",
       "      <td>0.397198</td>\n",
       "      <td>06-07-17_08.39 n10degC_US06_HWFET_UDDS_LA92_Pa...</td>\n",
       "      <td>0.537948</td>\n",
       "    </tr>\n",
       "  </tbody>\n",
       "</table>\n",
       "<p>4953842 rows × 13 columns</p>\n",
       "</div>"
      ],
      "text/plain": [
       "                   Timestamp       Time [s]  Voltage [V]  Current [A]  \\\n",
       "0        2017-05-30 20:17:33      50.000000     0.946053    -0.686221   \n",
       "1        2017-05-30 20:17:33      50.097998     0.893321    -0.708138   \n",
       "2        2017-05-30 20:17:33      50.198993     0.865814    -0.717532   \n",
       "3        2017-05-30 20:17:33      50.296991     0.849781    -0.721558   \n",
       "4        2017-05-30 20:17:33      50.398992     0.840588    -0.723793   \n",
       "...                      ...            ...          ...          ...   \n",
       "4953837  2017-06-14 08:01:15  586318.964002     0.746596     0.499659   \n",
       "4953838  2017-06-14 08:01:15  586319.064997     0.746596     0.499659   \n",
       "4953839  2017-06-14 08:01:15  586319.124995     0.746596     0.539472   \n",
       "4953840  2017-06-14 08:01:15  586319.135999     0.746596     0.539472   \n",
       "4953841  2017-06-14 08:01:15  586319.142003     0.755788     0.539472   \n",
       "\n",
       "         Temperature [degC]  Capacity [Ah]  Voltage Average  Current Average  \\\n",
       "0                 -0.468729       -0.02364         1.141736        -0.783969   \n",
       "1                 -0.468729       -0.02371         1.140427        -0.782946   \n",
       "2                 -0.468729       -0.02377         1.139616        -0.781827   \n",
       "3                 -0.468729       -0.02384         1.139107        -0.780622   \n",
       "4                 -0.468729       -0.02390         1.138796        -0.779352   \n",
       "...                     ...            ...              ...              ...   \n",
       "4953837           -1.233183       -0.89027         0.558446         0.507342   \n",
       "4953838           -1.233183       -0.89027         0.558208         0.507340   \n",
       "4953839           -1.233183       -0.89028         0.557971         0.507500   \n",
       "4953840           -1.248758       -0.89028         0.557734         0.507658   \n",
       "4953841           -1.248758       -0.89028         0.557516         0.507818   \n",
       "\n",
       "         Time_diff  Cumulative_Capacity_Ah   SOC [-]  \\\n",
       "0         0.000029                1.252216  0.990977   \n",
       "1         0.000027                1.252146  0.990953   \n",
       "2         0.000028                1.252074  0.990929   \n",
       "3         0.000027                1.252004  0.990905   \n",
       "4         0.000028                1.251930  0.990880   \n",
       "...            ...                     ...       ...   \n",
       "4953837   0.000026                2.255737  0.397199   \n",
       "4953838   0.000028                2.255735  0.397198   \n",
       "4953839   0.000017                2.255735  0.397198   \n",
       "4953840   0.000003                2.255735  0.397198   \n",
       "4953841   0.000002                2.255735  0.397198   \n",
       "\n",
       "                                                SourceFile  Power [W]  \n",
       "0        05-30-17_20.16 0degC_Cycle_2_Pan18650PF_proces...  -0.861626  \n",
       "1        05-30-17_20.16 0degC_Cycle_2_Pan18650PF_proces...  -0.881194  \n",
       "2        05-30-17_20.16 0degC_Cycle_2_Pan18650PF_proces...  -0.889011  \n",
       "3        05-30-17_20.16 0degC_Cycle_2_Pan18650PF_proces...  -0.891905  \n",
       "4        05-30-17_20.16 0degC_Cycle_2_Pan18650PF_proces...  -0.893475  \n",
       "...                                                    ...        ...  \n",
       "4953837  06-07-17_08.39 n10degC_US06_HWFET_UDDS_LA92_Pa...   0.493145  \n",
       "4953838  06-07-17_08.39 n10degC_US06_HWFET_UDDS_LA92_Pa...   0.493145  \n",
       "4953839  06-07-17_08.39 n10degC_US06_HWFET_UDDS_LA92_Pa...   0.537948  \n",
       "4953840  06-07-17_08.39 n10degC_US06_HWFET_UDDS_LA92_Pa...   0.537948  \n",
       "4953841  06-07-17_08.39 n10degC_US06_HWFET_UDDS_LA92_Pa...   0.537948  \n",
       "\n",
       "[4953842 rows x 13 columns]"
      ]
     },
     "execution_count": 45,
     "metadata": {},
     "output_type": "execute_result"
    }
   ],
   "source": [
    "scaler = StandardScaler()\n",
    "data[FEATURE_COLS] = scaler.fit_transform(data[FEATURE_COLS])\n",
    "data"
   ]
  },
  {
   "cell_type": "code",
   "execution_count": 46,
   "metadata": {},
   "outputs": [],
   "source": [
    "unique_files = np.array(list(set(data['SourceFile'])))\n",
    "train_files, temp_files = train_test_split(unique_files, test_size=0.2, random_state=52)\n",
    "val_files, test_files = train_test_split(temp_files, test_size=0.5, random_state=52)"
   ]
  },
  {
   "cell_type": "code",
   "execution_count": 47,
   "metadata": {},
   "outputs": [],
   "source": [
    "def filter_data_by_filenames(df, filenames):\n",
    "    return df[df['SourceFile'].isin(filenames)]\n",
    "\n",
    "# Filter data for each set\n",
    "train_data = filter_data_by_filenames(data, train_files)\n",
    "val_data = filter_data_by_filenames(data, val_files)\n",
    "test_data = filter_data_by_filenames(data, test_files)"
   ]
  },
  {
   "cell_type": "code",
   "execution_count": 48,
   "metadata": {},
   "outputs": [],
   "source": [
    "# Convert to tensors\n",
    "train_tensor = torch.tensor(train_data[FEATURE_COLS].values, dtype=torch.float32).to(device)\n",
    "train_labels = torch.tensor(train_data[LABEL_COL].values, dtype=torch.float32).to(device)\n",
    "\n",
    "val_tensor = torch.tensor(val_data[FEATURE_COLS].values, dtype=torch.float32).to(device)\n",
    "val_labels = torch.tensor(val_data[LABEL_COL].values, dtype=torch.float32).to(device)\n",
    "\n",
    "test_tensor = torch.tensor(test_data[FEATURE_COLS].values, dtype=torch.float32).to(device)\n",
    "test_labels = torch.tensor(test_data[LABEL_COL].values, dtype=torch.float32).to(device)"
   ]
  },
  {
   "cell_type": "code",
   "execution_count": 49,
   "metadata": {},
   "outputs": [],
   "source": [
    "# Convert filtered data to tensors and create dataset instances\n",
    "train_dataset = BatteryDatasetDNN(\n",
    "    torch.tensor(train_data[FEATURE_COLS].values, dtype=torch.float32).to(device),\n",
    "    torch.tensor(train_data[LABEL_COL].values, dtype=torch.float32).to(device),\n",
    "    train_data['SourceFile'].values,\n",
    "    train_data['Time [s]'].values  \n",
    ")\n",
    "\n",
    "val_dataset = BatteryDatasetDNN(\n",
    "    torch.tensor(val_data[FEATURE_COLS].values, dtype=torch.float32).to(device),\n",
    "    torch.tensor(val_data[LABEL_COL].values, dtype=torch.float32).to(device),\n",
    "    val_data['SourceFile'].values,\n",
    "    val_data['Time [s]'].values  \n",
    ")\n",
    "\n",
    "test_dataset = BatteryDatasetDNN(\n",
    "    torch.tensor(test_data[FEATURE_COLS].values, dtype=torch.float32).to(device),\n",
    "    torch.tensor(test_data[LABEL_COL].values, dtype=torch.float32).to(device),\n",
    "    test_data['SourceFile'].values,\n",
    "    test_data['Time [s]'].values  \n",
    ")"
   ]
  },
  {
   "cell_type": "code",
   "execution_count": 50,
   "metadata": {},
   "outputs": [],
   "source": [
    "# Create data loaders\n",
    "train_loader = DataLoader(train_dataset, batch_size=BATCH_SIZE, shuffle=True) \n",
    "val_loader = DataLoader(val_dataset, batch_size=BATCH_SIZE, shuffle=False)\n",
    "test_loader = DataLoader(test_dataset, batch_size=BATCH_SIZE, shuffle=False)"
   ]
  },
  {
   "cell_type": "code",
   "execution_count": 51,
   "metadata": {},
   "outputs": [
    {
     "name": "stdout",
     "output_type": "stream",
     "text": [
      "Training files: {'03-27-17_09.06 10degC_LA92_Pan18650PF_processed.csv', '06-25-17_03.01 n20degC_Cycle_4_Pan18650PF_processed.csv', '06-07-17_08.39 n10degC_UDDS_Pan18650PF_processed.csv', '06-01-17_10.36 0degC_LA92_NN_Pan18650PF_processed.csv', '06-02-17_10.43 0degC_HWFET_Pan18650PF_processed.csv', '06-23-17_23.35 n20degC_NN_Pan18650PF_processed.csv', '03-27-17_09.06 10degC_HWFET_Pan18650PF_processed.csv', '06-23-17_23.35 n20degC_UDDS_Pan18650PF_processed.csv', '03-20-17_05.56 25degC_HWFTa_Pan18650PF_processed.csv', '06-07-17_08.39 n10degC_US06_Pan18650PF_processed.csv', '06-01-17_10.36 0degC_LA92_Pan18650PF_processed.csv', '03-27-17_09.06 10degC_UDDS_Pan18650PF_processed.csv', '03-18-17_02.17 25degC_Cycle_1_Pan18650PF_processed.csv', '03-21-17_16.27 25degC_NN_Pan18650PF_processed.csv', '03-20-17_19.27 25degC_HWFTb_Pan18650PF_processed.csv', '06-10-17_18.35 n10degC_Cycle_2_Pan18650PF_processed.csv', '06-23-17_23.35 n20degC_HWFET_Pan18650PF_processed.csv', '03-21-17_00.29 25degC_UDDS_Pan18650PF_processed.csv', '06-01-17_15.36 0degC_Cycle_3_Pan18650PF_processed.csv', '06-23-17_23.35 n20degC_HWFET_UDDS_LA92_NN_Pan18650PF_processed.csv', '06-24-17_11.58 n20degC_Cycle_2_Pan18650PF_processed.csv', '05-30-17_12.56 0degC_Cycle_1_Pan18650PF_processed.csv', '06-25-17_10.31 n20degC_US06_Pan18650PF_processed.csv', '06-11-17_08.42 n10degC_Cycle_4_Pan18650PF_processed.csv', '06-07-17_08.39 n10degC_LA92_Pan18650PF_processed.csv', '03-21-17_09.38 25degC_LA92_Pan18650PF_processed.csv', '06-02-17_17.14 0degC_UDDS_Pan18650PF_processed.csv', '03-19-17_09.07 25degC_Cycle_3_Pan18650PF_processed.csv', '03-20-17_01.43 25degC_US06_Pan18650PF_processed.csv', '03-28-17_12.51 10degC_Cycle_1_Pan18650PF_processed.csv', '05-08-17_13.26 C20 OCV Test_C20_25dC_processed.csv', '03-19-17_03.25 25degC_Cycle_2_Pan18650PF_processed.csv', '03-27-17_09.06 10degC_NN_Pan18650PF_processed.csv', '06-23-17_23.35 n20degC_LA92_Pan18650PF_processed.csv', '03-19-17_14.31 25degC_Cycle_4_Pan18650PF_processed.csv', '06-10-17_11.25 n10degC_Cycle_1_Pan18650PF_processed.csv', '04-05-17_17.04 10degC_Cycle_3_Pan18650PF_processed.csv', '03-27-17_09.06 10degC_US06_HWFET_UDDS_LA92_NN_Pan18650PF_processed.csv', '06-01-17_22.03 0degC_Cycle_4_Pan18650PF_processed.csv', '06-11-17_01.39 n10degC_Cycle_3_Pan18650PF_processed.csv'}\n",
      "\n",
      "Validation files: {'06-24-17_04.29 n20degC_Cycle_1_Pan18650PF_processed.csv', '05-30-17_20.16 0degC_Cycle_2_Pan18650PF_processed.csv', '04-05-17_22.50 10degC_Cycle_4_Pan18650PF_processed.csv', '06-07-17_08.39 n10degC_US06_HWFET_UDDS_LA92_Pan18650PF_processed.csv', '06-24-17_19.29 n20degC_Cycle_3_Pan18650PF_processed.csv'}\n",
      "\n",
      "Testing files: {'06-01-17_10.36 0degC_NN_Pan18650PF_processed.csv', '06-07-17_08.39 n10degC_HWFET_Pan18650PF_processed.csv', '06-14-17_13.12 n10degC_NN_Pan18650PF_processed.csv', '06-02-17_04.58 0degC_US06_Pan18650PF_processed.csv', '03-28-17_18.18 10degC_Cycle_2_Pan18650PF_processed.csv', '03-27-17_09.06 10degC_US06_Pan18650PF_processed.csv'}\n"
     ]
    }
   ],
   "source": [
    "# Print file names used in training, validation, and testing\n",
    "train_files = train_dataset.get_unique_filenames()\n",
    "val_files = val_dataset.get_unique_filenames()\n",
    "test_files = test_dataset.get_unique_filenames()\n",
    "\n",
    "train_files_sorted = sorted(train_files)\n",
    "val_files_sorted = sorted(val_files)\n",
    "test_files_sorted = sorted(test_files)\n",
    "\n",
    "print(\"Training files:\", train_files)\n",
    "print(\"\\nValidation files:\", val_files)\n",
    "print(\"\\nTesting files:\", test_files)"
   ]
  },
  {
   "cell_type": "code",
   "execution_count": 52,
   "metadata": {},
   "outputs": [
    {
     "name": "stdout",
     "output_type": "stream",
     "text": [
      "Train features shape: torch.Size([4060415, 7])\n",
      "Test features shape: torch.Size([323914, 7])\n",
      "Train labels shape: torch.Size([4060415])\n",
      "Test labels shape: torch.Size([323914])\n"
     ]
    }
   ],
   "source": [
    "print(\"Train features shape:\", train_tensor.shape)\n",
    "print(\"Test features shape:\", test_tensor .shape)\n",
    "print(\"Train labels shape:\", train_labels.shape)\n",
    "print(\"Test labels shape:\", test_labels.shape)"
   ]
  },
  {
   "cell_type": "markdown",
   "metadata": {},
   "source": [
    "## Hyperparameter tuning"
   ]
  },
  {
   "cell_type": "code",
   "execution_count": 66,
   "metadata": {},
   "outputs": [],
   "source": [
    "EPOCHS = 10\n",
    "def objective(trial):\n",
    "    # Hyperparameters to tune\n",
    "    learning_rate = trial.suggest_float('learning_rate', 1e-5, 1e-1, log=True)\n",
    "    hidden_size = trial.suggest_categorical('hidden_size', [16, 32, 64, 128, 256, 512, 1024])\n",
    "    num_layers = trial.suggest_int('num_layers', 1, 6)\n",
    "    dropout_rate = trial.suggest_float('dropout_rate', 0.1, 0.7)\n",
    "\n",
    "    # Model, criterion, optimizer\n",
    "    model = SoCDNN(input_size=len(FEATURE_COLS), hidden_size=hidden_size, num_layers=num_layers, dropout=dropout_rate).to(device)\n",
    "    optimizer = optim.Adam(model.parameters(), lr=learning_rate, weight_decay=0.01)\n",
    "    criterion = nn.MSELoss()\n",
    "\n",
    "    # Train and validate the model\n",
    "    history = train_and_validate(model, criterion, optimizer, train_loader, val_loader, EPOCHS, device)\n",
    "\n",
    "    # Minimize the last validation loss\n",
    "    return history['val_loss'][-1]"
   ]
  },
  {
   "cell_type": "code",
   "execution_count": 67,
   "metadata": {},
   "outputs": [
    {
     "name": "stderr",
     "output_type": "stream",
     "text": [
      "[I 2025-08-01 23:33:48,660] A new study created in memory with name: no-name-44d686a3-d644-48cd-872b-efe42af047d7\n",
      "Epoch: 0/10: 100%|██████████| 3966/3966 [00:29<00:00, 134.05it/s]\n"
     ]
    },
    {
     "name": "stdout",
     "output_type": "stream",
     "text": [
      "Epoch 1/10, Train Loss: 0.019047013843696014, Validation Loss: 0.03890038164863621\n",
      "Time taken for epoch: 29.58961320 seconds\n"
     ]
    },
    {
     "name": "stderr",
     "output_type": "stream",
     "text": [
      "Epoch: 1/10: 100%|██████████| 3966/3966 [00:30<00:00, 128.03it/s]\n"
     ]
    },
    {
     "name": "stdout",
     "output_type": "stream",
     "text": [
      "Epoch 2/10, Train Loss: 0.018780419475948922, Validation Loss: 0.05750852100039914\n",
      "Time taken for epoch: 30.97821307 seconds\n"
     ]
    },
    {
     "name": "stderr",
     "output_type": "stream",
     "text": [
      "Epoch: 2/10: 100%|██████████| 3966/3966 [00:31<00:00, 124.14it/s]\n"
     ]
    },
    {
     "name": "stdout",
     "output_type": "stream",
     "text": [
      "Epoch 3/10, Train Loss: 0.019021762977154626, Validation Loss: 0.03788731397914262\n",
      "Time taken for epoch: 31.95012307 seconds\n"
     ]
    },
    {
     "name": "stderr",
     "output_type": "stream",
     "text": [
      "Epoch: 3/10: 100%|██████████| 3966/3966 [00:32<00:00, 120.86it/s]\n"
     ]
    },
    {
     "name": "stdout",
     "output_type": "stream",
     "text": [
      "Epoch 4/10, Train Loss: 0.019238491235249237, Validation Loss: 0.07764104288841281\n",
      "Time taken for epoch: 32.81567574 seconds\n"
     ]
    },
    {
     "name": "stderr",
     "output_type": "stream",
     "text": [
      "Epoch: 4/10: 100%|██████████| 3966/3966 [00:36<00:00, 109.37it/s]\n"
     ]
    },
    {
     "name": "stdout",
     "output_type": "stream",
     "text": [
      "Epoch 5/10, Train Loss: 0.019227925655152602, Validation Loss: 0.11520918170945854\n",
      "Time taken for epoch: 36.26281309 seconds\n"
     ]
    },
    {
     "name": "stderr",
     "output_type": "stream",
     "text": [
      "Epoch: 5/10: 100%|██████████| 3966/3966 [00:47<00:00, 83.50it/s] \n"
     ]
    },
    {
     "name": "stdout",
     "output_type": "stream",
     "text": [
      "Epoch 6/10, Train Loss: 0.019363852881648463, Validation Loss: 0.04060019778856387\n",
      "Time taken for epoch: 47.50162220 seconds\n"
     ]
    },
    {
     "name": "stderr",
     "output_type": "stream",
     "text": [
      "Epoch: 6/10: 100%|██████████| 3966/3966 [00:43<00:00, 91.17it/s] \n"
     ]
    },
    {
     "name": "stdout",
     "output_type": "stream",
     "text": [
      "Epoch 7/10, Train Loss: 0.019369339000243943, Validation Loss: 0.028830956670065216\n",
      "Time taken for epoch: 43.50397897 seconds\n"
     ]
    },
    {
     "name": "stderr",
     "output_type": "stream",
     "text": [
      "Epoch: 7/10: 100%|██████████| 3966/3966 [00:41<00:00, 95.44it/s] \n"
     ]
    },
    {
     "name": "stdout",
     "output_type": "stream",
     "text": [
      "Epoch 8/10, Train Loss: 0.01931397340589673, Validation Loss: 0.052604095803759375\n",
      "Time taken for epoch: 41.55673122 seconds\n"
     ]
    },
    {
     "name": "stderr",
     "output_type": "stream",
     "text": [
      "Epoch: 8/10: 100%|██████████| 3966/3966 [00:42<00:00, 93.79it/s] \n"
     ]
    },
    {
     "name": "stdout",
     "output_type": "stream",
     "text": [
      "Epoch 9/10, Train Loss: 0.019371720494451662, Validation Loss: 0.06340584365590031\n",
      "Time taken for epoch: 42.28889418 seconds\n"
     ]
    },
    {
     "name": "stderr",
     "output_type": "stream",
     "text": [
      "Epoch: 9/10: 100%|██████████| 3966/3966 [00:39<00:00, 99.96it/s] \n",
      "[I 2025-08-01 23:40:42,639] Trial 0 finished with value: 0.09582860869548972 and parameters: {'learning_rate': 0.0990031826586279, 'hidden_size': 32, 'num_layers': 3, 'dropout_rate': 0.17949228733604275}. Best is trial 0 with value: 0.09582860869548972.\n"
     ]
    },
    {
     "name": "stdout",
     "output_type": "stream",
     "text": [
      "Epoch 10/10, Train Loss: 0.01944382656558191, Validation Loss: 0.09582860869548972\n",
      "Time taken for epoch: 39.67938590 seconds\n"
     ]
    },
    {
     "name": "stderr",
     "output_type": "stream",
     "text": [
      "Epoch: 0/10: 100%|██████████| 3966/3966 [03:43<00:00, 17.74it/s]\n"
     ]
    },
    {
     "name": "stdout",
     "output_type": "stream",
     "text": [
      "Epoch 1/10, Train Loss: 0.013970380405690173, Validation Loss: 0.12556257337637755\n",
      "Time taken for epoch: 223.62170815 seconds\n"
     ]
    },
    {
     "name": "stderr",
     "output_type": "stream",
     "text": [
      "Epoch: 1/10: 100%|██████████| 3966/3966 [03:46<00:00, 17.51it/s]\n"
     ]
    },
    {
     "name": "stdout",
     "output_type": "stream",
     "text": [
      "Epoch 2/10, Train Loss: 0.009834572344086594, Validation Loss: 0.13605760075118742\n",
      "Time taken for epoch: 226.46065211 seconds\n"
     ]
    },
    {
     "name": "stderr",
     "output_type": "stream",
     "text": [
      "Epoch: 2/10: 100%|██████████| 3966/3966 [05:02<00:00, 13.12it/s]\n"
     ]
    },
    {
     "name": "stdout",
     "output_type": "stream",
     "text": [
      "Epoch 3/10, Train Loss: 0.009972768291160351, Validation Loss: 0.16116134404821728\n",
      "Time taken for epoch: 302.25706387 seconds\n"
     ]
    },
    {
     "name": "stderr",
     "output_type": "stream",
     "text": [
      "Epoch: 3/10: 100%|██████████| 3966/3966 [04:40<00:00, 14.16it/s]\n"
     ]
    },
    {
     "name": "stdout",
     "output_type": "stream",
     "text": [
      "Epoch 4/10, Train Loss: 0.009981092461490504, Validation Loss: 0.15382805048885895\n",
      "Time taken for epoch: 280.18238711 seconds\n"
     ]
    },
    {
     "name": "stderr",
     "output_type": "stream",
     "text": [
      "Epoch: 4/10: 100%|██████████| 3966/3966 [03:59<00:00, 16.54it/s]\n"
     ]
    },
    {
     "name": "stdout",
     "output_type": "stream",
     "text": [
      "Epoch 5/10, Train Loss: 0.01001280384791984, Validation Loss: 0.1575534492741316\n",
      "Time taken for epoch: 239.84997201 seconds\n"
     ]
    },
    {
     "name": "stderr",
     "output_type": "stream",
     "text": [
      "Epoch: 5/10: 100%|██████████| 3966/3966 [03:42<00:00, 17.85it/s]\n"
     ]
    },
    {
     "name": "stdout",
     "output_type": "stream",
     "text": [
      "Epoch 6/10, Train Loss: 0.010043112484318361, Validation Loss: 0.13109206878303564\n",
      "Time taken for epoch: 222.24211407 seconds\n",
      "Early stopping triggered\n"
     ]
    },
    {
     "name": "stderr",
     "output_type": "stream",
     "text": [
      "Epoch: 6/10: 100%|██████████| 3966/3966 [03:49<00:00, 17.28it/s]\n"
     ]
    },
    {
     "name": "stdout",
     "output_type": "stream",
     "text": [
      "Epoch 7/10, Train Loss: 0.01009920322976394, Validation Loss: 0.14669361216261054\n",
      "Time taken for epoch: 229.56960607 seconds\n",
      "Early stopping triggered\n"
     ]
    },
    {
     "name": "stderr",
     "output_type": "stream",
     "text": [
      "Epoch: 7/10: 100%|██████████| 3966/3966 [04:06<00:00, 16.09it/s]\n"
     ]
    },
    {
     "name": "stdout",
     "output_type": "stream",
     "text": [
      "Epoch 8/10, Train Loss: 0.010105509955090327, Validation Loss: 0.17465044902448829\n",
      "Time taken for epoch: 246.51126289 seconds\n",
      "Early stopping triggered\n"
     ]
    },
    {
     "name": "stderr",
     "output_type": "stream",
     "text": [
      "Epoch: 8/10: 100%|██████████| 3966/3966 [04:23<00:00, 15.07it/s]\n"
     ]
    },
    {
     "name": "stdout",
     "output_type": "stream",
     "text": [
      "Epoch 9/10, Train Loss: 0.010081187470154334, Validation Loss: 0.14444693766418434\n",
      "Time taken for epoch: 263.25713897 seconds\n",
      "Early stopping triggered\n"
     ]
    },
    {
     "name": "stderr",
     "output_type": "stream",
     "text": [
      "Epoch: 9/10: 100%|██████████| 3966/3966 [03:54<00:00, 16.90it/s]\n",
      "[I 2025-08-02 00:23:53,048] Trial 1 finished with value: 0.12317942352504815 and parameters: {'learning_rate': 0.0014223153787409014, 'hidden_size': 1024, 'num_layers': 5, 'dropout_rate': 0.57795145098455}. Best is trial 0 with value: 0.09582860869548972.\n"
     ]
    },
    {
     "name": "stdout",
     "output_type": "stream",
     "text": [
      "Epoch 10/10, Train Loss: 0.010131866775877657, Validation Loss: 0.12317942352504815\n",
      "Time taken for epoch: 234.68656373 seconds\n"
     ]
    },
    {
     "name": "stderr",
     "output_type": "stream",
     "text": [
      "Epoch: 0/10: 100%|██████████| 3966/3966 [00:39<00:00, 99.39it/s] \n"
     ]
    },
    {
     "name": "stdout",
     "output_type": "stream",
     "text": [
      "Epoch 1/10, Train Loss: 0.021349074676411204, Validation Loss: 0.10230730452729361\n",
      "Time taken for epoch: 39.90520096 seconds\n"
     ]
    },
    {
     "name": "stderr",
     "output_type": "stream",
     "text": [
      "Epoch: 1/10: 100%|██████████| 3966/3966 [00:42<00:00, 93.75it/s] \n"
     ]
    },
    {
     "name": "stdout",
     "output_type": "stream",
     "text": [
      "Epoch 2/10, Train Loss: 0.02124999001748067, Validation Loss: 0.08391711184852886\n",
      "Time taken for epoch: 42.30465198 seconds\n"
     ]
    },
    {
     "name": "stderr",
     "output_type": "stream",
     "text": [
      "Epoch: 2/10: 100%|██████████| 3966/3966 [00:45<00:00, 87.49it/s] \n"
     ]
    },
    {
     "name": "stdout",
     "output_type": "stream",
     "text": [
      "Epoch 3/10, Train Loss: 0.021213160400841043, Validation Loss: 0.0952493446869287\n",
      "Time taken for epoch: 45.33238316 seconds\n"
     ]
    },
    {
     "name": "stderr",
     "output_type": "stream",
     "text": [
      "Epoch: 3/10: 100%|██████████| 3966/3966 [00:43<00:00, 90.43it/s] \n"
     ]
    },
    {
     "name": "stdout",
     "output_type": "stream",
     "text": [
      "Epoch 4/10, Train Loss: 0.021348916401356773, Validation Loss: 0.08147688446094453\n",
      "Time taken for epoch: 43.85887098 seconds\n"
     ]
    },
    {
     "name": "stderr",
     "output_type": "stream",
     "text": [
      "Epoch: 4/10: 100%|██████████| 3966/3966 [00:42<00:00, 93.48it/s] \n"
     ]
    },
    {
     "name": "stdout",
     "output_type": "stream",
     "text": [
      "Epoch 5/10, Train Loss: 0.021486690276843908, Validation Loss: 0.09963043060121549\n",
      "Time taken for epoch: 42.42710280 seconds\n"
     ]
    },
    {
     "name": "stderr",
     "output_type": "stream",
     "text": [
      "Epoch: 5/10: 100%|██████████| 3966/3966 [00:43<00:00, 90.29it/s] \n"
     ]
    },
    {
     "name": "stdout",
     "output_type": "stream",
     "text": [
      "Epoch 6/10, Train Loss: 0.021803594437633057, Validation Loss: 0.11306216633244895\n",
      "Time taken for epoch: 43.92763186 seconds\n"
     ]
    },
    {
     "name": "stderr",
     "output_type": "stream",
     "text": [
      "Epoch: 6/10: 100%|██████████| 3966/3966 [00:42<00:00, 92.62it/s] \n"
     ]
    },
    {
     "name": "stdout",
     "output_type": "stream",
     "text": [
      "Epoch 7/10, Train Loss: 0.022130118758594726, Validation Loss: 0.09414269091801321\n",
      "Time taken for epoch: 42.82052994 seconds\n"
     ]
    },
    {
     "name": "stderr",
     "output_type": "stream",
     "text": [
      "Epoch: 7/10: 100%|██████████| 3966/3966 [00:42<00:00, 93.01it/s] \n"
     ]
    },
    {
     "name": "stdout",
     "output_type": "stream",
     "text": [
      "Epoch 8/10, Train Loss: 0.02183833603093901, Validation Loss: 0.17395799376737459\n",
      "Time taken for epoch: 42.64242268 seconds\n"
     ]
    },
    {
     "name": "stderr",
     "output_type": "stream",
     "text": [
      "Epoch: 8/10: 100%|██████████| 3966/3966 [00:42<00:00, 93.86it/s] \n"
     ]
    },
    {
     "name": "stdout",
     "output_type": "stream",
     "text": [
      "Epoch 9/10, Train Loss: 0.02173141560146695, Validation Loss: 0.06811873511945268\n",
      "Time taken for epoch: 42.25606298 seconds\n"
     ]
    },
    {
     "name": "stderr",
     "output_type": "stream",
     "text": [
      "Epoch: 9/10: 100%|██████████| 3966/3966 [00:41<00:00, 95.11it/s] \n",
      "[I 2025-08-02 00:31:43,370] Trial 2 finished with value: 0.08347781606345987 and parameters: {'learning_rate': 0.017437499082634346, 'hidden_size': 16, 'num_layers': 3, 'dropout_rate': 0.2438774007427657}. Best is trial 2 with value: 0.08347781606345987.\n"
     ]
    },
    {
     "name": "stdout",
     "output_type": "stream",
     "text": [
      "Epoch 10/10, Train Loss: 0.021702461758561796, Validation Loss: 0.08347781606345987\n",
      "Time taken for epoch: 41.70251894 seconds\n"
     ]
    },
    {
     "name": "stderr",
     "output_type": "stream",
     "text": [
      "Epoch: 0/10: 100%|██████████| 3966/3966 [03:51<00:00, 17.11it/s]\n"
     ]
    },
    {
     "name": "stdout",
     "output_type": "stream",
     "text": [
      "Epoch 1/10, Train Loss: 0.005790235655287405, Validation Loss: 0.2481850695420603\n",
      "Time taken for epoch: 231.79943681 seconds\n"
     ]
    },
    {
     "name": "stderr",
     "output_type": "stream",
     "text": [
      "Epoch: 1/10: 100%|██████████| 3966/3966 [03:38<00:00, 18.18it/s]\n"
     ]
    },
    {
     "name": "stdout",
     "output_type": "stream",
     "text": [
      "Epoch 2/10, Train Loss: 0.0026262959378381204, Validation Loss: 0.27137147141674955\n",
      "Time taken for epoch: 218.14642572 seconds\n"
     ]
    },
    {
     "name": "stderr",
     "output_type": "stream",
     "text": [
      "Epoch: 2/10: 100%|██████████| 3966/3966 [03:46<00:00, 17.51it/s]\n"
     ]
    },
    {
     "name": "stdout",
     "output_type": "stream",
     "text": [
      "Epoch 3/10, Train Loss: 0.0027602126666772557, Validation Loss: 0.34254304052378914\n",
      "Time taken for epoch: 226.48335123 seconds\n"
     ]
    },
    {
     "name": "stderr",
     "output_type": "stream",
     "text": [
      "Epoch: 3/10: 100%|██████████| 3966/3966 [03:31<00:00, 18.75it/s]\n"
     ]
    },
    {
     "name": "stdout",
     "output_type": "stream",
     "text": [
      "Epoch 4/10, Train Loss: 0.0027869280508239867, Validation Loss: 0.2524974824187385\n",
      "Time taken for epoch: 211.55854988 seconds\n"
     ]
    },
    {
     "name": "stderr",
     "output_type": "stream",
     "text": [
      "Epoch: 4/10: 100%|██████████| 3966/3966 [03:40<00:00, 17.96it/s]\n"
     ]
    },
    {
     "name": "stdout",
     "output_type": "stream",
     "text": [
      "Epoch 5/10, Train Loss: 0.0027830333843924934, Validation Loss: 0.26828019231069183\n",
      "Time taken for epoch: 220.80323005 seconds\n"
     ]
    },
    {
     "name": "stderr",
     "output_type": "stream",
     "text": [
      "Epoch: 5/10: 100%|██████████| 3966/3966 [03:37<00:00, 18.20it/s]\n"
     ]
    },
    {
     "name": "stdout",
     "output_type": "stream",
     "text": [
      "Epoch 6/10, Train Loss: 0.0027906712269893295, Validation Loss: 0.36006181772362567\n",
      "Time taken for epoch: 217.85543394 seconds\n",
      "Early stopping triggered\n"
     ]
    },
    {
     "name": "stderr",
     "output_type": "stream",
     "text": [
      "Epoch: 6/10: 100%|██████████| 3966/3966 [03:51<00:00, 17.15it/s]\n"
     ]
    },
    {
     "name": "stdout",
     "output_type": "stream",
     "text": [
      "Epoch 7/10, Train Loss: 0.002789609670600057, Validation Loss: 0.28276832916482386\n",
      "Time taken for epoch: 231.23236990 seconds\n",
      "Early stopping triggered\n"
     ]
    },
    {
     "name": "stderr",
     "output_type": "stream",
     "text": [
      "Epoch: 7/10: 100%|██████████| 3966/3966 [03:32<00:00, 18.63it/s]\n"
     ]
    },
    {
     "name": "stdout",
     "output_type": "stream",
     "text": [
      "Epoch 8/10, Train Loss: 0.0027817448185366053, Validation Loss: 0.23284917245620435\n",
      "Time taken for epoch: 212.88614106 seconds\n"
     ]
    },
    {
     "name": "stderr",
     "output_type": "stream",
     "text": [
      "Epoch: 8/10: 100%|██████████| 3966/3966 [03:37<00:00, 18.20it/s]\n"
     ]
    },
    {
     "name": "stdout",
     "output_type": "stream",
     "text": [
      "Epoch 9/10, Train Loss: 0.0027838658995947983, Validation Loss: 0.25643373498769995\n",
      "Time taken for epoch: 217.93665314 seconds\n"
     ]
    },
    {
     "name": "stderr",
     "output_type": "stream",
     "text": [
      "Epoch: 9/10: 100%|██████████| 3966/3966 [03:20<00:00, 19.82it/s]\n",
      "[I 2025-08-02 01:10:06,057] Trial 3 finished with value: 0.24741355230319542 and parameters: {'learning_rate': 0.0005210017644935742, 'hidden_size': 1024, 'num_layers': 3, 'dropout_rate': 0.3371643997084714}. Best is trial 2 with value: 0.08347781606345987.\n"
     ]
    },
    {
     "name": "stdout",
     "output_type": "stream",
     "text": [
      "Epoch 10/10, Train Loss: 0.0027874312283136834, Validation Loss: 0.24741355230319542\n",
      "Time taken for epoch: 200.10050106 seconds\n"
     ]
    },
    {
     "name": "stderr",
     "output_type": "stream",
     "text": [
      "Epoch: 0/10: 100%|██████████| 3966/3966 [01:47<00:00, 36.91it/s]\n"
     ]
    },
    {
     "name": "stdout",
     "output_type": "stream",
     "text": [
      "Epoch 1/10, Train Loss: 0.016748770960830658, Validation Loss: 0.08939965408342497\n",
      "Time taken for epoch: 107.46366429 seconds\n"
     ]
    },
    {
     "name": "stderr",
     "output_type": "stream",
     "text": [
      "Epoch: 1/10: 100%|██████████| 3966/3966 [01:38<00:00, 40.40it/s]\n"
     ]
    },
    {
     "name": "stdout",
     "output_type": "stream",
     "text": [
      "Epoch 2/10, Train Loss: 0.01755149464277467, Validation Loss: 0.07776608004080617\n",
      "Time taken for epoch: 98.17707324 seconds\n"
     ]
    },
    {
     "name": "stderr",
     "output_type": "stream",
     "text": [
      "Epoch: 2/10: 100%|██████████| 3966/3966 [01:39<00:00, 39.74it/s]\n"
     ]
    },
    {
     "name": "stdout",
     "output_type": "stream",
     "text": [
      "Epoch 3/10, Train Loss: 0.017755160960864297, Validation Loss: 0.09374101275968823\n",
      "Time taken for epoch: 99.80055189 seconds\n"
     ]
    },
    {
     "name": "stderr",
     "output_type": "stream",
     "text": [
      "Epoch: 3/10: 100%|██████████| 3966/3966 [01:37<00:00, 40.76it/s]\n"
     ]
    },
    {
     "name": "stdout",
     "output_type": "stream",
     "text": [
      "Epoch 4/10, Train Loss: 0.017864982919477253, Validation Loss: 0.08986774282376332\n",
      "Time taken for epoch: 97.30194712 seconds\n"
     ]
    },
    {
     "name": "stderr",
     "output_type": "stream",
     "text": [
      "Epoch: 4/10: 100%|██████████| 3966/3966 [01:38<00:00, 40.22it/s]\n"
     ]
    },
    {
     "name": "stdout",
     "output_type": "stream",
     "text": [
      "Epoch 5/10, Train Loss: 0.018030739198680694, Validation Loss: 0.10213135115701862\n",
      "Time taken for epoch: 98.61937594 seconds\n"
     ]
    },
    {
     "name": "stderr",
     "output_type": "stream",
     "text": [
      "Epoch: 5/10: 100%|██████████| 3966/3966 [01:37<00:00, 40.56it/s]\n"
     ]
    },
    {
     "name": "stdout",
     "output_type": "stream",
     "text": [
      "Epoch 6/10, Train Loss: 0.017986465210261305, Validation Loss: 0.08361104994491889\n",
      "Time taken for epoch: 97.78710485 seconds\n"
     ]
    },
    {
     "name": "stderr",
     "output_type": "stream",
     "text": [
      "Epoch: 6/10: 100%|██████████| 3966/3966 [01:37<00:00, 40.82it/s]\n"
     ]
    },
    {
     "name": "stdout",
     "output_type": "stream",
     "text": [
      "Epoch 7/10, Train Loss: 0.0180900668996831, Validation Loss: 0.08596621863765531\n",
      "Time taken for epoch: 97.15155983 seconds\n",
      "Early stopping triggered\n"
     ]
    },
    {
     "name": "stderr",
     "output_type": "stream",
     "text": [
      "Epoch: 7/10: 100%|██████████| 3966/3966 [01:38<00:00, 40.19it/s]\n"
     ]
    },
    {
     "name": "stdout",
     "output_type": "stream",
     "text": [
      "Epoch 8/10, Train Loss: 0.018078727604923708, Validation Loss: 0.08678905243316058\n",
      "Time taken for epoch: 98.67131686 seconds\n",
      "Early stopping triggered\n"
     ]
    },
    {
     "name": "stderr",
     "output_type": "stream",
     "text": [
      "Epoch: 8/10: 100%|██████████| 3966/3966 [01:58<00:00, 33.40it/s]\n"
     ]
    },
    {
     "name": "stdout",
     "output_type": "stream",
     "text": [
      "Epoch 9/10, Train Loss: 0.018085876820478408, Validation Loss: 0.09826988271411381\n",
      "Time taken for epoch: 118.73707891 seconds\n",
      "Early stopping triggered\n"
     ]
    },
    {
     "name": "stderr",
     "output_type": "stream",
     "text": [
      "Epoch: 9/10: 100%|██████████| 3966/3966 [02:08<00:00, 30.75it/s]\n",
      "[I 2025-08-02 01:28:33,215] Trial 4 finished with value: 0.08791131330665912 and parameters: {'learning_rate': 0.0036544988607593734, 'hidden_size': 512, 'num_layers': 4, 'dropout_rate': 0.6556073952572952}. Best is trial 2 with value: 0.08347781606345987.\n"
     ]
    },
    {
     "name": "stdout",
     "output_type": "stream",
     "text": [
      "Epoch 10/10, Train Loss: 0.018245639520416912, Validation Loss: 0.08791131330665912\n",
      "Time taken for epoch: 128.95721197 seconds\n",
      "Early stopping triggered\n"
     ]
    },
    {
     "name": "stderr",
     "output_type": "stream",
     "text": [
      "Epoch: 0/10: 100%|██████████| 3966/3966 [01:02<00:00, 63.09it/s]\n"
     ]
    },
    {
     "name": "stdout",
     "output_type": "stream",
     "text": [
      "Epoch 1/10, Train Loss: 0.006399133069804938, Validation Loss: 0.4356460566846939\n",
      "Time taken for epoch: 62.86267591 seconds\n"
     ]
    },
    {
     "name": "stderr",
     "output_type": "stream",
     "text": [
      "Epoch: 1/10: 100%|██████████| 3966/3966 [01:02<00:00, 63.15it/s]\n"
     ]
    },
    {
     "name": "stdout",
     "output_type": "stream",
     "text": [
      "Epoch 2/10, Train Loss: 0.0017523788928337943, Validation Loss: 0.3702057723233402\n",
      "Time taken for epoch: 62.80988908 seconds\n"
     ]
    },
    {
     "name": "stderr",
     "output_type": "stream",
     "text": [
      "Epoch: 2/10: 100%|██████████| 3966/3966 [01:02<00:00, 63.97it/s]\n"
     ]
    },
    {
     "name": "stdout",
     "output_type": "stream",
     "text": [
      "Epoch 3/10, Train Loss: 0.0018997476824835896, Validation Loss: 0.3540506343019055\n",
      "Time taken for epoch: 62.00219417 seconds\n"
     ]
    },
    {
     "name": "stderr",
     "output_type": "stream",
     "text": [
      "Epoch: 3/10: 100%|██████████| 3966/3966 [01:02<00:00, 63.63it/s]\n"
     ]
    },
    {
     "name": "stdout",
     "output_type": "stream",
     "text": [
      "Epoch 4/10, Train Loss: 0.001926851048458563, Validation Loss: 0.3550434944579233\n",
      "Time taken for epoch: 62.33210874 seconds\n"
     ]
    },
    {
     "name": "stderr",
     "output_type": "stream",
     "text": [
      "Epoch: 4/10: 100%|██████████| 3966/3966 [01:02<00:00, 63.67it/s]\n"
     ]
    },
    {
     "name": "stdout",
     "output_type": "stream",
     "text": [
      "Epoch 5/10, Train Loss: 0.001937115593268327, Validation Loss: 0.3334325929276986\n",
      "Time taken for epoch: 62.28873086 seconds\n"
     ]
    },
    {
     "name": "stderr",
     "output_type": "stream",
     "text": [
      "Epoch: 5/10: 100%|██████████| 3966/3966 [01:01<00:00, 64.49it/s]\n"
     ]
    },
    {
     "name": "stdout",
     "output_type": "stream",
     "text": [
      "Epoch 6/10, Train Loss: 0.001939055904785037, Validation Loss: 0.37329879208313127\n",
      "Time taken for epoch: 61.49541712 seconds\n"
     ]
    },
    {
     "name": "stderr",
     "output_type": "stream",
     "text": [
      "Epoch: 6/10: 100%|██████████| 3966/3966 [01:03<00:00, 62.88it/s]\n"
     ]
    },
    {
     "name": "stdout",
     "output_type": "stream",
     "text": [
      "Epoch 7/10, Train Loss: 0.0019427770721729407, Validation Loss: 0.36963196092328204\n",
      "Time taken for epoch: 63.07315302 seconds\n"
     ]
    },
    {
     "name": "stderr",
     "output_type": "stream",
     "text": [
      "Epoch: 7/10: 100%|██████████| 3966/3966 [01:02<00:00, 63.86it/s]\n"
     ]
    },
    {
     "name": "stdout",
     "output_type": "stream",
     "text": [
      "Epoch 8/10, Train Loss: 0.0019440738653279917, Validation Loss: 0.3743667913123845\n",
      "Time taken for epoch: 62.10705209 seconds\n"
     ]
    },
    {
     "name": "stderr",
     "output_type": "stream",
     "text": [
      "Epoch: 8/10: 100%|██████████| 3966/3966 [01:01<00:00, 64.08it/s]\n"
     ]
    },
    {
     "name": "stdout",
     "output_type": "stream",
     "text": [
      "Epoch 9/10, Train Loss: 0.0019458733843716986, Validation Loss: 0.3471388978357681\n",
      "Time taken for epoch: 61.89382291 seconds\n"
     ]
    },
    {
     "name": "stderr",
     "output_type": "stream",
     "text": [
      "Epoch: 9/10: 100%|██████████| 3966/3966 [01:02<00:00, 63.79it/s]\n",
      "[I 2025-08-02 01:39:44,959] Trial 5 finished with value: 0.35723647068088454 and parameters: {'learning_rate': 0.00017032307607541767, 'hidden_size': 256, 'num_layers': 2, 'dropout_rate': 0.11886471300895284}. Best is trial 2 with value: 0.08347781606345987.\n"
     ]
    },
    {
     "name": "stdout",
     "output_type": "stream",
     "text": [
      "Epoch 10/10, Train Loss: 0.0019467682256250616, Validation Loss: 0.35723647068088454\n",
      "Time taken for epoch: 62.17705512 seconds\n",
      "Early stopping triggered\n"
     ]
    },
    {
     "name": "stderr",
     "output_type": "stream",
     "text": [
      "Epoch: 0/10: 100%|██████████| 3966/3966 [02:00<00:00, 32.78it/s]\n"
     ]
    },
    {
     "name": "stdout",
     "output_type": "stream",
     "text": [
      "Epoch 1/10, Train Loss: 0.01749807014799312, Validation Loss: 0.06582431105108043\n",
      "Time taken for epoch: 120.97416091 seconds\n"
     ]
    },
    {
     "name": "stderr",
     "output_type": "stream",
     "text": [
      "Epoch: 1/10: 100%|██████████| 3966/3966 [02:03<00:00, 32.24it/s]\n"
     ]
    },
    {
     "name": "stdout",
     "output_type": "stream",
     "text": [
      "Epoch 2/10, Train Loss: 0.018578080281491268, Validation Loss: 0.039942524624442206\n",
      "Time taken for epoch: 123.00491428 seconds\n"
     ]
    },
    {
     "name": "stderr",
     "output_type": "stream",
     "text": [
      "Epoch: 2/10: 100%|██████████| 3966/3966 [02:00<00:00, 32.94it/s]\n"
     ]
    },
    {
     "name": "stdout",
     "output_type": "stream",
     "text": [
      "Epoch 3/10, Train Loss: 0.01940132199189674, Validation Loss: 0.06785437381642731\n",
      "Time taken for epoch: 120.42074013 seconds\n"
     ]
    },
    {
     "name": "stderr",
     "output_type": "stream",
     "text": [
      "Epoch: 3/10: 100%|██████████| 3966/3966 [02:01<00:00, 32.76it/s]\n"
     ]
    },
    {
     "name": "stdout",
     "output_type": "stream",
     "text": [
      "Epoch 4/10, Train Loss: 0.019556547262185957, Validation Loss: 0.2005529009994646\n",
      "Time taken for epoch: 121.06864095 seconds\n"
     ]
    },
    {
     "name": "stderr",
     "output_type": "stream",
     "text": [
      "Epoch: 4/10: 100%|██████████| 3966/3966 [02:01<00:00, 32.76it/s]\n"
     ]
    },
    {
     "name": "stdout",
     "output_type": "stream",
     "text": [
      "Epoch 5/10, Train Loss: 0.01978102877813115, Validation Loss: 0.0668325225020156\n",
      "Time taken for epoch: 121.05305696 seconds\n"
     ]
    },
    {
     "name": "stderr",
     "output_type": "stream",
     "text": [
      "Epoch: 5/10: 100%|██████████| 3966/3966 [02:01<00:00, 32.58it/s]\n"
     ]
    },
    {
     "name": "stdout",
     "output_type": "stream",
     "text": [
      "Epoch 6/10, Train Loss: 0.019581920172609634, Validation Loss: 0.06863396497512499\n",
      "Time taken for epoch: 121.72716904 seconds\n"
     ]
    },
    {
     "name": "stderr",
     "output_type": "stream",
     "text": [
      "Epoch: 6/10: 100%|██████████| 3966/3966 [02:00<00:00, 32.81it/s]\n"
     ]
    },
    {
     "name": "stdout",
     "output_type": "stream",
     "text": [
      "Epoch 7/10, Train Loss: 0.01984529780548966, Validation Loss: 0.048039405181494216\n",
      "Time taken for epoch: 120.87301302 seconds\n",
      "Early stopping triggered\n"
     ]
    },
    {
     "name": "stderr",
     "output_type": "stream",
     "text": [
      "Epoch: 7/10: 100%|██████████| 3966/3966 [02:01<00:00, 32.64it/s]\n"
     ]
    },
    {
     "name": "stdout",
     "output_type": "stream",
     "text": [
      "Epoch 8/10, Train Loss: 0.019830784325516562, Validation Loss: 0.0428794730533504\n",
      "Time taken for epoch: 121.50056291 seconds\n",
      "Early stopping triggered\n"
     ]
    },
    {
     "name": "stderr",
     "output_type": "stream",
     "text": [
      "Epoch: 8/10: 100%|██████████| 3966/3966 [02:02<00:00, 32.48it/s]\n"
     ]
    },
    {
     "name": "stdout",
     "output_type": "stream",
     "text": [
      "Epoch 9/10, Train Loss: 0.01995899498042807, Validation Loss: 0.05399851369033225\n",
      "Time taken for epoch: 122.12306786 seconds\n",
      "Early stopping triggered\n"
     ]
    },
    {
     "name": "stderr",
     "output_type": "stream",
     "text": [
      "Epoch: 9/10: 100%|██████████| 3966/3966 [02:01<00:00, 32.66it/s]\n",
      "[I 2025-08-02 02:01:12,610] Trial 6 finished with value: 0.05375556787659965 and parameters: {'learning_rate': 0.02984846768845818, 'hidden_size': 512, 'num_layers': 3, 'dropout_rate': 0.5413045837731051}. Best is trial 6 with value: 0.05375556787659965.\n"
     ]
    },
    {
     "name": "stdout",
     "output_type": "stream",
     "text": [
      "Epoch 10/10, Train Loss: 0.019972524442486896, Validation Loss: 0.05375556787659965\n",
      "Time taken for epoch: 121.43632007 seconds\n",
      "Early stopping triggered\n"
     ]
    },
    {
     "name": "stderr",
     "output_type": "stream",
     "text": [
      "Epoch: 0/10: 100%|██████████| 3966/3966 [01:00<00:00, 65.46it/s]\n"
     ]
    },
    {
     "name": "stdout",
     "output_type": "stream",
     "text": [
      "Epoch 1/10, Train Loss: 0.06573446312533204, Validation Loss: 0.03987227434644895\n",
      "Time taken for epoch: 60.58920407 seconds\n"
     ]
    },
    {
     "name": "stderr",
     "output_type": "stream",
     "text": [
      "Epoch: 1/10: 100%|██████████| 3966/3966 [01:01<00:00, 64.82it/s]\n"
     ]
    },
    {
     "name": "stdout",
     "output_type": "stream",
     "text": [
      "Epoch 2/10, Train Loss: 0.020841742893215973, Validation Loss: 0.09106627926399691\n",
      "Time taken for epoch: 61.18395782 seconds\n"
     ]
    },
    {
     "name": "stderr",
     "output_type": "stream",
     "text": [
      "Epoch: 2/10: 100%|██████████| 3966/3966 [01:00<00:00, 65.68it/s]\n"
     ]
    },
    {
     "name": "stdout",
     "output_type": "stream",
     "text": [
      "Epoch 3/10, Train Loss: 0.015282905453687372, Validation Loss: 0.13853594526167798\n",
      "Time taken for epoch: 60.39025688 seconds\n"
     ]
    },
    {
     "name": "stderr",
     "output_type": "stream",
     "text": [
      "Epoch: 3/10: 100%|██████████| 3966/3966 [01:00<00:00, 65.42it/s]\n"
     ]
    },
    {
     "name": "stdout",
     "output_type": "stream",
     "text": [
      "Epoch 4/10, Train Loss: 0.013598209790851634, Validation Loss: 0.17395090401364124\n",
      "Time taken for epoch: 60.62394977 seconds\n"
     ]
    },
    {
     "name": "stderr",
     "output_type": "stream",
     "text": [
      "Epoch: 4/10: 100%|██████████| 3966/3966 [01:00<00:00, 65.77it/s]\n"
     ]
    },
    {
     "name": "stdout",
     "output_type": "stream",
     "text": [
      "Epoch 5/10, Train Loss: 0.013430481699102315, Validation Loss: 0.17685125248490408\n",
      "Time taken for epoch: 60.30755615 seconds\n"
     ]
    },
    {
     "name": "stderr",
     "output_type": "stream",
     "text": [
      "Epoch: 5/10: 100%|██████████| 3966/3966 [01:00<00:00, 66.04it/s]\n"
     ]
    },
    {
     "name": "stdout",
     "output_type": "stream",
     "text": [
      "Epoch 6/10, Train Loss: 0.013456115838463371, Validation Loss: 0.15862058950160415\n",
      "Time taken for epoch: 60.05251503 seconds\n",
      "Early stopping triggered\n"
     ]
    },
    {
     "name": "stderr",
     "output_type": "stream",
     "text": [
      "Epoch: 6/10: 100%|██████████| 3966/3966 [01:01<00:00, 64.67it/s]\n"
     ]
    },
    {
     "name": "stdout",
     "output_type": "stream",
     "text": [
      "Epoch 7/10, Train Loss: 0.013600841663830429, Validation Loss: 0.16291004385182195\n",
      "Time taken for epoch: 61.32811213 seconds\n",
      "Early stopping triggered\n"
     ]
    },
    {
     "name": "stderr",
     "output_type": "stream",
     "text": [
      "Epoch: 7/10: 100%|██████████| 3966/3966 [01:00<00:00, 65.99it/s]\n"
     ]
    },
    {
     "name": "stdout",
     "output_type": "stream",
     "text": [
      "Epoch 8/10, Train Loss: 0.013710834730775352, Validation Loss: 0.1600752422100952\n",
      "Time taken for epoch: 60.09851909 seconds\n",
      "Early stopping triggered\n"
     ]
    },
    {
     "name": "stderr",
     "output_type": "stream",
     "text": [
      "Epoch: 8/10: 100%|██████████| 3966/3966 [01:00<00:00, 65.88it/s]\n"
     ]
    },
    {
     "name": "stdout",
     "output_type": "stream",
     "text": [
      "Epoch 9/10, Train Loss: 0.013806356983404914, Validation Loss: 0.1811394489048293\n",
      "Time taken for epoch: 60.20680618 seconds\n",
      "Early stopping triggered\n"
     ]
    },
    {
     "name": "stderr",
     "output_type": "stream",
     "text": [
      "Epoch: 9/10: 100%|██████████| 3966/3966 [01:00<00:00, 65.63it/s]\n",
      "[I 2025-08-02 02:12:04,416] Trial 7 finished with value: 0.19935831613526472 and parameters: {'learning_rate': 3.152974730730359e-05, 'hidden_size': 128, 'num_layers': 5, 'dropout_rate': 0.32529044239636706}. Best is trial 6 with value: 0.05375556787659965.\n"
     ]
    },
    {
     "name": "stdout",
     "output_type": "stream",
     "text": [
      "Epoch 10/10, Train Loss: 0.013794092134588064, Validation Loss: 0.19935831613526472\n",
      "Time taken for epoch: 60.43250895 seconds\n",
      "Early stopping triggered\n"
     ]
    },
    {
     "name": "stderr",
     "output_type": "stream",
     "text": [
      "Epoch: 0/10: 100%|██████████| 3966/3966 [00:41<00:00, 95.65it/s] \n"
     ]
    },
    {
     "name": "stdout",
     "output_type": "stream",
     "text": [
      "Epoch 1/10, Train Loss: 0.011349708732922969, Validation Loss: 0.2351118352068708\n",
      "Time taken for epoch: 41.46596217 seconds\n"
     ]
    },
    {
     "name": "stderr",
     "output_type": "stream",
     "text": [
      "Epoch: 1/10: 100%|██████████| 3966/3966 [00:41<00:00, 94.68it/s] \n"
     ]
    },
    {
     "name": "stdout",
     "output_type": "stream",
     "text": [
      "Epoch 2/10, Train Loss: 0.005323530109040345, Validation Loss: 0.21249314213952125\n",
      "Time taken for epoch: 41.89086390 seconds\n"
     ]
    },
    {
     "name": "stderr",
     "output_type": "stream",
     "text": [
      "Epoch: 2/10: 100%|██████████| 3966/3966 [00:42<00:00, 93.46it/s] \n"
     ]
    },
    {
     "name": "stdout",
     "output_type": "stream",
     "text": [
      "Epoch 3/10, Train Loss: 0.005340044786712127, Validation Loss: 0.22647670487833427\n",
      "Time taken for epoch: 42.43724585 seconds\n"
     ]
    },
    {
     "name": "stderr",
     "output_type": "stream",
     "text": [
      "Epoch: 3/10: 100%|██████████| 3966/3966 [00:41<00:00, 94.77it/s] \n"
     ]
    },
    {
     "name": "stdout",
     "output_type": "stream",
     "text": [
      "Epoch 4/10, Train Loss: 0.005351406441080002, Validation Loss: 0.226980569111156\n",
      "Time taken for epoch: 41.84904909 seconds\n"
     ]
    },
    {
     "name": "stderr",
     "output_type": "stream",
     "text": [
      "Epoch: 4/10: 100%|██████████| 3966/3966 [00:41<00:00, 95.30it/s] \n"
     ]
    },
    {
     "name": "stdout",
     "output_type": "stream",
     "text": [
      "Epoch 5/10, Train Loss: 0.005352256641959451, Validation Loss: 0.21544608330793694\n",
      "Time taken for epoch: 41.61680102 seconds\n"
     ]
    },
    {
     "name": "stderr",
     "output_type": "stream",
     "text": [
      "Epoch: 5/10: 100%|██████████| 3966/3966 [00:39<00:00, 99.17it/s] \n"
     ]
    },
    {
     "name": "stdout",
     "output_type": "stream",
     "text": [
      "Epoch 6/10, Train Loss: 0.005341574002998499, Validation Loss: 0.21498573314046923\n",
      "Time taken for epoch: 39.99359202 seconds\n"
     ]
    },
    {
     "name": "stderr",
     "output_type": "stream",
     "text": [
      "Epoch: 6/10: 100%|██████████| 3966/3966 [00:37<00:00, 106.20it/s]\n"
     ]
    },
    {
     "name": "stdout",
     "output_type": "stream",
     "text": [
      "Epoch 7/10, Train Loss: 0.005328059245081289, Validation Loss: 0.19422170646667059\n",
      "Time taken for epoch: 37.34755921 seconds\n"
     ]
    },
    {
     "name": "stderr",
     "output_type": "stream",
     "text": [
      "Epoch: 7/10: 100%|██████████| 3966/3966 [00:35<00:00, 110.81it/s]\n"
     ]
    },
    {
     "name": "stdout",
     "output_type": "stream",
     "text": [
      "Epoch 8/10, Train Loss: 0.005338259662895553, Validation Loss: 0.23160014001254994\n",
      "Time taken for epoch: 35.79288077 seconds\n"
     ]
    },
    {
     "name": "stderr",
     "output_type": "stream",
     "text": [
      "Epoch: 8/10: 100%|██████████| 3966/3966 [00:36<00:00, 109.21it/s]\n"
     ]
    },
    {
     "name": "stdout",
     "output_type": "stream",
     "text": [
      "Epoch 9/10, Train Loss: 0.005339493825576121, Validation Loss: 0.23383037208622157\n",
      "Time taken for epoch: 36.31844568 seconds\n"
     ]
    },
    {
     "name": "stderr",
     "output_type": "stream",
     "text": [
      "Epoch: 9/10: 100%|██████████| 3966/3966 [00:37<00:00, 106.80it/s]\n",
      "[I 2025-08-02 02:19:20,744] Trial 8 finished with value: 0.22414698062451244 and parameters: {'learning_rate': 0.0007816809047931753, 'hidden_size': 128, 'num_layers': 1, 'dropout_rate': 0.5876698549879525}. Best is trial 6 with value: 0.05375556787659965.\n"
     ]
    },
    {
     "name": "stdout",
     "output_type": "stream",
     "text": [
      "Epoch 10/10, Train Loss: 0.005336001994082656, Validation Loss: 0.22414698062451244\n",
      "Time taken for epoch: 37.13865089 seconds\n"
     ]
    },
    {
     "name": "stderr",
     "output_type": "stream",
     "text": [
      "Epoch: 0/10: 100%|██████████| 3966/3966 [00:44<00:00, 89.90it/s] \n"
     ]
    },
    {
     "name": "stdout",
     "output_type": "stream",
     "text": [
      "Epoch 1/10, Train Loss: 0.09986511156699361, Validation Loss: 0.08194403733166256\n",
      "Time taken for epoch: 44.11953998 seconds\n"
     ]
    },
    {
     "name": "stderr",
     "output_type": "stream",
     "text": [
      "Epoch: 1/10: 100%|██████████| 3966/3966 [00:44<00:00, 89.82it/s] \n"
     ]
    },
    {
     "name": "stdout",
     "output_type": "stream",
     "text": [
      "Epoch 2/10, Train Loss: 0.08237057781683875, Validation Loss: 0.08381199867797304\n",
      "Time taken for epoch: 44.15714574 seconds\n"
     ]
    },
    {
     "name": "stderr",
     "output_type": "stream",
     "text": [
      "Epoch: 2/10: 100%|██████████| 3966/3966 [00:44<00:00, 89.96it/s] \n"
     ]
    },
    {
     "name": "stdout",
     "output_type": "stream",
     "text": [
      "Epoch 3/10, Train Loss: 0.08245847901903315, Validation Loss: 0.08314082063940441\n",
      "Time taken for epoch: 44.08870602 seconds\n"
     ]
    },
    {
     "name": "stderr",
     "output_type": "stream",
     "text": [
      "Epoch: 3/10: 100%|██████████| 3966/3966 [00:43<00:00, 90.23it/s] \n"
     ]
    },
    {
     "name": "stdout",
     "output_type": "stream",
     "text": [
      "Epoch 4/10, Train Loss: 0.08245892616846437, Validation Loss: 0.08185979373212383\n",
      "Time taken for epoch: 43.95501494 seconds\n"
     ]
    },
    {
     "name": "stderr",
     "output_type": "stream",
     "text": [
      "Epoch: 4/10: 100%|██████████| 3966/3966 [00:43<00:00, 90.24it/s] \n"
     ]
    },
    {
     "name": "stdout",
     "output_type": "stream",
     "text": [
      "Epoch 5/10, Train Loss: 0.08246436574230036, Validation Loss: 0.08266627649915359\n",
      "Time taken for epoch: 43.95144606 seconds\n"
     ]
    },
    {
     "name": "stderr",
     "output_type": "stream",
     "text": [
      "Epoch: 5/10: 100%|██████████| 3966/3966 [00:43<00:00, 90.35it/s] \n"
     ]
    },
    {
     "name": "stdout",
     "output_type": "stream",
     "text": [
      "Epoch 6/10, Train Loss: 0.08245632194632602, Validation Loss: 0.08339454892363443\n",
      "Time taken for epoch: 43.89894676 seconds\n",
      "Early stopping triggered\n"
     ]
    },
    {
     "name": "stderr",
     "output_type": "stream",
     "text": [
      "Epoch: 6/10: 100%|██████████| 3966/3966 [00:43<00:00, 90.67it/s] \n"
     ]
    },
    {
     "name": "stdout",
     "output_type": "stream",
     "text": [
      "Epoch 7/10, Train Loss: 0.08245825916115407, Validation Loss: 0.08184340423862853\n",
      "Time taken for epoch: 43.74411130 seconds\n"
     ]
    },
    {
     "name": "stderr",
     "output_type": "stream",
     "text": [
      "Epoch: 7/10: 100%|██████████| 3966/3966 [00:44<00:00, 89.70it/s] \n"
     ]
    },
    {
     "name": "stdout",
     "output_type": "stream",
     "text": [
      "Epoch 8/10, Train Loss: 0.08245659314670829, Validation Loss: 0.08260841271735289\n",
      "Time taken for epoch: 44.21861792 seconds\n"
     ]
    },
    {
     "name": "stderr",
     "output_type": "stream",
     "text": [
      "Epoch: 8/10: 100%|██████████| 3966/3966 [00:44<00:00, 89.48it/s] \n"
     ]
    },
    {
     "name": "stdout",
     "output_type": "stream",
     "text": [
      "Epoch 9/10, Train Loss: 0.08246600479112992, Validation Loss: 0.08276920685139998\n",
      "Time taken for epoch: 44.32526803 seconds\n"
     ]
    },
    {
     "name": "stderr",
     "output_type": "stream",
     "text": [
      "Epoch: 9/10: 100%|██████████| 3966/3966 [00:44<00:00, 89.97it/s] \n",
      "[I 2025-08-02 02:27:21,154] Trial 9 finished with value: 0.08184187902026231 and parameters: {'learning_rate': 0.017587030504269324, 'hidden_size': 16, 'num_layers': 5, 'dropout_rate': 0.6873564649093982}. Best is trial 6 with value: 0.05375556787659965.\n"
     ]
    },
    {
     "name": "stdout",
     "output_type": "stream",
     "text": [
      "Epoch 10/10, Train Loss: 0.08245923371813661, Validation Loss: 0.08184187902026231\n",
      "Time taken for epoch: 44.08242202 seconds\n"
     ]
    },
    {
     "name": "stderr",
     "output_type": "stream",
     "text": [
      "Epoch: 0/10: 100%|██████████| 3966/3966 [00:49<00:00, 79.98it/s] \n"
     ]
    },
    {
     "name": "stdout",
     "output_type": "stream",
     "text": [
      "Epoch 1/10, Train Loss: 0.08072668107209349, Validation Loss: 0.03559528992497446\n",
      "Time taken for epoch: 49.59129190 seconds\n"
     ]
    },
    {
     "name": "stderr",
     "output_type": "stream",
     "text": [
      "Epoch: 1/10: 100%|██████████| 3966/3966 [00:50<00:00, 78.58it/s]\n"
     ]
    },
    {
     "name": "stdout",
     "output_type": "stream",
     "text": [
      "Epoch 2/10, Train Loss: 0.011427926553499689, Validation Loss: 0.12768567693434907\n",
      "Time taken for epoch: 50.47471189 seconds\n"
     ]
    },
    {
     "name": "stderr",
     "output_type": "stream",
     "text": [
      "Epoch: 2/10: 100%|██████████| 3966/3966 [00:50<00:00, 79.04it/s]\n"
     ]
    },
    {
     "name": "stdout",
     "output_type": "stream",
     "text": [
      "Epoch 3/10, Train Loss: 0.01507592358167574, Validation Loss: 0.052462406629992936\n",
      "Time taken for epoch: 50.18205190 seconds\n"
     ]
    },
    {
     "name": "stderr",
     "output_type": "stream",
     "text": [
      "Epoch: 3/10: 100%|██████████| 3966/3966 [00:50<00:00, 78.81it/s]\n"
     ]
    },
    {
     "name": "stdout",
     "output_type": "stream",
     "text": [
      "Epoch 4/10, Train Loss: 0.016467255960062214, Validation Loss: 0.10171050117956182\n",
      "Time taken for epoch: 50.32379699 seconds\n"
     ]
    },
    {
     "name": "stderr",
     "output_type": "stream",
     "text": [
      "Epoch: 4/10: 100%|██████████| 3966/3966 [00:50<00:00, 77.84it/s]\n"
     ]
    },
    {
     "name": "stdout",
     "output_type": "stream",
     "text": [
      "Epoch 5/10, Train Loss: 0.01460373924718254, Validation Loss: 0.04035663167674649\n",
      "Time taken for epoch: 50.95029211 seconds\n"
     ]
    },
    {
     "name": "stderr",
     "output_type": "stream",
     "text": [
      "Epoch: 5/10: 100%|██████████| 3966/3966 [00:50<00:00, 78.29it/s]\n"
     ]
    },
    {
     "name": "stdout",
     "output_type": "stream",
     "text": [
      "Epoch 6/10, Train Loss: 0.014954637402393379, Validation Loss: 0.0746126909822055\n",
      "Time taken for epoch: 50.66056776 seconds\n",
      "Early stopping triggered\n"
     ]
    },
    {
     "name": "stderr",
     "output_type": "stream",
     "text": [
      "Epoch: 6/10: 100%|██████████| 3966/3966 [00:50<00:00, 78.16it/s]\n"
     ]
    },
    {
     "name": "stdout",
     "output_type": "stream",
     "text": [
      "Epoch 7/10, Train Loss: 0.01453892953305933, Validation Loss: 0.09799872971380412\n",
      "Time taken for epoch: 50.74337482 seconds\n",
      "Early stopping triggered\n"
     ]
    },
    {
     "name": "stderr",
     "output_type": "stream",
     "text": [
      "Epoch: 7/10: 100%|██████████| 3966/3966 [00:51<00:00, 77.47it/s]\n"
     ]
    },
    {
     "name": "stdout",
     "output_type": "stream",
     "text": [
      "Epoch 8/10, Train Loss: 0.014277241257570244, Validation Loss: 0.09059307911788803\n",
      "Time taken for epoch: 51.19431424 seconds\n",
      "Early stopping triggered\n"
     ]
    },
    {
     "name": "stderr",
     "output_type": "stream",
     "text": [
      "Epoch: 8/10: 100%|██████████| 3966/3966 [00:50<00:00, 78.78it/s]\n"
     ]
    },
    {
     "name": "stdout",
     "output_type": "stream",
     "text": [
      "Epoch 9/10, Train Loss: 0.014363969329827236, Validation Loss: 0.032466766773585905\n",
      "Time taken for epoch: 50.34452415 seconds\n"
     ]
    },
    {
     "name": "stderr",
     "output_type": "stream",
     "text": [
      "Epoch: 9/10: 100%|██████████| 3966/3966 [00:51<00:00, 77.48it/s]\n",
      "[I 2025-08-02 02:36:31,703] Trial 10 finished with value: 0.048124708005799294 and parameters: {'learning_rate': 0.09739931253618095, 'hidden_size': 512, 'num_layers': 1, 'dropout_rate': 0.4888646833205879}. Best is trial 10 with value: 0.048124708005799294.\n"
     ]
    },
    {
     "name": "stdout",
     "output_type": "stream",
     "text": [
      "Epoch 10/10, Train Loss: 0.014565607265391271, Validation Loss: 0.048124708005799294\n",
      "Time taken for epoch: 51.19079399 seconds\n"
     ]
    },
    {
     "name": "stderr",
     "output_type": "stream",
     "text": [
      "Epoch: 0/10: 100%|██████████| 3966/3966 [00:51<00:00, 76.67it/s]\n"
     ]
    },
    {
     "name": "stdout",
     "output_type": "stream",
     "text": [
      "Epoch 1/10, Train Loss: 0.20013876419678325, Validation Loss: 0.11326066894873499\n",
      "Time taken for epoch: 51.73201990 seconds\n"
     ]
    },
    {
     "name": "stderr",
     "output_type": "stream",
     "text": [
      "Epoch: 1/10: 100%|██████████| 3966/3966 [00:51<00:00, 77.29it/s]\n"
     ]
    },
    {
     "name": "stdout",
     "output_type": "stream",
     "text": [
      "Epoch 2/10, Train Loss: 0.01155633478734475, Validation Loss: 0.08916208828039487\n",
      "Time taken for epoch: 51.31739306 seconds\n"
     ]
    },
    {
     "name": "stderr",
     "output_type": "stream",
     "text": [
      "Epoch: 2/10: 100%|██████████| 3966/3966 [00:51<00:00, 77.67it/s]\n"
     ]
    },
    {
     "name": "stdout",
     "output_type": "stream",
     "text": [
      "Epoch 3/10, Train Loss: 0.014523692091150125, Validation Loss: 0.0948247854087426\n",
      "Time taken for epoch: 51.06326389 seconds\n"
     ]
    },
    {
     "name": "stderr",
     "output_type": "stream",
     "text": [
      "Epoch: 3/10: 100%|██████████| 3966/3966 [00:50<00:00, 78.12it/s]\n"
     ]
    },
    {
     "name": "stdout",
     "output_type": "stream",
     "text": [
      "Epoch 4/10, Train Loss: 0.017214401658677013, Validation Loss: 0.08528045498461852\n",
      "Time taken for epoch: 50.77232814 seconds\n"
     ]
    },
    {
     "name": "stderr",
     "output_type": "stream",
     "text": [
      "Epoch: 4/10: 100%|██████████| 3966/3966 [00:51<00:00, 77.06it/s]\n"
     ]
    },
    {
     "name": "stdout",
     "output_type": "stream",
     "text": [
      "Epoch 5/10, Train Loss: 0.015015919732500058, Validation Loss: 0.05622809552409132\n",
      "Time taken for epoch: 51.47021103 seconds\n"
     ]
    },
    {
     "name": "stderr",
     "output_type": "stream",
     "text": [
      "Epoch: 5/10: 100%|██████████| 3966/3966 [00:51<00:00, 77.60it/s]\n"
     ]
    },
    {
     "name": "stdout",
     "output_type": "stream",
     "text": [
      "Epoch 6/10, Train Loss: 0.015272612276520398, Validation Loss: 0.06601030090294205\n",
      "Time taken for epoch: 51.10753727 seconds\n"
     ]
    },
    {
     "name": "stderr",
     "output_type": "stream",
     "text": [
      "Epoch: 6/10: 100%|██████████| 3966/3966 [00:50<00:00, 78.03it/s]\n"
     ]
    },
    {
     "name": "stdout",
     "output_type": "stream",
     "text": [
      "Epoch 7/10, Train Loss: 0.014509778305187453, Validation Loss: 0.0394902552982865\n",
      "Time taken for epoch: 50.82888103 seconds\n"
     ]
    },
    {
     "name": "stderr",
     "output_type": "stream",
     "text": [
      "Epoch: 7/10: 100%|██████████| 3966/3966 [00:51<00:00, 77.70it/s]\n"
     ]
    },
    {
     "name": "stdout",
     "output_type": "stream",
     "text": [
      "Epoch 8/10, Train Loss: 0.014467426830037594, Validation Loss: 0.07031589289214593\n",
      "Time taken for epoch: 51.04224110 seconds\n"
     ]
    },
    {
     "name": "stderr",
     "output_type": "stream",
     "text": [
      "Epoch: 8/10: 100%|██████████| 3966/3966 [00:51<00:00, 77.40it/s]\n"
     ]
    },
    {
     "name": "stdout",
     "output_type": "stream",
     "text": [
      "Epoch 9/10, Train Loss: 0.014180119662483158, Validation Loss: 0.08482613874310664\n",
      "Time taken for epoch: 51.24016905 seconds\n"
     ]
    },
    {
     "name": "stderr",
     "output_type": "stream",
     "text": [
      "Epoch: 9/10: 100%|██████████| 3966/3966 [00:50<00:00, 77.91it/s]\n",
      "[I 2025-08-02 02:45:47,923] Trial 11 finished with value: 0.0631427147774526 and parameters: {'learning_rate': 0.09925558805641672, 'hidden_size': 512, 'num_layers': 1, 'dropout_rate': 0.47823656089700867}. Best is trial 10 with value: 0.048124708005799294.\n"
     ]
    },
    {
     "name": "stdout",
     "output_type": "stream",
     "text": [
      "Epoch 10/10, Train Loss: 0.014445265235855567, Validation Loss: 0.0631427147774526\n",
      "Time taken for epoch: 50.90724778 seconds\n"
     ]
    },
    {
     "name": "stderr",
     "output_type": "stream",
     "text": [
      "Epoch: 0/10: 100%|██████████| 3966/3966 [00:45<00:00, 87.16it/s] \n"
     ]
    },
    {
     "name": "stdout",
     "output_type": "stream",
     "text": [
      "Epoch 1/10, Train Loss: 0.012668929845461011, Validation Loss: 0.1448667230247052\n",
      "Time taken for epoch: 45.50488782 seconds\n"
     ]
    },
    {
     "name": "stderr",
     "output_type": "stream",
     "text": [
      "Epoch: 1/10: 100%|██████████| 3966/3966 [00:46<00:00, 86.12it/s] \n"
     ]
    },
    {
     "name": "stdout",
     "output_type": "stream",
     "text": [
      "Epoch 2/10, Train Loss: 0.012431404826457205, Validation Loss: 0.08759535671879756\n",
      "Time taken for epoch: 46.05344987 seconds\n"
     ]
    },
    {
     "name": "stderr",
     "output_type": "stream",
     "text": [
      "Epoch: 2/10: 100%|██████████| 3966/3966 [00:46<00:00, 85.84it/s] \n"
     ]
    },
    {
     "name": "stdout",
     "output_type": "stream",
     "text": [
      "Epoch 3/10, Train Loss: 0.012703849561136748, Validation Loss: 0.1005435957050465\n",
      "Time taken for epoch: 46.20537186 seconds\n"
     ]
    },
    {
     "name": "stderr",
     "output_type": "stream",
     "text": [
      "Epoch: 3/10: 100%|██████████| 3966/3966 [00:45<00:00, 86.84it/s] \n"
     ]
    },
    {
     "name": "stdout",
     "output_type": "stream",
     "text": [
      "Epoch 4/10, Train Loss: 0.012792700201609237, Validation Loss: 0.0843236114638357\n",
      "Time taken for epoch: 45.67358112 seconds\n"
     ]
    },
    {
     "name": "stderr",
     "output_type": "stream",
     "text": [
      "Epoch: 4/10: 100%|██████████| 3966/3966 [00:46<00:00, 85.13it/s] \n"
     ]
    },
    {
     "name": "stdout",
     "output_type": "stream",
     "text": [
      "Epoch 5/10, Train Loss: 0.013055293609924048, Validation Loss: 0.09767483732851147\n",
      "Time taken for epoch: 46.59032083 seconds\n"
     ]
    },
    {
     "name": "stderr",
     "output_type": "stream",
     "text": [
      "Epoch: 5/10: 100%|██████████| 3966/3966 [00:48<00:00, 82.31it/s]\n"
     ]
    },
    {
     "name": "stdout",
     "output_type": "stream",
     "text": [
      "Epoch 6/10, Train Loss: 0.01329836863024039, Validation Loss: 0.0706919183228614\n",
      "Time taken for epoch: 48.18302727 seconds\n"
     ]
    },
    {
     "name": "stderr",
     "output_type": "stream",
     "text": [
      "Epoch: 6/10: 100%|██████████| 3966/3966 [00:48<00:00, 82.34it/s] \n"
     ]
    },
    {
     "name": "stdout",
     "output_type": "stream",
     "text": [
      "Epoch 7/10, Train Loss: 0.0133752791587671, Validation Loss: 0.10800113429535456\n",
      "Time taken for epoch: 48.17092323 seconds\n"
     ]
    },
    {
     "name": "stderr",
     "output_type": "stream",
     "text": [
      "Epoch: 7/10: 100%|██████████| 3966/3966 [00:48<00:00, 82.45it/s]\n"
     ]
    },
    {
     "name": "stdout",
     "output_type": "stream",
     "text": [
      "Epoch 8/10, Train Loss: 0.013529417689502676, Validation Loss: 0.17571041164262155\n",
      "Time taken for epoch: 48.10618091 seconds\n"
     ]
    },
    {
     "name": "stderr",
     "output_type": "stream",
     "text": [
      "Epoch: 8/10: 100%|██████████| 3966/3966 [00:48<00:00, 82.21it/s]\n"
     ]
    },
    {
     "name": "stdout",
     "output_type": "stream",
     "text": [
      "Epoch 9/10, Train Loss: 0.01366133710808124, Validation Loss: 0.10415715358347115\n",
      "Time taken for epoch: 48.24245811 seconds\n"
     ]
    },
    {
     "name": "stderr",
     "output_type": "stream",
     "text": [
      "Epoch: 9/10: 100%|██████████| 3966/3966 [00:47<00:00, 84.27it/s] \n",
      "[I 2025-08-02 02:54:22,317] Trial 12 finished with value: 0.09939940974695763 and parameters: {'learning_rate': 0.01638433803867564, 'hidden_size': 64, 'num_layers': 2, 'dropout_rate': 0.4759343024796335}. Best is trial 10 with value: 0.048124708005799294.\n"
     ]
    },
    {
     "name": "stdout",
     "output_type": "stream",
     "text": [
      "Epoch 10/10, Train Loss: 0.013838752953451177, Validation Loss: 0.09939940974695763\n",
      "Time taken for epoch: 47.06660414 seconds\n"
     ]
    },
    {
     "name": "stderr",
     "output_type": "stream",
     "text": [
      "Epoch: 0/10: 100%|██████████| 3966/3966 [02:18<00:00, 28.59it/s]\n"
     ]
    },
    {
     "name": "stdout",
     "output_type": "stream",
     "text": [
      "Epoch 1/10, Train Loss: 0.032964860644253496, Validation Loss: 0.07407935850738073\n",
      "Time taken for epoch: 138.70467114 seconds\n"
     ]
    },
    {
     "name": "stderr",
     "output_type": "stream",
     "text": [
      "Epoch: 1/10: 100%|██████████| 3966/3966 [02:18<00:00, 28.57it/s]\n"
     ]
    },
    {
     "name": "stdout",
     "output_type": "stream",
     "text": [
      "Epoch 2/10, Train Loss: 0.03428602388971196, Validation Loss: 0.04017116073423764\n",
      "Time taken for epoch: 138.82094121 seconds\n"
     ]
    },
    {
     "name": "stderr",
     "output_type": "stream",
     "text": [
      "Epoch: 2/10: 100%|██████████| 3966/3966 [01:52<00:00, 35.41it/s]\n"
     ]
    },
    {
     "name": "stdout",
     "output_type": "stream",
     "text": [
      "Epoch 3/10, Train Loss: 0.03482947264578658, Validation Loss: 0.04098209905987297\n",
      "Time taken for epoch: 112.01135373 seconds\n"
     ]
    },
    {
     "name": "stderr",
     "output_type": "stream",
     "text": [
      "Epoch: 3/10: 100%|██████████| 3966/3966 [01:46<00:00, 37.25it/s]\n"
     ]
    },
    {
     "name": "stdout",
     "output_type": "stream",
     "text": [
      "Epoch 4/10, Train Loss: 0.03469525952600375, Validation Loss: 0.05323989851912264\n",
      "Time taken for epoch: 106.46635294 seconds\n"
     ]
    },
    {
     "name": "stderr",
     "output_type": "stream",
     "text": [
      "Epoch: 4/10: 100%|██████████| 3966/3966 [01:46<00:00, 37.14it/s]\n"
     ]
    },
    {
     "name": "stdout",
     "output_type": "stream",
     "text": [
      "Epoch 5/10, Train Loss: 0.034278933822533816, Validation Loss: 0.06519587980147144\n",
      "Time taken for epoch: 106.78062010 seconds\n"
     ]
    },
    {
     "name": "stderr",
     "output_type": "stream",
     "text": [
      "Epoch: 5/10: 100%|██████████| 3966/3966 [01:43<00:00, 38.29it/s]\n"
     ]
    },
    {
     "name": "stdout",
     "output_type": "stream",
     "text": [
      "Epoch 6/10, Train Loss: 0.03449068895334014, Validation Loss: 0.04951551395389815\n",
      "Time taken for epoch: 103.57968593 seconds\n"
     ]
    },
    {
     "name": "stderr",
     "output_type": "stream",
     "text": [
      "Epoch: 6/10: 100%|██████████| 3966/3966 [01:43<00:00, 38.15it/s]\n"
     ]
    },
    {
     "name": "stdout",
     "output_type": "stream",
     "text": [
      "Epoch 7/10, Train Loss: 0.0342868446093945, Validation Loss: 0.07202418280811614\n",
      "Time taken for epoch: 103.95862484 seconds\n",
      "Early stopping triggered\n"
     ]
    },
    {
     "name": "stderr",
     "output_type": "stream",
     "text": [
      "Epoch: 7/10: 100%|██████████| 3966/3966 [01:44<00:00, 38.11it/s]\n"
     ]
    },
    {
     "name": "stdout",
     "output_type": "stream",
     "text": [
      "Epoch 8/10, Train Loss: 0.03433160141976461, Validation Loss: 0.0648609447776064\n",
      "Time taken for epoch: 104.07006192 seconds\n",
      "Early stopping triggered\n"
     ]
    },
    {
     "name": "stderr",
     "output_type": "stream",
     "text": [
      "Epoch: 8/10: 100%|██████████| 3966/3966 [01:44<00:00, 38.11it/s]\n"
     ]
    },
    {
     "name": "stdout",
     "output_type": "stream",
     "text": [
      "Epoch 9/10, Train Loss: 0.03404816701224866, Validation Loss: 0.05894083346967648\n",
      "Time taken for epoch: 104.06489587 seconds\n",
      "Early stopping triggered\n"
     ]
    },
    {
     "name": "stderr",
     "output_type": "stream",
     "text": [
      "Epoch: 9/10: 100%|██████████| 3966/3966 [02:11<00:00, 30.20it/s]\n",
      "[I 2025-08-02 03:14:38,590] Trial 13 finished with value: 0.05190919417401482 and parameters: {'learning_rate': 0.037886720104934594, 'hidden_size': 512, 'num_layers': 6, 'dropout_rate': 0.47861975781053223}. Best is trial 10 with value: 0.048124708005799294.\n"
     ]
    },
    {
     "name": "stdout",
     "output_type": "stream",
     "text": [
      "Epoch 10/10, Train Loss: 0.03425085554965521, Validation Loss: 0.05190919417401482\n",
      "Time taken for epoch: 131.34110999 seconds\n",
      "Early stopping triggered\n"
     ]
    },
    {
     "name": "stderr",
     "output_type": "stream",
     "text": [
      "Epoch: 0/10: 100%|██████████| 3966/3966 [02:15<00:00, 29.20it/s]\n"
     ]
    },
    {
     "name": "stdout",
     "output_type": "stream",
     "text": [
      "Epoch 1/10, Train Loss: 0.0207291487651345, Validation Loss: 0.07831054302585527\n",
      "Time taken for epoch: 135.84689784 seconds\n"
     ]
    },
    {
     "name": "stderr",
     "output_type": "stream",
     "text": [
      "Epoch: 1/10: 100%|██████████| 3966/3966 [02:00<00:00, 32.82it/s]\n"
     ]
    },
    {
     "name": "stdout",
     "output_type": "stream",
     "text": [
      "Epoch 2/10, Train Loss: 0.019151034717040865, Validation Loss: 0.08922185813252828\n",
      "Time taken for epoch: 120.86133695 seconds\n"
     ]
    },
    {
     "name": "stderr",
     "output_type": "stream",
     "text": [
      "Epoch: 2/10: 100%|██████████| 3966/3966 [01:43<00:00, 38.23it/s]\n"
     ]
    },
    {
     "name": "stdout",
     "output_type": "stream",
     "text": [
      "Epoch 3/10, Train Loss: 0.019384195578655117, Validation Loss: 0.0953596846102333\n",
      "Time taken for epoch: 103.73736215 seconds\n"
     ]
    },
    {
     "name": "stderr",
     "output_type": "stream",
     "text": [
      "Epoch: 3/10: 100%|██████████| 3966/3966 [01:42<00:00, 38.54it/s]\n"
     ]
    },
    {
     "name": "stdout",
     "output_type": "stream",
     "text": [
      "Epoch 4/10, Train Loss: 0.019584596512601554, Validation Loss: 0.07714145132095368\n",
      "Time taken for epoch: 102.90865397 seconds\n"
     ]
    },
    {
     "name": "stderr",
     "output_type": "stream",
     "text": [
      "Epoch: 4/10: 100%|██████████| 3966/3966 [01:43<00:00, 38.42it/s]\n"
     ]
    },
    {
     "name": "stdout",
     "output_type": "stream",
     "text": [
      "Epoch 5/10, Train Loss: 0.019912538040697994, Validation Loss: 0.07198073882477933\n",
      "Time taken for epoch: 103.23763108 seconds\n"
     ]
    },
    {
     "name": "stderr",
     "output_type": "stream",
     "text": [
      "Epoch: 5/10: 100%|██████████| 3966/3966 [01:43<00:00, 38.45it/s]\n"
     ]
    },
    {
     "name": "stdout",
     "output_type": "stream",
     "text": [
      "Epoch 6/10, Train Loss: 0.020002103306867833, Validation Loss: 0.12185718471211962\n",
      "Time taken for epoch: 103.15374279 seconds\n"
     ]
    },
    {
     "name": "stderr",
     "output_type": "stream",
     "text": [
      "Epoch: 6/10: 100%|██████████| 3966/3966 [02:10<00:00, 30.28it/s]\n"
     ]
    },
    {
     "name": "stdout",
     "output_type": "stream",
     "text": [
      "Epoch 7/10, Train Loss: 0.020207923984007586, Validation Loss: 0.09628933434358576\n",
      "Time taken for epoch: 130.99871683 seconds\n"
     ]
    },
    {
     "name": "stderr",
     "output_type": "stream",
     "text": [
      "Epoch: 7/10: 100%|██████████| 3966/3966 [01:55<00:00, 34.40it/s]\n"
     ]
    },
    {
     "name": "stdout",
     "output_type": "stream",
     "text": [
      "Epoch 8/10, Train Loss: 0.0202481295604426, Validation Loss: 0.08614523808187456\n",
      "Time taken for epoch: 115.29939508 seconds\n"
     ]
    },
    {
     "name": "stderr",
     "output_type": "stream",
     "text": [
      "Epoch: 8/10: 100%|██████████| 3966/3966 [01:43<00:00, 38.44it/s]\n"
     ]
    },
    {
     "name": "stdout",
     "output_type": "stream",
     "text": [
      "Epoch 9/10, Train Loss: 0.020290890908638035, Validation Loss: 0.10348379088557896\n",
      "Time taken for epoch: 103.17711091 seconds\n"
     ]
    },
    {
     "name": "stderr",
     "output_type": "stream",
     "text": [
      "Epoch: 9/10: 100%|██████████| 3966/3966 [01:44<00:00, 38.06it/s]\n",
      "[I 2025-08-02 03:34:26,848] Trial 14 finished with value: 0.0898780980598263 and parameters: {'learning_rate': 0.005563691532919736, 'hidden_size': 512, 'num_layers': 6, 'dropout_rate': 0.4334563804483565}. Best is trial 10 with value: 0.048124708005799294.\n"
     ]
    },
    {
     "name": "stdout",
     "output_type": "stream",
     "text": [
      "Epoch 10/10, Train Loss: 0.02053168563447438, Validation Loss: 0.0898780980598263\n",
      "Time taken for epoch: 104.21329188 seconds\n",
      "Early stopping triggered\n"
     ]
    },
    {
     "name": "stderr",
     "output_type": "stream",
     "text": [
      "Epoch: 0/10: 100%|██████████| 3966/3966 [01:46<00:00, 37.13it/s]\n"
     ]
    },
    {
     "name": "stdout",
     "output_type": "stream",
     "text": [
      "Epoch 1/10, Train Loss: 0.023822748639061482, Validation Loss: 0.06511922701323802\n",
      "Time taken for epoch: 106.80257320 seconds\n"
     ]
    },
    {
     "name": "stderr",
     "output_type": "stream",
     "text": [
      "Epoch: 1/10: 100%|██████████| 3966/3966 [02:09<00:00, 30.59it/s]\n"
     ]
    },
    {
     "name": "stdout",
     "output_type": "stream",
     "text": [
      "Epoch 2/10, Train Loss: 0.0267474244212975, Validation Loss: 0.07762700732885898\n",
      "Time taken for epoch: 129.67172194 seconds\n"
     ]
    },
    {
     "name": "stderr",
     "output_type": "stream",
     "text": [
      "Epoch: 2/10: 100%|██████████| 3966/3966 [02:09<00:00, 30.54it/s]\n"
     ]
    },
    {
     "name": "stdout",
     "output_type": "stream",
     "text": [
      "Epoch 3/10, Train Loss: 0.02693887487564854, Validation Loss: 0.041509652238228896\n",
      "Time taken for epoch: 129.87752509 seconds\n"
     ]
    },
    {
     "name": "stderr",
     "output_type": "stream",
     "text": [
      "Epoch: 3/10: 100%|██████████| 3966/3966 [02:09<00:00, 30.64it/s]\n"
     ]
    },
    {
     "name": "stdout",
     "output_type": "stream",
     "text": [
      "Epoch 4/10, Train Loss: 0.02691640001940069, Validation Loss: 0.12456365278877608\n",
      "Time taken for epoch: 129.46118188 seconds\n"
     ]
    },
    {
     "name": "stderr",
     "output_type": "stream",
     "text": [
      "Epoch: 4/10: 100%|██████████| 3966/3966 [02:10<00:00, 30.37it/s]\n"
     ]
    },
    {
     "name": "stdout",
     "output_type": "stream",
     "text": [
      "Epoch 5/10, Train Loss: 0.02648940432085963, Validation Loss: 0.08082610454572528\n",
      "Time taken for epoch: 130.59354496 seconds\n"
     ]
    },
    {
     "name": "stderr",
     "output_type": "stream",
     "text": [
      "Epoch: 5/10: 100%|██████████| 3966/3966 [02:09<00:00, 30.59it/s]\n"
     ]
    },
    {
     "name": "stdout",
     "output_type": "stream",
     "text": [
      "Epoch 6/10, Train Loss: 0.02665600496185995, Validation Loss: 0.04024303827114453\n",
      "Time taken for epoch: 129.67015290 seconds\n"
     ]
    },
    {
     "name": "stderr",
     "output_type": "stream",
     "text": [
      "Epoch: 6/10: 100%|██████████| 3966/3966 [02:09<00:00, 30.66it/s]\n"
     ]
    },
    {
     "name": "stdout",
     "output_type": "stream",
     "text": [
      "Epoch 7/10, Train Loss: 0.02680542739930098, Validation Loss: 0.05195853665018034\n",
      "Time taken for epoch: 129.36471987 seconds\n"
     ]
    },
    {
     "name": "stderr",
     "output_type": "stream",
     "text": [
      "Epoch: 7/10: 100%|██████████| 3966/3966 [02:09<00:00, 30.68it/s]\n"
     ]
    },
    {
     "name": "stdout",
     "output_type": "stream",
     "text": [
      "Epoch 8/10, Train Loss: 0.026642073237957583, Validation Loss: 0.04733743429591727\n",
      "Time taken for epoch: 129.27484703 seconds\n"
     ]
    },
    {
     "name": "stderr",
     "output_type": "stream",
     "text": [
      "Epoch: 8/10: 100%|██████████| 3966/3966 [02:09<00:00, 30.62it/s]\n"
     ]
    },
    {
     "name": "stdout",
     "output_type": "stream",
     "text": [
      "Epoch 9/10, Train Loss: 0.026729526030171175, Validation Loss: 0.042566511449117723\n",
      "Time taken for epoch: 129.53727579 seconds\n"
     ]
    },
    {
     "name": "stderr",
     "output_type": "stream",
     "text": [
      "Epoch: 9/10: 100%|██████████| 3966/3966 [02:09<00:00, 30.55it/s]\n",
      "[I 2025-08-02 03:56:57,137] Trial 15 finished with value: 0.041880748215547395 and parameters: {'learning_rate': 0.0499391420528181, 'hidden_size': 512, 'num_layers': 4, 'dropout_rate': 0.4169276562014068}. Best is trial 15 with value: 0.041880748215547395.\n"
     ]
    },
    {
     "name": "stdout",
     "output_type": "stream",
     "text": [
      "Epoch 10/10, Train Loss: 0.026546548598784574, Validation Loss: 0.041880748215547395\n",
      "Time taken for epoch: 129.82704592 seconds\n"
     ]
    },
    {
     "name": "stderr",
     "output_type": "stream",
     "text": [
      "Epoch: 0/10: 100%|██████████| 3966/3966 [01:14<00:00, 53.54it/s]\n"
     ]
    },
    {
     "name": "stdout",
     "output_type": "stream",
     "text": [
      "Epoch 1/10, Train Loss: 0.009531140324283453, Validation Loss: 0.16780735703081978\n",
      "Time taken for epoch: 74.07241130 seconds\n"
     ]
    },
    {
     "name": "stderr",
     "output_type": "stream",
     "text": [
      "Epoch: 1/10: 100%|██████████| 3966/3966 [01:14<00:00, 53.14it/s]\n"
     ]
    },
    {
     "name": "stdout",
     "output_type": "stream",
     "text": [
      "Epoch 2/10, Train Loss: 0.009251208258515662, Validation Loss: 0.15368380041910187\n",
      "Time taken for epoch: 74.63515592 seconds\n"
     ]
    },
    {
     "name": "stderr",
     "output_type": "stream",
     "text": [
      "Epoch: 2/10: 100%|██████████| 3966/3966 [01:14<00:00, 53.45it/s]\n"
     ]
    },
    {
     "name": "stdout",
     "output_type": "stream",
     "text": [
      "Epoch 3/10, Train Loss: 0.009383056411191828, Validation Loss: 0.10497523125115575\n",
      "Time taken for epoch: 74.20825100 seconds\n"
     ]
    },
    {
     "name": "stderr",
     "output_type": "stream",
     "text": [
      "Epoch: 3/10: 100%|██████████| 3966/3966 [01:14<00:00, 53.14it/s]\n"
     ]
    },
    {
     "name": "stdout",
     "output_type": "stream",
     "text": [
      "Epoch 4/10, Train Loss: 0.009439472444059606, Validation Loss: 0.1379666277238589\n",
      "Time taken for epoch: 74.63937783 seconds\n"
     ]
    },
    {
     "name": "stderr",
     "output_type": "stream",
     "text": [
      "Epoch: 4/10: 100%|██████████| 3966/3966 [01:13<00:00, 54.22it/s]\n"
     ]
    },
    {
     "name": "stdout",
     "output_type": "stream",
     "text": [
      "Epoch 5/10, Train Loss: 0.009479818807889492, Validation Loss: 0.15300058165380268\n",
      "Time taken for epoch: 73.14358020 seconds\n"
     ]
    },
    {
     "name": "stderr",
     "output_type": "stream",
     "text": [
      "Epoch: 5/10: 100%|██████████| 3966/3966 [01:14<00:00, 53.09it/s]\n"
     ]
    },
    {
     "name": "stdout",
     "output_type": "stream",
     "text": [
      "Epoch 6/10, Train Loss: 0.009612880397796541, Validation Loss: 0.16168198259868827\n",
      "Time taken for epoch: 74.70279813 seconds\n"
     ]
    },
    {
     "name": "stderr",
     "output_type": "stream",
     "text": [
      "Epoch: 6/10: 100%|██████████| 3966/3966 [01:14<00:00, 53.03it/s]\n"
     ]
    },
    {
     "name": "stdout",
     "output_type": "stream",
     "text": [
      "Epoch 7/10, Train Loss: 0.009643499938601113, Validation Loss: 0.15622731449324945\n",
      "Time taken for epoch: 74.78974009 seconds\n"
     ]
    },
    {
     "name": "stderr",
     "output_type": "stream",
     "text": [
      "Epoch: 7/10: 100%|██████████| 3966/3966 [01:14<00:00, 53.22it/s]\n"
     ]
    },
    {
     "name": "stdout",
     "output_type": "stream",
     "text": [
      "Epoch 8/10, Train Loss: 0.00966685180952918, Validation Loss: 0.1769169709022399\n",
      "Time taken for epoch: 74.52306080 seconds\n",
      "Early stopping triggered\n"
     ]
    },
    {
     "name": "stderr",
     "output_type": "stream",
     "text": [
      "Epoch: 8/10: 100%|██████████| 3966/3966 [01:13<00:00, 53.71it/s]\n"
     ]
    },
    {
     "name": "stdout",
     "output_type": "stream",
     "text": [
      "Epoch 9/10, Train Loss: 0.009757671588458838, Validation Loss: 0.2466073238762794\n",
      "Time taken for epoch: 73.84096503 seconds\n",
      "Early stopping triggered\n"
     ]
    },
    {
     "name": "stderr",
     "output_type": "stream",
     "text": [
      "Epoch: 9/10: 100%|██████████| 3966/3966 [01:14<00:00, 53.56it/s]\n",
      "[I 2025-08-02 04:10:11,575] Trial 16 finished with value: 0.13070677685179005 and parameters: {'learning_rate': 0.005064452434493781, 'hidden_size': 256, 'num_layers': 4, 'dropout_rate': 0.3643407653268647}. Best is trial 15 with value: 0.041880748215547395.\n"
     ]
    },
    {
     "name": "stdout",
     "output_type": "stream",
     "text": [
      "Epoch 10/10, Train Loss: 0.009815199679657029, Validation Loss: 0.13070677685179005\n",
      "Time taken for epoch: 74.05556297 seconds\n",
      "Early stopping triggered\n"
     ]
    },
    {
     "name": "stderr",
     "output_type": "stream",
     "text": [
      "Epoch: 0/10: 100%|██████████| 3966/3966 [00:45<00:00, 87.29it/s] \n"
     ]
    },
    {
     "name": "stdout",
     "output_type": "stream",
     "text": [
      "Epoch 1/10, Train Loss: 0.3368303819220895, Validation Loss: 0.15089217084752565\n",
      "Time taken for epoch: 45.43440223 seconds\n"
     ]
    },
    {
     "name": "stderr",
     "output_type": "stream",
     "text": [
      "Epoch: 1/10: 100%|██████████| 3966/3966 [00:46<00:00, 86.15it/s] \n"
     ]
    },
    {
     "name": "stdout",
     "output_type": "stream",
     "text": [
      "Epoch 2/10, Train Loss: 0.08322685297373804, Validation Loss: 0.08073480560594151\n",
      "Time taken for epoch: 46.03830504 seconds\n"
     ]
    },
    {
     "name": "stderr",
     "output_type": "stream",
     "text": [
      "Epoch: 2/10: 100%|██████████| 3966/3966 [00:46<00:00, 85.47it/s] \n"
     ]
    },
    {
     "name": "stdout",
     "output_type": "stream",
     "text": [
      "Epoch 3/10, Train Loss: 0.04314068706675169, Validation Loss: 0.08743290426496166\n",
      "Time taken for epoch: 46.40370798 seconds\n"
     ]
    },
    {
     "name": "stderr",
     "output_type": "stream",
     "text": [
      "Epoch: 3/10: 100%|██████████| 3966/3966 [00:46<00:00, 85.87it/s] \n"
     ]
    },
    {
     "name": "stdout",
     "output_type": "stream",
     "text": [
      "Epoch 4/10, Train Loss: 0.02372920521559871, Validation Loss: 0.10137400084765973\n",
      "Time taken for epoch: 46.18782997 seconds\n"
     ]
    },
    {
     "name": "stderr",
     "output_type": "stream",
     "text": [
      "Epoch: 4/10: 100%|██████████| 3966/3966 [00:45<00:00, 86.42it/s] \n"
     ]
    },
    {
     "name": "stdout",
     "output_type": "stream",
     "text": [
      "Epoch 5/10, Train Loss: 0.015027483172603872, Validation Loss: 0.12896850265039936\n",
      "Time taken for epoch: 45.89714098 seconds\n"
     ]
    },
    {
     "name": "stderr",
     "output_type": "stream",
     "text": [
      "Epoch: 5/10: 100%|██████████| 3966/3966 [00:45<00:00, 86.97it/s] \n"
     ]
    },
    {
     "name": "stdout",
     "output_type": "stream",
     "text": [
      "Epoch 6/10, Train Loss: 0.011064939263576865, Validation Loss: 0.14603277742489776\n",
      "Time taken for epoch: 45.60539794 seconds\n"
     ]
    },
    {
     "name": "stderr",
     "output_type": "stream",
     "text": [
      "Epoch: 6/10: 100%|██████████| 3966/3966 [00:45<00:00, 86.74it/s] \n"
     ]
    },
    {
     "name": "stdout",
     "output_type": "stream",
     "text": [
      "Epoch 7/10, Train Loss: 0.008892384973700772, Validation Loss: 0.16600891768101642\n",
      "Time taken for epoch: 45.72704077 seconds\n",
      "Early stopping triggered\n"
     ]
    },
    {
     "name": "stderr",
     "output_type": "stream",
     "text": [
      "Epoch: 7/10: 100%|██████████| 3966/3966 [00:45<00:00, 87.05it/s] \n"
     ]
    },
    {
     "name": "stdout",
     "output_type": "stream",
     "text": [
      "Epoch 8/10, Train Loss: 0.007644341750759904, Validation Loss: 0.18238331872432373\n",
      "Time taken for epoch: 45.56263304 seconds\n",
      "Early stopping triggered\n"
     ]
    },
    {
     "name": "stderr",
     "output_type": "stream",
     "text": [
      "Epoch: 8/10: 100%|██████████| 3966/3966 [00:45<00:00, 86.83it/s] \n"
     ]
    },
    {
     "name": "stdout",
     "output_type": "stream",
     "text": [
      "Epoch 9/10, Train Loss: 0.006816743383680968, Validation Loss: 0.1821382469926994\n",
      "Time taken for epoch: 45.67762280 seconds\n",
      "Early stopping triggered\n"
     ]
    },
    {
     "name": "stderr",
     "output_type": "stream",
     "text": [
      "Epoch: 9/10: 100%|██████████| 3966/3966 [00:45<00:00, 87.81it/s] \n",
      "[I 2025-08-02 04:18:32,730] Trial 17 finished with value: 0.19886921249749803 and parameters: {'learning_rate': 1.1734976200266832e-05, 'hidden_size': 64, 'num_layers': 2, 'dropout_rate': 0.2978100023003167}. Best is trial 15 with value: 0.041880748215547395.\n"
     ]
    },
    {
     "name": "stdout",
     "output_type": "stream",
     "text": [
      "Epoch 10/10, Train Loss: 0.006356441320154479, Validation Loss: 0.19886921249749803\n",
      "Time taken for epoch: 45.16984177 seconds\n",
      "Early stopping triggered\n"
     ]
    },
    {
     "name": "stderr",
     "output_type": "stream",
     "text": [
      "Epoch: 0/10: 100%|██████████| 3966/3966 [00:48<00:00, 81.00it/s]\n"
     ]
    },
    {
     "name": "stdout",
     "output_type": "stream",
     "text": [
      "Epoch 1/10, Train Loss: 0.04355179427160618, Validation Loss: 0.0629347672123508\n",
      "Time taken for epoch: 48.96507692 seconds\n"
     ]
    },
    {
     "name": "stderr",
     "output_type": "stream",
     "text": [
      "Epoch: 1/10: 100%|██████████| 3966/3966 [00:48<00:00, 81.67it/s]\n"
     ]
    },
    {
     "name": "stdout",
     "output_type": "stream",
     "text": [
      "Epoch 2/10, Train Loss: 0.04234128677395637, Validation Loss: 0.0493029904039463\n",
      "Time taken for epoch: 48.56372619 seconds\n"
     ]
    },
    {
     "name": "stderr",
     "output_type": "stream",
     "text": [
      "Epoch: 2/10: 100%|██████████| 3966/3966 [00:49<00:00, 80.48it/s]\n"
     ]
    },
    {
     "name": "stdout",
     "output_type": "stream",
     "text": [
      "Epoch 3/10, Train Loss: 0.041717095155902, Validation Loss: 0.05924179420817725\n",
      "Time taken for epoch: 49.28013325 seconds\n"
     ]
    },
    {
     "name": "stderr",
     "output_type": "stream",
     "text": [
      "Epoch: 3/10: 100%|██████████| 3966/3966 [00:48<00:00, 81.34it/s]\n"
     ]
    },
    {
     "name": "stdout",
     "output_type": "stream",
     "text": [
      "Epoch 4/10, Train Loss: 0.04192736114605893, Validation Loss: 0.07283628473076964\n",
      "Time taken for epoch: 48.76181889 seconds\n"
     ]
    },
    {
     "name": "stderr",
     "output_type": "stream",
     "text": [
      "Epoch: 4/10: 100%|██████████| 3966/3966 [00:49<00:00, 80.52it/s]\n"
     ]
    },
    {
     "name": "stdout",
     "output_type": "stream",
     "text": [
      "Epoch 5/10, Train Loss: 0.04201732888776458, Validation Loss: 0.0647419397431636\n",
      "Time taken for epoch: 49.25435185 seconds\n"
     ]
    },
    {
     "name": "stderr",
     "output_type": "stream",
     "text": [
      "Epoch: 5/10: 100%|██████████| 3966/3966 [00:49<00:00, 79.84it/s]\n"
     ]
    },
    {
     "name": "stdout",
     "output_type": "stream",
     "text": [
      "Epoch 6/10, Train Loss: 0.042329707096057954, Validation Loss: 0.05802502773613618\n",
      "Time taken for epoch: 49.67885017 seconds\n"
     ]
    },
    {
     "name": "stderr",
     "output_type": "stream",
     "text": [
      "Epoch: 6/10: 100%|██████████| 3966/3966 [00:48<00:00, 81.75it/s]\n"
     ]
    },
    {
     "name": "stdout",
     "output_type": "stream",
     "text": [
      "Epoch 7/10, Train Loss: 0.042459966399741186, Validation Loss: 0.04193120626995073\n",
      "Time taken for epoch: 48.51462817 seconds\n"
     ]
    },
    {
     "name": "stderr",
     "output_type": "stream",
     "text": [
      "Epoch: 7/10: 100%|██████████| 3966/3966 [00:48<00:00, 81.37it/s]\n"
     ]
    },
    {
     "name": "stdout",
     "output_type": "stream",
     "text": [
      "Epoch 8/10, Train Loss: 0.04225374069074249, Validation Loss: 0.0658500317186659\n",
      "Time taken for epoch: 48.74222016 seconds\n"
     ]
    },
    {
     "name": "stderr",
     "output_type": "stream",
     "text": [
      "Epoch: 8/10: 100%|██████████| 3966/3966 [00:49<00:00, 80.39it/s]\n"
     ]
    },
    {
     "name": "stdout",
     "output_type": "stream",
     "text": [
      "Epoch 9/10, Train Loss: 0.04243403468027418, Validation Loss: 0.08066470653165389\n",
      "Time taken for epoch: 49.33449697 seconds\n"
     ]
    },
    {
     "name": "stderr",
     "output_type": "stream",
     "text": [
      "Epoch: 9/10: 100%|██████████| 3966/3966 [00:48<00:00, 81.09it/s]\n",
      "[I 2025-08-02 04:27:26,996] Trial 18 finished with value: 0.05071934129989688 and parameters: {'learning_rate': 0.05256939194662394, 'hidden_size': 32, 'num_layers': 4, 'dropout_rate': 0.4080226386275185}. Best is trial 15 with value: 0.041880748215547395.\n"
     ]
    },
    {
     "name": "stdout",
     "output_type": "stream",
     "text": [
      "Epoch 10/10, Train Loss: 0.043005897385968564, Validation Loss: 0.05071934129989688\n",
      "Time taken for epoch: 48.91153502 seconds\n"
     ]
    },
    {
     "name": "stderr",
     "output_type": "stream",
     "text": [
      "Epoch: 0/10: 100%|██████████| 3966/3966 [00:53<00:00, 73.82it/s]\n"
     ]
    },
    {
     "name": "stdout",
     "output_type": "stream",
     "text": [
      "Epoch 1/10, Train Loss: 0.05327921351854677, Validation Loss: 0.3986689931496118\n",
      "Time taken for epoch: 53.72774601 seconds\n"
     ]
    },
    {
     "name": "stderr",
     "output_type": "stream",
     "text": [
      "Epoch: 1/10: 100%|██████████| 3966/3966 [00:52<00:00, 75.28it/s]\n"
     ]
    },
    {
     "name": "stdout",
     "output_type": "stream",
     "text": [
      "Epoch 2/10, Train Loss: 0.004963955119925218, Validation Loss: 0.5365143082055422\n",
      "Time taken for epoch: 52.68739891 seconds\n"
     ]
    },
    {
     "name": "stderr",
     "output_type": "stream",
     "text": [
      "Epoch: 2/10: 100%|██████████| 3966/3966 [00:52<00:00, 75.59it/s]\n"
     ]
    },
    {
     "name": "stdout",
     "output_type": "stream",
     "text": [
      "Epoch 3/10, Train Loss: 0.0028621319850950875, Validation Loss: 0.39834155009360467\n",
      "Time taken for epoch: 52.46674013 seconds\n"
     ]
    },
    {
     "name": "stderr",
     "output_type": "stream",
     "text": [
      "Epoch: 3/10: 100%|██████████| 3966/3966 [00:51<00:00, 76.96it/s]\n"
     ]
    },
    {
     "name": "stdout",
     "output_type": "stream",
     "text": [
      "Epoch 4/10, Train Loss: 0.0028943948510403036, Validation Loss: 0.2373786536860097\n",
      "Time taken for epoch: 51.53270721 seconds\n"
     ]
    },
    {
     "name": "stderr",
     "output_type": "stream",
     "text": [
      "Epoch: 4/10: 100%|██████████| 3966/3966 [00:51<00:00, 77.25it/s]\n"
     ]
    },
    {
     "name": "stdout",
     "output_type": "stream",
     "text": [
      "Epoch 5/10, Train Loss: 0.0029056025039643214, Validation Loss: 0.23802328571792605\n",
      "Time taken for epoch: 51.34192991 seconds\n"
     ]
    },
    {
     "name": "stderr",
     "output_type": "stream",
     "text": [
      "Epoch: 5/10: 100%|██████████| 3966/3966 [00:50<00:00, 78.19it/s]\n"
     ]
    },
    {
     "name": "stdout",
     "output_type": "stream",
     "text": [
      "Epoch 6/10, Train Loss: 0.002901863729390088, Validation Loss: 0.23596024720654815\n",
      "Time taken for epoch: 50.72548509 seconds\n"
     ]
    },
    {
     "name": "stderr",
     "output_type": "stream",
     "text": [
      "Epoch: 6/10: 100%|██████████| 3966/3966 [00:51<00:00, 77.69it/s]\n"
     ]
    },
    {
     "name": "stdout",
     "output_type": "stream",
     "text": [
      "Epoch 7/10, Train Loss: 0.0029063180901027514, Validation Loss: 0.24018100014943605\n",
      "Time taken for epoch: 51.05064130 seconds\n"
     ]
    },
    {
     "name": "stderr",
     "output_type": "stream",
     "text": [
      "Epoch: 7/10: 100%|██████████| 3966/3966 [00:51<00:00, 76.95it/s]\n"
     ]
    },
    {
     "name": "stdout",
     "output_type": "stream",
     "text": [
      "Epoch 8/10, Train Loss: 0.002910050027404944, Validation Loss: 0.2402429399587475\n",
      "Time taken for epoch: 51.53978395 seconds\n"
     ]
    },
    {
     "name": "stderr",
     "output_type": "stream",
     "text": [
      "Epoch: 8/10: 100%|██████████| 3966/3966 [00:51<00:00, 77.51it/s]\n"
     ]
    },
    {
     "name": "stdout",
     "output_type": "stream",
     "text": [
      "Epoch 9/10, Train Loss: 0.002912304357863189, Validation Loss: 0.24913572318891605\n",
      "Time taken for epoch: 51.17278099 seconds\n"
     ]
    },
    {
     "name": "stderr",
     "output_type": "stream",
     "text": [
      "Epoch: 9/10: 100%|██████████| 3966/3966 [00:49<00:00, 80.51it/s] \n",
      "[I 2025-08-02 04:36:46,613] Trial 19 finished with value: 0.23386335272896716 and parameters: {'learning_rate': 9.566944257922653e-05, 'hidden_size': 512, 'num_layers': 1, 'dropout_rate': 0.5391888935443229}. Best is trial 15 with value: 0.041880748215547395.\n"
     ]
    },
    {
     "name": "stdout",
     "output_type": "stream",
     "text": [
      "Epoch 10/10, Train Loss: 0.0029126263282412547, Validation Loss: 0.23386335272896716\n",
      "Time taken for epoch: 49.26468396 seconds\n",
      "Best hyperparameters: {'learning_rate': 0.0499391420528181, 'hidden_size': 512, 'num_layers': 4, 'dropout_rate': 0.4169276562014068}\n"
     ]
    },
    {
     "data": {
      "application/vnd.plotly.v1+json": {
       "config": {
        "plotlyServerURL": "https://plot.ly"
       },
       "data": [
        {
         "mode": "markers",
         "name": "Objective Value",
         "type": "scatter",
         "x": [
          0,
          1,
          2,
          3,
          4,
          5,
          6,
          7,
          8,
          9,
          10,
          11,
          12,
          13,
          14,
          15,
          16,
          17,
          18,
          19
         ],
         "y": [
          0.09582860869548972,
          0.12317942352504815,
          0.08347781606345987,
          0.24741355230319542,
          0.08791131330665912,
          0.35723647068088454,
          0.05375556787659965,
          0.19935831613526472,
          0.22414698062451244,
          0.08184187902026231,
          0.048124708005799294,
          0.0631427147774526,
          0.09939940974695763,
          0.05190919417401482,
          0.0898780980598263,
          0.041880748215547395,
          0.13070677685179005,
          0.19886921249749803,
          0.05071934129989688,
          0.23386335272896716
         ]
        },
        {
         "mode": "lines",
         "name": "Best Value",
         "type": "scatter",
         "x": [
          0,
          1,
          2,
          3,
          4,
          5,
          6,
          7,
          8,
          9,
          10,
          11,
          12,
          13,
          14,
          15,
          16,
          17,
          18,
          19
         ],
         "y": [
          0.09582860869548972,
          0.09582860869548972,
          0.08347781606345987,
          0.08347781606345987,
          0.08347781606345987,
          0.08347781606345987,
          0.05375556787659965,
          0.05375556787659965,
          0.05375556787659965,
          0.05375556787659965,
          0.048124708005799294,
          0.048124708005799294,
          0.048124708005799294,
          0.048124708005799294,
          0.048124708005799294,
          0.041880748215547395,
          0.041880748215547395,
          0.041880748215547395,
          0.041880748215547395,
          0.041880748215547395
         ]
        },
        {
         "marker": {
          "color": "#cccccc"
         },
         "mode": "markers",
         "name": "Infeasible Trial",
         "showlegend": false,
         "type": "scatter",
         "x": [],
         "y": []
        }
       ],
       "layout": {
        "template": {
         "data": {
          "bar": [
           {
            "error_x": {
             "color": "#2a3f5f"
            },
            "error_y": {
             "color": "#2a3f5f"
            },
            "marker": {
             "line": {
              "color": "#E5ECF6",
              "width": 0.5
             },
             "pattern": {
              "fillmode": "overlay",
              "size": 10,
              "solidity": 0.2
             }
            },
            "type": "bar"
           }
          ],
          "barpolar": [
           {
            "marker": {
             "line": {
              "color": "#E5ECF6",
              "width": 0.5
             },
             "pattern": {
              "fillmode": "overlay",
              "size": 10,
              "solidity": 0.2
             }
            },
            "type": "barpolar"
           }
          ],
          "carpet": [
           {
            "aaxis": {
             "endlinecolor": "#2a3f5f",
             "gridcolor": "white",
             "linecolor": "white",
             "minorgridcolor": "white",
             "startlinecolor": "#2a3f5f"
            },
            "baxis": {
             "endlinecolor": "#2a3f5f",
             "gridcolor": "white",
             "linecolor": "white",
             "minorgridcolor": "white",
             "startlinecolor": "#2a3f5f"
            },
            "type": "carpet"
           }
          ],
          "choropleth": [
           {
            "colorbar": {
             "outlinewidth": 0,
             "ticks": ""
            },
            "type": "choropleth"
           }
          ],
          "contour": [
           {
            "colorbar": {
             "outlinewidth": 0,
             "ticks": ""
            },
            "colorscale": [
             [
              0,
              "#0d0887"
             ],
             [
              0.1111111111111111,
              "#46039f"
             ],
             [
              0.2222222222222222,
              "#7201a8"
             ],
             [
              0.3333333333333333,
              "#9c179e"
             ],
             [
              0.4444444444444444,
              "#bd3786"
             ],
             [
              0.5555555555555556,
              "#d8576b"
             ],
             [
              0.6666666666666666,
              "#ed7953"
             ],
             [
              0.7777777777777778,
              "#fb9f3a"
             ],
             [
              0.8888888888888888,
              "#fdca26"
             ],
             [
              1,
              "#f0f921"
             ]
            ],
            "type": "contour"
           }
          ],
          "contourcarpet": [
           {
            "colorbar": {
             "outlinewidth": 0,
             "ticks": ""
            },
            "type": "contourcarpet"
           }
          ],
          "heatmap": [
           {
            "colorbar": {
             "outlinewidth": 0,
             "ticks": ""
            },
            "colorscale": [
             [
              0,
              "#0d0887"
             ],
             [
              0.1111111111111111,
              "#46039f"
             ],
             [
              0.2222222222222222,
              "#7201a8"
             ],
             [
              0.3333333333333333,
              "#9c179e"
             ],
             [
              0.4444444444444444,
              "#bd3786"
             ],
             [
              0.5555555555555556,
              "#d8576b"
             ],
             [
              0.6666666666666666,
              "#ed7953"
             ],
             [
              0.7777777777777778,
              "#fb9f3a"
             ],
             [
              0.8888888888888888,
              "#fdca26"
             ],
             [
              1,
              "#f0f921"
             ]
            ],
            "type": "heatmap"
           }
          ],
          "histogram": [
           {
            "marker": {
             "pattern": {
              "fillmode": "overlay",
              "size": 10,
              "solidity": 0.2
             }
            },
            "type": "histogram"
           }
          ],
          "histogram2d": [
           {
            "colorbar": {
             "outlinewidth": 0,
             "ticks": ""
            },
            "colorscale": [
             [
              0,
              "#0d0887"
             ],
             [
              0.1111111111111111,
              "#46039f"
             ],
             [
              0.2222222222222222,
              "#7201a8"
             ],
             [
              0.3333333333333333,
              "#9c179e"
             ],
             [
              0.4444444444444444,
              "#bd3786"
             ],
             [
              0.5555555555555556,
              "#d8576b"
             ],
             [
              0.6666666666666666,
              "#ed7953"
             ],
             [
              0.7777777777777778,
              "#fb9f3a"
             ],
             [
              0.8888888888888888,
              "#fdca26"
             ],
             [
              1,
              "#f0f921"
             ]
            ],
            "type": "histogram2d"
           }
          ],
          "histogram2dcontour": [
           {
            "colorbar": {
             "outlinewidth": 0,
             "ticks": ""
            },
            "colorscale": [
             [
              0,
              "#0d0887"
             ],
             [
              0.1111111111111111,
              "#46039f"
             ],
             [
              0.2222222222222222,
              "#7201a8"
             ],
             [
              0.3333333333333333,
              "#9c179e"
             ],
             [
              0.4444444444444444,
              "#bd3786"
             ],
             [
              0.5555555555555556,
              "#d8576b"
             ],
             [
              0.6666666666666666,
              "#ed7953"
             ],
             [
              0.7777777777777778,
              "#fb9f3a"
             ],
             [
              0.8888888888888888,
              "#fdca26"
             ],
             [
              1,
              "#f0f921"
             ]
            ],
            "type": "histogram2dcontour"
           }
          ],
          "mesh3d": [
           {
            "colorbar": {
             "outlinewidth": 0,
             "ticks": ""
            },
            "type": "mesh3d"
           }
          ],
          "parcoords": [
           {
            "line": {
             "colorbar": {
              "outlinewidth": 0,
              "ticks": ""
             }
            },
            "type": "parcoords"
           }
          ],
          "pie": [
           {
            "automargin": true,
            "type": "pie"
           }
          ],
          "scatter": [
           {
            "fillpattern": {
             "fillmode": "overlay",
             "size": 10,
             "solidity": 0.2
            },
            "type": "scatter"
           }
          ],
          "scatter3d": [
           {
            "line": {
             "colorbar": {
              "outlinewidth": 0,
              "ticks": ""
             }
            },
            "marker": {
             "colorbar": {
              "outlinewidth": 0,
              "ticks": ""
             }
            },
            "type": "scatter3d"
           }
          ],
          "scattercarpet": [
           {
            "marker": {
             "colorbar": {
              "outlinewidth": 0,
              "ticks": ""
             }
            },
            "type": "scattercarpet"
           }
          ],
          "scattergeo": [
           {
            "marker": {
             "colorbar": {
              "outlinewidth": 0,
              "ticks": ""
             }
            },
            "type": "scattergeo"
           }
          ],
          "scattergl": [
           {
            "marker": {
             "colorbar": {
              "outlinewidth": 0,
              "ticks": ""
             }
            },
            "type": "scattergl"
           }
          ],
          "scattermap": [
           {
            "marker": {
             "colorbar": {
              "outlinewidth": 0,
              "ticks": ""
             }
            },
            "type": "scattermap"
           }
          ],
          "scattermapbox": [
           {
            "marker": {
             "colorbar": {
              "outlinewidth": 0,
              "ticks": ""
             }
            },
            "type": "scattermapbox"
           }
          ],
          "scatterpolar": [
           {
            "marker": {
             "colorbar": {
              "outlinewidth": 0,
              "ticks": ""
             }
            },
            "type": "scatterpolar"
           }
          ],
          "scatterpolargl": [
           {
            "marker": {
             "colorbar": {
              "outlinewidth": 0,
              "ticks": ""
             }
            },
            "type": "scatterpolargl"
           }
          ],
          "scatterternary": [
           {
            "marker": {
             "colorbar": {
              "outlinewidth": 0,
              "ticks": ""
             }
            },
            "type": "scatterternary"
           }
          ],
          "surface": [
           {
            "colorbar": {
             "outlinewidth": 0,
             "ticks": ""
            },
            "colorscale": [
             [
              0,
              "#0d0887"
             ],
             [
              0.1111111111111111,
              "#46039f"
             ],
             [
              0.2222222222222222,
              "#7201a8"
             ],
             [
              0.3333333333333333,
              "#9c179e"
             ],
             [
              0.4444444444444444,
              "#bd3786"
             ],
             [
              0.5555555555555556,
              "#d8576b"
             ],
             [
              0.6666666666666666,
              "#ed7953"
             ],
             [
              0.7777777777777778,
              "#fb9f3a"
             ],
             [
              0.8888888888888888,
              "#fdca26"
             ],
             [
              1,
              "#f0f921"
             ]
            ],
            "type": "surface"
           }
          ],
          "table": [
           {
            "cells": {
             "fill": {
              "color": "#EBF0F8"
             },
             "line": {
              "color": "white"
             }
            },
            "header": {
             "fill": {
              "color": "#C8D4E3"
             },
             "line": {
              "color": "white"
             }
            },
            "type": "table"
           }
          ]
         },
         "layout": {
          "annotationdefaults": {
           "arrowcolor": "#2a3f5f",
           "arrowhead": 0,
           "arrowwidth": 1
          },
          "autotypenumbers": "strict",
          "coloraxis": {
           "colorbar": {
            "outlinewidth": 0,
            "ticks": ""
           }
          },
          "colorscale": {
           "diverging": [
            [
             0,
             "#8e0152"
            ],
            [
             0.1,
             "#c51b7d"
            ],
            [
             0.2,
             "#de77ae"
            ],
            [
             0.3,
             "#f1b6da"
            ],
            [
             0.4,
             "#fde0ef"
            ],
            [
             0.5,
             "#f7f7f7"
            ],
            [
             0.6,
             "#e6f5d0"
            ],
            [
             0.7,
             "#b8e186"
            ],
            [
             0.8,
             "#7fbc41"
            ],
            [
             0.9,
             "#4d9221"
            ],
            [
             1,
             "#276419"
            ]
           ],
           "sequential": [
            [
             0,
             "#0d0887"
            ],
            [
             0.1111111111111111,
             "#46039f"
            ],
            [
             0.2222222222222222,
             "#7201a8"
            ],
            [
             0.3333333333333333,
             "#9c179e"
            ],
            [
             0.4444444444444444,
             "#bd3786"
            ],
            [
             0.5555555555555556,
             "#d8576b"
            ],
            [
             0.6666666666666666,
             "#ed7953"
            ],
            [
             0.7777777777777778,
             "#fb9f3a"
            ],
            [
             0.8888888888888888,
             "#fdca26"
            ],
            [
             1,
             "#f0f921"
            ]
           ],
           "sequentialminus": [
            [
             0,
             "#0d0887"
            ],
            [
             0.1111111111111111,
             "#46039f"
            ],
            [
             0.2222222222222222,
             "#7201a8"
            ],
            [
             0.3333333333333333,
             "#9c179e"
            ],
            [
             0.4444444444444444,
             "#bd3786"
            ],
            [
             0.5555555555555556,
             "#d8576b"
            ],
            [
             0.6666666666666666,
             "#ed7953"
            ],
            [
             0.7777777777777778,
             "#fb9f3a"
            ],
            [
             0.8888888888888888,
             "#fdca26"
            ],
            [
             1,
             "#f0f921"
            ]
           ]
          },
          "colorway": [
           "#636efa",
           "#EF553B",
           "#00cc96",
           "#ab63fa",
           "#FFA15A",
           "#19d3f3",
           "#FF6692",
           "#B6E880",
           "#FF97FF",
           "#FECB52"
          ],
          "font": {
           "color": "#2a3f5f"
          },
          "geo": {
           "bgcolor": "white",
           "lakecolor": "white",
           "landcolor": "#E5ECF6",
           "showlakes": true,
           "showland": true,
           "subunitcolor": "white"
          },
          "hoverlabel": {
           "align": "left"
          },
          "hovermode": "closest",
          "mapbox": {
           "style": "light"
          },
          "paper_bgcolor": "white",
          "plot_bgcolor": "#E5ECF6",
          "polar": {
           "angularaxis": {
            "gridcolor": "white",
            "linecolor": "white",
            "ticks": ""
           },
           "bgcolor": "#E5ECF6",
           "radialaxis": {
            "gridcolor": "white",
            "linecolor": "white",
            "ticks": ""
           }
          },
          "scene": {
           "xaxis": {
            "backgroundcolor": "#E5ECF6",
            "gridcolor": "white",
            "gridwidth": 2,
            "linecolor": "white",
            "showbackground": true,
            "ticks": "",
            "zerolinecolor": "white"
           },
           "yaxis": {
            "backgroundcolor": "#E5ECF6",
            "gridcolor": "white",
            "gridwidth": 2,
            "linecolor": "white",
            "showbackground": true,
            "ticks": "",
            "zerolinecolor": "white"
           },
           "zaxis": {
            "backgroundcolor": "#E5ECF6",
            "gridcolor": "white",
            "gridwidth": 2,
            "linecolor": "white",
            "showbackground": true,
            "ticks": "",
            "zerolinecolor": "white"
           }
          },
          "shapedefaults": {
           "line": {
            "color": "#2a3f5f"
           }
          },
          "ternary": {
           "aaxis": {
            "gridcolor": "white",
            "linecolor": "white",
            "ticks": ""
           },
           "baxis": {
            "gridcolor": "white",
            "linecolor": "white",
            "ticks": ""
           },
           "bgcolor": "#E5ECF6",
           "caxis": {
            "gridcolor": "white",
            "linecolor": "white",
            "ticks": ""
           }
          },
          "title": {
           "x": 0.05
          },
          "xaxis": {
           "automargin": true,
           "gridcolor": "white",
           "linecolor": "white",
           "ticks": "",
           "title": {
            "standoff": 15
           },
           "zerolinecolor": "white",
           "zerolinewidth": 2
          },
          "yaxis": {
           "automargin": true,
           "gridcolor": "white",
           "linecolor": "white",
           "ticks": "",
           "title": {
            "standoff": 15
           },
           "zerolinecolor": "white",
           "zerolinewidth": 2
          }
         }
        },
        "title": {
         "text": "Optimization History Plot"
        },
        "xaxis": {
         "title": {
          "text": "Trial"
         }
        },
        "yaxis": {
         "title": {
          "text": "Objective Value"
         }
        }
       }
      }
     },
     "metadata": {},
     "output_type": "display_data"
    }
   ],
   "source": [
    "# Create study object and perform optimization\n",
    "study = optuna.create_study(direction='minimize')\n",
    "study.optimize(objective, n_trials=20)  \n",
    "\n",
    "# Best hyperparameters\n",
    "best_hyperparams = study.best_trial.params\n",
    "print('Best hyperparameters:', best_hyperparams)\n",
    "\n",
    "# Plot optimization history\n",
    "optimization_history = plot_optimization_history(study)\n",
    "optimization_history.show()"
   ]
  },
  {
   "cell_type": "markdown",
   "metadata": {},
   "source": [
    "### Best hyperparameters: {'learning_rate': 0.09169063844501016, 'hidden_size': 128, 'num_layers': 4, 'dropout_rate': 0.35129304483985335}"
   ]
  },
  {
   "cell_type": "markdown",
   "metadata": {},
   "source": [
    "### Training and Validation"
   ]
  },
  {
   "cell_type": "code",
   "execution_count": 68,
   "metadata": {},
   "outputs": [
    {
     "name": "stdout",
     "output_type": "stream",
     "text": [
      "SoCDNN(\n",
      "  (hidden_layers): ModuleList(\n",
      "    (0): Linear(in_features=7, out_features=512, bias=True)\n",
      "    (1): Linear(in_features=512, out_features=256, bias=True)\n",
      "    (2): Linear(in_features=256, out_features=128, bias=True)\n",
      "    (3): Linear(in_features=128, out_features=64, bias=True)\n",
      "  )\n",
      "  (batch_norm_layers): ModuleList(\n",
      "    (0): BatchNorm1d(512, eps=1e-05, momentum=0.1, affine=True, track_running_stats=True)\n",
      "    (1): BatchNorm1d(256, eps=1e-05, momentum=0.1, affine=True, track_running_stats=True)\n",
      "    (2): BatchNorm1d(128, eps=1e-05, momentum=0.1, affine=True, track_running_stats=True)\n",
      "    (3): BatchNorm1d(64, eps=1e-05, momentum=0.1, affine=True, track_running_stats=True)\n",
      "  )\n",
      "  (output_layer): Linear(in_features=64, out_features=1, bias=True)\n",
      "  (relu): ReLU()\n",
      "  (dropout): Dropout(p=0.4169276562014068, inplace=False)\n",
      ")\n",
      "Trainable parameters: 178561\n"
     ]
    }
   ],
   "source": [
    "hidden_size = best_hyperparams['hidden_size']\n",
    "num_layers = best_hyperparams['num_layers']\n",
    "dropout = best_hyperparams['dropout_rate']\n",
    "lr = best_hyperparams['learning_rate']\n",
    "\n",
    "# Train the final model with the best hyperparameters\n",
    "model = SoCDNN(input_size=len(FEATURE_COLS), hidden_size=hidden_size, num_layers=num_layers, dropout=dropout).to(device)\n",
    "optimizer = optim.Adam(model.parameters(), lr=lr, weight_decay=0.01)\n",
    "criterion = nn.MSELoss()\n",
    "\n",
    "print(model)\n",
    "total_params = sum(p.numel() for p in model.parameters())\n",
    "print(f\"Trainable parameters: {total_params}\")"
   ]
  },
  {
   "cell_type": "code",
   "execution_count": 69,
   "metadata": {},
   "outputs": [
    {
     "name": "stderr",
     "output_type": "stream",
     "text": [
      "Epoch: 0/50: 100%|██████████| 3966/3966 [01:37<00:00, 40.63it/s]\n"
     ]
    },
    {
     "name": "stdout",
     "output_type": "stream",
     "text": [
      "Epoch 1/50, Train Loss: 0.024095165083702397, Validation Loss: 0.048941883956977565\n",
      "Time taken for epoch: 97.62498617 seconds\n"
     ]
    },
    {
     "name": "stderr",
     "output_type": "stream",
     "text": [
      "Epoch: 1/50: 100%|██████████| 3966/3966 [01:56<00:00, 34.11it/s]\n"
     ]
    },
    {
     "name": "stdout",
     "output_type": "stream",
     "text": [
      "Epoch 2/50, Train Loss: 0.027233251793177603, Validation Loss: 0.0640528166024958\n",
      "Time taken for epoch: 116.26661420 seconds\n"
     ]
    },
    {
     "name": "stderr",
     "output_type": "stream",
     "text": [
      "Epoch: 2/50: 100%|██████████| 3966/3966 [02:08<00:00, 30.81it/s]\n"
     ]
    },
    {
     "name": "stdout",
     "output_type": "stream",
     "text": [
      "Epoch 3/50, Train Loss: 0.02708052488328514, Validation Loss: 0.06774623365513688\n",
      "Time taken for epoch: 128.72553706 seconds\n"
     ]
    },
    {
     "name": "stderr",
     "output_type": "stream",
     "text": [
      "Epoch: 3/50: 100%|██████████| 3966/3966 [02:09<00:00, 30.58it/s]\n"
     ]
    },
    {
     "name": "stdout",
     "output_type": "stream",
     "text": [
      "Epoch 4/50, Train Loss: 0.026847414990330037, Validation Loss: 0.0403979923129762\n",
      "Time taken for epoch: 129.68361092 seconds\n"
     ]
    },
    {
     "name": "stderr",
     "output_type": "stream",
     "text": [
      "Epoch: 4/50: 100%|██████████| 3966/3966 [02:09<00:00, 30.69it/s]\n"
     ]
    },
    {
     "name": "stdout",
     "output_type": "stream",
     "text": [
      "Epoch 5/50, Train Loss: 0.02690520234578827, Validation Loss: 0.05186869865138896\n",
      "Time taken for epoch: 129.21564007 seconds\n"
     ]
    },
    {
     "name": "stderr",
     "output_type": "stream",
     "text": [
      "Epoch: 5/50: 100%|██████████| 3966/3966 [02:10<00:00, 30.51it/s]\n"
     ]
    },
    {
     "name": "stdout",
     "output_type": "stream",
     "text": [
      "Epoch 6/50, Train Loss: 0.027361059304471427, Validation Loss: 0.044521602640026484\n",
      "Time taken for epoch: 130.01340699 seconds\n"
     ]
    },
    {
     "name": "stderr",
     "output_type": "stream",
     "text": [
      "Epoch: 6/50: 100%|██████████| 3966/3966 [02:23<00:00, 27.68it/s]\n"
     ]
    },
    {
     "name": "stdout",
     "output_type": "stream",
     "text": [
      "Epoch 7/50, Train Loss: 0.02710655156947556, Validation Loss: 0.0702972822210823\n",
      "Time taken for epoch: 143.27455163 seconds\n"
     ]
    },
    {
     "name": "stderr",
     "output_type": "stream",
     "text": [
      "Epoch: 7/50: 100%|██████████| 3966/3966 [02:23<00:00, 27.61it/s]\n"
     ]
    },
    {
     "name": "stdout",
     "output_type": "stream",
     "text": [
      "Epoch 8/50, Train Loss: 0.02657684983720367, Validation Loss: 0.09075394862141152\n",
      "Time taken for epoch: 143.64830804 seconds\n"
     ]
    },
    {
     "name": "stderr",
     "output_type": "stream",
     "text": [
      "Epoch: 8/50: 100%|██████████| 3966/3966 [02:09<00:00, 30.61it/s]\n"
     ]
    },
    {
     "name": "stdout",
     "output_type": "stream",
     "text": [
      "Epoch 9/50, Train Loss: 0.027030166038474048, Validation Loss: 0.07133106385025152\n",
      "Time taken for epoch: 129.57271814 seconds\n",
      "Early stopping triggered\n"
     ]
    },
    {
     "name": "stderr",
     "output_type": "stream",
     "text": [
      "Epoch: 9/50: 100%|██████████| 3966/3966 [02:09<00:00, 30.67it/s]\n"
     ]
    },
    {
     "name": "stdout",
     "output_type": "stream",
     "text": [
      "Epoch 10/50, Train Loss: 0.026689418943798938, Validation Loss: 0.07528800559225642\n",
      "Time taken for epoch: 129.33420801 seconds\n",
      "Early stopping triggered\n"
     ]
    },
    {
     "name": "stderr",
     "output_type": "stream",
     "text": [
      "Epoch: 10/50: 100%|██████████| 3966/3966 [02:09<00:00, 30.66it/s]\n"
     ]
    },
    {
     "name": "stdout",
     "output_type": "stream",
     "text": [
      "Epoch 11/50, Train Loss: 0.026455784744413527, Validation Loss: 0.04257546596296898\n",
      "Time taken for epoch: 129.34515381 seconds\n",
      "Early stopping triggered\n"
     ]
    },
    {
     "name": "stderr",
     "output_type": "stream",
     "text": [
      "Epoch: 11/50: 100%|██████████| 3966/3966 [02:09<00:00, 30.74it/s]\n"
     ]
    },
    {
     "name": "stdout",
     "output_type": "stream",
     "text": [
      "Epoch 12/50, Train Loss: 0.026622514702582593, Validation Loss: 0.04936228585022454\n",
      "Time taken for epoch: 129.01175213 seconds\n",
      "Early stopping triggered\n"
     ]
    },
    {
     "name": "stderr",
     "output_type": "stream",
     "text": [
      "Epoch: 12/50: 100%|██████████| 3966/3966 [02:08<00:00, 30.78it/s]\n"
     ]
    },
    {
     "name": "stdout",
     "output_type": "stream",
     "text": [
      "Epoch 13/50, Train Loss: 0.026221941737152834, Validation Loss: 0.0710755016000573\n",
      "Time taken for epoch: 128.85881686 seconds\n",
      "Early stopping triggered\n"
     ]
    },
    {
     "name": "stderr",
     "output_type": "stream",
     "text": [
      "Epoch: 13/50: 100%|██████████| 3966/3966 [02:09<00:00, 30.73it/s]\n"
     ]
    },
    {
     "name": "stdout",
     "output_type": "stream",
     "text": [
      "Epoch 14/50, Train Loss: 0.02707110723152764, Validation Loss: 0.10685749179547904\n",
      "Time taken for epoch: 129.06528687 seconds\n",
      "Early stopping triggered\n"
     ]
    },
    {
     "name": "stderr",
     "output_type": "stream",
     "text": [
      "Epoch: 14/50: 100%|██████████| 3966/3966 [02:09<00:00, 30.73it/s]\n"
     ]
    },
    {
     "name": "stdout",
     "output_type": "stream",
     "text": [
      "Epoch 15/50, Train Loss: 0.027195384312633367, Validation Loss: 0.04003495042867091\n",
      "Time taken for epoch: 129.05236387 seconds\n"
     ]
    },
    {
     "name": "stderr",
     "output_type": "stream",
     "text": [
      "Epoch: 15/50: 100%|██████████| 3966/3966 [02:08<00:00, 30.77it/s]\n"
     ]
    },
    {
     "name": "stdout",
     "output_type": "stream",
     "text": [
      "Epoch 16/50, Train Loss: 0.027234134420684897, Validation Loss: 0.04490555518138178\n",
      "Time taken for epoch: 128.87693787 seconds\n"
     ]
    },
    {
     "name": "stderr",
     "output_type": "stream",
     "text": [
      "Epoch: 16/50: 100%|██████████| 3966/3966 [02:09<00:00, 30.62it/s]\n"
     ]
    },
    {
     "name": "stdout",
     "output_type": "stream",
     "text": [
      "Epoch 17/50, Train Loss: 0.02703588950507384, Validation Loss: 0.09179929585789755\n",
      "Time taken for epoch: 129.51822615 seconds\n"
     ]
    },
    {
     "name": "stderr",
     "output_type": "stream",
     "text": [
      "Epoch: 17/50: 100%|██████████| 3966/3966 [02:10<00:00, 30.28it/s]\n"
     ]
    },
    {
     "name": "stdout",
     "output_type": "stream",
     "text": [
      "Epoch 18/50, Train Loss: 0.02732443355354497, Validation Loss: 0.0816395161912165\n",
      "Time taken for epoch: 130.98546576 seconds\n"
     ]
    },
    {
     "name": "stderr",
     "output_type": "stream",
     "text": [
      "Epoch: 18/50: 100%|██████████| 3966/3966 [02:08<00:00, 30.78it/s]\n"
     ]
    },
    {
     "name": "stdout",
     "output_type": "stream",
     "text": [
      "Epoch 19/50, Train Loss: 0.027442640189102096, Validation Loss: 0.0419877331308547\n",
      "Time taken for epoch: 128.85376692 seconds\n"
     ]
    },
    {
     "name": "stderr",
     "output_type": "stream",
     "text": [
      "Epoch: 19/50: 100%|██████████| 3966/3966 [02:08<00:00, 30.77it/s]\n"
     ]
    },
    {
     "name": "stdout",
     "output_type": "stream",
     "text": [
      "Epoch 20/50, Train Loss: 0.027179384558540038, Validation Loss: 0.05077675487891333\n",
      "Time taken for epoch: 128.90704179 seconds\n",
      "Early stopping triggered\n"
     ]
    },
    {
     "name": "stderr",
     "output_type": "stream",
     "text": [
      "Epoch: 20/50: 100%|██████████| 3966/3966 [02:08<00:00, 30.85it/s]\n"
     ]
    },
    {
     "name": "stdout",
     "output_type": "stream",
     "text": [
      "Epoch 21/50, Train Loss: 0.026769963322292808, Validation Loss: 0.040730864612129734\n",
      "Time taken for epoch: 128.58047104 seconds\n",
      "Early stopping triggered\n"
     ]
    },
    {
     "name": "stderr",
     "output_type": "stream",
     "text": [
      "Epoch: 21/50: 100%|██████████| 3966/3966 [02:08<00:00, 30.93it/s]\n"
     ]
    },
    {
     "name": "stdout",
     "output_type": "stream",
     "text": [
      "Epoch 22/50, Train Loss: 0.026930127734345617, Validation Loss: 0.039854664668016855\n",
      "Time taken for epoch: 128.22915101 seconds\n"
     ]
    },
    {
     "name": "stderr",
     "output_type": "stream",
     "text": [
      "Epoch: 22/50: 100%|██████████| 3966/3966 [02:07<00:00, 31.04it/s]\n"
     ]
    },
    {
     "name": "stdout",
     "output_type": "stream",
     "text": [
      "Epoch 23/50, Train Loss: 0.02684642027065992, Validation Loss: 0.06287687644251416\n",
      "Time taken for epoch: 127.78218508 seconds\n"
     ]
    },
    {
     "name": "stderr",
     "output_type": "stream",
     "text": [
      "Epoch: 23/50: 100%|██████████| 3966/3966 [02:08<00:00, 30.81it/s]\n"
     ]
    },
    {
     "name": "stdout",
     "output_type": "stream",
     "text": [
      "Epoch 24/50, Train Loss: 0.026051900363177345, Validation Loss: 0.08617639812013363\n",
      "Time taken for epoch: 128.74045992 seconds\n"
     ]
    },
    {
     "name": "stderr",
     "output_type": "stream",
     "text": [
      "Epoch: 24/50: 100%|██████████| 3966/3966 [02:08<00:00, 30.92it/s]\n"
     ]
    },
    {
     "name": "stdout",
     "output_type": "stream",
     "text": [
      "Epoch 25/50, Train Loss: 0.026754884901247538, Validation Loss: 0.036738091451394145\n",
      "Time taken for epoch: 128.27097607 seconds\n"
     ]
    },
    {
     "name": "stderr",
     "output_type": "stream",
     "text": [
      "Epoch: 25/50: 100%|██████████| 3966/3966 [02:09<00:00, 30.69it/s]\n"
     ]
    },
    {
     "name": "stdout",
     "output_type": "stream",
     "text": [
      "Epoch 26/50, Train Loss: 0.027419100156259608, Validation Loss: 0.10752909544416375\n",
      "Time taken for epoch: 129.23062491 seconds\n"
     ]
    },
    {
     "name": "stderr",
     "output_type": "stream",
     "text": [
      "Epoch: 26/50: 100%|██████████| 3966/3966 [02:08<00:00, 30.80it/s]\n"
     ]
    },
    {
     "name": "stdout",
     "output_type": "stream",
     "text": [
      "Epoch 27/50, Train Loss: 0.027231748376945263, Validation Loss: 0.030105337405870458\n",
      "Time taken for epoch: 128.75315785 seconds\n"
     ]
    },
    {
     "name": "stderr",
     "output_type": "stream",
     "text": [
      "Epoch: 27/50: 100%|██████████| 3966/3966 [01:56<00:00, 33.99it/s]\n"
     ]
    },
    {
     "name": "stdout",
     "output_type": "stream",
     "text": [
      "Epoch 28/50, Train Loss: 0.026727903019063894, Validation Loss: 0.12414030031738632\n",
      "Time taken for epoch: 116.69895172 seconds\n"
     ]
    },
    {
     "name": "stderr",
     "output_type": "stream",
     "text": [
      "Epoch: 28/50: 100%|██████████| 3966/3966 [01:37<00:00, 40.84it/s]\n"
     ]
    },
    {
     "name": "stdout",
     "output_type": "stream",
     "text": [
      "Epoch 29/50, Train Loss: 0.02665446594637404, Validation Loss: 0.03798541812437218\n",
      "Time taken for epoch: 97.11260915 seconds\n"
     ]
    },
    {
     "name": "stderr",
     "output_type": "stream",
     "text": [
      "Epoch: 29/50: 100%|██████████| 3966/3966 [01:49<00:00, 36.18it/s]\n"
     ]
    },
    {
     "name": "stdout",
     "output_type": "stream",
     "text": [
      "Epoch 30/50, Train Loss: 0.026416835036510117, Validation Loss: 0.0487357867105682\n",
      "Time taken for epoch: 109.62796807 seconds\n"
     ]
    },
    {
     "name": "stderr",
     "output_type": "stream",
     "text": [
      "Epoch: 30/50: 100%|██████████| 3966/3966 [02:08<00:00, 30.91it/s]\n"
     ]
    },
    {
     "name": "stdout",
     "output_type": "stream",
     "text": [
      "Epoch 31/50, Train Loss: 0.026358197464321637, Validation Loss: 0.042614918097927494\n",
      "Time taken for epoch: 128.32910490 seconds\n"
     ]
    },
    {
     "name": "stderr",
     "output_type": "stream",
     "text": [
      "Epoch: 31/50: 100%|██████████| 3966/3966 [02:08<00:00, 30.94it/s]\n"
     ]
    },
    {
     "name": "stdout",
     "output_type": "stream",
     "text": [
      "Epoch 32/50, Train Loss: 0.02599385730213985, Validation Loss: 0.07680929100789176\n",
      "Time taken for epoch: 128.19948912 seconds\n",
      "Early stopping triggered\n"
     ]
    },
    {
     "name": "stderr",
     "output_type": "stream",
     "text": [
      "Epoch: 32/50: 100%|██████████| 3966/3966 [02:12<00:00, 29.93it/s]\n"
     ]
    },
    {
     "name": "stdout",
     "output_type": "stream",
     "text": [
      "Epoch 33/50, Train Loss: 0.026413004843032516, Validation Loss: 0.06954351860571628\n",
      "Time taken for epoch: 132.50612617 seconds\n",
      "Early stopping triggered\n"
     ]
    },
    {
     "name": "stderr",
     "output_type": "stream",
     "text": [
      "Epoch: 33/50: 100%|██████████| 3966/3966 [02:17<00:00, 28.83it/s]\n"
     ]
    },
    {
     "name": "stdout",
     "output_type": "stream",
     "text": [
      "Epoch 34/50, Train Loss: 0.026527555971263155, Validation Loss: 0.08489929945712812\n",
      "Time taken for epoch: 137.54974794 seconds\n",
      "Early stopping triggered\n"
     ]
    },
    {
     "name": "stderr",
     "output_type": "stream",
     "text": [
      "Epoch: 34/50: 100%|██████████| 3966/3966 [02:15<00:00, 29.21it/s]\n"
     ]
    },
    {
     "name": "stdout",
     "output_type": "stream",
     "text": [
      "Epoch 35/50, Train Loss: 0.026426363564497946, Validation Loss: 0.03690215626277676\n",
      "Time taken for epoch: 135.76736093 seconds\n",
      "Early stopping triggered\n"
     ]
    },
    {
     "name": "stderr",
     "output_type": "stream",
     "text": [
      "Epoch: 35/50: 100%|██████████| 3966/3966 [02:07<00:00, 31.09it/s]\n"
     ]
    },
    {
     "name": "stdout",
     "output_type": "stream",
     "text": [
      "Epoch 36/50, Train Loss: 0.02680119207721585, Validation Loss: 0.039793258237180024\n",
      "Time taken for epoch: 127.54769778 seconds\n",
      "Early stopping triggered\n"
     ]
    },
    {
     "name": "stderr",
     "output_type": "stream",
     "text": [
      "Epoch: 36/50: 100%|██████████| 3966/3966 [02:07<00:00, 31.08it/s]\n"
     ]
    },
    {
     "name": "stdout",
     "output_type": "stream",
     "text": [
      "Epoch 37/50, Train Loss: 0.026628133589124747, Validation Loss: 0.04218602920244435\n",
      "Time taken for epoch: 127.59431219 seconds\n",
      "Early stopping triggered\n"
     ]
    },
    {
     "name": "stderr",
     "output_type": "stream",
     "text": [
      "Epoch: 37/50: 100%|██████████| 3966/3966 [02:06<00:00, 31.28it/s]\n"
     ]
    },
    {
     "name": "stdout",
     "output_type": "stream",
     "text": [
      "Epoch 38/50, Train Loss: 0.026068339599141465, Validation Loss: 0.06518817551192274\n",
      "Time taken for epoch: 126.80086613 seconds\n",
      "Early stopping triggered\n"
     ]
    },
    {
     "name": "stderr",
     "output_type": "stream",
     "text": [
      "Epoch: 38/50: 100%|██████████| 3966/3966 [02:06<00:00, 31.29it/s]\n"
     ]
    },
    {
     "name": "stdout",
     "output_type": "stream",
     "text": [
      "Epoch 39/50, Train Loss: 0.026142202140655383, Validation Loss: 0.12154976301361502\n",
      "Time taken for epoch: 126.75688505 seconds\n",
      "Early stopping triggered\n"
     ]
    },
    {
     "name": "stderr",
     "output_type": "stream",
     "text": [
      "Epoch: 39/50: 100%|██████████| 3966/3966 [02:06<00:00, 31.28it/s]\n"
     ]
    },
    {
     "name": "stdout",
     "output_type": "stream",
     "text": [
      "Epoch 40/50, Train Loss: 0.026357920413937343, Validation Loss: 0.03977692617917973\n",
      "Time taken for epoch: 126.80166101 seconds\n",
      "Early stopping triggered\n"
     ]
    },
    {
     "name": "stderr",
     "output_type": "stream",
     "text": [
      "Epoch: 40/50: 100%|██████████| 3966/3966 [02:08<00:00, 30.96it/s]\n"
     ]
    },
    {
     "name": "stdout",
     "output_type": "stream",
     "text": [
      "Epoch 41/50, Train Loss: 0.026246522123532286, Validation Loss: 0.039146986028070166\n",
      "Time taken for epoch: 128.10564208 seconds\n",
      "Early stopping triggered\n"
     ]
    },
    {
     "name": "stderr",
     "output_type": "stream",
     "text": [
      "Epoch: 41/50: 100%|██████████| 3966/3966 [02:08<00:00, 30.97it/s]\n"
     ]
    },
    {
     "name": "stdout",
     "output_type": "stream",
     "text": [
      "Epoch 42/50, Train Loss: 0.026149507107112634, Validation Loss: 0.2527909037827734\n",
      "Time taken for epoch: 128.05778193 seconds\n",
      "Early stopping triggered\n"
     ]
    },
    {
     "name": "stderr",
     "output_type": "stream",
     "text": [
      "Epoch: 42/50: 100%|██████████| 3966/3966 [02:06<00:00, 31.23it/s]\n"
     ]
    },
    {
     "name": "stdout",
     "output_type": "stream",
     "text": [
      "Epoch 43/50, Train Loss: 0.026135201808732085, Validation Loss: 0.03964761356136718\n",
      "Time taken for epoch: 126.99625397 seconds\n",
      "Early stopping triggered\n"
     ]
    },
    {
     "name": "stderr",
     "output_type": "stream",
     "text": [
      "Epoch: 43/50: 100%|██████████| 3966/3966 [02:07<00:00, 31.17it/s]\n"
     ]
    },
    {
     "name": "stdout",
     "output_type": "stream",
     "text": [
      "Epoch 44/50, Train Loss: 0.025797842097700214, Validation Loss: 0.03503610064486448\n",
      "Time taken for epoch: 127.23260331 seconds\n",
      "Early stopping triggered\n"
     ]
    },
    {
     "name": "stderr",
     "output_type": "stream",
     "text": [
      "Epoch: 44/50: 100%|██████████| 3966/3966 [02:07<00:00, 31.18it/s]\n"
     ]
    },
    {
     "name": "stdout",
     "output_type": "stream",
     "text": [
      "Epoch 45/50, Train Loss: 0.025703461725214066, Validation Loss: 0.10893188298632105\n",
      "Time taken for epoch: 127.18049812 seconds\n",
      "Early stopping triggered\n"
     ]
    },
    {
     "name": "stderr",
     "output_type": "stream",
     "text": [
      "Epoch: 45/50: 100%|██████████| 3966/3966 [02:06<00:00, 31.24it/s]\n"
     ]
    },
    {
     "name": "stdout",
     "output_type": "stream",
     "text": [
      "Epoch 46/50, Train Loss: 0.025820244991314936, Validation Loss: 0.08280123631601564\n",
      "Time taken for epoch: 126.94259501 seconds\n",
      "Early stopping triggered\n"
     ]
    },
    {
     "name": "stderr",
     "output_type": "stream",
     "text": [
      "Epoch: 46/50: 100%|██████████| 3966/3966 [02:07<00:00, 31.11it/s]\n"
     ]
    },
    {
     "name": "stdout",
     "output_type": "stream",
     "text": [
      "Epoch 47/50, Train Loss: 0.025341169706222178, Validation Loss: 0.04136120375019419\n",
      "Time taken for epoch: 127.47756386 seconds\n",
      "Early stopping triggered\n"
     ]
    },
    {
     "name": "stderr",
     "output_type": "stream",
     "text": [
      "Epoch: 47/50: 100%|██████████| 3966/3966 [02:07<00:00, 31.10it/s]\n"
     ]
    },
    {
     "name": "stdout",
     "output_type": "stream",
     "text": [
      "Epoch 48/50, Train Loss: 0.025539776176473468, Validation Loss: 0.09575346838622409\n",
      "Time taken for epoch: 127.54085803 seconds\n",
      "Early stopping triggered\n"
     ]
    },
    {
     "name": "stderr",
     "output_type": "stream",
     "text": [
      "Epoch: 48/50: 100%|██████████| 3966/3966 [02:07<00:00, 31.03it/s]\n"
     ]
    },
    {
     "name": "stdout",
     "output_type": "stream",
     "text": [
      "Epoch 49/50, Train Loss: 0.025248729152322208, Validation Loss: 0.046121203257073244\n",
      "Time taken for epoch: 127.80069804 seconds\n",
      "Early stopping triggered\n"
     ]
    },
    {
     "name": "stderr",
     "output_type": "stream",
     "text": [
      "Epoch: 49/50: 100%|██████████| 3966/3966 [02:07<00:00, 31.14it/s]\n"
     ]
    },
    {
     "name": "stdout",
     "output_type": "stream",
     "text": [
      "Epoch 50/50, Train Loss: 0.025529245437375087, Validation Loss: 0.07609792942360398\n",
      "Time taken for epoch: 127.37931585 seconds\n",
      "Early stopping triggered\n"
     ]
    },
    {
     "data": {
      "image/png": "[encoded data removed]",
      "text/plain": [
       "<Figure size 1000x500 with 1 Axes>"
      ]
     },
     "metadata": {},
     "output_type": "display_data"
    }
   ],
   "source": [
    "EPOCHS = 50\n",
    "history = train_and_validate(model, criterion, optimizer, train_loader, val_loader, EPOCHS, device)\n",
    "\n",
    "# Plot training history\n",
    "plt.figure(figsize=(10, 5))\n",
    "plt.plot(history['train_loss'], label='Train Loss')\n",
    "plt.plot(history['val_loss'], label='Validation Loss')\n",
    "plt.xlabel('Epoch')\n",
    "plt.ylabel('Loss')\n",
    "plt.title('Training and Validation Loss Over Epochs')\n",
    "plt.legend()\n",
    "plt.grid(True)\n",
    "plt.show()\n",
    "\n",
    "# Save the model\n",
    "model_path = \"soc_dnn_model.pth\"\n",
    "torch.save({'model_state_dict': model.state_dict(), 'input_size': len(FEATURE_COLS)}, model_path)"
   ]
  },
  {
   "cell_type": "markdown",
   "metadata": {},
   "source": [
    "### Testing"
   ]
  },
  {
   "cell_type": "code",
   "execution_count": 70,
   "metadata": {},
   "outputs": [],
   "source": [
    "model_path = \"soc_dnn_model.pth\"\n",
    "\n",
    "def load_model(model_path, input_size):\n",
    "    model = SoCDNN(input_size=len(FEATURE_COLS), hidden_size=hidden_size, num_layers=num_layers, dropout=dropout).to(device)\n",
    "    model.load_state_dict(torch.load(model_path, map_location=device)['model_state_dict'])\n",
    "    model.to(device)\n",
    "    model.eval()\n",
    "    return model\n",
    "\n",
    "loaded_model = load_model(model_path, len(FEATURE_COLS))"
   ]
  },
  {
   "cell_type": "code",
   "execution_count": 71,
   "metadata": {},
   "outputs": [],
   "source": [
    "def test_model(model, test_loader, device):\n",
    "    model.eval()\n",
    "    test_predictions = []\n",
    "    test_labels = []\n",
    "\n",
    "    with torch.no_grad():\n",
    "        for inputs, labels, _, _ in test_loader: \n",
    "            inputs, labels = inputs.to(device), labels.to(device)\n",
    "            outputs = model(inputs)\n",
    "            test_predictions.extend(outputs.cpu().view(-1).tolist())\n",
    "            test_labels.extend(labels.cpu().view(-1).tolist())\n",
    "\n",
    "    return test_predictions, test_labels\n",
    "\n",
    "# Evaluate the model\n",
    "test_predictions, test_labels = test_model(loaded_model, test_loader, device)\n",
    "\n",
    "# Convert predictions and labels to numpy arrays for error calculation\n",
    "test_predictions_np = np.array(test_predictions)\n",
    "test_labels_np = np.array(test_labels)"
   ]
  },
  {
   "cell_type": "code",
   "execution_count": 72,
   "metadata": {},
   "outputs": [
    {
     "name": "stdout",
     "output_type": "stream",
     "text": [
      "Test MSE: 0.020984\n",
      "Test MAE: 0.123687\n",
      "Test StdDev: 0.135635\n"
     ]
    }
   ],
   "source": [
    "# Calculate metrics MAE, MSE, STD\n",
    "mse = mean_squared_error(test_labels_np, test_predictions_np)\n",
    "mae = mean_absolute_error(test_labels_np, test_predictions_np)\n",
    "stddev = np.std(test_labels_np - test_predictions_np)\n",
    "\n",
    "print(f\"Test MSE: {mse:.6f}\")\n",
    "print(f\"Test MAE: {mae:.6f}\")\n",
    "print(f\"Test StdDev: {stddev:.6f}\")"
   ]
  },
  {
   "cell_type": "code",
   "execution_count": 73,
   "metadata": {},
   "outputs": [
    {
     "data": {
      "image/png": "[encoded data removed]",
      "text/plain": [
       "<Figure size 800x800 with 1 Axes>"
      ]
     },
     "metadata": {},
     "output_type": "display_data"
    }
   ],
   "source": [
    "plt.figure(figsize=(8, 8))\n",
    "plt.scatter(test_labels, test_predictions, alpha=0.5)\n",
    "plt.xlabel('True Values [SOC]')\n",
    "plt.ylabel('Predictions [SOC]')\n",
    "plt.axis('equal')\n",
    "plt.axis('square')\n",
    "plt.xlim([0, 1])\n",
    "plt.ylim([0, 1])\n",
    "plt.plot([0, 1], [0, 1], color='red') \n",
    "plt.title('Predicted SOC vs True SOC')\n",
    "plt.show()"
   ]
  },
  {
   "cell_type": "markdown",
   "metadata": {},
   "source": [
    "### Qualitative Comparison"
   ]
  },
  {
   "cell_type": "code",
   "execution_count": 61,
   "metadata": {},
   "outputs": [
    {
     "data": {
      "image/png": "[encoded data removed]",
      "text/plain": [
       "<Figure size 1200x600 with 1 Axes>"
      ]
     },
     "metadata": {},
     "output_type": "display_data"
    },
    {
     "data": {
      "image/png": "[encoded data removed]",
      "text/plain": [
       "<Figure size 1200x600 with 1 Axes>"
      ]
     },
     "metadata": {},
     "output_type": "display_data"
    },
    {
     "data": {
      "image/png": "[encoded data removed]",
      "text/plain": [
       "<Figure size 1200x600 with 1 Axes>"
      ]
     },
     "metadata": {},
     "output_type": "display_data"
    },
    {
     "data": {
      "image/png": "[encoded data removed]",
      "text/plain": [
       "<Figure size 1200x600 with 1 Axes>"
      ]
     },
     "metadata": {},
     "output_type": "display_data"
    },
    {
     "data": {
      "image/png": "[encoded data removed]",
      "text/plain": [
       "<Figure size 1200x600 with 1 Axes>"
      ]
     },
     "metadata": {},
     "output_type": "display_data"
    },
    {
     "data": {
      "image/png": "[encoded data removed]",
      "text/plain": [
       "<Figure size 1200x600 with 1 Axes>"
      ]
     },
     "metadata": {},
     "output_type": "display_data"
    }
   ],
   "source": [
    "def test_model(model, test_loader, device):\n",
    "    model.eval()\n",
    "    test_results = {}\n",
    "\n",
    "    with torch.no_grad():\n",
    "        for inputs, labels, filenames, times in test_loader: \n",
    "            inputs, labels = inputs.to(device), labels.to(device)\n",
    "            outputs = model(inputs)\n",
    "            predictions = outputs.cpu().view(-1).numpy()\n",
    "            labels = labels.cpu().view(-1).numpy()\n",
    "\n",
    "            for filename, time, pred, label in zip(filenames, times, predictions, labels):\n",
    "                if filename not in test_results:\n",
    "                    test_results[filename] = {'times': [], 'predictions': [], 'labels': []}\n",
    "                test_results[filename]['times'].append(time)\n",
    "                test_results[filename]['predictions'].append(pred)\n",
    "                test_results[filename]['labels'].append(label)\n",
    "\n",
    "    return test_results\n",
    "\n",
    "def plot_soc_over_time(test_results):\n",
    "    for filename, data in test_results.items():\n",
    "        times = data['times']\n",
    "        predictions = data['predictions']\n",
    "        labels = data['labels']\n",
    "\n",
    "        plt.figure(figsize=(12, 6))\n",
    "        plt.plot(times, labels, label='True SOC', color='blue')\n",
    "        plt.plot(times, predictions, label='Predicted SOC', color='red')\n",
    "        plt.title(f'Test File: {filename}')\n",
    "        plt.xlabel('Time [s]')\n",
    "        plt.ylabel('SOC')\n",
    "        plt.legend()\n",
    "        plt.show()\n",
    "\n",
    "# Evaluate the model on the test set\n",
    "test_results = test_model(loaded_model, test_loader, device)\n",
    "\n",
    "# Plot the SOC over time for each test file\n",
    "plot_soc_over_time(test_results)"
   ]
  }
 ],
 "metadata": {
  "kernelspec": {
   "display_name": "Python 3",
   "language": "python",
   "name": "python3"
  },
  "language_info": {
   "codemirror_mode": {
    "name": "ipython",
    "version": 3
   },
   "file_extension": ".py",
   "mimetype": "text/x-python",
   "name": "python",
   "nbconvert_exporter": "python",
   "pygments_lexer": "ipython3",
   "version": "3.9.6"
  }
 },
 "nbformat": 4,
 "nbformat_minor": 2
}
