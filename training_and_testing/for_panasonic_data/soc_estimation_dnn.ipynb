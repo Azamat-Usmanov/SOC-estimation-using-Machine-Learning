{
 "cells": [
  {
   "cell_type": "markdown",
   "metadata": {},
   "source": [
    "### Deep Neural Network for SOC Prediction with using Panasonic 18650PF Li-ion Battery\n",
    "\n",
    "Panasonic 18650PF Li-ion Battery DataSet - https://data.mendeley.com/datasets/wykht8y7tg/1"
   ]
  },
  {
   "cell_type": "code",
   "execution_count": 1,
   "metadata": {},
   "outputs": [],
   "source": [
    "import os\n",
    "import pandas as pd\n",
    "import numpy as np\n",
    "import torch\n",
    "import torch.nn as nn\n",
    "import torch.optim as optim\n",
    "from torch.utils.data import Dataset, DataLoader\n",
    "import matplotlib.pyplot as plt\n",
    "from sklearn.model_selection import train_test_split\n",
    "from sklearn.preprocessing import StandardScaler\n",
    "import optuna\n",
    "import time\n",
    "from optuna.visualization import plot_optimization_history\n",
    "from tqdm import tqdm\n",
    "from sklearn.metrics import mean_squared_error, mean_absolute_error"
   ]
  },
  {
   "cell_type": "code",
   "execution_count": 2,
   "metadata": {},
   "outputs": [],
   "source": [
    "PROCESSED_DATA_DIR = '../../datasets/Panasonic_dataset/Panasonic_processed'\n",
    "FEATURE_COLS = ['Voltage [V]', 'Current [A]', 'Temperature [degC]', 'Voltage Average', 'Current Average', 'Power [W]', 'Cumulative_Capacity_Ah']\n",
    "LABEL_COL = 'SOC [-]'\n",
    "BATCH_SIZE = 1024\n",
    "device = torch.device(\"cuda:0\" if torch.cuda.is_available() else \"cpu\")"
   ]
  },
  {
   "cell_type": "code",
   "execution_count": 3,
   "metadata": {},
   "outputs": [],
   "source": [
    "# Function to load data\n",
    "def load_data(directory, temperatures):\n",
    "    frames = []    \n",
    "    for temp_folder in os.listdir(directory):\n",
    "        if temp_folder in temperatures:\n",
    "            temp_path = os.path.join(directory, temp_folder)\n",
    "            for file in os.listdir(temp_path):\n",
    "                if 'Charge' in file or 'Dis' in file:\n",
    "                    continue  # Skip constant charge and discharge files\n",
    "                if file.endswith('.csv'):\n",
    "                    df = pd.read_csv(os.path.join(temp_path, file))\n",
    "                    df['SourceFile'] = file\n",
    "\n",
    "                    # Calculate power\n",
    "                    df['Power [W]'] = df['Voltage [V]'] * df['Current [A]']\n",
    "                    \n",
    "                    frames.append(df)\n",
    "    return pd.concat(frames, ignore_index=True)"
   ]
  },
  {
   "cell_type": "code",
   "execution_count": 4,
   "metadata": {},
   "outputs": [],
   "source": [
    "# Create Dataset\n",
    "class BatteryDatasetDNN(Dataset):\n",
    "    def __init__(self, data_tensor, labels_tensor, filenames=None, times=None):\n",
    "        self.features = data_tensor\n",
    "        self.labels = labels_tensor\n",
    "        self.filenames = filenames \n",
    "        self.times = times \n",
    "\n",
    "    def __len__(self):\n",
    "        return len(self.features)\n",
    "\n",
    "    def __getitem__(self, idx):\n",
    "        feature = self.features[idx]\n",
    "        label = self.labels[idx]\n",
    "        filename = self.filenames[idx]\n",
    "        time = self.times[idx]  \n",
    "        return feature, label, filename, time\n",
    "    \n",
    "    def get_unique_filenames(self):\n",
    "        return set(self.filenames)\n",
    "    \n",
    "    def get_times(self):\n",
    "        return self.times"
   ]
  },
  {
   "cell_type": "code",
   "execution_count": 5,
   "metadata": {},
   "outputs": [],
   "source": [
    "# DNN Model\n",
    "class SoCDNN(nn.Module):\n",
    "    def __init__(self, input_size, hidden_size, num_layers, dropout = 0.1):\n",
    "        super(SoCDNN, self).__init__()\n",
    "\n",
    "        self.hidden_layers = nn.ModuleList()\n",
    "        self.batch_norm_layers = nn.ModuleList()\n",
    "\n",
    "        # First layer\n",
    "        self.hidden_layers.append(nn.Linear(input_size, hidden_size))\n",
    "        self.batch_norm_layers.append(nn.BatchNorm1d(hidden_size))\n",
    "\n",
    "        # Dynamically add hidden layers\n",
    "        for i in range(1, num_layers):\n",
    "            layer_size = hidden_size // (2 ** i)\n",
    "            self.hidden_layers.append(nn.Linear(hidden_size // (2 ** (i - 1)), layer_size))\n",
    "            self.batch_norm_layers.append(nn.BatchNorm1d(layer_size))\n",
    "\n",
    "        # Output layer\n",
    "        self.output_layer = nn.Linear(hidden_size // (2 ** (num_layers - 1)), 1)\n",
    "\n",
    "        # Activation and Dropout against Regularization\n",
    "        self.relu = nn.ReLU()\n",
    "        self.dropout = nn.Dropout(dropout)\n",
    "\n",
    "    def forward(self, x):\n",
    "        for hidden_layer, batch_norm_layer in zip(self.hidden_layers, self.batch_norm_layers):\n",
    "            x = self.relu(batch_norm_layer(hidden_layer(x)))\n",
    "            x = self.dropout(x)\n",
    "\n",
    "        x = self.output_layer(x)\n",
    "        return x\n"
   ]
  },
  {
   "cell_type": "code",
   "execution_count": 6,
   "metadata": {},
   "outputs": [],
   "source": [
    "# Training loop with validation\n",
    "def train_and_validate(model, criterion, optimizer, train_loader, val_loader, epochs, device, patience=5, min_delta=0.0001):\n",
    "    history = {'train_loss': [], 'val_loss': []}\n",
    "\n",
    "    best_val_loss = float('inf')\n",
    "    epochs_no_improve = 0\n",
    "    \n",
    "    for epoch in range(epochs):\n",
    "        model.train()\n",
    "        train_loss = 0.0\n",
    "        epoch_start_time = time.time()\n",
    "        for _, (sequences, labels, _, _) in enumerate(tqdm(train_loader, desc=f'Epoch: {epoch}/{epochs}')):  \n",
    "            sequences, labels = sequences.to(device), labels.to(device)\n",
    "            labels = labels.unsqueeze(1) \n",
    "            optimizer.zero_grad()\n",
    "            outputs = model(sequences)\n",
    "            loss = criterion(outputs, labels)\n",
    "            loss.backward()\n",
    "            optimizer.step()\n",
    "            train_loss += loss.item()\n",
    "        \n",
    "        epoch_end_time = time.time()\n",
    "        epoch_time = epoch_end_time - epoch_start_time\n",
    "        train_loss /= len(train_loader)\n",
    "        history['train_loss'].append(train_loss)\n",
    "\n",
    "        model.eval()\n",
    "        val_loss = 0.0\n",
    "        with torch.no_grad():\n",
    "            for sequences, labels, _, _ in val_loader:  \n",
    "                sequences, labels = sequences.to(device), labels.to(device)\n",
    "                labels = labels.unsqueeze(1)  \n",
    "                outputs = model(sequences)\n",
    "                loss = criterion(outputs, labels)\n",
    "                val_loss += loss.item()\n",
    "\n",
    "        val_loss /= len(val_loader)\n",
    "        history['val_loss'].append(val_loss)\n",
    "\n",
    "        # Early stopping logic\n",
    "        if val_loss < best_val_loss - min_delta:\n",
    "            best_val_loss = val_loss\n",
    "            epochs_no_improve = 0\n",
    "        else:\n",
    "            epochs_no_improve += 1\n",
    "\n",
    "        print(f'Epoch {epoch + 1}/{epochs}, Train Loss: {train_loss}, Validation Loss: {val_loss}')\n",
    "        print(f'Time taken for epoch: {epoch_time:.8f} seconds')\n",
    "\n",
    "        if epochs_no_improve >= patience:\n",
    "            print('Early stopping triggered')\n",
    "            #break\n",
    "\n",
    "    return history"
   ]
  },
  {
   "cell_type": "code",
   "execution_count": 7,
   "metadata": {},
   "outputs": [],
   "source": [
    "temperatures_to_process = [folder for folder in os.listdir(PROCESSED_DATA_DIR) if 'degC' in folder]"
   ]
  },
  {
   "cell_type": "code",
   "execution_count": 8,
   "metadata": {},
   "outputs": [
    {
     "data": {
      "text/html": [
       "<div>\n",
       "<style scoped>\n",
       "    .dataframe tbody tr th:only-of-type {\n",
       "        vertical-align: middle;\n",
       "    }\n",
       "\n",
       "    .dataframe tbody tr th {\n",
       "        vertical-align: top;\n",
       "    }\n",
       "\n",
       "    .dataframe thead th {\n",
       "        text-align: right;\n",
       "    }\n",
       "</style>\n",
       "<table border=\"1\" class=\"dataframe\">\n",
       "  <thead>\n",
       "    <tr style=\"text-align: right;\">\n",
       "      <th></th>\n",
       "      <th>Timestamp</th>\n",
       "      <th>Time [s]</th>\n",
       "      <th>Voltage [V]</th>\n",
       "      <th>Current [A]</th>\n",
       "      <th>Temperature [degC]</th>\n",
       "      <th>Capacity [Ah]</th>\n",
       "      <th>Voltage Average</th>\n",
       "      <th>Current Average</th>\n",
       "      <th>Time_diff</th>\n",
       "      <th>Cumulative_Capacity_Ah</th>\n",
       "      <th>SOC [-]</th>\n",
       "      <th>SourceFile</th>\n",
       "      <th>Power [W]</th>\n",
       "    </tr>\n",
       "  </thead>\n",
       "  <tbody>\n",
       "    <tr>\n",
       "      <th>0</th>\n",
       "      <td>2017-05-30 20:17:33</td>\n",
       "      <td>50.000000</td>\n",
       "      <td>3.86277</td>\n",
       "      <td>-2.23754</td>\n",
       "      <td>0.754623</td>\n",
       "      <td>-0.02364</td>\n",
       "      <td>3.895890</td>\n",
       "      <td>-1.700817</td>\n",
       "      <td>0.000029</td>\n",
       "      <td>-0.023551</td>\n",
       "      <td>0.990977</td>\n",
       "      <td>05-30-17_20.16 0degC_Cycle_2_Pan18650PF_proces...</td>\n",
       "      <td>-8.643102</td>\n",
       "    </tr>\n",
       "    <tr>\n",
       "      <th>1</th>\n",
       "      <td>2017-05-30 20:17:33</td>\n",
       "      <td>50.097998</td>\n",
       "      <td>3.84797</td>\n",
       "      <td>-2.27755</td>\n",
       "      <td>0.754623</td>\n",
       "      <td>-0.02371</td>\n",
       "      <td>3.895549</td>\n",
       "      <td>-1.699886</td>\n",
       "      <td>0.000027</td>\n",
       "      <td>-0.023613</td>\n",
       "      <td>0.990953</td>\n",
       "      <td>05-30-17_20.16 0degC_Cycle_2_Pan18650PF_proces...</td>\n",
       "      <td>-8.763944</td>\n",
       "    </tr>\n",
       "    <tr>\n",
       "      <th>2</th>\n",
       "      <td>2017-05-30 20:17:33</td>\n",
       "      <td>50.198993</td>\n",
       "      <td>3.84025</td>\n",
       "      <td>-2.29470</td>\n",
       "      <td>0.754623</td>\n",
       "      <td>-0.02377</td>\n",
       "      <td>3.895338</td>\n",
       "      <td>-1.698867</td>\n",
       "      <td>0.000028</td>\n",
       "      <td>-0.023677</td>\n",
       "      <td>0.990929</td>\n",
       "      <td>05-30-17_20.16 0degC_Cycle_2_Pan18650PF_proces...</td>\n",
       "      <td>-8.812222</td>\n",
       "    </tr>\n",
       "    <tr>\n",
       "      <th>3</th>\n",
       "      <td>2017-05-30 20:17:33</td>\n",
       "      <td>50.296991</td>\n",
       "      <td>3.83575</td>\n",
       "      <td>-2.30205</td>\n",
       "      <td>0.754623</td>\n",
       "      <td>-0.02384</td>\n",
       "      <td>3.895206</td>\n",
       "      <td>-1.697771</td>\n",
       "      <td>0.000027</td>\n",
       "      <td>-0.023740</td>\n",
       "      <td>0.990905</td>\n",
       "      <td>05-30-17_20.16 0degC_Cycle_2_Pan18650PF_proces...</td>\n",
       "      <td>-8.830088</td>\n",
       "    </tr>\n",
       "    <tr>\n",
       "      <th>4</th>\n",
       "      <td>2017-05-30 20:17:33</td>\n",
       "      <td>50.398992</td>\n",
       "      <td>3.83317</td>\n",
       "      <td>-2.30613</td>\n",
       "      <td>0.754623</td>\n",
       "      <td>-0.02390</td>\n",
       "      <td>3.895125</td>\n",
       "      <td>-1.696615</td>\n",
       "      <td>0.000028</td>\n",
       "      <td>-0.023805</td>\n",
       "      <td>0.990880</td>\n",
       "      <td>05-30-17_20.16 0degC_Cycle_2_Pan18650PF_proces...</td>\n",
       "      <td>-8.839788</td>\n",
       "    </tr>\n",
       "    <tr>\n",
       "      <th>...</th>\n",
       "      <td>...</td>\n",
       "      <td>...</td>\n",
       "      <td>...</td>\n",
       "      <td>...</td>\n",
       "      <td>...</td>\n",
       "      <td>...</td>\n",
       "      <td>...</td>\n",
       "      <td>...</td>\n",
       "      <td>...</td>\n",
       "      <td>...</td>\n",
       "      <td>...</td>\n",
       "      <td>...</td>\n",
       "      <td>...</td>\n",
       "    </tr>\n",
       "    <tr>\n",
       "      <th>3728549</th>\n",
       "      <td>2017-06-11 23:47:32</td>\n",
       "      <td>12279.470994</td>\n",
       "      <td>3.44601</td>\n",
       "      <td>0.00000</td>\n",
       "      <td>-6.768772</td>\n",
       "      <td>-2.03006</td>\n",
       "      <td>3.443864</td>\n",
       "      <td>0.000000</td>\n",
       "      <td>0.000027</td>\n",
       "      <td>-2.030721</td>\n",
       "      <td>0.000008</td>\n",
       "      <td>06-07-17_08.39 n10degC_HWFET_Pan18650PF_proces...</td>\n",
       "      <td>0.000000</td>\n",
       "    </tr>\n",
       "    <tr>\n",
       "      <th>3728550</th>\n",
       "      <td>2017-06-11 23:47:33</td>\n",
       "      <td>12279.570993</td>\n",
       "      <td>3.44601</td>\n",
       "      <td>0.00000</td>\n",
       "      <td>-6.768772</td>\n",
       "      <td>-2.03006</td>\n",
       "      <td>3.443873</td>\n",
       "      <td>0.000000</td>\n",
       "      <td>0.000028</td>\n",
       "      <td>-2.030721</td>\n",
       "      <td>0.000008</td>\n",
       "      <td>06-07-17_08.39 n10degC_HWFET_Pan18650PF_proces...</td>\n",
       "      <td>0.000000</td>\n",
       "    </tr>\n",
       "    <tr>\n",
       "      <th>3728551</th>\n",
       "      <td>2017-06-11 23:47:33</td>\n",
       "      <td>12279.669997</td>\n",
       "      <td>3.44601</td>\n",
       "      <td>0.00000</td>\n",
       "      <td>-6.768772</td>\n",
       "      <td>-2.03006</td>\n",
       "      <td>3.443882</td>\n",
       "      <td>0.000000</td>\n",
       "      <td>0.000028</td>\n",
       "      <td>-2.030721</td>\n",
       "      <td>0.000008</td>\n",
       "      <td>06-07-17_08.39 n10degC_HWFET_Pan18650PF_proces...</td>\n",
       "      <td>0.000000</td>\n",
       "    </tr>\n",
       "    <tr>\n",
       "      <th>3728552</th>\n",
       "      <td>2017-06-11 23:47:33</td>\n",
       "      <td>12279.771998</td>\n",
       "      <td>3.44601</td>\n",
       "      <td>0.00000</td>\n",
       "      <td>-6.768772</td>\n",
       "      <td>-2.03006</td>\n",
       "      <td>3.443891</td>\n",
       "      <td>0.000000</td>\n",
       "      <td>0.000028</td>\n",
       "      <td>-2.030721</td>\n",
       "      <td>0.000008</td>\n",
       "      <td>06-07-17_08.39 n10degC_HWFET_Pan18650PF_proces...</td>\n",
       "      <td>0.000000</td>\n",
       "    </tr>\n",
       "    <tr>\n",
       "      <th>3728553</th>\n",
       "      <td>2017-06-11 23:47:33</td>\n",
       "      <td>12279.869000</td>\n",
       "      <td>3.44601</td>\n",
       "      <td>0.00000</td>\n",
       "      <td>-6.768772</td>\n",
       "      <td>-2.03006</td>\n",
       "      <td>3.443900</td>\n",
       "      <td>0.000000</td>\n",
       "      <td>0.000027</td>\n",
       "      <td>-2.030721</td>\n",
       "      <td>0.000008</td>\n",
       "      <td>06-07-17_08.39 n10degC_HWFET_Pan18650PF_proces...</td>\n",
       "      <td>0.000000</td>\n",
       "    </tr>\n",
       "  </tbody>\n",
       "</table>\n",
       "<p>3728554 rows × 13 columns</p>\n",
       "</div>"
      ],
      "text/plain": [
       "                   Timestamp      Time [s]  Voltage [V]  Current [A]  \\\n",
       "0        2017-05-30 20:17:33     50.000000      3.86277     -2.23754   \n",
       "1        2017-05-30 20:17:33     50.097998      3.84797     -2.27755   \n",
       "2        2017-05-30 20:17:33     50.198993      3.84025     -2.29470   \n",
       "3        2017-05-30 20:17:33     50.296991      3.83575     -2.30205   \n",
       "4        2017-05-30 20:17:33     50.398992      3.83317     -2.30613   \n",
       "...                      ...           ...          ...          ...   \n",
       "3728549  2017-06-11 23:47:32  12279.470994      3.44601      0.00000   \n",
       "3728550  2017-06-11 23:47:33  12279.570993      3.44601      0.00000   \n",
       "3728551  2017-06-11 23:47:33  12279.669997      3.44601      0.00000   \n",
       "3728552  2017-06-11 23:47:33  12279.771998      3.44601      0.00000   \n",
       "3728553  2017-06-11 23:47:33  12279.869000      3.44601      0.00000   \n",
       "\n",
       "         Temperature [degC]  Capacity [Ah]  Voltage Average  Current Average  \\\n",
       "0                  0.754623       -0.02364         3.895890        -1.700817   \n",
       "1                  0.754623       -0.02371         3.895549        -1.699886   \n",
       "2                  0.754623       -0.02377         3.895338        -1.698867   \n",
       "3                  0.754623       -0.02384         3.895206        -1.697771   \n",
       "4                  0.754623       -0.02390         3.895125        -1.696615   \n",
       "...                     ...            ...              ...              ...   \n",
       "3728549           -6.768772       -2.03006         3.443864         0.000000   \n",
       "3728550           -6.768772       -2.03006         3.443873         0.000000   \n",
       "3728551           -6.768772       -2.03006         3.443882         0.000000   \n",
       "3728552           -6.768772       -2.03006         3.443891         0.000000   \n",
       "3728553           -6.768772       -2.03006         3.443900         0.000000   \n",
       "\n",
       "         Time_diff  Cumulative_Capacity_Ah   SOC [-]  \\\n",
       "0         0.000029               -0.023551  0.990977   \n",
       "1         0.000027               -0.023613  0.990953   \n",
       "2         0.000028               -0.023677  0.990929   \n",
       "3         0.000027               -0.023740  0.990905   \n",
       "4         0.000028               -0.023805  0.990880   \n",
       "...            ...                     ...       ...   \n",
       "3728549   0.000027               -2.030721  0.000008   \n",
       "3728550   0.000028               -2.030721  0.000008   \n",
       "3728551   0.000028               -2.030721  0.000008   \n",
       "3728552   0.000028               -2.030721  0.000008   \n",
       "3728553   0.000027               -2.030721  0.000008   \n",
       "\n",
       "                                                SourceFile  Power [W]  \n",
       "0        05-30-17_20.16 0degC_Cycle_2_Pan18650PF_proces...  -8.643102  \n",
       "1        05-30-17_20.16 0degC_Cycle_2_Pan18650PF_proces...  -8.763944  \n",
       "2        05-30-17_20.16 0degC_Cycle_2_Pan18650PF_proces...  -8.812222  \n",
       "3        05-30-17_20.16 0degC_Cycle_2_Pan18650PF_proces...  -8.830088  \n",
       "4        05-30-17_20.16 0degC_Cycle_2_Pan18650PF_proces...  -8.839788  \n",
       "...                                                    ...        ...  \n",
       "3728549  06-07-17_08.39 n10degC_HWFET_Pan18650PF_proces...   0.000000  \n",
       "3728550  06-07-17_08.39 n10degC_HWFET_Pan18650PF_proces...   0.000000  \n",
       "3728551  06-07-17_08.39 n10degC_HWFET_Pan18650PF_proces...   0.000000  \n",
       "3728552  06-07-17_08.39 n10degC_HWFET_Pan18650PF_proces...   0.000000  \n",
       "3728553  06-07-17_08.39 n10degC_HWFET_Pan18650PF_proces...   0.000000  \n",
       "\n",
       "[3728554 rows x 13 columns]"
      ]
     },
     "execution_count": 8,
     "metadata": {},
     "output_type": "execute_result"
    }
   ],
   "source": [
    "data = load_data(PROCESSED_DATA_DIR, temperatures_to_process)\n",
    "data"
   ]
  },
  {
   "cell_type": "code",
   "execution_count": 9,
   "metadata": {},
   "outputs": [
    {
     "data": {
      "text/html": [
       "<div>\n",
       "<style scoped>\n",
       "    .dataframe tbody tr th:only-of-type {\n",
       "        vertical-align: middle;\n",
       "    }\n",
       "\n",
       "    .dataframe tbody tr th {\n",
       "        vertical-align: top;\n",
       "    }\n",
       "\n",
       "    .dataframe thead th {\n",
       "        text-align: right;\n",
       "    }\n",
       "</style>\n",
       "<table border=\"1\" class=\"dataframe\">\n",
       "  <thead>\n",
       "    <tr style=\"text-align: right;\">\n",
       "      <th></th>\n",
       "      <th>Timestamp</th>\n",
       "      <th>Time [s]</th>\n",
       "      <th>Voltage [V]</th>\n",
       "      <th>Current [A]</th>\n",
       "      <th>Temperature [degC]</th>\n",
       "      <th>Capacity [Ah]</th>\n",
       "      <th>Voltage Average</th>\n",
       "      <th>Current Average</th>\n",
       "      <th>Time_diff</th>\n",
       "      <th>Cumulative_Capacity_Ah</th>\n",
       "      <th>SOC [-]</th>\n",
       "      <th>SourceFile</th>\n",
       "      <th>Power [W]</th>\n",
       "    </tr>\n",
       "  </thead>\n",
       "  <tbody>\n",
       "    <tr>\n",
       "      <th>0</th>\n",
       "      <td>2017-05-30 20:17:33</td>\n",
       "      <td>50.000000</td>\n",
       "      <td>0.931910</td>\n",
       "      <td>-0.676143</td>\n",
       "      <td>-0.584791</td>\n",
       "      <td>-0.02364</td>\n",
       "      <td>1.115569</td>\n",
       "      <td>-0.767103</td>\n",
       "      <td>0.000029</td>\n",
       "      <td>1.639173</td>\n",
       "      <td>0.990977</td>\n",
       "      <td>05-30-17_20.16 0degC_Cycle_2_Pan18650PF_proces...</td>\n",
       "      <td>-0.846257</td>\n",
       "    </tr>\n",
       "    <tr>\n",
       "      <th>1</th>\n",
       "      <td>2017-05-30 20:17:33</td>\n",
       "      <td>50.097998</td>\n",
       "      <td>0.879678</td>\n",
       "      <td>-0.697879</td>\n",
       "      <td>-0.584791</td>\n",
       "      <td>-0.02371</td>\n",
       "      <td>1.114281</td>\n",
       "      <td>-0.766090</td>\n",
       "      <td>0.000027</td>\n",
       "      <td>1.639086</td>\n",
       "      <td>0.990953</td>\n",
       "      <td>05-30-17_20.16 0degC_Cycle_2_Pan18650PF_proces...</td>\n",
       "      <td>-0.865605</td>\n",
       "    </tr>\n",
       "    <tr>\n",
       "      <th>2</th>\n",
       "      <td>2017-05-30 20:17:33</td>\n",
       "      <td>50.198993</td>\n",
       "      <td>0.852433</td>\n",
       "      <td>-0.707195</td>\n",
       "      <td>-0.584791</td>\n",
       "      <td>-0.02377</td>\n",
       "      <td>1.113484</td>\n",
       "      <td>-0.764981</td>\n",
       "      <td>0.000028</td>\n",
       "      <td>1.638996</td>\n",
       "      <td>0.990929</td>\n",
       "      <td>05-30-17_20.16 0degC_Cycle_2_Pan18650PF_proces...</td>\n",
       "      <td>-0.873334</td>\n",
       "    </tr>\n",
       "    <tr>\n",
       "      <th>3</th>\n",
       "      <td>2017-05-30 20:17:33</td>\n",
       "      <td>50.296991</td>\n",
       "      <td>0.836552</td>\n",
       "      <td>-0.711188</td>\n",
       "      <td>-0.584791</td>\n",
       "      <td>-0.02384</td>\n",
       "      <td>1.112984</td>\n",
       "      <td>-0.763788</td>\n",
       "      <td>0.000027</td>\n",
       "      <td>1.638908</td>\n",
       "      <td>0.990905</td>\n",
       "      <td>05-30-17_20.16 0degC_Cycle_2_Pan18650PF_proces...</td>\n",
       "      <td>-0.876195</td>\n",
       "    </tr>\n",
       "    <tr>\n",
       "      <th>4</th>\n",
       "      <td>2017-05-30 20:17:33</td>\n",
       "      <td>50.398992</td>\n",
       "      <td>0.827447</td>\n",
       "      <td>-0.713405</td>\n",
       "      <td>-0.584791</td>\n",
       "      <td>-0.02390</td>\n",
       "      <td>1.112678</td>\n",
       "      <td>-0.762530</td>\n",
       "      <td>0.000028</td>\n",
       "      <td>1.638817</td>\n",
       "      <td>0.990880</td>\n",
       "      <td>05-30-17_20.16 0degC_Cycle_2_Pan18650PF_proces...</td>\n",
       "      <td>-0.877748</td>\n",
       "    </tr>\n",
       "    <tr>\n",
       "      <th>...</th>\n",
       "      <td>...</td>\n",
       "      <td>...</td>\n",
       "      <td>...</td>\n",
       "      <td>...</td>\n",
       "      <td>...</td>\n",
       "      <td>...</td>\n",
       "      <td>...</td>\n",
       "      <td>...</td>\n",
       "      <td>...</td>\n",
       "      <td>...</td>\n",
       "      <td>...</td>\n",
       "      <td>...</td>\n",
       "      <td>...</td>\n",
       "    </tr>\n",
       "    <tr>\n",
       "      <th>3728549</th>\n",
       "      <td>2017-06-11 23:47:32</td>\n",
       "      <td>12279.470994</td>\n",
       "      <td>-0.538902</td>\n",
       "      <td>0.539426</td>\n",
       "      <td>-1.109814</td>\n",
       "      <td>-2.03006</td>\n",
       "      <td>-0.591612</td>\n",
       "      <td>1.083927</td>\n",
       "      <td>0.000027</td>\n",
       "      <td>-1.173880</td>\n",
       "      <td>0.000008</td>\n",
       "      <td>06-07-17_08.39 n10degC_HWFET_Pan18650PF_proces...</td>\n",
       "      <td>0.537575</td>\n",
       "    </tr>\n",
       "    <tr>\n",
       "      <th>3728550</th>\n",
       "      <td>2017-06-11 23:47:33</td>\n",
       "      <td>12279.570993</td>\n",
       "      <td>-0.538902</td>\n",
       "      <td>0.539426</td>\n",
       "      <td>-1.109814</td>\n",
       "      <td>-2.03006</td>\n",
       "      <td>-0.591578</td>\n",
       "      <td>1.083927</td>\n",
       "      <td>0.000028</td>\n",
       "      <td>-1.173880</td>\n",
       "      <td>0.000008</td>\n",
       "      <td>06-07-17_08.39 n10degC_HWFET_Pan18650PF_proces...</td>\n",
       "      <td>0.537575</td>\n",
       "    </tr>\n",
       "    <tr>\n",
       "      <th>3728551</th>\n",
       "      <td>2017-06-11 23:47:33</td>\n",
       "      <td>12279.669997</td>\n",
       "      <td>-0.538902</td>\n",
       "      <td>0.539426</td>\n",
       "      <td>-1.109814</td>\n",
       "      <td>-2.03006</td>\n",
       "      <td>-0.591544</td>\n",
       "      <td>1.083927</td>\n",
       "      <td>0.000028</td>\n",
       "      <td>-1.173880</td>\n",
       "      <td>0.000008</td>\n",
       "      <td>06-07-17_08.39 n10degC_HWFET_Pan18650PF_proces...</td>\n",
       "      <td>0.537575</td>\n",
       "    </tr>\n",
       "    <tr>\n",
       "      <th>3728552</th>\n",
       "      <td>2017-06-11 23:47:33</td>\n",
       "      <td>12279.771998</td>\n",
       "      <td>-0.538902</td>\n",
       "      <td>0.539426</td>\n",
       "      <td>-1.109814</td>\n",
       "      <td>-2.03006</td>\n",
       "      <td>-0.591510</td>\n",
       "      <td>1.083927</td>\n",
       "      <td>0.000028</td>\n",
       "      <td>-1.173880</td>\n",
       "      <td>0.000008</td>\n",
       "      <td>06-07-17_08.39 n10degC_HWFET_Pan18650PF_proces...</td>\n",
       "      <td>0.537575</td>\n",
       "    </tr>\n",
       "    <tr>\n",
       "      <th>3728553</th>\n",
       "      <td>2017-06-11 23:47:33</td>\n",
       "      <td>12279.869000</td>\n",
       "      <td>-0.538902</td>\n",
       "      <td>0.539426</td>\n",
       "      <td>-1.109814</td>\n",
       "      <td>-2.03006</td>\n",
       "      <td>-0.591476</td>\n",
       "      <td>1.083927</td>\n",
       "      <td>0.000027</td>\n",
       "      <td>-1.173880</td>\n",
       "      <td>0.000008</td>\n",
       "      <td>06-07-17_08.39 n10degC_HWFET_Pan18650PF_proces...</td>\n",
       "      <td>0.537575</td>\n",
       "    </tr>\n",
       "  </tbody>\n",
       "</table>\n",
       "<p>3728554 rows × 13 columns</p>\n",
       "</div>"
      ],
      "text/plain": [
       "                   Timestamp      Time [s]  Voltage [V]  Current [A]  \\\n",
       "0        2017-05-30 20:17:33     50.000000     0.931910    -0.676143   \n",
       "1        2017-05-30 20:17:33     50.097998     0.879678    -0.697879   \n",
       "2        2017-05-30 20:17:33     50.198993     0.852433    -0.707195   \n",
       "3        2017-05-30 20:17:33     50.296991     0.836552    -0.711188   \n",
       "4        2017-05-30 20:17:33     50.398992     0.827447    -0.713405   \n",
       "...                      ...           ...          ...          ...   \n",
       "3728549  2017-06-11 23:47:32  12279.470994    -0.538902     0.539426   \n",
       "3728550  2017-06-11 23:47:33  12279.570993    -0.538902     0.539426   \n",
       "3728551  2017-06-11 23:47:33  12279.669997    -0.538902     0.539426   \n",
       "3728552  2017-06-11 23:47:33  12279.771998    -0.538902     0.539426   \n",
       "3728553  2017-06-11 23:47:33  12279.869000    -0.538902     0.539426   \n",
       "\n",
       "         Temperature [degC]  Capacity [Ah]  Voltage Average  Current Average  \\\n",
       "0                 -0.584791       -0.02364         1.115569        -0.767103   \n",
       "1                 -0.584791       -0.02371         1.114281        -0.766090   \n",
       "2                 -0.584791       -0.02377         1.113484        -0.764981   \n",
       "3                 -0.584791       -0.02384         1.112984        -0.763788   \n",
       "4                 -0.584791       -0.02390         1.112678        -0.762530   \n",
       "...                     ...            ...              ...              ...   \n",
       "3728549           -1.109814       -2.03006        -0.591612         1.083927   \n",
       "3728550           -1.109814       -2.03006        -0.591578         1.083927   \n",
       "3728551           -1.109814       -2.03006        -0.591544         1.083927   \n",
       "3728552           -1.109814       -2.03006        -0.591510         1.083927   \n",
       "3728553           -1.109814       -2.03006        -0.591476         1.083927   \n",
       "\n",
       "         Time_diff  Cumulative_Capacity_Ah   SOC [-]  \\\n",
       "0         0.000029                1.639173  0.990977   \n",
       "1         0.000027                1.639086  0.990953   \n",
       "2         0.000028                1.638996  0.990929   \n",
       "3         0.000027                1.638908  0.990905   \n",
       "4         0.000028                1.638817  0.990880   \n",
       "...            ...                     ...       ...   \n",
       "3728549   0.000027               -1.173880  0.000008   \n",
       "3728550   0.000028               -1.173880  0.000008   \n",
       "3728551   0.000028               -1.173880  0.000008   \n",
       "3728552   0.000028               -1.173880  0.000008   \n",
       "3728553   0.000027               -1.173880  0.000008   \n",
       "\n",
       "                                                SourceFile  Power [W]  \n",
       "0        05-30-17_20.16 0degC_Cycle_2_Pan18650PF_proces...  -0.846257  \n",
       "1        05-30-17_20.16 0degC_Cycle_2_Pan18650PF_proces...  -0.865605  \n",
       "2        05-30-17_20.16 0degC_Cycle_2_Pan18650PF_proces...  -0.873334  \n",
       "3        05-30-17_20.16 0degC_Cycle_2_Pan18650PF_proces...  -0.876195  \n",
       "4        05-30-17_20.16 0degC_Cycle_2_Pan18650PF_proces...  -0.877748  \n",
       "...                                                    ...        ...  \n",
       "3728549  06-07-17_08.39 n10degC_HWFET_Pan18650PF_proces...   0.537575  \n",
       "3728550  06-07-17_08.39 n10degC_HWFET_Pan18650PF_proces...   0.537575  \n",
       "3728551  06-07-17_08.39 n10degC_HWFET_Pan18650PF_proces...   0.537575  \n",
       "3728552  06-07-17_08.39 n10degC_HWFET_Pan18650PF_proces...   0.537575  \n",
       "3728553  06-07-17_08.39 n10degC_HWFET_Pan18650PF_proces...   0.537575  \n",
       "\n",
       "[3728554 rows x 13 columns]"
      ]
     },
     "execution_count": 9,
     "metadata": {},
     "output_type": "execute_result"
    }
   ],
   "source": [
    "scaler = StandardScaler()\n",
    "data[FEATURE_COLS] = scaler.fit_transform(data[FEATURE_COLS])\n",
    "data"
   ]
  },
  {
   "cell_type": "code",
   "execution_count": 10,
   "metadata": {},
   "outputs": [],
   "source": [
    "unique_files = np.array(list(set(data['SourceFile'])))\n",
    "train_files, temp_files = train_test_split(unique_files, test_size=0.2, random_state=52)\n",
    "val_files, test_files = train_test_split(temp_files, test_size=0.5, random_state=52)"
   ]
  },
  {
   "cell_type": "code",
   "execution_count": 11,
   "metadata": {},
   "outputs": [],
   "source": [
    "def filter_data_by_filenames(df, filenames):\n",
    "    return df[df['SourceFile'].isin(filenames)]\n",
    "\n",
    "# Filter data for each set\n",
    "train_data = filter_data_by_filenames(data, train_files)\n",
    "val_data = filter_data_by_filenames(data, val_files)\n",
    "test_data = filter_data_by_filenames(data, test_files)"
   ]
  },
  {
   "cell_type": "code",
   "execution_count": 12,
   "metadata": {},
   "outputs": [],
   "source": [
    "# Convert to tensors\n",
    "train_tensor = torch.tensor(train_data[FEATURE_COLS].values, dtype=torch.float32).to(device)\n",
    "train_labels = torch.tensor(train_data[LABEL_COL].values, dtype=torch.float32).to(device)\n",
    "\n",
    "val_tensor = torch.tensor(val_data[FEATURE_COLS].values, dtype=torch.float32).to(device)\n",
    "val_labels = torch.tensor(val_data[LABEL_COL].values, dtype=torch.float32).to(device)\n",
    "\n",
    "test_tensor = torch.tensor(test_data[FEATURE_COLS].values, dtype=torch.float32).to(device)\n",
    "test_labels = torch.tensor(test_data[LABEL_COL].values, dtype=torch.float32).to(device)"
   ]
  },
  {
   "cell_type": "code",
   "execution_count": 13,
   "metadata": {},
   "outputs": [],
   "source": [
    "# Convert filtered data to tensors and create dataset instances\n",
    "train_dataset = BatteryDatasetDNN(\n",
    "    torch.tensor(train_data[FEATURE_COLS].values, dtype=torch.float32).to(device),\n",
    "    torch.tensor(train_data[LABEL_COL].values, dtype=torch.float32).to(device),\n",
    "    train_data['SourceFile'].values,\n",
    "    train_data['Time [s]'].values  \n",
    ")\n",
    "\n",
    "val_dataset = BatteryDatasetDNN(\n",
    "    torch.tensor(val_data[FEATURE_COLS].values, dtype=torch.float32).to(device),\n",
    "    torch.tensor(val_data[LABEL_COL].values, dtype=torch.float32).to(device),\n",
    "    val_data['SourceFile'].values,\n",
    "    val_data['Time [s]'].values  \n",
    ")\n",
    "\n",
    "test_dataset = BatteryDatasetDNN(\n",
    "    torch.tensor(test_data[FEATURE_COLS].values, dtype=torch.float32).to(device),\n",
    "    torch.tensor(test_data[LABEL_COL].values, dtype=torch.float32).to(device),\n",
    "    test_data['SourceFile'].values,\n",
    "    test_data['Time [s]'].values  \n",
    ")"
   ]
  },
  {
   "cell_type": "code",
   "execution_count": 14,
   "metadata": {},
   "outputs": [],
   "source": [
    "# Create data loaders\n",
    "train_loader = DataLoader(train_dataset, batch_size=BATCH_SIZE, shuffle=True) \n",
    "val_loader = DataLoader(val_dataset, batch_size=BATCH_SIZE, shuffle=False)\n",
    "test_loader = DataLoader(test_dataset, batch_size=BATCH_SIZE, shuffle=False)"
   ]
  },
  {
   "cell_type": "code",
   "execution_count": 15,
   "metadata": {},
   "outputs": [
    {
     "name": "stdout",
     "output_type": "stream",
     "text": [
      "Training files: {'05-30-17_12.56 0degC_Cycle_1_Pan18650PF_processed.csv', '05-30-17_20.16 0degC_Cycle_2_Pan18650PF_processed.csv', '06-14-17_13.12 n10degC_NN_Pan18650PF_processed.csv', '04-05-17_22.50 10degC_Cycle_4_Pan18650PF_processed.csv', '03-27-17_09.06 10degC_US06_Pan18650PF_processed.csv', '03-19-17_03.25 25degC_Cycle_2_Pan18650PF_processed.csv', '06-24-17_11.58 n20degC_Cycle_2_Pan18650PF_processed.csv', '04-05-17_17.04 10degC_Cycle_3_Pan18650PF_processed.csv', '06-07-17_08.39 n10degC_US06_Pan18650PF_processed.csv', '03-28-17_18.18 10degC_Cycle_2_Pan18650PF_processed.csv', '03-27-17_09.06 10degC_UDDS_Pan18650PF_processed.csv', '03-20-17_19.27 25degC_HWFTb_Pan18650PF_processed.csv', '03-21-17_00.29 25degC_UDDS_Pan18650PF_processed.csv', '03-21-17_16.27 25degC_NN_Pan18650PF_processed.csv', '03-20-17_05.56 25degC_HWFTa_Pan18650PF_processed.csv', '06-24-17_04.29 n20degC_Cycle_1_Pan18650PF_processed.csv', '03-27-17_09.06 10degC_NN_Pan18650PF_processed.csv', '06-23-17_23.35 n20degC_UDDS_Pan18650PF_processed.csv', '06-07-17_08.39 n10degC_UDDS_Pan18650PF_processed.csv', '06-07-17_08.39 n10degC_HWFET_Pan18650PF_processed.csv', '06-10-17_18.35 n10degC_Cycle_2_Pan18650PF_processed.csv', '06-25-17_03.01 n20degC_Cycle_4_Pan18650PF_processed.csv', '06-10-17_11.25 n10degC_Cycle_1_Pan18650PF_processed.csv', '06-11-17_01.39 n10degC_Cycle_3_Pan18650PF_processed.csv', '06-07-17_08.39 n10degC_LA92_Pan18650PF_processed.csv', '03-18-17_02.17 25degC_Cycle_1_Pan18650PF_processed.csv', '03-19-17_09.07 25degC_Cycle_3_Pan18650PF_processed.csv', '03-20-17_01.43 25degC_US06_Pan18650PF_processed.csv', '06-01-17_15.36 0degC_Cycle_3_Pan18650PF_processed.csv', '03-27-17_09.06 10degC_HWFET_Pan18650PF_processed.csv', '06-02-17_04.58 0degC_US06_Pan18650PF_processed.csv', '06-01-17_10.36 0degC_NN_Pan18650PF_processed.csv', '06-23-17_23.35 n20degC_NN_Pan18650PF_processed.csv', '06-11-17_08.42 n10degC_Cycle_4_Pan18650PF_processed.csv', '06-23-17_23.35 n20degC_HWFET_Pan18650PF_processed.csv', '06-01-17_10.36 0degC_LA92_Pan18650PF_processed.csv'}\n",
      "\n",
      "Validation files: {'03-27-17_09.06 10degC_LA92_Pan18650PF_processed.csv', '06-01-17_22.03 0degC_Cycle_4_Pan18650PF_processed.csv', '03-19-17_14.31 25degC_Cycle_4_Pan18650PF_processed.csv', '06-02-17_17.14 0degC_UDDS_Pan18650PF_processed.csv', '06-25-17_10.31 n20degC_US06_Pan18650PF_processed.csv'}\n",
      "\n",
      "Testing files: {'06-02-17_10.43 0degC_HWFET_Pan18650PF_processed.csv', '06-24-17_19.29 n20degC_Cycle_3_Pan18650PF_processed.csv', '03-21-17_09.38 25degC_LA92_Pan18650PF_processed.csv', '03-28-17_12.51 10degC_Cycle_1_Pan18650PF_processed.csv', '06-23-17_23.35 n20degC_LA92_Pan18650PF_processed.csv'}\n"
     ]
    }
   ],
   "source": [
    "# Print file names used in training, validation, and testing\n",
    "train_files = train_dataset.get_unique_filenames()\n",
    "val_files = val_dataset.get_unique_filenames()\n",
    "test_files = test_dataset.get_unique_filenames()\n",
    "\n",
    "train_files_sorted = sorted(train_files)\n",
    "val_files_sorted = sorted(val_files)\n",
    "test_files_sorted = sorted(test_files)\n",
    "\n",
    "print(\"Training files:\", train_files)\n",
    "print(\"\\nValidation files:\", val_files)\n",
    "print(\"\\nTesting files:\", test_files)"
   ]
  },
  {
   "cell_type": "code",
   "execution_count": 16,
   "metadata": {},
   "outputs": [
    {
     "name": "stdout",
     "output_type": "stream",
     "text": [
      "Train features shape: torch.Size([2852794, 7])\n",
      "Test features shape: torch.Size([399315, 7])\n",
      "Train labels shape: torch.Size([2852794])\n",
      "Test labels shape: torch.Size([399315])\n"
     ]
    }
   ],
   "source": [
    "print(\"Train features shape:\", train_tensor.shape)\n",
    "print(\"Test features shape:\", test_tensor .shape)\n",
    "print(\"Train labels shape:\", train_labels.shape)\n",
    "print(\"Test labels shape:\", test_labels.shape)"
   ]
  },
  {
   "cell_type": "markdown",
   "metadata": {},
   "source": [
    "## Hyperparameter tuning"
   ]
  },
  {
   "cell_type": "code",
   "execution_count": 25,
   "metadata": {},
   "outputs": [],
   "source": [
    "EPOCHS = 10\n",
    "def objective(trial):\n",
    "    # Hyperparameters to tune\n",
    "    learning_rate = trial.suggest_float('learning_rate', 1e-5, 1e-1, log=True)\n",
    "    hidden_size = trial.suggest_categorical('hidden_size', [16, 32, 64, 128, 256, 512, 1024])\n",
    "    num_layers = trial.suggest_int('num_layers', 1, 6)\n",
    "    dropout_rate = trial.suggest_float('dropout_rate', 0.1, 0.7)\n",
    "\n",
    "    # Model, criterion, optimizer\n",
    "    model = SoCDNN(input_size=len(FEATURE_COLS), hidden_size=hidden_size, num_layers=num_layers, dropout=dropout_rate).to(device)\n",
    "    optimizer = optim.Adam(model.parameters(), lr=learning_rate, weight_decay=0.01)\n",
    "    criterion = nn.MSELoss()\n",
    "\n",
    "    # Train and validate the model\n",
    "    history = train_and_validate(model, criterion, optimizer, train_loader, val_loader, EPOCHS, device)\n",
    "\n",
    "    # Minimize the last validation loss\n",
    "    return history['val_loss'][-1]"
   ]
  },
  {
   "cell_type": "code",
   "execution_count": 26,
   "metadata": {},
   "outputs": [
    {
     "name": "stderr",
     "output_type": "stream",
     "text": [
      "[I 2025-08-03 13:38:33,540] A new study created in memory with name: no-name-a943840c-359a-48e0-8e29-09eb590b3e60\n",
      "Epoch: 0/10: 100%|██████████| 2786/2786 [00:19<00:00, 143.54it/s]\n"
     ]
    },
    {
     "name": "stdout",
     "output_type": "stream",
     "text": [
      "Epoch 1/10, Train Loss: 0.6237713967350346, Validation Loss: 0.33827068715839936\n",
      "Time taken for epoch: 19.41223288 seconds\n"
     ]
    },
    {
     "name": "stderr",
     "output_type": "stream",
     "text": [
      "Epoch: 1/10: 100%|██████████| 2786/2786 [00:19<00:00, 140.87it/s]\n"
     ]
    },
    {
     "name": "stdout",
     "output_type": "stream",
     "text": [
      "Epoch 2/10, Train Loss: 0.2565958802959342, Validation Loss: 0.11644250511335681\n",
      "Time taken for epoch: 19.77898908 seconds\n"
     ]
    },
    {
     "name": "stderr",
     "output_type": "stream",
     "text": [
      "Epoch: 2/10: 100%|██████████| 2786/2786 [00:20<00:00, 138.12it/s]\n"
     ]
    },
    {
     "name": "stdout",
     "output_type": "stream",
     "text": [
      "Epoch 3/10, Train Loss: 0.11457542106990581, Validation Loss: 0.034115186072999036\n",
      "Time taken for epoch: 20.17267609 seconds\n"
     ]
    },
    {
     "name": "stderr",
     "output_type": "stream",
     "text": [
      "Epoch: 3/10: 100%|██████████| 2786/2786 [00:21<00:00, 132.60it/s]\n"
     ]
    },
    {
     "name": "stdout",
     "output_type": "stream",
     "text": [
      "Epoch 4/10, Train Loss: 0.0720845404664711, Validation Loss: 0.018227439819469893\n",
      "Time taken for epoch: 21.01295400 seconds\n"
     ]
    },
    {
     "name": "stderr",
     "output_type": "stream",
     "text": [
      "Epoch: 4/10: 100%|██████████| 2786/2786 [00:22<00:00, 124.36it/s]\n"
     ]
    },
    {
     "name": "stdout",
     "output_type": "stream",
     "text": [
      "Epoch 5/10, Train Loss: 0.05105737047851599, Validation Loss: 0.011757697782987075\n",
      "Time taken for epoch: 22.40523911 seconds\n"
     ]
    },
    {
     "name": "stderr",
     "output_type": "stream",
     "text": [
      "Epoch: 5/10: 100%|██████████| 2786/2786 [00:20<00:00, 136.23it/s]\n"
     ]
    },
    {
     "name": "stdout",
     "output_type": "stream",
     "text": [
      "Epoch 6/10, Train Loss: 0.03699251038623387, Validation Loss: 0.008609310729665079\n",
      "Time taken for epoch: 20.45334411 seconds\n"
     ]
    },
    {
     "name": "stderr",
     "output_type": "stream",
     "text": [
      "Epoch: 6/10: 100%|██████████| 2786/2786 [00:21<00:00, 129.84it/s]\n"
     ]
    },
    {
     "name": "stdout",
     "output_type": "stream",
     "text": [
      "Epoch 7/10, Train Loss: 0.0279627588550157, Validation Loss: 0.006371999794977408\n",
      "Time taken for epoch: 21.45899892 seconds\n"
     ]
    },
    {
     "name": "stderr",
     "output_type": "stream",
     "text": [
      "Epoch: 7/10: 100%|██████████| 2786/2786 [00:23<00:00, 119.67it/s]\n"
     ]
    },
    {
     "name": "stdout",
     "output_type": "stream",
     "text": [
      "Epoch 8/10, Train Loss: 0.021978259949068414, Validation Loss: 0.005876195040986001\n",
      "Time taken for epoch: 23.28181100 seconds\n"
     ]
    },
    {
     "name": "stderr",
     "output_type": "stream",
     "text": [
      "Epoch: 8/10: 100%|██████████| 2786/2786 [00:27<00:00, 99.81it/s] \n"
     ]
    },
    {
     "name": "stdout",
     "output_type": "stream",
     "text": [
      "Epoch 9/10, Train Loss: 0.01757451349452181, Validation Loss: 0.0040536811628194514\n",
      "Time taken for epoch: 27.91478801 seconds\n"
     ]
    },
    {
     "name": "stderr",
     "output_type": "stream",
     "text": [
      "Epoch: 9/10: 100%|██████████| 2786/2786 [00:25<00:00, 111.39it/s]\n",
      "[I 2025-08-03 13:42:40,714] Trial 0 finished with value: 0.003568603848156498 and parameters: {'learning_rate': 1.3416942407936477e-05, 'hidden_size': 32, 'num_layers': 2, 'dropout_rate': 0.2973632129319774}. Best is trial 0 with value: 0.003568603848156498.\n"
     ]
    },
    {
     "name": "stdout",
     "output_type": "stream",
     "text": [
      "Epoch 10/10, Train Loss: 0.01444418958975945, Validation Loss: 0.003568603848156498\n",
      "Time taken for epoch: 25.01253581 seconds\n"
     ]
    },
    {
     "name": "stderr",
     "output_type": "stream",
     "text": [
      "Epoch: 0/10: 100%|██████████| 2786/2786 [00:27<00:00, 102.41it/s]\n"
     ]
    },
    {
     "name": "stdout",
     "output_type": "stream",
     "text": [
      "Epoch 1/10, Train Loss: 0.18413241862667737, Validation Loss: 0.020343907963626423\n",
      "Time taken for epoch: 27.20679402 seconds\n"
     ]
    },
    {
     "name": "stderr",
     "output_type": "stream",
     "text": [
      "Epoch: 1/10: 100%|██████████| 2786/2786 [00:25<00:00, 111.12it/s]\n"
     ]
    },
    {
     "name": "stdout",
     "output_type": "stream",
     "text": [
      "Epoch 2/10, Train Loss: 0.04598825452789097, Validation Loss: 0.0053967546540224535\n",
      "Time taken for epoch: 25.07379675 seconds\n"
     ]
    },
    {
     "name": "stderr",
     "output_type": "stream",
     "text": [
      "Epoch: 2/10: 100%|██████████| 2786/2786 [00:25<00:00, 108.42it/s]\n"
     ]
    },
    {
     "name": "stdout",
     "output_type": "stream",
     "text": [
      "Epoch 3/10, Train Loss: 0.025864958775156877, Validation Loss: 0.0029053627210386137\n",
      "Time taken for epoch: 25.69847298 seconds\n"
     ]
    },
    {
     "name": "stderr",
     "output_type": "stream",
     "text": [
      "Epoch: 3/10: 100%|██████████| 2786/2786 [00:25<00:00, 107.69it/s]\n"
     ]
    },
    {
     "name": "stdout",
     "output_type": "stream",
     "text": [
      "Epoch 4/10, Train Loss: 0.015090570999717251, Validation Loss: 0.0022289900260405613\n",
      "Time taken for epoch: 25.87241602 seconds\n"
     ]
    },
    {
     "name": "stderr",
     "output_type": "stream",
     "text": [
      "Epoch: 4/10: 100%|██████████| 2786/2786 [00:25<00:00, 107.90it/s]\n"
     ]
    },
    {
     "name": "stdout",
     "output_type": "stream",
     "text": [
      "Epoch 5/10, Train Loss: 0.00947847888535537, Validation Loss: 0.0017242388833630846\n",
      "Time taken for epoch: 25.82149816 seconds\n"
     ]
    },
    {
     "name": "stderr",
     "output_type": "stream",
     "text": [
      "Epoch: 5/10: 100%|██████████| 2786/2786 [00:24<00:00, 113.80it/s]\n"
     ]
    },
    {
     "name": "stdout",
     "output_type": "stream",
     "text": [
      "Epoch 6/10, Train Loss: 0.006740743290346814, Validation Loss: 0.0015535358391062337\n",
      "Time taken for epoch: 24.48421907 seconds\n"
     ]
    },
    {
     "name": "stderr",
     "output_type": "stream",
     "text": [
      "Epoch: 6/10: 100%|██████████| 2786/2786 [00:24<00:00, 114.80it/s]\n"
     ]
    },
    {
     "name": "stdout",
     "output_type": "stream",
     "text": [
      "Epoch 7/10, Train Loss: 0.0053410995617904685, Validation Loss: 0.0015478966034009633\n",
      "Time taken for epoch: 24.27063513 seconds\n"
     ]
    },
    {
     "name": "stderr",
     "output_type": "stream",
     "text": [
      "Epoch: 7/10: 100%|██████████| 2786/2786 [00:24<00:00, 114.25it/s]\n"
     ]
    },
    {
     "name": "stdout",
     "output_type": "stream",
     "text": [
      "Epoch 8/10, Train Loss: 0.004594814544443338, Validation Loss: 0.0013646256653908478\n",
      "Time taken for epoch: 24.38743305 seconds\n"
     ]
    },
    {
     "name": "stderr",
     "output_type": "stream",
     "text": [
      "Epoch: 8/10: 100%|██████████| 2786/2786 [00:25<00:00, 108.15it/s]\n"
     ]
    },
    {
     "name": "stdout",
     "output_type": "stream",
     "text": [
      "Epoch 9/10, Train Loss: 0.004058811652132464, Validation Loss: 0.00153532913096499\n",
      "Time taken for epoch: 25.76154089 seconds\n"
     ]
    },
    {
     "name": "stderr",
     "output_type": "stream",
     "text": [
      "Epoch: 9/10: 100%|██████████| 2786/2786 [00:26<00:00, 106.25it/s]\n",
      "[I 2025-08-03 13:47:25,672] Trial 1 finished with value: 0.0014656324740503668 and parameters: {'learning_rate': 1.3038557586671631e-05, 'hidden_size': 64, 'num_layers': 2, 'dropout_rate': 0.19543862613618745}. Best is trial 1 with value: 0.0014656324740503668.\n"
     ]
    },
    {
     "name": "stdout",
     "output_type": "stream",
     "text": [
      "Epoch 10/10, Train Loss: 0.0036592726906252075, Validation Loss: 0.0014656324740503668\n",
      "Time taken for epoch: 26.22355914 seconds\n"
     ]
    },
    {
     "name": "stderr",
     "output_type": "stream",
     "text": [
      "Epoch: 0/10: 100%|██████████| 2786/2786 [00:29<00:00, 93.92it/s] \n"
     ]
    },
    {
     "name": "stdout",
     "output_type": "stream",
     "text": [
      "Epoch 1/10, Train Loss: 0.2194622093911917, Validation Loss: 0.09221593193592428\n",
      "Time taken for epoch: 29.66573906 seconds\n"
     ]
    },
    {
     "name": "stderr",
     "output_type": "stream",
     "text": [
      "Epoch: 1/10: 100%|██████████| 2786/2786 [00:29<00:00, 93.59it/s] \n"
     ]
    },
    {
     "name": "stdout",
     "output_type": "stream",
     "text": [
      "Epoch 2/10, Train Loss: 0.08905245533529924, Validation Loss: 0.06911605833341404\n",
      "Time taken for epoch: 29.76917100 seconds\n"
     ]
    },
    {
     "name": "stderr",
     "output_type": "stream",
     "text": [
      "Epoch: 2/10: 100%|██████████| 2786/2786 [00:29<00:00, 93.79it/s] \n"
     ]
    },
    {
     "name": "stdout",
     "output_type": "stream",
     "text": [
      "Epoch 3/10, Train Loss: 0.07201741347911755, Validation Loss: 0.05359237876490812\n",
      "Time taken for epoch: 29.70704627 seconds\n"
     ]
    },
    {
     "name": "stderr",
     "output_type": "stream",
     "text": [
      "Epoch: 3/10: 100%|██████████| 2786/2786 [00:30<00:00, 92.75it/s] \n"
     ]
    },
    {
     "name": "stdout",
     "output_type": "stream",
     "text": [
      "Epoch 4/10, Train Loss: 0.0659153735878886, Validation Loss: 0.05133349479974065\n",
      "Time taken for epoch: 30.04094076 seconds\n"
     ]
    },
    {
     "name": "stderr",
     "output_type": "stream",
     "text": [
      "Epoch: 4/10: 100%|██████████| 2786/2786 [00:29<00:00, 93.80it/s] \n"
     ]
    },
    {
     "name": "stdout",
     "output_type": "stream",
     "text": [
      "Epoch 5/10, Train Loss: 0.0651837422994513, Validation Loss: 0.0515677499442587\n",
      "Time taken for epoch: 29.70242500 seconds\n"
     ]
    },
    {
     "name": "stderr",
     "output_type": "stream",
     "text": [
      "Epoch: 5/10: 100%|██████████| 2786/2786 [00:29<00:00, 92.97it/s] \n"
     ]
    },
    {
     "name": "stdout",
     "output_type": "stream",
     "text": [
      "Epoch 6/10, Train Loss: 0.06528100228820956, Validation Loss: 0.05153981271439241\n",
      "Time taken for epoch: 29.97047615 seconds\n"
     ]
    },
    {
     "name": "stderr",
     "output_type": "stream",
     "text": [
      "Epoch: 6/10: 100%|██████████| 2786/2786 [00:30<00:00, 92.31it/s] \n"
     ]
    },
    {
     "name": "stdout",
     "output_type": "stream",
     "text": [
      "Epoch 7/10, Train Loss: 0.06536042364949343, Validation Loss: 0.0513277131975441\n",
      "Time taken for epoch: 30.18308115 seconds\n"
     ]
    },
    {
     "name": "stderr",
     "output_type": "stream",
     "text": [
      "Epoch: 7/10: 100%|██████████| 2786/2786 [00:29<00:00, 93.85it/s] \n"
     ]
    },
    {
     "name": "stdout",
     "output_type": "stream",
     "text": [
      "Epoch 8/10, Train Loss: 0.06534125670865552, Validation Loss: 0.051220165409701854\n",
      "Time taken for epoch: 29.68830800 seconds\n"
     ]
    },
    {
     "name": "stderr",
     "output_type": "stream",
     "text": [
      "Epoch: 8/10: 100%|██████████| 2786/2786 [00:32<00:00, 86.78it/s] \n"
     ]
    },
    {
     "name": "stdout",
     "output_type": "stream",
     "text": [
      "Epoch 9/10, Train Loss: 0.06541554252994805, Validation Loss: 0.05161198356227901\n",
      "Time taken for epoch: 32.10744405 seconds\n"
     ]
    },
    {
     "name": "stderr",
     "output_type": "stream",
     "text": [
      "Epoch: 9/10: 100%|██████████| 2786/2786 [00:32<00:00, 85.83it/s] \n",
      "[I 2025-08-03 13:53:01,493] Trial 2 finished with value: 0.05133227559771222 and parameters: {'learning_rate': 0.00011129488503244484, 'hidden_size': 32, 'num_layers': 5, 'dropout_rate': 0.544991772508207}. Best is trial 1 with value: 0.0014656324740503668.\n"
     ]
    },
    {
     "name": "stdout",
     "output_type": "stream",
     "text": [
      "Epoch 10/10, Train Loss: 0.06532864811598228, Validation Loss: 0.05133227559771222\n",
      "Time taken for epoch: 32.46165895 seconds\n"
     ]
    },
    {
     "name": "stderr",
     "output_type": "stream",
     "text": [
      "Epoch: 0/10: 100%|██████████| 2786/2786 [00:27<00:00, 101.68it/s]\n"
     ]
    },
    {
     "name": "stdout",
     "output_type": "stream",
     "text": [
      "Epoch 1/10, Train Loss: 0.009717218037654579, Validation Loss: 0.002816111493494497\n",
      "Time taken for epoch: 27.40116096 seconds\n"
     ]
    },
    {
     "name": "stderr",
     "output_type": "stream",
     "text": [
      "Epoch: 1/10: 100%|██████████| 2786/2786 [00:24<00:00, 112.53it/s]\n"
     ]
    },
    {
     "name": "stdout",
     "output_type": "stream",
     "text": [
      "Epoch 2/10, Train Loss: 0.009009415468993968, Validation Loss: 0.002253434861278963\n",
      "Time taken for epoch: 24.76042104 seconds\n"
     ]
    },
    {
     "name": "stderr",
     "output_type": "stream",
     "text": [
      "Epoch: 2/10: 100%|██████████| 2786/2786 [00:26<00:00, 105.48it/s]\n"
     ]
    },
    {
     "name": "stdout",
     "output_type": "stream",
     "text": [
      "Epoch 3/10, Train Loss: 0.00898674986180124, Validation Loss: 0.004510282212437787\n",
      "Time taken for epoch: 26.41589689 seconds\n"
     ]
    },
    {
     "name": "stderr",
     "output_type": "stream",
     "text": [
      "Epoch: 3/10: 100%|██████████| 2786/2786 [00:26<00:00, 106.87it/s]\n"
     ]
    },
    {
     "name": "stdout",
     "output_type": "stream",
     "text": [
      "Epoch 4/10, Train Loss: 0.009062449455666385, Validation Loss: 0.005623953606968416\n",
      "Time taken for epoch: 26.07105994 seconds\n"
     ]
    },
    {
     "name": "stderr",
     "output_type": "stream",
     "text": [
      "Epoch: 4/10: 100%|██████████| 2786/2786 [00:26<00:00, 104.37it/s]\n"
     ]
    },
    {
     "name": "stdout",
     "output_type": "stream",
     "text": [
      "Epoch 5/10, Train Loss: 0.00905115815626333, Validation Loss: 0.0025283550957021766\n",
      "Time taken for epoch: 26.69470000 seconds\n"
     ]
    },
    {
     "name": "stderr",
     "output_type": "stream",
     "text": [
      "Epoch: 5/10: 100%|██████████| 2786/2786 [00:26<00:00, 106.46it/s]\n"
     ]
    },
    {
     "name": "stdout",
     "output_type": "stream",
     "text": [
      "Epoch 6/10, Train Loss: 0.009057777745907289, Validation Loss: 0.0018301803100319984\n",
      "Time taken for epoch: 26.17113686 seconds\n"
     ]
    },
    {
     "name": "stderr",
     "output_type": "stream",
     "text": [
      "Epoch: 6/10: 100%|██████████| 2786/2786 [00:27<00:00, 101.03it/s]\n"
     ]
    },
    {
     "name": "stdout",
     "output_type": "stream",
     "text": [
      "Epoch 7/10, Train Loss: 0.009029919403449386, Validation Loss: 0.0025931846635449713\n",
      "Time taken for epoch: 27.57742095 seconds\n"
     ]
    },
    {
     "name": "stderr",
     "output_type": "stream",
     "text": [
      "Epoch: 7/10: 100%|██████████| 2786/2786 [00:26<00:00, 104.68it/s]\n"
     ]
    },
    {
     "name": "stdout",
     "output_type": "stream",
     "text": [
      "Epoch 8/10, Train Loss: 0.009094032166794488, Validation Loss: 0.003408970656508542\n",
      "Time taken for epoch: 26.61640310 seconds\n"
     ]
    },
    {
     "name": "stderr",
     "output_type": "stream",
     "text": [
      "Epoch: 8/10: 100%|██████████| 2786/2786 [00:25<00:00, 107.62it/s]\n"
     ]
    },
    {
     "name": "stdout",
     "output_type": "stream",
     "text": [
      "Epoch 9/10, Train Loss: 0.009094083416279023, Validation Loss: 0.006839007399109657\n",
      "Time taken for epoch: 25.88878703 seconds\n"
     ]
    },
    {
     "name": "stderr",
     "output_type": "stream",
     "text": [
      "Epoch: 9/10: 100%|██████████| 2786/2786 [00:25<00:00, 107.98it/s]\n",
      "[I 2025-08-03 13:57:57,435] Trial 3 finished with value: 0.002400022685169812 and parameters: {'learning_rate': 0.007016455764955171, 'hidden_size': 32, 'num_layers': 2, 'dropout_rate': 0.32707757078135735}. Best is trial 1 with value: 0.0014656324740503668.\n"
     ]
    },
    {
     "name": "stdout",
     "output_type": "stream",
     "text": [
      "Epoch 10/10, Train Loss: 0.009093607817652815, Validation Loss: 0.002400022685169812\n",
      "Time taken for epoch: 25.80407906 seconds\n"
     ]
    },
    {
     "name": "stderr",
     "output_type": "stream",
     "text": [
      "Epoch: 0/10: 100%|██████████| 2786/2786 [01:19<00:00, 34.86it/s]\n"
     ]
    },
    {
     "name": "stdout",
     "output_type": "stream",
     "text": [
      "Epoch 1/10, Train Loss: 0.09294462339298723, Validation Loss: 0.004854995379024768\n",
      "Time taken for epoch: 79.91742373 seconds\n"
     ]
    },
    {
     "name": "stderr",
     "output_type": "stream",
     "text": [
      "Epoch: 1/10: 100%|██████████| 2786/2786 [01:14<00:00, 37.47it/s]\n"
     ]
    },
    {
     "name": "stdout",
     "output_type": "stream",
     "text": [
      "Epoch 2/10, Train Loss: 0.021490751556739244, Validation Loss: 0.002997575312370679\n",
      "Time taken for epoch: 74.36397719 seconds\n"
     ]
    },
    {
     "name": "stderr",
     "output_type": "stream",
     "text": [
      "Epoch: 2/10: 100%|██████████| 2786/2786 [01:14<00:00, 37.60it/s]\n"
     ]
    },
    {
     "name": "stdout",
     "output_type": "stream",
     "text": [
      "Epoch 3/10, Train Loss: 0.014321486520121638, Validation Loss: 0.001823667682358294\n",
      "Time taken for epoch: 74.10118508 seconds\n"
     ]
    },
    {
     "name": "stderr",
     "output_type": "stream",
     "text": [
      "Epoch: 3/10: 100%|██████████| 2786/2786 [01:12<00:00, 38.35it/s]\n"
     ]
    },
    {
     "name": "stdout",
     "output_type": "stream",
     "text": [
      "Epoch 4/10, Train Loss: 0.010956362882670488, Validation Loss: 0.0019113236573357543\n",
      "Time taken for epoch: 72.65819502 seconds\n"
     ]
    },
    {
     "name": "stderr",
     "output_type": "stream",
     "text": [
      "Epoch: 4/10: 100%|██████████| 2786/2786 [01:12<00:00, 38.51it/s]\n"
     ]
    },
    {
     "name": "stdout",
     "output_type": "stream",
     "text": [
      "Epoch 5/10, Train Loss: 0.010190605955453803, Validation Loss: 0.002286298646832374\n",
      "Time taken for epoch: 72.35026813 seconds\n"
     ]
    },
    {
     "name": "stderr",
     "output_type": "stream",
     "text": [
      "Epoch: 5/10: 100%|██████████| 2786/2786 [01:12<00:00, 38.40it/s]\n"
     ]
    },
    {
     "name": "stdout",
     "output_type": "stream",
     "text": [
      "Epoch 6/10, Train Loss: 0.01026282929939038, Validation Loss: 0.002046276523675229\n",
      "Time taken for epoch: 72.55519176 seconds\n"
     ]
    },
    {
     "name": "stderr",
     "output_type": "stream",
     "text": [
      "Epoch: 6/10: 100%|██████████| 2786/2786 [01:20<00:00, 34.76it/s]\n"
     ]
    },
    {
     "name": "stdout",
     "output_type": "stream",
     "text": [
      "Epoch 7/10, Train Loss: 0.010597367568392165, Validation Loss: 0.002380518686912489\n",
      "Time taken for epoch: 80.14320588 seconds\n"
     ]
    },
    {
     "name": "stderr",
     "output_type": "stream",
     "text": [
      "Epoch: 7/10: 100%|██████████| 2786/2786 [01:12<00:00, 38.38it/s]\n"
     ]
    },
    {
     "name": "stdout",
     "output_type": "stream",
     "text": [
      "Epoch 8/10, Train Loss: 0.01091439923811744, Validation Loss: 0.002288235268009838\n",
      "Time taken for epoch: 72.58792710 seconds\n",
      "Early stopping triggered\n"
     ]
    },
    {
     "name": "stderr",
     "output_type": "stream",
     "text": [
      "Epoch: 8/10: 100%|██████████| 2786/2786 [01:12<00:00, 38.32it/s]\n"
     ]
    },
    {
     "name": "stdout",
     "output_type": "stream",
     "text": [
      "Epoch 9/10, Train Loss: 0.010961210713517897, Validation Loss: 0.002255256631168828\n",
      "Time taken for epoch: 72.69670987 seconds\n",
      "Early stopping triggered\n"
     ]
    },
    {
     "name": "stderr",
     "output_type": "stream",
     "text": [
      "Epoch: 9/10: 100%|██████████| 2786/2786 [01:11<00:00, 38.72it/s]\n",
      "[I 2025-08-03 14:11:13,472] Trial 4 finished with value: 0.0023011551973674553 and parameters: {'learning_rate': 6.197892965945522e-05, 'hidden_size': 512, 'num_layers': 6, 'dropout_rate': 0.4059687409833568}. Best is trial 1 with value: 0.0014656324740503668.\n"
     ]
    },
    {
     "name": "stdout",
     "output_type": "stream",
     "text": [
      "Epoch 10/10, Train Loss: 0.010931785254520602, Validation Loss: 0.0023011551973674553\n",
      "Time taken for epoch: 71.95556402 seconds\n",
      "Early stopping triggered\n"
     ]
    },
    {
     "name": "stderr",
     "output_type": "stream",
     "text": [
      "Epoch: 0/10: 100%|██████████| 2786/2786 [00:26<00:00, 104.31it/s]\n"
     ]
    },
    {
     "name": "stdout",
     "output_type": "stream",
     "text": [
      "Epoch 1/10, Train Loss: 0.017343420282020305, Validation Loss: 0.001622622517035873\n",
      "Time taken for epoch: 26.71108794 seconds\n"
     ]
    },
    {
     "name": "stderr",
     "output_type": "stream",
     "text": [
      "Epoch: 1/10: 100%|██████████| 2786/2786 [00:27<00:00, 102.98it/s]\n"
     ]
    },
    {
     "name": "stdout",
     "output_type": "stream",
     "text": [
      "Epoch 2/10, Train Loss: 0.002027603783282035, Validation Loss: 0.0010210344667353109\n",
      "Time taken for epoch: 27.05568194 seconds\n"
     ]
    },
    {
     "name": "stderr",
     "output_type": "stream",
     "text": [
      "Epoch: 2/10: 100%|██████████| 2786/2786 [00:27<00:00, 102.33it/s]\n"
     ]
    },
    {
     "name": "stdout",
     "output_type": "stream",
     "text": [
      "Epoch 3/10, Train Loss: 0.0019748990383194405, Validation Loss: 0.001010062191262975\n",
      "Time taken for epoch: 27.22805214 seconds\n"
     ]
    },
    {
     "name": "stderr",
     "output_type": "stream",
     "text": [
      "Epoch: 3/10: 100%|██████████| 2786/2786 [00:29<00:00, 94.35it/s] \n"
     ]
    },
    {
     "name": "stdout",
     "output_type": "stream",
     "text": [
      "Epoch 4/10, Train Loss: 0.0019809215484027885, Validation Loss: 0.0010499610243981984\n",
      "Time taken for epoch: 29.52980828 seconds\n"
     ]
    },
    {
     "name": "stderr",
     "output_type": "stream",
     "text": [
      "Epoch: 4/10: 100%|██████████| 2786/2786 [00:27<00:00, 101.25it/s]\n"
     ]
    },
    {
     "name": "stdout",
     "output_type": "stream",
     "text": [
      "Epoch 5/10, Train Loss: 0.001996763405861094, Validation Loss: 0.0010785115824033\n",
      "Time taken for epoch: 27.51945210 seconds\n"
     ]
    },
    {
     "name": "stderr",
     "output_type": "stream",
     "text": [
      "Epoch: 5/10: 100%|██████████| 2786/2786 [00:27<00:00, 102.05it/s]\n"
     ]
    },
    {
     "name": "stdout",
     "output_type": "stream",
     "text": [
      "Epoch 6/10, Train Loss: 0.0019973330784720093, Validation Loss: 0.001024149756927647\n",
      "Time taken for epoch: 27.30252004 seconds\n"
     ]
    },
    {
     "name": "stderr",
     "output_type": "stream",
     "text": [
      "Epoch: 6/10: 100%|██████████| 2786/2786 [00:27<00:00, 101.82it/s]\n"
     ]
    },
    {
     "name": "stdout",
     "output_type": "stream",
     "text": [
      "Epoch 7/10, Train Loss: 0.0020039421282671875, Validation Loss: 0.0010743081590532434\n",
      "Time taken for epoch: 27.36418080 seconds\n",
      "Early stopping triggered\n"
     ]
    },
    {
     "name": "stderr",
     "output_type": "stream",
     "text": [
      "Epoch: 7/10: 100%|██████████| 2786/2786 [00:27<00:00, 102.62it/s]\n"
     ]
    },
    {
     "name": "stdout",
     "output_type": "stream",
     "text": [
      "Epoch 8/10, Train Loss: 0.002006657274252062, Validation Loss: 0.000960088622480417\n",
      "Time taken for epoch: 27.15033507 seconds\n",
      "Early stopping triggered\n"
     ]
    },
    {
     "name": "stderr",
     "output_type": "stream",
     "text": [
      "Epoch: 8/10: 100%|██████████| 2786/2786 [00:26<00:00, 103.37it/s]\n"
     ]
    },
    {
     "name": "stdout",
     "output_type": "stream",
     "text": [
      "Epoch 9/10, Train Loss: 0.0020065497782827493, Validation Loss: 0.0009824388238414954\n",
      "Time taken for epoch: 26.95382905 seconds\n",
      "Early stopping triggered\n"
     ]
    },
    {
     "name": "stderr",
     "output_type": "stream",
     "text": [
      "Epoch: 9/10: 100%|██████████| 2786/2786 [00:27<00:00, 102.73it/s]\n",
      "[I 2025-08-03 14:16:20,375] Trial 5 finished with value: 0.0010921878100279478 and parameters: {'learning_rate': 0.0002552831017100814, 'hidden_size': 256, 'num_layers': 1, 'dropout_rate': 0.30234447374467954}. Best is trial 5 with value: 0.0010921878100279478.\n"
     ]
    },
    {
     "name": "stdout",
     "output_type": "stream",
     "text": [
      "Epoch 10/10, Train Loss: 0.002004073962309496, Validation Loss: 0.0010921878100279478\n",
      "Time taken for epoch: 27.12163210 seconds\n",
      "Early stopping triggered\n"
     ]
    },
    {
     "name": "stderr",
     "output_type": "stream",
     "text": [
      "Epoch: 0/10: 100%|██████████| 2786/2786 [00:26<00:00, 106.61it/s]\n"
     ]
    },
    {
     "name": "stdout",
     "output_type": "stream",
     "text": [
      "Epoch 1/10, Train Loss: 0.009945663426282675, Validation Loss: 0.0013151864897015077\n",
      "Time taken for epoch: 26.13559103 seconds\n"
     ]
    },
    {
     "name": "stderr",
     "output_type": "stream",
     "text": [
      "Epoch: 1/10: 100%|██████████| 2786/2786 [00:26<00:00, 105.08it/s]\n"
     ]
    },
    {
     "name": "stdout",
     "output_type": "stream",
     "text": [
      "Epoch 2/10, Train Loss: 0.006535313826767033, Validation Loss: 0.0032900494648635172\n",
      "Time taken for epoch: 26.51447892 seconds\n"
     ]
    },
    {
     "name": "stderr",
     "output_type": "stream",
     "text": [
      "Epoch: 2/10: 100%|██████████| 2786/2786 [00:26<00:00, 106.24it/s]\n"
     ]
    },
    {
     "name": "stdout",
     "output_type": "stream",
     "text": [
      "Epoch 3/10, Train Loss: 0.006558956618154019, Validation Loss: 0.002700681668876917\n",
      "Time taken for epoch: 26.22515416 seconds\n"
     ]
    },
    {
     "name": "stderr",
     "output_type": "stream",
     "text": [
      "Epoch: 3/10: 100%|██████████| 2786/2786 [00:26<00:00, 106.90it/s]\n"
     ]
    },
    {
     "name": "stdout",
     "output_type": "stream",
     "text": [
      "Epoch 4/10, Train Loss: 0.006561529164437181, Validation Loss: 0.001470669319218498\n",
      "Time taken for epoch: 26.06402111 seconds\n"
     ]
    },
    {
     "name": "stderr",
     "output_type": "stream",
     "text": [
      "Epoch: 4/10: 100%|██████████| 2786/2786 [00:26<00:00, 105.78it/s]\n"
     ]
    },
    {
     "name": "stdout",
     "output_type": "stream",
     "text": [
      "Epoch 5/10, Train Loss: 0.006557782030011189, Validation Loss: 0.0017837711897546239\n",
      "Time taken for epoch: 26.33925390 seconds\n"
     ]
    },
    {
     "name": "stderr",
     "output_type": "stream",
     "text": [
      "Epoch: 5/10: 100%|██████████| 2786/2786 [00:26<00:00, 106.67it/s]\n"
     ]
    },
    {
     "name": "stdout",
     "output_type": "stream",
     "text": [
      "Epoch 6/10, Train Loss: 0.0065480101432742206, Validation Loss: 0.0012010493391783053\n",
      "Time taken for epoch: 26.11940098 seconds\n"
     ]
    },
    {
     "name": "stderr",
     "output_type": "stream",
     "text": [
      "Epoch: 6/10: 100%|██████████| 2786/2786 [00:26<00:00, 104.23it/s]\n"
     ]
    },
    {
     "name": "stdout",
     "output_type": "stream",
     "text": [
      "Epoch 7/10, Train Loss: 0.00656721005513756, Validation Loss: 0.0016842855867739068\n",
      "Time taken for epoch: 26.73067617 seconds\n"
     ]
    },
    {
     "name": "stderr",
     "output_type": "stream",
     "text": [
      "Epoch: 7/10: 100%|██████████| 2786/2786 [00:26<00:00, 105.35it/s]\n"
     ]
    },
    {
     "name": "stdout",
     "output_type": "stream",
     "text": [
      "Epoch 8/10, Train Loss: 0.006547886338880538, Validation Loss: 0.0011474339462504235\n",
      "Time taken for epoch: 26.44795513 seconds\n"
     ]
    },
    {
     "name": "stderr",
     "output_type": "stream",
     "text": [
      "Epoch: 8/10: 100%|██████████| 2786/2786 [00:26<00:00, 106.96it/s]\n"
     ]
    },
    {
     "name": "stdout",
     "output_type": "stream",
     "text": [
      "Epoch 9/10, Train Loss: 0.006549006662607642, Validation Loss: 0.0014626304942071515\n",
      "Time taken for epoch: 26.05042100 seconds\n"
     ]
    },
    {
     "name": "stderr",
     "output_type": "stream",
     "text": [
      "Epoch: 9/10: 100%|██████████| 2786/2786 [00:26<00:00, 106.86it/s]\n",
      "[I 2025-08-03 14:21:15,965] Trial 6 finished with value: 0.0017387380939707057 and parameters: {'learning_rate': 0.002616269601930518, 'hidden_size': 32, 'num_layers': 2, 'dropout_rate': 0.24462356545686043}. Best is trial 5 with value: 0.0010921878100279478.\n"
     ]
    },
    {
     "name": "stdout",
     "output_type": "stream",
     "text": [
      "Epoch 10/10, Train Loss: 0.0065625329433063855, Validation Loss: 0.0017387380939707057\n",
      "Time taken for epoch: 26.07258105 seconds\n"
     ]
    },
    {
     "name": "stderr",
     "output_type": "stream",
     "text": [
      "Epoch: 0/10: 100%|██████████| 2786/2786 [00:45<00:00, 61.10it/s]\n"
     ]
    },
    {
     "name": "stdout",
     "output_type": "stream",
     "text": [
      "Epoch 1/10, Train Loss: 0.038499797909665644, Validation Loss: 0.0012458943868807392\n",
      "Time taken for epoch: 45.60250902 seconds\n"
     ]
    },
    {
     "name": "stderr",
     "output_type": "stream",
     "text": [
      "Epoch: 1/10: 100%|██████████| 2786/2786 [00:44<00:00, 63.29it/s]\n"
     ]
    },
    {
     "name": "stdout",
     "output_type": "stream",
     "text": [
      "Epoch 2/10, Train Loss: 0.005248054926456149, Validation Loss: 0.001445457840795552\n",
      "Time taken for epoch: 44.02205014 seconds\n"
     ]
    },
    {
     "name": "stderr",
     "output_type": "stream",
     "text": [
      "Epoch: 2/10: 100%|██████████| 2786/2786 [00:44<00:00, 62.73it/s]\n"
     ]
    },
    {
     "name": "stdout",
     "output_type": "stream",
     "text": [
      "Epoch 3/10, Train Loss: 0.004182254119855749, Validation Loss: 0.001319993796433228\n",
      "Time taken for epoch: 44.41288495 seconds\n"
     ]
    },
    {
     "name": "stderr",
     "output_type": "stream",
     "text": [
      "Epoch: 3/10: 100%|██████████| 2786/2786 [00:48<00:00, 57.54it/s]\n"
     ]
    },
    {
     "name": "stdout",
     "output_type": "stream",
     "text": [
      "Epoch 4/10, Train Loss: 0.0039672883352323595, Validation Loss: 0.0013017796494940459\n",
      "Time taken for epoch: 48.42164040 seconds\n"
     ]
    },
    {
     "name": "stderr",
     "output_type": "stream",
     "text": [
      "Epoch: 4/10: 100%|██████████| 2786/2786 [00:43<00:00, 63.77it/s]\n"
     ]
    },
    {
     "name": "stdout",
     "output_type": "stream",
     "text": [
      "Epoch 5/10, Train Loss: 0.003966821325014894, Validation Loss: 0.0011309836933233966\n",
      "Time taken for epoch: 43.68792796 seconds\n"
     ]
    },
    {
     "name": "stderr",
     "output_type": "stream",
     "text": [
      "Epoch: 5/10: 100%|██████████| 2786/2786 [00:44<00:00, 63.18it/s]\n"
     ]
    },
    {
     "name": "stdout",
     "output_type": "stream",
     "text": [
      "Epoch 6/10, Train Loss: 0.003966865913754587, Validation Loss: 0.0009462302812460606\n",
      "Time taken for epoch: 44.09740901 seconds\n"
     ]
    },
    {
     "name": "stderr",
     "output_type": "stream",
     "text": [
      "Epoch: 6/10: 100%|██████████| 2786/2786 [00:46<00:00, 59.41it/s]\n"
     ]
    },
    {
     "name": "stdout",
     "output_type": "stream",
     "text": [
      "Epoch 7/10, Train Loss: 0.003971239827604722, Validation Loss: 0.0009465145523138616\n",
      "Time taken for epoch: 46.89868498 seconds\n"
     ]
    },
    {
     "name": "stderr",
     "output_type": "stream",
     "text": [
      "Epoch: 7/10: 100%|██████████| 2786/2786 [00:44<00:00, 62.79it/s]\n"
     ]
    },
    {
     "name": "stdout",
     "output_type": "stream",
     "text": [
      "Epoch 8/10, Train Loss: 0.003970134672635266, Validation Loss: 0.0009411134537757177\n",
      "Time taken for epoch: 44.37304616 seconds\n"
     ]
    },
    {
     "name": "stderr",
     "output_type": "stream",
     "text": [
      "Epoch: 8/10: 100%|██████████| 2786/2786 [00:44<00:00, 62.47it/s]\n"
     ]
    },
    {
     "name": "stdout",
     "output_type": "stream",
     "text": [
      "Epoch 9/10, Train Loss: 0.003964849249881004, Validation Loss: 0.0015695032014804765\n",
      "Time taken for epoch: 44.59749508 seconds\n"
     ]
    },
    {
     "name": "stderr",
     "output_type": "stream",
     "text": [
      "Epoch: 9/10: 100%|██████████| 2786/2786 [00:44<00:00, 62.92it/s]\n",
      "[I 2025-08-03 14:29:27,039] Trial 7 finished with value: 0.0016158907063237467 and parameters: {'learning_rate': 0.0003628830155032689, 'hidden_size': 256, 'num_layers': 4, 'dropout_rate': 0.2525961824837823}. Best is trial 5 with value: 0.0010921878100279478.\n"
     ]
    },
    {
     "name": "stdout",
     "output_type": "stream",
     "text": [
      "Epoch 10/10, Train Loss: 0.003964542060851789, Validation Loss: 0.0016158907063237467\n",
      "Time taken for epoch: 44.28404284 seconds\n"
     ]
    },
    {
     "name": "stderr",
     "output_type": "stream",
     "text": [
      "Epoch: 0/10: 100%|██████████| 2786/2786 [00:34<00:00, 81.58it/s]\n"
     ]
    },
    {
     "name": "stdout",
     "output_type": "stream",
     "text": [
      "Epoch 1/10, Train Loss: 0.1197023731419029, Validation Loss: 0.00402480236486901\n",
      "Time taken for epoch: 34.15356016 seconds\n"
     ]
    },
    {
     "name": "stderr",
     "output_type": "stream",
     "text": [
      "Epoch: 1/10: 100%|██████████| 2786/2786 [00:34<00:00, 81.79it/s]\n"
     ]
    },
    {
     "name": "stdout",
     "output_type": "stream",
     "text": [
      "Epoch 2/10, Train Loss: 0.01464065892504206, Validation Loss: 0.0020476886341583744\n",
      "Time taken for epoch: 34.06311226 seconds\n"
     ]
    },
    {
     "name": "stderr",
     "output_type": "stream",
     "text": [
      "Epoch: 2/10: 100%|██████████| 2786/2786 [00:34<00:00, 81.15it/s]\n"
     ]
    },
    {
     "name": "stdout",
     "output_type": "stream",
     "text": [
      "Epoch 3/10, Train Loss: 0.0071226779469446, Validation Loss: 0.001228083609900512\n",
      "Time taken for epoch: 34.33266783 seconds\n"
     ]
    },
    {
     "name": "stderr",
     "output_type": "stream",
     "text": [
      "Epoch: 3/10: 100%|██████████| 2786/2786 [00:34<00:00, 81.77it/s]\n"
     ]
    },
    {
     "name": "stdout",
     "output_type": "stream",
     "text": [
      "Epoch 4/10, Train Loss: 0.004925733391557902, Validation Loss: 0.0016530362887013036\n",
      "Time taken for epoch: 34.07200480 seconds\n"
     ]
    },
    {
     "name": "stderr",
     "output_type": "stream",
     "text": [
      "Epoch: 4/10: 100%|██████████| 2786/2786 [00:33<00:00, 83.86it/s]\n"
     ]
    },
    {
     "name": "stdout",
     "output_type": "stream",
     "text": [
      "Epoch 5/10, Train Loss: 0.004131356937418326, Validation Loss: 0.0010544547512280052\n",
      "Time taken for epoch: 33.22339463 seconds\n"
     ]
    },
    {
     "name": "stderr",
     "output_type": "stream",
     "text": [
      "Epoch: 5/10: 100%|██████████| 2786/2786 [00:33<00:00, 82.82it/s]\n"
     ]
    },
    {
     "name": "stdout",
     "output_type": "stream",
     "text": [
      "Epoch 6/10, Train Loss: 0.003792442911560597, Validation Loss: 0.0008660015739595836\n",
      "Time taken for epoch: 33.64121580 seconds\n"
     ]
    },
    {
     "name": "stderr",
     "output_type": "stream",
     "text": [
      "Epoch: 6/10: 100%|██████████| 2786/2786 [00:34<00:00, 81.43it/s]\n"
     ]
    },
    {
     "name": "stdout",
     "output_type": "stream",
     "text": [
      "Epoch 7/10, Train Loss: 0.003756775335965, Validation Loss: 0.0009896536306347797\n",
      "Time taken for epoch: 34.21545506 seconds\n"
     ]
    },
    {
     "name": "stderr",
     "output_type": "stream",
     "text": [
      "Epoch: 7/10: 100%|██████████| 2786/2786 [00:33<00:00, 83.17it/s]\n"
     ]
    },
    {
     "name": "stdout",
     "output_type": "stream",
     "text": [
      "Epoch 8/10, Train Loss: 0.0038712202738141487, Validation Loss: 0.000998547523660658\n",
      "Time taken for epoch: 33.49890614 seconds\n"
     ]
    },
    {
     "name": "stderr",
     "output_type": "stream",
     "text": [
      "Epoch: 8/10: 100%|██████████| 2786/2786 [00:34<00:00, 81.59it/s]\n"
     ]
    },
    {
     "name": "stdout",
     "output_type": "stream",
     "text": [
      "Epoch 9/10, Train Loss: 0.0038719959800249957, Validation Loss: 0.0009065261693481672\n",
      "Time taken for epoch: 34.14929414 seconds\n"
     ]
    },
    {
     "name": "stderr",
     "output_type": "stream",
     "text": [
      "Epoch: 9/10: 100%|██████████| 2786/2786 [00:33<00:00, 83.42it/s]\n",
      "[I 2025-08-03 14:35:41,758] Trial 8 finished with value: 0.0010229102641399982 and parameters: {'learning_rate': 6.042882881710628e-05, 'hidden_size': 128, 'num_layers': 3, 'dropout_rate': 0.2624317701811221}. Best is trial 8 with value: 0.0010229102641399982.\n"
     ]
    },
    {
     "name": "stdout",
     "output_type": "stream",
     "text": [
      "Epoch 10/10, Train Loss: 0.003862648405156741, Validation Loss: 0.0010229102641399982\n",
      "Time taken for epoch: 33.40021491 seconds\n"
     ]
    },
    {
     "name": "stderr",
     "output_type": "stream",
     "text": [
      "Epoch: 0/10: 100%|██████████| 2786/2786 [01:17<00:00, 35.82it/s]\n"
     ]
    },
    {
     "name": "stdout",
     "output_type": "stream",
     "text": [
      "Epoch 1/10, Train Loss: 0.25057211318250533, Validation Loss: 0.030201331304869485\n",
      "Time taken for epoch: 77.77314019 seconds\n"
     ]
    },
    {
     "name": "stderr",
     "output_type": "stream",
     "text": [
      "Epoch: 1/10: 100%|██████████| 2786/2786 [01:15<00:00, 36.80it/s]\n"
     ]
    },
    {
     "name": "stdout",
     "output_type": "stream",
     "text": [
      "Epoch 2/10, Train Loss: 0.06842382131338291, Validation Loss: 0.017610332322242104\n",
      "Time taken for epoch: 75.71792579 seconds\n"
     ]
    },
    {
     "name": "stderr",
     "output_type": "stream",
     "text": [
      "Epoch: 2/10: 100%|██████████| 2786/2786 [01:15<00:00, 36.83it/s]\n"
     ]
    },
    {
     "name": "stdout",
     "output_type": "stream",
     "text": [
      "Epoch 3/10, Train Loss: 0.03659839443568266, Validation Loss: 0.011284402609382104\n",
      "Time taken for epoch: 75.63775420 seconds\n"
     ]
    },
    {
     "name": "stderr",
     "output_type": "stream",
     "text": [
      "Epoch: 3/10: 100%|██████████| 2786/2786 [01:15<00:00, 37.13it/s]\n"
     ]
    },
    {
     "name": "stdout",
     "output_type": "stream",
     "text": [
      "Epoch 4/10, Train Loss: 0.025559071412648304, Validation Loss: 0.007098952760917149\n",
      "Time taken for epoch: 75.03605986 seconds\n"
     ]
    },
    {
     "name": "stderr",
     "output_type": "stream",
     "text": [
      "Epoch: 4/10: 100%|██████████| 2786/2786 [01:15<00:00, 36.86it/s]\n"
     ]
    },
    {
     "name": "stdout",
     "output_type": "stream",
     "text": [
      "Epoch 5/10, Train Loss: 0.02164885281716866, Validation Loss: 0.006123641290001271\n",
      "Time taken for epoch: 75.59174490 seconds\n"
     ]
    },
    {
     "name": "stderr",
     "output_type": "stream",
     "text": [
      "Epoch: 5/10: 100%|██████████| 2786/2786 [01:14<00:00, 37.51it/s]\n"
     ]
    },
    {
     "name": "stdout",
     "output_type": "stream",
     "text": [
      "Epoch 6/10, Train Loss: 0.02035489541592781, Validation Loss: 0.0056538127126165814\n",
      "Time taken for epoch: 74.28146482 seconds\n"
     ]
    },
    {
     "name": "stderr",
     "output_type": "stream",
     "text": [
      "Epoch: 6/10: 100%|██████████| 2786/2786 [01:14<00:00, 37.36it/s]\n"
     ]
    },
    {
     "name": "stdout",
     "output_type": "stream",
     "text": [
      "Epoch 7/10, Train Loss: 0.01985629735419584, Validation Loss: 0.00576224294469058\n",
      "Time taken for epoch: 74.57951689 seconds\n"
     ]
    },
    {
     "name": "stderr",
     "output_type": "stream",
     "text": [
      "Epoch: 7/10: 100%|██████████| 2786/2786 [01:14<00:00, 37.62it/s]\n"
     ]
    },
    {
     "name": "stdout",
     "output_type": "stream",
     "text": [
      "Epoch 8/10, Train Loss: 0.019738184892534354, Validation Loss: 0.0067272328525575876\n",
      "Time taken for epoch: 74.06064200 seconds\n"
     ]
    },
    {
     "name": "stderr",
     "output_type": "stream",
     "text": [
      "Epoch: 8/10: 100%|██████████| 2786/2786 [01:14<00:00, 37.15it/s]\n"
     ]
    },
    {
     "name": "stdout",
     "output_type": "stream",
     "text": [
      "Epoch 9/10, Train Loss: 0.019761877641220872, Validation Loss: 0.006500958503461002\n",
      "Time taken for epoch: 74.99968314 seconds\n"
     ]
    },
    {
     "name": "stderr",
     "output_type": "stream",
     "text": [
      "Epoch: 9/10: 100%|██████████| 2786/2786 [01:14<00:00, 37.51it/s]\n",
      "[I 2025-08-03 14:49:07,678] Trial 9 finished with value: 0.0067582144069274945 and parameters: {'learning_rate': 3.246565568124135e-05, 'hidden_size': 512, 'num_layers': 6, 'dropout_rate': 0.6014040988041144}. Best is trial 8 with value: 0.0010229102641399982.\n"
     ]
    },
    {
     "name": "stdout",
     "output_type": "stream",
     "text": [
      "Epoch 10/10, Train Loss: 0.019899514997184106, Validation Loss: 0.0067582144069274945\n",
      "Time taken for epoch: 74.26742291 seconds\n"
     ]
    },
    {
     "name": "stderr",
     "output_type": "stream",
     "text": [
      "Epoch: 0/10: 100%|██████████| 2786/2786 [00:35<00:00, 79.39it/s]\n"
     ]
    },
    {
     "name": "stdout",
     "output_type": "stream",
     "text": [
      "Epoch 1/10, Train Loss: 0.014216042335839823, Validation Loss: 0.04941565000867174\n",
      "Time taken for epoch: 35.09434295 seconds\n"
     ]
    },
    {
     "name": "stderr",
     "output_type": "stream",
     "text": [
      "Epoch: 1/10: 100%|██████████| 2786/2786 [00:35<00:00, 78.95it/s]\n"
     ]
    },
    {
     "name": "stdout",
     "output_type": "stream",
     "text": [
      "Epoch 2/10, Train Loss: 0.01550906231360776, Validation Loss: 0.028253691886391395\n",
      "Time taken for epoch: 35.29048610 seconds\n"
     ]
    },
    {
     "name": "stderr",
     "output_type": "stream",
     "text": [
      "Epoch: 2/10: 100%|██████████| 2786/2786 [00:36<00:00, 77.11it/s]\n"
     ]
    },
    {
     "name": "stdout",
     "output_type": "stream",
     "text": [
      "Epoch 3/10, Train Loss: 0.015848993562089717, Validation Loss: 0.02159759305423951\n",
      "Time taken for epoch: 36.13335299 seconds\n"
     ]
    },
    {
     "name": "stderr",
     "output_type": "stream",
     "text": [
      "Epoch: 3/10: 100%|██████████| 2786/2786 [00:35<00:00, 79.45it/s]\n"
     ]
    },
    {
     "name": "stdout",
     "output_type": "stream",
     "text": [
      "Epoch 4/10, Train Loss: 0.01606439775737151, Validation Loss: 0.0132808945419273\n",
      "Time taken for epoch: 35.06826425 seconds\n"
     ]
    },
    {
     "name": "stderr",
     "output_type": "stream",
     "text": [
      "Epoch: 4/10: 100%|██████████| 2786/2786 [00:35<00:00, 79.52it/s]\n"
     ]
    },
    {
     "name": "stdout",
     "output_type": "stream",
     "text": [
      "Epoch 5/10, Train Loss: 0.015580208710350006, Validation Loss: 0.06543755642242065\n",
      "Time taken for epoch: 35.03951001 seconds\n"
     ]
    },
    {
     "name": "stderr",
     "output_type": "stream",
     "text": [
      "Epoch: 5/10: 100%|██████████| 2786/2786 [00:35<00:00, 78.32it/s]\n"
     ]
    },
    {
     "name": "stdout",
     "output_type": "stream",
     "text": [
      "Epoch 6/10, Train Loss: 0.01558767339984879, Validation Loss: 0.31106162266286147\n",
      "Time taken for epoch: 35.57212687 seconds\n"
     ]
    },
    {
     "name": "stderr",
     "output_type": "stream",
     "text": [
      "Epoch: 6/10: 100%|██████████| 2786/2786 [00:37<00:00, 73.90it/s]\n"
     ]
    },
    {
     "name": "stdout",
     "output_type": "stream",
     "text": [
      "Epoch 7/10, Train Loss: 0.016297230155027372, Validation Loss: 0.05778725478302347\n",
      "Time taken for epoch: 37.70433307 seconds\n"
     ]
    },
    {
     "name": "stderr",
     "output_type": "stream",
     "text": [
      "Epoch: 7/10: 100%|██████████| 2786/2786 [00:38<00:00, 72.66it/s]\n"
     ]
    },
    {
     "name": "stdout",
     "output_type": "stream",
     "text": [
      "Epoch 8/10, Train Loss: 0.015613394793409157, Validation Loss: 0.04299517480331491\n",
      "Time taken for epoch: 38.34331965 seconds\n"
     ]
    },
    {
     "name": "stderr",
     "output_type": "stream",
     "text": [
      "Epoch: 8/10: 100%|██████████| 2786/2786 [00:35<00:00, 77.74it/s]\n"
     ]
    },
    {
     "name": "stdout",
     "output_type": "stream",
     "text": [
      "Epoch 9/10, Train Loss: 0.015097251336764856, Validation Loss: 0.016584436789246596\n",
      "Time taken for epoch: 35.84129405 seconds\n",
      "Early stopping triggered\n"
     ]
    },
    {
     "name": "stderr",
     "output_type": "stream",
     "text": [
      "Epoch: 9/10: 100%|██████████| 2786/2786 [00:36<00:00, 77.06it/s]\n",
      "[I 2025-08-03 14:55:44,908] Trial 10 finished with value: 0.014601787335527954 and parameters: {'learning_rate': 0.06369624913008247, 'hidden_size': 128, 'num_layers': 4, 'dropout_rate': 0.1223035175953594}. Best is trial 8 with value: 0.0010229102641399982.\n"
     ]
    },
    {
     "name": "stdout",
     "output_type": "stream",
     "text": [
      "Epoch 10/10, Train Loss: 0.015440565551653216, Validation Loss: 0.014601787335527954\n",
      "Time taken for epoch: 36.15583110 seconds\n",
      "Early stopping triggered\n"
     ]
    },
    {
     "name": "stderr",
     "output_type": "stream",
     "text": [
      "Epoch: 0/10: 100%|██████████| 2786/2786 [00:42<00:00, 65.37it/s]\n"
     ]
    },
    {
     "name": "stdout",
     "output_type": "stream",
     "text": [
      "Epoch 1/10, Train Loss: 0.01013836377281602, Validation Loss: 0.0012369008102532189\n",
      "Time taken for epoch: 42.62219191 seconds\n"
     ]
    },
    {
     "name": "stderr",
     "output_type": "stream",
     "text": [
      "Epoch: 1/10: 100%|██████████| 2786/2786 [00:41<00:00, 67.29it/s]\n"
     ]
    },
    {
     "name": "stdout",
     "output_type": "stream",
     "text": [
      "Epoch 2/10, Train Loss: 0.0017231530151366706, Validation Loss: 0.001091257870409068\n",
      "Time taken for epoch: 41.40343094 seconds\n"
     ]
    },
    {
     "name": "stderr",
     "output_type": "stream",
     "text": [
      "Epoch: 2/10: 100%|██████████| 2786/2786 [00:42<00:00, 64.82it/s]\n"
     ]
    },
    {
     "name": "stdout",
     "output_type": "stream",
     "text": [
      "Epoch 3/10, Train Loss: 0.0018023443536175053, Validation Loss: 0.0010435680768616231\n",
      "Time taken for epoch: 42.98403311 seconds\n"
     ]
    },
    {
     "name": "stderr",
     "output_type": "stream",
     "text": [
      "Epoch: 3/10: 100%|██████████| 2786/2786 [00:46<00:00, 60.10it/s]\n"
     ]
    },
    {
     "name": "stdout",
     "output_type": "stream",
     "text": [
      "Epoch 4/10, Train Loss: 0.0018223077789626277, Validation Loss: 0.000896802177444657\n",
      "Time taken for epoch: 46.36434889 seconds\n"
     ]
    },
    {
     "name": "stderr",
     "output_type": "stream",
     "text": [
      "Epoch: 4/10: 100%|██████████| 2786/2786 [00:42<00:00, 66.02it/s]\n"
     ]
    },
    {
     "name": "stdout",
     "output_type": "stream",
     "text": [
      "Epoch 5/10, Train Loss: 0.001829063845890302, Validation Loss: 0.0010848415906930958\n",
      "Time taken for epoch: 42.20510173 seconds\n"
     ]
    },
    {
     "name": "stderr",
     "output_type": "stream",
     "text": [
      "Epoch: 5/10: 100%|██████████| 2786/2786 [00:42<00:00, 65.23it/s]\n"
     ]
    },
    {
     "name": "stdout",
     "output_type": "stream",
     "text": [
      "Epoch 6/10, Train Loss: 0.0018340292760610248, Validation Loss: 0.001064340556313684\n",
      "Time taken for epoch: 42.71108913 seconds\n"
     ]
    },
    {
     "name": "stderr",
     "output_type": "stream",
     "text": [
      "Epoch: 6/10: 100%|██████████| 2786/2786 [00:43<00:00, 63.61it/s]\n"
     ]
    },
    {
     "name": "stdout",
     "output_type": "stream",
     "text": [
      "Epoch 7/10, Train Loss: 0.0018347834626948815, Validation Loss: 0.0011503426715875743\n",
      "Time taken for epoch: 43.80166197 seconds\n"
     ]
    },
    {
     "name": "stderr",
     "output_type": "stream",
     "text": [
      "Epoch: 7/10: 100%|██████████| 2786/2786 [00:44<00:00, 62.92it/s]\n"
     ]
    },
    {
     "name": "stdout",
     "output_type": "stream",
     "text": [
      "Epoch 8/10, Train Loss: 0.0018351239143310507, Validation Loss: 0.0011077910509251633\n",
      "Time taken for epoch: 44.28238416 seconds\n"
     ]
    },
    {
     "name": "stderr",
     "output_type": "stream",
     "text": [
      "Epoch: 8/10: 100%|██████████| 2786/2786 [00:47<00:00, 58.16it/s]\n"
     ]
    },
    {
     "name": "stdout",
     "output_type": "stream",
     "text": [
      "Epoch 9/10, Train Loss: 0.0018370286777163593, Validation Loss: 0.000992427069235862\n",
      "Time taken for epoch: 47.90199399 seconds\n",
      "Early stopping triggered\n"
     ]
    },
    {
     "name": "stderr",
     "output_type": "stream",
     "text": [
      "Epoch: 9/10: 100%|██████████| 2786/2786 [00:45<00:00, 60.96it/s]\n",
      "[I 2025-08-03 15:03:44,738] Trial 11 finished with value: 0.001076889341111226 and parameters: {'learning_rate': 0.0004147427147652986, 'hidden_size': 1024, 'num_layers': 1, 'dropout_rate': 0.4060731479609291}. Best is trial 8 with value: 0.0010229102641399982.\n"
     ]
    },
    {
     "name": "stdout",
     "output_type": "stream",
     "text": [
      "Epoch 10/10, Train Loss: 0.0018368376110485178, Validation Loss: 0.001076889341111226\n",
      "Time taken for epoch: 45.70530772 seconds\n",
      "Early stopping triggered\n"
     ]
    },
    {
     "name": "stderr",
     "output_type": "stream",
     "text": [
      "Epoch: 0/10: 100%|██████████| 2786/2786 [00:43<00:00, 64.33it/s]\n"
     ]
    },
    {
     "name": "stdout",
     "output_type": "stream",
     "text": [
      "Epoch 1/10, Train Loss: 0.010935268618862766, Validation Loss: 0.0012312298438831117\n",
      "Time taken for epoch: 43.31294227 seconds\n"
     ]
    },
    {
     "name": "stderr",
     "output_type": "stream",
     "text": [
      "Epoch: 1/10: 100%|██████████| 2786/2786 [00:42<00:00, 65.60it/s]\n"
     ]
    },
    {
     "name": "stdout",
     "output_type": "stream",
     "text": [
      "Epoch 2/10, Train Loss: 0.001898518582466356, Validation Loss: 0.0014930760342003616\n",
      "Time taken for epoch: 42.47199082 seconds\n"
     ]
    },
    {
     "name": "stderr",
     "output_type": "stream",
     "text": [
      "Epoch: 2/10: 100%|██████████| 2786/2786 [00:43<00:00, 64.35it/s]\n"
     ]
    },
    {
     "name": "stdout",
     "output_type": "stream",
     "text": [
      "Epoch 3/10, Train Loss: 0.0019026141668377712, Validation Loss: 0.0010322724282076112\n",
      "Time taken for epoch: 43.29993081 seconds\n"
     ]
    },
    {
     "name": "stderr",
     "output_type": "stream",
     "text": [
      "Epoch: 3/10: 100%|██████████| 2786/2786 [00:45<00:00, 61.83it/s]\n"
     ]
    },
    {
     "name": "stdout",
     "output_type": "stream",
     "text": [
      "Epoch 4/10, Train Loss: 0.0019381520282279912, Validation Loss: 0.0015341677435674373\n",
      "Time taken for epoch: 45.06233883 seconds\n"
     ]
    },
    {
     "name": "stderr",
     "output_type": "stream",
     "text": [
      "Epoch: 4/10: 100%|██████████| 2786/2786 [00:41<00:00, 66.67it/s]\n"
     ]
    },
    {
     "name": "stdout",
     "output_type": "stream",
     "text": [
      "Epoch 5/10, Train Loss: 0.001955736963148914, Validation Loss: 0.0017879843015859767\n",
      "Time taken for epoch: 41.78985786 seconds\n"
     ]
    },
    {
     "name": "stderr",
     "output_type": "stream",
     "text": [
      "Epoch: 5/10: 100%|██████████| 2786/2786 [00:42<00:00, 66.31it/s]\n"
     ]
    },
    {
     "name": "stdout",
     "output_type": "stream",
     "text": [
      "Epoch 6/10, Train Loss: 0.0019426160751994396, Validation Loss: 0.0009849994744222865\n",
      "Time taken for epoch: 42.01426911 seconds\n"
     ]
    },
    {
     "name": "stderr",
     "output_type": "stream",
     "text": [
      "Epoch: 6/10: 100%|██████████| 2786/2786 [00:43<00:00, 63.52it/s]\n"
     ]
    },
    {
     "name": "stdout",
     "output_type": "stream",
     "text": [
      "Epoch 7/10, Train Loss: 0.0019336837346044457, Validation Loss: 0.0010706691513680722\n",
      "Time taken for epoch: 43.86459994 seconds\n"
     ]
    },
    {
     "name": "stderr",
     "output_type": "stream",
     "text": [
      "Epoch: 7/10: 100%|██████████| 2786/2786 [00:43<00:00, 64.41it/s]\n"
     ]
    },
    {
     "name": "stdout",
     "output_type": "stream",
     "text": [
      "Epoch 8/10, Train Loss: 0.001948119062562296, Validation Loss: 0.001250138763775443\n",
      "Time taken for epoch: 43.25969291 seconds\n",
      "Early stopping triggered\n"
     ]
    },
    {
     "name": "stderr",
     "output_type": "stream",
     "text": [
      "Epoch: 8/10: 100%|██████████| 2786/2786 [00:41<00:00, 67.63it/s]\n"
     ]
    },
    {
     "name": "stdout",
     "output_type": "stream",
     "text": [
      "Epoch 9/10, Train Loss: 0.0019399596805926961, Validation Loss: 0.0010448874366844967\n",
      "Time taken for epoch: 41.19808722 seconds\n",
      "Early stopping triggered\n"
     ]
    },
    {
     "name": "stderr",
     "output_type": "stream",
     "text": [
      "Epoch: 9/10: 100%|██████████| 2786/2786 [00:42<00:00, 65.93it/s]\n",
      "[I 2025-08-03 15:11:32,239] Trial 12 finished with value: 0.001229066953266129 and parameters: {'learning_rate': 0.0008526735036658963, 'hidden_size': 1024, 'num_layers': 1, 'dropout_rate': 0.4516056804937766}. Best is trial 8 with value: 0.0010229102641399982.\n"
     ]
    },
    {
     "name": "stdout",
     "output_type": "stream",
     "text": [
      "Epoch 10/10, Train Loss: 0.0019416983275037801, Validation Loss: 0.001229066953266129\n",
      "Time taken for epoch: 42.26108098 seconds\n",
      "Early stopping triggered\n"
     ]
    },
    {
     "name": "stderr",
     "output_type": "stream",
     "text": [
      "Epoch: 0/10: 100%|██████████| 2786/2786 [00:36<00:00, 77.01it/s]\n"
     ]
    },
    {
     "name": "stdout",
     "output_type": "stream",
     "text": [
      "Epoch 1/10, Train Loss: 0.02434185318774507, Validation Loss: 0.007522545691233176\n",
      "Time taken for epoch: 36.17839098 seconds\n"
     ]
    },
    {
     "name": "stderr",
     "output_type": "stream",
     "text": [
      "Epoch: 1/10: 100%|██████████| 2786/2786 [00:35<00:00, 78.35it/s]\n"
     ]
    },
    {
     "name": "stdout",
     "output_type": "stream",
     "text": [
      "Epoch 2/10, Train Loss: 0.019922791268176428, Validation Loss: 0.006062208436195499\n",
      "Time taken for epoch: 35.56008911 seconds\n"
     ]
    },
    {
     "name": "stderr",
     "output_type": "stream",
     "text": [
      "Epoch: 2/10: 100%|██████████| 2786/2786 [00:35<00:00, 79.58it/s]\n"
     ]
    },
    {
     "name": "stdout",
     "output_type": "stream",
     "text": [
      "Epoch 3/10, Train Loss: 0.020321007677583238, Validation Loss: 0.0070576784823775055\n",
      "Time taken for epoch: 35.01064014 seconds\n"
     ]
    },
    {
     "name": "stderr",
     "output_type": "stream",
     "text": [
      "Epoch: 3/10: 100%|██████████| 2786/2786 [00:35<00:00, 79.57it/s]\n"
     ]
    },
    {
     "name": "stdout",
     "output_type": "stream",
     "text": [
      "Epoch 4/10, Train Loss: 0.02036171763391907, Validation Loss: 0.008041287372314463\n",
      "Time taken for epoch: 35.01678419 seconds\n"
     ]
    },
    {
     "name": "stderr",
     "output_type": "stream",
     "text": [
      "Epoch: 4/10: 100%|██████████| 2786/2786 [00:34<00:00, 80.91it/s]\n"
     ]
    },
    {
     "name": "stdout",
     "output_type": "stream",
     "text": [
      "Epoch 5/10, Train Loss: 0.020439375571676577, Validation Loss: 0.007813249547450694\n",
      "Time taken for epoch: 34.43710399 seconds\n"
     ]
    },
    {
     "name": "stderr",
     "output_type": "stream",
     "text": [
      "Epoch: 5/10: 100%|██████████| 2786/2786 [00:34<00:00, 80.93it/s]\n"
     ]
    },
    {
     "name": "stdout",
     "output_type": "stream",
     "text": [
      "Epoch 6/10, Train Loss: 0.020503459892075908, Validation Loss: 0.006930721538230516\n",
      "Time taken for epoch: 34.42922306 seconds\n"
     ]
    },
    {
     "name": "stderr",
     "output_type": "stream",
     "text": [
      "Epoch: 6/10: 100%|██████████| 2786/2786 [00:34<00:00, 80.89it/s]\n"
     ]
    },
    {
     "name": "stdout",
     "output_type": "stream",
     "text": [
      "Epoch 7/10, Train Loss: 0.02052130039489834, Validation Loss: 0.006231875954877713\n",
      "Time taken for epoch: 34.44272804 seconds\n",
      "Early stopping triggered\n"
     ]
    },
    {
     "name": "stderr",
     "output_type": "stream",
     "text": [
      "Epoch: 7/10: 100%|██████████| 2786/2786 [00:34<00:00, 81.45it/s]\n"
     ]
    },
    {
     "name": "stdout",
     "output_type": "stream",
     "text": [
      "Epoch 8/10, Train Loss: 0.020516624828641437, Validation Loss: 0.007652468270922803\n",
      "Time taken for epoch: 34.20578003 seconds\n",
      "Early stopping triggered\n"
     ]
    },
    {
     "name": "stderr",
     "output_type": "stream",
     "text": [
      "Epoch: 8/10: 100%|██████████| 2786/2786 [00:34<00:00, 80.43it/s]\n"
     ]
    },
    {
     "name": "stdout",
     "output_type": "stream",
     "text": [
      "Epoch 9/10, Train Loss: 0.020565303836796067, Validation Loss: 0.00764419480188821\n",
      "Time taken for epoch: 34.64160323 seconds\n",
      "Early stopping triggered\n"
     ]
    },
    {
     "name": "stderr",
     "output_type": "stream",
     "text": [
      "Epoch: 9/10: 100%|██████████| 2786/2786 [00:34<00:00, 81.01it/s]\n",
      "[I 2025-08-03 15:17:57,630] Trial 13 finished with value: 0.007110066995285115 and parameters: {'learning_rate': 0.003354721655943527, 'hidden_size': 128, 'num_layers': 3, 'dropout_rate': 0.6912319835854377}. Best is trial 8 with value: 0.0010229102641399982.\n"
     ]
    },
    {
     "name": "stdout",
     "output_type": "stream",
     "text": [
      "Epoch 10/10, Train Loss: 0.02056074357134934, Validation Loss: 0.007110066995285115\n",
      "Time taken for epoch: 34.39216900 seconds\n",
      "Early stopping triggered\n"
     ]
    },
    {
     "name": "stderr",
     "output_type": "stream",
     "text": [
      "Epoch: 0/10: 100%|██████████| 2786/2786 [02:39<00:00, 17.51it/s]\n"
     ]
    },
    {
     "name": "stdout",
     "output_type": "stream",
     "text": [
      "Epoch 1/10, Train Loss: 0.013610057268115877, Validation Loss: 0.0008346172874830446\n",
      "Time taken for epoch: 159.12881207 seconds\n"
     ]
    },
    {
     "name": "stderr",
     "output_type": "stream",
     "text": [
      "Epoch: 1/10: 100%|██████████| 2786/2786 [02:32<00:00, 18.31it/s]\n"
     ]
    },
    {
     "name": "stdout",
     "output_type": "stream",
     "text": [
      "Epoch 2/10, Train Loss: 0.002672392940977742, Validation Loss: 0.0008171786765593783\n",
      "Time taken for epoch: 152.14482522 seconds\n"
     ]
    },
    {
     "name": "stderr",
     "output_type": "stream",
     "text": [
      "Epoch: 2/10: 100%|██████████| 2786/2786 [03:31<00:00, 13.18it/s]\n"
     ]
    },
    {
     "name": "stdout",
     "output_type": "stream",
     "text": [
      "Epoch 3/10, Train Loss: 0.002403172521436773, Validation Loss: 0.0011958056897955246\n",
      "Time taken for epoch: 211.33869290 seconds\n"
     ]
    },
    {
     "name": "stderr",
     "output_type": "stream",
     "text": [
      "Epoch: 3/10: 100%|██████████| 2786/2786 [02:53<00:00, 16.01it/s]\n"
     ]
    },
    {
     "name": "stdout",
     "output_type": "stream",
     "text": [
      "Epoch 4/10, Train Loss: 0.002599992998340819, Validation Loss: 0.0010189395272693536\n",
      "Time taken for epoch: 173.97033691 seconds\n"
     ]
    },
    {
     "name": "stderr",
     "output_type": "stream",
     "text": [
      "Epoch: 4/10: 100%|██████████| 2786/2786 [02:54<00:00, 15.96it/s]\n"
     ]
    },
    {
     "name": "stdout",
     "output_type": "stream",
     "text": [
      "Epoch 5/10, Train Loss: 0.0026645504361237833, Validation Loss: 0.0010315333542447612\n",
      "Time taken for epoch: 174.58712602 seconds\n"
     ]
    },
    {
     "name": "stderr",
     "output_type": "stream",
     "text": [
      "Epoch: 5/10: 100%|██████████| 2786/2786 [02:49<00:00, 16.48it/s]\n"
     ]
    },
    {
     "name": "stdout",
     "output_type": "stream",
     "text": [
      "Epoch 6/10, Train Loss: 0.002683800964834194, Validation Loss: 0.0016082677951225507\n",
      "Time taken for epoch: 169.07412672 seconds\n",
      "Early stopping triggered\n"
     ]
    },
    {
     "name": "stderr",
     "output_type": "stream",
     "text": [
      "Epoch: 6/10: 100%|██████████| 2786/2786 [02:50<00:00, 16.34it/s]\n"
     ]
    },
    {
     "name": "stdout",
     "output_type": "stream",
     "text": [
      "Epoch 7/10, Train Loss: 0.0026937507269957505, Validation Loss: 0.0014785927580316458\n",
      "Time taken for epoch: 170.52448010 seconds\n",
      "Early stopping triggered\n"
     ]
    },
    {
     "name": "stderr",
     "output_type": "stream",
     "text": [
      "Epoch: 7/10: 100%|██████████| 2786/2786 [02:53<00:00, 16.04it/s]\n"
     ]
    },
    {
     "name": "stdout",
     "output_type": "stream",
     "text": [
      "Epoch 8/10, Train Loss: 0.002689419462354232, Validation Loss: 0.0012619490199089606\n",
      "Time taken for epoch: 173.74430323 seconds\n",
      "Early stopping triggered\n"
     ]
    },
    {
     "name": "stderr",
     "output_type": "stream",
     "text": [
      "Epoch: 8/10: 100%|██████████| 2786/2786 [02:49<00:00, 16.43it/s]\n"
     ]
    },
    {
     "name": "stdout",
     "output_type": "stream",
     "text": [
      "Epoch 9/10, Train Loss: 0.0027052229883754992, Validation Loss: 0.001285445900790977\n",
      "Time taken for epoch: 169.55089617 seconds\n",
      "Early stopping triggered\n"
     ]
    },
    {
     "name": "stderr",
     "output_type": "stream",
     "text": [
      "Epoch: 9/10: 100%|██████████| 2786/2786 [02:56<00:00, 15.78it/s]\n",
      "[I 2025-08-03 15:48:30,206] Trial 14 finished with value: 0.0012573957193885476 and parameters: {'learning_rate': 0.0001864301711733632, 'hidden_size': 1024, 'num_layers': 3, 'dropout_rate': 0.4890081999209992}. Best is trial 8 with value: 0.0010229102641399982.\n"
     ]
    },
    {
     "name": "stdout",
     "output_type": "stream",
     "text": [
      "Epoch 10/10, Train Loss: 0.0027018601402582845, Validation Loss: 0.0012573957193885476\n",
      "Time taken for epoch: 176.57952094 seconds\n",
      "Early stopping triggered\n"
     ]
    },
    {
     "name": "stderr",
     "output_type": "stream",
     "text": [
      "Epoch: 0/10: 100%|██████████| 2786/2786 [00:26<00:00, 106.13it/s]\n"
     ]
    },
    {
     "name": "stdout",
     "output_type": "stream",
     "text": [
      "Epoch 1/10, Train Loss: 0.03358636773074392, Validation Loss: 0.002862989636121734\n",
      "Time taken for epoch: 26.25349903 seconds\n"
     ]
    },
    {
     "name": "stderr",
     "output_type": "stream",
     "text": [
      "Epoch: 1/10: 100%|██████████| 2786/2786 [00:30<00:00, 92.02it/s] \n"
     ]
    },
    {
     "name": "stdout",
     "output_type": "stream",
     "text": [
      "Epoch 2/10, Train Loss: 0.009218990040925643, Validation Loss: 0.0024257482590569978\n",
      "Time taken for epoch: 30.27878380 seconds\n"
     ]
    },
    {
     "name": "stderr",
     "output_type": "stream",
     "text": [
      "Epoch: 2/10: 100%|██████████| 2786/2786 [00:31<00:00, 88.82it/s] \n"
     ]
    },
    {
     "name": "stdout",
     "output_type": "stream",
     "text": [
      "Epoch 3/10, Train Loss: 0.009214379586351597, Validation Loss: 0.002602524798313989\n",
      "Time taken for epoch: 31.36948919 seconds\n"
     ]
    },
    {
     "name": "stderr",
     "output_type": "stream",
     "text": [
      "Epoch: 3/10: 100%|██████████| 2786/2786 [00:28<00:00, 99.30it/s] \n"
     ]
    },
    {
     "name": "stdout",
     "output_type": "stream",
     "text": [
      "Epoch 4/10, Train Loss: 0.009228881834106946, Validation Loss: 0.002426453405333757\n",
      "Time taken for epoch: 28.05977702 seconds\n"
     ]
    },
    {
     "name": "stderr",
     "output_type": "stream",
     "text": [
      "Epoch: 4/10: 100%|██████████| 2786/2786 [00:27<00:00, 99.99it/s] \n"
     ]
    },
    {
     "name": "stdout",
     "output_type": "stream",
     "text": [
      "Epoch 5/10, Train Loss: 0.009225009508164865, Validation Loss: 0.0021814321766909367\n",
      "Time taken for epoch: 27.86624503 seconds\n"
     ]
    },
    {
     "name": "stderr",
     "output_type": "stream",
     "text": [
      "Epoch: 5/10: 100%|██████████| 2786/2786 [00:26<00:00, 103.43it/s]\n"
     ]
    },
    {
     "name": "stdout",
     "output_type": "stream",
     "text": [
      "Epoch 6/10, Train Loss: 0.009219087312821691, Validation Loss: 0.0024068957994106406\n",
      "Time taken for epoch: 26.93814588 seconds\n"
     ]
    },
    {
     "name": "stderr",
     "output_type": "stream",
     "text": [
      "Epoch: 6/10: 100%|██████████| 2786/2786 [00:26<00:00, 105.26it/s]\n"
     ]
    },
    {
     "name": "stdout",
     "output_type": "stream",
     "text": [
      "Epoch 7/10, Train Loss: 0.00923157359937397, Validation Loss: 0.0024494724716898745\n",
      "Time taken for epoch: 26.47129178 seconds\n"
     ]
    },
    {
     "name": "stderr",
     "output_type": "stream",
     "text": [
      "Epoch: 7/10: 100%|██████████| 2786/2786 [00:25<00:00, 107.18it/s]\n"
     ]
    },
    {
     "name": "stdout",
     "output_type": "stream",
     "text": [
      "Epoch 8/10, Train Loss: 0.009226317888350417, Validation Loss: 0.0022139953698570025\n",
      "Time taken for epoch: 25.99685907 seconds\n"
     ]
    },
    {
     "name": "stderr",
     "output_type": "stream",
     "text": [
      "Epoch: 8/10: 100%|██████████| 2786/2786 [00:25<00:00, 107.53it/s]\n"
     ]
    },
    {
     "name": "stdout",
     "output_type": "stream",
     "text": [
      "Epoch 9/10, Train Loss: 0.009217481296181903, Validation Loss: 0.0022433792664073755\n",
      "Time taken for epoch: 25.91044998 seconds\n"
     ]
    },
    {
     "name": "stderr",
     "output_type": "stream",
     "text": [
      "Epoch: 9/10: 100%|██████████| 2786/2786 [00:26<00:00, 106.75it/s]\n",
      "[I 2025-08-03 15:53:42,385] Trial 15 finished with value: 0.0026700083081248934 and parameters: {'learning_rate': 0.0007949267607908975, 'hidden_size': 16, 'num_layers': 1, 'dropout_rate': 0.38076503297152253}. Best is trial 8 with value: 0.0010229102641399982.\n"
     ]
    },
    {
     "name": "stdout",
     "output_type": "stream",
     "text": [
      "Epoch 10/10, Train Loss: 0.009233048022407115, Validation Loss: 0.0026700083081248934\n",
      "Time taken for epoch: 26.09943724 seconds\n",
      "Early stopping triggered\n"
     ]
    },
    {
     "name": "stderr",
     "output_type": "stream",
     "text": [
      "Epoch: 0/10: 100%|██████████| 2786/2786 [00:35<00:00, 79.32it/s]\n"
     ]
    },
    {
     "name": "stdout",
     "output_type": "stream",
     "text": [
      "Epoch 1/10, Train Loss: 0.006129003264366302, Validation Loss: 0.026579913997345057\n",
      "Time taken for epoch: 35.12506485 seconds\n"
     ]
    },
    {
     "name": "stderr",
     "output_type": "stream",
     "text": [
      "Epoch: 1/10: 100%|██████████| 2786/2786 [00:35<00:00, 77.45it/s]\n"
     ]
    },
    {
     "name": "stdout",
     "output_type": "stream",
     "text": [
      "Epoch 2/10, Train Loss: 0.006421841963810067, Validation Loss: 0.0048642498951782295\n",
      "Time taken for epoch: 35.97553086 seconds\n"
     ]
    },
    {
     "name": "stderr",
     "output_type": "stream",
     "text": [
      "Epoch: 2/10: 100%|██████████| 2786/2786 [00:35<00:00, 79.37it/s]\n"
     ]
    },
    {
     "name": "stdout",
     "output_type": "stream",
     "text": [
      "Epoch 3/10, Train Loss: 0.006549044900820493, Validation Loss: 0.0049523235698507835\n",
      "Time taken for epoch: 35.10160470 seconds\n"
     ]
    },
    {
     "name": "stderr",
     "output_type": "stream",
     "text": [
      "Epoch: 3/10: 100%|██████████| 2786/2786 [00:33<00:00, 82.25it/s]\n"
     ]
    },
    {
     "name": "stdout",
     "output_type": "stream",
     "text": [
      "Epoch 4/10, Train Loss: 0.006532133557905269, Validation Loss: 0.00568468271602047\n",
      "Time taken for epoch: 33.87599683 seconds\n"
     ]
    },
    {
     "name": "stderr",
     "output_type": "stream",
     "text": [
      "Epoch: 4/10: 100%|██████████| 2786/2786 [00:33<00:00, 83.02it/s]\n"
     ]
    },
    {
     "name": "stdout",
     "output_type": "stream",
     "text": [
      "Epoch 5/10, Train Loss: 0.006668513695082954, Validation Loss: 0.06613197524759734\n",
      "Time taken for epoch: 33.55938506 seconds\n"
     ]
    },
    {
     "name": "stderr",
     "output_type": "stream",
     "text": [
      "Epoch: 5/10: 100%|██████████| 2786/2786 [00:35<00:00, 78.74it/s]\n"
     ]
    },
    {
     "name": "stdout",
     "output_type": "stream",
     "text": [
      "Epoch 6/10, Train Loss: 0.006681167727673248, Validation Loss: 0.0063686048164646215\n",
      "Time taken for epoch: 35.38475895 seconds\n"
     ]
    },
    {
     "name": "stderr",
     "output_type": "stream",
     "text": [
      "Epoch: 6/10: 100%|██████████| 2786/2786 [00:38<00:00, 71.51it/s]\n"
     ]
    },
    {
     "name": "stdout",
     "output_type": "stream",
     "text": [
      "Epoch 7/10, Train Loss: 0.006613256607996267, Validation Loss: 0.003175687238229021\n",
      "Time taken for epoch: 38.96348786 seconds\n"
     ]
    },
    {
     "name": "stderr",
     "output_type": "stream",
     "text": [
      "Epoch: 7/10: 100%|██████████| 2786/2786 [00:38<00:00, 71.62it/s]\n"
     ]
    },
    {
     "name": "stdout",
     "output_type": "stream",
     "text": [
      "Epoch 8/10, Train Loss: 0.006687358727582382, Validation Loss: 0.012079095054167438\n",
      "Time taken for epoch: 38.90233612 seconds\n"
     ]
    },
    {
     "name": "stderr",
     "output_type": "stream",
     "text": [
      "Epoch: 8/10: 100%|██████████| 2786/2786 [00:37<00:00, 74.56it/s]\n"
     ]
    },
    {
     "name": "stdout",
     "output_type": "stream",
     "text": [
      "Epoch 9/10, Train Loss: 0.006651813303750899, Validation Loss: 0.03929978920612781\n",
      "Time taken for epoch: 37.37090373 seconds\n"
     ]
    },
    {
     "name": "stderr",
     "output_type": "stream",
     "text": [
      "Epoch: 9/10: 100%|██████████| 2786/2786 [00:37<00:00, 73.94it/s]\n",
      "[I 2025-08-03 16:00:23,544] Trial 16 finished with value: 0.005170134739671783 and parameters: {'learning_rate': 0.019479709044647672, 'hidden_size': 128, 'num_layers': 3, 'dropout_rate': 0.16764468172112224}. Best is trial 8 with value: 0.0010229102641399982.\n"
     ]
    },
    {
     "name": "stdout",
     "output_type": "stream",
     "text": [
      "Epoch 10/10, Train Loss: 0.006707430873681274, Validation Loss: 0.005170134739671783\n",
      "Time taken for epoch: 37.68219209 seconds\n"
     ]
    },
    {
     "name": "stderr",
     "output_type": "stream",
     "text": [
      "Epoch: 0/10: 100%|██████████| 2786/2786 [03:07<00:00, 14.87it/s]\n"
     ]
    },
    {
     "name": "stdout",
     "output_type": "stream",
     "text": [
      "Epoch 1/10, Train Loss: 0.03295730841640257, Validation Loss: 0.002055788356691832\n",
      "Time taken for epoch: 187.37129092 seconds\n"
     ]
    },
    {
     "name": "stderr",
     "output_type": "stream",
     "text": [
      "Epoch: 1/10: 100%|██████████| 2786/2786 [03:47<00:00, 12.23it/s]\n"
     ]
    },
    {
     "name": "stdout",
     "output_type": "stream",
     "text": [
      "Epoch 2/10, Train Loss: 0.005939078367581325, Validation Loss: 0.0008247638591664884\n",
      "Time taken for epoch: 227.83612609 seconds\n"
     ]
    },
    {
     "name": "stderr",
     "output_type": "stream",
     "text": [
      "Epoch: 2/10: 100%|██████████| 2786/2786 [03:07<00:00, 14.83it/s]\n"
     ]
    },
    {
     "name": "stdout",
     "output_type": "stream",
     "text": [
      "Epoch 3/10, Train Loss: 0.004215673929948175, Validation Loss: 0.0011637368863596283\n",
      "Time taken for epoch: 187.88514996 seconds\n"
     ]
    },
    {
     "name": "stderr",
     "output_type": "stream",
     "text": [
      "Epoch: 3/10: 100%|██████████| 2786/2786 [03:13<00:00, 14.39it/s]\n"
     ]
    },
    {
     "name": "stdout",
     "output_type": "stream",
     "text": [
      "Epoch 4/10, Train Loss: 0.003503413715487385, Validation Loss: 0.0008626090434588868\n",
      "Time taken for epoch: 193.66756105 seconds\n"
     ]
    },
    {
     "name": "stderr",
     "output_type": "stream",
     "text": [
      "Epoch: 4/10: 100%|██████████| 2786/2786 [03:06<00:00, 14.96it/s]\n"
     ]
    },
    {
     "name": "stdout",
     "output_type": "stream",
     "text": [
      "Epoch 5/10, Train Loss: 0.003193241183790435, Validation Loss: 0.0011126588009659232\n",
      "Time taken for epoch: 186.18911695 seconds\n"
     ]
    },
    {
     "name": "stderr",
     "output_type": "stream",
     "text": [
      "Epoch: 5/10: 100%|██████████| 2786/2786 [03:04<00:00, 15.12it/s]\n"
     ]
    },
    {
     "name": "stdout",
     "output_type": "stream",
     "text": [
      "Epoch 6/10, Train Loss: 0.0030256998110983766, Validation Loss: 0.0008218137286539084\n",
      "Time taken for epoch: 184.32184601 seconds\n"
     ]
    },
    {
     "name": "stderr",
     "output_type": "stream",
     "text": [
      "Epoch: 6/10: 100%|██████████| 2786/2786 [03:05<00:00, 15.01it/s]\n"
     ]
    },
    {
     "name": "stdout",
     "output_type": "stream",
     "text": [
      "Epoch 7/10, Train Loss: 0.002958301250784065, Validation Loss: 0.0009655803825648067\n",
      "Time taken for epoch: 185.66882586 seconds\n",
      "Early stopping triggered\n"
     ]
    },
    {
     "name": "stderr",
     "output_type": "stream",
     "text": [
      "Epoch: 7/10: 100%|██████████| 2786/2786 [03:05<00:00, 15.01it/s]\n"
     ]
    },
    {
     "name": "stdout",
     "output_type": "stream",
     "text": [
      "Epoch 8/10, Train Loss: 0.003208711691874655, Validation Loss: 0.0010015443333320577\n",
      "Time taken for epoch: 185.59158206 seconds\n",
      "Early stopping triggered\n"
     ]
    },
    {
     "name": "stderr",
     "output_type": "stream",
     "text": [
      "Epoch: 8/10: 100%|██████████| 2786/2786 [03:36<00:00, 12.85it/s]\n"
     ]
    },
    {
     "name": "stdout",
     "output_type": "stream",
     "text": [
      "Epoch 9/10, Train Loss: 0.003478898167792689, Validation Loss: 0.0010817611419003772\n",
      "Time taken for epoch: 216.81811404 seconds\n",
      "Early stopping triggered\n"
     ]
    },
    {
     "name": "stderr",
     "output_type": "stream",
     "text": [
      "Epoch: 9/10: 100%|██████████| 2786/2786 [03:02<00:00, 15.27it/s]\n",
      "[I 2025-08-03 16:34:34,006] Trial 17 finished with value: 0.0008986075189755263 and parameters: {'learning_rate': 5.436126855086457e-05, 'hidden_size': 1024, 'num_layers': 5, 'dropout_rate': 0.3465890939897649}. Best is trial 17 with value: 0.0008986075189755263.\n"
     ]
    },
    {
     "name": "stdout",
     "output_type": "stream",
     "text": [
      "Epoch 10/10, Train Loss: 0.0034812554304721336, Validation Loss: 0.0008986075189755263\n",
      "Time taken for epoch: 182.40485024 seconds\n",
      "Early stopping triggered\n"
     ]
    },
    {
     "name": "stderr",
     "output_type": "stream",
     "text": [
      "Epoch: 0/10: 100%|██████████| 2786/2786 [00:37<00:00, 74.60it/s]\n"
     ]
    },
    {
     "name": "stdout",
     "output_type": "stream",
     "text": [
      "Epoch 1/10, Train Loss: 0.19690156632556988, Validation Loss: 0.09141203614793128\n",
      "Time taken for epoch: 37.34747314 seconds\n"
     ]
    },
    {
     "name": "stderr",
     "output_type": "stream",
     "text": [
      "Epoch: 1/10: 100%|██████████| 2786/2786 [00:39<00:00, 71.14it/s]\n"
     ]
    },
    {
     "name": "stdout",
     "output_type": "stream",
     "text": [
      "Epoch 2/10, Train Loss: 0.0808219277892965, Validation Loss: 0.05347478236198939\n",
      "Time taken for epoch: 39.16435385 seconds\n"
     ]
    },
    {
     "name": "stderr",
     "output_type": "stream",
     "text": [
      "Epoch: 2/10: 100%|██████████| 2786/2786 [00:38<00:00, 71.46it/s]\n"
     ]
    },
    {
     "name": "stdout",
     "output_type": "stream",
     "text": [
      "Epoch 3/10, Train Loss: 0.04157793879567807, Validation Loss: 0.018677108782218982\n",
      "Time taken for epoch: 38.98701310 seconds\n"
     ]
    },
    {
     "name": "stderr",
     "output_type": "stream",
     "text": [
      "Epoch: 3/10: 100%|██████████| 2786/2786 [00:38<00:00, 72.15it/s]\n"
     ]
    },
    {
     "name": "stdout",
     "output_type": "stream",
     "text": [
      "Epoch 4/10, Train Loss: 0.030926079944589117, Validation Loss: 0.014792697135425142\n",
      "Time taken for epoch: 38.61665988 seconds\n"
     ]
    },
    {
     "name": "stderr",
     "output_type": "stream",
     "text": [
      "Epoch: 4/10: 100%|██████████| 2786/2786 [00:38<00:00, 73.24it/s]\n"
     ]
    },
    {
     "name": "stdout",
     "output_type": "stream",
     "text": [
      "Epoch 5/10, Train Loss: 0.028238694320585945, Validation Loss: 0.015229644583464964\n",
      "Time taken for epoch: 38.04185200 seconds\n"
     ]
    },
    {
     "name": "stderr",
     "output_type": "stream",
     "text": [
      "Epoch: 5/10: 100%|██████████| 2786/2786 [00:37<00:00, 73.69it/s]\n"
     ]
    },
    {
     "name": "stdout",
     "output_type": "stream",
     "text": [
      "Epoch 6/10, Train Loss: 0.028230538664617003, Validation Loss: 0.014290397669969836\n",
      "Time taken for epoch: 37.80760527 seconds\n"
     ]
    },
    {
     "name": "stderr",
     "output_type": "stream",
     "text": [
      "Epoch: 6/10: 100%|██████████| 2786/2786 [00:38<00:00, 73.25it/s]\n"
     ]
    },
    {
     "name": "stdout",
     "output_type": "stream",
     "text": [
      "Epoch 7/10, Train Loss: 0.028448727266021923, Validation Loss: 0.014437072614542605\n",
      "Time taken for epoch: 38.03788805 seconds\n"
     ]
    },
    {
     "name": "stderr",
     "output_type": "stream",
     "text": [
      "Epoch: 7/10: 100%|██████████| 2786/2786 [00:38<00:00, 72.06it/s]\n"
     ]
    },
    {
     "name": "stdout",
     "output_type": "stream",
     "text": [
      "Epoch 8/10, Train Loss: 0.028485498281445806, Validation Loss: 0.013633276792786605\n",
      "Time taken for epoch: 38.66640902 seconds\n"
     ]
    },
    {
     "name": "stderr",
     "output_type": "stream",
     "text": [
      "Epoch: 8/10: 100%|██████████| 2786/2786 [00:41<00:00, 67.47it/s]\n"
     ]
    },
    {
     "name": "stdout",
     "output_type": "stream",
     "text": [
      "Epoch 9/10, Train Loss: 0.028471700788314448, Validation Loss: 0.014447573827967195\n",
      "Time taken for epoch: 41.29352117 seconds\n"
     ]
    },
    {
     "name": "stderr",
     "output_type": "stream",
     "text": [
      "Epoch: 9/10: 100%|██████████| 2786/2786 [00:41<00:00, 67.62it/s]\n",
      "[I 2025-08-03 16:41:43,595] Trial 18 finished with value: 0.013773983649827813 and parameters: {'learning_rate': 5.340476228484895e-05, 'hidden_size': 64, 'num_layers': 5, 'dropout_rate': 0.3469549417783274}. Best is trial 17 with value: 0.0008986075189755263.\n"
     ]
    },
    {
     "name": "stdout",
     "output_type": "stream",
     "text": [
      "Epoch 10/10, Train Loss: 0.028438147358671204, Validation Loss: 0.013773983649827813\n",
      "Time taken for epoch: 41.20246625 seconds\n"
     ]
    },
    {
     "name": "stderr",
     "output_type": "stream",
     "text": [
      "Epoch: 0/10: 100%|██████████| 2786/2786 [00:38<00:00, 72.89it/s]\n"
     ]
    },
    {
     "name": "stdout",
     "output_type": "stream",
     "text": [
      "Epoch 1/10, Train Loss: 0.10808677738164708, Validation Loss: 0.06216890166614119\n",
      "Time taken for epoch: 38.22625470 seconds\n"
     ]
    },
    {
     "name": "stderr",
     "output_type": "stream",
     "text": [
      "Epoch: 1/10: 100%|██████████| 2786/2786 [00:35<00:00, 77.89it/s]\n"
     ]
    },
    {
     "name": "stdout",
     "output_type": "stream",
     "text": [
      "Epoch 2/10, Train Loss: 0.07359980631215873, Validation Loss: 0.049973079250432706\n",
      "Time taken for epoch: 35.77325892 seconds\n"
     ]
    },
    {
     "name": "stderr",
     "output_type": "stream",
     "text": [
      "Epoch: 2/10: 100%|██████████| 2786/2786 [00:36<00:00, 76.86it/s]\n"
     ]
    },
    {
     "name": "stdout",
     "output_type": "stream",
     "text": [
      "Epoch 3/10, Train Loss: 0.0644550542350476, Validation Loss: 0.04064124447068845\n",
      "Time taken for epoch: 36.24931502 seconds\n"
     ]
    },
    {
     "name": "stderr",
     "output_type": "stream",
     "text": [
      "Epoch: 3/10: 100%|██████████| 2786/2786 [00:36<00:00, 75.78it/s]\n"
     ]
    },
    {
     "name": "stdout",
     "output_type": "stream",
     "text": [
      "Epoch 4/10, Train Loss: 0.059544398094348916, Validation Loss: 0.03832967879578243\n",
      "Time taken for epoch: 36.76894212 seconds\n"
     ]
    },
    {
     "name": "stderr",
     "output_type": "stream",
     "text": [
      "Epoch: 4/10: 100%|██████████| 2786/2786 [00:36<00:00, 76.88it/s]\n"
     ]
    },
    {
     "name": "stdout",
     "output_type": "stream",
     "text": [
      "Epoch 5/10, Train Loss: 0.05639357964875282, Validation Loss: 0.036670204077883226\n",
      "Time taken for epoch: 36.24306679 seconds\n"
     ]
    },
    {
     "name": "stderr",
     "output_type": "stream",
     "text": [
      "Epoch: 5/10: 100%|██████████| 2786/2786 [00:35<00:00, 77.81it/s]\n"
     ]
    },
    {
     "name": "stdout",
     "output_type": "stream",
     "text": [
      "Epoch 6/10, Train Loss: 0.05396284865936143, Validation Loss: 0.0350818898992723\n",
      "Time taken for epoch: 35.80634999 seconds\n"
     ]
    },
    {
     "name": "stderr",
     "output_type": "stream",
     "text": [
      "Epoch: 6/10: 100%|██████████| 2786/2786 [00:35<00:00, 77.86it/s]\n"
     ]
    },
    {
     "name": "stdout",
     "output_type": "stream",
     "text": [
      "Epoch 7/10, Train Loss: 0.05295026027152886, Validation Loss: 0.03405408541986574\n",
      "Time taken for epoch: 35.78359509 seconds\n"
     ]
    },
    {
     "name": "stderr",
     "output_type": "stream",
     "text": [
      "Epoch: 7/10: 100%|██████████| 2786/2786 [00:35<00:00, 79.15it/s]\n"
     ]
    },
    {
     "name": "stdout",
     "output_type": "stream",
     "text": [
      "Epoch 8/10, Train Loss: 0.052607231462549496, Validation Loss: 0.03325724325381198\n",
      "Time taken for epoch: 35.20043898 seconds\n"
     ]
    },
    {
     "name": "stderr",
     "output_type": "stream",
     "text": [
      "Epoch: 8/10: 100%|██████████| 2786/2786 [00:35<00:00, 79.08it/s]\n"
     ]
    },
    {
     "name": "stdout",
     "output_type": "stream",
     "text": [
      "Epoch 9/10, Train Loss: 0.052493414889061014, Validation Loss: 0.03346698525730324\n",
      "Time taken for epoch: 35.23369908 seconds\n"
     ]
    },
    {
     "name": "stderr",
     "output_type": "stream",
     "text": [
      "Epoch: 9/10: 100%|██████████| 2786/2786 [00:38<00:00, 72.40it/s]\n",
      "[I 2025-08-03 16:48:26,776] Trial 19 finished with value: 0.0334979210705171 and parameters: {'learning_rate': 2.981068473117292e-05, 'hidden_size': 16, 'num_layers': 5, 'dropout_rate': 0.22091048886585668}. Best is trial 17 with value: 0.0008986075189755263.\n"
     ]
    },
    {
     "name": "stdout",
     "output_type": "stream",
     "text": [
      "Epoch 10/10, Train Loss: 0.05235785222629036, Validation Loss: 0.0334979210705171\n",
      "Time taken for epoch: 38.48335505 seconds\n",
      "Best hyperparameters: {'learning_rate': 5.436126855086457e-05, 'hidden_size': 1024, 'num_layers': 5, 'dropout_rate': 0.3465890939897649}\n"
     ]
    },
    {
     "data": {
      "application/vnd.plotly.v1+json": {
       "config": {
        "plotlyServerURL": "https://plot.ly"
       },
       "data": [
        {
         "mode": "markers",
         "name": "Objective Value",
         "type": "scatter",
         "x": [
          0,
          1,
          2,
          3,
          4,
          5,
          6,
          7,
          8,
          9,
          10,
          11,
          12,
          13,
          14,
          15,
          16,
          17,
          18,
          19
         ],
         "y": [
          0.003568603848156498,
          0.0014656324740503668,
          0.05133227559771222,
          0.002400022685169812,
          0.0023011551973674553,
          0.0010921878100279478,
          0.0017387380939707057,
          0.0016158907063237467,
          0.0010229102641399982,
          0.0067582144069274945,
          0.014601787335527954,
          0.001076889341111226,
          0.001229066953266129,
          0.007110066995285115,
          0.0012573957193885476,
          0.0026700083081248934,
          0.005170134739671783,
          0.0008986075189755263,
          0.013773983649827813,
          0.0334979210705171
         ]
        },
        {
         "mode": "lines",
         "name": "Best Value",
         "type": "scatter",
         "x": [
          0,
          1,
          2,
          3,
          4,
          5,
          6,
          7,
          8,
          9,
          10,
          11,
          12,
          13,
          14,
          15,
          16,
          17,
          18,
          19
         ],
         "y": [
          0.003568603848156498,
          0.0014656324740503668,
          0.0014656324740503668,
          0.0014656324740503668,
          0.0014656324740503668,
          0.0010921878100279478,
          0.0010921878100279478,
          0.0010921878100279478,
          0.0010229102641399982,
          0.0010229102641399982,
          0.0010229102641399982,
          0.0010229102641399982,
          0.0010229102641399982,
          0.0010229102641399982,
          0.0010229102641399982,
          0.0010229102641399982,
          0.0010229102641399982,
          0.0008986075189755263,
          0.0008986075189755263,
          0.0008986075189755263
         ]
        },
        {
         "marker": {
          "color": "#cccccc"
         },
         "mode": "markers",
         "name": "Infeasible Trial",
         "showlegend": false,
         "type": "scatter",
         "x": [],
         "y": []
        }
       ],
       "layout": {
        "template": {
         "data": {
          "bar": [
           {
            "error_x": {
             "color": "#2a3f5f"
            },
            "error_y": {
             "color": "#2a3f5f"
            },
            "marker": {
             "line": {
              "color": "#E5ECF6",
              "width": 0.5
             },
             "pattern": {
              "fillmode": "overlay",
              "size": 10,
              "solidity": 0.2
             }
            },
            "type": "bar"
           }
          ],
          "barpolar": [
           {
            "marker": {
             "line": {
              "color": "#E5ECF6",
              "width": 0.5
             },
             "pattern": {
              "fillmode": "overlay",
              "size": 10,
              "solidity": 0.2
             }
            },
            "type": "barpolar"
           }
          ],
          "carpet": [
           {
            "aaxis": {
             "endlinecolor": "#2a3f5f",
             "gridcolor": "white",
             "linecolor": "white",
             "minorgridcolor": "white",
             "startlinecolor": "#2a3f5f"
            },
            "baxis": {
             "endlinecolor": "#2a3f5f",
             "gridcolor": "white",
             "linecolor": "white",
             "minorgridcolor": "white",
             "startlinecolor": "#2a3f5f"
            },
            "type": "carpet"
           }
          ],
          "choropleth": [
           {
            "colorbar": {
             "outlinewidth": 0,
             "ticks": ""
            },
            "type": "choropleth"
           }
          ],
          "contour": [
           {
            "colorbar": {
             "outlinewidth": 0,
             "ticks": ""
            },
            "colorscale": [
             [
              0,
              "#0d0887"
             ],
             [
              0.1111111111111111,
              "#46039f"
             ],
             [
              0.2222222222222222,
              "#7201a8"
             ],
             [
              0.3333333333333333,
              "#9c179e"
             ],
             [
              0.4444444444444444,
              "#bd3786"
             ],
             [
              0.5555555555555556,
              "#d8576b"
             ],
             [
              0.6666666666666666,
              "#ed7953"
             ],
             [
              0.7777777777777778,
              "#fb9f3a"
             ],
             [
              0.8888888888888888,
              "#fdca26"
             ],
             [
              1,
              "#f0f921"
             ]
            ],
            "type": "contour"
           }
          ],
          "contourcarpet": [
           {
            "colorbar": {
             "outlinewidth": 0,
             "ticks": ""
            },
            "type": "contourcarpet"
           }
          ],
          "heatmap": [
           {
            "colorbar": {
             "outlinewidth": 0,
             "ticks": ""
            },
            "colorscale": [
             [
              0,
              "#0d0887"
             ],
             [
              0.1111111111111111,
              "#46039f"
             ],
             [
              0.2222222222222222,
              "#7201a8"
             ],
             [
              0.3333333333333333,
              "#9c179e"
             ],
             [
              0.4444444444444444,
              "#bd3786"
             ],
             [
              0.5555555555555556,
              "#d8576b"
             ],
             [
              0.6666666666666666,
              "#ed7953"
             ],
             [
              0.7777777777777778,
              "#fb9f3a"
             ],
             [
              0.8888888888888888,
              "#fdca26"
             ],
             [
              1,
              "#f0f921"
             ]
            ],
            "type": "heatmap"
           }
          ],
          "histogram": [
           {
            "marker": {
             "pattern": {
              "fillmode": "overlay",
              "size": 10,
              "solidity": 0.2
             }
            },
            "type": "histogram"
           }
          ],
          "histogram2d": [
           {
            "colorbar": {
             "outlinewidth": 0,
             "ticks": ""
            },
            "colorscale": [
             [
              0,
              "#0d0887"
             ],
             [
              0.1111111111111111,
              "#46039f"
             ],
             [
              0.2222222222222222,
              "#7201a8"
             ],
             [
              0.3333333333333333,
              "#9c179e"
             ],
             [
              0.4444444444444444,
              "#bd3786"
             ],
             [
              0.5555555555555556,
              "#d8576b"
             ],
             [
              0.6666666666666666,
              "#ed7953"
             ],
             [
              0.7777777777777778,
              "#fb9f3a"
             ],
             [
              0.8888888888888888,
              "#fdca26"
             ],
             [
              1,
              "#f0f921"
             ]
            ],
            "type": "histogram2d"
           }
          ],
          "histogram2dcontour": [
           {
            "colorbar": {
             "outlinewidth": 0,
             "ticks": ""
            },
            "colorscale": [
             [
              0,
              "#0d0887"
             ],
             [
              0.1111111111111111,
              "#46039f"
             ],
             [
              0.2222222222222222,
              "#7201a8"
             ],
             [
              0.3333333333333333,
              "#9c179e"
             ],
             [
              0.4444444444444444,
              "#bd3786"
             ],
             [
              0.5555555555555556,
              "#d8576b"
             ],
             [
              0.6666666666666666,
              "#ed7953"
             ],
             [
              0.7777777777777778,
              "#fb9f3a"
             ],
             [
              0.8888888888888888,
              "#fdca26"
             ],
             [
              1,
              "#f0f921"
             ]
            ],
            "type": "histogram2dcontour"
           }
          ],
          "mesh3d": [
           {
            "colorbar": {
             "outlinewidth": 0,
             "ticks": ""
            },
            "type": "mesh3d"
           }
          ],
          "parcoords": [
           {
            "line": {
             "colorbar": {
              "outlinewidth": 0,
              "ticks": ""
             }
            },
            "type": "parcoords"
           }
          ],
          "pie": [
           {
            "automargin": true,
            "type": "pie"
           }
          ],
          "scatter": [
           {
            "fillpattern": {
             "fillmode": "overlay",
             "size": 10,
             "solidity": 0.2
            },
            "type": "scatter"
           }
          ],
          "scatter3d": [
           {
            "line": {
             "colorbar": {
              "outlinewidth": 0,
              "ticks": ""
             }
            },
            "marker": {
             "colorbar": {
              "outlinewidth": 0,
              "ticks": ""
             }
            },
            "type": "scatter3d"
           }
          ],
          "scattercarpet": [
           {
            "marker": {
             "colorbar": {
              "outlinewidth": 0,
              "ticks": ""
             }
            },
            "type": "scattercarpet"
           }
          ],
          "scattergeo": [
           {
            "marker": {
             "colorbar": {
              "outlinewidth": 0,
              "ticks": ""
             }
            },
            "type": "scattergeo"
           }
          ],
          "scattergl": [
           {
            "marker": {
             "colorbar": {
              "outlinewidth": 0,
              "ticks": ""
             }
            },
            "type": "scattergl"
           }
          ],
          "scattermap": [
           {
            "marker": {
             "colorbar": {
              "outlinewidth": 0,
              "ticks": ""
             }
            },
            "type": "scattermap"
           }
          ],
          "scattermapbox": [
           {
            "marker": {
             "colorbar": {
              "outlinewidth": 0,
              "ticks": ""
             }
            },
            "type": "scattermapbox"
           }
          ],
          "scatterpolar": [
           {
            "marker": {
             "colorbar": {
              "outlinewidth": 0,
              "ticks": ""
             }
            },
            "type": "scatterpolar"
           }
          ],
          "scatterpolargl": [
           {
            "marker": {
             "colorbar": {
              "outlinewidth": 0,
              "ticks": ""
             }
            },
            "type": "scatterpolargl"
           }
          ],
          "scatterternary": [
           {
            "marker": {
             "colorbar": {
              "outlinewidth": 0,
              "ticks": ""
             }
            },
            "type": "scatterternary"
           }
          ],
          "surface": [
           {
            "colorbar": {
             "outlinewidth": 0,
             "ticks": ""
            },
            "colorscale": [
             [
              0,
              "#0d0887"
             ],
             [
              0.1111111111111111,
              "#46039f"
             ],
             [
              0.2222222222222222,
              "#7201a8"
             ],
             [
              0.3333333333333333,
              "#9c179e"
             ],
             [
              0.4444444444444444,
              "#bd3786"
             ],
             [
              0.5555555555555556,
              "#d8576b"
             ],
             [
              0.6666666666666666,
              "#ed7953"
             ],
             [
              0.7777777777777778,
              "#fb9f3a"
             ],
             [
              0.8888888888888888,
              "#fdca26"
             ],
             [
              1,
              "#f0f921"
             ]
            ],
            "type": "surface"
           }
          ],
          "table": [
           {
            "cells": {
             "fill": {
              "color": "#EBF0F8"
             },
             "line": {
              "color": "white"
             }
            },
            "header": {
             "fill": {
              "color": "#C8D4E3"
             },
             "line": {
              "color": "white"
             }
            },
            "type": "table"
           }
          ]
         },
         "layout": {
          "annotationdefaults": {
           "arrowcolor": "#2a3f5f",
           "arrowhead": 0,
           "arrowwidth": 1
          },
          "autotypenumbers": "strict",
          "coloraxis": {
           "colorbar": {
            "outlinewidth": 0,
            "ticks": ""
           }
          },
          "colorscale": {
           "diverging": [
            [
             0,
             "#8e0152"
            ],
            [
             0.1,
             "#c51b7d"
            ],
            [
             0.2,
             "#de77ae"
            ],
            [
             0.3,
             "#f1b6da"
            ],
            [
             0.4,
             "#fde0ef"
            ],
            [
             0.5,
             "#f7f7f7"
            ],
            [
             0.6,
             "#e6f5d0"
            ],
            [
             0.7,
             "#b8e186"
            ],
            [
             0.8,
             "#7fbc41"
            ],
            [
             0.9,
             "#4d9221"
            ],
            [
             1,
             "#276419"
            ]
           ],
           "sequential": [
            [
             0,
             "#0d0887"
            ],
            [
             0.1111111111111111,
             "#46039f"
            ],
            [
             0.2222222222222222,
             "#7201a8"
            ],
            [
             0.3333333333333333,
             "#9c179e"
            ],
            [
             0.4444444444444444,
             "#bd3786"
            ],
            [
             0.5555555555555556,
             "#d8576b"
            ],
            [
             0.6666666666666666,
             "#ed7953"
            ],
            [
             0.7777777777777778,
             "#fb9f3a"
            ],
            [
             0.8888888888888888,
             "#fdca26"
            ],
            [
             1,
             "#f0f921"
            ]
           ],
           "sequentialminus": [
            [
             0,
             "#0d0887"
            ],
            [
             0.1111111111111111,
             "#46039f"
            ],
            [
             0.2222222222222222,
             "#7201a8"
            ],
            [
             0.3333333333333333,
             "#9c179e"
            ],
            [
             0.4444444444444444,
             "#bd3786"
            ],
            [
             0.5555555555555556,
             "#d8576b"
            ],
            [
             0.6666666666666666,
             "#ed7953"
            ],
            [
             0.7777777777777778,
             "#fb9f3a"
            ],
            [
             0.8888888888888888,
             "#fdca26"
            ],
            [
             1,
             "#f0f921"
            ]
           ]
          },
          "colorway": [
           "#636efa",
           "#EF553B",
           "#00cc96",
           "#ab63fa",
           "#FFA15A",
           "#19d3f3",
           "#FF6692",
           "#B6E880",
           "#FF97FF",
           "#FECB52"
          ],
          "font": {
           "color": "#2a3f5f"
          },
          "geo": {
           "bgcolor": "white",
           "lakecolor": "white",
           "landcolor": "#E5ECF6",
           "showlakes": true,
           "showland": true,
           "subunitcolor": "white"
          },
          "hoverlabel": {
           "align": "left"
          },
          "hovermode": "closest",
          "mapbox": {
           "style": "light"
          },
          "paper_bgcolor": "white",
          "plot_bgcolor": "#E5ECF6",
          "polar": {
           "angularaxis": {
            "gridcolor": "white",
            "linecolor": "white",
            "ticks": ""
           },
           "bgcolor": "#E5ECF6",
           "radialaxis": {
            "gridcolor": "white",
            "linecolor": "white",
            "ticks": ""
           }
          },
          "scene": {
           "xaxis": {
            "backgroundcolor": "#E5ECF6",
            "gridcolor": "white",
            "gridwidth": 2,
            "linecolor": "white",
            "showbackground": true,
            "ticks": "",
            "zerolinecolor": "white"
           },
           "yaxis": {
            "backgroundcolor": "#E5ECF6",
            "gridcolor": "white",
            "gridwidth": 2,
            "linecolor": "white",
            "showbackground": true,
            "ticks": "",
            "zerolinecolor": "white"
           },
           "zaxis": {
            "backgroundcolor": "#E5ECF6",
            "gridcolor": "white",
            "gridwidth": 2,
            "linecolor": "white",
            "showbackground": true,
            "ticks": "",
            "zerolinecolor": "white"
           }
          },
          "shapedefaults": {
           "line": {
            "color": "#2a3f5f"
           }
          },
          "ternary": {
           "aaxis": {
            "gridcolor": "white",
            "linecolor": "white",
            "ticks": ""
           },
           "baxis": {
            "gridcolor": "white",
            "linecolor": "white",
            "ticks": ""
           },
           "bgcolor": "#E5ECF6",
           "caxis": {
            "gridcolor": "white",
            "linecolor": "white",
            "ticks": ""
           }
          },
          "title": {
           "x": 0.05
          },
          "xaxis": {
           "automargin": true,
           "gridcolor": "white",
           "linecolor": "white",
           "ticks": "",
           "title": {
            "standoff": 15
           },
           "zerolinecolor": "white",
           "zerolinewidth": 2
          },
          "yaxis": {
           "automargin": true,
           "gridcolor": "white",
           "linecolor": "white",
           "ticks": "",
           "title": {
            "standoff": 15
           },
           "zerolinecolor": "white",
           "zerolinewidth": 2
          }
         }
        },
        "title": {
         "text": "Optimization History Plot"
        },
        "xaxis": {
         "title": {
          "text": "Trial"
         }
        },
        "yaxis": {
         "title": {
          "text": "Objective Value"
         }
        }
       }
      }
     },
     "metadata": {},
     "output_type": "display_data"
    }
   ],
   "source": [
    "# Create study object and perform optimization\n",
    "study = optuna.create_study(direction='minimize')\n",
    "study.optimize(objective, n_trials=20)  \n",
    "\n",
    "# Best hyperparameters\n",
    "best_hyperparams = study.best_trial.params\n",
    "print('Best hyperparameters:', best_hyperparams)\n",
    "\n",
    "# Plot optimization history\n",
    "optimization_history = plot_optimization_history(study)\n",
    "optimization_history.show()"
   ]
  },
  {
   "cell_type": "markdown",
   "metadata": {},
   "source": [
    "### Best hyperparameters: {'learning_rate': 5.436126855086457e-05, 'hidden_size': 1024, 'num_layers': 5, 'dropout_rate': 0.3465890939897649}"
   ]
  },
  {
   "cell_type": "markdown",
   "metadata": {},
   "source": [
    "### Training and Validation"
   ]
  },
  {
   "cell_type": "code",
   "execution_count": 27,
   "metadata": {},
   "outputs": [
    {
     "name": "stdout",
     "output_type": "stream",
     "text": [
      "SoCDNN(\n",
      "  (hidden_layers): ModuleList(\n",
      "    (0): Linear(in_features=7, out_features=1024, bias=True)\n",
      "    (1): Linear(in_features=1024, out_features=512, bias=True)\n",
      "    (2): Linear(in_features=512, out_features=256, bias=True)\n",
      "    (3): Linear(in_features=256, out_features=128, bias=True)\n",
      "    (4): Linear(in_features=128, out_features=64, bias=True)\n",
      "  )\n",
      "  (batch_norm_layers): ModuleList(\n",
      "    (0): BatchNorm1d(1024, eps=1e-05, momentum=0.1, affine=True, track_running_stats=True)\n",
      "    (1): BatchNorm1d(512, eps=1e-05, momentum=0.1, affine=True, track_running_stats=True)\n",
      "    (2): BatchNorm1d(256, eps=1e-05, momentum=0.1, affine=True, track_running_stats=True)\n",
      "    (3): BatchNorm1d(128, eps=1e-05, momentum=0.1, affine=True, track_running_stats=True)\n",
      "    (4): BatchNorm1d(64, eps=1e-05, momentum=0.1, affine=True, track_running_stats=True)\n",
      "  )\n",
      "  (output_layer): Linear(in_features=64, out_features=1, bias=True)\n",
      "  (relu): ReLU()\n",
      "  (dropout): Dropout(p=0.3465890939897649, inplace=False)\n",
      ")\n",
      "Trainable parameters: 709505\n"
     ]
    }
   ],
   "source": [
    "hidden_size = best_hyperparams['hidden_size']\n",
    "num_layers = best_hyperparams['num_layers']\n",
    "dropout = best_hyperparams['dropout_rate']\n",
    "lr = best_hyperparams['learning_rate']\n",
    "\n",
    "# Train the final model with the best hyperparameters\n",
    "model = SoCDNN(input_size=len(FEATURE_COLS), hidden_size=hidden_size, num_layers=num_layers, dropout=dropout).to(device)\n",
    "optimizer = optim.Adam(model.parameters(), lr=lr, weight_decay=0.01)\n",
    "criterion = nn.MSELoss()\n",
    "\n",
    "print(model)\n",
    "total_params = sum(p.numel() for p in model.parameters())\n",
    "print(f\"Trainable parameters: {total_params}\")"
   ]
  },
  {
   "cell_type": "code",
   "execution_count": 28,
   "metadata": {},
   "outputs": [
    {
     "name": "stderr",
     "output_type": "stream",
     "text": [
      "Epoch: 0/50: 100%|██████████| 2786/2786 [03:10<00:00, 14.59it/s]\n"
     ]
    },
    {
     "name": "stdout",
     "output_type": "stream",
     "text": [
      "Epoch 1/50, Train Loss: 0.027617238723884864, Validation Loss: 0.0009116640924617547\n",
      "Time taken for epoch: 190.92825389 seconds\n"
     ]
    },
    {
     "name": "stderr",
     "output_type": "stream",
     "text": [
      "Epoch: 1/50: 100%|██████████| 2786/2786 [03:07<00:00, 14.87it/s]\n"
     ]
    },
    {
     "name": "stdout",
     "output_type": "stream",
     "text": [
      "Epoch 2/50, Train Loss: 0.005153129175465824, Validation Loss: 0.0009005525283290039\n",
      "Time taken for epoch: 187.38775921 seconds\n"
     ]
    },
    {
     "name": "stderr",
     "output_type": "stream",
     "text": [
      "Epoch: 2/50: 100%|██████████| 2786/2786 [03:07<00:00, 14.83it/s]\n"
     ]
    },
    {
     "name": "stdout",
     "output_type": "stream",
     "text": [
      "Epoch 3/50, Train Loss: 0.0039801127348350574, Validation Loss: 0.0009438498823614137\n",
      "Time taken for epoch: 187.89794803 seconds\n"
     ]
    },
    {
     "name": "stderr",
     "output_type": "stream",
     "text": [
      "Epoch: 3/50: 100%|██████████| 2786/2786 [03:09<00:00, 14.74it/s]\n"
     ]
    },
    {
     "name": "stdout",
     "output_type": "stream",
     "text": [
      "Epoch 4/50, Train Loss: 0.003410418856269242, Validation Loss: 0.001239474623789447\n",
      "Time taken for epoch: 189.04871893 seconds\n"
     ]
    },
    {
     "name": "stderr",
     "output_type": "stream",
     "text": [
      "Epoch: 4/50: 100%|██████████| 2786/2786 [02:57<00:00, 15.73it/s]\n"
     ]
    },
    {
     "name": "stdout",
     "output_type": "stream",
     "text": [
      "Epoch 5/50, Train Loss: 0.0031525899558505262, Validation Loss: 0.0011488007299292086\n",
      "Time taken for epoch: 177.06403708 seconds\n"
     ]
    },
    {
     "name": "stderr",
     "output_type": "stream",
     "text": [
      "Epoch: 5/50: 100%|██████████| 2786/2786 [02:58<00:00, 15.58it/s]\n"
     ]
    },
    {
     "name": "stdout",
     "output_type": "stream",
     "text": [
      "Epoch 6/50, Train Loss: 0.0030070599987541313, Validation Loss: 0.0009172583147583946\n",
      "Time taken for epoch: 178.87028122 seconds\n",
      "Early stopping triggered\n"
     ]
    },
    {
     "name": "stderr",
     "output_type": "stream",
     "text": [
      "Epoch: 6/50: 100%|██████████| 2786/2786 [03:16<00:00, 14.15it/s]\n"
     ]
    },
    {
     "name": "stdout",
     "output_type": "stream",
     "text": [
      "Epoch 7/50, Train Loss: 0.002975432737162156, Validation Loss: 0.0008934519522942104\n",
      "Time taken for epoch: 196.95453596 seconds\n",
      "Early stopping triggered\n"
     ]
    },
    {
     "name": "stderr",
     "output_type": "stream",
     "text": [
      "Epoch: 7/50: 100%|██████████| 2786/2786 [03:09<00:00, 14.67it/s]\n"
     ]
    },
    {
     "name": "stdout",
     "output_type": "stream",
     "text": [
      "Epoch 8/50, Train Loss: 0.003217534148064091, Validation Loss: 0.000938382751897332\n",
      "Time taken for epoch: 189.94211984 seconds\n",
      "Early stopping triggered\n"
     ]
    },
    {
     "name": "stderr",
     "output_type": "stream",
     "text": [
      "Epoch: 8/50: 100%|██████████| 2786/2786 [03:01<00:00, 15.38it/s]\n"
     ]
    },
    {
     "name": "stdout",
     "output_type": "stream",
     "text": [
      "Epoch 9/50, Train Loss: 0.003486956667695903, Validation Loss: 0.0009246002302475204\n",
      "Time taken for epoch: 181.18818688 seconds\n",
      "Early stopping triggered\n"
     ]
    },
    {
     "name": "stderr",
     "output_type": "stream",
     "text": [
      "Epoch: 9/50: 100%|██████████| 2786/2786 [03:00<00:00, 15.40it/s]\n"
     ]
    },
    {
     "name": "stdout",
     "output_type": "stream",
     "text": [
      "Epoch 10/50, Train Loss: 0.0034898431849320287, Validation Loss: 0.0010856351275808358\n",
      "Time taken for epoch: 180.95522618 seconds\n",
      "Early stopping triggered\n"
     ]
    },
    {
     "name": "stderr",
     "output_type": "stream",
     "text": [
      "Epoch: 10/50: 100%|██████████| 2786/2786 [03:16<00:00, 14.15it/s]\n"
     ]
    },
    {
     "name": "stdout",
     "output_type": "stream",
     "text": [
      "Epoch 11/50, Train Loss: 0.003496290637933691, Validation Loss: 0.0010144384527147987\n",
      "Time taken for epoch: 196.89114475 seconds\n",
      "Early stopping triggered\n"
     ]
    },
    {
     "name": "stderr",
     "output_type": "stream",
     "text": [
      "Epoch: 11/50: 100%|██████████| 2786/2786 [03:29<00:00, 13.28it/s]\n"
     ]
    },
    {
     "name": "stdout",
     "output_type": "stream",
     "text": [
      "Epoch 12/50, Train Loss: 0.0035002086310241603, Validation Loss: 0.0009433606125009037\n",
      "Time taken for epoch: 209.84884405 seconds\n",
      "Early stopping triggered\n"
     ]
    },
    {
     "name": "stderr",
     "output_type": "stream",
     "text": [
      "Epoch: 12/50: 100%|██████████| 2786/2786 [03:03<00:00, 15.16it/s]\n"
     ]
    },
    {
     "name": "stdout",
     "output_type": "stream",
     "text": [
      "Epoch 13/50, Train Loss: 0.003503824148694159, Validation Loss: 0.0011069542211968354\n",
      "Time taken for epoch: 183.80762696 seconds\n",
      "Early stopping triggered\n"
     ]
    },
    {
     "name": "stderr",
     "output_type": "stream",
     "text": [
      "Epoch: 13/50: 100%|██████████| 2786/2786 [03:00<00:00, 15.41it/s]\n"
     ]
    },
    {
     "name": "stdout",
     "output_type": "stream",
     "text": [
      "Epoch 14/50, Train Loss: 0.0035052338163104315, Validation Loss: 0.0009028802895434738\n",
      "Time taken for epoch: 180.79074621 seconds\n",
      "Early stopping triggered\n"
     ]
    },
    {
     "name": "stderr",
     "output_type": "stream",
     "text": [
      "Epoch: 14/50: 100%|██████████| 2786/2786 [03:27<00:00, 13.44it/s]\n"
     ]
    },
    {
     "name": "stdout",
     "output_type": "stream",
     "text": [
      "Epoch 15/50, Train Loss: 0.0035093913728281674, Validation Loss: 0.001034988964625753\n",
      "Time taken for epoch: 207.27921724 seconds\n",
      "Early stopping triggered\n"
     ]
    },
    {
     "name": "stderr",
     "output_type": "stream",
     "text": [
      "Epoch: 15/50: 100%|██████████| 2786/2786 [03:37<00:00, 12.81it/s]\n"
     ]
    },
    {
     "name": "stdout",
     "output_type": "stream",
     "text": [
      "Epoch 16/50, Train Loss: 0.0035189253400759843, Validation Loss: 0.001199698904021751\n",
      "Time taken for epoch: 217.50000501 seconds\n",
      "Early stopping triggered\n"
     ]
    },
    {
     "name": "stderr",
     "output_type": "stream",
     "text": [
      "Epoch: 16/50: 100%|██████████| 2786/2786 [02:54<00:00, 15.93it/s]\n"
     ]
    },
    {
     "name": "stdout",
     "output_type": "stream",
     "text": [
      "Epoch 17/50, Train Loss: 0.0035111041368023417, Validation Loss: 0.0011367482813029672\n",
      "Time taken for epoch: 174.91953206 seconds\n",
      "Early stopping triggered\n"
     ]
    },
    {
     "name": "stderr",
     "output_type": "stream",
     "text": [
      "Epoch: 17/50: 100%|██████████| 2786/2786 [02:53<00:00, 16.05it/s]\n"
     ]
    },
    {
     "name": "stdout",
     "output_type": "stream",
     "text": [
      "Epoch 18/50, Train Loss: 0.0035107031717631705, Validation Loss: 0.0008686646186337771\n",
      "Time taken for epoch: 173.63495898 seconds\n",
      "Early stopping triggered\n"
     ]
    },
    {
     "name": "stderr",
     "output_type": "stream",
     "text": [
      "Epoch: 18/50: 100%|██████████| 2786/2786 [03:14<00:00, 14.32it/s]\n"
     ]
    },
    {
     "name": "stdout",
     "output_type": "stream",
     "text": [
      "Epoch 19/50, Train Loss: 0.00351219232630704, Validation Loss: 0.0009688484899654078\n",
      "Time taken for epoch: 194.55557585 seconds\n",
      "Early stopping triggered\n"
     ]
    },
    {
     "name": "stderr",
     "output_type": "stream",
     "text": [
      "Epoch: 19/50: 100%|██████████| 2786/2786 [03:31<00:00, 13.15it/s]\n"
     ]
    },
    {
     "name": "stdout",
     "output_type": "stream",
     "text": [
      "Epoch 20/50, Train Loss: 0.0035145318483110126, Validation Loss: 0.0009105833785017577\n",
      "Time taken for epoch: 211.81102180 seconds\n",
      "Early stopping triggered\n"
     ]
    },
    {
     "name": "stderr",
     "output_type": "stream",
     "text": [
      "Epoch: 20/50: 100%|██████████| 2786/2786 [03:16<00:00, 14.19it/s]\n"
     ]
    },
    {
     "name": "stdout",
     "output_type": "stream",
     "text": [
      "Epoch 21/50, Train Loss: 0.0035210350940033408, Validation Loss: 0.0011639674179032627\n",
      "Time taken for epoch: 196.34635973 seconds\n",
      "Early stopping triggered\n"
     ]
    },
    {
     "name": "stderr",
     "output_type": "stream",
     "text": [
      "Epoch: 21/50: 100%|██████████| 2786/2786 [03:26<00:00, 13.46it/s]\n"
     ]
    },
    {
     "name": "stdout",
     "output_type": "stream",
     "text": [
      "Epoch 22/50, Train Loss: 0.003519376573217692, Validation Loss: 0.000967127066066897\n",
      "Time taken for epoch: 206.93989730 seconds\n",
      "Early stopping triggered\n"
     ]
    },
    {
     "name": "stderr",
     "output_type": "stream",
     "text": [
      "Epoch: 22/50: 100%|██████████| 2786/2786 [03:27<00:00, 13.41it/s]\n"
     ]
    },
    {
     "name": "stdout",
     "output_type": "stream",
     "text": [
      "Epoch 23/50, Train Loss: 0.0035158248053467848, Validation Loss: 0.0009324060876931398\n",
      "Time taken for epoch: 207.77627969 seconds\n",
      "Early stopping triggered\n"
     ]
    },
    {
     "name": "stderr",
     "output_type": "stream",
     "text": [
      "Epoch: 23/50: 100%|██████████| 2786/2786 [03:28<00:00, 13.34it/s]\n"
     ]
    },
    {
     "name": "stdout",
     "output_type": "stream",
     "text": [
      "Epoch 24/50, Train Loss: 0.0035120222838869626, Validation Loss: 0.0009346668729477016\n",
      "Time taken for epoch: 208.86643314 seconds\n",
      "Early stopping triggered\n"
     ]
    },
    {
     "name": "stderr",
     "output_type": "stream",
     "text": [
      "Epoch: 24/50: 100%|██████████| 2786/2786 [03:25<00:00, 13.58it/s]\n"
     ]
    },
    {
     "name": "stdout",
     "output_type": "stream",
     "text": [
      "Epoch 25/50, Train Loss: 0.0035184102213312385, Validation Loss: 0.0009653851906104188\n",
      "Time taken for epoch: 205.12524199 seconds\n",
      "Early stopping triggered\n"
     ]
    },
    {
     "name": "stderr",
     "output_type": "stream",
     "text": [
      "Epoch: 25/50: 100%|██████████| 2786/2786 [03:25<00:00, 13.55it/s]\n"
     ]
    },
    {
     "name": "stdout",
     "output_type": "stream",
     "text": [
      "Epoch 26/50, Train Loss: 0.0035129598854510787, Validation Loss: 0.0009529328318439469\n",
      "Time taken for epoch: 205.65852070 seconds\n",
      "Early stopping triggered\n"
     ]
    },
    {
     "name": "stderr",
     "output_type": "stream",
     "text": [
      "Epoch: 26/50: 100%|██████████| 2786/2786 [03:24<00:00, 13.62it/s]\n"
     ]
    },
    {
     "name": "stdout",
     "output_type": "stream",
     "text": [
      "Epoch 27/50, Train Loss: 0.0035213976029583437, Validation Loss: 0.0008742944399584553\n",
      "Time taken for epoch: 204.51301813 seconds\n",
      "Early stopping triggered\n"
     ]
    },
    {
     "name": "stderr",
     "output_type": "stream",
     "text": [
      "Epoch: 27/50: 100%|██████████| 2786/2786 [03:23<00:00, 13.69it/s]\n"
     ]
    },
    {
     "name": "stdout",
     "output_type": "stream",
     "text": [
      "Epoch 28/50, Train Loss: 0.003528610062825561, Validation Loss: 0.0009180598274587021\n",
      "Time taken for epoch: 203.55935287 seconds\n",
      "Early stopping triggered\n"
     ]
    },
    {
     "name": "stderr",
     "output_type": "stream",
     "text": [
      "Epoch: 28/50: 100%|██████████| 2786/2786 [03:28<00:00, 13.35it/s]\n"
     ]
    },
    {
     "name": "stdout",
     "output_type": "stream",
     "text": [
      "Epoch 29/50, Train Loss: 0.003519795346625379, Validation Loss: 0.0008795536806597554\n",
      "Time taken for epoch: 208.64262605 seconds\n",
      "Early stopping triggered\n"
     ]
    },
    {
     "name": "stderr",
     "output_type": "stream",
     "text": [
      "Epoch: 29/50: 100%|██████████| 2786/2786 [03:27<00:00, 13.42it/s]\n"
     ]
    },
    {
     "name": "stdout",
     "output_type": "stream",
     "text": [
      "Epoch 30/50, Train Loss: 0.0035270707302694046, Validation Loss: 0.0008933832569026092\n",
      "Time taken for epoch: 207.61957622 seconds\n",
      "Early stopping triggered\n"
     ]
    },
    {
     "name": "stderr",
     "output_type": "stream",
     "text": [
      "Epoch: 30/50: 100%|██████████| 2786/2786 [03:25<00:00, 13.56it/s]\n"
     ]
    },
    {
     "name": "stdout",
     "output_type": "stream",
     "text": [
      "Epoch 31/50, Train Loss: 0.003516574159992641, Validation Loss: 0.0008563085709600677\n",
      "Time taken for epoch: 205.47901702 seconds\n",
      "Early stopping triggered\n"
     ]
    },
    {
     "name": "stderr",
     "output_type": "stream",
     "text": [
      "Epoch: 31/50: 100%|██████████| 2786/2786 [03:24<00:00, 13.60it/s]\n"
     ]
    },
    {
     "name": "stdout",
     "output_type": "stream",
     "text": [
      "Epoch 32/50, Train Loss: 0.003524168120223791, Validation Loss: 0.0009101661687572907\n",
      "Time taken for epoch: 204.79768014 seconds\n",
      "Early stopping triggered\n"
     ]
    },
    {
     "name": "stderr",
     "output_type": "stream",
     "text": [
      "Epoch: 32/50: 100%|██████████| 2786/2786 [03:25<00:00, 13.58it/s]\n"
     ]
    },
    {
     "name": "stdout",
     "output_type": "stream",
     "text": [
      "Epoch 33/50, Train Loss: 0.003528616204339682, Validation Loss: 0.0007954363031251481\n",
      "Time taken for epoch: 205.12893915 seconds\n"
     ]
    },
    {
     "name": "stderr",
     "output_type": "stream",
     "text": [
      "Epoch: 33/50: 100%|██████████| 2786/2786 [02:49<00:00, 16.40it/s]\n"
     ]
    },
    {
     "name": "stdout",
     "output_type": "stream",
     "text": [
      "Epoch 34/50, Train Loss: 0.00352081934640977, Validation Loss: 0.0009212656249666337\n",
      "Time taken for epoch: 169.93155980 seconds\n"
     ]
    },
    {
     "name": "stderr",
     "output_type": "stream",
     "text": [
      "Epoch: 34/50: 100%|██████████| 2786/2786 [02:48<00:00, 16.54it/s]\n"
     ]
    },
    {
     "name": "stdout",
     "output_type": "stream",
     "text": [
      "Epoch 35/50, Train Loss: 0.003524042294398806, Validation Loss: 0.001080075030244122\n",
      "Time taken for epoch: 168.44654799 seconds\n"
     ]
    },
    {
     "name": "stderr",
     "output_type": "stream",
     "text": [
      "Epoch: 35/50: 100%|██████████| 2786/2786 [02:49<00:00, 16.45it/s]\n"
     ]
    },
    {
     "name": "stdout",
     "output_type": "stream",
     "text": [
      "Epoch 36/50, Train Loss: 0.0035265975274755344, Validation Loss: 0.0009252008205961255\n",
      "Time taken for epoch: 169.33848619 seconds\n"
     ]
    },
    {
     "name": "stderr",
     "output_type": "stream",
     "text": [
      "Epoch: 36/50: 100%|██████████| 2786/2786 [03:23<00:00, 13.68it/s]\n"
     ]
    },
    {
     "name": "stdout",
     "output_type": "stream",
     "text": [
      "Epoch 37/50, Train Loss: 0.003531701293020467, Validation Loss: 0.0009802417127984433\n",
      "Time taken for epoch: 203.61997890 seconds\n"
     ]
    },
    {
     "name": "stderr",
     "output_type": "stream",
     "text": [
      "Epoch: 37/50: 100%|██████████| 2786/2786 [03:26<00:00, 13.46it/s]\n"
     ]
    },
    {
     "name": "stdout",
     "output_type": "stream",
     "text": [
      "Epoch 38/50, Train Loss: 0.003524382840053092, Validation Loss: 0.0008497531304278841\n",
      "Time taken for epoch: 206.99827194 seconds\n",
      "Early stopping triggered\n"
     ]
    },
    {
     "name": "stderr",
     "output_type": "stream",
     "text": [
      "Epoch: 38/50: 100%|██████████| 2786/2786 [03:27<00:00, 13.43it/s]\n"
     ]
    },
    {
     "name": "stdout",
     "output_type": "stream",
     "text": [
      "Epoch 39/50, Train Loss: 0.0035350264314320057, Validation Loss: 0.0008857894851421372\n",
      "Time taken for epoch: 207.42439818 seconds\n",
      "Early stopping triggered\n"
     ]
    },
    {
     "name": "stderr",
     "output_type": "stream",
     "text": [
      "Epoch: 39/50: 100%|██████████| 2786/2786 [03:28<00:00, 13.39it/s]\n"
     ]
    },
    {
     "name": "stdout",
     "output_type": "stream",
     "text": [
      "Epoch 40/50, Train Loss: 0.003523441277777312, Validation Loss: 0.0008828875050001682\n",
      "Time taken for epoch: 208.12367392 seconds\n",
      "Early stopping triggered\n"
     ]
    },
    {
     "name": "stderr",
     "output_type": "stream",
     "text": [
      "Epoch: 40/50: 100%|██████████| 2786/2786 [03:37<00:00, 12.79it/s]\n"
     ]
    },
    {
     "name": "stdout",
     "output_type": "stream",
     "text": [
      "Epoch 41/50, Train Loss: 0.003534671676004866, Validation Loss: 0.001016992567347315\n",
      "Time taken for epoch: 217.84620190 seconds\n",
      "Early stopping triggered\n"
     ]
    },
    {
     "name": "stderr",
     "output_type": "stream",
     "text": [
      "Epoch: 41/50: 100%|██████████| 2786/2786 [04:04<00:00, 11.41it/s]\n"
     ]
    },
    {
     "name": "stdout",
     "output_type": "stream",
     "text": [
      "Epoch 42/50, Train Loss: 0.0035300926671063223, Validation Loss: 0.001033108786443078\n",
      "Time taken for epoch: 244.09709477 seconds\n",
      "Early stopping triggered\n"
     ]
    },
    {
     "name": "stderr",
     "output_type": "stream",
     "text": [
      "Epoch: 42/50: 100%|██████████| 2786/2786 [03:29<00:00, 13.31it/s]\n"
     ]
    },
    {
     "name": "stdout",
     "output_type": "stream",
     "text": [
      "Epoch 43/50, Train Loss: 0.003524878250845499, Validation Loss: 0.0011750663150408697\n",
      "Time taken for epoch: 209.32361007 seconds\n",
      "Early stopping triggered\n"
     ]
    },
    {
     "name": "stderr",
     "output_type": "stream",
     "text": [
      "Epoch: 43/50: 100%|██████████| 2786/2786 [03:23<00:00, 13.67it/s]\n"
     ]
    },
    {
     "name": "stdout",
     "output_type": "stream",
     "text": [
      "Epoch 44/50, Train Loss: 0.003525974664302932, Validation Loss: 0.000979667796599049\n",
      "Time taken for epoch: 203.80578876 seconds\n",
      "Early stopping triggered\n"
     ]
    },
    {
     "name": "stderr",
     "output_type": "stream",
     "text": [
      "Epoch: 44/50: 100%|██████████| 2786/2786 [03:26<00:00, 13.51it/s]\n"
     ]
    },
    {
     "name": "stdout",
     "output_type": "stream",
     "text": [
      "Epoch 45/50, Train Loss: 0.003530541667881858, Validation Loss: 0.0009917398042255162\n",
      "Time taken for epoch: 206.19111705 seconds\n",
      "Early stopping triggered\n"
     ]
    },
    {
     "name": "stderr",
     "output_type": "stream",
     "text": [
      "Epoch: 45/50: 100%|██████████| 2786/2786 [03:24<00:00, 13.59it/s]\n"
     ]
    },
    {
     "name": "stdout",
     "output_type": "stream",
     "text": [
      "Epoch 46/50, Train Loss: 0.003522887395153976, Validation Loss: 0.000994910649466597\n",
      "Time taken for epoch: 204.95964718 seconds\n",
      "Early stopping triggered\n"
     ]
    },
    {
     "name": "stderr",
     "output_type": "stream",
     "text": [
      "Epoch: 46/50: 100%|██████████| 2786/2786 [03:26<00:00, 13.49it/s]\n"
     ]
    },
    {
     "name": "stdout",
     "output_type": "stream",
     "text": [
      "Epoch 47/50, Train Loss: 0.0035207538813023646, Validation Loss: 0.0009167462473765851\n",
      "Time taken for epoch: 206.54935193 seconds\n",
      "Early stopping triggered\n"
     ]
    },
    {
     "name": "stderr",
     "output_type": "stream",
     "text": [
      "Epoch: 47/50: 100%|██████████| 2786/2786 [03:25<00:00, 13.57it/s]\n"
     ]
    },
    {
     "name": "stdout",
     "output_type": "stream",
     "text": [
      "Epoch 48/50, Train Loss: 0.0035222669125200977, Validation Loss: 0.0010381743531160021\n",
      "Time taken for epoch: 205.32651806 seconds\n",
      "Early stopping triggered\n"
     ]
    },
    {
     "name": "stderr",
     "output_type": "stream",
     "text": [
      "Epoch: 48/50: 100%|██████████| 2786/2786 [03:24<00:00, 13.60it/s]\n"
     ]
    },
    {
     "name": "stdout",
     "output_type": "stream",
     "text": [
      "Epoch 49/50, Train Loss: 0.0035299092836407926, Validation Loss: 0.0008719479230751428\n",
      "Time taken for epoch: 204.82234597 seconds\n",
      "Early stopping triggered\n"
     ]
    },
    {
     "name": "stderr",
     "output_type": "stream",
     "text": [
      "Epoch: 49/50: 100%|██████████| 2786/2786 [03:23<00:00, 13.66it/s]\n"
     ]
    },
    {
     "name": "stdout",
     "output_type": "stream",
     "text": [
      "Epoch 50/50, Train Loss: 0.003528994737826127, Validation Loss: 0.001048374791667331\n",
      "Time taken for epoch: 203.96339393 seconds\n",
      "Early stopping triggered\n"
     ]
    },
    {
     "data": {
      "image/png": "[encoded data removed]",
      "text/plain": [
       "<Figure size 1000x500 with 1 Axes>"
      ]
     },
     "metadata": {},
     "output_type": "display_data"
    }
   ],
   "source": [
    "EPOCHS = 50\n",
    "history = train_and_validate(model, criterion, optimizer, train_loader, val_loader, EPOCHS, device)\n",
    "\n",
    "# Plot training history\n",
    "plt.figure(figsize=(10, 5))\n",
    "plt.plot(history['train_loss'], label='Train Loss')\n",
    "plt.plot(history['val_loss'], label='Validation Loss')\n",
    "plt.xlabel('Epoch')\n",
    "plt.ylabel('Loss')\n",
    "plt.title('Training and Validation Loss Over Epochs')\n",
    "plt.legend()\n",
    "plt.grid(True)\n",
    "plt.show()\n",
    "\n",
    "# Save the model\n",
    "model_path = \"soc_dnn_model.pth\"\n",
    "torch.save({'model_state_dict': model.state_dict(), 'input_size': len(FEATURE_COLS)}, model_path)"
   ]
  },
  {
   "cell_type": "markdown",
   "metadata": {},
   "source": [
    "### Testing"
   ]
  },
  {
   "cell_type": "code",
   "execution_count": 29,
   "metadata": {},
   "outputs": [],
   "source": [
    "model_path = \"soc_dnn_model.pth\"\n",
    "\n",
    "def load_model(model_path, input_size):\n",
    "    model = SoCDNN(input_size=len(FEATURE_COLS), hidden_size=hidden_size, num_layers=num_layers, dropout=dropout).to(device)\n",
    "    model.load_state_dict(torch.load(model_path, map_location=device)['model_state_dict'])\n",
    "    model.to(device)\n",
    "    model.eval()\n",
    "    return model\n",
    "\n",
    "loaded_model = load_model(model_path, len(FEATURE_COLS))"
   ]
  },
  {
   "cell_type": "code",
   "execution_count": 30,
   "metadata": {},
   "outputs": [],
   "source": [
    "def test_model(model, test_loader, device):\n",
    "    model.eval()\n",
    "    test_predictions = []\n",
    "    test_labels = []\n",
    "\n",
    "    with torch.no_grad():\n",
    "        for inputs, labels, _, _ in test_loader: \n",
    "            inputs, labels = inputs.to(device), labels.to(device)\n",
    "            outputs = model(inputs)\n",
    "            test_predictions.extend(outputs.cpu().view(-1).tolist())\n",
    "            test_labels.extend(labels.cpu().view(-1).tolist())\n",
    "\n",
    "    return test_predictions, test_labels\n",
    "\n",
    "# Evaluate the model\n",
    "test_predictions, test_labels = test_model(loaded_model, test_loader, device)\n",
    "\n",
    "# Convert predictions and labels to numpy arrays for error calculation\n",
    "test_predictions_np = np.array(test_predictions)\n",
    "test_labels_np = np.array(test_labels)"
   ]
  },
  {
   "cell_type": "code",
   "execution_count": 31,
   "metadata": {},
   "outputs": [
    {
     "name": "stdout",
     "output_type": "stream",
     "text": [
      "Test MSE: 0.001864\n",
      "Test MAE: 0.030187\n",
      "Test StdDev: 0.040522\n"
     ]
    }
   ],
   "source": [
    "# Calculate metrics MAE, MSE, STD\n",
    "mse = mean_squared_error(test_labels_np, test_predictions_np)\n",
    "mae = mean_absolute_error(test_labels_np, test_predictions_np)\n",
    "stddev = np.std(test_labels_np - test_predictions_np)\n",
    "\n",
    "print(f\"Test MSE: {mse:.6f}\")\n",
    "print(f\"Test MAE: {mae:.6f}\")\n",
    "print(f\"Test StdDev: {stddev:.6f}\")"
   ]
  },
  {
   "cell_type": "code",
   "execution_count": 34,
   "metadata": {},
   "outputs": [
    {
     "data": {
      "image/png": "[encoded data removed]",
      "text/plain": [
       "<Figure size 800x800 with 1 Axes>"
      ]
     },
     "metadata": {},
     "output_type": "display_data"
    }
   ],
   "source": [
    "plt.figure(figsize=(8, 8))\n",
    "plt.scatter(test_labels, test_predictions, alpha=0.5)\n",
    "plt.xlabel('True Values [SOC]')\n",
    "plt.ylabel('Predictions [SOC]')\n",
    "plt.axis('equal')\n",
    "plt.axis('square')\n",
    "plt.xlim([0, 1])\n",
    "plt.ylim([0, 1])\n",
    "plt.plot([0, 1], [0, 1], color='red') \n",
    "plt.title('Predicted SOC vs True SOC')\n",
    "plt.show()"
   ]
  },
  {
   "cell_type": "markdown",
   "metadata": {},
   "source": [
    "### Qualitative Comparison"
   ]
  },
  {
   "cell_type": "code",
   "execution_count": 33,
   "metadata": {},
   "outputs": [
    {
     "data": {
      "image/png": "[encoded data removed]",
      "text/plain": [
       "<Figure size 1200x600 with 1 Axes>"
      ]
     },
     "metadata": {},
     "output_type": "display_data"
    },
    {
     "data": {
      "image/png": "[encoded data removed]",
      "text/plain": [
       "<Figure size 1200x600 with 1 Axes>"
      ]
     },
     "metadata": {},
     "output_type": "display_data"
    },
    {
     "data": {
      "image/png": "[encoded data removed]",
      "text/plain": [
       "<Figure size 1200x600 with 1 Axes>"
      ]
     },
     "metadata": {},
     "output_type": "display_data"
    },
    {
     "data": {
      "image/png": "[encoded data removed]",
      "text/plain": [
       "<Figure size 1200x600 with 1 Axes>"
      ]
     },
     "metadata": {},
     "output_type": "display_data"
    },
    {
     "data": {
      "image/png": "[encoded data removed]",
      "text/plain": [
       "<Figure size 1200x600 with 1 Axes>"
      ]
     },
     "metadata": {},
     "output_type": "display_data"
    }
   ],
   "source": [
    "def test_model(model, test_loader, device):\n",
    "    model.eval()\n",
    "    test_results = {}\n",
    "\n",
    "    with torch.no_grad():\n",
    "        for inputs, labels, filenames, times in test_loader: \n",
    "            inputs, labels = inputs.to(device), labels.to(device)\n",
    "            outputs = model(inputs)\n",
    "            predictions = outputs.cpu().view(-1).numpy()\n",
    "            labels = labels.cpu().view(-1).numpy()\n",
    "\n",
    "            for filename, time, pred, label in zip(filenames, times, predictions, labels):\n",
    "                if filename not in test_results:\n",
    "                    test_results[filename] = {'times': [], 'predictions': [], 'labels': []}\n",
    "                test_results[filename]['times'].append(time)\n",
    "                test_results[filename]['predictions'].append(pred)\n",
    "                test_results[filename]['labels'].append(label)\n",
    "\n",
    "    return test_results\n",
    "\n",
    "def plot_soc_over_time(test_results):\n",
    "    for filename, data in test_results.items():\n",
    "        times = data['times']\n",
    "        predictions = data['predictions']\n",
    "        labels = data['labels']\n",
    "\n",
    "        plt.figure(figsize=(12, 6))\n",
    "        plt.plot(times, labels, label='True SOC', color='blue')\n",
    "        plt.plot(times, predictions, label='Predicted SOC', color='red')\n",
    "        plt.title(f'Test File: {filename}')\n",
    "        plt.xlabel('Time [s]')\n",
    "        plt.ylabel('SOC')\n",
    "        plt.legend()\n",
    "        plt.show()\n",
    "\n",
    "# Evaluate the model on the test set\n",
    "test_results = test_model(loaded_model, test_loader, device)\n",
    "\n",
    "# Plot the SOC over time for each test file\n",
    "plot_soc_over_time(test_results)"
   ]
  }
 ],
 "metadata": {
  "kernelspec": {
   "display_name": "Python 3",
   "language": "python",
   "name": "python3"
  },
  "language_info": {
   "codemirror_mode": {
    "name": "ipython",
    "version": 3
   },
   "file_extension": ".py",
   "mimetype": "text/x-python",
   "name": "python",
   "nbconvert_exporter": "python",
   "pygments_lexer": "ipython3",
   "version": "3.9.6"
  }
 },
 "nbformat": 4,
 "nbformat_minor": 2
}
