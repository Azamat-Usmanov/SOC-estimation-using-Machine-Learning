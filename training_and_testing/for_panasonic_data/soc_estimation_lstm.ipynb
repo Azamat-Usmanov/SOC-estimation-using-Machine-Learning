{
 "cells": [
  {
   "cell_type": "markdown",
   "metadata": {},
   "source": [
    "### LSTM (Long-short time memory) model for SOC prediction with using Panasonic 18650PF Li-ion Battery "
   ]
  },
  {
   "cell_type": "code",
   "execution_count": 2,
   "metadata": {},
   "outputs": [],
   "source": [
    "import os\n",
    "import pandas as pd\n",
    "import numpy as np\n",
    "import torch\n",
    "import torch.nn as nn\n",
    "import torch.optim as optim\n",
    "from torch.utils.data import Dataset, DataLoader\n",
    "import matplotlib.pyplot as plt\n",
    "from sklearn.model_selection import train_test_split\n",
    "from sklearn.preprocessing import StandardScaler\n",
    "import optuna\n",
    "import time\n",
    "from optuna.visualization import plot_optimization_history\n",
    "from tqdm import tqdm\n",
    "from sklearn.metrics import mean_squared_error, mean_absolute_error"
   ]
  },
  {
   "cell_type": "code",
   "execution_count": 3,
   "metadata": {},
   "outputs": [],
   "source": [
    "PROCESSED_DATA_DIR = '../../datasets/Panasonic_dataset/Panasonic_processed'\n",
    "FEATURE_COLS = ['Voltage [V]', 'Current [A]', 'Temperature [degC]', 'Power [W]', 'Current Average', 'Voltage Average', 'Cumulative_Capacity_Ah']\n",
    "LABEL_COL = 'SOC [-]'\n",
    "BATCH_SIZE = 2048\n",
    "SEQUENCE_LENGTH = 20  \n",
    "device = torch.device(\"cuda:0\" if torch.cuda.is_available() else \"cpu\")"
   ]
  },
  {
   "cell_type": "code",
   "execution_count": 4,
   "metadata": {},
   "outputs": [],
   "source": [
    "# Function to load data\n",
    "def load_data(directory, temperatures):\n",
    "    frames = []    \n",
    "    for temp_folder in os.listdir(directory):\n",
    "        if temp_folder in temperatures:\n",
    "            temp_path = os.path.join(directory, temp_folder)\n",
    "            for file in os.listdir(temp_path):\n",
    "                if 'Charge' in file or 'Dis' in file:\n",
    "                    continue  # Skip constant charge and discharge files\n",
    "                if file.endswith('.csv'):\n",
    "                    df = pd.read_csv(os.path.join(temp_path, file))\n",
    "                    df['SourceFile'] = file\n",
    "\n",
    "                    # Calculate power\n",
    "                    df['Power [W]'] = df['Voltage [V]'] * df['Current [A]']\n",
    "                    \n",
    "                    frames.append(df)\n",
    "    return pd.concat(frames, ignore_index=True)"
   ]
  },
  {
   "cell_type": "code",
   "execution_count": 5,
   "metadata": {},
   "outputs": [],
   "source": [
    "# Custom dataset class for LSTM\n",
    "class BatteryDatasetLSTM(Dataset):\n",
    "    def __init__(self, data_tensor, labels_tensor, sequence_length=50, filenames=None, times=None):\n",
    "        self.sequence_length = sequence_length\n",
    "        self.features = data_tensor\n",
    "        self.labels = labels_tensor\n",
    "        self.filenames = filenames \n",
    "        self.times = times \n",
    "\n",
    "    def __len__(self):\n",
    "        return len(self.features) - self.sequence_length\n",
    "\n",
    "    def __getitem__(self, idx):\n",
    "        idx_end = idx + self.sequence_length\n",
    "        sequence = self.features[idx:idx_end]\n",
    "        label = self.labels[idx_end - 1]\n",
    "        filename = self.filenames[idx_end - 1]\n",
    "        time = self.times[idx_end - 1]  \n",
    "\n",
    "        sequence = sequence.clone().detach()\n",
    "        label = label.clone().detach()\n",
    "\n",
    "        return sequence, label, filename, time\n",
    "    \n",
    "    def get_unique_filenames(self):\n",
    "        return set(self.filenames)\n",
    "    \n",
    "    def get_times(self):\n",
    "        return self.times"
   ]
  },
  {
   "cell_type": "code",
   "execution_count": 6,
   "metadata": {},
   "outputs": [],
   "source": [
    "# SoCLSTM Model\n",
    "class SoCLSTM(nn.Module):\n",
    "    def __init__(self, input_size, hidden_size, num_layers):\n",
    "        super(SoCLSTM, self).__init__()\n",
    "        self.hidden_size = hidden_size\n",
    "        self.num_layers = num_layers\n",
    "        self.lstm = nn.LSTM(input_size, hidden_size, num_layers, batch_first=True)\n",
    "        self.fc = nn.Linear(hidden_size, 1)\n",
    "\n",
    "    def forward(self, x):\n",
    "        h0 = torch.zeros(self.num_layers, x.size(0), self.hidden_size, dtype=x.dtype, device=x.device)\n",
    "        c0 = torch.zeros(self.num_layers, x.size(0), self.hidden_size, dtype=x.dtype, device=x.device)\n",
    "        out, _ = self.lstm(x, (h0, c0))\n",
    "        out = self.fc(out[:, -1, :])\n",
    "        return out"
   ]
  },
  {
   "cell_type": "code",
   "execution_count": 7,
   "metadata": {},
   "outputs": [],
   "source": [
    "# Training loop with validation\n",
    "def train_and_validate(model, criterion, optimizer, train_loader, val_loader, epochs, device, patience=5, min_delta=0.0001, flag=False):\n",
    "    history = {'train_loss': [], 'val_loss': []}\n",
    "\n",
    "    best_val_loss = float('inf')\n",
    "    epochs_no_improve = 0\n",
    "    \n",
    "    for epoch in range(epochs):\n",
    "        model.train()\n",
    "        train_loss = 0.0\n",
    "        epoch_start_time = time.time()\n",
    "        for _, (sequences, labels, _, _) in enumerate(tqdm(train_loader, desc=f'Epoch: {epoch}/{epochs}')):  \n",
    "            sequences, labels = sequences.to(device), labels.to(device)\n",
    "            labels = labels.unsqueeze(1) \n",
    "            optimizer.zero_grad()\n",
    "            outputs = model(sequences)\n",
    "            loss = criterion(outputs, labels)\n",
    "            loss.backward()\n",
    "            optimizer.step()\n",
    "            train_loss += loss.item()\n",
    "        \n",
    "        epoch_end_time = time.time()\n",
    "        epoch_time = epoch_end_time - epoch_start_time\n",
    "        train_loss /= len(train_loader)\n",
    "        history['train_loss'].append(train_loss)\n",
    "\n",
    "        model.eval()\n",
    "        val_loss = 0.0\n",
    "        with torch.no_grad():\n",
    "            for sequences, labels, _, _ in val_loader:  \n",
    "                sequences, labels = sequences.to(device), labels.to(device)\n",
    "                labels = labels.unsqueeze(1)  \n",
    "                outputs = model(sequences)\n",
    "                loss = criterion(outputs, labels)\n",
    "                val_loss += loss.item()\n",
    "\n",
    "        val_loss /= len(val_loader)\n",
    "        history['val_loss'].append(val_loss)\n",
    "\n",
    "        # Early stopping logic\n",
    "        if val_loss < best_val_loss - min_delta:\n",
    "            best_val_loss = val_loss\n",
    "            epochs_no_improve = 0\n",
    "        else:\n",
    "            epochs_no_improve += 1\n",
    "\n",
    "        print(f'Epoch {epoch + 1}/{epochs}, Train Loss: {train_loss}, Validation Loss: {val_loss}')\n",
    "        print(f'Time taken for epoch: {epoch_time:.8f} seconds')\n",
    "        \n",
    "        if flag:\n",
    "            model_path = \"soc_lstm_model.pth\"\n",
    "            torch.save({'model_state_dict': model.state_dict(), 'input_size': len(FEATURE_COLS)}, model_path)\n",
    "        if epochs_no_improve >= patience:\n",
    "            print('Early stopping triggered')\n",
    "            #break\n",
    "\n",
    "    return history"
   ]
  },
  {
   "cell_type": "code",
   "execution_count": 8,
   "metadata": {},
   "outputs": [],
   "source": [
    "temperatures_to_process = [folder for folder in os.listdir(PROCESSED_DATA_DIR) if 'degC' in folder]"
   ]
  },
  {
   "cell_type": "code",
   "execution_count": 9,
   "metadata": {},
   "outputs": [
    {
     "data": {
      "text/html": [
       "<div>\n",
       "<style scoped>\n",
       "    .dataframe tbody tr th:only-of-type {\n",
       "        vertical-align: middle;\n",
       "    }\n",
       "\n",
       "    .dataframe tbody tr th {\n",
       "        vertical-align: top;\n",
       "    }\n",
       "\n",
       "    .dataframe thead th {\n",
       "        text-align: right;\n",
       "    }\n",
       "</style>\n",
       "<table border=\"1\" class=\"dataframe\">\n",
       "  <thead>\n",
       "    <tr style=\"text-align: right;\">\n",
       "      <th></th>\n",
       "      <th>Timestamp</th>\n",
       "      <th>Time [s]</th>\n",
       "      <th>Voltage [V]</th>\n",
       "      <th>Current [A]</th>\n",
       "      <th>Temperature [degC]</th>\n",
       "      <th>Capacity [Ah]</th>\n",
       "      <th>Voltage Average</th>\n",
       "      <th>Current Average</th>\n",
       "      <th>Time_diff</th>\n",
       "      <th>Cumulative_Capacity_Ah</th>\n",
       "      <th>SOC [-]</th>\n",
       "      <th>SourceFile</th>\n",
       "      <th>Power [W]</th>\n",
       "    </tr>\n",
       "  </thead>\n",
       "  <tbody>\n",
       "    <tr>\n",
       "      <th>0</th>\n",
       "      <td>2017-05-30 12:56:50</td>\n",
       "      <td>50.000996</td>\n",
       "      <td>3.95155</td>\n",
       "      <td>-1.21840</td>\n",
       "      <td>0.539533</td>\n",
       "      <td>-0.01341</td>\n",
       "      <td>3.990077</td>\n",
       "      <td>-0.962472</td>\n",
       "      <td>0.000029</td>\n",
       "      <td>-0.013320</td>\n",
       "      <td>0.994895</td>\n",
       "      <td>05-30-17_12.56 0degC_Cycle_1_Pan18650PF_proces...</td>\n",
       "      <td>-4.814569</td>\n",
       "    </tr>\n",
       "    <tr>\n",
       "      <th>1</th>\n",
       "      <td>2017-05-30 12:56:50</td>\n",
       "      <td>50.100000</td>\n",
       "      <td>3.93868</td>\n",
       "      <td>-1.38009</td>\n",
       "      <td>0.539533</td>\n",
       "      <td>-0.01345</td>\n",
       "      <td>3.989822</td>\n",
       "      <td>-0.961564</td>\n",
       "      <td>0.000028</td>\n",
       "      <td>-0.013358</td>\n",
       "      <td>0.994881</td>\n",
       "      <td>05-30-17_12.56 0degC_Cycle_1_Pan18650PF_proces...</td>\n",
       "      <td>-5.435733</td>\n",
       "    </tr>\n",
       "    <tr>\n",
       "      <th>2</th>\n",
       "      <td>2017-05-30 12:56:50</td>\n",
       "      <td>50.198993</td>\n",
       "      <td>3.93032</td>\n",
       "      <td>-1.42908</td>\n",
       "      <td>0.550856</td>\n",
       "      <td>-0.01349</td>\n",
       "      <td>3.989647</td>\n",
       "      <td>-0.960691</td>\n",
       "      <td>0.000027</td>\n",
       "      <td>-0.013397</td>\n",
       "      <td>0.994866</td>\n",
       "      <td>05-30-17_12.56 0degC_Cycle_1_Pan18650PF_proces...</td>\n",
       "      <td>-5.616742</td>\n",
       "    </tr>\n",
       "    <tr>\n",
       "      <th>3</th>\n",
       "      <td>2017-05-30 12:56:50</td>\n",
       "      <td>50.302000</td>\n",
       "      <td>3.92646</td>\n",
       "      <td>-1.44378</td>\n",
       "      <td>0.550856</td>\n",
       "      <td>-0.01353</td>\n",
       "      <td>3.989533</td>\n",
       "      <td>-0.959801</td>\n",
       "      <td>0.000029</td>\n",
       "      <td>-0.013438</td>\n",
       "      <td>0.994850</td>\n",
       "      <td>05-30-17_12.56 0degC_Cycle_1_Pan18650PF_proces...</td>\n",
       "      <td>-5.668944</td>\n",
       "    </tr>\n",
       "    <tr>\n",
       "      <th>4</th>\n",
       "      <td>2017-05-30 12:56:50</td>\n",
       "      <td>50.407995</td>\n",
       "      <td>3.92324</td>\n",
       "      <td>-1.45032</td>\n",
       "      <td>0.550856</td>\n",
       "      <td>-0.01357</td>\n",
       "      <td>3.989462</td>\n",
       "      <td>-0.958890</td>\n",
       "      <td>0.000029</td>\n",
       "      <td>-0.013481</td>\n",
       "      <td>0.994833</td>\n",
       "      <td>05-30-17_12.56 0degC_Cycle_1_Pan18650PF_proces...</td>\n",
       "      <td>-5.689953</td>\n",
       "    </tr>\n",
       "    <tr>\n",
       "      <th>...</th>\n",
       "      <td>...</td>\n",
       "      <td>...</td>\n",
       "      <td>...</td>\n",
       "      <td>...</td>\n",
       "      <td>...</td>\n",
       "      <td>...</td>\n",
       "      <td>...</td>\n",
       "      <td>...</td>\n",
       "      <td>...</td>\n",
       "      <td>...</td>\n",
       "      <td>...</td>\n",
       "      <td>...</td>\n",
       "      <td>...</td>\n",
       "    </tr>\n",
       "    <tr>\n",
       "      <th>3728549</th>\n",
       "      <td>2017-06-25 11:15:24</td>\n",
       "      <td>2660.842005</td>\n",
       "      <td>3.50263</td>\n",
       "      <td>0.00000</td>\n",
       "      <td>-11.985971</td>\n",
       "      <td>-1.74012</td>\n",
       "      <td>3.501051</td>\n",
       "      <td>0.000000</td>\n",
       "      <td>0.000029</td>\n",
       "      <td>-1.740425</td>\n",
       "      <td>0.000000</td>\n",
       "      <td>06-25-17_10.31 n20degC_US06_Pan18650PF_process...</td>\n",
       "      <td>0.000000</td>\n",
       "    </tr>\n",
       "    <tr>\n",
       "      <th>3728550</th>\n",
       "      <td>2017-06-25 11:15:24</td>\n",
       "      <td>2660.938001</td>\n",
       "      <td>3.50263</td>\n",
       "      <td>0.00000</td>\n",
       "      <td>-11.985971</td>\n",
       "      <td>-1.74012</td>\n",
       "      <td>3.501059</td>\n",
       "      <td>0.000000</td>\n",
       "      <td>0.000027</td>\n",
       "      <td>-1.740425</td>\n",
       "      <td>0.000000</td>\n",
       "      <td>06-25-17_10.31 n20degC_US06_Pan18650PF_process...</td>\n",
       "      <td>0.000000</td>\n",
       "    </tr>\n",
       "    <tr>\n",
       "      <th>3728551</th>\n",
       "      <td>2017-06-25 11:15:24</td>\n",
       "      <td>2661.040002</td>\n",
       "      <td>3.50263</td>\n",
       "      <td>0.00000</td>\n",
       "      <td>-11.985971</td>\n",
       "      <td>-1.74012</td>\n",
       "      <td>3.501067</td>\n",
       "      <td>0.000000</td>\n",
       "      <td>0.000028</td>\n",
       "      <td>-1.740425</td>\n",
       "      <td>0.000000</td>\n",
       "      <td>06-25-17_10.31 n20degC_US06_Pan18650PF_process...</td>\n",
       "      <td>0.000000</td>\n",
       "    </tr>\n",
       "    <tr>\n",
       "      <th>3728552</th>\n",
       "      <td>2017-06-25 11:15:24</td>\n",
       "      <td>2661.138000</td>\n",
       "      <td>3.50263</td>\n",
       "      <td>0.00000</td>\n",
       "      <td>-11.985971</td>\n",
       "      <td>-1.74012</td>\n",
       "      <td>3.501073</td>\n",
       "      <td>0.000000</td>\n",
       "      <td>0.000027</td>\n",
       "      <td>-1.740425</td>\n",
       "      <td>0.000000</td>\n",
       "      <td>06-25-17_10.31 n20degC_US06_Pan18650PF_process...</td>\n",
       "      <td>0.000000</td>\n",
       "    </tr>\n",
       "    <tr>\n",
       "      <th>3728553</th>\n",
       "      <td>2017-06-25 11:15:24</td>\n",
       "      <td>2661.145001</td>\n",
       "      <td>3.50263</td>\n",
       "      <td>0.00000</td>\n",
       "      <td>-11.985971</td>\n",
       "      <td>-1.74012</td>\n",
       "      <td>3.501079</td>\n",
       "      <td>0.000000</td>\n",
       "      <td>0.000002</td>\n",
       "      <td>-1.740425</td>\n",
       "      <td>0.000000</td>\n",
       "      <td>06-25-17_10.31 n20degC_US06_Pan18650PF_process...</td>\n",
       "      <td>0.000000</td>\n",
       "    </tr>\n",
       "  </tbody>\n",
       "</table>\n",
       "<p>3728554 rows × 13 columns</p>\n",
       "</div>"
      ],
      "text/plain": [
       "                   Timestamp     Time [s]  Voltage [V]  Current [A]  \\\n",
       "0        2017-05-30 12:56:50    50.000996      3.95155     -1.21840   \n",
       "1        2017-05-30 12:56:50    50.100000      3.93868     -1.38009   \n",
       "2        2017-05-30 12:56:50    50.198993      3.93032     -1.42908   \n",
       "3        2017-05-30 12:56:50    50.302000      3.92646     -1.44378   \n",
       "4        2017-05-30 12:56:50    50.407995      3.92324     -1.45032   \n",
       "...                      ...          ...          ...          ...   \n",
       "3728549  2017-06-25 11:15:24  2660.842005      3.50263      0.00000   \n",
       "3728550  2017-06-25 11:15:24  2660.938001      3.50263      0.00000   \n",
       "3728551  2017-06-25 11:15:24  2661.040002      3.50263      0.00000   \n",
       "3728552  2017-06-25 11:15:24  2661.138000      3.50263      0.00000   \n",
       "3728553  2017-06-25 11:15:24  2661.145001      3.50263      0.00000   \n",
       "\n",
       "         Temperature [degC]  Capacity [Ah]  Voltage Average  Current Average  \\\n",
       "0                  0.539533       -0.01341         3.990077        -0.962472   \n",
       "1                  0.539533       -0.01345         3.989822        -0.961564   \n",
       "2                  0.550856       -0.01349         3.989647        -0.960691   \n",
       "3                  0.550856       -0.01353         3.989533        -0.959801   \n",
       "4                  0.550856       -0.01357         3.989462        -0.958890   \n",
       "...                     ...            ...              ...              ...   \n",
       "3728549          -11.985971       -1.74012         3.501051         0.000000   \n",
       "3728550          -11.985971       -1.74012         3.501059         0.000000   \n",
       "3728551          -11.985971       -1.74012         3.501067         0.000000   \n",
       "3728552          -11.985971       -1.74012         3.501073         0.000000   \n",
       "3728553          -11.985971       -1.74012         3.501079         0.000000   \n",
       "\n",
       "         Time_diff  Cumulative_Capacity_Ah   SOC [-]  \\\n",
       "0         0.000029               -0.013320  0.994895   \n",
       "1         0.000028               -0.013358  0.994881   \n",
       "2         0.000027               -0.013397  0.994866   \n",
       "3         0.000029               -0.013438  0.994850   \n",
       "4         0.000029               -0.013481  0.994833   \n",
       "...            ...                     ...       ...   \n",
       "3728549   0.000029               -1.740425  0.000000   \n",
       "3728550   0.000027               -1.740425  0.000000   \n",
       "3728551   0.000028               -1.740425  0.000000   \n",
       "3728552   0.000027               -1.740425  0.000000   \n",
       "3728553   0.000002               -1.740425  0.000000   \n",
       "\n",
       "                                                SourceFile  Power [W]  \n",
       "0        05-30-17_12.56 0degC_Cycle_1_Pan18650PF_proces...  -4.814569  \n",
       "1        05-30-17_12.56 0degC_Cycle_1_Pan18650PF_proces...  -5.435733  \n",
       "2        05-30-17_12.56 0degC_Cycle_1_Pan18650PF_proces...  -5.616742  \n",
       "3        05-30-17_12.56 0degC_Cycle_1_Pan18650PF_proces...  -5.668944  \n",
       "4        05-30-17_12.56 0degC_Cycle_1_Pan18650PF_proces...  -5.689953  \n",
       "...                                                    ...        ...  \n",
       "3728549  06-25-17_10.31 n20degC_US06_Pan18650PF_process...   0.000000  \n",
       "3728550  06-25-17_10.31 n20degC_US06_Pan18650PF_process...   0.000000  \n",
       "3728551  06-25-17_10.31 n20degC_US06_Pan18650PF_process...   0.000000  \n",
       "3728552  06-25-17_10.31 n20degC_US06_Pan18650PF_process...   0.000000  \n",
       "3728553  06-25-17_10.31 n20degC_US06_Pan18650PF_process...   0.000000  \n",
       "\n",
       "[3728554 rows x 13 columns]"
      ]
     },
     "execution_count": 9,
     "metadata": {},
     "output_type": "execute_result"
    }
   ],
   "source": [
    "data = load_data(PROCESSED_DATA_DIR, temperatures_to_process)\n",
    "data"
   ]
  },
  {
   "cell_type": "code",
   "execution_count": 10,
   "metadata": {},
   "outputs": [
    {
     "data": {
      "text/html": [
       "<div>\n",
       "<style scoped>\n",
       "    .dataframe tbody tr th:only-of-type {\n",
       "        vertical-align: middle;\n",
       "    }\n",
       "\n",
       "    .dataframe tbody tr th {\n",
       "        vertical-align: top;\n",
       "    }\n",
       "\n",
       "    .dataframe thead th {\n",
       "        text-align: right;\n",
       "    }\n",
       "</style>\n",
       "<table border=\"1\" class=\"dataframe\">\n",
       "  <thead>\n",
       "    <tr style=\"text-align: right;\">\n",
       "      <th></th>\n",
       "      <th>Timestamp</th>\n",
       "      <th>Time [s]</th>\n",
       "      <th>Voltage [V]</th>\n",
       "      <th>Current [A]</th>\n",
       "      <th>Temperature [degC]</th>\n",
       "      <th>Capacity [Ah]</th>\n",
       "      <th>Voltage Average</th>\n",
       "      <th>Current Average</th>\n",
       "      <th>Time_diff</th>\n",
       "      <th>Cumulative_Capacity_Ah</th>\n",
       "      <th>SOC [-]</th>\n",
       "      <th>SourceFile</th>\n",
       "      <th>Power [W]</th>\n",
       "    </tr>\n",
       "  </thead>\n",
       "  <tbody>\n",
       "    <tr>\n",
       "      <th>0</th>\n",
       "      <td>2017-05-30 12:56:50</td>\n",
       "      <td>50.000996</td>\n",
       "      <td>1.245229</td>\n",
       "      <td>-0.122483</td>\n",
       "      <td>-0.599801</td>\n",
       "      <td>-0.01341</td>\n",
       "      <td>1.471286</td>\n",
       "      <td>0.036451</td>\n",
       "      <td>0.000029</td>\n",
       "      <td>1.653512</td>\n",
       "      <td>0.994895</td>\n",
       "      <td>05-30-17_12.56 0degC_Cycle_1_Pan18650PF_proces...</td>\n",
       "      <td>-0.233277</td>\n",
       "    </tr>\n",
       "    <tr>\n",
       "      <th>1</th>\n",
       "      <td>2017-05-30 12:56:50</td>\n",
       "      <td>50.100000</td>\n",
       "      <td>1.199808</td>\n",
       "      <td>-0.210323</td>\n",
       "      <td>-0.599801</td>\n",
       "      <td>-0.01345</td>\n",
       "      <td>1.470324</td>\n",
       "      <td>0.037440</td>\n",
       "      <td>0.000028</td>\n",
       "      <td>1.653459</td>\n",
       "      <td>0.994881</td>\n",
       "      <td>05-30-17_12.56 0degC_Cycle_1_Pan18650PF_proces...</td>\n",
       "      <td>-0.332731</td>\n",
       "    </tr>\n",
       "    <tr>\n",
       "      <th>2</th>\n",
       "      <td>2017-05-30 12:56:50</td>\n",
       "      <td>50.198993</td>\n",
       "      <td>1.170304</td>\n",
       "      <td>-0.236938</td>\n",
       "      <td>-0.599011</td>\n",
       "      <td>-0.01349</td>\n",
       "      <td>1.469663</td>\n",
       "      <td>0.038389</td>\n",
       "      <td>0.000027</td>\n",
       "      <td>1.653404</td>\n",
       "      <td>0.994866</td>\n",
       "      <td>05-30-17_12.56 0degC_Cycle_1_Pan18650PF_proces...</td>\n",
       "      <td>-0.361712</td>\n",
       "    </tr>\n",
       "    <tr>\n",
       "      <th>3</th>\n",
       "      <td>2017-05-30 12:56:50</td>\n",
       "      <td>50.302000</td>\n",
       "      <td>1.156682</td>\n",
       "      <td>-0.244924</td>\n",
       "      <td>-0.599011</td>\n",
       "      <td>-0.01353</td>\n",
       "      <td>1.469230</td>\n",
       "      <td>0.039358</td>\n",
       "      <td>0.000029</td>\n",
       "      <td>1.653346</td>\n",
       "      <td>0.994850</td>\n",
       "      <td>05-30-17_12.56 0degC_Cycle_1_Pan18650PF_proces...</td>\n",
       "      <td>-0.370070</td>\n",
       "    </tr>\n",
       "    <tr>\n",
       "      <th>4</th>\n",
       "      <td>2017-05-30 12:56:50</td>\n",
       "      <td>50.407995</td>\n",
       "      <td>1.145318</td>\n",
       "      <td>-0.248477</td>\n",
       "      <td>-0.599011</td>\n",
       "      <td>-0.01357</td>\n",
       "      <td>1.468963</td>\n",
       "      <td>0.040349</td>\n",
       "      <td>0.000029</td>\n",
       "      <td>1.653286</td>\n",
       "      <td>0.994833</td>\n",
       "      <td>05-30-17_12.56 0degC_Cycle_1_Pan18650PF_proces...</td>\n",
       "      <td>-0.373433</td>\n",
       "    </tr>\n",
       "    <tr>\n",
       "      <th>...</th>\n",
       "      <td>...</td>\n",
       "      <td>...</td>\n",
       "      <td>...</td>\n",
       "      <td>...</td>\n",
       "      <td>...</td>\n",
       "      <td>...</td>\n",
       "      <td>...</td>\n",
       "      <td>...</td>\n",
       "      <td>...</td>\n",
       "      <td>...</td>\n",
       "      <td>...</td>\n",
       "      <td>...</td>\n",
       "      <td>...</td>\n",
       "    </tr>\n",
       "    <tr>\n",
       "      <th>3728549</th>\n",
       "      <td>2017-06-25 11:15:24</td>\n",
       "      <td>2660.842005</td>\n",
       "      <td>-0.339081</td>\n",
       "      <td>0.539426</td>\n",
       "      <td>-1.473899</td>\n",
       "      <td>-1.74012</td>\n",
       "      <td>-0.375631</td>\n",
       "      <td>1.083927</td>\n",
       "      <td>0.000029</td>\n",
       "      <td>-0.767030</td>\n",
       "      <td>0.000000</td>\n",
       "      <td>06-25-17_10.31 n20degC_US06_Pan18650PF_process...</td>\n",
       "      <td>0.537575</td>\n",
       "    </tr>\n",
       "    <tr>\n",
       "      <th>3728550</th>\n",
       "      <td>2017-06-25 11:15:24</td>\n",
       "      <td>2660.938001</td>\n",
       "      <td>-0.339081</td>\n",
       "      <td>0.539426</td>\n",
       "      <td>-1.473899</td>\n",
       "      <td>-1.74012</td>\n",
       "      <td>-0.375602</td>\n",
       "      <td>1.083927</td>\n",
       "      <td>0.000027</td>\n",
       "      <td>-0.767030</td>\n",
       "      <td>0.000000</td>\n",
       "      <td>06-25-17_10.31 n20degC_US06_Pan18650PF_process...</td>\n",
       "      <td>0.537575</td>\n",
       "    </tr>\n",
       "    <tr>\n",
       "      <th>3728551</th>\n",
       "      <td>2017-06-25 11:15:24</td>\n",
       "      <td>2661.040002</td>\n",
       "      <td>-0.339081</td>\n",
       "      <td>0.539426</td>\n",
       "      <td>-1.473899</td>\n",
       "      <td>-1.74012</td>\n",
       "      <td>-0.375573</td>\n",
       "      <td>1.083927</td>\n",
       "      <td>0.000028</td>\n",
       "      <td>-0.767030</td>\n",
       "      <td>0.000000</td>\n",
       "      <td>06-25-17_10.31 n20degC_US06_Pan18650PF_process...</td>\n",
       "      <td>0.537575</td>\n",
       "    </tr>\n",
       "    <tr>\n",
       "      <th>3728552</th>\n",
       "      <td>2017-06-25 11:15:24</td>\n",
       "      <td>2661.138000</td>\n",
       "      <td>-0.339081</td>\n",
       "      <td>0.539426</td>\n",
       "      <td>-1.473899</td>\n",
       "      <td>-1.74012</td>\n",
       "      <td>-0.375548</td>\n",
       "      <td>1.083927</td>\n",
       "      <td>0.000027</td>\n",
       "      <td>-0.767030</td>\n",
       "      <td>0.000000</td>\n",
       "      <td>06-25-17_10.31 n20degC_US06_Pan18650PF_process...</td>\n",
       "      <td>0.537575</td>\n",
       "    </tr>\n",
       "    <tr>\n",
       "      <th>3728553</th>\n",
       "      <td>2017-06-25 11:15:24</td>\n",
       "      <td>2661.145001</td>\n",
       "      <td>-0.339081</td>\n",
       "      <td>0.539426</td>\n",
       "      <td>-1.473899</td>\n",
       "      <td>-1.74012</td>\n",
       "      <td>-0.375524</td>\n",
       "      <td>1.083927</td>\n",
       "      <td>0.000002</td>\n",
       "      <td>-0.767030</td>\n",
       "      <td>0.000000</td>\n",
       "      <td>06-25-17_10.31 n20degC_US06_Pan18650PF_process...</td>\n",
       "      <td>0.537575</td>\n",
       "    </tr>\n",
       "  </tbody>\n",
       "</table>\n",
       "<p>3728554 rows × 13 columns</p>\n",
       "</div>"
      ],
      "text/plain": [
       "                   Timestamp     Time [s]  Voltage [V]  Current [A]  \\\n",
       "0        2017-05-30 12:56:50    50.000996     1.245229    -0.122483   \n",
       "1        2017-05-30 12:56:50    50.100000     1.199808    -0.210323   \n",
       "2        2017-05-30 12:56:50    50.198993     1.170304    -0.236938   \n",
       "3        2017-05-30 12:56:50    50.302000     1.156682    -0.244924   \n",
       "4        2017-05-30 12:56:50    50.407995     1.145318    -0.248477   \n",
       "...                      ...          ...          ...          ...   \n",
       "3728549  2017-06-25 11:15:24  2660.842005    -0.339081     0.539426   \n",
       "3728550  2017-06-25 11:15:24  2660.938001    -0.339081     0.539426   \n",
       "3728551  2017-06-25 11:15:24  2661.040002    -0.339081     0.539426   \n",
       "3728552  2017-06-25 11:15:24  2661.138000    -0.339081     0.539426   \n",
       "3728553  2017-06-25 11:15:24  2661.145001    -0.339081     0.539426   \n",
       "\n",
       "         Temperature [degC]  Capacity [Ah]  Voltage Average  Current Average  \\\n",
       "0                 -0.599801       -0.01341         1.471286         0.036451   \n",
       "1                 -0.599801       -0.01345         1.470324         0.037440   \n",
       "2                 -0.599011       -0.01349         1.469663         0.038389   \n",
       "3                 -0.599011       -0.01353         1.469230         0.039358   \n",
       "4                 -0.599011       -0.01357         1.468963         0.040349   \n",
       "...                     ...            ...              ...              ...   \n",
       "3728549           -1.473899       -1.74012        -0.375631         1.083927   \n",
       "3728550           -1.473899       -1.74012        -0.375602         1.083927   \n",
       "3728551           -1.473899       -1.74012        -0.375573         1.083927   \n",
       "3728552           -1.473899       -1.74012        -0.375548         1.083927   \n",
       "3728553           -1.473899       -1.74012        -0.375524         1.083927   \n",
       "\n",
       "         Time_diff  Cumulative_Capacity_Ah   SOC [-]  \\\n",
       "0         0.000029                1.653512  0.994895   \n",
       "1         0.000028                1.653459  0.994881   \n",
       "2         0.000027                1.653404  0.994866   \n",
       "3         0.000029                1.653346  0.994850   \n",
       "4         0.000029                1.653286  0.994833   \n",
       "...            ...                     ...       ...   \n",
       "3728549   0.000029               -0.767030  0.000000   \n",
       "3728550   0.000027               -0.767030  0.000000   \n",
       "3728551   0.000028               -0.767030  0.000000   \n",
       "3728552   0.000027               -0.767030  0.000000   \n",
       "3728553   0.000002               -0.767030  0.000000   \n",
       "\n",
       "                                                SourceFile  Power [W]  \n",
       "0        05-30-17_12.56 0degC_Cycle_1_Pan18650PF_proces...  -0.233277  \n",
       "1        05-30-17_12.56 0degC_Cycle_1_Pan18650PF_proces...  -0.332731  \n",
       "2        05-30-17_12.56 0degC_Cycle_1_Pan18650PF_proces...  -0.361712  \n",
       "3        05-30-17_12.56 0degC_Cycle_1_Pan18650PF_proces...  -0.370070  \n",
       "4        05-30-17_12.56 0degC_Cycle_1_Pan18650PF_proces...  -0.373433  \n",
       "...                                                    ...        ...  \n",
       "3728549  06-25-17_10.31 n20degC_US06_Pan18650PF_process...   0.537575  \n",
       "3728550  06-25-17_10.31 n20degC_US06_Pan18650PF_process...   0.537575  \n",
       "3728551  06-25-17_10.31 n20degC_US06_Pan18650PF_process...   0.537575  \n",
       "3728552  06-25-17_10.31 n20degC_US06_Pan18650PF_process...   0.537575  \n",
       "3728553  06-25-17_10.31 n20degC_US06_Pan18650PF_process...   0.537575  \n",
       "\n",
       "[3728554 rows x 13 columns]"
      ]
     },
     "execution_count": 10,
     "metadata": {},
     "output_type": "execute_result"
    }
   ],
   "source": [
    "scaler = StandardScaler()\n",
    "data[FEATURE_COLS] = scaler.fit_transform(data[FEATURE_COLS])\n",
    "data"
   ]
  },
  {
   "cell_type": "code",
   "execution_count": 11,
   "metadata": {},
   "outputs": [],
   "source": [
    "unique_files = np.array(list(set(data['SourceFile'])))\n",
    "train_files, temp_files = train_test_split(unique_files, test_size=0.2, random_state=52)\n",
    "val_files, test_files = train_test_split(temp_files, test_size=0.5, random_state=52)"
   ]
  },
  {
   "cell_type": "code",
   "execution_count": 12,
   "metadata": {},
   "outputs": [],
   "source": [
    "def filter_data_by_filenames(df, filenames):\n",
    "    return df[df['SourceFile'].isin(filenames)]\n",
    "\n",
    "# Filter data for each set\n",
    "train_data = filter_data_by_filenames(data, train_files)\n",
    "val_data = filter_data_by_filenames(data, val_files)\n",
    "test_data = filter_data_by_filenames(data, test_files)"
   ]
  },
  {
   "cell_type": "code",
   "execution_count": 13,
   "metadata": {},
   "outputs": [],
   "source": [
    "# Convert to tensors\n",
    "train_tensor = torch.tensor(train_data[FEATURE_COLS].values, dtype=torch.float32).to(device)\n",
    "train_labels = torch.tensor(train_data[LABEL_COL].values, dtype=torch.float32).to(device)\n",
    "\n",
    "val_tensor = torch.tensor(val_data[FEATURE_COLS].values, dtype=torch.float32).to(device)\n",
    "val_labels = torch.tensor(val_data[LABEL_COL].values, dtype=torch.float32).to(device)\n",
    "\n",
    "test_tensor = torch.tensor(test_data[FEATURE_COLS].values, dtype=torch.float32).to(device)\n",
    "test_labels = torch.tensor(test_data[LABEL_COL].values, dtype=torch.float32).to(device)"
   ]
  },
  {
   "cell_type": "code",
   "execution_count": 14,
   "metadata": {},
   "outputs": [],
   "source": [
    "# Convert filtered data to tensors and create dataset instances\n",
    "train_dataset = BatteryDatasetLSTM(\n",
    "    torch.tensor(train_data[FEATURE_COLS].values, dtype=torch.float32).to(device),\n",
    "    torch.tensor(train_data[LABEL_COL].values, dtype=torch.float32).to(device),\n",
    "    SEQUENCE_LENGTH,\n",
    "    train_data['SourceFile'].values,\n",
    "    train_data['Time [s]'].values  \n",
    ")\n",
    "\n",
    "val_dataset = BatteryDatasetLSTM(\n",
    "    torch.tensor(val_data[FEATURE_COLS].values, dtype=torch.float32).to(device),\n",
    "    torch.tensor(val_data[LABEL_COL].values, dtype=torch.float32).to(device),\n",
    "    SEQUENCE_LENGTH,\n",
    "    val_data['SourceFile'].values,\n",
    "    val_data['Time [s]'].values  \n",
    ")\n",
    "\n",
    "test_dataset = BatteryDatasetLSTM(\n",
    "    torch.tensor(test_data[FEATURE_COLS].values, dtype=torch.float32).to(device),\n",
    "    torch.tensor(test_data[LABEL_COL].values, dtype=torch.float32).to(device),\n",
    "    SEQUENCE_LENGTH,\n",
    "    test_data['SourceFile'].values,\n",
    "    test_data['Time [s]'].values  \n",
    ")"
   ]
  },
  {
   "cell_type": "code",
   "execution_count": 15,
   "metadata": {},
   "outputs": [],
   "source": [
    "# Create data loaders\n",
    "train_loader = DataLoader(train_dataset, batch_size=BATCH_SIZE, shuffle=True) \n",
    "val_loader = DataLoader(val_dataset, batch_size=BATCH_SIZE, shuffle=False)\n",
    "test_loader = DataLoader(test_dataset, batch_size=BATCH_SIZE, shuffle=False)"
   ]
  },
  {
   "cell_type": "code",
   "execution_count": 16,
   "metadata": {},
   "outputs": [
    {
     "name": "stdout",
     "output_type": "stream",
     "text": [
      "Training files: {'06-02-17_04.58 0degC_US06_Pan18650PF_processed.csv', '03-27-17_09.06 10degC_HWFET_Pan18650PF_processed.csv', '06-23-17_23.35 n20degC_NN_Pan18650PF_processed.csv', '06-01-17_10.36 0degC_NN_Pan18650PF_processed.csv', '06-01-17_10.36 0degC_LA92_Pan18650PF_processed.csv', '06-24-17_04.29 n20degC_Cycle_1_Pan18650PF_processed.csv', '06-23-17_23.35 n20degC_UDDS_Pan18650PF_processed.csv', '03-27-17_09.06 10degC_US06_Pan18650PF_processed.csv', '04-05-17_22.50 10degC_Cycle_4_Pan18650PF_processed.csv', '03-21-17_09.38 25degC_LA92_Pan18650PF_processed.csv', '06-11-17_01.39 n10degC_Cycle_3_Pan18650PF_processed.csv', '03-28-17_12.51 10degC_Cycle_1_Pan18650PF_processed.csv', '06-10-17_11.25 n10degC_Cycle_1_Pan18650PF_processed.csv', '03-28-17_18.18 10degC_Cycle_2_Pan18650PF_processed.csv', '06-07-17_08.39 n10degC_US06_Pan18650PF_processed.csv', '03-19-17_03.25 25degC_Cycle_2_Pan18650PF_processed.csv', '06-11-17_08.42 n10degC_Cycle_4_Pan18650PF_processed.csv', '03-20-17_19.27 25degC_HWFTb_Pan18650PF_processed.csv', '03-19-17_09.07 25degC_Cycle_3_Pan18650PF_processed.csv', '03-20-17_05.56 25degC_HWFTa_Pan18650PF_processed.csv', '03-27-17_09.06 10degC_LA92_Pan18650PF_processed.csv', '06-07-17_08.39 n10degC_UDDS_Pan18650PF_processed.csv', '06-07-17_08.39 n10degC_HWFET_Pan18650PF_processed.csv', '06-23-17_23.35 n20degC_HWFET_Pan18650PF_processed.csv', '03-19-17_14.31 25degC_Cycle_4_Pan18650PF_processed.csv', '04-05-17_17.04 10degC_Cycle_3_Pan18650PF_processed.csv', '03-27-17_09.06 10degC_UDDS_Pan18650PF_processed.csv', '06-02-17_10.43 0degC_HWFET_Pan18650PF_processed.csv', '05-30-17_20.16 0degC_Cycle_2_Pan18650PF_processed.csv', '06-25-17_10.31 n20degC_US06_Pan18650PF_processed.csv', '03-18-17_02.17 25degC_Cycle_1_Pan18650PF_processed.csv', '06-25-17_03.01 n20degC_Cycle_4_Pan18650PF_processed.csv', '06-07-17_08.39 n10degC_LA92_Pan18650PF_processed.csv', '03-21-17_16.27 25degC_NN_Pan18650PF_processed.csv', '06-02-17_17.14 0degC_UDDS_Pan18650PF_processed.csv', '06-23-17_23.35 n20degC_LA92_Pan18650PF_processed.csv'}\n",
      "\n",
      "Validation files: {'06-10-17_18.35 n10degC_Cycle_2_Pan18650PF_processed.csv', '06-14-17_13.12 n10degC_NN_Pan18650PF_processed.csv', '06-24-17_19.29 n20degC_Cycle_3_Pan18650PF_processed.csv', '03-27-17_09.06 10degC_NN_Pan18650PF_processed.csv', '05-30-17_12.56 0degC_Cycle_1_Pan18650PF_processed.csv'}\n",
      "\n",
      "Testing files: {'06-24-17_11.58 n20degC_Cycle_2_Pan18650PF_processed.csv', '06-01-17_22.03 0degC_Cycle_4_Pan18650PF_processed.csv', '03-21-17_00.29 25degC_UDDS_Pan18650PF_processed.csv', '06-01-17_15.36 0degC_Cycle_3_Pan18650PF_processed.csv', '03-20-17_01.43 25degC_US06_Pan18650PF_processed.csv'}\n"
     ]
    }
   ],
   "source": [
    "# Print file names used in training, validation, and testing\n",
    "train_files = train_dataset.get_unique_filenames()\n",
    "val_files = val_dataset.get_unique_filenames()\n",
    "test_files = test_dataset.get_unique_filenames()\n",
    "\n",
    "train_files_sorted = sorted(train_files)\n",
    "val_files_sorted = sorted(val_files)\n",
    "test_files_sorted = sorted(test_files)\n",
    "\n",
    "print(\"Training files:\", train_files)\n",
    "print(\"\\nValidation files:\", val_files)\n",
    "print(\"\\nTesting files:\", test_files)"
   ]
  },
  {
   "cell_type": "code",
   "execution_count": 17,
   "metadata": {},
   "outputs": [
    {
     "name": "stdout",
     "output_type": "stream",
     "text": [
      "Train features shape: torch.Size([2915916, 7])\n",
      "Test features shape: torch.Size([459641, 7])\n",
      "Train labels shape: torch.Size([2915916])\n",
      "Test labels shape: torch.Size([459641])\n"
     ]
    }
   ],
   "source": [
    "print(\"Train features shape:\", train_tensor.shape)\n",
    "print(\"Test features shape:\", test_tensor .shape)\n",
    "print(\"Train labels shape:\", train_labels.shape)\n",
    "print(\"Test labels shape:\", test_labels.shape)"
   ]
  },
  {
   "cell_type": "markdown",
   "metadata": {},
   "source": [
    "## Hyperparameter tuning"
   ]
  },
  {
   "cell_type": "code",
   "execution_count": 18,
   "metadata": {},
   "outputs": [],
   "source": [
    "# Define Optuna objective function\n",
    "EPOCHS = 10\n",
    "def objective(trial):\n",
    "    # Suggest hyperparameters\n",
    "    hidden_size = trial.suggest_int('hidden_size', 16, 128)\n",
    "    num_layers = trial.suggest_int('num_layers', 1, 5)\n",
    "    learning_rate = trial.suggest_float('learning_rate', 1e-5, 1e-1, log=True)\n",
    "\n",
    "    # Instantiate model with suggested hyperparameters\n",
    "    model = SoCLSTM(input_size=len(FEATURE_COLS), hidden_size=hidden_size, num_layers=num_layers).type(torch.float32).to(device)\n",
    "\n",
    "    # Define your loss function and optimizer with suggested hyperparameters\n",
    "    criterion = nn.MSELoss()\n",
    "    optimizer = optim.Adam(model.parameters(), lr=learning_rate)\n",
    "\n",
    "    # Call your train and validate function\n",
    "    history = train_and_validate(model, criterion, optimizer, train_loader, val_loader, EPOCHS, device)\n",
    "\n",
    "    # Extract last validation loss\n",
    "    last_val_loss = history['val_loss'][-1]\n",
    "    return last_val_loss\n"
   ]
  },
  {
   "cell_type": "code",
   "execution_count": 32,
   "metadata": {},
   "outputs": [
    {
     "name": "stderr",
     "output_type": "stream",
     "text": [
      "[I 2025-08-01 16:50:59,746] A new study created in memory with name: no-name-0d53f913-5cd0-411e-8ab1-bb7458e2efe0\n",
      "Epoch: 0/10: 100%|██████████| 1914/1914 [06:33<00:00,  4.87it/s]\n"
     ]
    },
    {
     "name": "stdout",
     "output_type": "stream",
     "text": [
      "Epoch 1/10, Train Loss: 0.09305231743506784, Validation Loss: 0.02980081808490573\n",
      "Time taken for epoch: 393.38114667 seconds\n"
     ]
    },
    {
     "name": "stderr",
     "output_type": "stream",
     "text": [
      "Epoch: 1/10: 100%|██████████| 1914/1914 [06:31<00:00,  4.89it/s]\n"
     ]
    },
    {
     "name": "stdout",
     "output_type": "stream",
     "text": [
      "Epoch 2/10, Train Loss: 0.00970413368642953, Validation Loss: 0.004529376737760555\n",
      "Time taken for epoch: 391.18705773 seconds\n"
     ]
    },
    {
     "name": "stderr",
     "output_type": "stream",
     "text": [
      "Epoch: 2/10: 100%|██████████| 1914/1914 [06:30<00:00,  4.90it/s]\n"
     ]
    },
    {
     "name": "stdout",
     "output_type": "stream",
     "text": [
      "Epoch 3/10, Train Loss: 0.004929081575999517, Validation Loss: 0.002604978950742442\n",
      "Time taken for epoch: 390.62264442 seconds\n"
     ]
    },
    {
     "name": "stderr",
     "output_type": "stream",
     "text": [
      "Epoch: 3/10: 100%|██████████| 1914/1914 [06:36<00:00,  4.83it/s]\n"
     ]
    },
    {
     "name": "stdout",
     "output_type": "stream",
     "text": [
      "Epoch 4/10, Train Loss: 0.003222200355946029, Validation Loss: 0.00172166923830094\n",
      "Time taken for epoch: 396.43539715 seconds\n"
     ]
    },
    {
     "name": "stderr",
     "output_type": "stream",
     "text": [
      "Epoch: 4/10: 100%|██████████| 1914/1914 [06:39<00:00,  4.79it/s]\n"
     ]
    },
    {
     "name": "stdout",
     "output_type": "stream",
     "text": [
      "Epoch 5/10, Train Loss: 0.002148867821001692, Validation Loss: 0.0012268908951368481\n",
      "Time taken for epoch: 399.31826019 seconds\n"
     ]
    },
    {
     "name": "stderr",
     "output_type": "stream",
     "text": [
      "Epoch: 5/10: 100%|██████████| 1914/1914 [06:36<00:00,  4.82it/s]\n"
     ]
    },
    {
     "name": "stdout",
     "output_type": "stream",
     "text": [
      "Epoch 6/10, Train Loss: 0.0016572023673779102, Validation Loss: 0.0009126449305707594\n",
      "Time taken for epoch: 396.77679443 seconds\n"
     ]
    },
    {
     "name": "stderr",
     "output_type": "stream",
     "text": [
      "Epoch: 6/10: 100%|██████████| 1914/1914 [06:37<00:00,  4.82it/s]\n"
     ]
    },
    {
     "name": "stdout",
     "output_type": "stream",
     "text": [
      "Epoch 7/10, Train Loss: 0.0014560818978120128, Validation Loss: 0.0007237406405200603\n",
      "Time taken for epoch: 397.00838065 seconds\n"
     ]
    },
    {
     "name": "stderr",
     "output_type": "stream",
     "text": [
      "Epoch: 7/10: 100%|██████████| 1914/1914 [06:36<00:00,  4.82it/s]\n"
     ]
    },
    {
     "name": "stdout",
     "output_type": "stream",
     "text": [
      "Epoch 8/10, Train Loss: 0.001351663626632152, Validation Loss: 0.0006244209919548375\n",
      "Time taken for epoch: 396.85490513 seconds\n"
     ]
    },
    {
     "name": "stderr",
     "output_type": "stream",
     "text": [
      "Epoch: 8/10: 100%|██████████| 1914/1914 [06:30<00:00,  4.90it/s]\n"
     ]
    },
    {
     "name": "stdout",
     "output_type": "stream",
     "text": [
      "Epoch 9/10, Train Loss: 0.0012790941031865753, Validation Loss: 0.0005824778850610176\n",
      "Time taken for epoch: 390.99772763 seconds\n"
     ]
    },
    {
     "name": "stderr",
     "output_type": "stream",
     "text": [
      "Epoch: 9/10: 100%|██████████| 1914/1914 [06:27<00:00,  4.94it/s]\n",
      "[I 2025-08-01 18:02:06,138] Trial 0 finished with value: 0.0005813943599751129 and parameters: {'hidden_size': 16, 'num_layers': 2, 'learning_rate': 1.732989300141742e-05}. Best is trial 0 with value: 0.0005813943599751129.\n"
     ]
    },
    {
     "name": "stdout",
     "output_type": "stream",
     "text": [
      "Epoch 10/10, Train Loss: 0.0012248963737508036, Validation Loss: 0.0005813943599751129\n",
      "Time taken for epoch: 387.34162831 seconds\n"
     ]
    },
    {
     "name": "stderr",
     "output_type": "stream",
     "text": [
      "Epoch: 0/10: 100%|██████████| 1914/1914 [06:51<00:00,  4.65it/s]\n"
     ]
    },
    {
     "name": "stdout",
     "output_type": "stream",
     "text": [
      "Epoch 1/10, Train Loss: 0.0009214385660213653, Validation Loss: 0.0006031195313456146\n",
      "Time taken for epoch: 411.32205677 seconds\n"
     ]
    },
    {
     "name": "stderr",
     "output_type": "stream",
     "text": [
      "Epoch: 1/10: 100%|██████████| 1914/1914 [06:54<00:00,  4.62it/s]\n"
     ]
    },
    {
     "name": "stdout",
     "output_type": "stream",
     "text": [
      "Epoch 2/10, Train Loss: 0.0003556332744147323, Validation Loss: 0.0008200716909486901\n",
      "Time taken for epoch: 414.52045083 seconds\n"
     ]
    },
    {
     "name": "stderr",
     "output_type": "stream",
     "text": [
      "Epoch: 2/10: 100%|██████████| 1914/1914 [06:55<00:00,  4.60it/s]\n"
     ]
    },
    {
     "name": "stdout",
     "output_type": "stream",
     "text": [
      "Epoch 3/10, Train Loss: 0.00029224685567136527, Validation Loss: 0.000730627373178047\n",
      "Time taken for epoch: 415.85169029 seconds\n"
     ]
    },
    {
     "name": "stderr",
     "output_type": "stream",
     "text": [
      "Epoch: 3/10: 100%|██████████| 1914/1914 [06:56<00:00,  4.60it/s]\n"
     ]
    },
    {
     "name": "stdout",
     "output_type": "stream",
     "text": [
      "Epoch 4/10, Train Loss: 0.00023126235754257593, Validation Loss: 0.0008072007349783335\n",
      "Time taken for epoch: 416.38886714 seconds\n"
     ]
    },
    {
     "name": "stderr",
     "output_type": "stream",
     "text": [
      "Epoch: 4/10: 100%|██████████| 1914/1914 [06:48<00:00,  4.68it/s]\n"
     ]
    },
    {
     "name": "stdout",
     "output_type": "stream",
     "text": [
      "Epoch 5/10, Train Loss: 0.00017977539246507494, Validation Loss: 0.0009640774327339416\n",
      "Time taken for epoch: 408.81216025 seconds\n"
     ]
    },
    {
     "name": "stderr",
     "output_type": "stream",
     "text": [
      "Epoch: 5/10: 100%|██████████| 1914/1914 [06:50<00:00,  4.66it/s]\n"
     ]
    },
    {
     "name": "stdout",
     "output_type": "stream",
     "text": [
      "Epoch 6/10, Train Loss: 0.00014907743374077708, Validation Loss: 0.0008691601254468321\n",
      "Time taken for epoch: 410.92027926 seconds\n",
      "Early stopping triggered\n"
     ]
    },
    {
     "name": "stderr",
     "output_type": "stream",
     "text": [
      "Epoch: 6/10: 100%|██████████| 1914/1914 [06:46<00:00,  4.71it/s]\n"
     ]
    },
    {
     "name": "stdout",
     "output_type": "stream",
     "text": [
      "Epoch 7/10, Train Loss: 0.0001431963498999857, Validation Loss: 0.0008887282543012523\n",
      "Time taken for epoch: 406.45619512 seconds\n",
      "Early stopping triggered\n"
     ]
    },
    {
     "name": "stderr",
     "output_type": "stream",
     "text": [
      "Epoch: 7/10: 100%|██████████| 1914/1914 [06:50<00:00,  4.66it/s]\n"
     ]
    },
    {
     "name": "stdout",
     "output_type": "stream",
     "text": [
      "Epoch 8/10, Train Loss: 0.00011434839125799284, Validation Loss: 0.0008817144480480293\n",
      "Time taken for epoch: 410.76156664 seconds\n",
      "Early stopping triggered\n"
     ]
    },
    {
     "name": "stderr",
     "output_type": "stream",
     "text": [
      "Epoch: 8/10: 100%|██████████| 1914/1914 [06:46<00:00,  4.71it/s]\n"
     ]
    },
    {
     "name": "stdout",
     "output_type": "stream",
     "text": [
      "Epoch 9/10, Train Loss: 0.00010052689129684719, Validation Loss: 0.0008928963771385\n",
      "Time taken for epoch: 406.56657171 seconds\n",
      "Early stopping triggered\n"
     ]
    },
    {
     "name": "stderr",
     "output_type": "stream",
     "text": [
      "Epoch: 9/10: 100%|██████████| 1914/1914 [06:46<00:00,  4.71it/s]\n",
      "[I 2025-08-01 19:16:12,517] Trial 1 finished with value: 0.0010306674070999853 and parameters: {'hidden_size': 32, 'num_layers': 2, 'learning_rate': 0.007264401029476724}. Best is trial 0 with value: 0.0005813943599751129.\n"
     ]
    },
    {
     "name": "stdout",
     "output_type": "stream",
     "text": [
      "Epoch 10/10, Train Loss: 0.00011074423064381824, Validation Loss: 0.0010306674070999853\n",
      "Time taken for epoch: 406.74656725 seconds\n",
      "Early stopping triggered\n"
     ]
    },
    {
     "name": "stderr",
     "output_type": "stream",
     "text": [
      "Epoch: 0/10: 100%|██████████| 1914/1914 [09:09<00:00,  3.48it/s]\n"
     ]
    },
    {
     "name": "stdout",
     "output_type": "stream",
     "text": [
      "Epoch 1/10, Train Loss: 0.009224921655661135, Validation Loss: 0.0005675257785063756\n",
      "Time taken for epoch: 549.85444427 seconds\n"
     ]
    },
    {
     "name": "stderr",
     "output_type": "stream",
     "text": [
      "Epoch: 1/10: 100%|██████████| 1914/1914 [09:11<00:00,  3.47it/s]\n"
     ]
    },
    {
     "name": "stdout",
     "output_type": "stream",
     "text": [
      "Epoch 2/10, Train Loss: 0.0007805499394668525, Validation Loss: 0.0006477909371809279\n",
      "Time taken for epoch: 551.55814886 seconds\n"
     ]
    },
    {
     "name": "stderr",
     "output_type": "stream",
     "text": [
      "Epoch: 2/10: 100%|██████████| 1914/1914 [09:18<00:00,  3.42it/s]\n"
     ]
    },
    {
     "name": "stdout",
     "output_type": "stream",
     "text": [
      "Epoch 3/10, Train Loss: 0.0005371036764821612, Validation Loss: 0.0007831751843655913\n",
      "Time taken for epoch: 558.98389792 seconds\n"
     ]
    },
    {
     "name": "stderr",
     "output_type": "stream",
     "text": [
      "Epoch: 3/10: 100%|██████████| 1914/1914 [09:10<00:00,  3.48it/s]\n"
     ]
    },
    {
     "name": "stdout",
     "output_type": "stream",
     "text": [
      "Epoch 4/10, Train Loss: 0.0004712468151357356, Validation Loss: 0.0006955107025874614\n",
      "Time taken for epoch: 550.52272487 seconds\n"
     ]
    },
    {
     "name": "stderr",
     "output_type": "stream",
     "text": [
      "Epoch: 4/10: 100%|██████████| 1914/1914 [09:32<00:00,  3.34it/s]\n"
     ]
    },
    {
     "name": "stdout",
     "output_type": "stream",
     "text": [
      "Epoch 5/10, Train Loss: 0.00042249942597699067, Validation Loss: 0.0007208027071588651\n",
      "Time taken for epoch: 572.89744949 seconds\n"
     ]
    },
    {
     "name": "stderr",
     "output_type": "stream",
     "text": [
      "Epoch: 5/10: 100%|██████████| 1914/1914 [11:27<00:00,  2.79it/s]\n"
     ]
    },
    {
     "name": "stdout",
     "output_type": "stream",
     "text": [
      "Epoch 6/10, Train Loss: 0.0003925596888654193, Validation Loss: 0.0008927291414184409\n",
      "Time taken for epoch: 687.02465177 seconds\n",
      "Early stopping triggered\n"
     ]
    },
    {
     "name": "stderr",
     "output_type": "stream",
     "text": [
      "Epoch: 6/10: 100%|██████████| 1914/1914 [08:58<00:00,  3.56it/s]\n"
     ]
    },
    {
     "name": "stdout",
     "output_type": "stream",
     "text": [
      "Epoch 7/10, Train Loss: 0.00036979866427098876, Validation Loss: 0.000896206329860142\n",
      "Time taken for epoch: 538.22856450 seconds\n",
      "Early stopping triggered\n"
     ]
    },
    {
     "name": "stderr",
     "output_type": "stream",
     "text": [
      "Epoch: 7/10: 100%|██████████| 1914/1914 [08:58<00:00,  3.55it/s]\n"
     ]
    },
    {
     "name": "stdout",
     "output_type": "stream",
     "text": [
      "Epoch 8/10, Train Loss: 0.0003516788537950521, Validation Loss: 0.000895915854791574\n",
      "Time taken for epoch: 538.91020036 seconds\n",
      "Early stopping triggered\n"
     ]
    },
    {
     "name": "stderr",
     "output_type": "stream",
     "text": [
      "Epoch: 8/10: 100%|██████████| 1914/1914 [09:00<00:00,  3.54it/s]\n"
     ]
    },
    {
     "name": "stdout",
     "output_type": "stream",
     "text": [
      "Epoch 9/10, Train Loss: 0.00033702617354837975, Validation Loss: 0.0007525488495594645\n",
      "Time taken for epoch: 540.86824846 seconds\n",
      "Early stopping triggered\n"
     ]
    },
    {
     "name": "stderr",
     "output_type": "stream",
     "text": [
      "Epoch: 9/10: 100%|██████████| 1914/1914 [08:58<00:00,  3.56it/s]\n",
      "[I 2025-08-01 20:57:37,491] Trial 2 finished with value: 0.0009748849616781773 and parameters: {'hidden_size': 123, 'num_layers': 3, 'learning_rate': 0.00010121780873903095}. Best is trial 0 with value: 0.0005813943599751129.\n"
     ]
    },
    {
     "name": "stdout",
     "output_type": "stream",
     "text": [
      "Epoch 10/10, Train Loss: 0.0003238582467438182, Validation Loss: 0.0009748849616781773\n",
      "Time taken for epoch: 538.16636586 seconds\n",
      "Early stopping triggered\n"
     ]
    },
    {
     "name": "stderr",
     "output_type": "stream",
     "text": [
      "Epoch: 0/10: 100%|██████████| 1914/1914 [07:43<00:00,  4.13it/s]\n"
     ]
    },
    {
     "name": "stdout",
     "output_type": "stream",
     "text": [
      "Epoch 1/10, Train Loss: 0.027397556163246774, Validation Loss: 0.0012397419641726846\n",
      "Time taken for epoch: 463.93712926 seconds\n"
     ]
    },
    {
     "name": "stderr",
     "output_type": "stream",
     "text": [
      "Epoch: 1/10: 100%|██████████| 1914/1914 [07:43<00:00,  4.13it/s]\n"
     ]
    },
    {
     "name": "stdout",
     "output_type": "stream",
     "text": [
      "Epoch 2/10, Train Loss: 0.0010899760508681128, Validation Loss: 0.0009310238377347258\n",
      "Time taken for epoch: 463.43565750 seconds\n"
     ]
    },
    {
     "name": "stderr",
     "output_type": "stream",
     "text": [
      "Epoch: 2/10: 100%|██████████| 1914/1914 [07:48<00:00,  4.08it/s]\n"
     ]
    },
    {
     "name": "stdout",
     "output_type": "stream",
     "text": [
      "Epoch 3/10, Train Loss: 0.0009595642719886635, Validation Loss: 0.000959363003569088\n",
      "Time taken for epoch: 468.68851161 seconds\n"
     ]
    },
    {
     "name": "stderr",
     "output_type": "stream",
     "text": [
      "Epoch: 3/10: 100%|██████████| 1914/1914 [07:50<00:00,  4.07it/s]\n"
     ]
    },
    {
     "name": "stdout",
     "output_type": "stream",
     "text": [
      "Epoch 4/10, Train Loss: 0.0008874354204665354, Validation Loss: 0.001106145845716324\n",
      "Time taken for epoch: 470.22493911 seconds\n"
     ]
    },
    {
     "name": "stderr",
     "output_type": "stream",
     "text": [
      "Epoch: 4/10: 100%|██████████| 1914/1914 [07:49<00:00,  4.08it/s]\n"
     ]
    },
    {
     "name": "stdout",
     "output_type": "stream",
     "text": [
      "Epoch 5/10, Train Loss: 0.000585471228995047, Validation Loss: 0.0013652596873464705\n",
      "Time taken for epoch: 469.22985363 seconds\n"
     ]
    },
    {
     "name": "stderr",
     "output_type": "stream",
     "text": [
      "Epoch: 5/10: 100%|██████████| 1914/1914 [07:40<00:00,  4.16it/s]\n"
     ]
    },
    {
     "name": "stdout",
     "output_type": "stream",
     "text": [
      "Epoch 6/10, Train Loss: 0.0006645409106560365, Validation Loss: 0.0009524952041407152\n",
      "Time taken for epoch: 460.58138895 seconds\n"
     ]
    },
    {
     "name": "stderr",
     "output_type": "stream",
     "text": [
      "Epoch: 6/10: 100%|██████████| 1914/1914 [07:46<00:00,  4.11it/s]\n"
     ]
    },
    {
     "name": "stdout",
     "output_type": "stream",
     "text": [
      "Epoch 7/10, Train Loss: 0.001115156362054489, Validation Loss: 0.0021783200364597836\n",
      "Time taken for epoch: 466.11478639 seconds\n",
      "Early stopping triggered\n"
     ]
    },
    {
     "name": "stderr",
     "output_type": "stream",
     "text": [
      "Epoch: 7/10: 100%|██████████| 1914/1914 [07:58<00:00,  4.00it/s]\n"
     ]
    },
    {
     "name": "stdout",
     "output_type": "stream",
     "text": [
      "Epoch 8/10, Train Loss: 0.0012419713208429485, Validation Loss: 0.0010542172468421744\n",
      "Time taken for epoch: 478.66256404 seconds\n",
      "Early stopping triggered\n"
     ]
    },
    {
     "name": "stderr",
     "output_type": "stream",
     "text": [
      "Epoch: 8/10: 100%|██████████| 1914/1914 [08:05<00:00,  3.94it/s]\n"
     ]
    },
    {
     "name": "stdout",
     "output_type": "stream",
     "text": [
      "Epoch 9/10, Train Loss: 0.001124169218707674, Validation Loss: 0.00118736997944591\n",
      "Time taken for epoch: 485.31080604 seconds\n",
      "Early stopping triggered\n"
     ]
    },
    {
     "name": "stderr",
     "output_type": "stream",
     "text": [
      "Epoch: 9/10: 100%|██████████| 1914/1914 [07:58<00:00,  4.00it/s]\n",
      "[I 2025-08-01 22:23:01,425] Trial 3 finished with value: 0.0012919538754401266 and parameters: {'hidden_size': 88, 'num_layers': 4, 'learning_rate': 0.03614257236527925}. Best is trial 0 with value: 0.0005813943599751129.\n"
     ]
    },
    {
     "name": "stdout",
     "output_type": "stream",
     "text": [
      "Epoch 10/10, Train Loss: 0.0011003739803897114, Validation Loss: 0.0012919538754401266\n",
      "Time taken for epoch: 478.56792283 seconds\n",
      "Early stopping triggered\n"
     ]
    },
    {
     "name": "stderr",
     "output_type": "stream",
     "text": [
      "Epoch: 0/10: 100%|██████████| 1914/1914 [07:01<00:00,  4.54it/s]\n"
     ]
    },
    {
     "name": "stdout",
     "output_type": "stream",
     "text": [
      "Epoch 1/10, Train Loss: 0.0014836879824296704, Validation Loss: 0.0009387145895126944\n",
      "Time taken for epoch: 421.65548921 seconds\n"
     ]
    },
    {
     "name": "stderr",
     "output_type": "stream",
     "text": [
      "Epoch: 1/10: 100%|██████████| 1914/1914 [07:01<00:00,  4.54it/s]\n"
     ]
    },
    {
     "name": "stdout",
     "output_type": "stream",
     "text": [
      "Epoch 2/10, Train Loss: 0.00040727398131293796, Validation Loss: 0.0009579121547251701\n",
      "Time taken for epoch: 421.73016167 seconds\n"
     ]
    },
    {
     "name": "stderr",
     "output_type": "stream",
     "text": [
      "Epoch: 2/10: 100%|██████████| 1914/1914 [07:01<00:00,  4.54it/s]\n"
     ]
    },
    {
     "name": "stdout",
     "output_type": "stream",
     "text": [
      "Epoch 3/10, Train Loss: 0.0003091335462328059, Validation Loss: 0.0010208537384657189\n",
      "Time taken for epoch: 421.69139194 seconds\n"
     ]
    },
    {
     "name": "stderr",
     "output_type": "stream",
     "text": [
      "Epoch: 3/10: 100%|██████████| 1914/1914 [06:54<00:00,  4.62it/s]\n"
     ]
    },
    {
     "name": "stdout",
     "output_type": "stream",
     "text": [
      "Epoch 4/10, Train Loss: 0.00024093446722943892, Validation Loss: 0.0008901186482748499\n",
      "Time taken for epoch: 414.17509556 seconds\n"
     ]
    },
    {
     "name": "stderr",
     "output_type": "stream",
     "text": [
      "Epoch: 4/10: 100%|██████████| 1914/1914 [06:51<00:00,  4.65it/s]\n"
     ]
    },
    {
     "name": "stdout",
     "output_type": "stream",
     "text": [
      "Epoch 5/10, Train Loss: 0.0002020005229300972, Validation Loss: 0.0009307759157801625\n",
      "Time taken for epoch: 411.94749475 seconds\n"
     ]
    },
    {
     "name": "stderr",
     "output_type": "stream",
     "text": [
      "Epoch: 5/10: 100%|██████████| 1914/1914 [06:53<00:00,  4.63it/s]\n"
     ]
    },
    {
     "name": "stdout",
     "output_type": "stream",
     "text": [
      "Epoch 6/10, Train Loss: 0.0001646484825216368, Validation Loss: 0.0010213693131890726\n",
      "Time taken for epoch: 413.40719342 seconds\n",
      "Early stopping triggered\n"
     ]
    },
    {
     "name": "stderr",
     "output_type": "stream",
     "text": [
      "Epoch: 6/10: 100%|██████████| 1914/1914 [06:55<00:00,  4.60it/s]\n"
     ]
    },
    {
     "name": "stdout",
     "output_type": "stream",
     "text": [
      "Epoch 7/10, Train Loss: 0.00014892232565185185, Validation Loss: 0.0010041652764601126\n",
      "Time taken for epoch: 415.63727093 seconds\n",
      "Early stopping triggered\n"
     ]
    },
    {
     "name": "stderr",
     "output_type": "stream",
     "text": [
      "Epoch: 7/10: 100%|██████████| 1914/1914 [06:58<00:00,  4.57it/s]\n"
     ]
    },
    {
     "name": "stdout",
     "output_type": "stream",
     "text": [
      "Epoch 8/10, Train Loss: 0.0001270317198866976, Validation Loss: 0.0010168670362079022\n",
      "Time taken for epoch: 418.42178273 seconds\n",
      "Early stopping triggered\n"
     ]
    },
    {
     "name": "stderr",
     "output_type": "stream",
     "text": [
      "Epoch: 8/10: 100%|██████████| 1914/1914 [06:57<00:00,  4.59it/s]\n"
     ]
    },
    {
     "name": "stdout",
     "output_type": "stream",
     "text": [
      "Epoch 9/10, Train Loss: 0.00011587824144653315, Validation Loss: 0.0010896763720777234\n",
      "Time taken for epoch: 417.32181168 seconds\n",
      "Early stopping triggered\n"
     ]
    },
    {
     "name": "stderr",
     "output_type": "stream",
     "text": [
      "Epoch: 9/10: 100%|██████████| 1914/1914 [06:54<00:00,  4.62it/s]\n",
      "[I 2025-08-01 23:38:12,061] Trial 4 finished with value: 0.0011943286878345737 and parameters: {'hidden_size': 21, 'num_layers': 4, 'learning_rate': 0.008282047794199188}. Best is trial 0 with value: 0.0005813943599751129.\n"
     ]
    },
    {
     "name": "stdout",
     "output_type": "stream",
     "text": [
      "Epoch 10/10, Train Loss: 0.00012611351457117063, Validation Loss: 0.0011943286878345737\n",
      "Time taken for epoch: 414.51937890 seconds\n",
      "Early stopping triggered\n"
     ]
    },
    {
     "name": "stderr",
     "output_type": "stream",
     "text": [
      "Epoch: 0/10: 100%|██████████| 1914/1914 [07:04<00:00,  4.50it/s]\n"
     ]
    },
    {
     "name": "stdout",
     "output_type": "stream",
     "text": [
      "Epoch 1/10, Train Loss: 0.019967558642882414, Validation Loss: 0.0009586046776273294\n",
      "Time taken for epoch: 424.92301583 seconds\n"
     ]
    },
    {
     "name": "stderr",
     "output_type": "stream",
     "text": [
      "Epoch: 1/10: 100%|██████████| 1914/1914 [07:04<00:00,  4.51it/s]\n"
     ]
    },
    {
     "name": "stdout",
     "output_type": "stream",
     "text": [
      "Epoch 2/10, Train Loss: 0.0014077977519657545, Validation Loss: 0.0006894643015459113\n",
      "Time taken for epoch: 424.37062287 seconds\n"
     ]
    },
    {
     "name": "stderr",
     "output_type": "stream",
     "text": [
      "Epoch: 2/10: 100%|██████████| 1914/1914 [07:06<00:00,  4.48it/s]\n"
     ]
    },
    {
     "name": "stdout",
     "output_type": "stream",
     "text": [
      "Epoch 3/10, Train Loss: 0.0010641633608422748, Validation Loss: 0.0006425431581207317\n",
      "Time taken for epoch: 426.88975143 seconds\n"
     ]
    },
    {
     "name": "stderr",
     "output_type": "stream",
     "text": [
      "Epoch: 3/10: 100%|██████████| 1914/1914 [07:01<00:00,  4.54it/s]\n"
     ]
    },
    {
     "name": "stdout",
     "output_type": "stream",
     "text": [
      "Epoch 4/10, Train Loss: 0.000678236526583079, Validation Loss: 0.0007684395774923656\n",
      "Time taken for epoch: 421.62621045 seconds\n"
     ]
    },
    {
     "name": "stderr",
     "output_type": "stream",
     "text": [
      "Epoch: 4/10: 100%|██████████| 1914/1914 [07:02<00:00,  4.53it/s]\n"
     ]
    },
    {
     "name": "stdout",
     "output_type": "stream",
     "text": [
      "Epoch 5/10, Train Loss: 0.0005685615829622, Validation Loss: 0.0007714204440911276\n",
      "Time taken for epoch: 422.95645070 seconds\n"
     ]
    },
    {
     "name": "stderr",
     "output_type": "stream",
     "text": [
      "Epoch: 5/10: 100%|██████████| 1914/1914 [07:04<00:00,  4.51it/s]\n"
     ]
    },
    {
     "name": "stdout",
     "output_type": "stream",
     "text": [
      "Epoch 6/10, Train Loss: 0.0005370352910262267, Validation Loss: 0.0007373931981087807\n",
      "Time taken for epoch: 424.40674996 seconds\n"
     ]
    },
    {
     "name": "stderr",
     "output_type": "stream",
     "text": [
      "Epoch: 6/10: 100%|██████████| 1914/1914 [06:57<00:00,  4.59it/s]\n"
     ]
    },
    {
     "name": "stdout",
     "output_type": "stream",
     "text": [
      "Epoch 7/10, Train Loss: 0.0005171802957329847, Validation Loss: 0.0007745022449697653\n",
      "Time taken for epoch: 417.14050627 seconds\n",
      "Early stopping triggered\n"
     ]
    },
    {
     "name": "stderr",
     "output_type": "stream",
     "text": [
      "Epoch: 7/10: 100%|██████████| 1914/1914 [07:04<00:00,  4.51it/s]\n"
     ]
    },
    {
     "name": "stdout",
     "output_type": "stream",
     "text": [
      "Epoch 8/10, Train Loss: 0.000500665971545343, Validation Loss: 0.0007053992016384785\n",
      "Time taken for epoch: 424.22305942 seconds\n",
      "Early stopping triggered\n"
     ]
    },
    {
     "name": "stderr",
     "output_type": "stream",
     "text": [
      "Epoch: 8/10: 100%|██████████| 1914/1914 [07:00<00:00,  4.55it/s]\n"
     ]
    },
    {
     "name": "stdout",
     "output_type": "stream",
     "text": [
      "Epoch 9/10, Train Loss: 0.00048466548669106224, Validation Loss: 0.0006560125776001532\n",
      "Time taken for epoch: 420.39185238 seconds\n",
      "Early stopping triggered\n"
     ]
    },
    {
     "name": "stderr",
     "output_type": "stream",
     "text": [
      "Epoch: 9/10: 100%|██████████| 1914/1914 [06:59<00:00,  4.56it/s]\n",
      "[I 2025-08-02 00:54:33,147] Trial 5 finished with value: 0.0006808448212926811 and parameters: {'hidden_size': 26, 'num_layers': 5, 'learning_rate': 8.572212957804571e-05}. Best is trial 0 with value: 0.0005813943599751129.\n"
     ]
    },
    {
     "name": "stdout",
     "output_type": "stream",
     "text": [
      "Epoch 10/10, Train Loss: 0.0004715980656313405, Validation Loss: 0.0006808448212926811\n",
      "Time taken for epoch: 419.54098225 seconds\n",
      "Early stopping triggered\n"
     ]
    },
    {
     "name": "stderr",
     "output_type": "stream",
     "text": [
      "Epoch: 0/10: 100%|██████████| 1914/1914 [07:01<00:00,  4.55it/s]\n"
     ]
    },
    {
     "name": "stdout",
     "output_type": "stream",
     "text": [
      "Epoch 1/10, Train Loss: 0.001418963247299965, Validation Loss: 0.0010298345558273283\n",
      "Time taken for epoch: 421.02316856 seconds\n"
     ]
    },
    {
     "name": "stderr",
     "output_type": "stream",
     "text": [
      "Epoch: 1/10: 100%|██████████| 1914/1914 [07:02<00:00,  4.53it/s]\n"
     ]
    },
    {
     "name": "stdout",
     "output_type": "stream",
     "text": [
      "Epoch 2/10, Train Loss: 0.0003748872091294468, Validation Loss: 0.0009346349464366294\n",
      "Time taken for epoch: 422.93431401 seconds\n"
     ]
    },
    {
     "name": "stderr",
     "output_type": "stream",
     "text": [
      "Epoch: 2/10: 100%|██████████| 1914/1914 [07:06<00:00,  4.49it/s]\n"
     ]
    },
    {
     "name": "stdout",
     "output_type": "stream",
     "text": [
      "Epoch 3/10, Train Loss: 0.00029517358229691433, Validation Loss: 0.0008996835618875553\n",
      "Time taken for epoch: 426.68744922 seconds\n"
     ]
    },
    {
     "name": "stderr",
     "output_type": "stream",
     "text": [
      "Epoch: 3/10: 100%|██████████| 1914/1914 [07:05<00:00,  4.50it/s]\n"
     ]
    },
    {
     "name": "stdout",
     "output_type": "stream",
     "text": [
      "Epoch 4/10, Train Loss: 0.00023797844983378227, Validation Loss: 0.0008456520710339611\n",
      "Time taken for epoch: 425.77070308 seconds\n"
     ]
    },
    {
     "name": "stderr",
     "output_type": "stream",
     "text": [
      "Epoch: 4/10: 100%|██████████| 1914/1914 [07:04<00:00,  4.51it/s]\n"
     ]
    },
    {
     "name": "stdout",
     "output_type": "stream",
     "text": [
      "Epoch 5/10, Train Loss: 0.00020650333328106388, Validation Loss: 0.0007492473870832941\n",
      "Time taken for epoch: 424.68976808 seconds\n"
     ]
    },
    {
     "name": "stderr",
     "output_type": "stream",
     "text": [
      "Epoch: 5/10: 100%|██████████| 1914/1914 [07:05<00:00,  4.50it/s]\n"
     ]
    },
    {
     "name": "stdout",
     "output_type": "stream",
     "text": [
      "Epoch 6/10, Train Loss: 0.00016799706755404393, Validation Loss: 0.0008573627416713606\n",
      "Time taken for epoch: 425.54009533 seconds\n"
     ]
    },
    {
     "name": "stderr",
     "output_type": "stream",
     "text": [
      "Epoch: 6/10: 100%|██████████| 1914/1914 [07:08<00:00,  4.46it/s]\n"
     ]
    },
    {
     "name": "stdout",
     "output_type": "stream",
     "text": [
      "Epoch 7/10, Train Loss: 0.00013794746831793104, Validation Loss: 0.0009660081836075869\n",
      "Time taken for epoch: 428.67286849 seconds\n"
     ]
    },
    {
     "name": "stderr",
     "output_type": "stream",
     "text": [
      "Epoch: 7/10: 100%|██████████| 1914/1914 [07:07<00:00,  4.48it/s]\n"
     ]
    },
    {
     "name": "stdout",
     "output_type": "stream",
     "text": [
      "Epoch 8/10, Train Loss: 0.00011772714470293715, Validation Loss: 0.0009203683210656996\n",
      "Time taken for epoch: 427.70649886 seconds\n"
     ]
    },
    {
     "name": "stderr",
     "output_type": "stream",
     "text": [
      "Epoch: 8/10: 100%|██████████| 1914/1914 [07:04<00:00,  4.51it/s]\n"
     ]
    },
    {
     "name": "stdout",
     "output_type": "stream",
     "text": [
      "Epoch 9/10, Train Loss: 9.96493014867433e-05, Validation Loss: 0.0009738293644994686\n",
      "Time taken for epoch: 424.18966532 seconds\n"
     ]
    },
    {
     "name": "stderr",
     "output_type": "stream",
     "text": [
      "Epoch: 9/10: 100%|██████████| 1914/1914 [07:07<00:00,  4.48it/s]\n",
      "[I 2025-08-02 02:11:20,381] Trial 6 finished with value: 0.0008496901845280429 and parameters: {'hidden_size': 83, 'num_layers': 1, 'learning_rate': 0.005055834368040579}. Best is trial 0 with value: 0.0005813943599751129.\n"
     ]
    },
    {
     "name": "stdout",
     "output_type": "stream",
     "text": [
      "Epoch 10/10, Train Loss: 9.25190431884262e-05, Validation Loss: 0.0008496901845280429\n",
      "Time taken for epoch: 427.20601463 seconds\n",
      "Early stopping triggered\n"
     ]
    },
    {
     "name": "stderr",
     "output_type": "stream",
     "text": [
      "Epoch: 0/10: 100%|██████████| 1914/1914 [06:59<00:00,  4.57it/s]\n"
     ]
    },
    {
     "name": "stdout",
     "output_type": "stream",
     "text": [
      "Epoch 1/10, Train Loss: 0.0036993393250829864, Validation Loss: 0.0008903079811799362\n",
      "Time taken for epoch: 419.12328911 seconds\n"
     ]
    },
    {
     "name": "stderr",
     "output_type": "stream",
     "text": [
      "Epoch: 1/10: 100%|██████████| 1914/1914 [06:58<00:00,  4.58it/s]\n"
     ]
    },
    {
     "name": "stdout",
     "output_type": "stream",
     "text": [
      "Epoch 2/10, Train Loss: 0.0004596419714941315, Validation Loss: 0.0007953394348952611\n",
      "Time taken for epoch: 418.26154923 seconds\n"
     ]
    },
    {
     "name": "stderr",
     "output_type": "stream",
     "text": [
      "Epoch: 2/10: 100%|██████████| 1914/1914 [06:54<00:00,  4.61it/s]\n"
     ]
    },
    {
     "name": "stdout",
     "output_type": "stream",
     "text": [
      "Epoch 3/10, Train Loss: 0.0004103178110930051, Validation Loss: 0.0009810606505308486\n",
      "Time taken for epoch: 414.82283854 seconds\n"
     ]
    },
    {
     "name": "stderr",
     "output_type": "stream",
     "text": [
      "Epoch: 3/10: 100%|██████████| 1914/1914 [06:55<00:00,  4.61it/s]\n"
     ]
    },
    {
     "name": "stdout",
     "output_type": "stream",
     "text": [
      "Epoch 4/10, Train Loss: 0.0003687026854070456, Validation Loss: 0.0009875584303483658\n",
      "Time taken for epoch: 415.45586514 seconds\n"
     ]
    },
    {
     "name": "stderr",
     "output_type": "stream",
     "text": [
      "Epoch: 4/10: 100%|██████████| 1914/1914 [06:54<00:00,  4.62it/s]\n"
     ]
    },
    {
     "name": "stdout",
     "output_type": "stream",
     "text": [
      "Epoch 5/10, Train Loss: 0.000334378584725865, Validation Loss: 0.0010690156194220703\n",
      "Time taken for epoch: 414.20667839 seconds\n"
     ]
    },
    {
     "name": "stderr",
     "output_type": "stream",
     "text": [
      "Epoch: 5/10: 100%|██████████| 1914/1914 [06:58<00:00,  4.57it/s]\n"
     ]
    },
    {
     "name": "stdout",
     "output_type": "stream",
     "text": [
      "Epoch 6/10, Train Loss: 0.0003058717907337051, Validation Loss: 0.0007410535277557058\n",
      "Time taken for epoch: 418.60623121 seconds\n"
     ]
    },
    {
     "name": "stderr",
     "output_type": "stream",
     "text": [
      "Epoch: 6/10: 100%|██████████| 1914/1914 [06:53<00:00,  4.63it/s]\n"
     ]
    },
    {
     "name": "stdout",
     "output_type": "stream",
     "text": [
      "Epoch 7/10, Train Loss: 0.00027277791826425476, Validation Loss: 0.0008306122974546616\n",
      "Time taken for epoch: 413.59096217 seconds\n"
     ]
    },
    {
     "name": "stderr",
     "output_type": "stream",
     "text": [
      "Epoch: 7/10: 100%|██████████| 1914/1914 [06:50<00:00,  4.66it/s]\n"
     ]
    },
    {
     "name": "stdout",
     "output_type": "stream",
     "text": [
      "Epoch 8/10, Train Loss: 0.00023979277410162485, Validation Loss: 0.0008518570500165265\n",
      "Time taken for epoch: 410.82968402 seconds\n"
     ]
    },
    {
     "name": "stderr",
     "output_type": "stream",
     "text": [
      "Epoch: 8/10: 100%|██████████| 1914/1914 [06:56<00:00,  4.59it/s]\n"
     ]
    },
    {
     "name": "stdout",
     "output_type": "stream",
     "text": [
      "Epoch 9/10, Train Loss: 0.00021281715200193588, Validation Loss: 0.0010374818974106192\n",
      "Time taken for epoch: 416.63964009 seconds\n"
     ]
    },
    {
     "name": "stderr",
     "output_type": "stream",
     "text": [
      "Epoch: 9/10: 100%|██████████| 1914/1914 [06:55<00:00,  4.60it/s]\n",
      "[I 2025-08-02 03:26:28,885] Trial 7 finished with value: 0.0009374753639454887 and parameters: {'hidden_size': 23, 'num_layers': 5, 'learning_rate': 0.0016836587230040201}. Best is trial 0 with value: 0.0005813943599751129.\n"
     ]
    },
    {
     "name": "stdout",
     "output_type": "stream",
     "text": [
      "Epoch 10/10, Train Loss: 0.00019056499585528276, Validation Loss: 0.0009374753639454887\n",
      "Time taken for epoch: 415.73598671 seconds\n"
     ]
    },
    {
     "name": "stderr",
     "output_type": "stream",
     "text": [
      "Epoch: 0/10: 100%|██████████| 1914/1914 [07:16<00:00,  4.39it/s]\n"
     ]
    },
    {
     "name": "stdout",
     "output_type": "stream",
     "text": [
      "Epoch 1/10, Train Loss: 0.0014945413645910627, Validation Loss: 0.0008107824604376822\n",
      "Time taken for epoch: 436.17120552 seconds\n"
     ]
    },
    {
     "name": "stderr",
     "output_type": "stream",
     "text": [
      "Epoch: 1/10: 100%|██████████| 1914/1914 [07:10<00:00,  4.44it/s]\n"
     ]
    },
    {
     "name": "stdout",
     "output_type": "stream",
     "text": [
      "Epoch 2/10, Train Loss: 0.00033897485755784914, Validation Loss: 0.0008355454452783165\n",
      "Time taken for epoch: 430.98840356 seconds\n"
     ]
    },
    {
     "name": "stderr",
     "output_type": "stream",
     "text": [
      "Epoch: 2/10: 100%|██████████| 1914/1914 [07:13<00:00,  4.41it/s]\n"
     ]
    },
    {
     "name": "stdout",
     "output_type": "stream",
     "text": [
      "Epoch 3/10, Train Loss: 0.0002988222196140198, Validation Loss: 0.0008904273060016945\n",
      "Time taken for epoch: 433.63996434 seconds\n"
     ]
    },
    {
     "name": "stderr",
     "output_type": "stream",
     "text": [
      "Epoch: 3/10: 100%|██████████| 1914/1914 [07:11<00:00,  4.43it/s]\n"
     ]
    },
    {
     "name": "stdout",
     "output_type": "stream",
     "text": [
      "Epoch 4/10, Train Loss: 0.00027666480434250014, Validation Loss: 0.0008784453061142316\n",
      "Time taken for epoch: 431.69320631 seconds\n"
     ]
    },
    {
     "name": "stderr",
     "output_type": "stream",
     "text": [
      "Epoch: 4/10: 100%|██████████| 1914/1914 [07:08<00:00,  4.46it/s]\n"
     ]
    },
    {
     "name": "stdout",
     "output_type": "stream",
     "text": [
      "Epoch 5/10, Train Loss: 0.00038779833855967705, Validation Loss: 0.0007104250847615877\n",
      "Time taken for epoch: 428.94271755 seconds\n"
     ]
    },
    {
     "name": "stderr",
     "output_type": "stream",
     "text": [
      "Epoch: 5/10: 100%|██████████| 1914/1914 [07:13<00:00,  4.42it/s]\n"
     ]
    },
    {
     "name": "stdout",
     "output_type": "stream",
     "text": [
      "Epoch 6/10, Train Loss: 0.0003926462319107457, Validation Loss: 0.0009070344022470962\n",
      "Time taken for epoch: 433.30317926 seconds\n"
     ]
    },
    {
     "name": "stderr",
     "output_type": "stream",
     "text": [
      "Epoch: 6/10: 100%|██████████| 1914/1914 [07:15<00:00,  4.39it/s]\n"
     ]
    },
    {
     "name": "stdout",
     "output_type": "stream",
     "text": [
      "Epoch 7/10, Train Loss: 0.00024073472466828766, Validation Loss: 0.0008199562091157687\n",
      "Time taken for epoch: 435.69002724 seconds\n"
     ]
    },
    {
     "name": "stderr",
     "output_type": "stream",
     "text": [
      "Epoch: 7/10: 100%|██████████| 1914/1914 [07:13<00:00,  4.41it/s]\n"
     ]
    },
    {
     "name": "stdout",
     "output_type": "stream",
     "text": [
      "Epoch 8/10, Train Loss: 0.00042540774149506363, Validation Loss: 0.0009066015938454895\n",
      "Time taken for epoch: 433.87590861 seconds\n"
     ]
    },
    {
     "name": "stderr",
     "output_type": "stream",
     "text": [
      "Epoch: 8/10: 100%|██████████| 1914/1914 [07:10<00:00,  4.45it/s]\n"
     ]
    },
    {
     "name": "stdout",
     "output_type": "stream",
     "text": [
      "Epoch 9/10, Train Loss: 0.0006004371950069546, Validation Loss: 0.0009919334201015004\n",
      "Time taken for epoch: 430.39266586 seconds\n"
     ]
    },
    {
     "name": "stderr",
     "output_type": "stream",
     "text": [
      "Epoch: 9/10: 100%|██████████| 1914/1914 [07:08<00:00,  4.47it/s]\n",
      "[I 2025-08-02 04:44:57,519] Trial 8 finished with value: 0.0008099364481671155 and parameters: {'hidden_size': 56, 'num_layers': 3, 'learning_rate': 0.026396726071839932}. Best is trial 0 with value: 0.0005813943599751129.\n"
     ]
    },
    {
     "name": "stdout",
     "output_type": "stream",
     "text": [
      "Epoch 10/10, Train Loss: 0.00039507966797459236, Validation Loss: 0.0008099364481671155\n",
      "Time taken for epoch: 428.32098484 seconds\n",
      "Early stopping triggered\n"
     ]
    },
    {
     "name": "stderr",
     "output_type": "stream",
     "text": [
      "Epoch: 0/10: 100%|██████████| 1914/1914 [08:04<00:00,  3.95it/s]\n"
     ]
    },
    {
     "name": "stdout",
     "output_type": "stream",
     "text": [
      "Epoch 1/10, Train Loss: 0.010080329378261041, Validation Loss: 0.0007236541128121298\n",
      "Time taken for epoch: 484.55984640 seconds\n"
     ]
    },
    {
     "name": "stderr",
     "output_type": "stream",
     "text": [
      "Epoch: 1/10: 100%|██████████| 1914/1914 [08:09<00:00,  3.91it/s]\n"
     ]
    },
    {
     "name": "stdout",
     "output_type": "stream",
     "text": [
      "Epoch 2/10, Train Loss: 0.001133538026109877, Validation Loss: 0.0006655529056807905\n",
      "Time taken for epoch: 489.88990617 seconds\n"
     ]
    },
    {
     "name": "stderr",
     "output_type": "stream",
     "text": [
      "Epoch: 2/10: 100%|██████████| 1914/1914 [08:09<00:00,  3.91it/s]\n"
     ]
    },
    {
     "name": "stdout",
     "output_type": "stream",
     "text": [
      "Epoch 3/10, Train Loss: 0.0006220837797702688, Validation Loss: 0.0008349940411669562\n",
      "Time taken for epoch: 489.65406418 seconds\n"
     ]
    },
    {
     "name": "stderr",
     "output_type": "stream",
     "text": [
      "Epoch: 3/10: 100%|██████████| 1914/1914 [08:15<00:00,  3.86it/s]\n"
     ]
    },
    {
     "name": "stdout",
     "output_type": "stream",
     "text": [
      "Epoch 4/10, Train Loss: 0.0004983549185255114, Validation Loss: 0.0007753135090279705\n",
      "Time taken for epoch: 495.89114833 seconds\n"
     ]
    },
    {
     "name": "stderr",
     "output_type": "stream",
     "text": [
      "Epoch: 4/10: 100%|██████████| 1914/1914 [08:06<00:00,  3.94it/s]\n"
     ]
    },
    {
     "name": "stdout",
     "output_type": "stream",
     "text": [
      "Epoch 5/10, Train Loss: 0.00046043680631859733, Validation Loss: 0.0008456048904686992\n",
      "Time taken for epoch: 486.07180786 seconds\n"
     ]
    },
    {
     "name": "stderr",
     "output_type": "stream",
     "text": [
      "Epoch: 5/10: 100%|██████████| 1914/1914 [08:13<00:00,  3.88it/s]\n"
     ]
    },
    {
     "name": "stdout",
     "output_type": "stream",
     "text": [
      "Epoch 6/10, Train Loss: 0.0004325999972227301, Validation Loss: 0.0008081831554525868\n",
      "Time taken for epoch: 493.05522609 seconds\n",
      "Early stopping triggered\n"
     ]
    },
    {
     "name": "stderr",
     "output_type": "stream",
     "text": [
      "Epoch: 6/10: 100%|██████████| 1914/1914 [08:07<00:00,  3.93it/s]\n"
     ]
    },
    {
     "name": "stdout",
     "output_type": "stream",
     "text": [
      "Epoch 7/10, Train Loss: 0.00040873522653895, Validation Loss: 0.0008060525781576408\n",
      "Time taken for epoch: 487.62624407 seconds\n",
      "Early stopping triggered\n"
     ]
    },
    {
     "name": "stderr",
     "output_type": "stream",
     "text": [
      "Epoch: 7/10: 100%|██████████| 1914/1914 [08:12<00:00,  3.89it/s]\n"
     ]
    },
    {
     "name": "stdout",
     "output_type": "stream",
     "text": [
      "Epoch 8/10, Train Loss: 0.0003906385732388665, Validation Loss: 0.0008190794901540699\n",
      "Time taken for epoch: 492.32908058 seconds\n",
      "Early stopping triggered\n"
     ]
    },
    {
     "name": "stderr",
     "output_type": "stream",
     "text": [
      "Epoch: 8/10: 100%|██████████| 1914/1914 [08:13<00:00,  3.88it/s]\n"
     ]
    },
    {
     "name": "stdout",
     "output_type": "stream",
     "text": [
      "Epoch 9/10, Train Loss: 0.0003739277573833738, Validation Loss: 0.0008034395732666776\n",
      "Time taken for epoch: 493.76003408 seconds\n",
      "Early stopping triggered\n"
     ]
    },
    {
     "name": "stderr",
     "output_type": "stream",
     "text": [
      "Epoch: 9/10: 100%|██████████| 1914/1914 [08:08<00:00,  3.92it/s]\n",
      "[I 2025-08-02 06:13:52,282] Trial 9 finished with value: 0.000843134121211698 and parameters: {'hidden_size': 90, 'num_layers': 5, 'learning_rate': 7.270432351329176e-05}. Best is trial 0 with value: 0.0005813943599751129.\n"
     ]
    },
    {
     "name": "stdout",
     "output_type": "stream",
     "text": [
      "Epoch 10/10, Train Loss: 0.0003583395327580071, Validation Loss: 0.000843134121211698\n",
      "Time taken for epoch: 488.42421603 seconds\n",
      "Early stopping triggered\n",
      "Best trial: FrozenTrial(number=0, state=TrialState.COMPLETE, values=[0.0005813943599751129], datetime_start=datetime.datetime(2025, 8, 1, 16, 50, 59, 749942), datetime_complete=datetime.datetime(2025, 8, 1, 18, 2, 6, 138521), params={'hidden_size': 16, 'num_layers': 2, 'learning_rate': 1.732989300141742e-05}, user_attrs={}, system_attrs={}, intermediate_values={}, distributions={'hidden_size': IntDistribution(high=128, log=False, low=16, step=1), 'num_layers': IntDistribution(high=5, log=False, low=1, step=1), 'learning_rate': FloatDistribution(high=0.1, log=True, low=1e-05, step=None)}, trial_id=0, value=None)\n",
      "Best hyperparameters: {'hidden_size': 16, 'num_layers': 2, 'learning_rate': 1.732989300141742e-05}\n"
     ]
    }
   ],
   "source": [
    "# Optuna study\n",
    "study = optuna.create_study(direction='minimize')\n",
    "study.optimize(objective, n_trials=10)\n",
    "\n",
    "# Extract best trial\n",
    "best_trial = study.best_trial\n",
    "print(f\"Best trial: {best_trial}\")\n",
    "\n",
    "best_hyperparams = study.best_trial.params\n",
    "print('Best hyperparameters:', best_hyperparams)"
   ]
  },
  {
   "cell_type": "markdown",
   "metadata": {},
   "source": [
    "## Best hyperparameters: {'hidden_size': 105, 'num_layers': 3, 'learning_rate': 0.00043744795844566733}"
   ]
  },
  {
   "cell_type": "code",
   "execution_count": 23,
   "metadata": {},
   "outputs": [
    {
     "name": "stdout",
     "output_type": "stream",
     "text": [
      "SoCLSTM(\n",
      "  (lstm): LSTM(7, 128, num_layers=4, batch_first=True)\n",
      "  (fc): Linear(in_features=128, out_features=1, bias=True)\n",
      ")\n",
      "Trainable parameters: 466561\n"
     ]
    }
   ],
   "source": [
    "# Initialize the model, loss function, and optimizer\n",
    "# hidden_size = best_hyperparams['hidden_size']\n",
    "# num_layers = best_hyperparams['num_layers']\n",
    "# lr = best_hyperparams['learning_rate']\n",
    "\n",
    "EPOCHS = 20\n",
    "\n",
    "model = SoCLSTM(input_size=len(FEATURE_COLS), hidden_size=128, num_layers=4)\n",
    "model.to(device).type(torch.float32)\n",
    "optimizer = optim.Adam(model.parameters(), lr=0.0004374)\n",
    "criterion = nn.MSELoss()\n",
    "\n",
    "print(model)\n",
    "total_params = sum(p.numel() for p in model.parameters())\n",
    "print(f\"Trainable parameters: {total_params}\")"
   ]
  },
  {
   "cell_type": "code",
   "execution_count": 24,
   "metadata": {},
   "outputs": [
    {
     "name": "stderr",
     "output_type": "stream",
     "text": [
      "Epoch: 0/20: 100%|██████████| 1424/1424 [07:24<00:00,  3.20it/s]\n"
     ]
    },
    {
     "name": "stdout",
     "output_type": "stream",
     "text": [
      "Epoch 1/20, Train Loss: 0.0033050788287449433, Validation Loss: 0.0007818132814353351\n",
      "Time taken for epoch: 444.89101243 seconds\n"
     ]
    },
    {
     "name": "stderr",
     "output_type": "stream",
     "text": [
      "Epoch: 1/20: 100%|██████████| 1424/1424 [07:22<00:00,  3.22it/s]\n"
     ]
    },
    {
     "name": "stdout",
     "output_type": "stream",
     "text": [
      "Epoch 2/20, Train Loss: 0.0005805095580000668, Validation Loss: 0.0007146101490972909\n",
      "Time taken for epoch: 442.24722981 seconds\n"
     ]
    },
    {
     "name": "stderr",
     "output_type": "stream",
     "text": [
      "Epoch: 2/20: 100%|██████████| 1424/1424 [07:22<00:00,  3.22it/s]\n"
     ]
    },
    {
     "name": "stdout",
     "output_type": "stream",
     "text": [
      "Epoch 3/20, Train Loss: 0.00049737952926325, Validation Loss: 0.0007482264563134782\n",
      "Time taken for epoch: 442.23010445 seconds\n"
     ]
    },
    {
     "name": "stderr",
     "output_type": "stream",
     "text": [
      "Epoch: 3/20: 100%|██████████| 1424/1424 [07:21<00:00,  3.22it/s]\n"
     ]
    },
    {
     "name": "stdout",
     "output_type": "stream",
     "text": [
      "Epoch 4/20, Train Loss: 0.00044207057988060526, Validation Loss: 0.0006670474244567304\n",
      "Time taken for epoch: 441.73319578 seconds\n"
     ]
    },
    {
     "name": "stderr",
     "output_type": "stream",
     "text": [
      "Epoch: 4/20: 100%|██████████| 1424/1424 [07:21<00:00,  3.22it/s]\n"
     ]
    },
    {
     "name": "stdout",
     "output_type": "stream",
     "text": [
      "Epoch 5/20, Train Loss: 0.00041098317054225904, Validation Loss: 0.0007112838341138062\n",
      "Time taken for epoch: 441.75861478 seconds\n"
     ]
    },
    {
     "name": "stderr",
     "output_type": "stream",
     "text": [
      "Epoch: 5/20: 100%|██████████| 1424/1424 [07:22<00:00,  3.22it/s]\n"
     ]
    },
    {
     "name": "stdout",
     "output_type": "stream",
     "text": [
      "Epoch 6/20, Train Loss: 0.0003813205160062598, Validation Loss: 0.0006172051849425034\n",
      "Time taken for epoch: 442.08135962 seconds\n"
     ]
    },
    {
     "name": "stderr",
     "output_type": "stream",
     "text": [
      "Epoch: 6/20: 100%|██████████| 1424/1424 [07:25<00:00,  3.20it/s]\n"
     ]
    },
    {
     "name": "stdout",
     "output_type": "stream",
     "text": [
      "Epoch 7/20, Train Loss: 0.00034115423311939166, Validation Loss: 0.0005854246930875836\n",
      "Time taken for epoch: 445.40154982 seconds\n"
     ]
    },
    {
     "name": "stderr",
     "output_type": "stream",
     "text": [
      "Epoch: 7/20: 100%|██████████| 1424/1424 [07:21<00:00,  3.22it/s]\n"
     ]
    },
    {
     "name": "stdout",
     "output_type": "stream",
     "text": [
      "Epoch 8/20, Train Loss: 0.0002878349651745226, Validation Loss: 0.0006155891344892263\n",
      "Time taken for epoch: 441.86711836 seconds\n"
     ]
    },
    {
     "name": "stderr",
     "output_type": "stream",
     "text": [
      "Epoch: 8/20: 100%|██████████| 1424/1424 [07:23<00:00,  3.21it/s]\n"
     ]
    },
    {
     "name": "stdout",
     "output_type": "stream",
     "text": [
      "Epoch 9/20, Train Loss: 0.00022976603572153202, Validation Loss: 0.0007727999987551717\n",
      "Time taken for epoch: 443.11442614 seconds\n",
      "Early stopping triggered\n"
     ]
    },
    {
     "name": "stderr",
     "output_type": "stream",
     "text": [
      "Epoch: 9/20: 100%|██████████| 1424/1424 [07:22<00:00,  3.22it/s]\n"
     ]
    },
    {
     "name": "stdout",
     "output_type": "stream",
     "text": [
      "Epoch 10/20, Train Loss: 0.0001760239406547534, Validation Loss: 0.0007674635567410127\n",
      "Time taken for epoch: 442.36767602 seconds\n",
      "Early stopping triggered\n"
     ]
    },
    {
     "name": "stderr",
     "output_type": "stream",
     "text": [
      "Epoch: 10/20: 100%|██████████| 1424/1424 [07:22<00:00,  3.22it/s]\n"
     ]
    },
    {
     "name": "stdout",
     "output_type": "stream",
     "text": [
      "Epoch 11/20, Train Loss: 0.00014871682432886303, Validation Loss: 0.0008206815264921884\n",
      "Time taken for epoch: 442.34330153 seconds\n",
      "Early stopping triggered\n"
     ]
    },
    {
     "name": "stderr",
     "output_type": "stream",
     "text": [
      "Epoch: 11/20: 100%|██████████| 1424/1424 [07:21<00:00,  3.22it/s]\n"
     ]
    },
    {
     "name": "stdout",
     "output_type": "stream",
     "text": [
      "Epoch 12/20, Train Loss: 0.00013011653718524358, Validation Loss: 0.0009312317922550954\n",
      "Time taken for epoch: 441.76340723 seconds\n",
      "Early stopping triggered\n"
     ]
    },
    {
     "name": "stderr",
     "output_type": "stream",
     "text": [
      "Epoch: 12/20: 100%|██████████| 1424/1424 [07:22<00:00,  3.22it/s]\n"
     ]
    },
    {
     "name": "stdout",
     "output_type": "stream",
     "text": [
      "Epoch 13/20, Train Loss: 0.0001149015867892732, Validation Loss: 0.0009073384269800406\n",
      "Time taken for epoch: 442.37254286 seconds\n",
      "Early stopping triggered\n"
     ]
    },
    {
     "name": "stderr",
     "output_type": "stream",
     "text": [
      "Epoch: 13/20: 100%|██████████| 1424/1424 [07:22<00:00,  3.22it/s]\n"
     ]
    },
    {
     "name": "stdout",
     "output_type": "stream",
     "text": [
      "Epoch 14/20, Train Loss: 0.000100081087260079, Validation Loss: 0.0009375774716186689\n",
      "Time taken for epoch: 442.02789664 seconds\n",
      "Early stopping triggered\n"
     ]
    },
    {
     "name": "stderr",
     "output_type": "stream",
     "text": [
      "Epoch: 14/20: 100%|██████████| 1424/1424 [07:21<00:00,  3.23it/s]\n"
     ]
    },
    {
     "name": "stdout",
     "output_type": "stream",
     "text": [
      "Epoch 15/20, Train Loss: 9.024489190778695e-05, Validation Loss: 0.0009092661288393484\n",
      "Time taken for epoch: 441.06277442 seconds\n",
      "Early stopping triggered\n"
     ]
    },
    {
     "name": "stderr",
     "output_type": "stream",
     "text": [
      "Epoch: 15/20: 100%|██████████| 1424/1424 [07:30<00:00,  3.16it/s]\n"
     ]
    },
    {
     "name": "stdout",
     "output_type": "stream",
     "text": [
      "Epoch 16/20, Train Loss: 8.228286087154977e-05, Validation Loss: 0.0008887797129749239\n",
      "Time taken for epoch: 450.39122105 seconds\n",
      "Early stopping triggered\n"
     ]
    },
    {
     "name": "stderr",
     "output_type": "stream",
     "text": [
      "Epoch: 16/20: 100%|██████████| 1424/1424 [07:28<00:00,  3.18it/s]\n"
     ]
    },
    {
     "name": "stdout",
     "output_type": "stream",
     "text": [
      "Epoch 17/20, Train Loss: 7.3403175246711e-05, Validation Loss: 0.0008529342306398573\n",
      "Time taken for epoch: 448.12484312 seconds\n",
      "Early stopping triggered\n"
     ]
    },
    {
     "name": "stderr",
     "output_type": "stream",
     "text": [
      "Epoch: 17/20: 100%|██████████| 1424/1424 [07:26<00:00,  3.19it/s]\n"
     ]
    },
    {
     "name": "stdout",
     "output_type": "stream",
     "text": [
      "Epoch 18/20, Train Loss: 6.45867994024413e-05, Validation Loss: 0.0008533835260156772\n",
      "Time taken for epoch: 446.67081094 seconds\n",
      "Early stopping triggered\n"
     ]
    },
    {
     "name": "stderr",
     "output_type": "stream",
     "text": [
      "Epoch: 18/20: 100%|██████████| 1424/1424 [07:23<00:00,  3.21it/s]\n"
     ]
    },
    {
     "name": "stdout",
     "output_type": "stream",
     "text": [
      "Epoch 19/20, Train Loss: 5.9388058238500585e-05, Validation Loss: 0.0008659292872415805\n",
      "Time taken for epoch: 443.72767043 seconds\n",
      "Early stopping triggered\n"
     ]
    },
    {
     "name": "stderr",
     "output_type": "stream",
     "text": [
      "Epoch: 19/20: 100%|██████████| 1424/1424 [07:23<00:00,  3.21it/s]\n"
     ]
    },
    {
     "name": "stdout",
     "output_type": "stream",
     "text": [
      "Epoch 20/20, Train Loss: 5.400510209828293e-05, Validation Loss: 0.0008679872457315466\n",
      "Time taken for epoch: 443.08295298 seconds\n",
      "Early stopping triggered\n"
     ]
    },
    {
     "data": {
      "image/png": "[encoded data removed]",
      "text/plain": [
       "<Figure size 1000x500 with 1 Axes>"
      ]
     },
     "metadata": {},
     "output_type": "display_data"
    }
   ],
   "source": [
    "# Train and validate the model\n",
    "history = train_and_validate(model, criterion, optimizer, train_loader, val_loader, EPOCHS, device, flag=True)\n",
    "\n",
    "# Plot training history\n",
    "plt.figure(figsize=(10, 5))\n",
    "plt.plot(history['train_loss'], label='Train Loss')\n",
    "plt.plot(history['val_loss'], label='Validation Loss')\n",
    "plt.xlabel('Epoch')\n",
    "plt.ylabel('Loss')\n",
    "plt.title('Training and Validation Loss Over Epochs')\n",
    "plt.legend()\n",
    "plt.grid(True)\n",
    "plt.show()\n",
    "\n",
    "# Save the model\n",
    "model_path = \"soc_lstm_model.pth\"\n",
    "torch.save({'model_state_dict': model.state_dict(), 'input_size': len(FEATURE_COLS)}, model_path)"
   ]
  },
  {
   "cell_type": "code",
   "execution_count": 26,
   "metadata": {},
   "outputs": [],
   "source": [
    "model_path = \"soc_lstm_model.pth\"\n",
    "    \n",
    "def load_lstm_model(model_path, input_size, hidden_size, num_layers):\n",
    "    model = SoCLSTM(input_size=len(FEATURE_COLS), hidden_size=hidden_size, num_layers=num_layers).to(device).type(torch.float32)\n",
    "    model.load_state_dict(torch.load(model_path, map_location=device)['model_state_dict'])\n",
    "    model.to(device)\n",
    "    model.eval()\n",
    "    return model\n",
    "\n",
    "loaded_model = load_lstm_model(model_path, input_size=len(FEATURE_COLS), hidden_size=128, num_layers=4)"
   ]
  },
  {
   "cell_type": "code",
   "execution_count": 27,
   "metadata": {},
   "outputs": [],
   "source": [
    "def test_model(model, test_loader, device):\n",
    "    model.eval()\n",
    "    test_predictions = []\n",
    "    test_labels = []\n",
    "\n",
    "    with torch.no_grad():\n",
    "        for inputs, labels, _, _ in test_loader: \n",
    "            outputs = model(inputs)\n",
    "            test_predictions.extend(outputs.cpu().view(-1).tolist())\n",
    "            test_labels.extend(labels.cpu().view(-1).tolist())\n",
    "\n",
    "    return test_predictions, test_labels\n",
    "\n",
    "# Evaluate the model\n",
    "test_predictions, test_labels = test_model(loaded_model, test_loader, device)\n",
    "\n",
    "# Convert predictions and labels to numpy arrays for error calculation\n",
    "test_predictions_np = np.array(test_predictions)\n",
    "test_labels_np = np.array(test_labels)"
   ]
  },
  {
   "cell_type": "code",
   "execution_count": 28,
   "metadata": {},
   "outputs": [
    {
     "name": "stdout",
     "output_type": "stream",
     "text": [
      "Test MSE: 0.000355\n",
      "Test MAE: 0.011802\n",
      "Test StdDev: 0.018828\n"
     ]
    }
   ],
   "source": [
    "# Calculate metrics MAE, MSE, STD\n",
    "mse = mean_squared_error(test_labels_np, test_predictions_np)\n",
    "mae = mean_absolute_error(test_labels_np, test_predictions_np)\n",
    "stddev = np.std(test_labels_np - test_predictions_np)\n",
    "\n",
    "print(f\"Test MSE: {mse:.6f}\")\n",
    "print(f\"Test MAE: {mae:.6f}\")\n",
    "print(f\"Test StdDev: {stddev:.6f}\")"
   ]
  },
  {
   "cell_type": "code",
   "execution_count": 29,
   "metadata": {},
   "outputs": [
    {
     "data": {
      "image/png": "[encoded data removed]",
      "text/plain": [
       "<Figure size 800x800 with 1 Axes>"
      ]
     },
     "metadata": {},
     "output_type": "display_data"
    }
   ],
   "source": [
    "plt.figure(figsize=(8, 8))\n",
    "plt.scatter(test_labels, test_predictions, alpha=0.5)\n",
    "plt.xlabel('True Values [SOC]')\n",
    "plt.ylabel('Predictions [SOC]')\n",
    "plt.axis('equal')\n",
    "plt.axis('square')\n",
    "plt.xlim([0, 1])\n",
    "plt.ylim([0, 1])\n",
    "plt.plot([0, 1], [0, 1], color='red') \n",
    "plt.title('Predicted SOC vs True SOC')\n",
    "plt.show()"
   ]
  },
  {
   "cell_type": "code",
   "execution_count": 30,
   "metadata": {},
   "outputs": [
    {
     "data": {
      "image/png": "[encoded data removed]",
      "text/plain": [
       "<Figure size 1200x600 with 1 Axes>"
      ]
     },
     "metadata": {},
     "output_type": "display_data"
    },
    {
     "data": {
      "image/png": "[encoded data removed]",
      "text/plain": [
       "<Figure size 1200x600 with 1 Axes>"
      ]
     },
     "metadata": {},
     "output_type": "display_data"
    },
    {
     "data": {
      "image/png": "[encoded data removed]",
      "text/plain": [
       "<Figure size 1200x600 with 1 Axes>"
      ]
     },
     "metadata": {},
     "output_type": "display_data"
    },
    {
     "data": {
      "image/png": "[encoded data removed]",
      "text/plain": [
       "<Figure size 1200x600 with 1 Axes>"
      ]
     },
     "metadata": {},
     "output_type": "display_data"
    },
    {
     "data": {
      "image/png": "[encoded data removed]",
      "text/plain": [
       "<Figure size 1200x600 with 1 Axes>"
      ]
     },
     "metadata": {},
     "output_type": "display_data"
    }
   ],
   "source": [
    "def test_model(model, test_loader, device):\n",
    "    model.eval()\n",
    "    test_results = {}\n",
    "\n",
    "    with torch.no_grad():\n",
    "        for inputs, labels, filenames, times in test_loader: \n",
    "            inputs, labels = inputs.to(device), labels.to(device)\n",
    "            outputs = model(inputs)\n",
    "            predictions = outputs.cpu().view(-1).numpy()\n",
    "            labels = labels.cpu().view(-1).numpy()\n",
    "\n",
    "            for filename, time, pred, label in zip(filenames, times, predictions, labels):\n",
    "                if filename not in test_results:\n",
    "                    test_results[filename] = {'times': [], 'predictions': [], 'labels': []}\n",
    "                test_results[filename]['times'].append(time)\n",
    "                test_results[filename]['predictions'].append(pred)\n",
    "                test_results[filename]['labels'].append(label)\n",
    "\n",
    "    return test_results\n",
    "\n",
    "def plot_soc_over_time(test_results):\n",
    "    for filename, data in test_results.items():\n",
    "        times = data['times']\n",
    "        predictions = data['predictions']\n",
    "        labels = data['labels']\n",
    "\n",
    "        plt.figure(figsize=(12, 6))\n",
    "        plt.plot(times, labels, label='True SOC', color='blue')\n",
    "        plt.plot(times, predictions, label='Predicted SOC', color='red')\n",
    "        plt.title(f'Test File: {filename}')\n",
    "        plt.xlabel('Time [s]')\n",
    "        plt.ylabel('SOC')\n",
    "        plt.legend()\n",
    "        plt.show()\n",
    "\n",
    "# Evaluate the model on the test set\n",
    "test_results = test_model(loaded_model, test_loader, device)\n",
    "\n",
    "# Plot the SOC over time for each test file\n",
    "plot_soc_over_time(test_results)"
   ]
  }
 ],
 "metadata": {
  "kernelspec": {
   "display_name": "Python 3",
   "language": "python",
   "name": "python3"
  },
  "language_info": {
   "codemirror_mode": {
    "name": "ipython",
    "version": 3
   },
   "file_extension": ".py",
   "mimetype": "text/x-python",
   "name": "python",
   "nbconvert_exporter": "python",
   "pygments_lexer": "ipython3",
   "version": "3.9.13"
  }
 },
 "nbformat": 4,
 "nbformat_minor": 2
}
